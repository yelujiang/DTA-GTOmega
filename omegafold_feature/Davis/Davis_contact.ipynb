{
 "cells": [
  {
   "cell_type": "markdown",
   "id": "3cd973f8-15df-4051-83bf-e7e574635c65",
   "metadata": {},
   "source": [
    "# Tag 'Nec' means the necerssary cells"
   ]
  },
  {
   "cell_type": "code",
   "execution_count": 6,
   "id": "3f1767b4-913c-492f-a462-21a851527010",
   "metadata": {},
   "outputs": [],
   "source": [
    "'''\n",
    "Nec\n",
    "'''\n",
    "\n",
    "'''\n",
    "PDB file to Sequence\n",
    "'''\n",
    "code_standard = {\n",
    "    'ALA':'A', 'VAL':'V', 'PHE':'F', 'PRO':'P', 'MET':'M',\n",
    "    'ILE':'I', 'LEU':'L', 'ASP':'D', 'GLU':'E', 'LYS':'K',\n",
    "    'ARG':'R', 'SER':'S', 'THR':'T', 'TYR':'Y', 'HIS':'H',\n",
    "    'CYS':'C', 'ASN':'N', 'GLN':'Q', 'TRP':'W', 'GLY':'G',\n",
    "    #'MSE':'M',\n",
    "    ' DA':'a', ' DC':'c', ' DG':'g', ' DT':'t',\n",
    "    '  A':'a', '  C':'c', '  G':'g', '  T':'u',\n",
    "    }\n",
    "\n",
    "def pdbfile2seq(pdb_path):\n",
    "    lines = open(pdb_path).readlines()\n",
    "    seq = []\n",
    "    n = 0\n",
    "    lastchain = None\n",
    "    for line in lines:\n",
    "        if line[:4]!='ATOM':continue\n",
    "        res_num=line[22:27].strip() # residue sequence number\n",
    "        residue=line[17:20]\n",
    "        res = code_standard.get(residue,'X')\n",
    "        chain = line[21]\n",
    "        if lastchain == None:\n",
    "            lastchain = chain\n",
    "        else:\n",
    "            if chain != lastchain:\n",
    "                break\n",
    "        if res_num == n:\n",
    "            continue\n",
    "        else:\n",
    "            n = res_num\n",
    "            seq.append(res)\n",
    "    sequence = ''.join(seq)\n",
    "    return chain, sequence\n",
    "\n",
    "def readseq(path):\n",
    "    with open(path) as f:\n",
    "        lines = f.read().split('\\n')\n",
    "    return lines[1]"
   ]
  },
  {
   "cell_type": "code",
   "execution_count": 10,
   "id": "5d88b960-156b-4da6-b203-95447290771f",
   "metadata": {},
   "outputs": [
    {
     "data": {
      "text/plain": [
       "'LKMNKLPSNRGNTLREVQLMNRLRHPNILRFMGVCVHQGQLHALTEYMNGGTLEXLLSSPEPLSWPVRLHLALDIARGLRYLHSKGVFHRDLTSKNCLVRREDRGFTAVVGDFGLAEKIPVYREGARKEPLAVVGSPYWMAPEVLRGELYDEKADVFAFGIVLCELIARVPADPDYLPRTEDFGLDVPAFRTLVGDDCPLPFLLLAIHCCNLEPSTRAPFTEITQHLEWILEQLPEPAPLTXTA'"
      ]
     },
     "execution_count": 10,
     "metadata": {},
     "output_type": "execute_result"
    }
   ],
   "source": [
    "import pickle as pkl\n",
    "with open('../../data/Davis/name_to_seq.pkl', 'rb') as f:\n",
    "    name_to_seq = pkl.load(f)\n",
    "name_to_seq['TESK1']"
   ]
  },
  {
   "cell_type": "code",
   "execution_count": 7,
   "id": "f12ca812-891a-485c-a9c4-42dfe146f820",
   "metadata": {},
   "outputs": [
    {
     "data": {
      "text/plain": [
       "('LKMNKLPSNRGNTLREVQLMNRLRHPNILRFMGVCVHQGQLHALTEYMNGGTLELLSSPEPLSWPVRLHLALDIARGLRYLHSKGVFHRDLTSKNCLVRREDRGFTAVVGDFGLAEKIPVYREGARKEPLAVVGSPYWMAPEVLRGELYDEKADVFAFGIVLCELIARVPADPDYLPRTEDFGLDVPAFRTLVGDDCPLPFLLLAIHCCNLEPSTRAPFTEITQHLEWILEQLPEPAPLTTA',\n",
       " 'LKMNKLPSNRGNTLREVQLMNRLRHPNILRFMGVCVHQGQLHALTEYMNGGTLEXLLSSPEPLSWPVRLHLALDIARGLRYLHSKGVFHRDLTSKNCLVRREDRGFTAVVGDFGLAEKIPVYREGARKEPLAVVGSPYWMAPEVLRGELYDEKADVFAFGIVLCELIARVPADPDYLPRTEDFGLDVPAFRTLVGDDCPLPFLLLAIHCCNLEPSTRAPFTEITQHLEWILEQLPEPAPLTXTA')"
      ]
     },
     "execution_count": 7,
     "metadata": {},
     "output_type": "execute_result"
    }
   ],
   "source": [
    "pdb_seq, seq"
   ]
  },
  {
   "cell_type": "code",
   "execution_count": 11,
   "id": "3d01b0e9-5d69-4f29-b7b3-ce4cd35853a3",
   "metadata": {},
   "outputs": [
    {
     "name": "stdout",
     "output_type": "stream",
     "text": [
      "done\n",
      "['TESK1.seq']\n"
     ]
    }
   ],
   "source": [
    "# Check Sequences\n",
    "import os\n",
    "unmatched = []\n",
    "for f in os.listdir('cut_seqs'):\n",
    "    # print(f)\n",
    "    if f[-3:] != 'seq':continue\n",
    "    seq = readseq('cut_seqs/'+f)\n",
    "    pdb_seq = pdbfile2seq('pdbs/'+f[:-4]+'.pdb')[1]\n",
    "    if seq != pdb_seq:\n",
    "        unmatched.append(f)\n",
    "print('done')\n",
    "print(unmatched)\n",
    "\n",
    "'''There are 2 X residues in TESK1.seq which are not supported in OmegaFold'''"
   ]
  },
  {
   "cell_type": "markdown",
   "id": "76331be6-1586-4bc7-a289-46febe4abd1d",
   "metadata": {},
   "source": [
    "## New Map From Bio"
   ]
  },
  {
   "cell_type": "code",
   "execution_count": 15,
   "id": "d9fcfdd9-2a7e-4313-bdef-03a605c0d782",
   "metadata": {},
   "outputs": [
    {
     "data": {
      "text/plain": [
       "((244, 384), (244, 244, 128), 242)"
      ]
     },
     "execution_count": 15,
     "metadata": {},
     "output_type": "execute_result"
    }
   ],
   "source": [
    "# seq, len(seq)\n",
    "import pickle as pkl\n",
    "with open('omega/TESK1.pkl','rb') as f:\n",
    "    o = pkl.load(f)\n",
    "o['struct_node'].shape, o['struct_edge'].shape, len('LKMNKLPSNRGNTLREVQLMNRLRHPNILRFMGVCVHQGQLHALTEYMNGGTLELLSSPEPLSWPVRLHLALDIARGLRYLHSKGVFHRDLTSKNCLVRREDRGFTAVVGDFGLAEKIPVYREGARKEPLAVVGSPYWMAPEVLRGELYDEKADVFAFGIVLCELIARVPADPDYLPRTEDFGLDVPAFRTLVGDDCPLPFLLLAIHCCNLEPSTRAPFTEITQHLEWILEQLPEPAPLTTA')"
   ]
  },
  {
   "cell_type": "code",
   "execution_count": 11,
   "id": "1530bdb6-42e2-4d8e-a56f-8d64ab8bc842",
   "metadata": {},
   "outputs": [],
   "source": [
    "'''\n",
    "Nec\n",
    "'''\n",
    "def calc_residue_dist(residue_one, residue_two) :\n",
    "    \"\"\"Returns the C-alpha distance between two residues\"\"\"\n",
    "    diff_vector  = residue_one[\"CA\"].coord - residue_two[\"CA\"].coord\n",
    "    return numpy.sqrt(numpy.sum(diff_vector * diff_vector))\n",
    "\n",
    "def calc_dist_matrix(chain_one, chain_two) :\n",
    "    \"\"\"Returns a matrix of C-alpha distances between two chains\"\"\"\n",
    "    answer = numpy.zeros((len(chain_one), len(chain_two)), numpy.float64)\n",
    "    for row, residue_one in enumerate(chain_one) :\n",
    "        for col, residue_two in enumerate(chain_two) :\n",
    "            answer[row, col] = calc_residue_dist(residue_one, residue_two)\n",
    "    return answer"
   ]
  },
  {
   "cell_type": "code",
   "execution_count": 4,
   "id": "d2baea16-d237-42f3-9a57-13cbbd0e1335",
   "metadata": {},
   "outputs": [],
   "source": [
    "import Bio.PDB\n",
    "import numpy\n",
    "import os\n",
    "pdb_code = \"1XI4\"\n",
    "pdb_filename = \"1XI4.pdb\" #not the full cage!"
   ]
  },
  {
   "cell_type": "code",
   "execution_count": 38,
   "id": "9d8827d7-62ac-42b3-ac00-22f7afbf5cd9",
   "metadata": {},
   "outputs": [],
   "source": [
    "saved = []"
   ]
  },
  {
   "cell_type": "code",
   "execution_count": 39,
   "id": "c3e0813c-1ad0-4b69-b1eb-826b2f8b4086",
   "metadata": {},
   "outputs": [
    {
     "name": "stderr",
     "output_type": "stream",
     "text": [
      "100%|██████████| 523/523 [21:19<00:00,  2.45s/it]"
     ]
    },
    {
     "name": "stdout",
     "output_type": "stream",
     "text": [
      "done\n"
     ]
    },
    {
     "name": "stderr",
     "output_type": "stream",
     "text": [
      "\n"
     ]
    }
   ],
   "source": [
    "'''\n",
    "Nec\n",
    "'''\n",
    "from tqdm import tqdm\n",
    "for pdb in tqdm(os.listdir('pdbs/')):\n",
    "    if pdb[-3:] != 'pdb':continue\n",
    "    # path = 'pdbs/' + pdb\n",
    "    # con = pcmap.contactMap(path)\n",
    "    # contact_list = con['data']\n",
    "    # map_size = len(contact_list)\n",
    "    name = pdb[:-4]\n",
    "    if name in saved:\n",
    "        continue\n",
    "    pdb_code = name\n",
    "    pdb_filename = 'pdbs/' + pdb\n",
    "    structure = Bio.PDB.PDBParser().get_structure(pdb_code, pdb_filename)\n",
    "    model = structure[0]\n",
    "    dist_matrix = calc_dist_matrix(model[\"A\"], model[\"A\"])\n",
    "    contact_map = dist_matrix < 5.0\n",
    "    if name == 'TESK1':\n",
    "        temp = numpy.zeros((244,244))\n",
    "        temp[:54, :54] = contact_map[:54, :54]\n",
    "        temp[:54, 55:-3] = contact_map[:54, 54:-2]\n",
    "        temp[:54, -2:] = contact_map[:54, -2:]\n",
    "        \n",
    "        temp[55:-3, :54] = contact_map[54:-2, :54]\n",
    "        temp[55:-3, 55:-3] = contact_map[54:-2, 54:-2]\n",
    "        temp[55:-3, -2:] = contact_map[54:-2, -2:]\n",
    "        \n",
    "        temp[-2:, :54] = contact_map[-2:, :54]\n",
    "        temp[-2:, 55:-3] = contact_map[-2:, 54:-2]\n",
    "        temp[-2:, -2:] = contact_map[-2:, -2:]\n",
    "        contact_map = temp\n",
    "    assert contact_map.shape[0] == contact_map.shape[1] == len(readseq('cut_seqs/'+name+'.seq')), name\n",
    "    saved.append(name)\n",
    "    numpy.save('pdb_contact_map/'+name+'.npy', contact_map)\n",
    "print('done')"
   ]
  },
  {
   "cell_type": "code",
   "execution_count": 26,
   "id": "beaeb4da-f7e3-4702-babf-ee9c073ffe5d",
   "metadata": {},
   "outputs": [
    {
     "data": {
      "text/plain": [
       "(array([[ True,  True,  True, ..., False, False, False],\n",
       "        [ True,  True,  True, ..., False, False, False],\n",
       "        [ True,  True,  True, ..., False, False, False],\n",
       "        ...,\n",
       "        [False, False, False, ...,  True,  True,  True],\n",
       "        [False, False, False, ...,  True,  True,  True],\n",
       "        [False, False, False, ...,  True,  True,  True]]),\n",
       " (244, 384),\n",
       " (244, 244, 128),\n",
       " 54,\n",
       " 'LKMNKLPSNRGNTLREVQLMNRLRHPNILRFMGVCVHQGQLHALTEYMNGGTLEXLLSSPEPLSWPVRLHLALDIARGLRYLHSKGVFHRDLTSKNCLVRREDRGFTAVVGDFGLAEKIPVYREGARKEPLAVVGSPYWMAPEVLRGELYDEKADVFAFGIVLCELIARVPADPDYLPRTEDFGLDVPAFRTLVGDDCPLPFLLLAIHCCNLEPSTRAPFTEITQHLEWILEQLPEPAPLTXTA')"
      ]
     },
     "execution_count": 26,
     "metadata": {},
     "output_type": "execute_result"
    }
   ],
   "source": [
    "import pickle as pkl\n",
    "with open('omega_2/TESK1.pkl','rb') as f:\n",
    "    o = pkl.load(f)\n",
    "seq = readseq('cut_seqs/'+name+'.seq')\n",
    "contact_map, o['struct_node'].shape, o['struct_edge'].shape, seq.index('X'), seq"
   ]
  },
  {
   "cell_type": "code",
   "execution_count": 40,
   "id": "039abc97-a224-4f02-9802-d9d93d4de26a",
   "metadata": {},
   "outputs": [
    {
     "data": {
      "text/plain": [
       "(2734, 2)"
      ]
     },
     "execution_count": 40,
     "metadata": {},
     "output_type": "execute_result"
    }
   ],
   "source": [
    "numpy.argwhere(contact_map>0).shape"
   ]
  }
 ],
 "metadata": {
  "kernelspec": {
   "display_name": "xie_torch37",
   "language": "python",
   "name": "xie_torch37"
  },
  "language_info": {
   "codemirror_mode": {
    "name": "ipython",
    "version": 3
   },
   "file_extension": ".py",
   "mimetype": "text/x-python",
   "name": "python",
   "nbconvert_exporter": "python",
   "pygments_lexer": "ipython3",
   "version": "3.7.16"
  }
 },
 "nbformat": 4,
 "nbformat_minor": 5
}
