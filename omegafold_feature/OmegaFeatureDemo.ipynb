{
 "cells": [
  {
   "cell_type": "markdown",
   "id": "e61c706d-0855-4581-af89-09015a732c24",
   "metadata": {},
   "source": [
    "# Load Libarary"
   ]
  },
  {
   "cell_type": "code",
   "execution_count": 6,
   "id": "62e64641-b5e4-4798-99ee-9f3f56a3b337",
   "metadata": {},
   "outputs": [
    {
     "name": "stdout",
     "output_type": "stream",
     "text": [
      "1\n"
     ]
    }
   ],
   "source": [
    "from main_c import main, getTrainedModel\n",
    "import os\n",
    "from tqdm import tqdm\n",
    "from pdb2fasta import pdb2fasta\n",
    "import pickle as pkl\n",
    "import pipeline\n",
    "print(1)"
   ]
  },
  {
   "cell_type": "code",
   "execution_count": 3,
   "id": "7fe0dac1-5771-4db4-8c19-2464fba6282c",
   "metadata": {},
   "outputs": [
    {
     "name": "stdout",
     "output_type": "stream",
     "text": [
      "1\n"
     ]
    }
   ],
   "source": [
    "import pandas as pd\n",
    "dti_train = pd.read_csv('~/Pandeng/PD/data/Davis/split_data/train.csv')\n",
    "dti_val = pd.read_csv('~/Pandeng/PD/data/Davis/split_data/test.csv')\n",
    "dti_test = pd.read_csv('~/Pandeng/PD/data/Davis/split_data/valid.csv')\n",
    "\n",
    "all_proteins = pd.read_csv('~/Pandeng/PD/data/Davis/all_proteins.csv')\n",
    "print(1)"
   ]
  },
  {
   "cell_type": "code",
   "execution_count": 14,
   "id": "2f350bff-1c2f-43e7-8f60-434d8f2aa0c3",
   "metadata": {},
   "outputs": [
    {
     "data": {
      "text/html": [
       "<div>\n",
       "<style scoped>\n",
       "    .dataframe tbody tr th:only-of-type {\n",
       "        vertical-align: middle;\n",
       "    }\n",
       "\n",
       "    .dataframe tbody tr th {\n",
       "        vertical-align: top;\n",
       "    }\n",
       "\n",
       "    .dataframe thead th {\n",
       "        text-align: right;\n",
       "    }\n",
       "</style>\n",
       "<table border=\"1\" class=\"dataframe\">\n",
       "  <thead>\n",
       "    <tr style=\"text-align: right;\">\n",
       "      <th></th>\n",
       "      <th>name</th>\n",
       "      <th>sequence</th>\n",
       "    </tr>\n",
       "  </thead>\n",
       "  <tbody>\n",
       "    <tr>\n",
       "      <th>0</th>\n",
       "      <td>AAK1</td>\n",
       "      <td>MKKFFDSRREQGGSGLGSGSSGGGGSTSGLGSGYIGRVFGIGRQQV...</td>\n",
       "    </tr>\n",
       "    <tr>\n",
       "      <th>1</th>\n",
       "      <td>ABL2</td>\n",
       "      <td>MVLGTVLLPPNSYGRDQDTSLCCLCTEASESALPDLTDHFASCVED...</td>\n",
       "    </tr>\n",
       "    <tr>\n",
       "      <th>2</th>\n",
       "      <td>ACVR1</td>\n",
       "      <td>MVDGVMILPVLIMIALPSPSMEDEKPKVNPKLYMCVCEGLSCGNED...</td>\n",
       "    </tr>\n",
       "    <tr>\n",
       "      <th>3</th>\n",
       "      <td>ACVR1B</td>\n",
       "      <td>MAESAGASSFFPLVVLLLAGSGGSGPRGVQALLCACTSCLQANYTC...</td>\n",
       "    </tr>\n",
       "    <tr>\n",
       "      <th>4</th>\n",
       "      <td>ACVR2A</td>\n",
       "      <td>MGAAAKLAFAVFLISCSSGAILGRSETQECLFFNANWEKDRTNQTG...</td>\n",
       "    </tr>\n",
       "    <tr>\n",
       "      <th>...</th>\n",
       "      <td>...</td>\n",
       "      <td>...</td>\n",
       "    </tr>\n",
       "    <tr>\n",
       "      <th>356</th>\n",
       "      <td>PRKG2</td>\n",
       "      <td>MGNGSVKPKHSKHPDGHSGNLTTDALRNKVTELERELRRKDAEIQE...</td>\n",
       "    </tr>\n",
       "    <tr>\n",
       "      <th>357</th>\n",
       "      <td>PRKR</td>\n",
       "      <td>MAGDLSAGFFMEELNTYRQKQGVVLKYQELPNSGPPHDRRFTFQVI...</td>\n",
       "    </tr>\n",
       "    <tr>\n",
       "      <th>358</th>\n",
       "      <td>PRKX</td>\n",
       "      <td>MEAPGLAQAAAAESDSRKVAEETPDGAPALCPSPEALSPEPPVYSL...</td>\n",
       "    </tr>\n",
       "    <tr>\n",
       "      <th>359</th>\n",
       "      <td>PRP4</td>\n",
       "      <td>MAAAETQSLREQPEMEDANSEKSINEENGEVSEDQSQNKHSRHKKK...</td>\n",
       "    </tr>\n",
       "    <tr>\n",
       "      <th>360</th>\n",
       "      <td>PYK2</td>\n",
       "      <td>MSGVSEPLSRVKLGTLRRPEGPAEPMVVVPVDVEKEDVRILKVCFY...</td>\n",
       "    </tr>\n",
       "  </tbody>\n",
       "</table>\n",
       "<p>361 rows × 2 columns</p>\n",
       "</div>"
      ],
      "text/plain": [
       "       name                                           sequence\n",
       "0      AAK1  MKKFFDSRREQGGSGLGSGSSGGGGSTSGLGSGYIGRVFGIGRQQV...\n",
       "1      ABL2  MVLGTVLLPPNSYGRDQDTSLCCLCTEASESALPDLTDHFASCVED...\n",
       "2     ACVR1  MVDGVMILPVLIMIALPSPSMEDEKPKVNPKLYMCVCEGLSCGNED...\n",
       "3    ACVR1B  MAESAGASSFFPLVVLLLAGSGGSGPRGVQALLCACTSCLQANYTC...\n",
       "4    ACVR2A  MGAAAKLAFAVFLISCSSGAILGRSETQECLFFNANWEKDRTNQTG...\n",
       "..      ...                                                ...\n",
       "356   PRKG2  MGNGSVKPKHSKHPDGHSGNLTTDALRNKVTELERELRRKDAEIQE...\n",
       "357    PRKR  MAGDLSAGFFMEELNTYRQKQGVVLKYQELPNSGPPHDRRFTFQVI...\n",
       "358    PRKX  MEAPGLAQAAAAESDSRKVAEETPDGAPALCPSPEALSPEPPVYSL...\n",
       "359    PRP4  MAAAETQSLREQPEMEDANSEKSINEENGEVSEDQSQNKHSRHKKK...\n",
       "360    PYK2  MSGVSEPLSRVKLGTLRRPEGPAEPMVVVPVDVEKEDVRILKVCFY...\n",
       "\n",
       "[361 rows x 2 columns]"
      ]
     },
     "execution_count": 14,
     "metadata": {},
     "output_type": "execute_result"
    }
   ],
   "source": [
    "all_proteins"
   ]
  },
  {
   "cell_type": "code",
   "execution_count": null,
   "id": "1a02cc11-a067-49a1-b2ed-464583767808",
   "metadata": {},
   "outputs": [],
   "source": [
    "import pickle as pkl\n",
    "import os\n",
    "import numpy as np\n",
    "with open('Davis/name_to_seq.pkl', 'rb') as f:\n",
    "    name_to_seq = pkl.load(f)"
   ]
  },
  {
   "cell_type": "markdown",
   "id": "9bcb7b31-b61f-4028-8bc7-5475007f507f",
   "metadata": {},
   "source": [
    "# Max Sequence Cutoff, For Cuda Memory\n",
    "# We use Tesla V100, the max Sequence length is 800~1000"
   ]
  },
  {
   "cell_type": "code",
   "execution_count": 7,
   "id": "df31602f-76e4-4fac-b38f-9426a6ef40de",
   "metadata": {},
   "outputs": [
    {
     "name": "stdout",
     "output_type": "stream",
     "text": [
      "done\n"
     ]
    }
   ],
   "source": [
    "# seq, name = all_proteins['sequence'], all_proteins['name']\n",
    "names = name_to_seq.keys()\n",
    "seqs = name_to_seq.values()\n",
    "from tqdm import tqdm\n",
    "save = './Davis/cut_seqs/'\n",
    "# l = []\n",
    "# for i in tqdm(range(len(seqs))):\n",
    "for n in names:\n",
    "    s = name_to_seq[n]\n",
    "    # n = names[i]\n",
    "    path = save + n + '.seq'\n",
    "    if len(s) < 801:\n",
    "        with open(path, 'w') as f:\n",
    "            f.write(f'>{n}\\n')\n",
    "            f.write(s)\n",
    "    else:\n",
    "        s_list = [s[i:i+800] for i in range(0, len(s), 800)]\n",
    "        assert s == ''.join(s_list)\n",
    "        for j in range(len(s_list)):\n",
    "            path = save + n + f'_{j}.seq'\n",
    "            with open(path, 'w') as f:\n",
    "                f.write(f'>{n}_{j}\\n')\n",
    "                f.write(s_list[j])\n",
    "print('done')"
   ]
  },
  {
   "cell_type": "markdown",
   "id": "e464cec0-fd88-49f4-99d6-3b2f398fdd50",
   "metadata": {},
   "source": [
    "# Feature Generation"
   ]
  },
  {
   "cell_type": "code",
   "execution_count": 8,
   "id": "04f6f0fc-d5cb-44c1-99f4-c0e6bb7613e8",
   "metadata": {},
   "outputs": [
    {
     "name": "stderr",
     "output_type": "stream",
     "text": [
      "  0%|          | 0/522 [00:00<?, ?it/s]"
     ]
    },
    {
     "name": "stdout",
     "output_type": "stream",
     "text": [
      "FLT3_0.seq\n",
      "INFO:root:Loading weights from ./pretrained_model/model.pt\n",
      "INFO:root:Constructing OmegaFold\n",
      "INFO:root:Reading ./Davis/cut_seqs/FLT3_0.seq\n",
      "MPALARDGGQLPLLVVFSAMIFGTITNQDLPVIKCVLINHKNNDSSVGKSSSYPMVSESPEDLGCALRPQSSGTVYEAAAVEVDVSASITLQVLVDAPGNISCLWVFKHSSLNCQPHFDLQNRGVVSMVILKMTETQAGEYLLFIQSEATNYTILFTVSIRNTLLYTLRRPYFRKMENQDALVCISESVPEPIVEWVLCDSQGESCKEESPAVVKKEEKVLHELFGTDIRCCARNELGRECTRLFTIDLNQTPQTTLPQLFLKVGEPLWIRCKAVHVNHGFGLTWELENKALEEGNYFEMSTYSTNRTMIRILFAFVSSVARNDTGYYTCSSSKHPSQSALVTIVEKGFINATNSSEDYEIDQYEEFCFSVRFKAYPQIRCTWTFSRKSFPCEQKGLDNGYSISKFCNHKHQPGEYIFHAENDDAQFTKMFTLNIRRKPQVLAEASASQASCFSDGYPLPSWTWKKCSDKSPNCTEEITEGVWNRKANRKVFGQWVSSSTLNMSEAIKGFLVKCCAYNSLGTSCETILLNSPGPFPFIQDNISFYATIGVCLLFIVVLTLLICHKYKKQFRYESQLQMVQVTGSSDNEYFYVDFREYEYDLKWEFPRENLEFGKVLGSGAFGKVMNATAYGISKTGVSIQVAVKMLKEKADSSEREALMSELKMMTQLGSHENIVNLLGACTLSGPIYLIFEYCCYGDLLNYLRSKREKFHRTWTEIFKEHNFSFYPTFQSHPNSSMPGSREVQIHPDSDQISGLHGNSFHSEDEIEYENQKRLEEEEDLNVLTFEDLLCFAYQVAKGME\n",
      "INFO:root:Predicting 1th chain in ./Davis/cut_seqs/FLT3_0.seq\n",
      "INFO:root:800 residues in this chain.\n",
      "INFO:root:Finished prediction in 58.15 seconds.\n",
      "INFO:root:Saving prediction to ./Davis/omega_2/FLT3_0.pdb\n",
      "INFO:root:Saved\n",
      "INFO:root:Done!\n"
     ]
    },
    {
     "name": "stderr",
     "output_type": "stream",
     "text": [
      "  0%|          | 1/522 [01:13<10:38:06, 73.49s/it]"
     ]
    },
    {
     "name": "stdout",
     "output_type": "stream",
     "text": [
      "TRKC_0.seq\n",
      "INFO:root:Reading ./Davis/cut_seqs/TRKC_0.seq\n",
      "MDVSLCPAKCSFWRIFLLGSVWLDYVGSVLACPANCVCSKTEINCRRPDDGNLFPLLEGQDSGNSNGNASINITDISRNITSIHIENWRSLHTLNAVDMELYTGLQKLTIKNSGLRSIQPRAFAKNPHLRYINLSSNRLTTLSWQLFQTLSLRELQLEQNFFNCSCDIRWMQLWQEQGEAKLNSQNLYCINADGSQLPLFRMNISQCDLPEISVSHVNLTVREGDNAVITCNGSGSPLPDVDWIVTGLQSINTHQTNLNWTNVHAINLTLVNVTSEDNGFTLTCIAENVVGMSNASVALTVYYPPRVVSLEEPELRLEHCIEFVVRGNPPPTLHWLHNGQPLRESKIIHVEYYQEGEISEGCLLFNKPTHYNNGNYTLIAKNPLGTANQTINGHFLKEPFPESTDNFILFDEVSPTPPITVTHKPEEDTFGVSIAVGLAAFACVLLVVLFVMINKYGRRSKFGMKGPVAVISGEEDSASPLHHINHGITTPSSLDAGPDTVVIGMTRIPVIENPQYFRQGHNCHKPDTYVQHIKRRDIVLKRELGEGAFGKVFLAECYNLSPTKDKMLVAVKALKDPTLAARKDFQREAELLTNLQHEHIVKFYGVCGDGDPLIMVFEYMKHGDLNKFLRAHGPDAMILVDGQPRQAKGELGLSQMLHIASQIASGMVYLASQHFVHRDLATRNCLVGANLLVKIGDFGMSRDVYSTDYYRLFNPSGNDFCIWCEVGGHTMLPIRWMPPESIMYRKFTTESDVWSFGVILWEIFTYGKQPWFQLSNTEVIECITQGRVLERPRVCPKEVY\n",
      "INFO:root:Predicting 1th chain in ./Davis/cut_seqs/TRKC_0.seq\n",
      "INFO:root:800 residues in this chain.\n",
      "INFO:root:Finished prediction in 56.99 seconds.\n",
      "INFO:root:Saving prediction to ./Davis/omega_2/TRKC_0.pdb\n",
      "INFO:root:Saved\n",
      "INFO:root:Done!\n"
     ]
    },
    {
     "name": "stderr",
     "output_type": "stream",
     "text": [
      "  0%|          | 2/522 [02:11<9:17:19, 64.31s/it] "
     ]
    },
    {
     "name": "stdout",
     "output_type": "stream",
     "text": [
      "EPHA6.seq\n",
      "INFO:root:Reading ./Davis/cut_seqs/EPHA6.seq\n",
      "MQFPSPPAARSSPAPQAASSSEAAAPATGQPGPSCPVPGTSRRGRPGTPPAGRVEEEEEEEEEDVDKDPHPTQNTCLRCRHFSLRERKREPRRTMGGCEVREFLLQFGFFLPLLTAWPGDCSHVSNNQVVLLDTTTVLGELGWKTYPLNGWDAITEMDEYNRPIHTYQVCNVMEPNQNNWLRTNWISRDAAQKIYVEMKFTLRDCNSIPWVLGTCKETFNLFYMESDESHGIKFKPNQYTKIDTIAADESFTQMDLGDRILKLNTEIREVGPIERKGFYLAFQDIGACIALVSVRVFYKKCPFTVRNLAMFPDTIPRVDSSSLVEVRGSCVKSAEERDTPKLYCGADGDWLVPLGRCICSTGYEEIEGSCHACRPGFYKAFAGNTKCSKCPPHSLTYMEATSVCQCEKGYFRAEKDPPSMACTRPPSAPRNVVFNINETALILEWSPPSDTGGRKDLTYSVICKKCGLDTSQCEDCGGGLRFIPRHTGLINNSVIVLDFVSHVNYTFEIEAMNGVSELSFSPKPFTAITVTTDQDGKFHCCSLKTDP\n",
      "INFO:root:Predicting 1th chain in ./Davis/cut_seqs/EPHA6.seq\n",
      "INFO:root:547 residues in this chain.\n",
      "INFO:root:Finished prediction in 23.71 seconds.\n",
      "INFO:root:Saving prediction to ./Davis/omega_2/EPHA6.pdb\n",
      "INFO:root:Saved\n",
      "INFO:root:Done!\n"
     ]
    },
    {
     "name": "stderr",
     "output_type": "stream",
     "text": [
      "  1%|          | 3/522 [02:35<6:38:05, 46.02s/it]"
     ]
    },
    {
     "name": "stdout",
     "output_type": "stream",
     "text": [
      "LRRK2_0.seq\n",
      "INFO:root:Reading ./Davis/cut_seqs/LRRK2_0.seq\n",
      "MASGSCQGCEEDEETLKKLIVRLNNVQEGKQIETLVQILEDLLVFTYSERASKLFQGKNIHVPLLIVLDSYMRVASVQQVGWSLLCKLIEVCPGTMQSLMGPQDVGNDWEVLGVHQLILKMLTVHNASVNLSVIGLKTLDLLLTSGKITLLILDEESDIFMLIFDAMHSFPANDEVQKLGCKALHVLFERVSEEQLTEFVENKDYMILLSALTNFKDEEEIVLHVLHCLHSLAIPCNNVEVLMSGNVRCYNIVVEAMKAFPMSERIQEVSCCLLHRLTLGNFFNILVLNEVHEFVVKAVQQYPENAALQISALSCLALLTETIFLNQDLEEKNENQENDDEGEEDKLFWLEACYKALTWHRKNKHVQEAACWALNNLLMYQNSLHEKIGDEDGHFPAHREVMLSMLMHSSSKEVFQASANALSTLLEQNVNFRKILLSKGIHLNVLELMQKHIHSPEVAESGCKMLNHLFEGSNTSLDIMAAVVPKILTVMKRHETSLPVQLEALRAILHFIVPGMPEESREDTEFHHKLNMVKKQCFKNDIHKLVLAALNRFIGNPGIQKCGLKVISSIVHFPDALEMLSLEGAMDSVLHTLQMYPDDQEIQCLGLSLIGYLITKKNVFIGTGHLLAKILVSSLYRFKDVAEIQTKGFQTILAILKLSASFSKLLVHHSFDLVIFHQMSSNIMEQKDQQFLNLCCKCFAKVAMDDYLKNVMLERACDQNNSIMVECLLLLGADANQAKEGSSLICQVCEKESSPKLVELLLNSGSREQDVRKALTISIGKGDSQIISLLLRRLALDVAN\n",
      "INFO:root:Predicting 1th chain in ./Davis/cut_seqs/LRRK2_0.seq\n",
      "INFO:root:800 residues in this chain.\n",
      "INFO:root:Finished prediction in 57.00 seconds.\n",
      "INFO:root:Saving prediction to ./Davis/omega_2/LRRK2_0.pdb\n",
      "INFO:root:Saved\n",
      "INFO:root:Done!\n"
     ]
    },
    {
     "name": "stderr",
     "output_type": "stream",
     "text": [
      "  1%|          | 4/522 [03:33<7:17:41, 50.70s/it]"
     ]
    },
    {
     "name": "stdout",
     "output_type": "stream",
     "text": [
      "TEC.seq\n",
      "INFO:root:Reading ./Davis/cut_seqs/TEC.seq\n",
      "MNFNTILEEILIKRSQQKKKTSPLNYKERLFVLTKSMLTYYEGRAEKKYRKGFIDVSKIKCVEIVKNDDGVIPCQNKYPFQVVHDANTLYIFAPSPQSRDLWVKKLKEEIKNNNNIMIKYHPKFWTDGSYQCCRQTEKLAPGCEKYNLFESSIRKALPPAPETKKRRPPPPIPLEEEDNSEEIVVAMYDFQAAEGHDLRLERGQEYLILEKNDVHWWRARDKYGNEGYIPSNYVTGKKSNNLDQYEWYCRNMNRSKAEQLLRSEDKEGGFMVRDSSQPGLYTVSLYTKFGGEGSSGFRHYHIKETTTSPKKYYLAEKHAFGSIPEIIEYHKHNAAGLVTRLRYPVSVKGKNAPTTAGFSYEKWEINPSELTFMRELGSGLFGVVRLGKWRAQYKVAIKAIREGAMCEEDFIEEAKVMMKLTHPKLVQLYGVCTQQKPIYIVTEFMERGCLLNFLRQRQGHFSRDVLLSMCQDVCEGMEYLERNSFIHRDLAARNCLVSEAGVVKVSDFGMARYVLDDQYTSSSGAKFPVKWCPPEVFNYSRFSSKSDVWSFGVLMWEVFTEGRMPFEKYTNYEVVTMVTRGHRLYQPKLASNYVYEVMLRCWQEKPEGRPSFEDLLRTIDELVECEETFGR\n",
      "INFO:root:Predicting 1th chain in ./Davis/cut_seqs/TEC.seq\n",
      "INFO:root:631 residues in this chain.\n",
      "INFO:root:Finished prediction in 33.57 seconds.\n",
      "INFO:root:Saving prediction to ./Davis/omega_2/TEC.pdb\n",
      "INFO:root:Saved\n",
      "INFO:root:Done!\n"
     ]
    },
    {
     "name": "stderr",
     "output_type": "stream",
     "text": [
      "  1%|          | 5/522 [04:07<6:25:35, 44.75s/it]"
     ]
    },
    {
     "name": "stdout",
     "output_type": "stream",
     "text": [
      "CASK_0.seq\n",
      "INFO:root:Reading ./Davis/cut_seqs/CASK_0.seq\n",
      "MADDDVLFEDVYELCEVIGKGPFSVVRRCINRETGQQFAVKIVDVAKFTSSPGLSTEDLKREASICHMLKHPHIVELLETYSSDGMLYMVFEFMDGADLCFEIVKRADAGFVYSEAVASHYMRQILEALRYCHDNNIIHRDVKPHCVLLASKENSAPVKLGGFGVAIQLGESGLVAGGRVGTPHFMAPEVVKREPYGKPVDVWGCGVILFILLSGCLPFYGTKERLFEGIIKGKYKMNPRQWSHISESAKDLVRRMLMLDPAERITVYEALNHPWLKERDRYAYKIHLPETVEQLRKFNARRKLKGAVLAAVSSHKFNSFYGDPPEELPDFSEDPTSSGLLAAERAVSQVLDSLEEIHALTDCSEKDLDFLHSVFQDQHLHTLLDLYDKINTKSSPQIRNPPSDAVQRAKEVLEEISCYPENNDAKELKRILTQPHFMALLQTHDVVAHEVYSDEALRVTPPPTSPYLNGDSPESANGDMDMENVTRVRLVQFQKNTDEPMGITLKMNELNHCIVARIMHGGMIHRQGTLHVGDEIREINGISVANQTVEQLQKMLREMRGSITFKIVPSYRTQSSSCERDSPSTSRQSPANGHSSTNNSVSDLPSTTQPKGRQIYVRAQFEYDPAKDDLIPCKEAGIRFRVGDIIQIISKDDHNWWQGKLENSKNGTAGLIPSPELQEWRVACIAMEKTKQEQQASCTWFGKKKKQYKDKYLAKHNAVFDQLDLVTYEEVVKLPAFKRKTLVLLGAHGVGRRHIKNTLITKHPDRFAYPIPHTTRPPKKDEENGKNYYFVSHDQMMQDI\n",
      "INFO:root:Predicting 1th chain in ./Davis/cut_seqs/CASK_0.seq\n",
      "INFO:root:800 residues in this chain.\n",
      "INFO:root:Finished prediction in 57.00 seconds.\n",
      "INFO:root:Saving prediction to ./Davis/omega_2/CASK_0.pdb\n",
      "INFO:root:Saved\n",
      "INFO:root:Done!\n"
     ]
    },
    {
     "name": "stderr",
     "output_type": "stream",
     "text": [
      "  1%|          | 6/522 [05:05<7:03:12, 49.21s/it]"
     ]
    },
    {
     "name": "stdout",
     "output_type": "stream",
     "text": [
      "EPHA5_0.seq\n",
      "INFO:root:Reading ./Davis/cut_seqs/EPHA5_0.seq\n",
      "AARDSGTGGGSEKMRGSGPRGAGRRRPPSGGGDTPITPASLAGCYSAPRRAPLWTCLLLCAALRTLLASPSNEVNLLDSRTVMGDLGWIAFPKNGWEEIGEVDENYAPIHTYQVCKVMEQNQNNWLLTSWISNEGASRIFIELKFTLRDCNSLPGGLGTCKETFNMYYFESDDQNGRNIKENQYIKIDTIAADESFTELDLGDRVMKLNTEVRDVGPLSKKGFYLAFQDVGACIALVSVRVYYKKCPSVVRHLAVFPDTITGADSSQLLEVSGSCVNHSVTDEPPKMHCSAEGEWLVPIGKCMCKAGYEEKNGTCQVCRPGFFKASPHIQSCGKCPPHSYTHEEASTSCVCEKDYFRRESDPPTMACTRPPSAPRNAISNVNETSVFLEWIPPADTGGRKDVSYYIACKKCNSHAGVCEECGGHVRYLPRQSGLKNTSVMMVDLLAHTNYTFEIEAVNGVSDLSPGARQYVSVNVTTNQAAPSPVTNVKKGKIAKNSISLSWQEPDRPNGIILEYEIKYFEKDQETSYTIIKSKETTITAEGLKPASVYVFQIRARTAAGYGVFSRRFEFETTPVSVAASSDQSQIPVIAVSVTVGVILLAVVIGVLLSGSCCECGCGRASSLCAVAHPSLIWRCGYSKAKQDPEEEKMHFHNGHIKLPGVRTYIDPHTYEDPNQAVHEFAKEIEASCITIERVIGAGEFGEVCSGRLKLPGKRELPVAIKTLKVGYTEKQRRDFLGEASIMGQFDHPNIIHLEGVVTKSKPVMIVTEYMENGSLDTFLKKNDGQFTVIQLVGMLRGISA\n",
      "INFO:root:Predicting 1th chain in ./Davis/cut_seqs/EPHA5_0.seq\n",
      "INFO:root:800 residues in this chain.\n",
      "INFO:root:Finished prediction in 57.05 seconds.\n",
      "INFO:root:Saving prediction to ./Davis/omega_2/EPHA5_0.pdb\n",
      "INFO:root:Saved\n",
      "INFO:root:Done!\n"
     ]
    },
    {
     "name": "stderr",
     "output_type": "stream",
     "text": [
      "  1%|▏         | 7/522 [06:03<7:27:26, 52.13s/it]"
     ]
    },
    {
     "name": "stdout",
     "output_type": "stream",
     "text": [
      "MAST1_0.seq\n",
      "INFO:root:Reading ./Davis/cut_seqs/MAST1_0.seq\n",
      "MSDSLWTALSNFSMPSFPGGSMFRRTKSCRTSNRKSLILTSTSPTLPRPHSPLPGHLGSSPLDSPRNFSPNTPAHFSFASSRRADGRRWSLASLPSSGYGTNTPSSTVSSSCSSQERLHQLPYQPTVDELHFLSKHFGSTESITDEDGGRRSPAVRPRSRSLSPGRSPSSYDNEIVMMNHVYKERFPKATAQMEEKLRDFTRAYEPDSVLPLADGVLSFIHHQIIELARDCLTKSRDGLITTVYFYELQENLEKLLQDAYERSESLEVAFVTQLVKKLLIIISRPARLLECLEFNPEEFYHLLEAAEGHAKEGHLVKTDIPRYIIRQLGLTRDPFPDVVHLEEQDSGGSNTPEQDDLSEGRSSKAKKPPGENDFDTIKLISNGAYGAVYLVRHRDTRQRFAMKKINKQNLILRNQIQQAFVERDILTFAENPFVVGMFCSFETRRHLCMVMEYVEGGDCATLLKNIGALPVEMARMYFAETVLALEYLHNYGIVHRDLKPDNLLITSMGHIKLTDFGLSKMGLMSLTTNLYEGHIEKDAREFLDKQVCGTPEYIAPEVILRQGYGKPVDWWAMGIILYEFLVGCVPFFGDTPEELFGQVISDDILWPEGDEALPTEAQLLISSLLQTNPLVRLGAGGAFEVKQHSFFRDLDWTGLLRQKAEFIPHLESEDDTSYFDTRSDRYHHVNSYDEDDTTEEEPVEIRQFSSCSPRFSKVYSSMEQLSQHEPKTPVAAAGSSKREPSTKGPEEKVAGKREGLGGLTLREKTWRGGSPEIKRFSASEASFLEGEASPPLGARRRFSA\n",
      "INFO:root:Predicting 1th chain in ./Davis/cut_seqs/MAST1_0.seq\n",
      "INFO:root:800 residues in this chain.\n",
      "INFO:root:Finished prediction in 57.27 seconds.\n",
      "INFO:root:Saving prediction to ./Davis/omega_2/MAST1_0.pdb\n",
      "INFO:root:Saved\n",
      "INFO:root:Done!\n"
     ]
    },
    {
     "name": "stderr",
     "output_type": "stream",
     "text": [
      "  2%|▏         | 8/522 [07:02<7:43:50, 54.15s/it]"
     ]
    },
    {
     "name": "stdout",
     "output_type": "stream",
     "text": [
      "ULK1_1.seq\n",
      "INFO:root:Reading ./Davis/cut_seqs/ULK1_1.seq\n",
      "ELPAPGHGCSFADPITANLEGAVTFEAPDLPEETLMEQEHTEILRGLRFTLLFVQHVLEIAALKGSASEAAGGPEYQLQESVVADQISLLSREWGFAEQLVLYLKVAELLSSGLQSAIDQIRAGKLCLSSTVKQVVRRLNELYKASVVSCQGLSLRLQRFFLDKQRLLDRIHSITAERLIFSHAVQMVQSAALDEMFQHREGCVPRYHKALLLLEGLQHMLSDQADIENVTKCKLCIERRLSALLTGICA\n",
      "INFO:root:Predicting 1th chain in ./Davis/cut_seqs/ULK1_1.seq\n",
      "INFO:root:250 residues in this chain.\n",
      "INFO:root:Finished prediction in 3.55 seconds.\n",
      "INFO:root:Saving prediction to ./Davis/omega_2/ULK1_1.pdb\n",
      "INFO:root:Saved\n",
      "INFO:root:Done!\n"
     ]
    },
    {
     "name": "stderr",
     "output_type": "stream",
     "text": [
      "  2%|▏         | 9/522 [07:05<5:28:24, 38.41s/it]"
     ]
    },
    {
     "name": "stdout",
     "output_type": "stream",
     "text": [
      "EPHB6_0.seq\n",
      "INFO:root:Reading ./Davis/cut_seqs/EPHB6_0.seq\n",
      "MATEGAAQLGNRVAGMVCSLWVLLLVSSVLALEEVLLDTTGETSEIGWLTYPPGGWDEVSVLDDQRRLTRTFEACHVAGAPPGTGQDNWLQTHFVERRGAQRAHIRLHFSVRACSSLGVSGGTCRETFTLYYRQAEEPDSPDSVSSWHLKRWTKVDTIAADESFPSSSSSSSSSSSAAWAVGPHGAGQRAGLQLNVKERSFGPLTQRGFYVAFQDTGACLALVAVRLFSYTCPAVLRSFASFPETQASGAGGASLVAAVGTCVAHAEPEEDGVGGQAGGSPPRLHCNGEGKWMVAVGGCRCQPGYQPARGDKACQACPRGLYKSSAGNAPCSPCPARSHAPNPAAPVCPCLEGFYRASSDPPEAPCTGPPSAPQELWFEVQGSALMLHWRLPRELGGRGDLLFNVVCKECEGRQEPASGGGGTCHRCRDEVHFDPRQRGLTESRVLVGGLRAHVPYILEVQAVNGVSELSPDPPQAAAINVSTSHEVPSAVPVVHQVSRASNSITVSWPQPDQTNGNILDYQLRYYDQAEDESHSFTLTSETNTATVTQLSPGHIYGFQVRARTAAGHGPYGGKVYFQTLPQGELSSQLPERLSLVIGSILGALAFLLLAAITVLAVVFQRKRRGTGYTEQLQQYSSPGLGVKYYIDPSTYEDPCQAIRELAREVDPAYIKIEEVIGTGSFGEVRQGRLQPRGRREQTVAIQALWAGGAESLQMTFLGRAAVLGQFQHPNILRLEGVVTKSRPLMVLTEFMELGPLDSFLRQREGQFSSLQLVAMQRGVAAAMQYLSSFAFVHRSLSAHS\n",
      "INFO:root:Predicting 1th chain in ./Davis/cut_seqs/EPHB6_0.seq\n",
      "INFO:root:800 residues in this chain.\n",
      "INFO:root:Finished prediction in 57.05 seconds.\n",
      "INFO:root:Saving prediction to ./Davis/omega_2/EPHB6_0.pdb\n",
      "INFO:root:Saved\n",
      "INFO:root:Done!\n"
     ]
    },
    {
     "name": "stderr",
     "output_type": "stream",
     "text": [
      "  2%|▏         | 10/522 [08:03<6:19:19, 44.45s/it]"
     ]
    },
    {
     "name": "stdout",
     "output_type": "stream",
     "text": [
      "ADCK3.seq\n",
      "INFO:root:Reading ./Davis/cut_seqs/ADCK3.seq\n",
      "MAAILGDTIMVAKGLVKLTQAAVETHLQHLGIGGELIMAARALQSTAVEQIGMFLGKVQGQDKHEEYFAENFGGPEGEFHFSVPHAAGASTDFSSASAPDQSAPPSLGHAHSEGPAPAYVASGPFREAGFPGQASSPLGRANGRLFANPRDSFSAMGFQRRFFHQDQSPVGGLTAEDIEKARQAKARPENKQHKQTLSEHARERKVPVTRIGRLANFGGLAVGLGFGALAEVAKKSLRSEDPSGKKAVLGSSPFLSEANAERIVRTLCKVRGAALKLGQMLSIQDDAFINPHLAKIFERVRQSADFMPLKQMMKTLNNDLGPNWRDKLEYFEERPFAAASIGQVHLARMKGGREVAMKIQYPGVAQSINSDVNNLMAVLNMSNMLPEGLFPEHLIDVLRRELALECDYQREAACARKFRDLLKGHPFFYVPEIVDELCSPHVLTTELVSGFPLDQAEGLSQEIRNEICYNILVLCLRELFEFHFMQTDPNWSNFFYDPQQHKVALLDFGATREYDRSFTDLYIQIIRAAADRDRETVRAKSIEMKFLTGYEVKVMEDAHLDAILILGEAFASDEPFDFGTQSTTEKIHNLIPVMLRHRLVPPPEETYSLHRKMGGSFLICSKLKARFPCKAMFEEAYSNYCKRQAQQ\n",
      "INFO:root:Predicting 1th chain in ./Davis/cut_seqs/ADCK3.seq\n",
      "INFO:root:647 residues in this chain.\n",
      "INFO:root:Finished prediction in 35.68 seconds.\n",
      "INFO:root:Saving prediction to ./Davis/omega_2/ADCK3.pdb\n",
      "INFO:root:Saved\n",
      "INFO:root:Done!\n"
     ]
    },
    {
     "name": "stderr",
     "output_type": "stream",
     "text": [
      "  2%|▏         | 11/522 [08:40<5:57:23, 41.96s/it]"
     ]
    },
    {
     "name": "stdout",
     "output_type": "stream",
     "text": [
      "IKK-beta.seq\n",
      "INFO:root:Reading ./Davis/cut_seqs/IKK-beta.seq\n",
      "MSWSPSLTTQTCGAWEMKERLGTGGFGNVIRWHNQETGEQIAIKQCRQELSPRNRERWCLEIQIMRRLTHPNVVAARDVPEGMQNLAPNDLPLLAMEYCQGGDLRKYLNQFENCCGLREGAILTLLSDIASALRYLHENRIIHRDLKPENIVLQQGEQRLIHKIIDLGYAKELDQGSLCTSFVGTLQYLAPELLEQQKYTVTVDYWSFGTLAFECITGFRPFLPNWQPVQWHSKVRQKSEVDIVVSEDLNGTVKFSSSLPYPNNLNSVLAERLEKWLQLMLMWHPRQRGTDPTYGPNGCFKALDDILNLKLVHILNMVTGTIHTYPVTEDESLQSLKARIQQDTGIPEEDQELLQEAGLALIPDKPATQCISDGKLNEGHTLDMDLVFLFDNSKITYETQISPRPQPESVSCILQEPKRNLAFFQLRKVWGQVWHSIQTLKEDCNRLQQGQRAAMMNLLRNNSCLSKMKNSMASMSQQLKAKLDFFKTSIQIDLEKYSEQTEFGITSDKLLLAWREMEQAVELCGRENEVKLLVERMMALQTDIVDLQRSPMGRKQGGTLDDLEEQARELYRRLREKPRDQRTEGDSQEMVRLLLQAIQSFEKKVRVIYTQLSKTVVCKQKALELLPKVEEVVSLMNEDEKTVVRLQEKRQKELWNLLKIACSKVRGPVSGSPDSMNASRLSQPGQLMSQPSTASNSLPEPAKKSEELVAEAHNLCTLLENAIQDTVREQDQSFTALDWSWLQTEEEEHSCLEQAS\n",
      "INFO:root:Predicting 1th chain in ./Davis/cut_seqs/IKK-beta.seq\n",
      "INFO:root:756 residues in this chain.\n",
      "INFO:root:Finished prediction in 51.71 seconds.\n",
      "INFO:root:Saving prediction to ./Davis/omega_2/IKK-beta.pdb\n",
      "INFO:root:Saved\n",
      "INFO:root:Done!\n"
     ]
    },
    {
     "name": "stderr",
     "output_type": "stream",
     "text": [
      "  2%|▏         | 12/522 [09:32<6:24:01, 45.18s/it]"
     ]
    },
    {
     "name": "stdout",
     "output_type": "stream",
     "text": [
      "HIPK1_1.seq\n",
      "INFO:root:Reading ./Davis/cut_seqs/HIPK1_1.seq\n",
      "NQYSTIMQQPSLLTNHVTLATAQPLNVGVAHVVRQQQSSSLPSKKNKQSAPVSSKSSLDVLPSQVYSLVGSSPLRTTSSYNSLVPVQDQHQPIIIPDTPSPPVSVITIRSDTDEEEDNKYKPSSSGLKPRSNVISYVTVNDSPDSDSSLSSPYSTDTLSALRGNSGSVLEGPGRVVADGTGTRTIIVPPLKTQLGDCTVATQASGLLSNKTKPVASVSGQSSGCCITPTGYRAQRGGTSAAQPLNLSQNQQSSAAPTSQERSSNPAPRRQQAFVAPLSQAPYTFQHGSPLHSTGHPHLAPAPAHLPSQAHLYTYAAPTSAAALGSTSSIAHLFSPQGSSRHAAAYTTHPSTLVHQVPVSVGPSLLTSASVAPAQYQHQFATQSYIGSSRGSTIYTGYPLSPTKISQYSYL\n",
      "INFO:root:Predicting 1th chain in ./Davis/cut_seqs/HIPK1_1.seq\n",
      "INFO:root:410 residues in this chain.\n",
      "INFO:root:Finished prediction in 11.43 seconds.\n",
      "INFO:root:Saving prediction to ./Davis/omega_2/HIPK1_1.pdb\n",
      "INFO:root:Saved\n",
      "INFO:root:Done!\n"
     ]
    },
    {
     "name": "stderr",
     "output_type": "stream",
     "text": [
      "  2%|▏         | 13/522 [09:44<4:57:26, 35.06s/it]"
     ]
    },
    {
     "name": "stdout",
     "output_type": "stream",
     "text": [
      "EPHA7_1.seq\n",
      "INFO:root:Reading ./Davis/cut_seqs/EPHA7_1.seq\n",
      "RWTAPEAIQYRKFTSASDVWSYGIVMWEVMSYGERPYWDMSNQDVIKAIEEGYRLPAPMDCPAGLHQLMLDCWQKERAERPKFEQIVGILDKMIRNPNSLKTPLGTCSRPISPLLDQNTPDFTTFCSVGEWLQAIKMERYKDNFTAAGYNSLESVARMTIEDVMSLGITLVGHQKKIMSSIQTMRAQMLHLHGTGIQV\n",
      "INFO:root:Predicting 1th chain in ./Davis/cut_seqs/EPHA7_1.seq\n",
      "INFO:root:198 residues in this chain.\n",
      "INFO:root:Finished prediction in 2.14 seconds.\n",
      "INFO:root:Saving prediction to ./Davis/omega_2/EPHA7_1.pdb\n",
      "INFO:root:Saved\n",
      "INFO:root:Done!\n"
     ]
    },
    {
     "name": "stderr",
     "output_type": "stream",
     "text": [
      "  3%|▎         | 14/522 [09:46<3:33:16, 25.19s/it]"
     ]
    },
    {
     "name": "stdout",
     "output_type": "stream",
     "text": [
      "ADCK4.seq\n",
      "INFO:root:Reading ./Davis/cut_seqs/ADCK4.seq\n",
      "MWLKVGGLLRGTGGQLGQTVGWPCGALGPGPHRWGPCGGSWAQKFYQDGPGRGLGEEDIRRAREARPRKTPRPQLSDRSRERKVPASRISRLANFGGLAVGLGLGVLAEMAKKSMPGGRLQSEGGSGLDSSPFLSEANAERIVQTLCTVRGAALKVGQMLSIQDNSFISPQLQHIFERVRQSADFMPRWQMLRVLEEELGRDWQAKVASLEEVPFAAASIGQVHQGLLRDGTEVAVKIQYPGIAQSIQSDVQNLLAVLKMSAALPAGLFAEQSLQALQQELAWECDYRREAACAQNFRQLLANDPFFRVPAVVKELCTTRVLGMELAGGVPLDQCQGLSQDLRNQICFQLLTLCLRELFEFRFMQTDPNWANFLYDASSHQVTLLDFGASREFGTEFTDHYIEVVKAAADGDRDCVLQKSRDLKFLTGFETKAFSDAHVEAVMILGEPFATQGPYDFGSGETARRIQDLIPVLLRHRLCPPPEETYALHRKLAGAFLACAHLRAHIACRDLFQDTYHRYWASRQPDAATAGSLPTKGDSWVDPS\n",
      "INFO:root:Predicting 1th chain in ./Davis/cut_seqs/ADCK4.seq\n",
      "INFO:root:544 residues in this chain.\n",
      "INFO:root:Finished prediction in 22.37 seconds.\n",
      "INFO:root:Saving prediction to ./Davis/omega_2/ADCK4.pdb\n",
      "INFO:root:Saved\n",
      "INFO:root:Done!\n"
     ]
    },
    {
     "name": "stderr",
     "output_type": "stream",
     "text": [
      "  3%|▎         | 15/522 [10:09<3:27:05, 24.51s/it]"
     ]
    },
    {
     "name": "stdout",
     "output_type": "stream",
     "text": [
      "EPHB3_1.seq\n",
      "INFO:root:Reading ./Davis/cut_seqs/EPHB3_1.seq\n",
      "PIRWTAPEAIAYRKFTSASDVWSYGIVMWEVMSYGERPYWDMSNQDVINAVEQDYRLPPPMDCPTALHQLMLDCWVRDRNLRPKFSQIVNTLDKLIRNAASLKVIASAQSGMSQPLLDRTVPDYTTFTTVGDWLDAIKMGRYKESFVSAGFASFDLVAQMTAEDLLRIGVTLAGHQKKILSSIQDMRLQMNQTLPVQV\n",
      "INFO:root:Predicting 1th chain in ./Davis/cut_seqs/EPHB3_1.seq\n",
      "INFO:root:198 residues in this chain.\n",
      "INFO:root:Finished prediction in 2.13 seconds.\n",
      "INFO:root:Saving prediction to ./Davis/omega_2/EPHB3_1.pdb\n",
      "INFO:root:Saved\n",
      "INFO:root:Done!\n"
     ]
    },
    {
     "name": "stderr",
     "output_type": "stream",
     "text": [
      "  3%|▎         | 16/522 [10:12<2:30:26, 17.84s/it]"
     ]
    },
    {
     "name": "stdout",
     "output_type": "stream",
     "text": [
      "PIM2.seq\n",
      "INFO:root:Reading ./Davis/cut_seqs/PIM2.seq\n",
      "MLTKPLQGPPAPPGTPTPPPGGKDREAFEAEYRLGPLLGKGGFGTVFAGHRLTDRLQVAIKVIPRNRVLGWSPLSDSVTCPLEVALLWKVGAGGGHPGVIRLLDWFETQEGFMLVLERPLPAQDLFDYITEKGPLGEGPSRCFFGQVVAAIQHCHSRGVVHRDIKDENILIDLRRGCAKLIDFGSGALLHDEPYTDFDGTRVYSPPEWISRHQYHALPATVWSLGILLYDMVCGDIPFERDQEILEAELHFPAHVSPDCCALIRRCLAPKPSSRPSLEEILLDPWMQTPAEDVPLNPSKGGPAPLAWSLLP\n",
      "INFO:root:Predicting 1th chain in ./Davis/cut_seqs/PIM2.seq\n",
      "INFO:root:311 residues in this chain.\n",
      "INFO:root:Finished prediction in 5.89 seconds.\n",
      "INFO:root:Saving prediction to ./Davis/omega_2/PIM2.pdb\n",
      "INFO:root:Saved\n",
      "INFO:root:Done!\n"
     ]
    },
    {
     "name": "stderr",
     "output_type": "stream",
     "text": [
      "  3%|▎         | 17/522 [10:18<2:00:34, 14.33s/it]"
     ]
    },
    {
     "name": "stdout",
     "output_type": "stream",
     "text": [
      "SIK2_1.seq\n",
      "INFO:root:Reading ./Davis/cut_seqs/SIK2_1.seq\n",
      "PLPSTSGPRAAPPLPTQLQQQQPPPPPPPPPPRQPGAAPAPLQFSYQTCELPSAASPAPDYPTPCQYPVDGAQQSDLTGPDCPRSPGLQEAPSSYDPLALSELPGLFDCEMLDAVDPQHNGYVLVN\n",
      "INFO:root:Predicting 1th chain in ./Davis/cut_seqs/SIK2_1.seq\n",
      "INFO:root:126 residues in this chain.\n",
      "INFO:root:Finished prediction in 0.96 seconds.\n",
      "INFO:root:Saving prediction to ./Davis/omega_2/SIK2_1.pdb\n",
      "INFO:root:Saved\n",
      "INFO:root:Done!\n"
     ]
    },
    {
     "name": "stderr",
     "output_type": "stream",
     "text": [
      "  3%|▎         | 18/522 [10:19<1:27:04, 10.37s/it]"
     ]
    },
    {
     "name": "stdout",
     "output_type": "stream",
     "text": [
      "AURKC.seq\n",
      "INFO:root:Reading ./Davis/cut_seqs/AURKC.seq\n",
      "MSSPRAVVQLGKAQPAGEELATANQTAQQPSSPAMRRLTVDDFEIGRPLGKGKFGNVYLARLKESHFIVALKVLFKSQIEKEGLEHQLRREIEIQAHLQHPNILRLYNYFHDARRVYLILEYAPRGELYKELQKSEKLDEQRTATIIEELADALTYCHDKKVIHRDIKPENLLLGFRGEVKIADFGWSVHTPSLRRKTMCGTLDYLPPEMIEGRTYDEKVDLWCIGVLCYELLVGYPPFESASHSETYRRILKVDVRFPLSMPLGARDLISRLLRYQPLERLPLAQILKHPWVQAHSRRVLPPCAQMAS\n",
      "INFO:root:Predicting 1th chain in ./Davis/cut_seqs/AURKC.seq\n",
      "INFO:root:309 residues in this chain.\n",
      "INFO:root:Finished prediction in 5.87 seconds.\n",
      "INFO:root:Saving prediction to ./Davis/omega_2/AURKC.pdb\n",
      "INFO:root:Saved\n",
      "INFO:root:Done!\n"
     ]
    },
    {
     "name": "stderr",
     "output_type": "stream",
     "text": [
      "  4%|▎         | 19/522 [10:25<1:16:17,  9.10s/it]"
     ]
    },
    {
     "name": "stdout",
     "output_type": "stream",
     "text": [
      "ANKK1.seq\n",
      "INFO:root:Reading ./Davis/cut_seqs/ANKK1.seq\n",
      "MAADPTELRLGSLPVFTRDDFEGDWRLVASGGFSQVFQARHRRWRTEYAIKCAPCLPPDAASSDVNYLIEEAAKMKKIKFQHIVSIYGVCKQPLGIVMEFMANGSLEKVLSTHSLCWKLRFRIIHETSLAMNFLHSIKPPLLHLDLKPGNILLDSNMHVKISDFGLSKWMEQSTRMQYIERSALRGMLSYIPPEMFLESNKAPGPKYDVYSFAIVIWELLTQKKPYSGFNMMMIIIRVAAGMRPSLQPVSDQWPSEAQQMVDLMKRCWDQDPKKRPCFLDITIETDILLSLLQSRVAVPESKALARKVSCKLSLRQPGEVNEDISQELMDSDSGNYLKRALQLSDRKNLVPRDEELCIYENKVTPLHFLVAQGSVEQVRLLLAHEVDVDCQTASGYTPLLIAAQDQQPDLCALLLAHGADANRVDEDGWAPLHFAAQNGDDGTARLLLDHGACVDAQEREGWTPLHLAAQNNFENVARLLVSRQADPNLHEAEGKTPLHVAAYFGHVSLVKLLTSQGAELDAQQRNLRTPLHLAVERGKVRAIQHLLKSGAVPDALDQSGYGPLHTAAARGKYLICKMLLRYGASLELPTHQGWTPLHLAAYKGHLEIIHLLAESHANMGALGAVNWTPLHLAARHGEEAVVSALLQCGADPNAAEQSGWTPLHLAVQRSTFLSVINLLEHHANVHARNKVGWTPAHLAALKGNTAILKVLVEAGAQLDVQDGVSCTPLQLALRSRKQGIMSFLEGKEPSVATLGGSKPGAEMEI\n",
      "INFO:root:Predicting 1th chain in ./Davis/cut_seqs/ANKK1.seq\n",
      "INFO:root:765 residues in this chain.\n",
      "INFO:root:Finished prediction in 55.02 seconds.\n",
      "INFO:root:Saving prediction to ./Davis/omega_2/ANKK1.pdb\n",
      "INFO:root:Saved\n",
      "INFO:root:Done!\n"
     ]
    },
    {
     "name": "stderr",
     "output_type": "stream",
     "text": [
      "  4%|▍         | 20/522 [11:21<3:13:33, 23.13s/it]"
     ]
    },
    {
     "name": "stdout",
     "output_type": "stream",
     "text": [
      "CAMKK2.seq\n",
      "INFO:root:Reading ./Davis/cut_seqs/CAMKK2.seq\n",
      "MSSCVSSQPSSNRAAPQDELGGRGSSSSESQKPCEALRGLSSLSIHLGMESFIVVTECEPGCAVDLGLARDRPLEADGQEVPLDTSGSQARPHLSGRKLSLQERSQGGLAAGGSLDMNGRCICPSLPYSPVSSPQSSPRLPRRPTVESHHVSITGMQDCVQLNQYTLKDEIGKGSYGVVKLAYNENDNTYYAMKVLSKKKLIRQAGFPRRPPPRGTRPAPGGCIQPRGPIEQVYQEIAILKKLDHPNVVKLVEVLDDPNEDHLYMVFELVNQGPVMEVPTLKPLSEDQARFYFQDLIKGIEYLHYQKIIHRDIKPSNLLVGEDGHIKIADFGVSNEFKGSDALLSNTVGTPAFMAPESLSETRKIFSGKALDVWAMGVTLYCFVFGQCPFMDERIMCLHSKIKSQALEFPDQPDIAEDLKDLITRMLDKNPESRIVVPEIKLHPWVTRHGAEPLPSEDENCTLVEVTEEEVENSVKHIPSLATVILVKTMIRKRSFGNPFEGSRREERSLSAPGNLLTKKPTRECESLSELKEARQRRQPPGHRPAPRGGGGSALVRGSPCVESCWAPAPGSPARMHPLRPEEAMEPE\n",
      "INFO:root:Predicting 1th chain in ./Davis/cut_seqs/CAMKK2.seq\n",
      "INFO:root:588 residues in this chain.\n",
      "INFO:root:Finished prediction in 27.40 seconds.\n",
      "INFO:root:Saving prediction to ./Davis/omega_2/CAMKK2.pdb\n",
      "INFO:root:Saved\n",
      "INFO:root:Done!\n"
     ]
    },
    {
     "name": "stderr",
     "output_type": "stream",
     "text": [
      "  4%|▍         | 21/522 [11:49<3:25:22, 24.59s/it]"
     ]
    },
    {
     "name": "stdout",
     "output_type": "stream",
     "text": [
      "TIE1_0.seq\n",
      "INFO:root:Reading ./Davis/cut_seqs/TIE1_0.seq\n",
      "MVWRVPPFLLPILFLASHVGAAVDLTLLANLRLTDPQRFFLTCVSGEAGAGRGSDAWGPPLLLEKDDRIVRTPPGPPLRLARNGSHQVTLRGFSKPSDLVGVFSCVGGAGARRTRVIYVHNSPGAHLLPDKVTHTVNKGDTAVLSARVHKEKQTDVIWKSNGSYFYTLDWHEAQDGRFLLQLPNVQPPSSGIYSATYLEASPLGSAFFRLIVRGCGAGRWGPGCTKECPGCLHGGVCHDHDGECVCPPGFTGTRCEQACREGRFGQSCQEQCPGISGCRGLTFCLPDPYGCSCGSGWRGSQCQEACAPGHFGADCRLQCQCQNGGTCDRFSGCVCPSGWHGVHCEKSDRIPQILNMASELEFNLETMPRINCAAAGNPFPVRGSIELRKPDGTVLLSTKAIVEPEKTTAEFEVPRLVLADSGFWECRVSTSGGQDSRRFKVNVKVPPVPLAAPRLLTKQSRQLVVSPLVSFSGDGPISTVRLHYRPQDSTMDWSTIVVDPSENVTLMNLRPKTGYSVRVQLSRPGEGGEGAWGPPTLMTTDCPEPLLQPWLEGWHVEGTDRLRVSWSLPLVPGPLVGDGFLLRLWDGTRGQERRENVSSPQARTALLTGLTPGTHYQLDVQLYHCTLLGPASPPAHVLLPPSGPPAPRHLHAQALSDSEIQLTWKHPEALPGPISKYVVEVQVAGGAGDPLWIDVDRPEETSTIIRGLNASTRYLFRMRASIQGLGDWSNTVEESTLGNGLQAEGPVQESRAAEEGLDQQLILAVVGSVSATCLTILAALLTLVCIRRSCLHRRRTFTYQ\n",
      "INFO:root:Predicting 1th chain in ./Davis/cut_seqs/TIE1_0.seq\n",
      "INFO:root:800 residues in this chain.\n",
      "INFO:root:Finished prediction in 57.07 seconds.\n",
      "INFO:root:Saving prediction to ./Davis/omega_2/TIE1_0.pdb\n",
      "INFO:root:Saved\n",
      "INFO:root:Done!\n"
     ]
    },
    {
     "name": "stderr",
     "output_type": "stream",
     "text": [
      "  4%|▍         | 22/522 [12:47<4:48:21, 34.60s/it]"
     ]
    },
    {
     "name": "stdout",
     "output_type": "stream",
     "text": [
      "DDR1_1.seq\n",
      "INFO:root:Reading ./Davis/cut_seqs/DDR1_1.seq\n",
      "GRAVLPIRWMAWECILMGKFTTASDVWAFGVTLWEVLMLCRAQPFGQLTDEQVIENAGEFFRDQGRQVYLSRPPACPQGLYELMLRCWSRESEQRPPFSQLHRFLAEDALNTV\n",
      "INFO:root:Predicting 1th chain in ./Davis/cut_seqs/DDR1_1.seq\n",
      "INFO:root:113 residues in this chain.\n",
      "INFO:root:Finished prediction in 0.86 seconds.\n",
      "INFO:root:Saving prediction to ./Davis/omega_2/DDR1_1.pdb\n",
      "INFO:root:Saved\n",
      "INFO:root:Done!\n"
     ]
    },
    {
     "name": "stderr",
     "output_type": "stream",
     "text": [
      "  4%|▍         | 23/522 [12:48<3:24:01, 24.53s/it]"
     ]
    },
    {
     "name": "stdout",
     "output_type": "stream",
     "text": [
      "EPHB2.seq\n",
      "INFO:root:Reading ./Davis/cut_seqs/EPHB2.seq\n",
      "MALRRLGAALLLLPLLAAVEETLMDSTTATAELGWMVHPPSGWEEVSGYDENMNTIRTYQVCNVFESSQNNWLRTKFIRRRGAHRIHVEMKFSVRDCSSIPSVPGSCKETFNLYYYEADFDSATKTFPNWMENPWVKVDTIAADESFSQVDLGGRVMKINTEVRSFGPVSRSGFYLAFQDYGGCMSLIAVRVFYRKCPRIIQNGAIFQETLSGAESTSLVAARGSCIANAEEVDVPIKLYCNGDGEWLVPIGRCMCKAGFEAVENGTVCRGCPSGTFKANQGDEACTHCPINSRTTSEGATNCVCRNGYYRADLDPLDMPCTTIPSAPQAVISSVNETSLMLEWTPPRDSGGREDLVYNIICKSCGSGRGACTRCGDNVQYAPRQLGLTEPRIYISDLLAHTQYTFEIQAVNGVTDQSPFSPQFASVNITTNQAAPSAVSIMHQVSRTVDSITLSWSQPDQPNGVILDYELQYYEKMKTQRS\n",
      "INFO:root:Predicting 1th chain in ./Davis/cut_seqs/EPHB2.seq\n",
      "INFO:root:482 residues in this chain.\n",
      "INFO:root:Finished prediction in 17.04 seconds.\n",
      "INFO:root:Saving prediction to ./Davis/omega_2/EPHB2.pdb\n",
      "INFO:root:Saved\n",
      "INFO:root:Done!\n"
     ]
    },
    {
     "name": "stderr",
     "output_type": "stream",
     "text": [
      "  5%|▍         | 24/522 [13:06<3:06:05, 22.42s/it]"
     ]
    },
    {
     "name": "stdout",
     "output_type": "stream",
     "text": [
      "DMPK2_1.seq\n",
      "INFO:root:Reading ./Davis/cut_seqs/DMPK2_1.seq\n",
      "RGPVDTKPSNSLIPFLSFRSSEKDSAKDPGISGEATRHGGEPDLRPEGRRSLRMGAVFPRAPTANTASTEGLPAKPGSHTLRPRSFPSPTKCLRCTSLMLGLGRQGLGCDACGYFCHTTCAPQAPPCPVPPDLLRTALGVHPETGTGTAYEGFLSVPRPSGVRRGWQRVFAALSDSRLLLFDAPDLRLSPPSGALLQVLDLRDPQFSATPVLASDVIHAQSRDLPRIFRVTTSQLAVPPTTCTVLLLAESEGERERWLQVLGELQRLLLDARPRPRPVYTLKEAYDNGLPLLPHTLCAAILDQDRLALGTEEGLFVIHLRSNDIFQVGECRRVQQLTLSPSAGLLVVLCGRGPSVRLFALAELENIEVAGAKIPESRGCQVLAAGSILQARTPVLCVAVKRQVLCYQLGPGPGPWQRRIRELQAPATVQSLGLLGDRLCVGAAGGFALYPLLNEAAPLALGAGLVPEELPPSRGGLGEALGAVELSLSEFLLLFTTAGIYVDGAGRKSRGHELLWPAAPMGWGYAAPYLTVFSENSIDVFDVRRAEWVQTVPLKKVRPLNPEGSLFLYGTEKVRLTYLRNQLAEKDEFDIPDLTDNSRRQLFRTKSKRRFFFRVSEEQQKQQRREMLKDPFVRSKLISPPTNFNHLVHVGPANGRPGARDKSPAPEEKGRVARGSGPQRPHSFSEALRRPASMGSEGLGGDADPMKRKPWTSLSSESVSCPQGSLSPATSLMQVSERPRSLPLSPELESSP\n",
      "INFO:root:Predicting 1th chain in ./Davis/cut_seqs/DMPK2_1.seq\n",
      "INFO:root:751 residues in this chain.\n",
      "INFO:root:Finished prediction in 52.29 seconds.\n",
      "INFO:root:Saving prediction to ./Davis/omega_2/DMPK2_1.pdb\n",
      "INFO:root:Saved\n",
      "INFO:root:Done!\n"
     ]
    },
    {
     "name": "stderr",
     "output_type": "stream",
     "text": [
      "  5%|▍         | 25/522 [13:59<4:22:01, 31.63s/it]"
     ]
    },
    {
     "name": "stdout",
     "output_type": "stream",
     "text": [
      "JNK1.seq\n",
      "INFO:root:Reading ./Davis/cut_seqs/JNK1.seq\n",
      "MSRSKRDNNFYSVEIGDSTFTVLKRYQNLKPIGSGAQGIVCAAYDAILERNVAIKKLSRPFQNQTHAKRAYRELVLMKCVNHKNIIGLLNVFTPQKSLEEFQDVYIVMELMDANLCQVIQMELDHERMSYLLYQMLCGIKHLHSAGIIHRDLKPSNIVVKSDCTLKILDFGLARTAGTSFMMTPYVVTRYYRAPEVILGMGYKENVDLWSVGCIMGEMVCHKILFPGRDYIDQWNKVIEQLGTPCPEFMKKLQPTVRTYVENRPKYAGYSFEKLFPDVLFPADSEHNKLKASQARDLLSKMLVIDASKRISVDEALQHPYINVWYDPSEAEAPPPKIPDKQLDEREHTIEEWKELIYKEVMDLEERTKNGVIRGQPSPLGAAVINGSQHPSSSSSVNDVSSMSTDPTLASDTDSSLEAAAGPLGCCR\n",
      "INFO:root:Predicting 1th chain in ./Davis/cut_seqs/JNK1.seq\n",
      "INFO:root:427 residues in this chain.\n",
      "INFO:root:Finished prediction in 12.80 seconds.\n",
      "INFO:root:Saving prediction to ./Davis/omega_2/JNK1.pdb\n",
      "INFO:root:Saved\n",
      "INFO:root:Done!\n"
     ]
    },
    {
     "name": "stderr",
     "output_type": "stream",
     "text": [
      "  5%|▍         | 26/522 [14:12<3:35:49, 26.11s/it]"
     ]
    },
    {
     "name": "stdout",
     "output_type": "stream",
     "text": [
      "NDR1.seq\n",
      "INFO:root:Reading ./Davis/cut_seqs/NDR1.seq\n",
      "MAMTGSTPCSSMSNHTKERVTMTKVTLENFYSNLIAQHEEREMRQKKLEKVMEEEGLKDEEKRLRRSAHARKETEFLRLKRTRLGLEDFESLKVIGRGAFGEVRLVQKKDTGHVYAMKILRKADMLEKEQVGHIRAERDILVEADSLWVVKMFYSFQDKLNLYLIMEFLPGGDMMTLLMKKDTLTEEETQFYIAETVLAIDSIHQLGFIHRDIKPDNLLLDSKGHVKLSDFGLCTGLKKAHRTEFYRNLNHSLPSDFTFQNMNSKRKAETWKRNRRQLAFSTVGTPDYIAPEVFMQTGYNKLCDWWSLGVIMYEMLIGYPPFCSETPQETYKKVMNWKETLTFPPEVPISEKAKDLILRFCCEWEHRIGAPGVEEIKSNSFFEGVDWEHIRERPAAISIEIKSIDDTSNFDEFPESDILKPTVATSNHPETDYKNKDWVFINYTYKRFEGLTARGAIPSYMKAAK\n",
      "INFO:root:Predicting 1th chain in ./Davis/cut_seqs/NDR1.seq\n",
      "INFO:root:465 residues in this chain.\n",
      "INFO:root:Finished prediction in 15.69 seconds.\n",
      "INFO:root:Saving prediction to ./Davis/omega_2/NDR1.pdb\n",
      "INFO:root:Saved\n",
      "INFO:root:Done!\n"
     ]
    },
    {
     "name": "stderr",
     "output_type": "stream",
     "text": [
      "  5%|▌         | 27/522 [14:28<3:10:44, 23.12s/it]"
     ]
    },
    {
     "name": "stdout",
     "output_type": "stream",
     "text": [
      "PHKG1.seq\n",
      "INFO:root:Reading ./Davis/cut_seqs/PHKG1.seq\n",
      "MTRDEALPDSHSAQDFYENYEPKEILGRGVSSVVRRCIHKPTSQEYAVKVIDVTGGGSFSPEEVRELREATLKEVDILRKVSGHPNIIQLKDTYETNTFFFLVFDLMKRGELFDYLTEKVTLSEKETRKIMRALLEVICTLHKLNIVHRDLKPENILLDDNMNIKLTDFGFSCQLEPGERLREVCGTPSYLAPEIIECSMNEDHPGYGKEVDMWSTGVIMYTLLAGSPPFWHRKQMLMLRMIMSGNYQFGSPEWDDYSDTVKDLVSRFLVVQPQNRYTAEEALAHPFFQQYLVEEVRHFSPRGKFKVIALTVLASVRIYYQYRRVKPVTREIVIRDPYALRPLRRLIDAYAFRIYGHWVKKGQQQNRAALFENTPKAVLLSLAEEDY\n",
      "INFO:root:Predicting 1th chain in ./Davis/cut_seqs/PHKG1.seq\n",
      "INFO:root:387 residues in this chain.\n",
      "INFO:root:Finished prediction in 10.12 seconds.\n",
      "INFO:root:Saving prediction to ./Davis/omega_2/PHKG1.pdb\n",
      "INFO:root:Saved\n",
      "INFO:root:Done!\n"
     ]
    },
    {
     "name": "stderr",
     "output_type": "stream",
     "text": [
      "  5%|▌         | 28/522 [14:39<2:40:16, 19.47s/it]"
     ]
    },
    {
     "name": "stdout",
     "output_type": "stream",
     "text": [
      "MST4.seq\n",
      "INFO:root:Reading ./Davis/cut_seqs/MST4.seq\n",
      "MAHSPVAVQVPGMQNNIADPEELFTKLERIGKGSFGEVFKGIDNRTQQVVAIKIIDLEEAEDEIEDIQQEITVLSQCDSSYVTKYYGSYLKGSKLWIIMEYLGGGSALDLLRAGPFDEFQIATMLKEILKGLDYLHSEKKIHRDIKAANVLLSEQGDVKLADFGVAGQLTDTQIKRNTFVGTPFWMAPEVIQQSAYDSKADIWSLGITAIELAKGEPPNSDMHPMRVLFLIPKNNPPTLVGDFTKSFKEFIDACLNKDPSFRPTAKELLKHKFIVKNSKKTSYLTELIDRFKRWKAEGHSDDESDSEGSDSESTSRENNTHPEWSFTTVRKKPDPKKVQNGAEQDLVQTLSCLSMIITPAFAELKQQDENNASRNQAIEELEKSIAVAEAACPGITDKMVKKLIEKFQKCSADESP\n",
      "INFO:root:Predicting 1th chain in ./Davis/cut_seqs/MST4.seq\n",
      "INFO:root:416 residues in this chain.\n",
      "INFO:root:Finished prediction in 11.61 seconds.\n",
      "INFO:root:Saving prediction to ./Davis/omega_2/MST4.pdb\n",
      "INFO:root:Saved\n",
      "INFO:root:Done!\n"
     ]
    },
    {
     "name": "stderr",
     "output_type": "stream",
     "text": [
      "  6%|▌         | 29/522 [14:51<2:22:00, 17.28s/it]"
     ]
    },
    {
     "name": "stdout",
     "output_type": "stream",
     "text": [
      "LIMK1.seq\n",
      "INFO:root:Reading ./Davis/cut_seqs/LIMK1.seq\n",
      "MRLTLLCCTWREERMGEEGSELPVCASCGQRIYDGQYLQALNADWHADCFRCCDCSASLSHQYYEKDGQLFCKKDYWARYGESCHGCSEQITKGLVMVAGELKYHPECFICLTCGTFIGDGDTYTLVEHSKLYCGHCYYQTVVTPVIEQILPDSPGSHLPHTVTLVSIPASSHGKRGLSVSIDPPHGPPGCGTEHSHTVRVQGVDPGCMSPDVKNSIHVGDRILEINGTPIRNVPLDEIDLLIQETSRLLQLTLEHDPHDTLGHGLGPETSPLSSPAYTPSGEAGSSARQKPVLRSCSIDRSPGAGSLGSPASQRKDLGRSESLRVVCRPHRIFRPSDLIHGEVLGKGCFGQAIKVTHRETGEVMVMKELIRFDEETQRTFLKEVKVMRCLEHPNVLKFIGVLYKDKRLNFITEYIKGGTLRGIIKSMDSQYPWSQRVSFAKDIASGMAYLHSMNIIHRDLNSHNCLVRENKNVVVADFGLARLMVDEKTQPEGLRSLKKPDRKKRYTVVGNPYWMAPEMINGRSYDEKVDVFSFGIVLCEIIGRVNADPDYLPRTMDFGLNVRGFLDRYCPPNCPPSFFPITVRCCDLDPEKRPSFVKLEHWLETLRMHLAGHLPLGPQLEQLDRGFWETYRRGESGLPAHPEVPD\n",
      "INFO:root:Predicting 1th chain in ./Davis/cut_seqs/LIMK1.seq\n",
      "INFO:root:647 residues in this chain.\n",
      "INFO:root:Finished prediction in 35.64 seconds.\n",
      "INFO:root:Saving prediction to ./Davis/omega_2/LIMK1.pdb\n",
      "INFO:root:Saved\n",
      "INFO:root:Done!\n"
     ]
    },
    {
     "name": "stderr",
     "output_type": "stream",
     "text": [
      "  6%|▌         | 30/522 [15:27<3:08:34, 23.00s/it]"
     ]
    },
    {
     "name": "stdout",
     "output_type": "stream",
     "text": [
      "TNIK_1.seq\n",
      "INFO:root:Reading ./Davis/cut_seqs/TNIK_1.seq\n",
      "DEDLTALAKELRELRIEETNRPMKKVTDYSSSSEESESSEEEEEDGESETHDGTVAVSDIPRLIPTGAPGSNEQYNVGMVGTHGLETSHADSFSGSISREGTLMIRETSGEKKRSGHSDSNGFAGHINLPDLVQQSHSPAGTPTEGLGRVSTHSQEMDSGTEYGMGSSTKASFTPFVDPRVYQTSPTDEDEEDEESSAAALFTSELLRQEQAKLNEARKISVVNVNPTNIRPHSDTPEIRKYKKRFNSEILCAALWGVNLLVGTENGLMLLDRSGQGKVYNLINRRRFQQMDVLEGLNVLVTISGKKNKLRVYYLSWLRNRILHNDPEVEKKQGWITVGDLEGCIHYKVVKYERIKFLVIALKNAVEIYAWAPKPYHKFMAFKSFADLQHKPLLVDLTVEEGQRLKVIFGSHTGFHVIDVDSGNSYDIYIPSHIQGNITPHAIVILPKTDGMEMLVCYEDEGVYVNTYGRITKDVVLQWGEMPTSVAYIHSNQIMGWGEKAIEIRSVETGHLDGVFMHKRAQRLKFLCERNDKVFFASVRSGGSSQVFFMTLNRNSMMNW\n",
      "INFO:root:Predicting 1th chain in ./Davis/cut_seqs/TNIK_1.seq\n",
      "INFO:root:560 residues in this chain.\n",
      "INFO:root:Finished prediction in 23.84 seconds.\n",
      "INFO:root:Saving prediction to ./Davis/omega_2/TNIK_1.pdb\n",
      "INFO:root:Saved\n",
      "INFO:root:Done!\n"
     ]
    },
    {
     "name": "stderr",
     "output_type": "stream",
     "text": [
      "  6%|▌         | 31/522 [15:52<3:11:44, 23.43s/it]"
     ]
    },
    {
     "name": "stdout",
     "output_type": "stream",
     "text": [
      "BLK.seq\n",
      "INFO:root:Reading ./Davis/cut_seqs/BLK.seq\n",
      "MGLVSSKKPDKEKPIKEKDKGQWSPLKVSAQDKDAPPLPPLVVFNHLTPPPPDEHLDEDKHFVVALYDYTAMNDRDLQMLKGEKLQVLKGTGDWWLARSLVTGREGYVPSNFVARVESLEMERWFFRSQGRKEAERQLLAPINKAGSFLIRESETNKGAFSLSVKDVTTQGELIKHYKIRCLDEGGYYISPRITFPSLQALVQHYSKKGDGLCQRLTLPCVRPAPQNPWAQDEWEIPRQSLRLVRKLGSGQFGEVWMGYYKNNMKVAIKTLKEGTMSPEAFLGEANVMKALQHERLVRLYAVVTKEPIYIVTEYMARGCLLDFLKTDEGSRLSLPRLIDMSAQIAEGMAYIERMNSIHRDLRAANILVSEALCCKIADFGLARIIDSEYTAQEGAKFPIKWTAPEAIHFGVFTIKADVWSFGVLLMEVVTYGRVPYPGMSNPEVIRNLERGYRMPRPDTCPPELYRGVIAECWRSRPEERPTFDCTPGRVTRPLCAASFVEGCNSDLARSSGVLSPSKVFRTGKRLSSSKAPVLGTPRAGRVPASAPCVDPALPRYRSQTGSRGRQQGQPQPRLRSSTAGLFCNKVTSVRKKKKKKKKK\n",
      "INFO:root:Predicting 1th chain in ./Davis/cut_seqs/BLK.seq\n",
      "INFO:root:599 residues in this chain.\n",
      "INFO:root:Finished prediction in 29.14 seconds.\n",
      "INFO:root:Saving prediction to ./Davis/omega_2/BLK.pdb\n",
      "INFO:root:Saved\n",
      "INFO:root:Done!\n"
     ]
    },
    {
     "name": "stderr",
     "output_type": "stream",
     "text": [
      "  6%|▌         | 32/522 [16:22<3:27:02, 25.35s/it]"
     ]
    },
    {
     "name": "stdout",
     "output_type": "stream",
     "text": [
      "PIM1.seq\n",
      "INFO:root:Reading ./Davis/cut_seqs/PIM1.seq\n",
      "MPHEPHEPLTPPFSALPDPAGAPSRRQSRQRPQLSSDSPSAFRASRSHSRNATRSHSHSHSPRHSLRHSPGSGSCGSSSGHRPCADILEVGMLLSKINSLAHLRAAPCNDLHATKLAPGKEKEPLESQYQVGPLLGSGGFGSVYSGIRVSDNLPVAIKHVEKDRISDWGELPNGTRVPMEVVLLKKVSSGFSGVIRLLDWFERPDSFVLILERPEPVQDLFDFITERGALQEELARSFFWQVLEAVRHCHNCGVLHRDIKDENILIDLNRGELKLIDFGSGALLKDTVYTDFDGTRVYSPPEWIRYHRYHGRSAAVWSLGILLYDMVCGDIPFEHDEEIIRGQVFFRQRVSSECQHLIRWCLALRPSDRPTFEEIQNHPWMQDVLLPQETAEIHLHSLSPGPSK\n",
      "INFO:root:Predicting 1th chain in ./Davis/cut_seqs/PIM1.seq\n",
      "INFO:root:404 residues in this chain.\n",
      "INFO:root:Finished prediction in 10.87 seconds.\n",
      "INFO:root:Saving prediction to ./Davis/omega_2/PIM1.pdb\n",
      "INFO:root:Saved\n",
      "INFO:root:Done!\n"
     ]
    },
    {
     "name": "stderr",
     "output_type": "stream",
     "text": [
      "  6%|▋         | 33/522 [16:33<2:52:09, 21.12s/it]"
     ]
    },
    {
     "name": "stdout",
     "output_type": "stream",
     "text": [
      "CDK2.seq\n",
      "INFO:root:Reading ./Davis/cut_seqs/CDK2.seq\n",
      "MENFQKVEKIGEGTYGVVYKARNKLTGEVVALKKIRLDTETEGVPSTAIREISLLKELNHPNIVKLLDVIHTENKLYLVFEFLHQDLKKFMDASALTGIPLPLIKSYLFQLLQGLAFCHSHRVLHRDLKPQNLLINTEGAIKLADFGLARAFGVPVRTYTHEVVTLWYRAPEILLGCKYYSTAVDIWSLGCIFAEMVTRRALFPGDSEIDQLFRIFRTLGTPDEVVWPGVTSMPDYKPSFPKWARQDFSKVVPPLDEDGRSLLSQMLHYDPNKRISAKAALAHPFFQDVTKPVPHLRL\n",
      "INFO:root:Predicting 1th chain in ./Davis/cut_seqs/CDK2.seq\n",
      "INFO:root:298 residues in this chain.\n",
      "INFO:root:Finished prediction in 5.39 seconds.\n",
      "INFO:root:Saving prediction to ./Davis/omega_2/CDK2.pdb\n",
      "INFO:root:Saved\n",
      "INFO:root:Done!\n"
     ]
    },
    {
     "name": "stderr",
     "output_type": "stream",
     "text": [
      "  7%|▋         | 34/522 [16:39<2:14:07, 16.49s/it]"
     ]
    },
    {
     "name": "stdout",
     "output_type": "stream",
     "text": [
      "MLCK_0.seq\n",
      "INFO:root:Reading ./Davis/cut_seqs/MLCK_0.seq\n",
      "MSGTSKESLGHGGLPGLGKTCLTTMDTKLNMLNEKVDQLLHFQEDVTEKLQSMCRDMGHLERGLHRLEASRAPGPGGADGVPHIDTQAGWPEVLELVRAMQQDAAQHGARLEALFRMVAAVDRAIALVGATFQKSKVADFLMQGRVPWRRGSPGDSPEENKERVEEEGGKPKHVLSTSGVQSDAREPGEESQKADVLEGTAERLPPIRASGLGADPAQAVVSPGQGDGVPGPAQAFPGHLPLPTKVEAKAPETPSENLRTGLELAPAPGRVNVVSPSLEVAPGAGQGASSSRPDPEPLEEGTRLTPGPGPQCPGPPGLPAQARATHSGGETPPRISIHIQEMDTPGEMLMTGRGSLGPTLTTEAPAAAQPGKQGPPGTGRCLQAPGTEPGEQTPEGARELSPLQESSSPGGVKAEEEQRAGAEPGTRPSLARSDDNDHEVGALGLQQGKSPGAGNPEPEQDCAARAPVRAEAVRRMPPGAEAGSVVLDDSPAPPAPFEHRVVSVKETSISAGYEVCQHEVLGGGRFGQVHRCTEKSTGLPLAAKIIKVKSAKDREDVKNEINIMNQLSHVNLIQLYDAFESKHSCTLVMEYVDGGELFDRITDEKYHLTELDVVLFTRQICEGVHYLHQHYILHLDLKPENILCVNQTGHQIKIIDFGLARRYKPREKLKVNFGTPEFLAPEVVNYEFVSFPTDMWSVGVITYMLLSGLSPFLGETDAETMNFIVNCSWDFDADTFEGLSEEAKDFVSRLLVKEKSCRMSATQCLKHEWLNNLPAKASRSKTRLKSQLLLQKYIAQRKWK\n",
      "INFO:root:Predicting 1th chain in ./Davis/cut_seqs/MLCK_0.seq\n",
      "INFO:root:800 residues in this chain.\n",
      "INFO:root:Finished prediction in 57.00 seconds.\n",
      "INFO:root:Saving prediction to ./Davis/omega_2/MLCK_0.pdb\n",
      "INFO:root:Saved\n",
      "INFO:root:Done!\n"
     ]
    },
    {
     "name": "stderr",
     "output_type": "stream",
     "text": [
      "  7%|▋         | 35/522 [17:37<3:55:14, 28.98s/it]"
     ]
    },
    {
     "name": "stdout",
     "output_type": "stream",
     "text": [
      "ROS1_1.seq\n",
      "INFO:root:Reading ./Davis/cut_seqs/ROS1_1.seq\n",
      "LYWTTLYSVESTRLNGESSLVLQTQPWFSGKKVIALTLDLSDGLLYWLVQDSQCIHLYTAVLRGQSTGDTTITEFAAWSTSEISQNALMYYSGRLFWINGFRIITTQEIGQKTSVSVLEPARFNQFTIIQTSLKPLPGNFSFTPKVIPDSVQESSFRIEGNASSFQILWNGPPAVDWGVVFYSVEFSAHSKFLASEQHSLPVFTVEGLEPYALFNLSVTPYTYWGKGPKTSLSLRAPETVPSAPENPRIFILPSGKCCNKNEVVVEFRWNKPKHENGVLTKFEIFYNISNQSITNKTCEDWIAVNVTPSVMSFQLEGMSPRCFIAFQVRAFTSKGPGPYADVVKSTTSEINPFPHLITLLGNKIVFLDMDQNQVVWTFSAERVISAVCYTADNEMGYYAEGDSLFLLHLHNRSSSELFQDSLVFDITVITIDWISRHLYFALKESQNGMQVFDVDLEHKVKYPREVKIHNRNSTIISFSVYPLLSRLYWTEVSNFGYQMFYYSIISHTLHRILQPTATNQQNKRNQCSCNVTEFELSGAMAIDTSNLEKPLIYFAKAQEIWAMDLEGCQCWRVITVPAMLAGKTLVSLTVDGDLIYWIITAKDSTQIYQAKKGNGAIVSQVKALRSRHILAYSSVMQPFPDKAFLSLASDTVEPTILNATNTSLTIRLPLAKTNLTWYGITSPTPTYLVYYAEVNDRKNSSDLKYRILEFQDSIALIEDLQPFSTYMIQIAVKNYYSDPLEHLPPGKEIWGKTKNGVPEAVQLINTTVRSDTSLIISWRESHKPNGPKESVRYQLAISHL\n",
      "INFO:root:Predicting 1th chain in ./Davis/cut_seqs/ROS1_1.seq\n",
      "INFO:root:800 residues in this chain.\n",
      "INFO:root:Finished prediction in 57.02 seconds.\n",
      "INFO:root:Saving prediction to ./Davis/omega_2/ROS1_1.pdb\n",
      "INFO:root:Saved\n",
      "INFO:root:Done!\n"
     ]
    },
    {
     "name": "stderr",
     "output_type": "stream",
     "text": [
      "  7%|▋         | 36/522 [18:35<5:04:56, 37.65s/it]"
     ]
    },
    {
     "name": "stdout",
     "output_type": "stream",
     "text": [
      "SLK_1.seq\n",
      "INFO:root:Reading ./Davis/cut_seqs/SLK_1.seq\n",
      "DGVEVSVTTSKIVTDSDSKTEELRFLRRQELRELRFLQKEEQRAQQQLNSKLQQQREQIFRRFEQEMMSKKRQYDQEIENLEKQQKQTIERLEQEHTNRLRDEAKRIKGEQEKELSKFQNMLKNRKKEVINEVEKAPKELRKELMKRRKEELAQSQHAQEQEFVQKQQQELDGSLKKIIQQQKAELANIERECLNNKQQLMRAREAAIWELEERHLQEKHQLLKQQLKDQYFMQRHQLLKRHEKETEQMQRYNQRLIEELKNRQTQERARLPKIQRSEAKTRMAMFKKSLRINSTATPDQDRDKIKQFAAQEEKRQKNERMAQHQKHENQMRDLQLQCEANVRELHQLQNEKCHLLVEHETQKLKELDEEHSQELKEWREKLRPRKKTLEEEFARKLQEQEVFFKMTGESECLNPSTQSRISKFYPIPSLHSTGS\n",
      "INFO:root:Predicting 1th chain in ./Davis/cut_seqs/SLK_1.seq\n",
      "INFO:root:435 residues in this chain.\n",
      "INFO:root:Finished prediction in 13.43 seconds.\n",
      "INFO:root:Saving prediction to ./Davis/omega_2/SLK_1.pdb\n",
      "INFO:root:Saved\n",
      "INFO:root:Done!\n"
     ]
    },
    {
     "name": "stderr",
     "output_type": "stream",
     "text": [
      "  7%|▋         | 37/522 [18:49<4:06:39, 30.51s/it]"
     ]
    },
    {
     "name": "stdout",
     "output_type": "stream",
     "text": [
      "PRKD3_0.seq\n",
      "INFO:root:Reading ./Davis/cut_seqs/PRKD3_0.seq\n",
      "MSANNSPPSAQKSVLPTAIPAVLPAASPCSSPKTGLSARLSNGSFSAPSLTNSRGSVHTVSFLLQIGLTRESVTIEAQELSLSAVKDLVCSIVYQKFPECGFFGMYDKILLFRHDMNSENILQLITSADEIHEGDLVEVVLSALATVEDFQIRPHTLYVHSYKAPTFCDYCGEMLWGLVRQGLKCEGCGLNYHKRCAFKIPNNCSGVRKRRLSNVSLPGPGLSVPRPLQPEYVALPSEESHVHQEPSKRIPSWSGRPIWMEKMVMCRVKVPHTFAVHSYTRPTICQYCKRLLKGLFRQGMQCKDCKFNCHKRCASKVPRDCLGEVTFNGEPSSLGTDTDIPMDIDNNDINSDSSRGLDDTEEPSPPEDKMFFLDPSDLDVERDEEAVKTISPSTSNNIPLMRVVQSIKHTKRKSSTMVKEGWMVHYTSRDNLRKRHYWRLDSKCLTLFQNESGSKYYKEIPLSEILRISSPRDFTNISQGSNPHCFEIITDTMVYFVGENNGDSSHNPVLAATGVGLDVAQSWEKAIRQALMPVTPQASVCTSPGQGKDHKDLSTSISVSNCQIQENVDISTVYQIFADEVLGSGQFGIVYGGKHRKTGRDVAIKVIDKMRFPTKQESQLRNEVAILQNLHHPGIVNLECMFETPERVFVVMEKLHGDMLEMILSSEKSRLPERITKFMVTQILVALRNLHFKNIVHCDLKPENVLLASAEPFPQVKLCDFGFARIIGEKSFRRSVVGTPAYLAPEVLRSKGYNRSLDMWSVGVIIYVSLSGTFPFNEDEDINDQIQNAAFMYPPNPWRE\n",
      "INFO:root:Predicting 1th chain in ./Davis/cut_seqs/PRKD3_0.seq\n",
      "INFO:root:800 residues in this chain.\n",
      "INFO:root:Finished prediction in 57.01 seconds.\n",
      "INFO:root:Saving prediction to ./Davis/omega_2/PRKD3_0.pdb\n",
      "INFO:root:Saved\n",
      "INFO:root:Done!\n"
     ]
    },
    {
     "name": "stderr",
     "output_type": "stream",
     "text": [
      "  7%|▋         | 38/522 [19:46<5:12:21, 38.72s/it]"
     ]
    },
    {
     "name": "stdout",
     "output_type": "stream",
     "text": [
      "ROCK1_1.seq\n",
      "INFO:root:Reading ./Davis/cut_seqs/ROCK1_1.seq\n",
      "KGLEKQMKQEINTLLEAKRLLEFELAQLTKQYRGNEGQMRELQDQLEAEQYFSTLYKTQVKELKEEIEEKNRENLKKIQELQNEKETLATQLDLAETKAESEQLARGLLEEQYFELTQESKKAASRNRQEITDKDHTVSRLEEANSMLTKDIEILRRENEELTEKMKKAEEEYKLEKEEEISNLKAAFEKNINTERTLKTQAVNKLAEIMNRKDFKIDRKKANTQDLRKKEKENRKLQLELNQEREKFNQMVVKHQKELNDMQAQLVEECAHRNELQMQLASKESDIEQLRAKLLDLSDSTSVASFPSADETDGNLPESRIEGWLSVPNRGNIKRYGWKKQYVVVSSKKILFYNDEQDKEQSNPSMVLDIDKLFHVRPVTQGDVYRAETEEIPKIFQILYANEGECRKDVEMEPVQQAEKTNFQNHKGHEFIPTLYHFPANCDACAKPLWHVFKPPPALECRRCHVKCHRDHLDKKEDLICPCKVSYDVTSARDMLLLACSQDEQKKWVTHLVKKIPKNPPSGFVRASPRTLSTRSTANQSFRKVVKNTSGKTS\n",
      "INFO:root:Predicting 1th chain in ./Davis/cut_seqs/ROCK1_1.seq\n",
      "INFO:root:554 residues in this chain.\n",
      "INFO:root:Finished prediction in 24.14 seconds.\n",
      "INFO:root:Saving prediction to ./Davis/omega_2/ROCK1_1.pdb\n",
      "INFO:root:Saved\n",
      "INFO:root:Done!\n"
     ]
    },
    {
     "name": "stderr",
     "output_type": "stream",
     "text": [
      "  7%|▋         | 39/522 [20:11<4:37:51, 34.52s/it]"
     ]
    },
    {
     "name": "stdout",
     "output_type": "stream",
     "text": [
      "AAK1_0.seq\n",
      "INFO:root:Reading ./Davis/cut_seqs/AAK1_0.seq\n",
      "MKKFFDSRREQGGSGLGSGSSGGGGSTSGLGSGYIGRVFGIGRQQVTVDEVLAEGGFAIVFLVRTSNGMKCALKRMFVNNEHDLQVCKREIQIMRDLSGHKNIVGYIDSSINNVSSGDVWEVLILMDFCRGGQVVNLMNQRLQTGFTENEVLQIFCDTCEAVARLHQCKTPIIHRDLKVENILLHDRGHYVLCDFGSATNKFQNPQTEGVNAVEDEIKKYTTLSYRAPEMVNLYSGKIITTKADIWALGCLLYKLCYFTLPFGESQVAICDGNFTIPDNSRYSQDMHCLIRYMLEPDPDKRPDIYQVSYFSFKLLKKECPIPNVQNSPIPAKLPEPVKASEAAAKKTQPKARLTDPIPTTETSIAPRQRPKAGQTQPNPGILPIQPALTPRKRATVQPPPQAAGSSNQPGLLASVPQPKPQAPPSQPLPQTQAKQPQAPPTPQQTPSTQAQGLPAQAQATPQHQQQLFLKQQQQQQQPPPAQQQPAGTFYQQQQAQTQQFQAVHPATQKPAIAQFPVVSQGGSQQQLMQNFYQQQQQQQQQQQQQQLATALHQQQLMTQQAALQQKPTMAAGQQPQPQPAAAPQPAPAQEPAIQAPVRQQPKVQTTPPPAVQGQKVGSLTPPSSPKTQRAGHRRILSDVTHSAVFGVPASKSTQLLQAAAAEASLNKSKSATTTPSGSPRTSQQNVYNPSEGSTWNPFDDDNFSKLTAEELLNKDFAKLGEGKHPEKLGGSAESLIPGFQSTQGDAFATTSFSAGTAEKRKGGQTVDSGLPLLSVSDPFIPLQVPDAPEKLIEGLKSPDT\n",
      "INFO:root:Predicting 1th chain in ./Davis/cut_seqs/AAK1_0.seq\n",
      "INFO:root:800 residues in this chain.\n",
      "INFO:root:Finished prediction in 57.02 seconds.\n",
      "INFO:root:Saving prediction to ./Davis/omega_2/AAK1_0.pdb\n",
      "INFO:root:Saved\n",
      "INFO:root:Done!\n"
     ]
    },
    {
     "name": "stderr",
     "output_type": "stream",
     "text": [
      "  8%|▊         | 40/522 [21:09<5:33:30, 41.52s/it]"
     ]
    },
    {
     "name": "stdout",
     "output_type": "stream",
     "text": [
      "FGFR3.seq\n",
      "INFO:root:Reading ./Davis/cut_seqs/FGFR3.seq\n",
      "TRALPEDAGEYTCLAGNSIGFSHHSAWLVVLPAEEELVEADEAGSVYAGILSYGVGFFLFILVVAAVTLCRLRSPPKKGLGSPTVHKISRFPLKRQVSLESNASMSSNTPLVRIARLSSGEGPTLANVSELELPADPKWELSRARLTLGKPLGEGCFGQVVMAEAIGIDKDRAAKPVTVAVKMLKDDATDKDLSDLVSEMEMMKMIGKHKNIINLLGACTQGGPLYVLVEYAAKGNLREFLRARRPPGLDYSFDTCKPPEEQLTFKDLVSCAYQVARGMEYLASQKCIHRDLAARNVLVTEDNVMKIADFGLARDVHNLDYYKKTTNGRLPVKWMAPEALFDRVYTHQSDVWSFGVLLWEIFTLGGSPYPGIPVEELFKLLKEGHRMDKPANCTHDLYMIMRECWHAAPSQRPTFKQLVEDLDRVLTVTSTDEYLDLSAPFEQYSPGGQDTPSSSSSGDDSVFAHDLLPPAPPSSGGSRT\n",
      "INFO:root:Predicting 1th chain in ./Davis/cut_seqs/FGFR3.seq\n",
      "INFO:root:480 residues in this chain.\n",
      "INFO:root:Finished prediction in 16.78 seconds.\n",
      "INFO:root:Saving prediction to ./Davis/omega_2/FGFR3.pdb\n",
      "INFO:root:Saved\n",
      "INFO:root:Done!\n"
     ]
    },
    {
     "name": "stderr",
     "output_type": "stream",
     "text": [
      "  8%|▊         | 41/522 [21:26<4:34:28, 34.24s/it]"
     ]
    },
    {
     "name": "stdout",
     "output_type": "stream",
     "text": [
      "ACVR1B.seq\n",
      "INFO:root:Reading ./Davis/cut_seqs/ACVR1B.seq\n",
      "MAESAGASSFFPLVVLLLAGSGGSGPRGVQALLCACTSCLQANYTCETDGACMVSIFNLDGMEHHVRTCIPKVELVPAGKPFYCLSSEDLRNTHCCYTDYCNRIDLRVPSGHLKEPEHPSMWGPVELVGIIAGPVFLLFLIIIIVFLVINYHQRVYHNRQRLDMEDPSCEMCLSKDKTLQDLVYDLSTSGSGSGLPLFVQRTVARTIVLQEIIGKGRFGEVWRGRWRGGDVAVKIFSSREERSWFREAEIYQTVMLRHENILGFIAADNKDNGTWTQLWLVSDYHEHGSLFDYLNRYTVTIEGMIKLALSAASGLAHLHMEIVGTQGKPGIAHRDLKSKNILVKKNGMCAIADLGLAVRHDAVTDTIDIAPNQRVGTKRYMAPEVLDETINMKHFDSFKCADIYALGLVYWEIARRCNSGGVHEEYQLPYYDLVPSDPSIEEMRKVVCDQKLRPNIPNWWQSYEALRVMGKMMRECWYANGAARLTALRIKKTLSQLSVQEDVKI\n",
      "INFO:root:Predicting 1th chain in ./Davis/cut_seqs/ACVR1B.seq\n",
      "INFO:root:505 residues in this chain.\n",
      "INFO:root:Finished prediction in 19.24 seconds.\n",
      "INFO:root:Saving prediction to ./Davis/omega_2/ACVR1B.pdb\n",
      "INFO:root:Saved\n",
      "INFO:root:Done!\n"
     ]
    },
    {
     "name": "stderr",
     "output_type": "stream",
     "text": [
      "  8%|▊         | 42/522 [21:46<3:59:48, 29.98s/it]"
     ]
    },
    {
     "name": "stdout",
     "output_type": "stream",
     "text": [
      "NDR2.seq\n",
      "INFO:root:Reading ./Davis/cut_seqs/NDR2.seq\n",
      "MAMTAGTTTTFPMSNHTRERVTVAKLTLENFYSNLILQHEERETRQKKLEVAMEEEGLADEEKKLRRSQHARKETEFLRLKRTRLGLDDFESLKVIGRGAFGEVRLVQKKDTGHIYAMKILRKSDMLEKEQVAHIRAERDILVEADGAWVVKMFYSFQDKRNLYLIMEFLPGGDMMTLLMKKDTLTEEETQFYISETVLAIDAIHQLGFIHRDIKPDNLLLDAKGHVKLSDFGLCTGLKKAHRTEFYRNLTHNPPSDFSFQNMNSKRKAETWKKNRRQLAYSTVGTPDYIAPEVFMQTGYNKLCDWWSLGVIMYEMLIGYPPFCSETPQETYRKVMNWKETLVFPPEVPISEKAKDLILRFCIDSENRIGNSGVEEIKGHPFFEGVDWEHIRERPAAIPIEIKSIDDTSNFDDFPESDILQPVPNTTEPDYKSKDWVFLNYTYKRFEGLTQRGSIPTYMKAGKL\n",
      "INFO:root:Predicting 1th chain in ./Davis/cut_seqs/NDR2.seq\n",
      "INFO:root:464 residues in this chain.\n",
      "INFO:root:Finished prediction in 15.32 seconds.\n",
      "INFO:root:Saving prediction to ./Davis/omega_2/NDR2.pdb\n",
      "INFO:root:Saved\n",
      "INFO:root:Done!\n"
     ]
    },
    {
     "name": "stderr",
     "output_type": "stream",
     "text": [
      "  8%|▊         | 43/522 [22:02<3:25:13, 25.71s/it]"
     ]
    },
    {
     "name": "stdout",
     "output_type": "stream",
     "text": [
      "BTK.seq\n",
      "INFO:root:Reading ./Davis/cut_seqs/BTK.seq\n",
      "MAAVILESIFLKRSQQKKKTSPLNFKKRLFLLTVHKLSYYEYDFERGRRGSKKGSIDVEKITCVETVVPEKNPPPERQIPRRGEESSEMEQISIIERFPYPFQVVYDEGPLYVFSPTEELRKRWIHQLKNVIRYNSDLVQKYHPCFWIDGQYLCCSQTAKNAMGCQILENRNGSLKPGSSHRKTKKPLPPTPEEDQILKKPLPPEPAAAPVSTSELKKVVALYDYMPMNANDLQLRKGDEYFILEESNLPWWRARDKNGQEGYIPSNYVTEAEDSIEMYEWYSKHMTRSQAEQLLKQEGKEGGFIVRDSSKAGKYTVSVFAKSTGDPQGVIRHYVVCSTPQSQYYLAARNCLVNDQGVVKVSDFGLSRYVLDDEYTSSVGSKFPVRWSPPEVLMYSKFSSKSDIWAFGVLMWEIYSLGKMPYERFTNSETAEHIAQGLRLYRPHLASEKVYTIMYSCWHEKADERPTFKILLSNILDVMDEES\n",
      "INFO:root:Predicting 1th chain in ./Davis/cut_seqs/BTK.seq\n",
      "INFO:root:483 residues in this chain.\n",
      "INFO:root:Finished prediction in 17.40 seconds.\n",
      "INFO:root:Saving prediction to ./Davis/omega_2/BTK.pdb\n",
      "INFO:root:Saved\n",
      "INFO:root:Done!\n"
     ]
    },
    {
     "name": "stderr",
     "output_type": "stream",
     "text": [
      "  8%|▊         | 44/522 [22:20<3:06:06, 23.36s/it]"
     ]
    },
    {
     "name": "stdout",
     "output_type": "stream",
     "text": [
      "PYK2_1.seq\n",
      "INFO:root:Reading ./Davis/cut_seqs/PYK2_1.seq\n",
      "KVKMRQILDKQQKQMVEDYQWLRQEEKSLDPMVYMNDKSPLTPEKEVGYLEFTGPPQKPPRLGAQSIQPTANLDRTDDLVYLNVMELVRAVLELKNELCQLPPEGYVVVVKNVGLTLRKLIGSVDDLLPSLPSSSRTEIEGTQKLLNKDLAELINKMRLAQQNAVTSLSEECKRQMLTASHTLAVDAKNLLDAVDQAKVLANLAHPPAE\n",
      "INFO:root:Predicting 1th chain in ./Davis/cut_seqs/PYK2_1.seq\n",
      "INFO:root:209 residues in this chain.\n",
      "INFO:root:Finished prediction in 2.40 seconds.\n",
      "INFO:root:Saving prediction to ./Davis/omega_2/PYK2_1.pdb\n",
      "INFO:root:Saved\n",
      "INFO:root:Done!\n"
     ]
    },
    {
     "name": "stderr",
     "output_type": "stream",
     "text": [
      "  9%|▊         | 45/522 [22:23<2:16:18, 17.15s/it]"
     ]
    },
    {
     "name": "stdout",
     "output_type": "stream",
     "text": [
      "PRKX.seq\n",
      "INFO:root:Reading ./Davis/cut_seqs/PRKX.seq\n",
      "MEAPGLAQAAAAESDSRKVAEETPDGAPALCPSPEALSPEPPVYSLQDFDTLATVGTGTFGRVHLVKEKTAKHFFALKVMSIPDVIRLKQEQHVHNEKSVLKEVSHPFLIRLFWTWHDERFLYMLMEYVPGGELFSYLRNRGRFSSTTGLFYSAEIICAIEYLHSKEIVYRDLKPENILLDRDGHIKLTDFGFAKKLVDRTWTLCGTPEYLAPEVIQSKGHGRAVDWWALGILIFEMLSGFPPFFDDNPFGIYQKILAGKIDFPRHLDFHVKDLIKKLLVVDRTRRLGNMKNGANDVKHHRWFRSVDWEAVPQRKLKPPIVPKIAGDGDTSNFETYPENDWDTAAPVPQKDLEIFKNF\n",
      "INFO:root:Predicting 1th chain in ./Davis/cut_seqs/PRKX.seq\n",
      "INFO:root:358 residues in this chain.\n",
      "INFO:root:Finished prediction in 8.26 seconds.\n",
      "INFO:root:Saving prediction to ./Davis/omega_2/PRKX.pdb\n",
      "INFO:root:Saved\n",
      "INFO:root:Done!\n"
     ]
    },
    {
     "name": "stderr",
     "output_type": "stream",
     "text": [
      "  9%|▉         | 46/522 [22:31<1:55:38, 14.58s/it]"
     ]
    },
    {
     "name": "stdout",
     "output_type": "stream",
     "text": [
      "ACVR2B.seq\n",
      "INFO:root:Reading ./Davis/cut_seqs/ACVR2B.seq\n",
      "MTAPWVALALLWGSLCAGSGRGEAETRECIYYNANWELERTNQSGLERCEGEQDKRLHCYASWRNSSGTIELVKKGCWLDDFNCYDRQECVATEENPQVYFCCCEGNFCNERFTHLPEAGGPEVTYEPPPTAPTLLTVLAYSLLPIGGLSLIVLLAFWMYRHRKPPYGHVDIHEDPGPPPPSPLVGLKPLQLLEIKARGRFGCVWKAQLMNDFVAVKIFPLQDKQSWQSEREIFSTPGMKHENLLQFIAAEKRGSNLEVELWLITAFHDKGSLTDYLKGNIITWNELCHVAETMSRGLSYLHEDVPWCRGEGHKPSIAHRDFKSKNVLLKSDLTAVLADFGLAVRFEPGKPPGDTHGQVGTRRYMAPEVLEGAINFQRDAFLRIDMYAMGLVLWELVSRCKAADGPVDEYMLPFEEEIGQHPSLEELQEVVVHKKMRPTIKDHWLKHPGLAQLCVTIEECWDHDAEARLSAGCVEERVSLIRRSVNGTTSDCLVSLVTSVTNVDLPPKESSI\n",
      "INFO:root:Predicting 1th chain in ./Davis/cut_seqs/ACVR2B.seq\n",
      "INFO:root:512 residues in this chain.\n",
      "INFO:root:Finished prediction in 19.28 seconds.\n",
      "INFO:root:Saving prediction to ./Davis/omega_2/ACVR2B.pdb\n",
      "INFO:root:Saved\n",
      "INFO:root:Done!\n"
     ]
    },
    {
     "name": "stderr",
     "output_type": "stream",
     "text": [
      "  9%|▉         | 47/522 [22:51<2:07:45, 16.14s/it]"
     ]
    },
    {
     "name": "stdout",
     "output_type": "stream",
     "text": [
      "AXL_0.seq\n",
      "INFO:root:Reading ./Davis/cut_seqs/AXL_0.seq\n",
      "MAWRCPRMGRVPLAWCLALCGWACMAPRGTQAEESPFVGNPGNITGARGLTGTLRCQLQVQGEPPEVHWLRDGQILELADSTQTQVPLGEDEQDDWIVVSQLRITSLQLSDTGQYQCLVFLGHQTFVSQPGYVGLEGLPYFLEEPEDRTVAANTPFNLSCQAQGPPEPVDLLWLQDAVPLATAPGHGPQRSLHVPGLNKTSSFSCEAHNAKGVTTSRTATITVLPQQPRNLHLVSRQPTELEVAWTPGLSGIYPLTHCTLQAVLSNDGMGIQAGEPDPPEEPLTSQASVPPHQLRLGSLHPHTPYHIRVACTSSQGPSSWTHWLPVETPEGVPLGPPENISATRNGSQAFVHWQEPRAPLQGTLLGYRLAYQGQDTPEVLMDIGLRQEVTLELQGDGSVSNLTVCVAAYTAAGDGPWSLPVPLEAWRPGQAQPVHQLVKEPSTPAFSWPWWYVLLGAVVAAACVLILALFLVHRRKKETRYGEVFEPTVERGELVVRYRVRKSYSRRTTEATLNSLGISEELKEKLRDVMVDRHKVALGKTLGEGEFGAVMEGQLNQDDSILKVAVKTMKIAICTRSELEDFLSEAVCMKEFDHPNVMRLIGVCFQGSERESFPAPVVILPFMKHGDLHSFLLYSRLGDQPVYLPTQMLVKFMADIASGMEYLSTKRFIHRDLAARNCMLNENMSVCVADFGLSKKIYNGDYYRQGRIAKMPVKWIAIESLADRVYTSKSDVWSFGVTMWEIATRGQTPYPGVENSEIYDYLRQGNRLKQPADCLDGLYALMSRCWELNPQDRPSFTELR\n",
      "INFO:root:Predicting 1th chain in ./Davis/cut_seqs/AXL_0.seq\n",
      "INFO:root:800 residues in this chain.\n",
      "INFO:root:Finished prediction in 57.16 seconds.\n",
      "INFO:root:Saving prediction to ./Davis/omega_2/AXL_0.pdb\n",
      "INFO:root:Saved\n",
      "INFO:root:Done!\n"
     ]
    },
    {
     "name": "stderr",
     "output_type": "stream",
     "text": [
      "  9%|▉         | 48/522 [23:49<3:46:51, 28.72s/it]"
     ]
    },
    {
     "name": "stdout",
     "output_type": "stream",
     "text": [
      "SRC.seq\n",
      "INFO:root:Reading ./Davis/cut_seqs/SRC.seq\n",
      "MGSNKSKPKDASQRRRSLEPAENVHGAGGGAFPASQTPSKPASADGHRGPSAAFAPAAAEPKLFGGFNSSDTVTSPQRAGPLAGGVTTFVALYDYESRTETDLSFKKGERLQIVNNTEGDWWLAHSLSTGQTGYIPSNYVAPSDSIQAEEWYFGKITRRESERLLLNAENPRGTFLVRESETTKGAYCLSVSDFDNAKGLNVKHYKIRKLDSGGFYITSRTQFNSLQQLVAYYSKHADGLCHRLTTVCPTSKPQTQGLAKDAWEIPRESLRLEVKLGQGCFGEVWMGTWNGTTRVAIKTLKPGTMSPEAFLQEAQVMKKLRHEKLVQLYAVVSEEPIYIVTEYMSKGSLLDFLKGETGKYLRLPQLVDMAAQIASGMAYVERMNYVHRDLRAANILVGENLVCKVADFGLARLIEDNEYTARQGAKFPIKWTAPEAALYGRFTIKSDVWSFGILLTELTTKGRVPYPGMVNREVLDQVERGYRMPCPPECPESLHDLMCQCWRKEPEERPTFEYLQAFLEDYFTSTEPQYQPGENL\n",
      "INFO:root:Predicting 1th chain in ./Davis/cut_seqs/SRC.seq\n",
      "INFO:root:536 residues in this chain.\n",
      "INFO:root:Finished prediction in 21.44 seconds.\n",
      "INFO:root:Saving prediction to ./Davis/omega_2/SRC.pdb\n",
      "INFO:root:Saved\n",
      "INFO:root:Done!\n"
     ]
    },
    {
     "name": "stderr",
     "output_type": "stream",
     "text": [
      "  9%|▉         | 49/522 [24:11<3:30:18, 26.68s/it]"
     ]
    },
    {
     "name": "stdout",
     "output_type": "stream",
     "text": [
      "RSK1(KinDom.1-N-terminal).seq\n",
      "INFO:root:Reading ./Davis/cut_seqs/RSK1(KinDom.1-N-terminal).seq\n",
      "MPLAQLKEPWPLMELVPLDPENGQTSGEEAGLQPSKDEGVLKEISITHHVKAGSEKADPSHFELLKVLGQGSFGKVFLVRKVTRPDSGHLYAMKVLKKATLKVRDRVRTKMERDILADVNHPFVVKLHYAFQTEGKLYLILDFLRGGDLFTRLSKEVMFTEEDVKFYLAELALGLDHLHSLGIIYRDLKPENILLDEEGHIKLTDFGLSKEAIDHEKKAYSFCGTVEYMAPEVVNRQGHSHSADWWSYGVLMFEMLTGSLPFQGKDRKETMTLILKAKLGMPQFLSTEAQSLLRALFKRNPANRLGSGPDGAEEIKRHVFYSTIDWNKLYRREIKPPFKPAVAQPDDTFYFDTEFTSRTPKDSPGIPPSAGAHQLFRGFSFVATGLMEDDGKPRAPQAPLHSVVQQLHGKNLVFSDGYVVKETIGVGSYSECKRCVHKATNMEYAVKVIDKSKRDPSEEIEILLRYGQHPNIITLKDVYDDGKHVYLVTELMRGGELLDKILRQKFFSEREASFVLHTIGKTVEYLHSQGVVHRDLKPSNILYVDESGNPECLRICDFGFAKQLRAENGLLMTPCYTANFVAPEVLKRQGYDEGCDIWSLGILLYTMLAGYTPFANGPSDTPEEILTRIGSGKFTLSGGNWNTVSETAKDLVSKMLHVDPHQRLTAKQVLQHPWVTQKDKLPQSQLSHQDLQLVKGAMAATYSALNSSKPTPQLKPIESSILAQRRVRKLPSTTL\n",
      "INFO:root:Predicting 1th chain in ./Davis/cut_seqs/RSK1(KinDom.1-N-terminal).seq\n",
      "INFO:root:735 residues in this chain.\n",
      "INFO:root:Finished prediction in 50.03 seconds.\n",
      "INFO:root:Saving prediction to ./Davis/omega_2/RSK1(KinDom.1-N-terminal).pdb\n",
      "INFO:root:Saved\n",
      "INFO:root:Done!\n"
     ]
    },
    {
     "name": "stderr",
     "output_type": "stream",
     "text": [
      " 10%|▉         | 50/522 [25:02<4:27:07, 33.96s/it]"
     ]
    },
    {
     "name": "stdout",
     "output_type": "stream",
     "text": [
      "PDPK1.seq\n",
      "INFO:root:Reading ./Davis/cut_seqs/PDPK1.seq\n",
      "MARTTSQLYDAVPIQSSVVLCSCPSPSMVRTQTESSTPPGIPGGSRQGPAMDGTAAEPRPGAGSLQHAQPPPQPRKKRPEDFKFGKILGEGSFSTVVLARELATSREYAIKILEKRHIIKENKVPYVTRERDVMSRLDHPFFVKLYFTFQDDEKLYFGLSYAKNGELLKYIRKIGSFDETCTRFYTAEIVSALEYLHGKGIIHRDLKPENILLNEDMHIQITDFGTAKVLSPESKQARANSFVGTAQYVSPELLTEKSACKSSDLWALGCIIYQLVAGLPPFRAGNEYLIFQKIIKLEYDFPEKFFPKARDLVEKLLVLDATKRLGCEEMEGYGPLKAHPFFESVTWENLHQQTPPKLTAYLPAMSEDDEDCYGNYDNLLSQFGCMQVSSSSSSHSLSASDTGLPQRSGSNIEQYIHDLDSNSFELDLQFSEDEKRLLLEKQAGGNPWHQFVENNLILKMGPVDKRKGLFARRRQLLLTEGPHLYYVDPVNKVLKGEIPWSQELRPEAKNFKTFFVHTPNRTYYLMDPSGNAHKWCRKIQEVWRQRYQSHPDAAVQ\n",
      "INFO:root:Predicting 1th chain in ./Davis/cut_seqs/PDPK1.seq\n",
      "INFO:root:556 residues in this chain.\n",
      "INFO:root:Finished prediction in 23.90 seconds.\n",
      "INFO:root:Saving prediction to ./Davis/omega_2/PDPK1.pdb\n",
      "INFO:root:Saved\n",
      "INFO:root:Done!\n"
     ]
    },
    {
     "name": "stderr",
     "output_type": "stream",
     "text": [
      " 10%|▉         | 51/522 [25:26<4:04:18, 31.12s/it]"
     ]
    },
    {
     "name": "stdout",
     "output_type": "stream",
     "text": [
      "ERK1.seq\n",
      "INFO:root:Reading ./Davis/cut_seqs/ERK1.seq\n",
      "MAAAAAQGGGGGEPRRTEGVGPGVPGEVEMVKGQPFDVGPRYTQLQYIGEGAYGMVSSAYDHVRKTRVAIKKISPFEHQTYCQRTLREIQILLRFRHENVIGIRDILRASTLEAMRDVYIVQDLMETDLYKLLKSQQLSNDHICYFLYQILRGLKYIHSANVLHRDLKPSNLLINTTCDLKICDFGLARIADPEHDHTGFLTEYVATRWYRAPEIMLNSKGYTKSIDIWSVGCILAEMLSNRPIFPGKHYLDQLNHILGILGSPSQEDLNCIINMKARNYLQSLPSKTKVAWAKLFPKSDSKALDLLDRMLTFNPNKRITVEEALAHPYLEQYYDPTDEPVAEEPFTFAMELDDLPKERLKELIFQETARFQPGVLEAP\n",
      "INFO:root:Predicting 1th chain in ./Davis/cut_seqs/ERK1.seq\n",
      "INFO:root:379 residues in this chain.\n",
      "INFO:root:Finished prediction in 9.58 seconds.\n",
      "INFO:root:Saving prediction to ./Davis/omega_2/ERK1.pdb\n",
      "INFO:root:Saved\n",
      "INFO:root:Done!\n"
     ]
    },
    {
     "name": "stderr",
     "output_type": "stream",
     "text": [
      " 10%|▉         | 52/522 [25:36<3:13:57, 24.76s/it]"
     ]
    },
    {
     "name": "stdout",
     "output_type": "stream",
     "text": [
      "MKK7.seq\n",
      "INFO:root:Reading ./Davis/cut_seqs/MKK7.seq\n",
      "MAASSLEQKLSRLEAKLKQENREARRRIDLNLDISPQRPRPTLQLPLANDGGSRSPSSESSPQHPTPPARPRHMLGLPSTLFTPRSMESIEIDQKLQEIMKQTGYLTIGGQRYQAEINDLENLGEMGSGTCGQVWKMRFRKTGHVIAVKQMRRSGNKEENKRILMDLDVVLKSHDCPYIVQCFGTFITNTDVFIAMELMGTCAEKLKKRMQGPIPERILGKMTVAIVKALYYLKEKHGVIHRDVKPSNILLDERGQIKLCDFGISGRLVDSKAKTRSAGCAAYMAPERIDPPDPTKPDYDIRADVWSLGISLVELATGQFPYKNCKTDFEVLTKVLQEEPPLLPGHMGFSGDFQSFVKDCLTKDHRKRPKYNKLLEHSFIKRYETLEVDVASWFKDVMAKTESPRTSGVLSQPHLPFFR\n",
      "INFO:root:Predicting 1th chain in ./Davis/cut_seqs/MKK7.seq\n",
      "INFO:root:419 residues in this chain.\n",
      "INFO:root:Finished prediction in 12.18 seconds.\n",
      "INFO:root:Saving prediction to ./Davis/omega_2/MKK7.pdb\n",
      "INFO:root:Saved\n",
      "INFO:root:Done!\n"
     ]
    },
    {
     "name": "stderr",
     "output_type": "stream",
     "text": [
      " 10%|█         | 53/522 [25:49<2:45:04, 21.12s/it]"
     ]
    },
    {
     "name": "stdout",
     "output_type": "stream",
     "text": [
      "MYO3B_0.seq\n",
      "INFO:root:Reading ./Davis/cut_seqs/MYO3B_0.seq\n",
      "MKHLYGLFHYNPMMLGLESLPDPTDTWEIIETIGKGTYGKVYKVTNKRDGSLAAVKILDPVSDMDEEIEAEYNILQFLPNHPNVVKFYGMFYKADHCVGGQLWLVLELCNGGSVTELVKGLLRCGQRLDEAMISYILYGALLGLQHLHNNRIIHRDVKGNNILLTTEGGVKLVDFGVSAQLTSTRLRRNTSVGTPFWMAPEVIACEQQYDSSYDARCDVWSLGITAIELGDGDPPLFDMHPVKTLFKIPRNPPPTLLHPEKWCEEFNHFISQCLIKDFERRPSVTHLLDHPFIKGVHGKVLFLQKQLAKVLQDQKHQNPVAKTRHERMHTRRPYHVEDAEKYCLEDDLVNLEVLDEDTIIHQLQKRYADLLIYTYVGDILIALNPFQNLSIYSPQFSRLYHGVKRASNPPHIFASADAAYQCMVTLSKDQCIVISGESGSGKTESAHLIVQHLTFLGKANNQTLREKILQVNSLVEAFGNSCTAINDNSSRFGKYLEMMFTPTGVVMGARISEYLLEKSRVIKQAAREKNFHIFYYIYAGLHHQKKLSDFRLPEEKPPRYIADETGRVMHDITSKESYRRQFEAIQHCFRIIGFTDKEVHSVYRILAGILNIGNIEFAAISSQHQTDKSEVPNAEALQNAASVLCISPEELQEALTSHCVVTRGETIIRANTVDRAADVRDAMSKALYGRLFSWIVNRINTLLQPDENICSAGGGMNVGILDIFGFENFQRNSFEQLCINIANEQIQYYFNQHVFALEQMEYQNEGIDAVPVEYEDNRPLLDMFLQKPLGLLALLDEESR\n",
      "INFO:root:Predicting 1th chain in ./Davis/cut_seqs/MYO3B_0.seq\n",
      "INFO:root:800 residues in this chain.\n",
      "INFO:root:Finished prediction in 57.03 seconds.\n",
      "INFO:root:Saving prediction to ./Davis/omega_2/MYO3B_0.pdb\n",
      "INFO:root:Saved\n",
      "INFO:root:Done!\n"
     ]
    },
    {
     "name": "stderr",
     "output_type": "stream",
     "text": [
      " 10%|█         | 54/522 [26:47<4:11:08, 32.20s/it]"
     ]
    },
    {
     "name": "stdout",
     "output_type": "stream",
     "text": [
      "EPHB4_1.seq\n",
      "INFO:root:Reading ./Davis/cut_seqs/EPHB4_1.seq\n",
      "SDAWSYGIVMWEVMSFGERPYWDMSNQDVINAIEQDYRLPPPPDCPTSLHQLMLDCWQKDRNARPRFPQVVSALDKMIRNPASLKIVARENGGDLLRIGVTLAGHQKKILASVQHMKSQAKPGTPGGTGGPAPQY\n",
      "INFO:root:Predicting 1th chain in ./Davis/cut_seqs/EPHB4_1.seq\n",
      "INFO:root:135 residues in this chain.\n",
      "INFO:root:Finished prediction in 1.12 seconds.\n",
      "INFO:root:Saving prediction to ./Davis/omega_2/EPHB4_1.pdb\n",
      "INFO:root:Saved\n",
      "INFO:root:Done!\n"
     ]
    },
    {
     "name": "stderr",
     "output_type": "stream",
     "text": [
      " 11%|█         | 55/522 [26:48<2:58:28, 22.93s/it]"
     ]
    },
    {
     "name": "stdout",
     "output_type": "stream",
     "text": [
      "CDK5.seq\n",
      "INFO:root:Reading ./Davis/cut_seqs/CDK5.seq\n",
      "MQKYEKLEKIGEGTYGTVFKAKNRETHEIVALKRVRLDDDDEGVPSSALREICLLKELKHKNIVRLHDVLHSDKKLTLVFEFCDQDLKKYFDSCNGDLDPEIVKSFLFQLLKGLGFCHSRNVLHRDLKPQNLLINRNGELKLADFGLARAFGIPVRCYSAEVVTLWYRPPDVLFGAKLYSTSIDMWSAGCIFAELANAGRPLFPGNDVDDQLKRIFRLLGTPTEEQWPSMTKLPDYKPYPMYPATTSLVNVVPKLNATGRDLLQNLLKCNPVQRISAEEALQHPYFSDFCPP\n",
      "INFO:root:Predicting 1th chain in ./Davis/cut_seqs/CDK5.seq\n",
      "INFO:root:292 residues in this chain.\n",
      "INFO:root:Finished prediction in 5.12 seconds.\n",
      "INFO:root:Saving prediction to ./Davis/omega_2/CDK5.pdb\n",
      "INFO:root:Saved\n",
      "INFO:root:Done!\n"
     ]
    },
    {
     "name": "stderr",
     "output_type": "stream",
     "text": [
      " 11%|█         | 56/522 [26:54<2:17:16, 17.68s/it]"
     ]
    },
    {
     "name": "stdout",
     "output_type": "stream",
     "text": [
      "PKMYT1.seq\n",
      "INFO:root:Reading ./Davis/cut_seqs/PKMYT1.seq\n",
      "MLERPPALAMPMPTEGTPPPLSGTPIPVPAYFRHAEPGFSLKRPRGLSRSLPPPPPAKGSIPISRLFPPRTPGWHQLQPRRVSFRGEASETLQSPGYDPSRPESFFQQSFQRLSRLGHGSYGEVFKVRSKEDGRLYAVKRSMSPFRGPKDRARKLAEVGSHEKVGQHPCCVRLEQAWEEGGILYLQTELCGPSLQQHCEAWGASLPEAQVWGYLRDTLLALAHLHSQGLVHLDVKPANIFLGPRGRCKLGDFGLLVELGTAGAGEVQEGDPRYMAPELLQGSYGTAADVFSLGLTILEVACNMELPHGGEGWQQLRQGYLPPEFTAGLSSELRSVLVMMLEPDPKLRATAEALLALPVLRQPRAWGVLWCMAAEALSRGWALWQALLALLCWLWHGLAHPASWLQPLGPPATPPGSPPCSLLLDSSLSSNWDDDSLGPSLSPEAVLARTVGSTSTPRSRCTPRDALDLSDINSEPPRGSFPSFEPRNLLSLFEDTLDPT\n",
      "INFO:root:Predicting 1th chain in ./Davis/cut_seqs/PKMYT1.seq\n",
      "INFO:root:499 residues in this chain.\n",
      "INFO:root:Finished prediction in 18.79 seconds.\n",
      "INFO:root:Saving prediction to ./Davis/omega_2/PKMYT1.pdb\n",
      "INFO:root:Saved\n",
      "INFO:root:Done!\n"
     ]
    },
    {
     "name": "stderr",
     "output_type": "stream",
     "text": [
      " 11%|█         | 57/522 [27:13<2:20:50, 18.17s/it]"
     ]
    },
    {
     "name": "stdout",
     "output_type": "stream",
     "text": [
      "QSK_0.seq\n",
      "INFO:root:Reading ./Davis/cut_seqs/QSK_0.seq\n",
      "MPARIGYYEIDRTIGKGNFAVVKRATHLVTKAKVAIKIIDKTQLDEENLKKIFREVQIMKMLCHPHIIRLYQVMETERMIYLVTEYASGGEIFDHLVAHGRMAEKEARRKFKQIVTAVYFCHCRNIVHRDLKAENLLLDANLNIKIADFGFSNLFTPGQLLKTWCGSPPYAAPELFEGKEYDGPKVDIWSLGVVLYVLVCGALPFDGSTLQNLRARVLSGKFRIPFFMSTECEHLIRHMLVLDPNKRLSMEQICKHKWMKLGDADPNFDRLIAECQQLKEERQVDPLNEDVLLAMEDMGLDKEQTLQSLRSDAYDHYSAIYSLLCDRHKRHKTLRLGALPSMPRALAFQAPVNIQAEQAGTAMNISVPQVQLINPENQIVEPDGTLNLDSDEGEEPSPEALVRYLSMRRHTVGVADPRTEVMEDLQKLLPGFPGVNPQAPFLQVAPNVNFMHNLLPMQNLQPTGQLEYKEQSLLQPPTLQLLNGMGPLGRRASDGGANIQLHAQQLLKRPRGPSPLVTMTPAVPAVTPVDEESSDGEPDQEAVQSSTYKDSNTLHLPTERFSPVRRFSDGAASIQAFKAHLEKMGNNSSIKQLQQECEQLQKMYGGQIDERTLEKTQQQHMLYQQEQHHQILQQQIQDSICPPQPSPPLQAACENQPALLTHQLQRLRIQPSSPPPNHPNNHLFRQPSNSPPPMSSAMIQPHGAASSSQFQGLPSRSAIFQQQPENCSSPPNVALTCLGMQQPAQSQQVTIQVQEPVDMLSNMPGTAAGSSGRGISISPSAGQMQMQHRTNLMATLSYGH\n",
      "INFO:root:Predicting 1th chain in ./Davis/cut_seqs/QSK_0.seq\n",
      "INFO:root:800 residues in this chain.\n",
      "INFO:root:Finished prediction in 56.97 seconds.\n",
      "INFO:root:Saving prediction to ./Davis/omega_2/QSK_0.pdb\n",
      "INFO:root:Saved\n",
      "INFO:root:Done!\n"
     ]
    },
    {
     "name": "stderr",
     "output_type": "stream",
     "text": [
      " 11%|█         | 58/522 [28:11<3:52:44, 30.10s/it]"
     ]
    },
    {
     "name": "stdout",
     "output_type": "stream",
     "text": [
      "TIE2_0.seq\n",
      "INFO:root:Reading ./Davis/cut_seqs/TIE2_0.seq\n",
      "DDANGKSQTAGFLKGSLGPHAHLWKLDGEIWGSMDSLASLVLCGVSLLLSGTVEGAMDLILINSLPLVSDAETSLTCIASGWRPHEPITIGRDFEALMNQHQDPLEVTQDVTREWAKKVVWKREKASKINGAYFCEGRVRGEAIRIRTMKMRQQASFLPATLTMTVDKGDNVNISFKKVLIKEEDAVIYKNGSFIHSVPRHEVPDILEVHLPHAQPQDAGVYSARYIGGNLFTSAFTRLIVRRCEAQKWGPECNHLCTACMNNGVCHEDTGECICPPGFMGRTCEKACELHTFGRTCKERCSGQEGCKSYVFCLPDPYGCSCATGWKGLQCNEACHPGFYGPDCKLRCSCNNGEMCDRFQGCLCSPGWQGLQCEREGIPRMTPKIVDLPDHIEVNSGKFNPICKASGWPLPTNEEMTLVKPDGTVLHPKDFNHTDHFSVAIFTIHRILPPDSGVWVCSVNTVAGMVEKPFNISVKVLPKPLNAPNVIDTGHNFAVINISSEPYFGDGPIKSKKLLYKPVNHYEAWQHIQVTNEIVTLNYLEPRTEYELCVQLVRRGEGGEGHPGPVRRFTTASIGLPPPRGLNLLPKSQTTLNLTWQPIFPSSEDDFYVEVERRSVQKSDQQNIKVPGNLTSVLLNNLHPREQYVVRARVNTKAQGEWSEDLTAWTLSDILPPQPENIKISNITHSSAVISWTILDGYSISSITIRYKVQGKNEDQHVDVKIKNATITQYQLKGLEPETAYQVDIFAENNIGSSNPAFSHELVTLPESQAPADLGGGKMLLIAILGSAGMTCLTVLLAFL\n",
      "INFO:root:Predicting 1th chain in ./Davis/cut_seqs/TIE2_0.seq\n",
      "INFO:root:800 residues in this chain.\n",
      "INFO:root:Finished prediction in 57.06 seconds.\n",
      "INFO:root:Saving prediction to ./Davis/omega_2/TIE2_0.pdb\n",
      "INFO:root:Saved\n",
      "INFO:root:Done!\n"
     ]
    },
    {
     "name": "stderr",
     "output_type": "stream",
     "text": [
      " 11%|█▏        | 59/522 [29:09<4:56:39, 38.44s/it]"
     ]
    },
    {
     "name": "stdout",
     "output_type": "stream",
     "text": [
      "MYLK_2.seq\n",
      "INFO:root:Reading ./Davis/cut_seqs/MYLK_2.seq\n",
      "IKLIDFGLARRLENAGSLKVLFGTPEFVAPEVINYEPIGYATDMWSIGVICYILVSGLSPFMGDNDNETLANVTSATWDFDDEAFDEISDDAKDFISNLLKKDMKNRLDCTQCLQHPWLMKDTKNMEAKKLSKDRMKKYMARRKWQKTGNAVRAIGRLSSMAMISGLSGRKSSTGSPTSPLNAEKLESEEDVSQAFLEAVAEEKPHVKPYFSKTIRDLEVVEGSAARFDCKIEGYPDPEVVWFKDDQSIRESRHFQIDYDEDGNCSLIISDVCGDDDAKYTCKAVNSLGEATCTAELIVETMEEGEGEGEEEEE\n",
      "INFO:root:Predicting 1th chain in ./Davis/cut_seqs/MYLK_2.seq\n",
      "INFO:root:314 residues in this chain.\n",
      "INFO:root:Finished prediction in 6.05 seconds.\n",
      "INFO:root:Saving prediction to ./Davis/omega_2/MYLK_2.pdb\n",
      "INFO:root:Saved\n",
      "INFO:root:Done!\n"
     ]
    },
    {
     "name": "stderr",
     "output_type": "stream",
     "text": [
      " 11%|█▏        | 60/522 [29:15<3:42:06, 28.84s/it]"
     ]
    },
    {
     "name": "stdout",
     "output_type": "stream",
     "text": [
      "LATS2_1.seq\n",
      "INFO:root:Reading ./Davis/cut_seqs/LATS2_1.seq\n",
      "LDGHIKLTDFGLCTGFRWTHNSKYYQKGSHVRQDSMEPSDLWDDVSNCRCGDRLKTLEQRARKQHQRCLAHSLVGTPNYIAPEVLLRKGYTQLCDWWSVGVILFEMLVGQPPFLAPTPTETQLKVINWENTLHIPAQVKLSPEARDLITKLCCSADHRLGRNGADDLKAHPFFSAIDFSSDIRKQPAPYVPTISHPMDTSNFDPVDEESPWNDASEGSTKAWDTLTSPNNKHPEHAFYEFTFRRFFDDNGYPFRCPKPSGAEASQAESSDLESSDLVDQTEGCQPVYV\n",
      "INFO:root:Predicting 1th chain in ./Davis/cut_seqs/LATS2_1.seq\n",
      "INFO:root:288 residues in this chain.\n",
      "INFO:root:Finished prediction in 4.93 seconds.\n",
      "INFO:root:Saving prediction to ./Davis/omega_2/LATS2_1.pdb\n",
      "INFO:root:Saved\n",
      "INFO:root:Done!\n"
     ]
    },
    {
     "name": "stderr",
     "output_type": "stream",
     "text": [
      " 12%|█▏        | 61/522 [29:20<2:47:07, 21.75s/it]"
     ]
    },
    {
     "name": "stdout",
     "output_type": "stream",
     "text": [
      "HIPK3_0.seq\n",
      "INFO:root:Reading ./Davis/cut_seqs/HIPK3_0.seq\n",
      "MASQVLVYPPYVYQTQSSAFCSVKKLKVEPSSCVFQERNYPRTYVNGRNFGNSHPPTKGSAFQTKIPFNRPRGHNFSLQTSAVVLKNTAGATKVIAAQAQQAHVQAPQIGAWRNRLHFLEGPQRCGLKRKSEELDNHSSAMQIVDELSILPAMLQTNMGNPVTVVTATTGSKQNCTTGEGDYQLVQHEVLCSMKNTYEVLDFLGRGTFGQVVKCWKRGTNEIVAIKILKNHPSYARQGQIEVSILARLSTENADEYNFVRAYECFQHRNHTCLVFEMLEQNLYDFLKQNKFSPLPLKVIRPILQQVATALKKLKSLGLIHADLKPENIMLVDPVRQPYRVKVIDFGSASHVSKTVCSTYLQSRYYRAPEIILGLPFCEAIDMWSLGCVIAELFLGWPLYPGALEYDQIRYISQTQGLPGEQLLNVGTKSTRFFCKETDMSHSGWRLKTLEEHEAETGMKSKEARKYIFNSLDDVAHVNTVMDLEGSDLLAEKADRREFVSLLKKMLLIDADLRITPAETLNHPFVNMKHLLDFPHSNHVKSCFHIMDICKSHLNSCDTNNHNKTSLLRPVASSSTATLTANFTKIGTLRSQALTTSAHSVVHHGIPLQAGTAQFGCGDAFQQTLIICPPAIQGIPATHGKPTSYSIRVDNTVPLVTQAPAVQPLQIRPGVLSQTWSGRTQQMLVPAWQQVTPLAPATTTLTSESVAGSHRLGDWGKMISCSNHYNSVMPQPLLTNQITLSAPQPVSVGIAHVVWPQPATTKKNKQCQNRGILVKLMEWEPGREEINAFSWSNSLQNTNIP\n",
      "INFO:root:Predicting 1th chain in ./Davis/cut_seqs/HIPK3_0.seq\n",
      "INFO:root:800 residues in this chain.\n",
      "INFO:root:Finished prediction in 56.99 seconds.\n",
      "INFO:root:Saving prediction to ./Davis/omega_2/HIPK3_0.pdb\n",
      "INFO:root:Saved\n",
      "INFO:root:Done!\n"
     ]
    },
    {
     "name": "stderr",
     "output_type": "stream",
     "text": [
      " 12%|█▏        | 62/522 [30:18<4:09:52, 32.59s/it]"
     ]
    },
    {
     "name": "stdout",
     "output_type": "stream",
     "text": [
      "FAK_1.seq\n",
      "INFO:root:Reading ./Davis/cut_seqs/FAK_1.seq\n",
      "QEIAMWQPNVEDSTVLDLRGIGQVLPTHLMEERLIRQQQEMEEDQRWLEKEERFLKPDVRLSRGSIDREDGSLQGPIGNQHIYQPVGKPDPAAPPKKPPRPGAPGHLGSLASLSSPADSYNEGVKLQPQEISPPPTANLDRSNDKVYENVTGLVKAVIEMSSKIQPAPPEEYVPMVKEVGLALRTLLATVDETIPLLPASTHREIEMAQKLLNSDLGELINKMKLAQQYVMTSLQQEYKKQMLTAAHALAVDAKNLLDVIDQARLKMLGQTRPH\n",
      "INFO:root:Predicting 1th chain in ./Davis/cut_seqs/FAK_1.seq\n",
      "INFO:root:274 residues in this chain.\n",
      "INFO:root:Finished prediction in 4.41 seconds.\n",
      "INFO:root:Saving prediction to ./Davis/omega_2/FAK_1.pdb\n",
      "INFO:root:Saved\n",
      "INFO:root:Done!\n"
     ]
    },
    {
     "name": "stderr",
     "output_type": "stream",
     "text": [
      " 12%|█▏        | 63/522 [30:23<3:05:23, 24.24s/it]"
     ]
    },
    {
     "name": "stdout",
     "output_type": "stream",
     "text": [
      "FYN.seq\n",
      "INFO:root:Reading ./Davis/cut_seqs/FYN.seq\n",
      "MGCVQCKDKEATKLTEERDGSLNQSSGYRYGTDPTPQHYPSFGVTSIPNYNNFHAAGGQGLTVFGGVNSSSHTGTLRTRGGTGVTLFVALYDYEARTEDDLSFHKGEKFQILNSSEGDWWEARSLTTGETGYIPSNYVAPVDSIQAEEWYFGKLGRKDAERQLLSFGNPRGTFLIRESETTKGAYSLSIRDWDDMKGDHVKHYKIRKLDNGGYYITTRAQFETLQQLVQHYSERAAGLCCRLVVPCHKGMPRLTDLSVKTKDVWEIPRESLQLIKRLGNGQFGEVWMGTWNGNTKVAIKTLKPGTMSPESFLEEAQIMKKLKHDKLVQLYAVVSEEPIYIVTEYMNKGSLLDFLKDGEGRALKLPNLVDMAAQVAAGMAYIERMNYIHRDLRSANILVGNGLICKIADFGLARLIEDNEYTARQGAKFPIKWTAPEAALYGRFTIKSDVWSFGILLTELVTKGRVPYPGMNNREVLEQVERGYRMPCPQDCPISLHELMIHCWKKDPEERPTFEYLQSFLEDYFTATEPQYQPGENL\n",
      "INFO:root:Predicting 1th chain in ./Davis/cut_seqs/FYN.seq\n",
      "INFO:root:537 residues in this chain.\n",
      "INFO:root:Finished prediction in 22.67 seconds.\n",
      "INFO:root:Saving prediction to ./Davis/omega_2/FYN.pdb\n",
      "INFO:root:Saved\n",
      "INFO:root:Done!\n"
     ]
    },
    {
     "name": "stderr",
     "output_type": "stream",
     "text": [
      " 12%|█▏        | 64/522 [30:46<3:02:35, 23.92s/it]"
     ]
    },
    {
     "name": "stdout",
     "output_type": "stream",
     "text": [
      "TRPM6_0.seq\n",
      "INFO:root:Reading ./Davis/cut_seqs/TRPM6_0.seq\n",
      "MKEQPVLERLQSQKSWIKGVFDKRECSTIIPSSKNPHRCTPVCQVCQNLIRCYCGRLIGDHAGIDYSWTISAAKGKESEQWSVEKHTTKSPTDTFGTINFQDGEHTHHAKYIRTSYDTKLDHLLHLMLKEWKMELPKLVISVHGGIQNFTMPSKFKEIFSQGLVKAAETTGAWIITEGINTGVSKHVGDALKSHSSHSLRKIWTVGIPPWGVIENQRDLIGKDVVCLYQTLDNPLSKLTTLNSMHSHFILSDDGTVGKYGNEMKLRRNLEKYLSLQKIHCRSRQGVPVVGLVVEGGPNVILSVWETVKDKDPVVVCEGTGRAADLLAFTHKHLADEGMLRPQVKEEIICMIQNTFNFSLKQSKHLFQILMECMVHRDCITIFDADSEEQQDLDLAILTALLKGTNLSASEQLNLAMAWDRVDIAKKHILIYEQHWKPDALEQAMSDALVMDRVDFVKLLIEYGVNLHRFLTIPRLEELYNTKQGPTNTLLHHLVQDVKQHTLLSGYRITLIDIGLVVEYLIGRAYRSNYTRKHFRALYNNLYRKYKHQRHSSGNRNESAESTLHSQFIRTAQPYKFKEKSIVLHKSRKKSKEQNVSDDPESTGFLYPYNDLLVWAVLMKRQKMAMFFWQHGEEATVKAVIACILYRAMAHEAKESHMVDDASEELKNYSKQFGQLALDLLEKAFKQNERMAMTLLTYELRNWSNSTCLKLAVSGGLRPFVSHTCTQMLLTDMWMGRLKMRKNSWLKIIISIILPPTILTLEFKSKAEMSHVPQSQDFQFMWYYSDQNASSSKESASVKEY\n",
      "INFO:root:Predicting 1th chain in ./Davis/cut_seqs/TRPM6_0.seq\n",
      "INFO:root:800 residues in this chain.\n",
      "INFO:root:Finished prediction in 57.04 seconds.\n",
      "INFO:root:Saving prediction to ./Davis/omega_2/TRPM6_0.pdb\n",
      "INFO:root:Saved\n",
      "INFO:root:Done!\n"
     ]
    },
    {
     "name": "stderr",
     "output_type": "stream",
     "text": [
      " 12%|█▏        | 65/522 [31:44<4:20:03, 34.14s/it]"
     ]
    },
    {
     "name": "stdout",
     "output_type": "stream",
     "text": [
      "GRK7.seq\n",
      "INFO:root:Reading ./Davis/cut_seqs/GRK7.seq\n",
      "MVDMGALDNLIANTAYLQARKPSDCDSKELQRRRRSLALPGLQGCAELRQKLSLNFHSLCEQQPIGRRLFRDFLATVPTFRKAATFLEDVQNWELAEEGPTKDSALQGLVATCASAPAPGNPQPFLSQAVATKCQAATTEEERVAAVTLAKAEAMAFLQEQPFKDFVTSAFYDKFLQWKLFEMQPVSDKYFTEFRVLGKGGFGEVCAVQVKNTGKMYACKKLDKKRLKKKGGEKMALLEKEILEKVSSPFIVSLAYAFESKTHLCLVMSLMNGGDLKFHIYNVGTRGLDMSRVIFYSAQIACGMLHLHELGIVYRDMKPENVLLDDLGNCRLSDLGLAVEMKGGKPITQRAGTNGYMAPEILMEKVSYSYPVDWFAMGCSIYEMVAGRTPFKDYKEKVSKEDLKQRTLQDEVKFQHDNFTEEAKDICRLFLAKKPEQRLGSREKSDDPRKHHFFKTINFPRLEAGLIEPPFVPDPSVVYAKDIAEIDDFSEVRGVEFDDKDKQFFKNFATGAVPIAWQEEIIETGLFEELNDPNRPTGCEEGNSSKSGVCLLL\n",
      "INFO:root:Predicting 1th chain in ./Davis/cut_seqs/GRK7.seq\n",
      "INFO:root:553 residues in this chain.\n",
      "INFO:root:Finished prediction in 24.21 seconds.\n",
      "INFO:root:Saving prediction to ./Davis/omega_2/GRK7.pdb\n",
      "INFO:root:Saved\n",
      "INFO:root:Done!\n"
     ]
    },
    {
     "name": "stderr",
     "output_type": "stream",
     "text": [
      " 13%|█▎        | 66/522 [32:09<3:58:12, 31.34s/it]"
     ]
    },
    {
     "name": "stdout",
     "output_type": "stream",
     "text": [
      "TYK2(JH1domain-catalytic)_1.seq\n",
      "INFO:root:Reading ./Davis/cut_seqs/TYK2(JH1domain-catalytic)_1.seq\n",
      "GATLLEICFDGEAPLQSRSPSEKEHFYQRQHRLPEPSCPQLATLTSQCLTYEPTQRPSFRTILRDLTRLQPHNLADVLTVNPDSPASDPTVFHKRYLKKIRDLGEGHFGKVSLYCYDPTNDGTGEMVAVKALKADCGPQHRSGWKQEIDILRTLYHEHIIKYKGCCEDQGEKSLQLVMEYVPLGSLRDYLPRHSIGLAQLLLFAQQICEGMAYLHAQHYIHRDLAARNVLLDNDRLVKIGDFGLAKAVPEGHEYYRVREDGDSPVFWYAPECLKEYKFYYASDVWSFGVTLYELLTHCDSSQSPPTKFLELIGIAQGQMTVLRLTELLERGERLPRPDKCPCEVYHLMKNCWETEASFRPTFENLIPILKTVHEKYQGQAPSVFSVC\n",
      "INFO:root:Predicting 1th chain in ./Davis/cut_seqs/TYK2(JH1domain-catalytic)_1.seq\n",
      "INFO:root:387 residues in this chain.\n",
      "INFO:root:Finished prediction in 10.09 seconds.\n",
      "INFO:root:Saving prediction to ./Davis/omega_2/TYK2(JH1domain-catalytic)_1.pdb\n",
      "INFO:root:Saved\n",
      "INFO:root:Done!\n"
     ]
    },
    {
     "name": "stderr",
     "output_type": "stream",
     "text": [
      " 13%|█▎        | 67/522 [32:20<3:10:08, 25.07s/it]"
     ]
    },
    {
     "name": "stdout",
     "output_type": "stream",
     "text": [
      "RSK2(KinDom.1-N-terminal).seq\n",
      "INFO:root:Reading ./Davis/cut_seqs/RSK2(KinDom.1-N-terminal).seq\n",
      "MPLAQLADPWQKMAVESPSDSAENGQQIMDEPMGEEEINPQTEEVSIKEIAITHHVKEGHEKADPSQFELLKVLGQGSFGKVFLVKKISGSDARQLYAMKVLKKATLKVRDRVRTKMERDILVEVNHPFIVKLHYAFQTEGKLYLILDFLRGGDLFTRLSKEVMFTEEDVKFYLAELALALDHLHSLGIIYRDLKPENILLDEEGHIKLTDFGLSKESIDHEKKAYSFCGTVEYMAPEVVNRRGHTQSADWWSFGVLMFEMLTGTLPFQGKDRKETMTMILKAKLGMPQFLSPEAQSLLRMLFKRNPANRLGAGPDGVEEIKRHSFFSTIDWNKLYRREIHPPFKPATGRPEDTFYFDPEFTAKTPKDSPGIPPSANAHQLFRGFSFVAITSDDESQAMQTVGVHSIVQQLHRNSIQFTDGYEVKEDIGVGSYSVCKRCIHKATNMEFAVKIIDKSKRDPTEEIEILLRYGQHPNIITLKDVYDDGKYVYVVTELMKGGELLDKILRQKFFSEREASAVLFTITKTVEYLHAQGVVHRDLKPSNILYVDESGNPESIRICDFGFAKQLRAENGLLMTPCYTANFVAPEVLKRQGYDAACDIWSLGVLLYTMLTGYTPFANGPDDTPEEILARIGSGKFSLSGGYWNSVSDTAKDLVSKMLHVDPHQRLTAALVLRHPWIVHWDQLPQYQLNRQDAPHLVKGAMAATYSALNRNQSPVLEPVGRSTLAQRRGIKKITSTAL\n",
      "INFO:root:Predicting 1th chain in ./Davis/cut_seqs/RSK2(KinDom.1-N-terminal).seq\n",
      "INFO:root:740 residues in this chain.\n",
      "INFO:root:Finished prediction in 49.15 seconds.\n",
      "INFO:root:Saving prediction to ./Davis/omega_2/RSK2(KinDom.1-N-terminal).pdb\n",
      "INFO:root:Saved\n",
      "INFO:root:Done!\n"
     ]
    },
    {
     "name": "stderr",
     "output_type": "stream",
     "text": [
      " 13%|█▎        | 68/522 [33:10<4:06:40, 32.60s/it]"
     ]
    },
    {
     "name": "stdout",
     "output_type": "stream",
     "text": [
      "GRK4.seq\n",
      "INFO:root:Reading ./Davis/cut_seqs/GRK4.seq\n",
      "MELENIVANSLLLKARQGGYGKKSGRSKKWKEILTLPPVSQCSELRHSIEKDYSSLCDKQPIGRRLFRQFCDTKPTLKRHIEFLDAVAEYEVADDEDRSDCGLSILDRFFNDKLAAPLPEIPPDVVTECRLGLKEENPSKKAFEECTRVAHNYLRGEPFEEYQESSYFSQFLQWKWLERQPVTKNTFRHYRVLGKGGFGEVCACQVRATGKMYACKKLQKKRIKKRKGEAMALNEKRILEKVQSRFVVSLAYAYETKDALCLVLTIMNGGDLKFHIYNLGNPGFDEQRAVFYAAELCCGLEDLQRERIVYRDLKPENILLDDRGHIRISDLGLATEIPEGQRVRGRVGTVGYMAPEVVNNEKYTFSPDWWGLGCLIYEMIQGHSPFKKYKEKVKWEEVDQRIKNDTEEYSEKFSEDAKSICRMLLTKNPSKRLGCRGEGAAGVKQHPVFKDINFRRLEANMLEPPFCPDPHAVYCKDVLDIEQFSVVKGIYLDTADEDFYARFATGCVSIPWQNEMIESGCFKDINKSESEEALPLDLDKNIHTPVSRPNRGFFYRLFRRGGCLTMVPSEKEVEPKQC\n",
      "INFO:root:Predicting 1th chain in ./Davis/cut_seqs/GRK4.seq\n",
      "INFO:root:578 residues in this chain.\n",
      "INFO:root:Finished prediction in 26.50 seconds.\n",
      "INFO:root:Saving prediction to ./Davis/omega_2/GRK4.pdb\n",
      "INFO:root:Saved\n",
      "INFO:root:Done!\n"
     ]
    },
    {
     "name": "stderr",
     "output_type": "stream",
     "text": [
      " 13%|█▎        | 69/522 [33:37<3:53:40, 30.95s/it]"
     ]
    },
    {
     "name": "stdout",
     "output_type": "stream",
     "text": [
      "MAP4K3_1.seq\n",
      "INFO:root:Reading ./Davis/cut_seqs/MAP4K3_1.seq\n",
      "QGRLKSSRKLSSELTFDFQIESIVCLQDSVLAFWKHGMQGRSFRSNEVTQEISDSTRIFRLLGSDRVVVLESRPTDNPTANSNLYILAGHENSY\n",
      "INFO:root:Predicting 1th chain in ./Davis/cut_seqs/MAP4K3_1.seq\n",
      "INFO:root:94 residues in this chain.\n",
      "INFO:root:Finished prediction in 0.66 seconds.\n",
      "INFO:root:Saving prediction to ./Davis/omega_2/MAP4K3_1.pdb\n",
      "INFO:root:Saved\n",
      "INFO:root:Done!\n"
     ]
    },
    {
     "name": "stderr",
     "output_type": "stream",
     "text": [
      " 13%|█▎        | 70/522 [33:38<2:45:04, 21.91s/it]"
     ]
    },
    {
     "name": "stdout",
     "output_type": "stream",
     "text": [
      "CSNK1G2.seq\n",
      "INFO:root:Reading ./Davis/cut_seqs/CSNK1G2.seq\n",
      "MDFDKKGGKGETEEGRRMSKAGGGRSSHGIRSSGTSSGVLMVGPNFRVGKKIGCGNFGELRLGKNLYTNEYVAIKLEPIKSRAPQLHLEYRFYKQLSATEGVPQVYYFGPCGKYNAMVLELLGPSLEDLFDLCDRTFTLKTVLMIAIQLITRMEYVHTKSLIYRDVKPENFLVGRPGTKRQHAIHIIDFGLAKEYIDPETKKHIPYREHKSLTGTARYMSINTHLGKEQSRRDDLEALGHMFMYFLRGSLPWQGLKADTLKERYQKIGDTKRATPIEVLCENFPEEMATYLRYVRRLDFFEKPDYDYLRKLFTDLFDRSGFVFDYEYDWAGKPLPTPIGTVHTDLPSQPQLRDKTQPHSKNQALNSTNGELNADDPTAGHSNAPITAPAEVEVADETKCCCFFKRRKRKSLQRHK\n",
      "INFO:root:Predicting 1th chain in ./Davis/cut_seqs/CSNK1G2.seq\n",
      "INFO:root:415 residues in this chain.\n",
      "INFO:root:Finished prediction in 11.86 seconds.\n",
      "INFO:root:Saving prediction to ./Davis/omega_2/CSNK1G2.pdb\n",
      "INFO:root:Saved\n",
      "INFO:root:Done!\n"
     ]
    },
    {
     "name": "stderr",
     "output_type": "stream",
     "text": [
      " 14%|█▎        | 71/522 [33:50<2:23:02, 19.03s/it]"
     ]
    },
    {
     "name": "stdout",
     "output_type": "stream",
     "text": [
      "ABL1_0.seq\n",
      "INFO:root:Reading ./Davis/cut_seqs/ABL1_0.seq\n",
      "PFWKILNPLLERGTYYYFMGQQPGKVLGDQRRPSLPALHFIKGAGKKESSRHGGPHCNVFVEHEALQRPVASDFEPQGLSEAARWNSKENLLAGPSENDPNLFVALYDFVASGDNTLSITKGEKLRVLGYNHNGEWCEAQTKNGQGWVPSNYITPVNSLEKHSWYHGPVSRNAAEYLLSSGINGSFLVRESESSPGQRSISLRYEGRVYHYRINTASDGKLYVSSESRFNTLAELVHHHSTVADGLITTLHYPAPKRNKPTVYGVSPNYDKWEMERTDITMKHKLGGGQYGEVYEGVWKKYSLTVAVKTLKEDTMEVEEFLKEAAVMKEIKHPNLVQLLGVCTREPPFYIITEFMTYGNLLDYLRECNRQEVNAVVLLYMATQISSAMEYLEKKNFIHRDLAARNCLVGENHLVKVADFGLSRLMTGDTYTAHAGAKFPIKWTAPESLAYNKFSIKSDVWAFGVLLWEIATYGMSPYPGIDLSQVYELLEKDYRMERPEGCPEKVYELMRACWQWNPSDRPSFAEIHQAFETMFQESSISDEVEKELGKQGVRGAVSTLLQAPELPTKTRTSRRAAEHRDTTDVPEMPHSKGQGESDPLDHEPAVSPLLPRKERGPPEGGLNEDERLLPKDKKTNLFSALIKKKKKTAPTPPKRSSSFREMDGQPERRGAGEEEGRDISNGALAFTPLDTADPAKSPKPSNGAGVPNGALRESGGSGFRSPHLWKKSSTLTSSRLATGEEEGGGSSSKRFLRSCSASCVPHGAKDTEWRSVTLPRDLQSTGRQFDSSTFGGHKSEKPALP\n",
      "INFO:root:Predicting 1th chain in ./Davis/cut_seqs/ABL1_0.seq\n",
      "INFO:root:800 residues in this chain.\n",
      "INFO:root:Finished prediction in 57.05 seconds.\n",
      "INFO:root:Saving prediction to ./Davis/omega_2/ABL1_0.pdb\n",
      "INFO:root:Saved\n",
      "INFO:root:Done!\n"
     ]
    },
    {
     "name": "stderr",
     "output_type": "stream",
     "text": [
      " 14%|█▍        | 72/522 [34:48<3:50:30, 30.73s/it]"
     ]
    },
    {
     "name": "stdout",
     "output_type": "stream",
     "text": [
      "p38-delta.seq\n",
      "INFO:root:Reading ./Davis/cut_seqs/p38-delta.seq\n",
      "MSLIRKKGFYKQDVNKTAWELPKTYVSPTHVGSGAYGSVCSAIDKRSGEKVAIKKLSRPFQSEIFAKRAYRELLLLKHMQHENVIGLLDVFTPASSLRNFYDFYLVMPFMQTDLQKIMGMEFSEEKIQYLVYQMLKGLKYIHSAGVVHRDLKPGNLAVNEDCELKILDFGLARHADAEMTGYVVTRWYRAPEVILSWMHYNQTVDIWSVGCIMAEMLTGKTLFKGKDYLDQLTQILKVTGVPGTEFVQKLNDKAAKSYIQSLPQTPRKDFTQLFPRASPQAADLLEKMLELDVDKRLTAAQALTHPFFEPFRDPEEETEAQQPFDDSLEHEKLTVDEWKQHIYKEIVNFSPIARKDSRRRSGMKL\n",
      "INFO:root:Predicting 1th chain in ./Davis/cut_seqs/p38-delta.seq\n",
      "INFO:root:365 residues in this chain.\n",
      "INFO:root:Finished prediction in 8.66 seconds.\n",
      "INFO:root:Saving prediction to ./Davis/omega_2/p38-delta.pdb\n",
      "INFO:root:Saved\n",
      "INFO:root:Done!\n"
     ]
    },
    {
     "name": "stderr",
     "output_type": "stream",
     "text": [
      " 14%|█▍        | 73/522 [34:57<3:01:18, 24.23s/it]"
     ]
    },
    {
     "name": "stdout",
     "output_type": "stream",
     "text": [
      "ABL2_0.seq\n",
      "INFO:root:Reading ./Davis/cut_seqs/ABL2_0.seq\n",
      "MVLGTVLLPPNSYGRDQDTSLCCLCTEASESALPDLTDHFASCVEDGFEGDKTGGSSPEALHRPYGCDVEPQALNEAIRWSSKENLLGATESDPNLFVALYDFVASGDNTLSITKGEKLRVLGYNQNGEWSEVRSKNGQGWVPSNYITPVNSLEKHSWYHGPVSRSAAEYLLSSLINGSFLVRESESSPGQLSISLRYEGRVYHYRINTTADGKVYVTAESRFSTLAELVHHHSTVADGLVTTLHYPAPKCNKPTVYGVSPIHDKWEMERTDITMKHKLGGGQYGEVYVGVWKKYSLTVAVKTLKEDTMEVEEFLKEAAVMKEIKHPNLVQLLGVCTLEPPFYIVTEYMPYGNLLDYLRECNREEVTAVVLLYMATQISSAMEYLEKKNFIHRDLAARNCLVGENHVVKVADFGLSRLMTGDTYTAHAGAKFPIKWTAPESLAYNTFSIKSDVWAFGVLLWEIATYGMSPYPGIDLSQVYDLLEKGYRMEQPEGCPPKVYELMRACWKWSPADRPSFAETHQAFETMFHDSSISEEVAEELGRAASSSSVVPYLPRLPILPSKTRTLKKQVENKENIEGAQDATENSASSLAPGFIRGAQASSGSPALPRKQRDKSPSSLLEDAKETCFTRDRKGGFFSSFMKKRNAPTPPKRSSSFREMENQPHKKYELTGNFSSVASLQHADGFSFTPAQQEANLVPPKCYGGSFAQRNLCNDDGGGGGGSGTAGGGWSGITGFFTPRLIKKTLGLRAGKPTASDDTSKPFPRSNSTSSMSSGLPEQDRMAMTLPRNCQRSKLQLERT\n",
      "INFO:root:Predicting 1th chain in ./Davis/cut_seqs/ABL2_0.seq\n",
      "INFO:root:800 residues in this chain.\n",
      "INFO:root:Finished prediction in 57.01 seconds.\n",
      "INFO:root:Saving prediction to ./Davis/omega_2/ABL2_0.pdb\n",
      "INFO:root:Saved\n",
      "INFO:root:Done!\n"
     ]
    },
    {
     "name": "stderr",
     "output_type": "stream",
     "text": [
      " 14%|█▍        | 74/522 [35:55<4:16:27, 34.35s/it]"
     ]
    },
    {
     "name": "stdout",
     "output_type": "stream",
     "text": [
      "PIK3CB_1.seq\n",
      "INFO:root:Reading ./Davis/cut_seqs/PIK3CB_1.seq\n",
      "GVIFKNGDDLRQDMLTLQMLRLMDLLWKEAGLDLRMLPYGCLATGDRSGLIEVVSTSETIADIQLNSSNVAAAAAFNKDALLNWLKEYNSGDDLDRAIEEFTLSCAGYCVASYVLGIGDRHSDNIMVKKTGQLFHIDFGHILGNFKSKFGIKRERVPFILTYDFIHVIQQGKTGNTEKFGRFRQCCEDAYLILRRHGNLFITLFALMLTAGLPELTSVKDIQYLKDSLALGKSEEEALKQFKQKFDEALRESWTTKVNWMAHTVRKDYRS\n",
      "INFO:root:Predicting 1th chain in ./Davis/cut_seqs/PIK3CB_1.seq\n",
      "INFO:root:270 residues in this chain.\n",
      "INFO:root:Finished prediction in 4.21 seconds.\n",
      "INFO:root:Saving prediction to ./Davis/omega_2/PIK3CB_1.pdb\n",
      "INFO:root:Saved\n",
      "INFO:root:Done!\n"
     ]
    },
    {
     "name": "stderr",
     "output_type": "stream",
     "text": [
      " 14%|█▍        | 75/522 [35:59<3:09:07, 25.39s/it]"
     ]
    },
    {
     "name": "stdout",
     "output_type": "stream",
     "text": [
      "CLK1.seq\n",
      "INFO:root:Reading ./Davis/cut_seqs/CLK1.seq\n",
      "MRHSKRTYCPDWDDKDWDYGKWRSSSSHKRRKRSHSSAQENKRCKYNHSKMCDSHYLESRSINEKDYHSRRYIDEYRNDYTQGCEPGHRQRDHESRYQNHSSKSSGRSGRSSYKSKHRIHHSTSHRRSHGKSHRRKRTRSVEDDEEGHLICQSGDVLSARYEIVDTLGEGAFGKVVECIDHKAGGRHVAVKIVKNVDRYCEAARSEIQVLEHLNTTDPNSTFRCVQMLEWFEHHGHICIVFELLGLSTYDFIKENGFLPFRLDHIRKMAYQICKSVNFLHSNKLTHTDLKPENILFVQSDYTEAYNPKIKRDERTLINPDIKVVDFGSATYDDEHHSTLVSTRHYRAPEVILALGWSQPCDVWSIGCILIEYYLGFTVFPTHDSKEHLAMMERILGPLPKHMIQKTRKRKYFHHDRLDWDEHSSAGRYVSRRCKPLKEFMLSQDVEHERLFDLIQKMLEYDPAKRITLREALKHPFFDLLKKSI\n",
      "INFO:root:Predicting 1th chain in ./Davis/cut_seqs/CLK1.seq\n",
      "INFO:root:484 residues in this chain.\n",
      "INFO:root:Finished prediction in 17.27 seconds.\n",
      "INFO:root:Saving prediction to ./Davis/omega_2/CLK1.pdb\n",
      "INFO:root:Saved\n",
      "INFO:root:Done!\n"
     ]
    },
    {
     "name": "stderr",
     "output_type": "stream",
     "text": [
      " 15%|█▍        | 76/522 [36:17<2:51:43, 23.10s/it]"
     ]
    },
    {
     "name": "stdout",
     "output_type": "stream",
     "text": [
      "CSNK1G1.seq\n",
      "INFO:root:Reading ./Davis/cut_seqs/CSNK1G1.seq\n",
      "MDHPSREKDERQRTTKPMAQRSAHCSRPSGSSSSSGVLMVGPNFRVGKKIGCGNFGELRLGKNLYTNEYVAIKLEPIKSRAPQLHLEYRFYKQLGSAGEGLPQVYYFGPCGKYNAMVLELLGPSLEDLFDLCDRTFTLKTVLMIAIQLLSRMEYVHSKNLIYRDVKPENFLIGRQGNKKEHVIHIIDFGLAKEYIDPETKKHIPYREHKSLTGTARYMSINTHLGKEQSRRDDLEALGHMFMYFLRGSLPWQGLKADTLKERYQKIGDTKRNTPIEALCENFPEEMATYLRYVRRLDFFEKPDYEYLRTLFTDLFEKKGYTFDYAYDWVGRPIPTPVGSVHVDSGASAITRESHTHRDRPSQQQPLRNQVVSSTNGELNVDDPTGAHSNAPITAHAEVEVVEEAKCCCFFKRKRKKTAQRHK\n",
      "INFO:root:Predicting 1th chain in ./Davis/cut_seqs/CSNK1G1.seq\n",
      "INFO:root:422 residues in this chain.\n",
      "INFO:root:Finished prediction in 12.27 seconds.\n",
      "INFO:root:Saving prediction to ./Davis/omega_2/CSNK1G1.pdb\n",
      "INFO:root:Saved\n",
      "INFO:root:Done!\n"
     ]
    },
    {
     "name": "stderr",
     "output_type": "stream",
     "text": [
      " 15%|█▍        | 77/522 [36:30<2:28:17, 19.99s/it]"
     ]
    },
    {
     "name": "stdout",
     "output_type": "stream",
     "text": [
      "BIKE_0.seq\n",
      "INFO:root:Reading ./Davis/cut_seqs/BIKE_0.seq\n",
      "MKKFSRMPKSEGGSGGGAAGGGAGGAGAGAGCGSGGSSVGVRVFAVGRHQVTLEESLAEGGFSTVFLVRTHGGIRCALKRMYVNNMPDLNVCKREITIMKELSGHKNIVGYLDCAVNSISDNVWEVLILMEYCRAGQVVNQMNKKLQTGFTEPEVLQIFCDTCEAVARLHQCKTPIIHRDLKVENILLNDGGNYVLCDFGSATNKFLNPQKDGVNVVEEEIKKYTTLSYRAPEMINLYGGKPITTKADIWALGCLLYKLCFFTLPFGESQVAICDGNFTIPDNSRYSRNIHCLIRFMLEPDPEHRPDIFQVSYFAFKFAKKDCPVSNINNSSIPSALPEPMTASEAAARKSQIKARITDTIGPTETSIAPRQRPKANSATTATPSVLTIQSSATPVKVLAPGEFGNHRPKGALRPGNGPEILLGQGPPQQPPQQHRVLQQLQQGDWRLQQLHLQHRHPHQQQQQQQQQQQQQQQQQQQQQQQQQQQHHHHHHHHLLQDAYMQQYQHATQQQQMLQQQFLMHSVYQPQPSASQYPTMMPQYQQAFFQQQMLAQHQPSQQQASPEYLTSPQEFSPALVSYTSSLPAQVGTIMDSSYSANRSVADKEAIANFTNQKNISNPPDMSGWNPFGEDNFSKLTEEELLDREFDLLRSNRLEERASSDKNVDSLSAPHNHPPEDPFGSVPFISHSGSPEKKAEHSSINQENGTANPIKNGKTSPASKDQRTGKKTSVQGQVQKGNDESESDFESDPPSPKSSEEEEQDDEEVLQGEQGDFNDDDTEPENLGHRPLLMDSEDEEEEEKH\n",
      "INFO:root:Predicting 1th chain in ./Davis/cut_seqs/BIKE_0.seq\n",
      "INFO:root:800 residues in this chain.\n",
      "INFO:root:Finished prediction in 57.02 seconds.\n",
      "INFO:root:Saving prediction to ./Davis/omega_2/BIKE_0.pdb\n",
      "INFO:root:Saved\n",
      "INFO:root:Done!\n"
     ]
    },
    {
     "name": "stderr",
     "output_type": "stream",
     "text": [
      " 15%|█▍        | 78/522 [37:28<3:52:03, 31.36s/it]"
     ]
    },
    {
     "name": "stdout",
     "output_type": "stream",
     "text": [
      "FLT4_0.seq\n",
      "INFO:root:Reading ./Davis/cut_seqs/FLT4_0.seq\n",
      "MQRGAALCLRLWLCLGLLDGLVSGYSMTPPTLNITEESHVIDTGDSLSISCRGQHPLEWAWPGAQEAPATGDKDSEDTGVVRDCEGTDARPYCKVLLLHEVHANDTGSYVCYYKYIKARIEGTTAASSYVFVRDFEQPFINKPDTLLVNRKDAMWVPCLVSIPGLNVTLRSQSSVLWPDGQEVVWDDRRGMLVSTPLLHDALYLQCETTWGDQDFLSNPFLVHITGNELYDIQLLPRKSLELLVGEKLVLNCTVWAEFNSGVTFDWDYPGKQAERGKWVPERRSQQTHTELSSILTIHNVSQHDLGSYVCKANNGIQRFRESTEVIVHENPFISVEWLKGPILEATAGDELVKLPVKLAAYPPPEFQWYKDGKALSGRHSPHALVLKEVTEASTGTYTLALWNSAAGLRRNISLELVVNVPPQIHEKEASSPSIYSRHSRQALTCTAYGVPLPLSIQWHWRPWTPCKMFAQRSLRRRQQQDLMPQCRDWRAVTTQDAVNPIESLDTWTEFVEGKNKTVSKLVIQNANVSAMYKCVVSNKVGQDERLIYFYVTTIPDGFTIESKPSEELLEGQPVLLSCQADSYKYEHLRWYRLNLSTLHDAHGNPLLLDCKNVHLFATPLAASLEEVAPGARHATLSLSIPRVAPEHEGHYVCEVQDRRSHDKHCHKKYLSVQALEAPRLTQNLTDLLVNVSDSLEMQCLVAGAHAPSIVWYKDERLLEEKSGVDLADSNQKLSIQRVREEDAGRYLCSVCNAKGCVNSSASVAVEGSEDKGSMEIVILVGTGVIAVFFWVLLLLIFCNM\n",
      "INFO:root:Predicting 1th chain in ./Davis/cut_seqs/FLT4_0.seq\n",
      "INFO:root:800 residues in this chain.\n",
      "INFO:root:Finished prediction in 57.06 seconds.\n",
      "INFO:root:Saving prediction to ./Davis/omega_2/FLT4_0.pdb\n",
      "INFO:root:Saved\n",
      "INFO:root:Done!\n"
     ]
    },
    {
     "name": "stderr",
     "output_type": "stream",
     "text": [
      " 15%|█▌        | 79/522 [38:26<4:50:21, 39.33s/it]"
     ]
    },
    {
     "name": "stdout",
     "output_type": "stream",
     "text": [
      "PRKCH.seq\n",
      "INFO:root:Reading ./Davis/cut_seqs/PRKCH.seq\n",
      "MSSGTMKFNGYLRVRIGEAVGLQPTRWSLRHSLFKKGHQLLDPYLTVSVDQVRVGQTSTKQKTNKPTYNEEFCANVTDGGHLELAVFHETPLGYDHFVANCTLQFQELLRTTGASDTFEGWVDLEPEGKVFVVITLTGSFTEATLQRDRIFKHFTRKRQRAMRRRVHQINGHKFMATYLRQPTYCSHCREFIWGVFGKQGYQCQVCTCVVHKRCHHLIVTACTCQNNINKVDSKIAEQRFGINIPHKFSIHNYKVPTFCDHCGSLLWGIMRQGLQCKICKMNVHIRCQANVAPNCGVNAVELAKTLAGMGLQPGNISPTSKLVSRSTLRRQGKESSKEGNGIGVNSSNRLGIDNFEFIRVLGKGSFGKVMLARVKETGDLYAVKVLKKDVILQDDDVECTMTEKRILSLARNHPFLTQLFCCFQTPDRLFFVMEFVNGGDLMFHIQKSRRFDEARARFYAAEIISALMFLHDKGIIYRDLKLDNVLLDHEGHCKLADFGMCKEGICNGVTTATFCGTPDYIAPEILQEMLYGPAVDWWAMGVLLYEMLCGHAPFEAENEDDLFEAILNDEVVYPTWLHEDATGILKSFMTKNPTMRLGSLTQGGEHAILRHPFFKEIDWAQLNHRQIEPPFRPRIKSREDVSNFDPDFIKEEPVLTPIDEGHLPMINQDEFRNFSYVSPELQP\n",
      "INFO:root:Predicting 1th chain in ./Davis/cut_seqs/PRKCH.seq\n",
      "INFO:root:683 residues in this chain.\n",
      "INFO:root:Finished prediction in 40.32 seconds.\n",
      "INFO:root:Saving prediction to ./Davis/omega_2/PRKCH.pdb\n",
      "INFO:root:Saved\n",
      "INFO:root:Done!\n"
     ]
    },
    {
     "name": "stderr",
     "output_type": "stream",
     "text": [
      " 15%|█▌        | 80/522 [39:07<4:53:27, 39.84s/it]"
     ]
    },
    {
     "name": "stdout",
     "output_type": "stream",
     "text": [
      "AKT3.seq\n",
      "INFO:root:Reading ./Davis/cut_seqs/AKT3.seq\n",
      "MSDVTIVKEGWVQKRGEYIKNWRPRYFLLKTDGSFIGYKEKPQDVDLPYPLNNFSVAKCQLMKTERPKPNTFIIRCLQWTTVIERTFHVDTPEEREEWTEAIQAVADRLQRQEEERMNCSPTSQIDNIGEEEMDASTTHHKRKTMNDFDYLKLLGKGTFGKVILVREKASGKYYAMKILKKEVIIAKDEVAHTLTESRVLKNTRHPFLTSLKYSFQTKDRLCFVMEYVNGGELFFHLSRERVFSEDRTRFYGAEIVSALDYLHSGKIVYRDLKLENLMLDKDGHIKITDFGLCKEGITDAATMKTFCGTPEYLAPEVLEDNDYGRAVDWWGLGVVMYEMMCGRLPFYNQDHEKLFELILMEDIKFPRTLSSDAKSLLSGLLIKDPNKRLGGGPDDAKEIMRHSFFSGVNWQDVYDKKLVPPFKPQVTSETDTRYFDEEFTAQTITITPPEKYDEDGMDCMDNERRPHFPQFSYSASGRE\n",
      "INFO:root:Predicting 1th chain in ./Davis/cut_seqs/AKT3.seq\n",
      "INFO:root:479 residues in this chain.\n",
      "INFO:root:Finished prediction in 17.14 seconds.\n",
      "INFO:root:Saving prediction to ./Davis/omega_2/AKT3.pdb\n",
      "INFO:root:Saved\n",
      "INFO:root:Done!\n"
     ]
    },
    {
     "name": "stderr",
     "output_type": "stream",
     "text": [
      " 16%|█▌        | 81/522 [39:24<4:03:48, 33.17s/it]"
     ]
    },
    {
     "name": "stdout",
     "output_type": "stream",
     "text": [
      "EPHA1_0.seq\n",
      "INFO:root:Reading ./Davis/cut_seqs/EPHA1_0.seq\n",
      "MERRWPLGLGLVLLLCAPLPPGARAKEVTLMDTSKAQGELGWLLDPPKDGWSEQQQILNGTPLYMYQDCPMQGRRDTDHWLRSNWIYRGEEASRVHVELQFTVRDCKSFPGGAGPLGCKETFNLLYMESDQDVGIQLRRPLFQKVTTVAADQSFTIRDLVSGSVKLNVERCSLGRLTRRGLYLAFHNPGACVALVSVRVFYQRCPETLNGLAQFPDTLPGPAGLVEVAGTCLPHARASPRPSGAPRMHCSPDGEWLVPVGRCHCEPGYEEGGSGEACVACPSGSYRMDMDTPHCLTCPQQSTAESEGATICTCESGHYRAPGEGPQVACTGPPSAPRNLSFSASGTQLSLRWEPPADTGGRQDVRYSVRCSQCQGTAQDGGPCQPCGVGVHFSPGARGLTTPAVHVNGLEPYANYTFNVEAQNGVSGLGSSGHASTSVSISMGHAESLSGLSLRLVKKEPRQLELTWAGSRPRSPGANLTYELHVLNQDEERYQMVLEPRVLLTELQPDTTYIVRVRMLTPLGPGPFSPDHEFRTSPPVSRGLTGGEIVAVIFGLLLGAALLLGILVFRSRRAQRQRQQRQRDRATDVDREDKLWLKPYVDLQAYEDPAQGALDFTRELDPAWLMVDTVIGEGEFGEVYRGTLRLPSQDCKTVAIKTLKDTSPGGQWWNFLREATIMGQFSHPHILHLEGVVTKRKPIMIITEFMENGALDAFLREREDQLVPGQLVAMLQGIASGMNYLSNHNYVHRDLAARNILVNQNLCCKVSDFGLTRLLDDFDGTYETQGGKIPIRWTAPEAIAH\n",
      "INFO:root:Predicting 1th chain in ./Davis/cut_seqs/EPHA1_0.seq\n",
      "INFO:root:800 residues in this chain.\n",
      "INFO:root:Finished prediction in 57.06 seconds.\n",
      "INFO:root:Saving prediction to ./Davis/omega_2/EPHA1_0.pdb\n",
      "INFO:root:Saved\n",
      "INFO:root:Done!\n"
     ]
    },
    {
     "name": "stderr",
     "output_type": "stream",
     "text": [
      " 16%|█▌        | 82/522 [40:22<4:57:48, 40.61s/it]"
     ]
    },
    {
     "name": "stdout",
     "output_type": "stream",
     "text": [
      "ULK3.seq\n",
      "INFO:root:Reading ./Davis/cut_seqs/ULK3.seq\n",
      "MAGPGWGPPRLDGFILTERLGSGTYATVYKAYAKKDTREVVAIKCVAKKSLNKASVENLLTEIEILKGIRHPHIVQLKDFQWDSDNIYLIMEFCAGGDLSRFIHTRRILPEKVARVFMQQLASALQFLHERNISHLDLKPQNILLSSLEKPHLKLADFGFAQHMSPWDEKHVLRGSPLYMAPEMVCQRQYDARVDLWSMGVILYEALFGQPPFASRSFSELEEKIRSNRVIELPLRPLLSRDCRDLLQRLLERDPSRRISFQDFFAHPWVDLEHMPSGESLGRATALVVQAVKKDQEGDSAAALSLYCKALDFFVPALHYEVDAQRKEAIKAKVGQYVSRAEELKAIVSSSNQALLRQGTSARDLLREMARDKPRLLAALEVASAAMAKEEAAGGEQDALDLYQHSLGELLLLLAAEPPGRRRELLHTEVQNLMARAEYLKEQVKMRESRWEADTLDKEGLSESVRSSCTLQ\n",
      "INFO:root:Predicting 1th chain in ./Davis/cut_seqs/ULK3.seq\n",
      "INFO:root:472 residues in this chain.\n",
      "INFO:root:Finished prediction in 15.90 seconds.\n",
      "INFO:root:Saving prediction to ./Davis/omega_2/ULK3.pdb\n",
      "INFO:root:Saved\n",
      "INFO:root:Done!\n"
     ]
    },
    {
     "name": "stderr",
     "output_type": "stream",
     "text": [
      " 16%|█▌        | 83/522 [40:39<4:03:52, 33.33s/it]"
     ]
    },
    {
     "name": "stdout",
     "output_type": "stream",
     "text": [
      "HIPK4.seq\n",
      "INFO:root:Reading ./Davis/cut_seqs/HIPK4.seq\n",
      "MSTIQSETDCYDIIEVLGKGTFGEVAKGWRRSTGEMVAIKILKNDAYRNRIIKNELKLLHCMRGLDPEEAHVIRFLEFFHDALKFYLVFELLEQNLFEFQKENNFAPLPARHIRTVTLQVLTALARLKELAIIHADLKPENIMLVDQTRCPFRVKVIDFGSASIFSEVRYVKEPYIQSRFYRAPEILLGLPFCEKVDVWSLGCVMAELHLGWPLYPGNNEYDQVRYICETQGLPKPHLLHAACKAHHFFKRNPHPDAANPWQLKSSADYLAETKVRPLERRKYMLKSLDQIETVNGGSVASRLTFPDREALAEHADLKSMVELIKRMLTWESHERISPSAALRHPFVSMQQLRSAHETTHYYQLSLRSYRLSLQVEGKPPTPVVAAEDGTPYYCLAEEKEAAGMGSVAGSSPFFREEKAPGMQRAIDQLDDLSLQEAGHGLWGETCTNAVSDMMVPLKAAITGHHVPDSGPEPILAFYSSRLAGRHKARKPPAGSKSDSNFSNLIRLSQVSPEDDRPCRGSSWEEGEHLGASAEPLAILQRDEDGPNIDNMTMEAERPDPELFDPSSCPGEWLSEPDCTLESVRGPRAQGLPPRRSHQHGPPRGATSFLQHVTGHH\n",
      "INFO:root:Predicting 1th chain in ./Davis/cut_seqs/HIPK4.seq\n",
      "INFO:root:616 residues in this chain.\n",
      "INFO:root:Finished prediction in 30.56 seconds.\n",
      "INFO:root:Saving prediction to ./Davis/omega_2/HIPK4.pdb\n",
      "INFO:root:Saved\n",
      "INFO:root:Done!\n"
     ]
    },
    {
     "name": "stderr",
     "output_type": "stream",
     "text": [
      " 16%|█▌        | 84/522 [41:10<3:58:57, 32.73s/it]"
     ]
    },
    {
     "name": "stdout",
     "output_type": "stream",
     "text": [
      "MET_1.seq\n",
      "INFO:root:Reading ./Davis/cut_seqs/MET_1.seq\n",
      "CTTPSLQQLNLQLPLKTKAFFMLDGILSKYFDLIYVHNPVFKPFEKPVMISMGNENVLEIKGNDIDPEAVKGEVLKVGNKSCENIHLHSEAVLCTVPNDLLKLNSELNIEWKQAISSTVLGKVIVQPDQNFTGLIAGVVSISTALLLLLGFFLWLKKRKQIKDLGSELVRYDARVHTPHLDRLVSARSVSPTTEMVSNESVDYRATFPEDQFPNSSQNGSCRQVQYPLTDMSPILTSGDSDISSPLLQNTVHIDLSALNPELVQAVQHVVIGPSSLIVHFNEVIGRGHFGCVYHGTLLDNDGKKIHCAVKSLNRITDIGEVSQFLTEGIIMKDFSHPNVLSLLGICLRSEGSPLVVLPYMKHGDLRNFIRNETHNPTVKDLIGFGLQVAKGMKYLASKKFVHRDLAARNCMLDEKFTVKVADFGLARDMYDKEYYSVHNKTGAKLPVKWMALESLQTQKFTTKSDVWSFGVLLWELMTRGAPPYPDVNTFDITVYLLQGRRLLQPEYCPDPLYEVMLKCWHPKAEMRPSFSELVSRISAIFSTFIGEHYVHVNATYVNVKCVAPYPSLLSSEDNADDEVDTRPASFWETS\n",
      "INFO:root:Predicting 1th chain in ./Davis/cut_seqs/MET_1.seq\n",
      "INFO:root:590 residues in this chain.\n",
      "INFO:root:Finished prediction in 28.15 seconds.\n",
      "INFO:root:Saving prediction to ./Davis/omega_2/MET_1.pdb\n",
      "INFO:root:Saved\n",
      "INFO:root:Done!\n"
     ]
    },
    {
     "name": "stderr",
     "output_type": "stream",
     "text": [
      " 16%|█▋        | 85/522 [41:39<3:49:41, 31.54s/it]"
     ]
    },
    {
     "name": "stdout",
     "output_type": "stream",
     "text": [
      "EPHB1_0.seq\n",
      "INFO:root:Reading ./Davis/cut_seqs/EPHB1_0.seq\n",
      "MALDYLLLLLLASAVAAMEETLMDTRTATAELGWTANPASGWEEVSGYDENLNTIRTYQVCNVFEPNQNNWLLTTFINRRGAHRIYTEMRFTVRDCSSLPNVPGSCKETFNLYYYETDSVIATKKSAFWSEAPYLKVDTIAADESFSQVDFGGRLMKVNTEVRSFGPLTRNGFYLAFQDYGACMSLLSVRVFFKKCPSIVQNFAVFPETMTGAESTSLVIARGTCIPNAEEVDVPIKLYCNGDGEWMVPIGRCTCKPGYEPENSVACKACPAGTFKASQEAEGCSHCPSNSRSPAEASPICTCRTGYYRADFDPPEVACTSVPSGPRNVISIVNETSIILEWHPPRETGGRDDVTYNIICKKCRADRRSCSRCDDNVEFVPRQLGLTECRVSISSLWAHTPYTFDIQAINGVSSKSPFPPQHVSVNITTNQAAPSTVPIMHQVSATMRSITLSWPQPEQPNGIILDYEIRYYEKEHNEFNSSMARSQTNTARIDGLRPGMVYVVQVRARTVAGYGKFSGKMCFQTLTDDDYKSELREQLPLIAGSAAAGVVFVVSLVAISIVCSRKRAYSKEAVYSDKLQHYSTGRGSPGMKIYIDPFTYEDPNEAVREFAKEIDVSFVKIEEVIGAGEFGEVYKGRLKLPGKREIYVAIKTLKAGYSEKQRRDFLSEASIMGQFDHPNIIRLEGVVTKSRPVMIITEFMENGALDSFLRQNDGQFTVIQLVGMLRGIAAGMKYLAEMNYVHRDLAARNILVNSNLVCKVSDFGLSRYLQDDTSDPTYTSSLGGKIPVRWTAPEAIAYRK\n",
      "INFO:root:Predicting 1th chain in ./Davis/cut_seqs/EPHB1_0.seq\n",
      "INFO:root:800 residues in this chain.\n",
      "INFO:root:Finished prediction in 57.02 seconds.\n",
      "INFO:root:Saving prediction to ./Davis/omega_2/EPHB1_0.pdb\n",
      "INFO:root:Saved\n",
      "INFO:root:Done!\n"
     ]
    },
    {
     "name": "stderr",
     "output_type": "stream",
     "text": [
      " 16%|█▋        | 86/522 [42:37<4:46:34, 39.44s/it]"
     ]
    },
    {
     "name": "stdout",
     "output_type": "stream",
     "text": [
      "EPHA3_1.seq\n",
      "INFO:root:Reading ./Davis/cut_seqs/EPHA3_1.seq\n",
      "FTSASDVWSYGIVLWEVMSYGERPYWEMSNQDVIKAVDEGYRLPPPMDCPAALYQLMLDCWQKDRNNRPKFEQIVSILDKLIRNPGSLKIITSAAARPSNLLLDQSNVDITTFRTTGDWLNGVWTAHCKEIFTGVEYSSCDTIAKISTDDMKKVGVTVVGPQKKIISSIKALETQSKNGPVPV\n",
      "INFO:root:Predicting 1th chain in ./Davis/cut_seqs/EPHA3_1.seq\n",
      "INFO:root:183 residues in this chain.\n",
      "INFO:root:Finished prediction in 1.86 seconds.\n",
      "INFO:root:Saving prediction to ./Davis/omega_2/EPHA3_1.pdb\n",
      "INFO:root:Saved\n",
      "INFO:root:Done!\n"
     ]
    },
    {
     "name": "stderr",
     "output_type": "stream",
     "text": [
      " 17%|█▋        | 87/522 [42:39<3:24:39, 28.23s/it]"
     ]
    },
    {
     "name": "stdout",
     "output_type": "stream",
     "text": [
      "MERTK_0.seq\n",
      "INFO:root:Reading ./Davis/cut_seqs/MERTK_0.seq\n",
      "MGPAPLPLLLGLFLPALWRRAITEAREEAKPYPLFPGPFPGSLQTDHTPLLSLPHASGYQPALMFSPTQPGRPHTGNVAIPQVTSVESKPLPPLAFKHTVGHIILSEHKGVKFNCSISVPNIYQDTTISWWKDGKELLGAHHAITQFYPDDEVTAIIASFSITSVQRSDNGSYICKMKINNEEIVSDPIYIEVQGLPHFTKQPESMNVTRNTAFNLTCQAVGPPEPVNIFWVQNSSRVNEQPEKSPSVLTVPGLTEMAVFSCEAHNDKGLTVSKGVQINIKAIPSPPTEVSIRNSTAHSILISWVPGFDGYSPFRNCSIQVKEADPLSNGSVMIFNTSALPHLYQIKQLQALANYSIGVSCMNEIGWSAVSPWILASTTEGAPSVAPLNVTVFLNESSDNVDIRWMKPPTKQQDGELVGYRISHVWQSAGISKELLEEVGQNGSRARISVQVHNATCTVRIAAVTRGGVGPFSDPVKIFIPAHGWVDYAPSSTPAPGNADPVLIIFGCFCGFILIGLILYISLAIRKRVQETKFGNAFTEEDSELVVNYIAKKSFCRRAIELTLHSLGVSEELQNKLEDVVIDRNLLILGKILGEGEFGSVMEGNLKQEDGTSLKVAVKTMKLDNSSQREIEEFLSEAACMKDFSHPNVIRLLGVCIEMSSQGIPKPMVILPFMKYGDLHTYLLYSRLETGPKHIPLQTLLKFMVDIALGMEYLSNRNFLHRDLAARNCMLRDDMTVCVADFGLSKKIYSGDYYRQGRIAKMPVKWIAIESLADRVYTSKSDVWAFGVTMWEIATRGMTP\n",
      "INFO:root:Predicting 1th chain in ./Davis/cut_seqs/MERTK_0.seq\n",
      "INFO:root:800 residues in this chain.\n",
      "INFO:root:Finished prediction in 57.07 seconds.\n",
      "INFO:root:Saving prediction to ./Davis/omega_2/MERTK_0.pdb\n",
      "INFO:root:Saved\n",
      "INFO:root:Done!\n"
     ]
    },
    {
     "name": "stderr",
     "output_type": "stream",
     "text": [
      " 17%|█▋        | 88/522 [43:37<4:28:54, 37.18s/it]"
     ]
    },
    {
     "name": "stdout",
     "output_type": "stream",
     "text": [
      "ITK.seq\n",
      "INFO:root:Reading ./Davis/cut_seqs/ITK.seq\n",
      "MNNFILLEEQLIKKSQQKRRTSPSNFKVRFFVLTKASLAYFEDRHGKKRTLKGSIELSRIKCVEIVKSDISIPCHYKYPFQVVHDNYLLYVFAPDRESRQRWVLALKEETRNNNSLVPKYHPNFWMDGKWRCCSQLEKLATGCAQYDPTKNASKKPLPPTPEDNRRPLWEPEETVVIALYDYQTNDPQELALRRNEEYCLLDSSEIHWWRVQDRNGHEGYVPSSYLVEKSPNNLETYEWYNKSISRDKAEKLLLDTGKEGAFMVRDSRTAGTYTVSVFTKAVVSENNPCIKHYHIKETNDNPKRYYVAEKYVFDSIPLLINYHQHNGGGLVTRLRYPVCFGRQKAPVTAGLRYGKWVIDPSELTFVQEIGSGQFGLVHLGYWLNKDKVAIKTIREGAMSEEDFIEEAEVMMKLSHPKLVQLYGVCLEQAPICLVFEFMEHGCLSDYLRTQRGLFAAETLLGMCLDVCEGMAYLEEACVIHRDLAARNCLVGENQVIKVSDFGMTRFVLDDQYTSSTGTKFPVKWASPEVFSFSRYSSKSDVWSFGVLMWEVFSEGKIPYENRSNSEVVEDISTGFRLYKPRLASTHVYQIMNHCWKERPEDRPAFSRLLRQLAEIAESGL\n",
      "INFO:root:Predicting 1th chain in ./Davis/cut_seqs/ITK.seq\n",
      "INFO:root:620 residues in this chain.\n",
      "INFO:root:Finished prediction in 31.56 seconds.\n",
      "INFO:root:Saving prediction to ./Davis/omega_2/ITK.pdb\n",
      "INFO:root:Saved\n",
      "INFO:root:Done!\n"
     ]
    },
    {
     "name": "stderr",
     "output_type": "stream",
     "text": [
      " 17%|█▋        | 89/522 [44:09<4:17:27, 35.68s/it]"
     ]
    },
    {
     "name": "stdout",
     "output_type": "stream",
     "text": [
      "DDR2_1.seq\n",
      "INFO:root:Reading ./Davis/cut_seqs/DDR2_1.seq\n",
      "TGEFFRDQGRQTYLPQPAICPDSVYKLMLSCWRRDTKNRPSFQEIHLLLLQQGDE\n",
      "INFO:root:Predicting 1th chain in ./Davis/cut_seqs/DDR2_1.seq\n",
      "INFO:root:55 residues in this chain.\n",
      "INFO:root:Finished prediction in 0.53 seconds.\n",
      "INFO:root:Saving prediction to ./Davis/omega_2/DDR2_1.pdb\n",
      "INFO:root:Saved\n",
      "INFO:root:Done!\n"
     ]
    },
    {
     "name": "stderr",
     "output_type": "stream",
     "text": [
      " 17%|█▋        | 90/522 [44:10<3:01:16, 25.18s/it]"
     ]
    },
    {
     "name": "stdout",
     "output_type": "stream",
     "text": [
      "CDK9.seq\n",
      "INFO:root:Reading ./Davis/cut_seqs/CDK9.seq\n",
      "MAKQYDSVECPFCDEVSKYEKLAKIGQGTFGEVFKARHRKTGQKVALKKVLMENEKEGFPITALREIKILQLLKHENVVNLIEICRTKASPYNRCKGSIYLVFDFCEHDLAGLLSNVLVKFTLSEIKRVMQMLLNGLYYIHRNKILHRDMKAANVLITRDGVLKLADFGLARAFSLAKNSQPNRYTNRVVTLWYRPPELLLGERDYGPPIDLWGAGCIMAEMWTRSPIMQGNTEQHQLALISQLCGSITPEVWPNVDNYELYEKLELVKGQKRKVKDRLKAYVRDPYALDLIDKLLVLDPAQRIDSDDALNHDFFWSDPMPSDLKGMLSTHLTSMFEYLAPPRRKGSQITQQSTNQSRNPATTNQTEFERVF\n",
      "INFO:root:Predicting 1th chain in ./Davis/cut_seqs/CDK9.seq\n",
      "INFO:root:372 residues in this chain.\n",
      "INFO:root:Finished prediction in 8.93 seconds.\n",
      "INFO:root:Saving prediction to ./Davis/omega_2/CDK9.pdb\n",
      "INFO:root:Saved\n",
      "INFO:root:Done!\n"
     ]
    },
    {
     "name": "stderr",
     "output_type": "stream",
     "text": [
      " 17%|█▋        | 91/522 [44:19<2:26:34, 20.41s/it]"
     ]
    },
    {
     "name": "stdout",
     "output_type": "stream",
     "text": [
      "ERK2.seq\n",
      "INFO:root:Reading ./Davis/cut_seqs/ERK2.seq\n",
      "MAAAAAAGAGPEMVRGQVFDVGPRYTNLSYIGEGAYGMVCSAYDNVNKVRVAIKKISPFEHQTYCQRTLREIKILLRFRHENIIGINDIIRAPTIEQMKDVYIVQDLMETDLYKLLKTQHLSNDHICYFLYQILRGLKYIHSANVLHRDLKPSNLLLNTTCDLKICDFGLARVADPDHDHTGFLTEYVATRWYRAPEIMLNSKGYTKSIDIWSVGCILAEMLSNRPIFPGKHYLDQLNHILGILGSPSQEDLNCIINLKARNYLLSLPHKNKVPWNRLFPNADSKALDLLDKMLTFNPHKRIEVEQALAHPYLEQYYDPSDEPIAEAPFKFDMELDDLPKEKLKELIFEETARFQPGYRS\n",
      "INFO:root:Predicting 1th chain in ./Davis/cut_seqs/ERK2.seq\n",
      "INFO:root:360 residues in this chain.\n",
      "INFO:root:Finished prediction in 8.25 seconds.\n",
      "INFO:root:Saving prediction to ./Davis/omega_2/ERK2.pdb\n",
      "INFO:root:Saved\n",
      "INFO:root:Done!\n"
     ]
    },
    {
     "name": "stderr",
     "output_type": "stream",
     "text": [
      " 18%|█▊        | 92/522 [44:28<2:00:49, 16.86s/it]"
     ]
    },
    {
     "name": "stdout",
     "output_type": "stream",
     "text": [
      "INSR_0.seq\n",
      "INFO:root:Reading ./Davis/cut_seqs/INSR_0.seq\n",
      "MATGGRRGAAAAPLLVAVAALLLGAAGHLYPGEVCPGMDIRNNLTRLHELENCSVIEGHLQILLMFKTRPEDFRDLSFPKLIMITDYLLLFRVYGLESLKDLFPNLTVIRGSRLFFNYALVIFEMVHLKELGLYNLMNITRGSVRIEKNNELCYLATIDWSRILDSVEDNYIVLNKDDNEECGDICPGTAKGKTNCPATVINGQFVERCWTHSHCQKVCPTICKSHGCTAEGLCCHSECLGNCSQPDDPTKCVACRNFYLDGRCVETCPPPYYHFQDWRCVNFSFCQDLHHKCKNSRRQGCHQYVIHNNKCIPECPSGYTMNSSNLLCTPCLGPCPKVCHLLEGEKTIDSVTSAQELRGCTVINGSLIINIRGGNNLAAELEANLGLIEEISGYLKIRRSYALVSLSFFRKLRLIRGETLEIGNYSFYALDNQNLRQLWDWSKHNLTITQGKLFFHYNPKLCLSEIHKMEEVSGTKGRQERNDIALKTNGDQASCENELLKFSYIRTSFDKILLRWEPYWPPDFRDLLGFMLFYKEAPYQNVTEFDGQDACGSNSWTVVDIDPPLRSNDPKSQNHPGWLMRGLKPWTQYAIFVKTLVTFSDERRTYGAKSDIIYVQTDATNPSVPLDPISVSNSSSQIILKWKPPSDPNGNITHYLVFWERQAEDSELFELDYCLKGLKLPSRTWSPPFESEDSQKHNQSEYEDSAGECCSCPKTDSQILKELEESSFRKTFEDYLHNVVFVPRKTSSGTGAEDPRPSRKRRSLGDVGNVTVAVPTVAAFPNTSSTSVPTSPEEHRPFEK\n",
      "INFO:root:Predicting 1th chain in ./Davis/cut_seqs/INSR_0.seq\n",
      "INFO:root:800 residues in this chain.\n",
      "INFO:root:Finished prediction in 57.07 seconds.\n",
      "INFO:root:Saving prediction to ./Davis/omega_2/INSR_0.pdb\n",
      "INFO:root:Saved\n",
      "INFO:root:Done!\n"
     ]
    },
    {
     "name": "stderr",
     "output_type": "stream",
     "text": [
      " 18%|█▊        | 93/522 [45:25<3:28:40, 29.19s/it]"
     ]
    },
    {
     "name": "stdout",
     "output_type": "stream",
     "text": [
      "EPHA8_1.seq\n",
      "INFO:root:Reading ./Davis/cut_seqs/EPHA8_1.seq\n",
      "PIRWTAPEAIAFRTFSSASDVWSFGVVMWEVLAYGERPYWNMTNRDVISSVEEGYRLPAPMGCPHALHQLMLDCWHKDRAQRPRFSQIVSVLDALIRSPESLRATATVSRCPPPAFVRSCFDLRGGSGGGGGLTVGDWLDSIRMGRYRDHFAAGGYSSLGMVLRMNAQDVRALGITLMGHQKKILGSIQTMRAQLTSTQGPRRHL\n",
      "INFO:root:Predicting 1th chain in ./Davis/cut_seqs/EPHA8_1.seq\n",
      "INFO:root:205 residues in this chain.\n",
      "INFO:root:Finished prediction in 2.31 seconds.\n",
      "INFO:root:Saving prediction to ./Davis/omega_2/EPHA8_1.pdb\n",
      "INFO:root:Saved\n",
      "INFO:root:Done!\n"
     ]
    },
    {
     "name": "stderr",
     "output_type": "stream",
     "text": [
      " 18%|█▊        | 94/522 [45:28<2:31:10, 21.19s/it]"
     ]
    },
    {
     "name": "stdout",
     "output_type": "stream",
     "text": [
      "CAMK2D.seq\n",
      "INFO:root:Reading ./Davis/cut_seqs/CAMK2D.seq\n",
      "MASTTTCTRFTDEYQLFEELGKGAFSVVRRCMKIPTGQEYAAKIINTKKLSARDHQKLEREARICRLLKHPNIVRLHDSISEEGFHYLVFDLVTGGELFEDIVAREYYSEADASHCIQQILESVNHCHLNGIVHRDLKPENLLLASKSKGAAVKLADFGLAIEVQGDQQAWFGFAGTPGYLSPEVLRKDPYGKPVDMWACGVILYILLVGYPPFWDEDQHRLYQQIKAGAYDFPSPEWDTVTPEAKDLINKMLTINPAKRITASEALKHPWICQRSTVASMMHRQETVDCLKKFNARRKLKGAILTTMLATRNFSAAKSLLKKPDGVKESTESSNTTIEDEDVKARKQEIIKVTEQLIEAINNGDFEAYTKICDPGLTAFEPEALGNLVEGMDFHRFYFENALSKSNKPIHTIILNPHVHLVGDDAACIAYIRLTQYMDGSGMPKTMQSEETRVWHRRDGKWQNVHFHRSGSPTVPIKPPCIPNGKENFSGGTSLWQNI\n",
      "INFO:root:Predicting 1th chain in ./Davis/cut_seqs/CAMK2D.seq\n",
      "INFO:root:499 residues in this chain.\n",
      "INFO:root:Finished prediction in 18.81 seconds.\n",
      "INFO:root:Saving prediction to ./Davis/omega_2/CAMK2D.pdb\n",
      "INFO:root:Saved\n",
      "INFO:root:Done!\n"
     ]
    },
    {
     "name": "stderr",
     "output_type": "stream",
     "text": [
      " 18%|█▊        | 95/522 [45:47<2:26:48, 20.63s/it]"
     ]
    },
    {
     "name": "stdout",
     "output_type": "stream",
     "text": [
      "MAP3K4_1.seq\n",
      "INFO:root:Reading ./Davis/cut_seqs/MAP3K4_1.seq\n",
      "LKELFHEARERASKALGFAKMLRKDLEIAAEFRLSAPVRDLLDVLKSKQYVKVQIPGLENLQMFVPDTLAEEKSIILQLLNAAAGKDCSKDSDDVLIDAYLLLTKHGDRARDSEDSWGTWEAQPVKVVPQVETVDTLRSMQVDNLLLVVMQSAHLTIQRKAFQQSIEGLMTLCQEQTSSQPVIAKALQQLKNDALELCNRISNAIDRVDHMFTSEFDAEVDESESVTLQQYYREAMIQGYNFGFEYHKEVVRLMSGEFRQKIGDKYISFARKWMNYVLTKCESGRGTRPRWATQGFDFLQAIEPAFISALPEDDFLSLQALMNECIGHVIGKPHSPVTGLYLAIHRNSPRPMKVPRCHSDPPNPHLIIPTPEGFSTRSMPSDARSHGSPAAAAAAAAAAVAASRPSPSGGDSVLPKSISSAHDTRGSSVPENDRLASIAAELQFRSLSRHSSPTEERDEPAYPRGDSSGSTRRSWELRTLISQSKDTASKLGPIEAIQKSVRLFEEKRYREMRRKNIIGQVCDTPKSYDNVMHVGLRKVTFKWQRGNKIGEGQYGKVYTCISVDTGELMAMKEIRFQPNDHKTIKETADELKIFEGIKHPNLVRYFGVELHREEMYIFMEYCDEGTLEEVSRLGLQEHVIRLYSKQITIAINVLHEHGIVHRDIKGANIFLTSSGLIKLGDFGCSVKLKNNAQTMPGEVNSTLGTAAYMAPEVITRAKGEGHGRAADIWSLGCVVIEMVTGKRPWHEYEHNFQIMYKVGMGHKPPIPERLSPEGKDFLSHCLESDPKMRWTASQLLDHSF\n",
      "INFO:root:Predicting 1th chain in ./Davis/cut_seqs/MAP3K4_1.seq\n",
      "INFO:root:800 residues in this chain.\n",
      "INFO:root:Finished prediction in 57.01 seconds.\n",
      "INFO:root:Saving prediction to ./Davis/omega_2/MAP3K4_1.pdb\n",
      "INFO:root:Saved\n",
      "INFO:root:Done!\n"
     ]
    },
    {
     "name": "stderr",
     "output_type": "stream",
     "text": [
      " 18%|█▊        | 96/522 [46:45<3:45:45, 31.80s/it]"
     ]
    },
    {
     "name": "stdout",
     "output_type": "stream",
     "text": [
      "ROS1_2.seq\n",
      "INFO:root:Reading ./Davis/cut_seqs/ROS1_2.seq\n",
      "ALIPETPLRQSEFPNGRLTLLVTRLSGGNIYVLKVLACHSEEMWCTESHPVTVEMFNTPEKPYSLVPENTSLQFNWKAPLNVNLIRFWVELQKWKYNEFYHVKTSCSQGPAYVCNITNLQPYTSYNVRVVVVYKTGENSTSLPESFKTKAGVPNKPGIPKLLEGSKNSIQWEKAEDNGCRITYYILEIRKSTSNNLQNQNLRWKMTFNGSCSSVCTWKSKNLKGIFQFRVVAANNLGFGEYSGISENIILVGDDFWIPETSFILTIIVGIFLVVTIPLTFVWHRRLKNQKSAKEGVTVLINEDKELAELRGLAAGVGLANACYAIHTLPTQEEIENLPAFPREKLTLRLLLGSGAFGEVYEGTAVDILGVGSGEIKVAVKTLKKGSTDQEKIEFLKEAHLMSKFNHPNILKQLGVCLLNEPQYIILELMEGGDLLTYLRKARMATFYGPLLTLVDLVDLCVDISKGCVYLERMHFIHRDLAARNCLVSVKDYTSPRIVKIGDFGLARDIYKNDYYRKRGEGLLPVRWMAPESLMDGIFTTQSDVWSFGILIWEILTLGHQPYPAHSNLDVLNYVQTGGRLEPPRNCPDDLWNLMTQCWAQEPDQRPTFHRIQDQLQLFRNFFLNSIYKSRDEANNSGVINESFEGEDGDVICLNSDDIMPVALMETKNREGLNYMVLATECGQGEEKSEGPLGSQESESCGLRKEEKEPHADKDFCQEKQVAYCPSGKPEGLNYACLTHSGYGDGSD\n",
      "INFO:root:Predicting 1th chain in ./Davis/cut_seqs/ROS1_2.seq\n",
      "INFO:root:747 residues in this chain.\n",
      "INFO:root:Finished prediction in 51.65 seconds.\n",
      "INFO:root:Saving prediction to ./Davis/omega_2/ROS1_2.pdb\n",
      "INFO:root:Saved\n",
      "INFO:root:Done!\n"
     ]
    },
    {
     "name": "stderr",
     "output_type": "stream",
     "text": [
      " 19%|█▊        | 97/522 [47:38<4:29:18, 38.02s/it]"
     ]
    },
    {
     "name": "stdout",
     "output_type": "stream",
     "text": [
      "ULK2_1.seq\n",
      "INFO:root:Reading ./Davis/cut_seqs/ULK2_1.seq\n",
      "SLEGLITFEAPELPEETLMEREHTDTLRHLNVMLMFTECVLDLTAMRGGNPELCTSAVSLYQIQESVVVDQISQLSKDWGRVEQLVLYMKAAQLLAASLHLAKAQIKSGKLSPSTAVKQVVKNLNERYKFCITMCKKLTEKLNRFFSDKQRFIDEINSVTAEKLIYNCAVEMVQSAALDEMFQQTEDIVYRYHKAALLLEGLSRILQDPADIENVHKYKCSIERRLSALCHSTATV\n",
      "INFO:root:Predicting 1th chain in ./Davis/cut_seqs/ULK2_1.seq\n",
      "INFO:root:236 residues in this chain.\n",
      "INFO:root:Finished prediction in 3.13 seconds.\n",
      "INFO:root:Saving prediction to ./Davis/omega_2/ULK2_1.pdb\n",
      "INFO:root:Saved\n",
      "INFO:root:Done!\n"
     ]
    },
    {
     "name": "stderr",
     "output_type": "stream",
     "text": [
      " 19%|█▉        | 98/522 [47:41<3:15:11, 27.62s/it]"
     ]
    },
    {
     "name": "stdout",
     "output_type": "stream",
     "text": [
      "PLK4_1.seq\n",
      "INFO:root:Reading ./Davis/cut_seqs/PLK4_1.seq\n",
      "IIIGRKPGSTSSPKALSPPPSVDSNYPTRERASFNRMVMHSAASPTQAPILNPSMVTNEGLGLTTTASGTDISSNSLKDCLPKSAQLLKSVFVKNVGWATQLTSGAVWVQFNDGSQLVVQAGVSSISYTSPNGQTTRYGENEKLPDYIKQKLQCLSSILLMFSNPTPNFH\n",
      "INFO:root:Predicting 1th chain in ./Davis/cut_seqs/PLK4_1.seq\n",
      "INFO:root:170 residues in this chain.\n",
      "INFO:root:Finished prediction in 1.59 seconds.\n",
      "INFO:root:Saving prediction to ./Davis/omega_2/PLK4_1.pdb\n",
      "INFO:root:Saved\n",
      "INFO:root:Done!\n"
     ]
    },
    {
     "name": "stderr",
     "output_type": "stream",
     "text": [
      " 19%|█▉        | 99/522 [47:43<2:20:05, 19.87s/it]"
     ]
    },
    {
     "name": "stdout",
     "output_type": "stream",
     "text": [
      "NEK6.seq\n",
      "INFO:root:Reading ./Davis/cut_seqs/NEK6.seq\n",
      "MAGQPGHMPHGGSSNNLCHTLGPVHPPDPQRHPNTLSFRCSLADFQIEKKIGRGQFSEVYKATCLLDRKTVALKKVQIFEMMDAKARQDCVKEIGLLKQLNHPNIIKYLDSFIEDNELNIVLELADAGDLSQMIKYFKKQKRLIPERTVWKYFVQLCSAVEHMHSRRVMHRDIKPANVFITATGVVKLGDLGLGRFFSSETTAAHSLVGTPYYMSPERIHENGYNFKSDIWSLGCLLYEMAALQSPFYGDKMNLFSLCQKIEQCDYPPLPGEHYSEKLRELVSMCICPDPHQRPDIGYVHQVAKQMHIWMSST\n",
      "INFO:root:Predicting 1th chain in ./Davis/cut_seqs/NEK6.seq\n",
      "INFO:root:313 residues in this chain.\n",
      "INFO:root:Finished prediction in 5.92 seconds.\n",
      "INFO:root:Saving prediction to ./Davis/omega_2/NEK6.pdb\n",
      "INFO:root:Saved\n",
      "INFO:root:Done!\n"
     ]
    },
    {
     "name": "stderr",
     "output_type": "stream",
     "text": [
      " 19%|█▉        | 100/522 [47:49<1:50:57, 15.78s/it]"
     ]
    },
    {
     "name": "stdout",
     "output_type": "stream",
     "text": [
      "PRKD1_1.seq\n",
      "INFO:root:Reading ./Davis/cut_seqs/PRKD1_1.seq\n",
      "PPNPWKEISHEAIDLINNLLQVKMRKRYSVDKTLSHPWLQDYQTWLDLRELECKIGERYITHESDDLRWEKYAGEQGLQYPTHLINPSASHSDTPETEETEMKALGERVSIL\n",
      "INFO:root:Predicting 1th chain in ./Davis/cut_seqs/PRKD1_1.seq\n",
      "INFO:root:112 residues in this chain.\n",
      "INFO:root:Finished prediction in 0.80 seconds.\n",
      "INFO:root:Saving prediction to ./Davis/omega_2/PRKD1_1.pdb\n",
      "INFO:root:Saved\n",
      "INFO:root:Done!\n"
     ]
    },
    {
     "name": "stderr",
     "output_type": "stream",
     "text": [
      " 19%|█▉        | 101/522 [47:50<1:19:31, 11.33s/it]"
     ]
    },
    {
     "name": "stdout",
     "output_type": "stream",
     "text": [
      "INSRR_1.seq\n",
      "INFO:root:Reading ./Davis/cut_seqs/INSRR_1.seq\n",
      "AATFVFARTMPHREADGIPGKVAWEASSKNSVLLRWLEPPDPNGLILKYEIKYRRLGEEATVLCVSRLRYAKFGGVHLALLPPGNYSARVRATSLAGNGSWTDSVAFYILGPEEEDAGGLHVLLTATPVGLTLLIVLAALGFFYGKKRNRTLYASVNPEYFSASDMYVPDEWEVPREQISIIRELGQGSFGMVYEGLARGLEAGEESTPVALKTVNELASPRECIEFLKEASVMKAFKCHHVVRLLGVVSQGQPTLVIMELMTRGDLKSHLRSLRPEAENNPGLPQPALGEMIQMAGEIADGMAYLAANKFVHRDLAARNCMVSQDFTVKIGDFGMTRDVYETDYYRKGGKGLLPVRWMAPESLKDGIFTTHSDVWSFGVVLWEIVTLAEQPYQGLSNEQVLKFVMDGGVLEELEGCPLQLQELMSRCWQPNPRLRPSFTHILDSIQEELRPSFRLLSFYYSPECRGARGSLPTTDAEPDSSPTPRDCSPQNGGPGH\n",
      "INFO:root:Predicting 1th chain in ./Davis/cut_seqs/INSRR_1.seq\n",
      "INFO:root:497 residues in this chain.\n",
      "INFO:root:Finished prediction in 18.69 seconds.\n",
      "INFO:root:Saving prediction to ./Davis/omega_2/INSRR_1.pdb\n",
      "INFO:root:Saved\n",
      "INFO:root:Done!\n"
     ]
    },
    {
     "name": "stderr",
     "output_type": "stream",
     "text": [
      " 20%|█▉        | 102/522 [48:09<1:35:50, 13.69s/it]"
     ]
    },
    {
     "name": "stdout",
     "output_type": "stream",
     "text": [
      "MST1R_0.seq\n",
      "INFO:root:Reading ./Davis/cut_seqs/MST1R_0.seq\n",
      "MELLPPLPQSFLLLLLLPAKPAAGEDWQCPRTPYAASRDFDVKYVVPSFSAGGLVQAMVTYEGDRNESAVFVAIRNRLHVLGPDLKSVQSLATGPAGDPGCQTCAACGPGPHGPPGDTDTKVLVLDPALPALVSCGSSLQGRCFLHDLEPQGTAVHLAAPACLFSAHHNRPDDCPDCVASPLGTRVTVVEQGQASYFYVASSLDAAVAASFSPRSVSIRRLKADASGFAPGFVALSVLPKHLVSYSIEYVHSFHTGAFVYFLTVQPASVTDDPSALHTRLARLSATEPELGDYRELVLDCRFAPKRRRRGAPEGGQPYPVLRVAHSAPVGAQLATELSIAEGQEVLFGVFVTGKDGGPGVGPNSVVCAFPIDLLDTLIDEGVERCCESPVHPGLRRGLDFFQSPSFCPNPPGLEALSPNTSCRHFPLLVSSSFSRVDLFNGLLGPVQVTALYVTRLDNVTVAHMGTMDGRILQVELVRSLNYLLYVSNFSLGDSGQPVQRDVSRLGDHLLFASGDQVFQVPIQGPGCRHFLTCGRCLRAWHFMGCGWCGNMCGQQKECPGSWQQDHCPPKLTEFHPHSGPLRGSTRLTLCGSNFYLHPSGLVPEGTHQVTVGQSPCRPLPKDSSKLRPVPRKDFVEEFECELEPLGTQAVGPTNVSLTVTNMPPGKHFRVDGTSVLRGFSFMEPVLIAVQPLFGPRAGGTCLTLEGQSLSVGTSRAVLVNGTECLLARVSEGQLLCATPPGATVASVPLSLQVGGAQVPGSWTFQYREDPVVLSISPNCGYINSHITICGQHLTSAWHLV\n",
      "INFO:root:Predicting 1th chain in ./Davis/cut_seqs/MST1R_0.seq\n",
      "INFO:root:800 residues in this chain.\n",
      "INFO:root:Finished prediction in 57.08 seconds.\n",
      "INFO:root:Saving prediction to ./Davis/omega_2/MST1R_0.pdb\n",
      "INFO:root:Saved\n",
      "INFO:root:Done!\n"
     ]
    },
    {
     "name": "stderr",
     "output_type": "stream",
     "text": [
      " 20%|█▉        | 103/522 [49:07<3:08:28, 26.99s/it]"
     ]
    },
    {
     "name": "stdout",
     "output_type": "stream",
     "text": [
      "MTOR_2.seq\n",
      "INFO:root:Reading ./Davis/cut_seqs/MTOR_2.seq\n",
      "EVIQYKLVPERREIIRQIWWERLQGCQRIVEDWQKILMVRSLVVSPHEDMRTWLKYASLCGKSGRLALAHKTLVLLLGVDPSRQLDHPLPTVHPQVTYAYMKNMWKSARKIDAFQHMQHFVQTMQQQAQHAIATEDQQHKQELHKLMARCFLKLGEWQLNLQGINESTIPKVLQYYSAATEHDRSWYKAWHAWAVMNFEAVLHYKHQNQARDEKKKLRHASGANITNATTAATTAATATTTASTEGSNSESEAESTENSPTPSPLQKKVTEDLSKTLLMYTVPAVQGFFRSISLSRGNNLQDTLRVLTLWFDYGHWPDVNEALVEGVKAIQIDTWLQVIPQLIARIDTPRPLVGRLIHQLLTDIGRYHPQALIYPLTVASKSTTTARHNAANKILKNMCEHSNTLVQQAMMVSEELIRVAILWHEMWHEGLEEASRLYFGERNVKGMFEVLEPLHAMMERGPQTLKETSFNQAYGRDLMEAQEWCRKYMKSGNVKDLTQAWDLYYHVFRRISKQLPQLTSLELQYVSPKLLMCRDLELAVPGTYDPNQPIIRIQSIAPSLQVITSKQRPRKLTLMGSNGHEFVFLLKGHEDLRQDERVMQLFGLVNTLLANDPTSLRKNLSIQRYAVIPLSTNSGLIGWVPHCDTLHALIRDYREKKKILLNIEHRIMLRMAPDYDHLTLMQKVEVFEHAVNNTAGDDLAKLLWLKSPSSEVWFDRRTNYTRSLAVMSMVGYILGLGDRHPSNLMLDRLSGKILHIDFGDCFEVAMTREKFPEKIPFRLTRMLTNAMEVTGLDGNYRITC\n",
      "INFO:root:Predicting 1th chain in ./Davis/cut_seqs/MTOR_2.seq\n",
      "INFO:root:800 residues in this chain.\n",
      "INFO:root:Finished prediction in 57.13 seconds.\n",
      "INFO:root:Saving prediction to ./Davis/omega_2/MTOR_2.pdb\n",
      "INFO:root:Saved\n",
      "INFO:root:Done!\n"
     ]
    },
    {
     "name": "stderr",
     "output_type": "stream",
     "text": [
      " 20%|█▉        | 104/522 [50:05<4:12:59, 36.31s/it]"
     ]
    },
    {
     "name": "stdout",
     "output_type": "stream",
     "text": [
      "MTOR_1.seq\n",
      "INFO:root:Reading ./Davis/cut_seqs/MTOR_1.seq\n",
      "TIGELAQVSGLEMRKWVDELFIIIMDMLQDSSLLAKRQVALWTLGQLVASTGYVVEPYRKYPTLLEVLLNFLKTEQNQGTRREAIRVLGLLGALDPYKHKVNIGMIDQSRDASAVSLSESKSSQDSSDYSTSEMLVNMGNLPLDEFYPAVSMVALMRIFRDQSLSHHHTMVVQAITFIFKSLGLKCVQFLPQVMPTFLNVIRVCDGAIREFLFQQLGMLVSFVKSHIRPYMDEIVTLMREFWVMNTSIQSTIILLIEQIVVALGGEFKLYLPQLIPHMLRVFMHDNSPGRIVSIKLLAAIQLFGANLDDYLHLLLPPIVKLFDAPEAPLPSRKAALETVDRLTESLDFTDYASRIIHPIVRTLDQSPELRSTAMDTLSSLVFQLGKKYQIFIPMVNKVLVRHRINHQRYDVLICRIVKGYTLADEEEDPLIYQHRMLRSGQGDALASGPVETGPMKKLHVSTINLQKAWGAARRVSKDDWLEWLRRLSLELLKDSSSPSLRSCWALAQAYNPMARDLFNAAFVSCWSELNEDQQDELIRSIELALTSQDIAEVTQTLLNLAEFMEHSDKGPLPLRDDNGIVLLGERAAKCRAYAKALHYKELEFQKGPTPAILESLISINNKLQQPEAAAGVLEYAMKHFGELEIQATWYEKLHEWEDALVAYDKKMDTNKDDPELMLGRMRCLEALGEWGQLHQQCCEKWTLVNDETQAKMARMAAAAAWGLGQWDSMEEYTCMIPRDTHDGAFYRAVLALHQDLFSLAQQCIDKARDLLDAELTAMAGESYSRAYGAMVSCHMLSELE\n",
      "INFO:root:Predicting 1th chain in ./Davis/cut_seqs/MTOR_1.seq\n",
      "INFO:root:800 residues in this chain.\n",
      "INFO:root:Finished prediction in 57.06 seconds.\n",
      "INFO:root:Saving prediction to ./Davis/omega_2/MTOR_1.pdb\n",
      "INFO:root:Saved\n",
      "INFO:root:Done!\n"
     ]
    },
    {
     "name": "stderr",
     "output_type": "stream",
     "text": [
      " 20%|██        | 105/522 [51:03<4:57:26, 42.80s/it]"
     ]
    },
    {
     "name": "stdout",
     "output_type": "stream",
     "text": [
      "LATS1_1.seq\n",
      "INFO:root:Reading ./Davis/cut_seqs/LATS1_1.seq\n",
      "PESLARFYIAELTCAVESVHKMGFIHRDIKPDNILIDRDGHIKLTDFGLCTGFRWTHDSKYYQSGDHPRQDSMDFSNEWGDPSSCRCGDRLKPLERRAARQHQRCLAHSLVGTPNYIAPEVLLRTGYTQLCDWWSVGVILFEMLVGQPPFLAQTPLETQMKVINWQTSLHIPPQAKLSPEASDLIIKLCRGPEDRLGKNGADEIKAHPFFKTIDFSSDLRQQSASYIPKITHPTDTSNFDPVDPDKLWSDDNEEENVNDTLNGWYKNGKHPEHAFYEFTFRRFFDDNGYPYNYPKPIEYEYINSQGSEQQSDEDDQNTGSEIKNRDLVYV\n",
      "INFO:root:Predicting 1th chain in ./Davis/cut_seqs/LATS1_1.seq\n",
      "INFO:root:330 residues in this chain.\n",
      "INFO:root:Finished prediction in 6.89 seconds.\n",
      "INFO:root:Saving prediction to ./Davis/omega_2/LATS1_1.pdb\n",
      "INFO:root:Saved\n",
      "INFO:root:Done!\n"
     ]
    },
    {
     "name": "stderr",
     "output_type": "stream",
     "text": [
      " 20%|██        | 106/522 [51:11<3:42:50, 32.14s/it]"
     ]
    },
    {
     "name": "stdout",
     "output_type": "stream",
     "text": [
      "PIP5K2C.seq\n",
      "INFO:root:Reading ./Davis/cut_seqs/PIP5K2C.seq\n",
      "MASSSVPPATVSAATAGPGPGFGFASKTKKKHFVQQKVKVFRAADPLVGVFLWGVAHSINELSQVPPPVMLLPDDFKASSKIKVNNHLFHRENLPSHFKFKEYCPQVFRNLRDRFGIDDQDYLVSLTRNPPSESEGSDGRFLISYDRTLVIKEVSSEDIADMHSNLSNYHQYIVKCHGNTLLPQFLGMYRVSVDNEDSYMLVMRNMFSHRLPVHRKYDLKGSLVSREASDKEKVKELPTLKDMDFLNKNQKVYIGEEEKKIFLEKLKRDVEFLVQLKIMDYSLLLGIHDIIRGSEPEEEAPVREDESEVDGDCSLTGPPALVGSYGTSPEGIGGYIHSHRPLGPGEFESFIDVYAIRSAEGAPQKEVYFMGLIDILTQYDAKKKAAHAAKTVKHGAGAEISTVHPEQYAKRFLDFITNIFA\n",
      "INFO:root:Predicting 1th chain in ./Davis/cut_seqs/PIP5K2C.seq\n",
      "INFO:root:421 residues in this chain.\n",
      "INFO:root:Finished prediction in 12.26 seconds.\n",
      "INFO:root:Saving prediction to ./Davis/omega_2/PIP5K2C.pdb\n",
      "INFO:root:Saved\n",
      "INFO:root:Done!\n"
     ]
    },
    {
     "name": "stderr",
     "output_type": "stream",
     "text": [
      " 20%|██        | 107/522 [51:23<3:01:52, 26.30s/it]"
     ]
    },
    {
     "name": "stdout",
     "output_type": "stream",
     "text": [
      "STK36_0.seq\n",
      "INFO:root:Reading ./Davis/cut_seqs/STK36_0.seq\n",
      "MEKYHVLEMIGEGSFGRVYKGRRKYSAQVVALKFIPKLGRSEKELRNLQREIEIMRGLRHPNIVHMLDSFETDKEVVVVTDYAEGELFQILEDDGKLPEDQVQAIAAQLVSALYYLHSHRILHRDMKPQNILLAKGGGIKLCDFGFARAMSTNTMVLTSIKGTPLYMSPELVEERPYDHTADLWSVGCILYELAVGTPPFYATSIFQLVSLILKDPVRWPSTISPCFKNFLQGLLTKDPRQRLSWPDLLYHPFIAGHVTIITEPAGPDLGTPFTSRLPPELQVLKDEQAHRLAPKGNQSRILTQAYKRMAEEAMQKKHQNTGPALEQEDKTSKVAPGTAPLPRLGATPQESSLLAGILASELKSSWAKSGTGEVPSAPRENRTTPDCERAFPEERPEVLGQRSTDVVDLENEEPDSDNEWQHLLETTEPVPIQLKAPLTLLCNPDFCQRIQSQLHEAGGQILKGILEGASHILPAFRVLSSLLSSCSDSVALYSFCREAGLPGLLLSLLRHSQESNSLQQQSWYGTFLQDLMAVIQAYFACTFNLERSQTSDSLQVFQEAANLFLDLLGKLLAQPDDSEQTLRRDSLMCFTVLCEAMDGNSRAISKAFYSSLLTTQQVVLDGLLHGLTVPQLPVHTPQGAPQVSQPLREQSEDIPGAISSALAAICTAPVGLPDCWDAKEQVCWHLANQLTEDSSQLRPSLISGLQHPILCLHLLKVLYSCCLVSEGLCRLLGQEPLALESLFMLIQGKVKVVDWEESTEVTLYFLSLLVFRLQNLPCGMEKLGSDVATLFTHSHVVSLV\n",
      "INFO:root:Predicting 1th chain in ./Davis/cut_seqs/STK36_0.seq\n",
      "INFO:root:800 residues in this chain.\n",
      "INFO:root:Finished prediction in 56.98 seconds.\n",
      "INFO:root:Saving prediction to ./Davis/omega_2/STK36_0.pdb\n",
      "INFO:root:Saved\n",
      "INFO:root:Done!\n"
     ]
    },
    {
     "name": "stderr",
     "output_type": "stream",
     "text": [
      " 21%|██        | 108/522 [52:21<4:06:43, 35.76s/it]"
     ]
    },
    {
     "name": "stdout",
     "output_type": "stream",
     "text": [
      "PCTK2.seq\n",
      "INFO:root:Reading ./Davis/cut_seqs/PCTK2.seq\n",
      "MKKFKRRLSLTLRGSQTIDESLSELAEQMTIEENSSKDNEPIVKNGRPPTSHSMHSFLHQYTGSFKKPPLRRPHSVIGGSLGSFMAMPRNGSRLDIVHENLKMGSDGESDQASGTSSDEVQSPTGVCLRNRIHRRISMEDLNKRLSLPADIRIPDGYLEKLQINSPPFDQPMSRRSRRASLSEIGFGKMETYIKLEKLGEGTYATVYKGRSKLTENLVALKEIRLEHEEGAPCTAIREVSLLKDLKHANIVTLHDIVHTDKSLTLVFEYLDKDLKQYMDDCGNIMSMHNVKLFLYQILRGLAYCHRRKVLHRDLKPQNLLINEKGELKLADFGLARAKSVPTKTYSNEVVTLWYRPPDVLLGSSEYSTQIDMWGVGCIFFEMASGRPLFPGSTVEDELHLIFRLLGTPSQETWPGISSNEEFKNYNFPKYKPQPLINHAPRLDSEGIELITKFLQYESKKRVSAEEAMKHVYFRSLGPRIHALPESVSIFSLKEIQLQKDPGFRNSSYPETGHGKNRRQSMLF\n",
      "INFO:root:Predicting 1th chain in ./Davis/cut_seqs/PCTK2.seq\n",
      "INFO:root:523 residues in this chain.\n",
      "INFO:root:Finished prediction in 21.12 seconds.\n",
      "INFO:root:Saving prediction to ./Davis/omega_2/PCTK2.pdb\n",
      "INFO:root:Saved\n",
      "INFO:root:Done!\n"
     ]
    },
    {
     "name": "stderr",
     "output_type": "stream",
     "text": [
      " 21%|██        | 109/522 [52:43<3:36:51, 31.50s/it]"
     ]
    },
    {
     "name": "stdout",
     "output_type": "stream",
     "text": [
      "IKK-epsilon.seq\n",
      "INFO:root:Reading ./Davis/cut_seqs/IKK-epsilon.seq\n",
      "MQSTANYLWHTDDLLGQGATASVYKARNKKSGELVAVKVFNTTSYLRPREVQVREFEVLRKLNHQNIVKLFAVEETGGSRQKVLVMEYCSSGSLLSVLESPENAFGLPEDEFLVVLRCVVAGMNHLRENGIVHRDIKPGNIMRLVGEEGQSIYKLTDFGAARELDDDEKFVSVYGTEEYLHPDMYERAVLRKPQQKAFGVTVDLWSIGVTLYHAATGSLPFIPFGGPRRNKEIMYRITTEKPAGAIAGAQRRENGPLEWSYTLPITCQLSLGLQSQLVPILANILEVEQAKCWGFDQFFAETSDILQRVVVHVFSLSQAVLHHIYIHAHNTIAIFQEAVHKQTSVAPRHQEYLFEGHLCVLEPSVSAQHIAHTTASSPLTLFSTAIPKGLAFRDPALDVPKFVPKVDLQADYNTAKGVLGAGYQALRLARALLDGQELMFRGLHWVMEVLQATCRRTLEVARTSLLYLSSSLGTERFSSVAGTPEIQELKAAAELRSRLRTLAEVLSRCSQNITETQESLSSLNRELVKSRDQVHEDRSIQQIQCCLDKMNFIYKQFKKSRMRPGLGYNEEQIHKLDKVNFSHLAKRLLQVFQEECVQKYQASLVTHGKRMRVVHETRNHLRLVGCSVAACNTEAQGVQESLSKLLEELSHQLLQDRAKGAQASPPPIAPYPSPTRKDLLLHMQELCEGMKLLASDLLDNNRIIERLNRVPAPPDV\n",
      "INFO:root:Predicting 1th chain in ./Davis/cut_seqs/IKK-epsilon.seq\n",
      "INFO:root:716 residues in this chain.\n",
      "INFO:root:Finished prediction in 45.16 seconds.\n",
      "INFO:root:Saving prediction to ./Davis/omega_2/IKK-epsilon.pdb\n",
      "INFO:root:Saved\n",
      "INFO:root:Done!\n"
     ]
    },
    {
     "name": "stderr",
     "output_type": "stream",
     "text": [
      " 21%|██        | 110/522 [53:29<4:06:39, 35.92s/it]"
     ]
    },
    {
     "name": "stdout",
     "output_type": "stream",
     "text": [
      "TNNI3K_0.seq\n",
      "INFO:root:Reading ./Davis/cut_seqs/TNNI3K_0.seq\n",
      "MGNYKSRPTQTCTDEWKKKVSESYVITIERLEDDLQIKEKELTELRNIFGSDEAFSKVNLNYRTENGLSLLHLCCICGGKKSHIRTLMLKGLRPSRLTRNGFTALHLAVYKDNAELITSLLHSGADIQQVGYGGLTALHIATIAGHLEAADVLLQHGANVNIQDAVFFTPLHIAAYYGHEQVTRLLLKFGADVNVSGEVGDRPLHLASAKGFLNIAKLLMEEGSKADVNAQDNEDHVPLHFCSRFGHHDIVKYLLQSDLEVQPHVVNIYGDTPLHLACYNGKFEVAKEIIQISGTESLTKENIFSETAFHSACTYGKSIDLVKFLLDQNVININHQGRDGHTGLHSACYHGHIRLVQFLLDNGADMNLVACDPSRSSGEKDEQTCLMWAYEKGHDAIVTLLKHYKRPQDELPCNEYSQPGGDGSYVSVPSPLGKIKSMTKEKADILLLRAGLPSHFHLQLSEIEFHEIIGSGSFGKVYKGRCRNKIVAIKRYRANTYCSKSDVDMFCREVSILCQLNHPCVIQFVGACLNDPSQFAIVTQYISGGSLFSLLHEQKRILDLQSKLIIAVDVAKGMEYLHNLTQPIIHRDLNSHNILLYEDGHAVVADFGESRFLQSLDEDNMTKQPGNLRWMAPEVFTQCTRYTIKADVFSYALCLWEILTGEIPFAHLKPAAAAADMAYHHIRPPIGYSIPKPISSLLIRGWNACPEGRPEFSEVVMKLEECLCNIELMSPASSNSSGSLSPSSSSDCLVNRGGPGRSHVAALRSRFELEYALNARSYAALSQSAGQYSSQGLSLEEMKR\n",
      "INFO:root:Predicting 1th chain in ./Davis/cut_seqs/TNNI3K_0.seq\n",
      "INFO:root:800 residues in this chain.\n",
      "INFO:root:Finished prediction in 57.03 seconds.\n",
      "INFO:root:Saving prediction to ./Davis/omega_2/TNNI3K_0.pdb\n",
      "INFO:root:Saved\n",
      "INFO:root:Done!\n"
     ]
    },
    {
     "name": "stderr",
     "output_type": "stream",
     "text": [
      " 21%|██▏       | 111/522 [54:27<4:51:14, 42.52s/it]"
     ]
    },
    {
     "name": "stdout",
     "output_type": "stream",
     "text": [
      "NLK.seq\n",
      "INFO:root:Reading ./Davis/cut_seqs/NLK.seq\n",
      "MSLCGARANAKMMAAYNGGTSAAAAGHHHHHHHHLPHLPPPHLHHHHHPQHHLHPGSAAAVHPVQQHTSSAAAAAAAAAAAAAMLNPGQQQPYFPSPAPGQAPGPAAAAPAQVQAAAAATVKAHHHQHSHHPQQQLDIEPDRPIGYGAFGVVWSVTDPRDGKRVALKKMPNVFQNLVSCKRVFRELKMLCFFKHDNVLSALDILQPPHIDYFEEIYVVTELMQSDLHKIIVSPQPLSSDHVKVFLYQILRGLKYLHSAGILHRDIKPGNLLVNSNCVLKICDFGLARVEELDESRHMTQEVVTQYYRAPEILMGSRHYSNAIDIWSVGCIFAELLGRRILFQAQSPIQQLDLITDLLGTPSLEAMRTACEGAKAHILRGPHKQPSLPVLYTLSSQATHEAVHLLCRMLVFDPSKRISAKDALAHPYLDEGRLRYHTCMCKCCFSTSTGRVYTSDFEPVTNPKFDDTFEKNLSSVRQVKEIIHQFILEQQKGNRVPLCINPQSAAFKSFISSTVAQPSEMPPSPLVWE\n",
      "INFO:root:Predicting 1th chain in ./Davis/cut_seqs/NLK.seq\n",
      "INFO:root:527 residues in this chain.\n",
      "INFO:root:Finished prediction in 21.71 seconds.\n",
      "INFO:root:Saving prediction to ./Davis/omega_2/NLK.pdb\n",
      "INFO:root:Saved\n",
      "INFO:root:Done!\n"
     ]
    },
    {
     "name": "stderr",
     "output_type": "stream",
     "text": [
      " 21%|██▏       | 112/522 [54:49<4:08:53, 36.42s/it]"
     ]
    },
    {
     "name": "stdout",
     "output_type": "stream",
     "text": [
      "CDKL1.seq\n",
      "INFO:root:Reading ./Davis/cut_seqs/CDKL1.seq\n",
      "MEKYEKIGKIGEGSYGVVFKCRNRDTGQIVAIKKFLESEDDPVIKKIALREIRMLKQLKHPNLVNLLEVFRRKRRLHLVFEYCDHTVLHELDRYQRGVPEHLVKSITWQTLQAVNFCHKHNCIHRDVKPENILITKHSVIKLCDFGFARLLAGPSDYYTDYVATRWYRSPELLVGDTQYGPPVDVWAIGCVFAELLSGVPLWPGKSDVDQLYLIRKTLGDLIPRHQQVFSTNQYFSGVKIPDPEDMEPLELKFPNISYPALGLLKGCLHMDPTQRLTCEQLLHHPYFENIREIEDLAKEHNKPTRKTLRKSRKHHCFTETSKLQYLPQLTGSSILPALDNKKYYCDTKKLNYRFPNI\n",
      "INFO:root:Predicting 1th chain in ./Davis/cut_seqs/CDKL1.seq\n",
      "INFO:root:357 residues in this chain.\n",
      "INFO:root:Finished prediction in 8.34 seconds.\n",
      "INFO:root:Saving prediction to ./Davis/omega_2/CDKL1.pdb\n",
      "INFO:root:Saved\n",
      "INFO:root:Done!\n"
     ]
    },
    {
     "name": "stderr",
     "output_type": "stream",
     "text": [
      " 22%|██▏       | 113/522 [54:58<3:11:30, 28.09s/it]"
     ]
    },
    {
     "name": "stdout",
     "output_type": "stream",
     "text": [
      "GCN2(KinDom2S808G)_0.seq\n",
      "INFO:root:Reading ./Davis/cut_seqs/GCN2(KinDom2S808G)_0.seq\n",
      "MAGGRGAPGRGRDEPPESYPQRQDHELQALEAIYGADFQDLRPDACGPVKEPPEINLVLYPQGLTGEEVYVKVDLRVKCPPTYPDVVPEIELKNAKGLSNESVNLLKSRLEELAKKHCGEVMIFELAYHVQSFLSEHNKPPPKSFHEEMLERRAQEEQQRLLEAKRKEEQEQREILHEIQRRKEEIKEEKKRKEMAKQERLEIASLSNQDHTSKKDPGGHRTAAILHGGSPDFVGNGKHRANSSGRSRRERQYSVCNSEDSPGSCEILYFNMGSPDQLMVHKGKCIGSDEQLGKLVYNALETATGGFVLLYEWVLQWQKKMGPFLTSQEKEKIDKCKKQIQGTETEFNSLVKLSHPNVVRYLAMNLKEQDDSIVVDILVEHISGVSLAAHLSHSGPIPVHQLRRYTAQLLSGLDYLHSNSVVHKVLSASNVLVDAEGTVKITDYSISKRLADICKEDVFEQTRVRFSDNALPYKTGKKGDVWRLGLLLLSLSQGQECGEYPVTIPSDLPADFQDFLKKCVCLDDKERWSPQQLLKHSFINPQPKMPLVEQSPEDSEGQDYVETVIPSNRLPSAAFFSETQRQFSRYFIEFEELQLLGKGAFGAVIKVQNKLDGCCYAVKRIPINPASRQFRRIKGEVTLLSRLHHENIVRYYNAWIERHERPAGPGTPPPDSGPLAKDDRAARGQPASDTDGLDSVEAAAPPPILSSSVEWSTSGERSASARFPATGPGSSDDEDDDEDEHGGVFSQSFLPASDSESDIIFDNEDENSKSQNQDEDCNEKNGCHESEPSVTTEAVHYLYI\n",
      "INFO:root:Predicting 1th chain in ./Davis/cut_seqs/GCN2(KinDom2S808G)_0.seq\n",
      "INFO:root:800 residues in this chain.\n",
      "INFO:root:Finished prediction in 56.98 seconds.\n",
      "INFO:root:Saving prediction to ./Davis/omega_2/GCN2(KinDom2S808G)_0.pdb\n",
      "INFO:root:Saved\n",
      "INFO:root:Done!\n"
     ]
    },
    {
     "name": "stderr",
     "output_type": "stream",
     "text": [
      " 22%|██▏       | 114/522 [55:55<4:11:43, 37.02s/it]"
     ]
    },
    {
     "name": "stdout",
     "output_type": "stream",
     "text": [
      "MARK4.seq\n",
      "INFO:root:Reading ./Davis/cut_seqs/MARK4.seq\n",
      "MSSRTVLAPGNDRNSDTHGTLGSGRSSDKGPSWSSRSLGARCRNSIASCPEEQPHVGNYRLLRTIGKGNFAKVKLARHILTGREVAIKIIDKTQLNPSSLQKLFREVRIMKGLNHPNIVKLFEVIETEKTLYLVMEYASAGEVFDYLVSHGRMKEKEARAKFRQIVSAVHYCHQKNIVHRDLKAENLLLDAEANIKIADFGFSNEFTLGSKLDTFCGSPPYAAPELFQGKKYDGPEVDIWSLGVILYTLVSGSLPFDGHNLKELRERVLRGKYRVPFYMSTDCESILRRFLVLNPAKRCTLEQIMKDKWINIGYEGEELKPYTEPEEDFGDTKRIEVMVGMGYTREEIKESLTSQKYNEVTATYLLLGRKTEEGGDRGAPGLALARVRAPSDTTNGTSSSKGTSHSKGQRSSSSTYHRQRRHSDFCGPSPAPLHPKRSPTSTGEAELKEERLPGRKASCSTAGSGSRGLPPSSPMVSSAHNPNKAEIPERRKDSTSTPNNLPPSMMTRRNTYVCTERPGAERPSLLPNGKENSSGTPRVPPASPSSHSLAPPSGERSRLARGSTIRSTFHGGQVRDRRAGGGGGGGVQNGPPASPTLAHEAAPLPAGRPRPTTNLFTKLTSKLTRRVADEPERIGGPEVTSCHLPWDQTETAPRLLRFPWSVKLTSSRPPEALMAALRQATAAARCRCRQPQPFLLACLHGGAGGPEPLSHFEVEVCQLPRPGLRGVLFRRVAGTALAFRTLVTRISNDLEL\n",
      "INFO:root:Predicting 1th chain in ./Davis/cut_seqs/MARK4.seq\n",
      "INFO:root:752 residues in this chain.\n",
      "INFO:root:Finished prediction in 49.99 seconds.\n",
      "INFO:root:Saving prediction to ./Davis/omega_2/MARK4.pdb\n",
      "INFO:root:Saved\n",
      "INFO:root:Done!\n"
     ]
    },
    {
     "name": "stderr",
     "output_type": "stream",
     "text": [
      " 22%|██▏       | 115/522 [56:46<4:39:09, 41.15s/it]"
     ]
    },
    {
     "name": "stdout",
     "output_type": "stream",
     "text": [
      "RIOK2.seq\n",
      "INFO:root:Reading ./Davis/cut_seqs/RIOK2.seq\n",
      "MGKVNVAKLRYMSRDDFRVLTAVEMGMKNHEIVPGSLIASIASLKHGGCNKVLRELVKHKLIAWERTKTVQGYRLTNAGYDYLALKTLSSRQVVESVGNQMGVGKESDIYIVANEEGQQFALKLHRLGRTSFRNLKNKRDYHKHRHNVSWLYLSRLSAMKEFAYMKALYERKFPVPKPIDYNRHAVVMELINGYPLCQIHHVEDPASVYDEAMELIVKLANHGLIHGDFNEFNLILDESDHITMIDFPQMVSTSHPNAEWYFDRDVKCIKDFFMKRFSYESELFPTFKDIRREDTLDVEVSASGYTKEMQADDELLHPLGPDDKNIETKEGSEFSFSDGEVAEKAEVYGSENESERNCLEESEGCYCRSSGDPEQIKEDSLSEESADARSFEMTEFNQALEEIKGQVVENNSVTEFSEEKNRTENYNRQDGQRVQGGVPAGSDEYEDECPHLIALSSLNREFRPFRDEENVGAMNQYRTRTLSITSSGSAVSCSTIPPELVKQKVKRQLTKQQKSAVRRRLQKGEANIFTKQRRENMQNIKSSLEAASFWGE\n",
      "INFO:root:Predicting 1th chain in ./Davis/cut_seqs/RIOK2.seq\n",
      "INFO:root:552 residues in this chain.\n",
      "INFO:root:Finished prediction in 23.14 seconds.\n",
      "INFO:root:Saving prediction to ./Davis/omega_2/RIOK2.pdb\n",
      "INFO:root:Saved\n",
      "INFO:root:Done!\n"
     ]
    },
    {
     "name": "stderr",
     "output_type": "stream",
     "text": [
      " 22%|██▏       | 116/522 [57:10<4:03:07, 35.93s/it]"
     ]
    },
    {
     "name": "stdout",
     "output_type": "stream",
     "text": [
      "PRP4_0.seq\n",
      "INFO:root:Reading ./Davis/cut_seqs/PRP4_0.seq\n",
      "MAAAETQSLREQPEMEDANSEKSINEENGEVSEDQSQNKHSRHKKKKHKHRSKHKKHKHSSEEDKDKKHKHKHKHKKHKRKEIIDASDKEGMSPAKRTKLDDLALLEDLEKQRALIKAELDNELMEGKVQSGMGLILQGYESGSEEEGEIHEKARNGNRSSTRSSSTKGKLELVDNKITTKKRSKSRSKERTRHRSDKKKSKGGIEIVKEKTTRSKSKERKKSKSPSKRSKSQDQARKSKSPTLRRRSQEKIGKARSPTDDKVKIEDKSKSKDRKKSPIINESRSRDRGKKSRSPVDLRGKSKDRRSRSKERKSKRSETDKEKKPIKSPSKDASSGKENRSPSRRPGRSPKRRSLSPKPRDKSRRSRSPLLNDRRSKQSKSPSRTLSPGRRAKSRSLERKRREPERRRLSSPRTRPRDDILSRRERSKDASPINRWSPTRRRSRSPIRRRSRSPLRRSRSPRRRSRSPRRRDRGRRSRSRLRRRSRSRGGRRRRSRSKVKEDKFKGSLSEGMKVEQESSSDDNLEDFDVEEEDEEALIEQRRIQRQAIVQKYKYLAEDSNMSVPSEPSSPQSSTRTRSPSPDDILERVAADVKEYERENVDTFEASVKAKHNLMTVEQNNGSSQKKLLAPDMFTESDDMFAAYFDSARLRAAGIGKDFKENPNLRDNWTDAEGYYRVNIGEVLDKRYNVYGYTGQGVFSNVVRARDNARANQEVAVKIIRNNELMQKTGLKELEFLKKLNDADPDDKFHCLRLFRHFYHKQHLCLVFEPLSMNLREVLKKYGKDVGLHIKAVRSYSQQLF\n",
      "INFO:root:Predicting 1th chain in ./Davis/cut_seqs/PRP4_0.seq\n",
      "INFO:root:800 residues in this chain.\n",
      "INFO:root:Finished prediction in 57.09 seconds.\n",
      "INFO:root:Saving prediction to ./Davis/omega_2/PRP4_0.pdb\n",
      "INFO:root:Saved\n",
      "INFO:root:Done!\n"
     ]
    },
    {
     "name": "stderr",
     "output_type": "stream",
     "text": [
      " 22%|██▏       | 117/522 [58:08<4:47:10, 42.54s/it]"
     ]
    },
    {
     "name": "stdout",
     "output_type": "stream",
     "text": [
      "KIT_0.seq\n",
      "INFO:root:Reading ./Davis/cut_seqs/KIT_0.seq\n",
      "MRGARGAWDFLCVLLLLLRVQTGSSQPSVSPGEPSPPSIHPGKSDLIVRVGDEIRLLCTDPGFVKWTFEILDETNENKQNEWITEKAEATNTGKYTCTNKHGLSNSIYVFVRDPAKLFLVDRSLYGKEDNDTLVRCPLTDPEVTNYSLKGCQGKPLPKDLRFIPDPKAGIMIKSVKRAYHRLCLHCSVDQEGKSVLSEKFILKVRPAFKAVPVVSVSKASYLLREGEEFTVTCTIKDVSSSVYSTWKRENSQTKLQEKYNSWHHGDFNYERQATLTISSARVNDSGVFMCYANNTFGSANVTTTLEVVDKGFINIFPMINTTVFVNDGENVDLIVEYEAFPKPEHQQWIYMNRTFTDKWEDYPKSENESNIRYVSELHLTRLKGTEGGTYTFLVSNSDVNAAIAFNVYVNTKPEILTYDRLVNGMLQCVAAGFPEPTIDWYFCPGTEQRCSASVLPVDVQTLNSSGPPFGKLVVQSSIDSSAFKHNGTVECKAYNDVGKTSAYFNFAFKGNNKEQIHPHTLFTPLLIGFVIVAGMMCIIVMILTYKYLQKPMYEVQWKVVEEINGNNYVYIDPTQLPYDHKWEFPRNRLSFGKTLGAGAFGKVVEATAYGLIKSDAAMTVAVKMLKPSAHLTEREALMSELKVLSYLGNHMNIVNLLGACTIGGPTLVITEYCCYGDLLNFLRRKRDSFICSKQEDHAEAALYKNLLHSKESSCSDSTNEYMDMKPGVSYVVPTKADKRRSVRIGSYIERDVTPAIMEDDELALDLEDLLSFSYQVAKGMAFLASKNCIHRDLAARNILL\n",
      "INFO:root:Predicting 1th chain in ./Davis/cut_seqs/KIT_0.seq\n",
      "INFO:root:800 residues in this chain.\n",
      "INFO:root:Finished prediction in 57.06 seconds.\n",
      "INFO:root:Saving prediction to ./Davis/omega_2/KIT_0.pdb\n",
      "INFO:root:Saved\n",
      "INFO:root:Done!\n"
     ]
    },
    {
     "name": "stderr",
     "output_type": "stream",
     "text": [
      " 23%|██▎       | 118/522 [59:06<5:17:31, 47.16s/it]"
     ]
    },
    {
     "name": "stdout",
     "output_type": "stream",
     "text": [
      "TAOK2_1.seq\n",
      "INFO:root:Reading ./Davis/cut_seqs/TAOK2_1.seq\n",
      "ILGKEGATLEPKQQRILGEESGAPSPSPQKHGSLVDEEVWGLPEEIEELRVPSLVPQERSIVGQEEAGTWSLWGKEDESLLDEEFELGWVQGPALTPVPEEEEEEEEGAPIGTPRDPGDGCPSPDIPPEPPPTHLRPCPASQLPGLLSHGLLAGLSFAVGSSSGLLPLLLLLLLPLLAAQGGGGLQAALLALEVGLVGLGASYLLLCTALHLPSSLFLLLAQGTALGAVLGLSWRRGLMGVPLGLGAAWLLAWPGLALPLVAMAAGGRWVRQQGPRVRRGISRLWLRVLLRLSPMAFRALQGCGAVGDRGLFALYPKTNKDGFRSRLPVPGPRRRNPRTTQHPLALLARVWVLCKGWNWRLARASQGLASHLPPWAIHTLASWGLLRGERPTRIPRLLPRSQRQLGPPASRQPLPGTLAGRRSRTRQSRALPPWR\n",
      "INFO:root:Predicting 1th chain in ./Davis/cut_seqs/TAOK2_1.seq\n",
      "INFO:root:435 residues in this chain.\n",
      "INFO:root:Finished prediction in 13.39 seconds.\n",
      "INFO:root:Saving prediction to ./Davis/omega_2/TAOK2_1.pdb\n",
      "INFO:root:Saved\n",
      "INFO:root:Done!\n"
     ]
    },
    {
     "name": "stderr",
     "output_type": "stream",
     "text": [
      " 23%|██▎       | 119/522 [59:20<4:09:33, 37.15s/it]"
     ]
    },
    {
     "name": "stdout",
     "output_type": "stream",
     "text": [
      "MEK5.seq\n",
      "INFO:root:Reading ./Davis/cut_seqs/MEK5.seq\n",
      "MLWLALGPFPAMENQVLVIRIKIPNSGAVDWTVHSGPQLLFRDVLDVIGQVLPEATTTAFEYEDEDGDRITVRSDEEMKAMLSYYYSTVMEQQVNGQLIEPLQIFPRACKPPGERNIHGLKVNTRAGPSQHSSPAVSDSLPSNSLKKSSAELKKILANGQMNEQDIRYRDTLGHGNGGTVYKAYHVPSGKILAVKVILLDITLELQKQIMSELEILYKCDSSYIIGFYGAFFVENRISICTEFMDGGSLDVYRKMPEHVLGRIAVAVVKGLTYLWSLKILHRDVKPSNMLVNTRGQVKLCDFGVSTQLVNSIAKTYVGTNAYMAPERISGEQYGIHSDVWSLGISFMELALGRFPYPQIQKNQGSLMPLQLLQCIVDEDSPVLPVGEFSEPFVHFITQCMRKQPKERPAPEELMGHPFIVQFNDGNAAVVSMWVCRALEERRSQQGPP\n",
      "INFO:root:Predicting 1th chain in ./Davis/cut_seqs/MEK5.seq\n",
      "INFO:root:448 residues in this chain.\n",
      "INFO:root:Finished prediction in 13.75 seconds.\n",
      "INFO:root:Saving prediction to ./Davis/omega_2/MEK5.pdb\n",
      "INFO:root:Saved\n",
      "INFO:root:Done!\n"
     ]
    },
    {
     "name": "stderr",
     "output_type": "stream",
     "text": [
      " 23%|██▎       | 120/522 [59:34<3:22:45, 30.26s/it]"
     ]
    },
    {
     "name": "stdout",
     "output_type": "stream",
     "text": [
      "EPHA2_0.seq\n",
      "INFO:root:Reading ./Davis/cut_seqs/EPHA2_0.seq\n",
      "MELQAARACFALLWGCALAAAAAAQGKEVVLLDFAAAGGELGWLTHPYGKGWDLMQNIMNDMPIYMYSVCNVMSGDQDNWLRTNWVYRGEAERIFIELKFTVRDCNSFPGGASSCKETFNLYYAESDLDYGTNFQKRLFTKIDTIAPDEITVSSDFEARHVKLNVEERSVGPLTRKGFYLAFQDIGACVALLSVRVYYKKCPELLQGLAHFPETIAGSDAPSLATVAGTCVDHAVVPPGGEEPRMHCAVDGEWLVPIGQCLCQAGYEKVEDACQACSPGFFKFEASESPCLECPEHTLPSPEGATSCECEEGFFRAPQDPASMPCTRPPSAPHYLTAVGMGAKVELRWTPPQDSGGREDIVYSVTCEQCWPESGECGPCEASVRYSEPPHGLTRTSVTVSDLEPHMNYTFTVEARNGVSGLVTSRSFRTASVSINQTEPPKVRLEGRSTTSLSVSWSIPPPQQSRVWKYEVTYRKKGDSNSYNVRRTEGFSVTLDDLAPDTTYLVQVQALTQEGQGAGSKVHEFQTLSPEGSGNLAVIGGVAVGVVLLLVLAGVGFFIHRRRKNQRARQSPEDVYFSKSEQLKPLKTYVDPHTYEDPNQAVLKFTTEIHPSCVTRQKVIGAGEFGEVYKGMLKTSSGKKEVPVAIKTLKAGYTEKQRVDFLGEAGIMGQFSHHNIIRLEGVISKYKPMMIITEYMENGALDKFLREKDGEFSVLQLVGMLRGIAAGMKYLANMNYVHRDLAARNILVNSNLVCKVSDFGLSRVLEDDPEATYTTSGGKIPIRWTAPEAISYRKFTSASDV\n",
      "INFO:root:Predicting 1th chain in ./Davis/cut_seqs/EPHA2_0.seq\n",
      "INFO:root:800 residues in this chain.\n",
      "INFO:root:Finished prediction in 57.01 seconds.\n",
      "INFO:root:Saving prediction to ./Davis/omega_2/EPHA2_0.pdb\n",
      "INFO:root:Saved\n",
      "INFO:root:Done!\n"
     ]
    },
    {
     "name": "stderr",
     "output_type": "stream",
     "text": [
      " 23%|██▎       | 121/522 [1:00:32<4:17:36, 38.55s/it]"
     ]
    },
    {
     "name": "stdout",
     "output_type": "stream",
     "text": [
      "MST3.seq\n",
      "INFO:root:Reading ./Davis/cut_seqs/MST3.seq\n",
      "MDSRAQLWGLALNKRRATLPHPGGSTNLKADPEELFTKLEKIGKGSFGEVFKGIDNRTQKVVAIKIIDLEEAEDEIEDIQQEITVLSQCDSPYVTKYYGSYLKDTKLWIIMEYLGGGSALDLLEPGPLDETQIATILREILKGLDYLHSEKKIHRDIKAANVLLSEHGEVKLADFGVAGQLTDTQIKRNTFVGTPFWMAPEVIKQSAYDSKADIWSLGITAIELARGEPPHSELHPMKVLFLIPKNNPPTLEGNYSKPLKEFVEACLNKEPSFRPTAKELLKHKFILRNAKKTSYLTELIDRYKRWKAEQSHDDSSSEDSDAETDGQASGGSDSGDWIFTIREKDPKNLENGALQPSDLDRNKMKDIPKRPFSQCLSTIISPLFAELKEKSQACGGNLGSIEELRGAIYLAEEACPGISDTMVAQLVQRLQRYSLSGGGTSSH\n",
      "INFO:root:Predicting 1th chain in ./Davis/cut_seqs/MST3.seq\n",
      "INFO:root:443 residues in this chain.\n",
      "INFO:root:Finished prediction in 13.79 seconds.\n",
      "INFO:root:Saving prediction to ./Davis/omega_2/MST3.pdb\n",
      "INFO:root:Saved\n",
      "INFO:root:Done!\n"
     ]
    },
    {
     "name": "stderr",
     "output_type": "stream",
     "text": [
      " 23%|██▎       | 122/522 [1:00:46<3:28:22, 31.26s/it]"
     ]
    },
    {
     "name": "stdout",
     "output_type": "stream",
     "text": [
      "HIPK2_1.seq\n",
      "INFO:root:Reading ./Davis/cut_seqs/HIPK2_1.seq\n",
      "SRKSKQHQSSVRNVSTCEVSSSQAISSPQRSKRVKENTPPRCAMVHSSPACSTSVTCGWGDVASSTTRERQRQTIVIPDTPSPTVSVITISSDTDEEEEQKHAPTSTVSKQRKNVISCVTVHDSPYSDSSSNTSPYSVQQRAGHNNANAFDTKGSLENHCTGNPRTIIVPPLKTQASEVLVECDSLVPVNTSHHSSSYKSKSSSNVTSTSGHSSGSSSGAITYRQQRPGPHFQQQQPLNLSQAQQHITTDRTGSHRRQQAYITPTMAQAPYSFPHNSPSHGTVHPHLAAAAAAAHLPTQPHLYTYTAPAALGSTGTVAHLVASQGSARHTVQHTAYPASIVHQVPVSMGPRVLPSPTIHPSQYPAQFAHQTYISASPASTVYTGYPLSPAKVNQYPYI\n",
      "INFO:root:Predicting 1th chain in ./Davis/cut_seqs/HIPK2_1.seq\n",
      "INFO:root:398 residues in this chain.\n",
      "INFO:root:Finished prediction in 10.66 seconds.\n",
      "INFO:root:Saving prediction to ./Davis/omega_2/HIPK2_1.pdb\n",
      "INFO:root:Saved\n",
      "INFO:root:Done!\n"
     ]
    },
    {
     "name": "stderr",
     "output_type": "stream",
     "text": [
      " 24%|██▎       | 123/522 [1:00:57<2:47:32, 25.19s/it]"
     ]
    },
    {
     "name": "stdout",
     "output_type": "stream",
     "text": [
      "CSF1R_0.seq\n",
      "INFO:root:Reading ./Davis/cut_seqs/CSF1R_0.seq\n",
      "MGPGVLLLLLVATAWHGQGIPVIEPSVPELVVKPGATVTLRCVGNGSVEWDGPPSPHWTLYSDGSSSILSTNNATFQNTGTYRCTEPGDPLGGSAAIHLYVKDPARPWNVLAQEVVVFEDQDALLPCLLTDPVLEAGVSLVRVRGRPLMRHTNYSFSPWHGFTIHRAKFIQSQDYQCSALMGGRKVMSISIRLKVQKVIPGPPALTLVPAELVRIRGEAAQIVCSASSVDVNFDVFLQHNNTKLAIPQQSDFHNNRYQKVLTLNLDQVDFQHAGNYSCVASNVQGKHSTSMFFRVVESAYLNLSSEQNLIQEVTVGEGLNLKVMVEAYPGLQGFNWTYLGPFSDHQPEPKLANATTKDTYRHTFTLSLPRLKPSEAGRYSFLARNPGGWRALTFELTLRYPPEVSVIWTFINGSGTLLCAASGYPQPNVTWLQCSGHTDRCDEAQVLQVWDDPYPEVLSQEPFHKVTVQSLLTVETLEHNQTYECRAHNSVGSGSWAFIPISAGAHTHPPDEFLFTPVVVACMSIMALLLLLLLLLLYKYKQKPKYQVRWKIIESYEGNSYTFIDPTQLPYNEKWEFPRNNLQFGKTLGAGAFGKVVEATAFGLGKEDAVLKVAVKMLKSTAHADEKEALMSELKIMSHLGQHENIVNLLGACTHGGPVLVITEYCCYGDLLNFLRRKAEAMLGPSLSPGQDPEGGVDYKNIHLEKKYVRRDSGFSSQGVDTYVEMRPVSTSSNDSFSEQDLDKEDGRPLELRDLLHFSSQVAQGMAFLASKNCIHRDVAARNVLLTNGHVAKIGDFGLA\n",
      "INFO:root:Predicting 1th chain in ./Davis/cut_seqs/CSF1R_0.seq\n",
      "INFO:root:800 residues in this chain.\n",
      "INFO:root:Finished prediction in 57.03 seconds.\n",
      "INFO:root:Saving prediction to ./Davis/omega_2/CSF1R_0.pdb\n",
      "INFO:root:Saved\n",
      "INFO:root:Done!\n"
     ]
    },
    {
     "name": "stderr",
     "output_type": "stream",
     "text": [
      " 24%|██▍       | 124/522 [1:01:55<3:52:23, 35.03s/it]"
     ]
    },
    {
     "name": "stdout",
     "output_type": "stream",
     "text": [
      "FLT1_1.seq\n",
      "INFO:root:Reading ./Davis/cut_seqs/FLT1_1.seq\n",
      "PDEVPLDEQCERLPYDASKWEFARERLKLGKSLGRGAFGKVVQASAFGIKKSPTCRTVAVKMLKEGATASEYKALMTELKILTHIGHHLNVVNLLGACTKQGGPLMVIVEYCKYGNLSNYLKSKRDLFFLNKDAALHMEPKKEKMEPGLEQGKKPRLDSVTSSESFASSGFQEDKSLSDVEEEEDSDGFYKEPITMEDLISYSFQVARGMEFLSSRKCIHRDLAARNILLSENNVVKICDFGLARDIYKNPDYVRKGDTRLPLKWMAPESIFDKIYSTKSDVWSYGVLLWEIFSLGGSPYPGVQMDEDFCSRLREGMRMRAPEYSTPEIYQIMLDCWHRDPKERPRFAELVEKLGDLLQANVQQDGKDYIPINAILTGNSGFTYSTPAFSEDFFKESISAPKFNSGSSDDVRYVNAFKFMSLERIKTFEELLPNATSMFDDYQGDSSTLLASPMLKRFTWTDSKPKASLKIDLRVTSKSKESGLSDVSRPSFCHSSCGHVSEGKRRFTYDHAELERKIACCSPPPDYNSVVLYSTPPI\n",
      "INFO:root:Predicting 1th chain in ./Davis/cut_seqs/FLT1_1.seq\n",
      "INFO:root:538 residues in this chain.\n",
      "INFO:root:Finished prediction in 22.42 seconds.\n",
      "INFO:root:Saving prediction to ./Davis/omega_2/FLT1_1.pdb\n",
      "INFO:root:Saved\n",
      "INFO:root:Done!\n"
     ]
    },
    {
     "name": "stderr",
     "output_type": "stream",
     "text": [
      " 24%|██▍       | 125/522 [1:02:18<3:28:00, 31.44s/it]"
     ]
    },
    {
     "name": "stdout",
     "output_type": "stream",
     "text": [
      "LRRK2_3.seq\n",
      "INFO:root:Reading ./Davis/cut_seqs/LRRK2_3.seq\n",
      "NKESKHKMSYSGRVKTLCLQKNTALWIGTGGGHILLLDLSTRRLIRVIYNFCNSVRVMMTAQLGSLKNVMLVLGYNRKNTEGTQKQKEIQSCLTVWDINLPHEVQNLEKHIEVRKELAEKMRRTSVE\n",
      "INFO:root:Predicting 1th chain in ./Davis/cut_seqs/LRRK2_3.seq\n",
      "INFO:root:127 residues in this chain.\n",
      "INFO:root:Finished prediction in 0.99 seconds.\n",
      "INFO:root:Saving prediction to ./Davis/omega_2/LRRK2_3.pdb\n",
      "INFO:root:Saved\n",
      "INFO:root:Done!\n"
     ]
    },
    {
     "name": "stderr",
     "output_type": "stream",
     "text": [
      " 24%|██▍       | 126/522 [1:02:19<2:27:34, 22.36s/it]"
     ]
    },
    {
     "name": "stdout",
     "output_type": "stream",
     "text": [
      "PAK4.seq\n",
      "INFO:root:Reading ./Davis/cut_seqs/PAK4.seq\n",
      "MFGKRKKRVEISAPSNFEHRVHTGFDQHEQKFTGLPRQWQSLIEESARRPKPLVDPACITSIQPGAPKTIVRGSKGAKDGALTLLLDEFENMSVTRSNSLRRDSPPPPARARQENGMPEEPATTARGGPGKAGSRGRFAGHSEAGGGSGDRRRAGPEKRPKSSREGSGGPQESSRDKRPLSGPDVGTPQPAGLASGAKLAAGRPFNTYPRADTDHPSRGAQGEPHDVAPNGPSAGGLAIPQSSSSSSRPPTRARGAPSPGVLGPHASEPQLAPPACTPAAPAVPGPPGPRSPQREPQRVSHEQFRAALQLVVDPGDPRSYLDNFIKIGEGSTGIVCIATVRSSGKLVAVKKMDLRKQQRRELLFNEVVIMRDYQHENVVEMYNSYLVGDELWVVMEFLEGGALTDIVTHTRMNEEQIAAVCLAVLQALSVLHAQGVIHRDIKSDSILLTHDGRVKLSDFGFCAQVSKEVPRRKSLVGTPYWMAPELISRLPYGPEVDIWSLGIMVIEMVDGEPPYFNEPPLKAMKMIRDNLPPRLKNLHKVSPSLKGFLDRLLVRDPAQRATAAELLKHPFLAKAGPPASIVPLMRQNRTR\n",
      "INFO:root:Predicting 1th chain in ./Davis/cut_seqs/PAK4.seq\n",
      "INFO:root:591 residues in this chain.\n",
      "INFO:root:Finished prediction in 28.76 seconds.\n",
      "INFO:root:Saving prediction to ./Davis/omega_2/PAK4.pdb\n",
      "INFO:root:Saved\n",
      "INFO:root:Done!\n"
     ]
    },
    {
     "name": "stderr",
     "output_type": "stream",
     "text": [
      " 24%|██▍       | 127/522 [1:02:49<2:41:01, 24.46s/it]"
     ]
    },
    {
     "name": "stdout",
     "output_type": "stream",
     "text": [
      "SRPK3.seq\n",
      "INFO:root:Reading ./Davis/cut_seqs/SRPK3.seq\n",
      "MSASTGGGGDSGGSGGSSSSSQASCGPESSGSELALATPVPQMLQGLLGSDDEEQEDPKDYCKGGYHPVKIGDVFNGRYHVVRKLGWGHFSTVWLCWDIQRKRFVALKVVKSAGHYTETAVDEIKLLKCVRDSDPSDPKRETIVQLIDDFRISGVNGVHVCMVLEVLGHQLLKWIIKSNYQGLPVPCVKSIVRQVLHGLDYLHTKCKIIHTDIKPENILLCVGDAYIRRLAAEATEWQQAGAPPPSRSIVSTAPQEVLQTGKLSKNKRKKMRRKRKQQKRLLEERLRDLQRLEAMEAATQAEDSGLRLDGGSGSTSSSGCHPGGARAGPSPASSSPAPGGGRSLSAGSQTSGFSGSLFSPASCSILSGSSNQRETGGLLSPSTPFGASNLLVNPLEPQNADKIKIKIADLGNACWVHKHFTEDIQTRQYRAVEVLIGAEYGPPADIWSTACMAFELATGDYLFEPHSGEDYSRDEDHIAHIVELLGDIPPAFALSGRYSREFFNRRGELRHIHNLKHWGLYEVLMEKYEWPLEQATQFSAFLLPMMEYIPEKRASAADCLQHPWLNP\n",
      "INFO:root:Predicting 1th chain in ./Davis/cut_seqs/SRPK3.seq\n",
      "INFO:root:567 residues in this chain.\n",
      "INFO:root:Finished prediction in 25.49 seconds.\n",
      "INFO:root:Saving prediction to ./Davis/omega_2/SRPK3.pdb\n",
      "INFO:root:Saved\n",
      "INFO:root:Done!\n"
     ]
    },
    {
     "name": "stderr",
     "output_type": "stream",
     "text": [
      " 25%|██▍       | 128/522 [1:03:15<2:43:54, 24.96s/it]"
     ]
    },
    {
     "name": "stdout",
     "output_type": "stream",
     "text": [
      "RIPK1.seq\n",
      "INFO:root:Reading ./Davis/cut_seqs/RIPK1.seq\n",
      "MQPDMSLNVIKMKSSDFLESAELDSGGFGKVSLCFHRTQGLMIMKTVYKGPNCIEHNEALLEEAKMMNRLRHSRVVKLLGVIIEEGKYSLVMEYMEKGNLMHVLKAEMSTPLSVKGRIILEIIEGMCYLHGKGVIHKDLKPENILVDNDFHIKIADLGLASFKMWSKLNNEEHNELREVDGTAKKNGGTLYYMAPEHLNDVNAKPTEKSDVYSFAVVLWAIFANKEPYENAICEQQLIMCIKSGNRPDVDDITEYCPREIISLMKLCWEANPEARPTFPGIEEKFRPFYLSQLEESVEEDVKSLKKEYSNENAVVKRMQSLQLDCVAVPSSRSNSATEQPGSLHSSQGLGMGPVEESWFAPSLEHPQEENEPSLQSKLQDEANYHLYGSRMDRQTKQQPRQNVAYNREEERRRRVSHDPFAQQRPYENFQNTEGKGTAYSSAASHGNAVHQPSGLTSQPQVLYQNNGLYSSHGFGTRPLDPGTAGPRVWYRPIPSHMPSLHNIPVPETNYLGNTPTMPFSSLPPTDESIKYTIYNSTGIQIGAYNYMEIGGTSSSLLDSTNTNFKEEPAAKYQAIFDNTTSLTDKHLDPIRENLGKHWKNCARKLGFTQSQIDEIDHDYERDGLKEKVYQMLQKWVMREGIKGATVGKLAQALHQCSRIDLLSSLIYVSQN\n",
      "INFO:root:Predicting 1th chain in ./Davis/cut_seqs/RIPK1.seq\n",
      "INFO:root:671 residues in this chain.\n",
      "INFO:root:Finished prediction in 38.79 seconds.\n",
      "INFO:root:Saving prediction to ./Davis/omega_2/RIPK1.pdb\n",
      "INFO:root:Saved\n",
      "INFO:root:Done!\n"
     ]
    },
    {
     "name": "stderr",
     "output_type": "stream",
     "text": [
      " 25%|██▍       | 129/522 [1:03:54<3:12:03, 29.32s/it]"
     ]
    },
    {
     "name": "stdout",
     "output_type": "stream",
     "text": [
      "YSK4_0.seq\n",
      "INFO:root:Reading ./Davis/cut_seqs/YSK4_0.seq\n",
      "MSSMPKPERHAESLLDICHDTNSSPTDLMTVTKNQNIILQSISRSEEFDQDGDCSHSTLVNEEEDPSGGRQDWQPRTEGVEITVTFPRDVSPPQEMSQEDLKEKNLINSSLQEWAQAHAVSHPNEIETVELRKKKLTMRPLVLQKEESSRELCNVNLGFLLPRSCLELNISKSVTREDAPHFLKEQQRKSEEFSTSHMKYSGRSIKFLLPPLSLLPTRSGVLTIPQNHKFPKEKERNIPSLTSFVPKLSVSVRQSDELSPSNEPPGALVKSLMDPTLRSSDGFIWSRNMCSFPKTNHHRQCLEKEENWKSKEIEECNKIEITHFEKGQSLVSFENLKEGNIPAVREEDIDCHGSKTRKPEEENSQYLSSRKNESSVAKNYEQDPEIVCTIPSKFQETQHSEITPSQDEEMRNNKAASKRVSLHKNEAMEPNNILEECTVLKSLSSVVFDDPIDKLPEGCSSMETNIKISIAERAKPEMSRMVPLIHITFPVDGSPKEPVIAKPSLQTRKGTIHNNHSVNIPVHQENDKHKMNSHRSKLDSKTKTSKKTPQNFVISTEGPIKPTMHKTSIKTQIFPALGLVDPRPWQLPRFQKKMPQIAKKQSTHRTQKPKKQSFPCICKNPGTQKSCVPLSVQPTEPRLNYLDLKYSDMFKEINSTANGPGIYEMFGTPVYCHVRETERDENTYYREICSAPSGRRITNKCRSSHSERKSNIRTRLSQKKTHMKCPKTSFGIKQEHKVLISKEKSSKAVHSNLHDIENGDGISEPDWQIKSSGNEFLSSKDEIHPMNLAQTPEQSMKQNE\n",
      "INFO:root:Predicting 1th chain in ./Davis/cut_seqs/YSK4_0.seq\n",
      "INFO:root:800 residues in this chain.\n",
      "INFO:root:Finished prediction in 57.07 seconds.\n",
      "INFO:root:Saving prediction to ./Davis/omega_2/YSK4_0.pdb\n",
      "INFO:root:Saved\n",
      "INFO:root:Done!\n"
     ]
    },
    {
     "name": "stderr",
     "output_type": "stream",
     "text": [
      " 25%|██▍       | 130/522 [1:04:52<4:07:48, 37.93s/it]"
     ]
    },
    {
     "name": "stdout",
     "output_type": "stream",
     "text": [
      "NEK9_0.seq\n",
      "INFO:root:Reading ./Davis/cut_seqs/NEK9_0.seq\n",
      "MSVLGEYERHCDSINSDFGSESGGCGDSSPGPSASQGPRAGGGAAEQEELHYIPIRVLGRGAFGEATLYRRTEDDSLVVWKEVDLTRLSEKERRDALNEIVILALLQHDNIIAYYNHFMDNTTLLIELEYCNGGNLYDKILRQKDKLFEEEMVVWYLFQIVSAVSCIHKAGILHRDIKTLNIFLTKANLIKLGDYGLAKKLNSEYSMAETLVGTPYYMSPELCQGVKYNFKSDIWAVGCVIFELLTLKRTFDATNPLNLCVKIVQGIRAMEVDSSQYSLELIQMVHSCLDQDPEQRPTADELLDRPLLRKRRREMEEKVTLLNAPTKRPRSSTVTEAPIAVVTSRTSEVYVWGGGKSTPQKLDVIKSGCSARQVCAGNTHFAVVTVEKELYTWVNMQGGTKLHGQLGHGDKASYRQPKHVEKLQGKAIRQVSCGDDFTVCVTDEGQLYAFGSDYYGCMGVDKVAGPEVLEPMQLNFFLSNPVEQVSCGDNHVVVLTRNKEVYSWGCGEYGRLGLDSEEDYYTPQKVDVPKALIIVAVQCGCDGTFLLTQSGKVLACGLNEFNKLGLNQCMSGIINHEAYHEVPYTTSFTLAKQLSFYKIRTIAPGKTHTAAIDERGRLLTFGCNKCGQLGVGNYKKRLGINLLGGPLGGKQVIRVSCGDEFTIAATDDNHIFAWGNGGNGRLAMTPTERPHGSDICTSWPRPIFGSLHHVPDLSCRGWHTILIVEKVLNSKTIRSNSSGLSIGTVFQSSSPGGGGGGGGGEEEDSQQESETPDPSGGFRGTMEADRGMEGLISPTEAMGN\n",
      "INFO:root:Predicting 1th chain in ./Davis/cut_seqs/NEK9_0.seq\n",
      "INFO:root:800 residues in this chain.\n",
      "INFO:root:Finished prediction in 57.07 seconds.\n",
      "INFO:root:Saving prediction to ./Davis/omega_2/NEK9_0.pdb\n",
      "INFO:root:Saved\n",
      "INFO:root:Done!\n"
     ]
    },
    {
     "name": "stderr",
     "output_type": "stream",
     "text": [
      " 25%|██▌       | 131/522 [1:05:50<4:46:13, 43.92s/it]"
     ]
    },
    {
     "name": "stdout",
     "output_type": "stream",
     "text": [
      "PKN2_1.seq\n",
      "INFO:root:Reading ./Davis/cut_seqs/PKN2_1.seq\n",
      "FGLCKEGMGYGDRTSTFCGTPEFLAPEVLTETSYTRAVDWWGLGVLIYEMLVGESPFPGDDEEEVFDSIVNDEVRYPRFLSTEAISIMRRLLRRNPERRLGASEKDAEDVKKHPFFRLIDWSALMDKKVKPPFIPTIRGREDVSNFDDEFTSEAPILTPPREPRILSEEEQEMFRDFDYIADWC\n",
      "INFO:root:Predicting 1th chain in ./Davis/cut_seqs/PKN2_1.seq\n",
      "INFO:root:184 residues in this chain.\n",
      "INFO:root:Finished prediction in 1.85 seconds.\n",
      "INFO:root:Saving prediction to ./Davis/omega_2/PKN2_1.pdb\n",
      "INFO:root:Saved\n",
      "INFO:root:Done!\n"
     ]
    },
    {
     "name": "stderr",
     "output_type": "stream",
     "text": [
      " 25%|██▌       | 132/522 [1:05:52<3:23:58, 31.38s/it]"
     ]
    },
    {
     "name": "stdout",
     "output_type": "stream",
     "text": [
      "CAMK1.seq\n",
      "INFO:root:Reading ./Davis/cut_seqs/CAMK1.seq\n",
      "MLGAVEGPRWKQAEDIRDIYDFRDVLGTGAFSEVILAEDKRTQKLVAIKCIAKEALEGKEGSMENEIAVLHKIKHPNIVALDDIYESGGHLYLIMQLVSGGELFDRIVEKGFYTERDASRLIFQVLDAVKYLHDLGIVHRDLKPENLLYYSLDEDSKIMISDFGLSKMEDPGSVLSTACGTPGYVAPEVLAQKPYSKAVDCWSIGVIAYILLCGYPPFYDENDAKLFEQILKAEYEFDSPYWDDISDSAKDFIRHLMEKDPEKRFTCEQALQHPWIAGDTALDKNIHQSVSEQIKKNFAKSKWKQAFNATAVVRHMRKLQLGTSQEGQGQTASHGELLTPVAGGPAAGCCCRDCCVEPGTELSPTLPHQL\n",
      "INFO:root:Predicting 1th chain in ./Davis/cut_seqs/CAMK1.seq\n",
      "INFO:root:370 residues in this chain.\n",
      "INFO:root:Finished prediction in 8.97 seconds.\n",
      "INFO:root:Saving prediction to ./Davis/omega_2/CAMK1.pdb\n",
      "INFO:root:Saved\n",
      "INFO:root:Done!\n"
     ]
    },
    {
     "name": "stderr",
     "output_type": "stream",
     "text": [
      " 25%|██▌       | 133/522 [1:06:02<2:40:40, 24.78s/it]"
     ]
    },
    {
     "name": "stdout",
     "output_type": "stream",
     "text": [
      "MRCKA_0.seq\n",
      "INFO:root:Reading ./Davis/cut_seqs/MRCKA_0.seq\n",
      "MSGEVRLRQLEQFILDGPAQTNGQCFSVETLLDILICLYDECNNSPLRREKNILEYLEWAKPFTSKVKQMRLHREDFEILKVIGRGAFGEVAVVKLKNADKVFAMKILNKWEMLKRAETACFREERDVLVNGDNKWITTLHYAFQDDNNLYLVMDYYVGGDLLTLLSKFEDRLPEDMARFYLAEMVIAIDSVHQLHYVHRDIKPDNILMDMNGHIRLADFGSCLKLMEDGTVQSSVAVGTPDYISPEILQAMEDGKGRYGPECDWWSLGVCMYEMLYGETPFYAESLVETYGKIMNHKERFQFPAQVTDVSENAKDLIRRLICSREHRLGQNGIEDFKKHPFFSGIDWDNIRNCEAPYIPEVSSPTDTSNFDVDDDCLKNSETMPPPTHTAFSGHHLPFVGFTYTSSCVLSDRSCLRVTAGPTSLDLDVNVQRTLDNNLATEAYERRIKRLEQEKLELSRKLQESTQTVQALQYSTVDGPLTASKDLEIKNLKEEIEKLRKQVTESSHLEQQLEEANAVRQELDDAFRQIKAYEKQIKTLQQEREDLNKELVQASERLKNQSKELKDAHCQRKLAMQEFMEINERLTELHTQKQKLARHVRDKEEEVDLVMQKVESLRQELRRTERAKKELEVHTEALAAEASKDRKLREQSEHYSKQLENELEGLKQKQISYSPGVCSIEHQQEITKLKTDLEKKSIFYEEELSKREGIHANEIKNLKKELHDSEGQQLALNKEIMILKDKLEKTRRESQSEREEFESEFKQQYEREKVLLTEENKKLTSELDKLTTLYENLSIHNQQL\n",
      "INFO:root:Predicting 1th chain in ./Davis/cut_seqs/MRCKA_0.seq\n",
      "INFO:root:800 residues in this chain.\n",
      "INFO:root:Finished prediction in 57.02 seconds.\n",
      "INFO:root:Saving prediction to ./Davis/omega_2/MRCKA_0.pdb\n",
      "INFO:root:Saved\n",
      "INFO:root:Done!\n"
     ]
    },
    {
     "name": "stderr",
     "output_type": "stream",
     "text": [
      " 26%|██▌       | 134/522 [1:07:00<3:44:27, 34.71s/it]"
     ]
    },
    {
     "name": "stdout",
     "output_type": "stream",
     "text": [
      "LZK_0.seq\n",
      "INFO:root:Reading ./Davis/cut_seqs/LZK_0.seq\n",
      "MANFQEHLSCSSSPHLPFSESKTFNGLQDELTAMGNHPSPKLLEDQQEKGMVRTELIESVHSPVTTTVLTSVSEDSRDQFENSVLQLREHDESETAVSQGNSNTVDGESTSGTEDIKIQFSRSGSGSGGFLEGLFGCLRPVWNIIGKAYSTDYKLQQQDTWEVPFEEISELQWLGSGAQGAVFLGKFRAEEVAIKKVREQNETDIKHLRKLKHPNIIAFKGVCTQAPCYCIIMEYCAHGQLYEVLRAGRKITPRLLVDWSTGIASGMNYLHLHKIIHRDLKSPNVLVTHTDAVKISDFGTSKELSDKSTKMSFAGTVAWMAPEVIRNEPVSEKVDIWSFGVVLWELLTGEIPYKDVDSSAIIWGVGSNSLHLPVPSTCPDGFKILMKQTWQSKPRNRPSFRQTLMHLDIASADVLATPQETYFKSQAEWREEVKKHFEKIKSEGTCIHRLDEELIRRRREELRHALDIREHYERKLERANNLYMELSAIMLQLEMREKELIKREQAVEKKYPGTYKRHPVRPIIHPNAMEKLMKRKGVPHKSGMQTKRPDLLRSEGIPTTEVAPTASPLSGSPKMSTSSSKSRYRSKPRHRRGNSRGSHSDFAAILKNQPAQENSPHPTYLHQAQSQYPSLHHHNSLQQQYQQPPPAMSQSHHPRLNMHGQDIATCANNLRYFGPAAALRSPLSNHAQRQLPGSSPDLISTAMAADCWRSSEPDKGQAGPWGCCQADAYDPCLQCRPEQYGSLDIPSAEPVGRSPDLSKSPAHNPLLENAQSSEKTEENEFSGCRSESSLGTSHLGTPPA\n",
      "INFO:root:Predicting 1th chain in ./Davis/cut_seqs/LZK_0.seq\n",
      "INFO:root:800 residues in this chain.\n",
      "INFO:root:Finished prediction in 57.07 seconds.\n",
      "INFO:root:Saving prediction to ./Davis/omega_2/LZK_0.pdb\n",
      "INFO:root:Saved\n",
      "INFO:root:Done!\n"
     ]
    },
    {
     "name": "stderr",
     "output_type": "stream",
     "text": [
      " 26%|██▌       | 135/522 [1:07:58<4:29:05, 41.72s/it]"
     ]
    },
    {
     "name": "stdout",
     "output_type": "stream",
     "text": [
      "DCAMKL2.seq\n",
      "INFO:root:Reading ./Davis/cut_seqs/DCAMKL2.seq\n",
      "MASTRSIELEHFEERDKRPRPGSRRGAPSSSGGSSSSGPKGNGLIPSPAHSAHCSFYRTRTLQALSSEKKAKKARFYRNGDRYFKGLVFAISSDRFRSFDALLIELTRSLSDNVNLPQGVRTIYTIDGSRKVTSLDELLEGESYVCASNEPFRKVDYTKNINPNWSVNIKGGTSRALAAASSVKSEVKESKDFIKPKLVTVIRSGVKPRKAVRILLNKKTAHSFEQVLTDITEAIKLDSGVVKRLCTLDGKQVTCLQDFFGDDDVFIACGPEKFRYAQDDFVLDHSECRVLKSSYSRSSAVKYSGSKSPGPSRRSKSPASVNGTPSSQLSTPKSTKSSSSSPTSPGSFRGLKQISAHGRSSSNVNGGPELDRCISPEGVNGNRCSESSTLLEKYKIGKVIGDGNFAVVKECIDRSTGKEFALKIIDKAKCCGKEHLIENEVSILRRVKHPNIIMLVEEMETATELFLVMELVKGGDLFDAITSSTKYTERDGSAMVYNLANALRYLHGLSIVHRDIKPENLLVCEYPDGTKSLKLGDFGLATVVEGPLYTVCGTPTYVAPEIIAETGYGLKVDIWAAGVITYILLCGFPPFRSENNLQEDLFDQILAGKLEFPAPYWDNITDSAKELISQMLQVNVEARCTAGQILSHPWVSDDASQENNMQAEVTGKLKQHFNNALPKQNSTTTGVSVIMNTALDKEGQIFCSKHCQDSGRPGMEPISPVPPSVEEIPVPGEAVPAPTPPESPTPHPPPAAPGGERAGTWRRHRD\n",
      "INFO:root:Predicting 1th chain in ./Davis/cut_seqs/DCAMKL2.seq\n",
      "INFO:root:766 residues in this chain.\n",
      "INFO:root:Finished prediction in 54.46 seconds.\n",
      "INFO:root:Saving prediction to ./Davis/omega_2/DCAMKL2.pdb\n",
      "INFO:root:Saved\n",
      "INFO:root:Done!\n"
     ]
    },
    {
     "name": "stderr",
     "output_type": "stream",
     "text": [
      " 26%|██▌       | 136/522 [1:08:53<4:54:38, 45.80s/it]"
     ]
    },
    {
     "name": "stdout",
     "output_type": "stream",
     "text": [
      "DMPK.seq\n",
      "INFO:root:Reading ./Davis/cut_seqs/DMPK.seq\n",
      "MSAEVRLRRLQQLVLDPGFLGLEPLLDLLLGVHQELGASELAQDKYVADFLQWAEPIVVRLKEVRLQRDDFEILKVIGRGAFSEVAVVKMKQTGQVYAMKIMNKWDMLKRGEVSCFREERDVLVNGDRRWITQLHFAFQDENYLYLVMEYYVGGDLLTLLSKFGERIPAEMARFYLAEIVMAIDSVHRLGYVHRDIKPDNILLDRCGHIRLADFGSCLKLRADGTVRSLVAVGTPDYLSPEILQAVGGGPGTGSYGPECDWWALGVFAYEMFYGQTPFYADSTAETYGKIVHYKEHLSLPLVDEGVPEEARDFIQRLLCPPETRLGRGGAGDFRTHPFFFGLDWDGLRDSVPPFTPDFEGATDTCNFDLVEDGLTAMVSGGGETLSDIREGAPLGVHLPFVGYSYSCMALRDSEVPGPTPMELEAEQLLEPHVQAPSLEPSVSPQDETAEVAVPAAVPAAEAEAEVTLRELQEALEEEVLTRQSLSREMEAIRTDNQNFASQLREAEARNRDLEAHVRQLQERMELLQAEGATAVTGVPSPRATDPPSHLDGPPAVAVGQCPLVGPGPMHRRHLLLPARVPRPGLSEALSLLLFAVVLSRAAALGCIGLVAHAGQLTAVWRRPGAARAP\n",
      "INFO:root:Predicting 1th chain in ./Davis/cut_seqs/DMPK.seq\n",
      "INFO:root:629 residues in this chain.\n",
      "INFO:root:Finished prediction in 33.89 seconds.\n",
      "INFO:root:Saving prediction to ./Davis/omega_2/DMPK.pdb\n",
      "INFO:root:Saved\n",
      "INFO:root:Done!\n"
     ]
    },
    {
     "name": "stderr",
     "output_type": "stream",
     "text": [
      " 26%|██▌       | 137/522 [1:09:28<4:32:18, 42.44s/it]"
     ]
    },
    {
     "name": "stdout",
     "output_type": "stream",
     "text": [
      "MARK3.seq\n",
      "INFO:root:Reading ./Davis/cut_seqs/MARK3.seq\n",
      "MSTRTPLPTVNERDTENHTSHGDGRQEVTSRTSRSGARCRNSIASCADEQPHIGNYRLLKTIGKGNFAKVKLARHILTGREVAIKIIDKTQLNPTSLQKLFREVRIMKILNHPNIVKLFEVIETEKTLYLIMEYASGGEVFDYLVAHGRMKEKEARSKFRQIVSAVQYCHQKRIVHRDLKAENLLLDADMNIKIADFGFSNEFTVGGKLDTFCGSPPYAAPELFQGKKYDGPEVDVWSLGVILYTLVSGSLPFDGQNLKELRERVLRGKYRIPFYMSTDCENLLKRFLVLNPIKRGTLEQIMKDRWINAGHEEDELKPFVEPELDISDQKRIDIMVGMGYSQEEIQESLSKMKYDEITATYLLLGRKSSELDASDSSSSSNLSLAKVRPSSDLNNSTGQSPHHKVQRSVFSSQKQRRYSDHAGPAIPSVVAYPKRSQTSTADSDLKEDGISSRKSSGSAVGGKGIAPASPMLGNASNPNKADIPERKKSSTVPSSNTASGGMTRRNTYVCSERTTADRHSVIQNGKENSTIPDQRTPVASTHSISSAATPDRIRFPRGTASRSTFHGQPRERRTATYNGPPASPSLSHEATPLSQTRSRGSTNLFSKLTSKLTRRNMSFRFIKRLPTEYERNGRYEGSSRNVSAEQKDENKEAKPRSLRFTWSMKTTSSMDPGDMMREIRKVLDANNCDYEQRERFLLFCVHGDGHAENLVQWEMEVCKLPRLSLNGVRFKRISGTSIAFKNIASKIANELKL\n",
      "INFO:root:Predicting 1th chain in ./Davis/cut_seqs/MARK3.seq\n",
      "INFO:root:753 residues in this chain.\n",
      "INFO:root:Finished prediction in 52.95 seconds.\n",
      "INFO:root:Saving prediction to ./Davis/omega_2/MARK3.pdb\n",
      "INFO:root:Saved\n",
      "INFO:root:Done!\n"
     ]
    },
    {
     "name": "stderr",
     "output_type": "stream",
     "text": [
      " 26%|██▋       | 138/522 [1:10:21<4:53:18, 45.83s/it]"
     ]
    },
    {
     "name": "stdout",
     "output_type": "stream",
     "text": [
      "ACVR2A.seq\n",
      "INFO:root:Reading ./Davis/cut_seqs/ACVR2A.seq\n",
      "MGAAAKLAFAVFLISCSSGAILGRSETQECLFFNANWEKDRTNQTGVEPCYGDKDKRRHCFATWKNISGSIEIVKQGCWLDDINCYDRTDCVEKKDSPEVYFCCCEGNMCNEKFSYFPEMEVTQPTSNPVTPKPPYYNILLYSLVPLMLIAGIVICAFWVYRHHKMAYPPVLVPTQDPGPPPPSPLLGLKPLQLLEVKARGRFGCVWKAQLLNEYVAVKIFPIQDKQSWQNEYEVYSLPGMKHENILQFIGAEKRGTSVDVDLWLITAFHEKGSLSDFLKANVVSWNELCHIAETMARGLAYLHEDIPGLKDGHKPAISHRDIKSKNVLLKNNLTACIADFGLALKFEAGKSAGDTHGQVGTRRYMAPEVLEGAINFQRDAFLRIDMYAMGLVLWELASRCTAADGPVDEYMLPFEEEIGQHPSLEDMQEVVVHKKKRPVLRDYWQKHAGMAMLCETIEECWDHDAEARLSAGCVGERITQMQRLTNIITTEDIVTVVTMVTNVDFPPKESSL\n",
      "INFO:root:Predicting 1th chain in ./Davis/cut_seqs/ACVR2A.seq\n",
      "INFO:root:513 residues in this chain.\n",
      "INFO:root:Finished prediction in 19.93 seconds.\n",
      "INFO:root:Saving prediction to ./Davis/omega_2/ACVR2A.pdb\n",
      "INFO:root:Saved\n",
      "INFO:root:Done!\n"
     ]
    },
    {
     "name": "stderr",
     "output_type": "stream",
     "text": [
      " 27%|██▋       | 139/522 [1:10:42<4:03:59, 38.22s/it]"
     ]
    },
    {
     "name": "stdout",
     "output_type": "stream",
     "text": [
      "JAK3(JH1domain-catalytic)_1.seq\n",
      "INFO:root:Reading ./Davis/cut_seqs/JAK3(JH1domain-catalytic)_1.seq\n",
      "GLWNGAQLYACQDPTIFEERHLKYISQLGKGNFGSVELCRYDPLGDNTGALVAVKQLQHSGPDQQRDFQREIQILKALHSDFIVKYRGVSYGPGRQSLRLVMEYLPSGCLRDFLQRHRARLDASRLLLYSSQICKGMEYLGSRRCVHRDLAARNILVESEAHVKIADFGLAKLLPLDKDYYVVREPGQSPIFWYAPESLSDNIFSRQSDVWSFGVVLYELFTYCDKSCSPSAEFLRMMGCERDVPALCRLLELLEEGQRLPAPPACPAEVHELMKLCWAPSPQDRPSFSALGPQLDMLWSGSRGCETHAFTAHPEGKHHSLSFS\n",
      "INFO:root:Predicting 1th chain in ./Davis/cut_seqs/JAK3(JH1domain-catalytic)_1.seq\n",
      "INFO:root:324 residues in this chain.\n",
      "INFO:root:Finished prediction in 6.57 seconds.\n",
      "INFO:root:Saving prediction to ./Davis/omega_2/JAK3(JH1domain-catalytic)_1.pdb\n",
      "INFO:root:Saved\n",
      "INFO:root:Done!\n"
     ]
    },
    {
     "name": "stderr",
     "output_type": "stream",
     "text": [
      " 27%|██▋       | 140/522 [1:10:49<3:03:31, 28.83s/it]"
     ]
    },
    {
     "name": "stdout",
     "output_type": "stream",
     "text": [
      "STK35.seq\n",
      "INFO:root:Reading ./Davis/cut_seqs/STK35.seq\n",
      "MGHQESPLARAPAGGAAYVKRLCKGLSWREHVESHGSLGAQASPASAAAAEGSATRRARAATSRAARSRRQPGPGADHPQAGAPGGKRAARKWRCAGQVTIQGPAPPRPRAGRRDEAGGARAAPLLLPPPPAAMETGKDGARRGTQSPERKRRSPVPRAPSTKLRPAAAARAMDPVAAEAPGEAFLARRRPEGGGGSARPRYSLLAEIGRGSYGVVYEAVAGRSGARVAVKKIRCDAPENVELALAEFWALTSLKRRHQNVVQFEECVLQRNGLAQRMSHGNKSSQLYLRLVETSLKGERILGYAEEPCYLWFVMEFCEGGDLNQYVLSRRPDPATNKSFMLQLTSAIAFLHKNHIVHRDLKPDNILITERSGTPILKVADFGLSKVCAGLAPRGKEGNQDNKNVNVNKYWLSSACGSDFYMAPEVWEGHYTAKADIFALGIIIWAMIERITFIDSETKKELLGTYIKQGTEIVPVGEALLENPKMELHIPQKRRTSMSEGIKQLLKDMLAANPQDRPDAFELETRMDQVTCAA\n",
      "INFO:root:Predicting 1th chain in ./Davis/cut_seqs/STK35.seq\n",
      "INFO:root:534 residues in this chain.\n",
      "INFO:root:Finished prediction in 21.94 seconds.\n",
      "INFO:root:Saving prediction to ./Davis/omega_2/STK35.pdb\n",
      "INFO:root:Saved\n",
      "INFO:root:Done!\n"
     ]
    },
    {
     "name": "stderr",
     "output_type": "stream",
     "text": [
      " 27%|██▋       | 141/522 [1:11:11<2:50:51, 26.91s/it]"
     ]
    },
    {
     "name": "stdout",
     "output_type": "stream",
     "text": [
      "MAP4K4_1.seq\n",
      "INFO:root:Reading ./Davis/cut_seqs/MAP4K4_1.seq\n",
      "KEGTLIVRQSTVDQKRASHHESNGFAGRIHLLPDLLQQSHSSSTSSTSSSPSSSQPTPTMSPQTPQDKLTANETQSASSTLQKHKSSSSFTPFIDPRLLQISPSSGTTVTSVVGFSCDGMRPEAIRQDPTRKGSVVNVNPTNTRPQSDTPEIRKYKKRFNSEILCAALWGVNLLVGTESGLMLLDRSGQGKVYPLINRRRFQQMDVLEGLNVLVTISGKKDKLRVYYLSWLRNKILHNDPEVEKKQGWTTVGDLEGCVHYKVVKYERIKFLVIALKSSVEVYAWAPKPYHKFMAFKSFGELVHKPLLVDLTVEEGQRLKVIYGSCAGFHAVDVDSGSVYDIYLPTHIQCSIKPHAIIILPNTDGMELLVCYEDEGVYVNTYGRITKDVVLQWGEMPTSVAYIRSNQTMGWGEKAIEIRSVETGHLDGVFMHKRAQRLKFLCERNDKVFFASVRSGGSSQVYFMTLGRTSLLSW\n",
      "INFO:root:Predicting 1th chain in ./Davis/cut_seqs/MAP4K4_1.seq\n",
      "INFO:root:473 residues in this chain.\n",
      "INFO:root:Finished prediction in 16.43 seconds.\n",
      "INFO:root:Saving prediction to ./Davis/omega_2/MAP4K4_1.pdb\n",
      "INFO:root:Saved\n",
      "INFO:root:Done!\n"
     ]
    },
    {
     "name": "stderr",
     "output_type": "stream",
     "text": [
      " 27%|██▋       | 142/522 [1:11:28<2:31:26, 23.91s/it]"
     ]
    },
    {
     "name": "stdout",
     "output_type": "stream",
     "text": [
      "WEE2.seq\n",
      "INFO:root:Reading ./Davis/cut_seqs/WEE2.seq\n",
      "MDDKDIDKELRQKLNFSYCEETEIEGQKKVEESREASSQTPEKGEVQDSEAKGTPPWTPLSNVHELDTSSEKDKESPDQILRTPVSHPLKCPETPAQPDSRSKLLPSDSPSTPKTMLSRLVISPTGKLPSRGPKHLKLTPAPLKDEMTSLALVNINPFTPESYKKLFLQSGGKRKIRGDLEEAGPEEGKGGLPAKRCVLRETNMASRYEKEFLEVEKIGVGEFGTVYKCIKRLDGCVYAIKRSMKTFTELSNENSALHEVYAHAVLGHHPHVVRYYSSWAEDDHMIIQNEYCNGGSLQAAISENTKSGNHFEEPKLKDILLQISLGLNYIHNSSMVHLDIKPSNIFICHKMQSESSGVIEEVENEADWFLSANVMYKIGDLGHATSINKPKVEEGDSRFLANEILQEDYRHLPKADIFALGLTIAVAAGAESLPTNGAAWHHIRKGNFPDVPQELSESFSSLLKNMIQPDAEQRPSAAALARNTVLRPSLGKTEELQQQLNLEKFKTATLERELREAQQAQSPQGYTHHGDTGVSGTHTGSRSTKRLVGGKSARSSSFTSGEREPLH\n",
      "INFO:root:Predicting 1th chain in ./Davis/cut_seqs/WEE2.seq\n",
      "INFO:root:567 residues in this chain.\n",
      "INFO:root:Finished prediction in 25.48 seconds.\n",
      "INFO:root:Saving prediction to ./Davis/omega_2/WEE2.pdb\n",
      "INFO:root:Saved\n",
      "INFO:root:Done!\n"
     ]
    },
    {
     "name": "stderr",
     "output_type": "stream",
     "text": [
      " 27%|██▋       | 143/522 [1:11:54<2:35:06, 24.56s/it]"
     ]
    },
    {
     "name": "stdout",
     "output_type": "stream",
     "text": [
      "JAK1(JH1domain-catalytic)_0.seq\n",
      "INFO:root:Reading ./Davis/cut_seqs/JAK1(JH1domain-catalytic)_0.seq\n",
      "MQYLNIKEDCNAMAFCAKMRSSKKTEVNLEAPEPGVEVIFYLSDREPLRLGSGEYTAEELCIRAAQACRISPLCHNLFALYDENTKLWYAPNRTITVDDKMSLRLHYRMRFYFTNWHGTNDNEQSVWRHSPKKQKNGYEKKKIPDATPLLDASSLEYLFAQGQYDLVKCLAPIRDPKTEQDGHDIENECLGMAVLAISHYAMMKKMQLPELPKDISYKRYIPETLNKSIRQRNLLTRMRINNVFKDFLKEFNNKTICDSSVSTHDLKVKYLATLETLTKHYGAEIFETSMLLISSENEMNWFHSNDGGNVLYYEVMVTGNLGIQWRHKPNVVSVEKEKNKLKRKKLENKHKKDEEKNKIREEWNNFSYFPEITHIVIKESVVSINKQDNKKMELKLSSHEEALSFVSLVDGYFRLTADAHHYLCTDVAPPLIVHNIQNGCHGPICTEYAINKLRQEGSEEGMYVLRWSCTDFDNILMTVTCFEKSEQVQGAQKQFKNFQIEVQKGRYSLHGSDRSFPSLGDLMSHLKKQILRTDNISFMLKRCCQPKPREISNLLVATKKAQEWQPVYPMSQLSFDRILKKDLVQGEHLGRGTRTHIYSGTLMDYKDDEGTSEEKKIKVILKVLDPSHRDISLAFFEAASMMRQVSHKHIVYLYGVCVRDVENIMVEEFVEGGPLDLFMHRKSDVLTTPWKFKVAKQLASALSYLEDKDLVHGNVCTKNLLLAREGIDSECGPFIKLSDPGIPITVLSRQECIERIPWIAPECVEDSKNLSVAADKWSFGTTLWEICYNGEIPLKDKTLI\n",
      "INFO:root:Predicting 1th chain in ./Davis/cut_seqs/JAK1(JH1domain-catalytic)_0.seq\n",
      "INFO:root:800 residues in this chain.\n",
      "INFO:root:Finished prediction in 57.16 seconds.\n",
      "INFO:root:Saving prediction to ./Davis/omega_2/JAK1(JH1domain-catalytic)_0.pdb\n",
      "INFO:root:Saved\n",
      "INFO:root:Done!\n"
     ]
    },
    {
     "name": "stderr",
     "output_type": "stream",
     "text": [
      " 28%|██▊       | 144/522 [1:12:52<3:38:01, 34.61s/it]"
     ]
    },
    {
     "name": "stdout",
     "output_type": "stream",
     "text": [
      "NEK1_0.seq\n",
      "INFO:root:Reading ./Davis/cut_seqs/NEK1_0.seq\n",
      "MEKYVRLQKIGEGSFGKAILVKSTEDGRQYVIKEINISRMSSKEREESRREVAVLANMKHPNIVQYRESFEENGSLYIVMDYCEGGDLFKRINAQKGVLFQEDQILDWFVQICLALKHVHDRKILHRDIKSQNIFLTKDGTVQLGDFGIARVLNSTVELARTCIGTPYYLSPEICENKPYNNKSDIWALGCVLYELCTLKHAFEAGSMKNLVLKIISGSFPPVSLHYSYDLRSLVSQLFKRNPRDRPSVNSILEKGFIAKRIEKFLSPQLIAEEFCLKTFSKFGSQPIPAKRPASGQNSISVMPAQKITKPAAKYGIPLAYKKYGDKKLHEKKPLQKHKQAHQTPEKRVNTGEERRKISEEAARKRRLEFIEKEKKQKDQIISLMKAEQMKRQEKERLERINRAREQGWRNVLSAGGSGEVKAPFLGSGGTIAPSSFSSRGQYEHYHAIFDQMQQQRAEDNEAKWKREIYGRGLPERGILPGVRPGFPYGAAGHHHFPDADDIRKTLKRLKAVSKQANANRQKGQLAVERAKQVEEFLQRKREAMQNKARAEGHMVYLARLRQIRLQNFNERQQIKAKLRGEKKEANHSEGQEGSEEADMRRKKIESLKAHANARAAVLKEQLERKRKEAYEREKKVWEEHLVAKGVKSSDVSPPLGQHETGGSPSKQQMRSVISVTSALKEVGVDSSLTDTRETSEEMQKTNNAISSKREILRRLNENLKAQEDEKGKQNLSDTFEINVHEDAKEHEKEKSVSSDRKKWEAGGQLVIPLDELTLDTSFSTTERHTVGEVIKLGPNGSPR\n",
      "INFO:root:Predicting 1th chain in ./Davis/cut_seqs/NEK1_0.seq\n",
      "INFO:root:800 residues in this chain.\n",
      "INFO:root:Finished prediction in 57.03 seconds.\n",
      "INFO:root:Saving prediction to ./Davis/omega_2/NEK1_0.pdb\n",
      "INFO:root:Saved\n",
      "INFO:root:Done!\n"
     ]
    },
    {
     "name": "stderr",
     "output_type": "stream",
     "text": [
      " 28%|██▊       | 145/522 [1:13:50<4:21:20, 41.59s/it]"
     ]
    },
    {
     "name": "stdout",
     "output_type": "stream",
     "text": [
      "PRKCD.seq\n",
      "INFO:root:Reading ./Davis/cut_seqs/PRKCD.seq\n",
      "MAPFLRIAFNSYELGSLQAEDEANQPFCAVKMKEALSTERGKTLVQKKPTMYPEWKSTFDAHIYEGRVIQIVLMRAAEEPVSEVTVGVSVLAERCKKNNGKAEFWLDLQPQAKVLMSVQYFLEDVDCKQSMRSEDEAKFPTMNRRGAIKQAKIHYIKNHEFIATFFGQPTFCSVCKDFVWGLNKQGYKCRQCNAAIHKKCIDKIIGRCTGTAANSRDTIFQKERFNIDMPHRFKVHNYMSPTFCDHCGSLLWGLVKQGLKCEDCGMNVHHKCREKVANLCGINQKLLAEALNQVTQRASRRSDSASSEPVGIYQGFEKKTGVAGEDMQDNSGTYGKIWEGSSKCNINNFIFHKVLGKGSFGKVLLGELKGRGEYFAIKALKKDVVLIDDDVECTMVEKRVLTLAAENPFLTHLICTFQTKDHLFFVMEFLNGGDLMYHIQDKGRFELYRATFYAAEIMCGLQFLHSKGIIYRDLKLDNVLLDRDGHIKIADFGMCKENIFGESRASTFCGTPDYIAPEILQGLKYTFSVDWWSFGVLLYEMLIGQSPFHGDDEDELFESIRVDTPHYPRWITKESKDILEKLFEREPTKRLGVTGNIKIHPFFKTINWTLLEKRRLEPPFRPKVKSPRDYSNFDQEFLNEKARLSYSDKNLIDSMDQSAFAGFSFVNPKFEHLLED\n",
      "INFO:root:Predicting 1th chain in ./Davis/cut_seqs/PRKCD.seq\n",
      "INFO:root:676 residues in this chain.\n",
      "INFO:root:Finished prediction in 38.69 seconds.\n",
      "INFO:root:Saving prediction to ./Davis/omega_2/PRKCD.pdb\n",
      "INFO:root:Saved\n",
      "INFO:root:Done!\n"
     ]
    },
    {
     "name": "stderr",
     "output_type": "stream",
     "text": [
      " 28%|██▊       | 146/522 [1:14:30<4:16:46, 40.97s/it]"
     ]
    },
    {
     "name": "stdout",
     "output_type": "stream",
     "text": [
      "MLK3_0.seq\n",
      "INFO:root:Reading ./Davis/cut_seqs/MLK3_0.seq\n",
      "MEPLKSLFLKSPLGSWNGSGSGGGGGGGGGRPEGSPKAAGYANPVWTALFDYEPSGQDELALRKGDRVEVLSRDAAISGDEGWWAGQVGGQVGIFPSNYVSRGGGPPPCEVASFQELRLEEVIGIGGFGKVYRGSWRGELVAVKAARQDPDEDISVTAESVRQEARLFAMLAHPNIIALKAVCLEEPNLCLVMEYAAGGPLSRALAGRRVPPHVLVNWAVQIARGMHYLHCEALVPVIHRDLKSNNILLLQPIESDDMEHKTLKITDFGLAREWHKTTQMSAAGTYAWMAPEVIKASTFSKGSDVWSFGVLLWELLTGEVPYRGIDCLAVAYGVAVNKLTLPIPSTCPEPFAQLMADCWAQDPHRRPDFASILQQLEALEAQVLREMPRDSFHSMQEGWKREIQGLFDELRAKEKELLSREEELTRAAREQRSQAEQLRRREHLLAQWELEVFERELTLLLQQVDRERPHVRRRRGTFKRSKLRARDGGERISMPLDFKHRITVQASPGLDRRRNVFEVGPGDSPTFPRFRAIQLEPAEPGQAWGRQSPRRLEDSSNGERRACWAWGPSSPKPGEAQNGRRRSRMDEATWYLDSDDSSPLGSPSTPPALNGNPPRPSLEPEEPKRPVPAERGSSSGTPKLIQRALLRGTALLASLGLGRDLQPPGGPGRERGESPTTPPTPTPAPCPTEPPPSPLICFSLKTPDSPPTPAPLLLDLGIPVGQRSAKSPRREEEPRGGTVSPPPGTSRSAPGTPGTPRSPPLGLISRPRPSPLRSRIDPWSFVSAGPRPSPLPSPQPAPRR\n",
      "INFO:root:Predicting 1th chain in ./Davis/cut_seqs/MLK3_0.seq\n",
      "INFO:root:800 residues in this chain.\n",
      "INFO:root:Finished prediction in 57.13 seconds.\n",
      "INFO:root:Saving prediction to ./Davis/omega_2/MLK3_0.pdb\n",
      "INFO:root:Saved\n",
      "INFO:root:Done!\n"
     ]
    },
    {
     "name": "stderr",
     "output_type": "stream",
     "text": [
      " 28%|██▊       | 147/522 [1:15:28<4:48:00, 46.08s/it]"
     ]
    },
    {
     "name": "stdout",
     "output_type": "stream",
     "text": [
      "SNARK.seq\n",
      "INFO:root:Reading ./Davis/cut_seqs/SNARK.seq\n",
      "MESLVFARRSGPTPSAAELARPLAEGLIKSPKPLMKKQAVKRHHHKHNLRHRYEFLETLGKGTYGKVKKARESSGRLVAIKSIRKDKIKDEQDLMHIRREIEIMSSLNHPHIIAIHEVFENSSKIVIVMEYASRGDLYDYISERQQLSEREARHFFRQIVSAVHYCHQNRVVHRDLKLENILLDANGNIKIADFGLSNLYHQGKFLQTFCGSPLYASPEIVNGKPYTGPEVDSWSLGVLLYILVHGTMPFDGHDHKILVKQISNGAYREPPKPSDACGLIRWLLMVNPTRRATLEDVASHWWVNWGYATRVGEQEAPHEGGHPGSDSARASMADWLRRSSRPLLENGAKVCSFFKQHAPGGGSTTPGLERQHSLKKSRKENDMAQSLHSDTADDTAHRPGKSNLKLPKGILKKKVSASAEGVQEDPPELSPIPASPGQAAPLLPKKGILKKPRQRESGYYSSPEPSESGELLDAGDVFVSGDPKEQKPPQASGLLLHRKGILKLNGKFSQTALELAAPTTFGSLDELAPPRPLARASRPSGAVSEDSILSSESFDQLDLPERLPEPPLRGCVSVDNLTGLEEPPSEGPGSCLRRWRQDPLGDSCFSLTDCQEVTATYRQALRVCSKLT\n",
      "INFO:root:Predicting 1th chain in ./Davis/cut_seqs/SNARK.seq\n",
      "INFO:root:628 residues in this chain.\n",
      "INFO:root:Finished prediction in 32.62 seconds.\n",
      "INFO:root:Saving prediction to ./Davis/omega_2/SNARK.pdb\n",
      "INFO:root:Saved\n",
      "INFO:root:Done!\n"
     ]
    },
    {
     "name": "stderr",
     "output_type": "stream",
     "text": [
      " 28%|██▊       | 148/522 [1:16:01<4:23:19, 42.25s/it]"
     ]
    },
    {
     "name": "stdout",
     "output_type": "stream",
     "text": [
      "PLK1.seq\n",
      "INFO:root:Reading ./Davis/cut_seqs/PLK1.seq\n",
      "MSAAVTAGKLARAPADPGKAGVPGVAAPGAPAAAPPAKEIPEVLVDPRSRRRYVRGRFLGKGGFAKCFEISDADTKEVFAGKIVPKSLLLKPHQREKMSMEISIHRSLAHQHVVGFHGFFEDNDFVFVVLELCRRRSLLELHKRRKALTEPEARYYLRQIVLGCQYLHRNRVIHRDLKLGNLFLNEDLEVKIGDFGLATKVEYDGERKKTLCGTPNYIAPEVLSKKGHSFEVDVWSIGCIMYTLLVGKPPFETSCLKETYLRIKKNEYSIPKHINPVAASLIQKMLQTDPTARPTINELLNDEFFTSGYIPARLPITCLTIPPRFSIAPSSLDPSNRKPLTVLNKGLENPLPERPREKEEPVVRETGEVVDCHLSDMLQQLHSVNASKPSERGLVRQEEAEDPACIPIFWVSKWVDYSDKYGLGYQLCDNSVGVLFNDSTRLILYNDGDSLQYIERDGTESYLTVSSHPNSLMKKITLLKYFRNYMSEHLLKAGANITPREGDELARLPYLRTWFRTRSAIILHLSNGSVQINFFQDHTKLILCPLMAAVTYIDEKRDFRTYRLSLLEEYGCCKELASRLRYARTMVDKLLSSRSASNRLKAS\n",
      "INFO:root:Predicting 1th chain in ./Davis/cut_seqs/PLK1.seq\n",
      "INFO:root:603 residues in this chain.\n",
      "INFO:root:Finished prediction in 30.12 seconds.\n",
      "INFO:root:Saving prediction to ./Davis/omega_2/PLK1.pdb\n",
      "INFO:root:Saved\n",
      "INFO:root:Done!\n"
     ]
    },
    {
     "name": "stderr",
     "output_type": "stream",
     "text": [
      " 29%|██▊       | 149/522 [1:16:32<4:01:09, 38.79s/it]"
     ]
    },
    {
     "name": "stdout",
     "output_type": "stream",
     "text": [
      "NEK2.seq\n",
      "INFO:root:Reading ./Davis/cut_seqs/NEK2.seq\n",
      "MPSRAEDYEVLYTIGTGSYGRCQKIRRKSDGKILVWKELDYGSMTEAEKQMLVSEVNLLRELKHPNIVRYYDRIIDRTNTTLYIVMEYCEGGDLASVITKGTKERQYLDEEFVLRVMTQLTLALKECHRRSDGGHTVLHRDLKPANVFLDGKQNVKLGDFGLARILNHDTSFAKTFVGTPYYMSPEQMNRMSYNEKSDIWSLGCLLYELCALMPPFTAFSQKELAGKIREGKFRRIPYRYSDELNEIITRMLNLKDYHRPSVEEILENPLIADLVADEQRRNLERRGRQLGEPEKSQDSSPVLSELKLKEIQLQERERALKAREERLEQKEQELCVRERLAEDKLARAENLLKNYSLLKERKFLSLASNPELLNLPSSVIKKKVHFSGESKENIMRSENSESQLTSKSKCKDLKKRLHAAQLRAQALSDIEKNYQLKSRQILGMR\n",
      "INFO:root:Predicting 1th chain in ./Davis/cut_seqs/NEK2.seq\n",
      "INFO:root:445 residues in this chain.\n",
      "INFO:root:Finished prediction in 14.03 seconds.\n",
      "INFO:root:Saving prediction to ./Davis/omega_2/NEK2.pdb\n",
      "INFO:root:Saved\n",
      "INFO:root:Done!\n"
     ]
    },
    {
     "name": "stderr",
     "output_type": "stream",
     "text": [
      " 29%|██▊       | 150/522 [1:16:46<3:15:22, 31.51s/it]"
     ]
    },
    {
     "name": "stdout",
     "output_type": "stream",
     "text": [
      "MAP3K2.seq\n",
      "INFO:root:Reading ./Davis/cut_seqs/MAP3K2.seq\n",
      "MDDQQALNSIMQDLAVLHKASRPALSLQETRKAKSSSPKKQNDVRVKFEHRGEKRILQFPRPVKLEDLRSKAKIAFGQSMDLHYTNNELVIPLTTQDDLDKAVELLDRSIHMKSLKILLVINGSTQATNLEPLPSLEDLDNTVFGAERKKRLSIIGPTSRDRSSPPPGYIPDELHQVARNGSFTSINSEGEFIPESMDQMLDPLSLSSPENSGSGSCPSLDSPLDGESYPKSRMPRAQSYPDNHQEFSDYDNPIFEKFGKGGTYPRRYHVSYHHQEYNDGRKTFPRARRTQGTSLRSPVSFSPTDHSLSTSSGSSIFTPEYDDSRIRRRGSDIDNPTLTVMDISPPSRSPRAPTNWRLGKLLGQGAFGRVYLCYDVDTGRELAVKQVQFDPDSPETSKEVNALECEIQLLKNLLHERIVQYYGCLRDPQEKTLSIFMEYMPGGSIKDQLKAYGALTENVTRKYTRQILEGVHYLHSNMIVHRDIKGANILRDSTGNVKLGDFGASKRLQTICLSGTGMKSVTGTPYWMSPEVISGEGYGRKADIWSVACTVVEMLTEKPPWAEFEAMAAIFKIATQPTNPKLPPHVSDYTRDFLKRIFVEAKLRPSADELLRHMFVHYH\n",
      "INFO:root:Predicting 1th chain in ./Davis/cut_seqs/MAP3K2.seq\n",
      "INFO:root:619 residues in this chain.\n",
      "INFO:root:Finished prediction in 31.94 seconds.\n",
      "INFO:root:Saving prediction to ./Davis/omega_2/MAP3K2.pdb\n",
      "INFO:root:Saved\n",
      "INFO:root:Done!\n"
     ]
    },
    {
     "name": "stderr",
     "output_type": "stream",
     "text": [
      " 29%|██▉       | 151/522 [1:17:19<3:16:51, 31.84s/it]"
     ]
    },
    {
     "name": "stdout",
     "output_type": "stream",
     "text": [
      "TTK_1.seq\n",
      "INFO:root:Reading ./Davis/cut_seqs/TTK_1.seq\n",
      "MAKGTTEEMKYVLGQLVGLNSPNSILKAAKTLYEHYSGGESHNSSSSKTFEKKRGKK\n",
      "INFO:root:Predicting 1th chain in ./Davis/cut_seqs/TTK_1.seq\n",
      "INFO:root:57 residues in this chain.\n",
      "INFO:root:Finished prediction in 0.56 seconds.\n",
      "INFO:root:Saving prediction to ./Davis/omega_2/TTK_1.pdb\n",
      "INFO:root:Saved\n",
      "INFO:root:Done!\n"
     ]
    },
    {
     "name": "stderr",
     "output_type": "stream",
     "text": [
      " 29%|██▉       | 152/522 [1:17:19<2:18:49, 22.51s/it]"
     ]
    },
    {
     "name": "stdout",
     "output_type": "stream",
     "text": [
      "PIK3CD_0.seq\n",
      "INFO:root:Reading ./Davis/cut_seqs/PIK3CD_0.seq\n",
      "MPPGVDCPMEFWTKEENQSVVVDFLLPTGVYLNFPVSRNANLSTIKQLLWHRAQYEPLFHMLSGPEAYVFTCINQTAEQQELEDEQRRLCDVQPFLPVLRLVAREGDRVKKLINSQISLLIGKGLHEFDSLCDPEVNDFRAKMCQFCEEAAARRQQLGWEAWLQYSFPLQLEPSAQTWGPGTLRLPNRALLVNVKFEGSEESFTFQVSTKDVPLALMACALRKKATVFRQPLVEQPEDYTLQVNGRHEYLYGSYPLCQFQYICSCLHSGLTPHLTMVHSSSILAMRDEQSNPAPQVQKPRAKPPPIPAKKPSSVSLWSLEQPFRIELIQGSKVNADERMKLVVQAGLFHGNEMLCKTVSSSEVSVCSEPVWKQRLEFDINICDLPRMARLCFALYAVIEKAKKARSTKKKSKKADCPIAWANLMLFDYKDQLKTGERCLYMWPSVPDEKGELLNPTGTVRSNPNTDSAAALLICLPEVAPHPVYYPALEKILELGRHSECVHVTEEEQLQLREILERRGSGELYEHEKDLVWKLRHEVQEHFPEALARLLLVTKWNKHEDVAQMLYLLCSWPELPVLSALELLDFSFPDCHVGSFAIKSLRKLTDDELFQYLLQLVQVLKYESYLDCELTKFLLDRALANRKIGHFLFWHLRSEMHVPSVALRFGLILEAYCRGSTHHMKVLMKQGEALSKLKALNDFVKLSSQKTPKPQTKELMHLCMRQEAYLEALSHLQSPLDPSTLLAEVCVEQCTFMDSKMKPLWIMYSNEEAGSGGSVGIIFKNGDDLRQDMLTLQMIQLMDVL\n",
      "INFO:root:Predicting 1th chain in ./Davis/cut_seqs/PIK3CD_0.seq\n",
      "INFO:root:800 residues in this chain.\n",
      "INFO:root:Finished prediction in 57.08 seconds.\n",
      "INFO:root:Saving prediction to ./Davis/omega_2/PIK3CD_0.pdb\n",
      "INFO:root:Saved\n",
      "INFO:root:Done!\n"
     ]
    },
    {
     "name": "stderr",
     "output_type": "stream",
     "text": [
      " 29%|██▉       | 153/522 [1:18:18<3:24:13, 33.21s/it]"
     ]
    },
    {
     "name": "stdout",
     "output_type": "stream",
     "text": [
      "PLK2.seq\n",
      "INFO:root:Reading ./Davis/cut_seqs/PLK2.seq\n",
      "MELLRTITYQPAASTKMCEQALGKGCGADSKKKRPPQPPEESQPPQSQAQVPPAAPHHHHHHSHSGPEISRIIVDPTTGKRYCRGKVLGKGGFAKCYEMTDLTNNKVYAAKIIPHSRVAKPHQREKIDKEIELHRILHHKHVVQFYHYFEDKENIYILLEYCSRRSMAHILKARKVLTEPEVRYYLRQIVSGLKYLHEQEILHRDLKLGNFFINEAMELKVGDFGLAARLEPLEHRRRTICGTPNYLSPEVLNKQGHGCESDIWALGCVMYTMLLGRPPFETTNLKETYRCIREARYTMPSSLLAPAKHLIASMLSKNPEDRPSLDDIIRHDFFLQGFTPDRLSSSCCHTVPDFHLSSPAKNFFKKAAAALFGGKKDKARYIDTHNRVSKEDEDIYKLRHDLKKTSITQQPSKHRTDEELQPPTTTVARSGTPAVENKQQIGDAIRMIVRGTLGSCSSSSECLEDSTMGSVADTVARVLRGCLENMPEADCIPKEQLSTSFQWVTKWVDYSNKYGFGYQLSDHTVGVLFNNGAHMSLLPDKKTVHYYAELGQCSVFPATDAPEQFISQVTVLKYFSHYMEENLMDGGDLPSVTDIRRPRLYLLQWLKSDKALMMLFNDGTFQVNFYHDHTKIIICSQNEEYLLTYINEDRISTTFRLTTLLMSGCSSELKNRMEYALNMLLQRCN\n",
      "INFO:root:Predicting 1th chain in ./Davis/cut_seqs/PLK2.seq\n",
      "INFO:root:685 residues in this chain.\n",
      "INFO:root:Finished prediction in 40.37 seconds.\n",
      "INFO:root:Saving prediction to ./Davis/omega_2/PLK2.pdb\n",
      "INFO:root:Saved\n",
      "INFO:root:Done!\n"
     ]
    },
    {
     "name": "stderr",
     "output_type": "stream",
     "text": [
      " 30%|██▉       | 154/522 [1:18:59<3:38:14, 35.58s/it]"
     ]
    },
    {
     "name": "stdout",
     "output_type": "stream",
     "text": [
      "ASK1_1.seq\n",
      "INFO:root:Reading ./Davis/cut_seqs/ASK1_1.seq\n",
      "HRDIKGDNVLINTYSGVLKISDFGTSKRLAGINPCTETFTGTLQYMAPEIIDKGPRGYGKAADIWSLGCTIIEMATGKPPFYELGEPQAAMFKVGMFKVHPEIPESMSAEAKAFILKCFEPDPDKRACANDLLVDEFLKVSSKKKKTQPKLSALSAGSNEYLRSISLPVPVLVEDTSSSSEYGSVSPDTELKVDPFSFKTRAKSCGERDVKGIRTLFLGIPDENFEDHSAPPSPEEKDSGFFMLRKDSERRATLHRILTEDQDKIVRNLMESLAQGAEEPKLKWEHITTLIASLREFVRSTDRKIIATTLSKLKLELDFDSHGISQVQVVLFGFQDAVNKVLRNHNIKPHWMFALDSIIRKAVQTAITILVPELRPHFSLASESDTADQEDLDVEDDHEEQPSNQTVRRPQAVIEDAVATSGVSTLSSTVSHDSQSAHRSLNVQLGRMKIETNRLLEELVRKEKELQALLHRAIEEKDQEIKHLKLKSQPIEIPELPVFHLNSSGTNTEDSELTDWLRVNGADEDTISRFLAEDYTLLDVLYYVTRDDLKCLRLRGGMLCTLWKAIIDFRNKQT\n",
      "INFO:root:Predicting 1th chain in ./Davis/cut_seqs/ASK1_1.seq\n",
      "INFO:root:574 residues in this chain.\n",
      "INFO:root:Finished prediction in 25.86 seconds.\n",
      "INFO:root:Saving prediction to ./Davis/omega_2/ASK1_1.pdb\n",
      "INFO:root:Saved\n",
      "INFO:root:Done!\n"
     ]
    },
    {
     "name": "stderr",
     "output_type": "stream",
     "text": [
      " 30%|██▉       | 155/522 [1:19:25<3:20:48, 32.83s/it]"
     ]
    },
    {
     "name": "stdout",
     "output_type": "stream",
     "text": [
      "BMPR1A.seq\n",
      "INFO:root:Reading ./Davis/cut_seqs/BMPR1A.seq\n",
      "MPQLYIYIRLLGAYLFIISRVQGQNLDSMLHGTGMKSDSDQKKSENGVTLAPEDTLPFLKCYCSGHCPDDAINNTCITNGHCFAIIEEDDQGETTLASGCMKYEGSDFQCKDSPKAQLRRTIECCRTNLCNQYLQPTLPPVVIGPFFDGSIRWLVLLISMAVCIIAMIIFSSCFCYKHYCKSISSRRRYNRDLEQDEAFIPVGESLKDLIDQSQSSGSGSGLPLLVQRTIAKQIQMVRQVGKGRYGEVWMGKWRGEKVAVKVFFTTEEASWFRETEIYQTVLMRHENILGFIAADIKGTGSWTQLYLITDYHENGSLYDFLKCATLDTRALLKLAYSAACGLCHLHTEIYGTQGKPAIAHRDLKSKNILIKKNGSCCIADLGLAVKFNSDTNEVDVPLNTRVGTKRYMAPEVLDESLNKNHFQPYIMADIYSFGLIIWEMARRCITGGIVEEYQLPYYNMVPSDPSYEDMREVVCVKRLRPIVSNRWNSDECLRAVLKLMSECWAHNPASRLTALRIKKTLAKMVESQDVKI\n",
      "INFO:root:Predicting 1th chain in ./Davis/cut_seqs/BMPR1A.seq\n",
      "INFO:root:532 residues in this chain.\n",
      "INFO:root:Finished prediction in 21.39 seconds.\n",
      "INFO:root:Saving prediction to ./Davis/omega_2/BMPR1A.pdb\n",
      "INFO:root:Saved\n",
      "INFO:root:Done!\n"
     ]
    },
    {
     "name": "stderr",
     "output_type": "stream",
     "text": [
      " 30%|██▉       | 156/522 [1:19:47<3:00:21, 29.57s/it]"
     ]
    },
    {
     "name": "stdout",
     "output_type": "stream",
     "text": [
      "MAP4K5_0.seq\n",
      "INFO:root:Reading ./Davis/cut_seqs/MAP4K5_0.seq\n",
      "MEAPLRPAADILRRNPQQDYELVQRVGSGTYGDVYKARNVHTGELAAVKIIKLEPGDDFSLIQQEIFMVKECKHCNIVAYFGSYLSREKLWICMEYCGGGSLQDIYHVTGPLSELQIAYVCRETLQGLAYLHTKGKMHRDIKGANILLTDHGDVKLADFGVAAKITATIAKRKSFIGTPYWMAPEVAAVEKNGGYNQLCDIWAVGITAIELGELQPPMFDLHPMRALFLMSKSNFQPPKLKDKTKWSSTFHNFVKIALTKNPKKRPTAERLLTHTFVAQPGLSRALAVELLDKVNNPDNHAHYTEADDDDFEPHAIIRHTIRSTNRNARAERTASEINFDKLQFEPPLRKETEARDEMGLSSDPNFMLQWNPFVDGANTGKSTSKRAIPPPLPPKPRISSYPEDNFPDEEKASTIKHCPDSESRAPQILRRQSSPSCGPVAETSSIGNGDGISKLMSENTEGSAQAPQLPRKNDKRDFPKPAINGLPPTPKVLMGACFSKVFDGCPLKINCATSWIHPDTKDQYIIFGTEDGIYTLNLNELHEATMEQLFPRKCTWLYVINNTLMSLSEGKTFQLYSHNLIALFEHAKKPGLAAHIQTHRFPDRILPRKFALTTKIPDTKGCHKCCIVRNPYTGHKYLCGALQSGIVLLQWYEPMQKFMLIKHFDFPLPSPLNVFEMLVIPEQEYPMVCVAISKGTESNQVVQFETINLNSASSWFTEIGAGSQQLDSIHVTQLERDTVLVCLDKFVKIVNLQGKLKSSKKLASELSFDFRIESVVCLQDSVLAFWKHGMQGKSFKSDEV\n",
      "INFO:root:Predicting 1th chain in ./Davis/cut_seqs/MAP4K5_0.seq\n",
      "INFO:root:800 residues in this chain.\n",
      "INFO:root:Finished prediction in 57.12 seconds.\n",
      "INFO:root:Saving prediction to ./Davis/omega_2/MAP4K5_0.pdb\n",
      "INFO:root:Saved\n",
      "INFO:root:Done!\n"
     ]
    },
    {
     "name": "stderr",
     "output_type": "stream",
     "text": [
      " 30%|███       | 157/522 [1:20:46<3:52:39, 38.25s/it]"
     ]
    },
    {
     "name": "stdout",
     "output_type": "stream",
     "text": [
      "MEK2.seq\n",
      "INFO:root:Reading ./Davis/cut_seqs/MEK2.seq\n",
      "MLARRKPVLPALTINPTIAEGPSPTSEGASEANLVDLQKKLEELELDEQQKKRLEAFLTQKAKVGELKDDDFERISELGAGNGGVVTKVQHRPSGLIMARKLIHLEIKPAIRNQIIRELQVLHECNSPYIVGFYGAFYSDGEISICMEHMDGGSLDQVLKEAKRIPEEILGKVSIAVLRGLAYLREKHQIMHRDVKPSNILVNSRGEIKLCDFGVSGQLIDSMANSFVGTRSYMAPERLQGTHYSVQSDIWSMGLSLVELAVGRYPIPPPDAKELEAIFGRPVVDGEEGEPHSISPRPRPPGRPVSGHGMDSRPAMAIFELLDYIVNEPPPKLPNGVFTPDFQEFVNKCLIKNPAERADLKMLTNHTFIKRSEVEEVDFAGWLCKTLRLNQPGTPTRTAV\n",
      "INFO:root:Predicting 1th chain in ./Davis/cut_seqs/MEK2.seq\n",
      "INFO:root:400 residues in this chain.\n",
      "INFO:root:Finished prediction in 10.80 seconds.\n",
      "INFO:root:Saving prediction to ./Davis/omega_2/MEK2.pdb\n",
      "INFO:root:Saved\n",
      "INFO:root:Done!\n"
     ]
    },
    {
     "name": "stderr",
     "output_type": "stream",
     "text": [
      " 30%|███       | 158/522 [1:20:57<3:02:42, 30.12s/it]"
     ]
    },
    {
     "name": "stdout",
     "output_type": "stream",
     "text": [
      "IGF1R_1.seq\n",
      "INFO:root:Reading ./Davis/cut_seqs/IGF1R_1.seq\n",
      "IDIHSCNHEAEKLGCSASNFVFARTMPAEGADDIPGPVTWEPRPENSIFLKWPEPENPNGLILMYEIKYGSQVEDQRECVSRQEYRKYGGAKLNRLNPGNYTARIQATSLSGNGSWTDPVFFYVQAKTGYENFIHLIIALPVAVLLIVGGLVIMLYVFHRKRNNSRLGNGVLYASVNPEYFSAADVYVPDEWEVAREKITMSRELGQGSFGMVYEGVAKGVVKDEPETRVAIKTVNEAASMRERIEFLNEASVMKEFNCHHVVRLLGVVSQGQPTLVIMELMTRGDLKSYLRSLRPEMENNPVLAPPSLSKMIQMAGEIADGMAYLNANKFVHRDLAARNCMVAEDFTVKIGDFGMTRDIYETDYYRKGGKGLLPVRWMSPESLKDGVFTTYSDVWSFGVVLWEIATLAEQPYQGLSNEQVLRFVMEGGLLDKPDNCPDMLFELMRMCWQYNPKMRPSFLEIISSIKEEMEPGFREVSFYYSEENKLPEPEELDLEPENMESVPLDPSASSSSLPLPDRHSGHKAENGPGPGVLVLRASFDERQPYAHMNGGRKNERALPLPQSSTC\n",
      "INFO:root:Predicting 1th chain in ./Davis/cut_seqs/IGF1R_1.seq\n",
      "INFO:root:567 residues in this chain.\n",
      "INFO:root:Finished prediction in 25.57 seconds.\n",
      "INFO:root:Saving prediction to ./Davis/omega_2/IGF1R_1.pdb\n",
      "INFO:root:Saved\n",
      "INFO:root:Done!\n"
     ]
    },
    {
     "name": "stderr",
     "output_type": "stream",
     "text": [
      " 30%|███       | 159/522 [1:21:23<2:55:07, 28.95s/it]"
     ]
    },
    {
     "name": "stdout",
     "output_type": "stream",
     "text": [
      "TNK2_1.seq\n",
      "INFO:root:Reading ./Davis/cut_seqs/TNK2_1.seq\n",
      "SPLPPRLSSSPGKTMPTTQSFASDPKYATPQVIQAPGPRAGPCILPIVRDGKKVSSTHYYLLPERPSYLERYQRFLREAQSPEEPTPLPVPLLLPPPSTPAPAAPTATVRPMPQAALDPKANFSTNNSNPGARPPPPRATARLPQRGCPGDGPEAGRPADKIQMAMVHGVTTEECQAALQCHGWSVQRAAQYLKVEQLFGLGLRPRGECHKVLEMFDWNLEQAGCHLLGSWGPAHHKR\n",
      "INFO:root:Predicting 1th chain in ./Davis/cut_seqs/TNK2_1.seq\n",
      "INFO:root:238 residues in this chain.\n",
      "INFO:root:Finished prediction in 3.19 seconds.\n",
      "INFO:root:Saving prediction to ./Davis/omega_2/TNK2_1.pdb\n",
      "INFO:root:Saved\n",
      "INFO:root:Done!\n"
     ]
    },
    {
     "name": "stderr",
     "output_type": "stream",
     "text": [
      " 31%|███       | 160/522 [1:21:26<2:08:25, 21.29s/it]"
     ]
    },
    {
     "name": "stdout",
     "output_type": "stream",
     "text": [
      "FGFR4_0.seq\n",
      "INFO:root:Reading ./Davis/cut_seqs/FGFR4_0.seq\n",
      "MRLLLALLGVLLSVPGPPVLSLEASEEVELEPCLAPSLEQQEQELTVALGQPVRLCCGRAERGGHWYKEGSRLAPAGRVRGWRGRLEIASFLPEDAGRYLCLARGSMIVLQNLTLITGDSLTSSNDDEDPKSHRDPSNRHSYPQQAPYWTHPQRMEKKLHAVPAGNTVKFRCPAAGNPTPTIRWLKDGQAFHGENRIGGIRLRHQHWSLVMESVVPSDRGTYTCLVENAVGSIRYNYLLDVLERSPHRPILQAGLPANTTAVVGSDVELLCKVYSDAQPHIQWLKHIVINGSSFGADGFPYVQVLKTADINSSEVEVLYLRNVSAEDAGEYTCLAGNSIGLSYQSAWLTVLPEEDPTWTAAAPEARYTDIILYASGSLALAVLLLLAGLYRGQALHGRHPRPPATVQKLSRFPLARQFSLESGSSGKSSSSLVRGVRLSSSGPALLAGLVSLDLPLDPLWEFPRDRLVLGKPLGEGCFGQVVRAEAFGMDPARPDQASTVAVKMLKDNASDKDLADLVSEMEVMKLIGRHKNIINLLGVCTQEGPLYVIVECAAKGNLREFLRARRPPGPDLSPDGPRSSEGPLSFPVLVSCAYQVARGMQYLESRKCIHRDLAARNVLVTEDNVMKIADFGLARGVHHIDYYKKTSNGRLPVKWMAPEALFDRVYTHQSDVWSFGILLWEIFTLGGSPYPGIPVEELFSLLREGHRMDRPPHCPPELYGLMRECWHAAPSQRPTFKQLVEALDKVLLAVSEEYLDLRLTFGPYSPSGGDASSTCSSSDSVFSHDPLPLGSSSFPFGSGV\n",
      "INFO:root:Predicting 1th chain in ./Davis/cut_seqs/FGFR4_0.seq\n",
      "INFO:root:800 residues in this chain.\n",
      "INFO:root:Finished prediction in 57.17 seconds.\n",
      "INFO:root:Saving prediction to ./Davis/omega_2/FGFR4_0.pdb\n",
      "INFO:root:Saved\n",
      "INFO:root:Done!\n"
     ]
    },
    {
     "name": "stderr",
     "output_type": "stream",
     "text": [
      " 31%|███       | 161/522 [1:22:24<3:14:23, 32.31s/it]"
     ]
    },
    {
     "name": "stdout",
     "output_type": "stream",
     "text": [
      "EPHA4_1.seq\n",
      "INFO:root:Reading ./Davis/cut_seqs/EPHA4_1.seq\n",
      "FTSASDVWSYGIVMWEVMSYGERPYWDMSNQDVIKAIEEGYRLPPPMDCPIALHQLMLDCWQKERSDRPKFGQIVNMLDKLIRNPNSLKRTGTESSRPNTALLDPSSPEFSAVVSVGDWLQAIKMDRYKDNFTAAGYTTLEAVVHVNQEDLARIGITAITHQNKILSSVQAMRTQMQQMHGRMVPV\n",
      "INFO:root:Predicting 1th chain in ./Davis/cut_seqs/EPHA4_1.seq\n",
      "INFO:root:186 residues in this chain.\n",
      "INFO:root:Finished prediction in 1.91 seconds.\n",
      "INFO:root:Saving prediction to ./Davis/omega_2/EPHA4_1.pdb\n",
      "INFO:root:Saved\n",
      "INFO:root:Done!\n"
     ]
    },
    {
     "name": "stderr",
     "output_type": "stream",
     "text": [
      " 31%|███       | 162/522 [1:22:27<2:19:31, 23.25s/it]"
     ]
    },
    {
     "name": "stdout",
     "output_type": "stream",
     "text": [
      "CSNK1E.seq\n",
      "INFO:root:Reading ./Davis/cut_seqs/CSNK1E.seq\n",
      "MELRVGNKYRLGRKIGSGSFGDIYLGANIASGEEVAIKLECVKTKHPQLHIESKFYKMMQGGVGIPSIKWCGAEGDYNVMVMELLGPSLEDLFNFCSRKFSLKTVLLLADQMISRIEYIHSKNFIHRDVKPDNFLMGLGKKGNLVYIIDFGLAKKYRDARTHQHIPYRENKNLTGTARYASINTHLGIEQSRRDDLESLGYVLMYFNLGSLPWQGLKAATKRQKYERISEKKMSTPIEVLCKGYPSEFSTYLNFCRSLRFDDKPDYSYLRQLFRNLFHRQGFSYDYVFDWNMLKFGAARNPEDVDRERREHEREERMGQLRGSATRALPPGPPTGATANRLRSAAEPVASTPASRIQPAGNTSPRAISRVDRERKVSMRLHRGAPANVSSSDLTGRQEVSRIPASQTSVPFDHLGK\n",
      "INFO:root:Predicting 1th chain in ./Davis/cut_seqs/CSNK1E.seq\n",
      "INFO:root:416 residues in this chain.\n",
      "INFO:root:Finished prediction in 11.59 seconds.\n",
      "INFO:root:Saving prediction to ./Davis/omega_2/CSNK1E.pdb\n",
      "INFO:root:Saved\n",
      "INFO:root:Done!\n"
     ]
    },
    {
     "name": "stderr",
     "output_type": "stream",
     "text": [
      " 31%|███       | 163/522 [1:22:39<1:58:56, 19.88s/it]"
     ]
    },
    {
     "name": "stdout",
     "output_type": "stream",
     "text": [
      "MKNK2.seq\n",
      "INFO:root:Reading ./Davis/cut_seqs/MKNK2.seq\n",
      "MVQKKPAELQGFHRSFKGQNPFELAFSLDQPDHGDSDFGLQCSARPDMPASQPIDIPDAKKRGKKKKRGRATDSFSGRFEDVYQLQEDVLGEGAHARVQTCINLITSQEYAVKIIEKQPGHIRSRVFREVEMLYQCQGHRNVLELIEFFEEEDRFYLVFEKMRGGSILSHIHKRRHFNELEASVVVQDVASALDFLHNKGIAHRDLKPENILCEHPNQVSPVKICDFDLGSGIKLNGDCSPISTPELLTPCGSAEYMAPEVVEAFSEEASIYDKRCDLWSLGVILYILLSGYPPFVGRCGSDCGWDRGEACPACQNMLFESIQEGKYEFPDKDWAHISCAAKDLISKLLVRDAKQRLSAAQVLQHPWVQGCAPENTLPTPMVLQRNSCAKDLTSFAAEAIAMNRQLAQHDEDLAEEEAAGQGQPVLVRATSRCLQLSPPSQSKLAQRRQRASLSSAPVVLVGDHA\n",
      "INFO:root:Predicting 1th chain in ./Davis/cut_seqs/MKNK2.seq\n",
      "INFO:root:465 residues in this chain.\n",
      "INFO:root:Finished prediction in 15.76 seconds.\n",
      "INFO:root:Saving prediction to ./Davis/omega_2/MKNK2.pdb\n",
      "INFO:root:Saved\n",
      "INFO:root:Done!\n"
     ]
    },
    {
     "name": "stderr",
     "output_type": "stream",
     "text": [
      " 31%|███▏      | 164/522 [1:22:55<1:52:06, 18.79s/it]"
     ]
    },
    {
     "name": "stdout",
     "output_type": "stream",
     "text": [
      "p38-gamma.seq\n",
      "INFO:root:Reading ./Davis/cut_seqs/p38-gamma.seq\n",
      "MSSPPPARSGFYRQEVTKTAWEVRAVYRDLQPVGSGAYGAVCSAVDGRTGAKVAIKKLYRPFQSELFAKRAYRELRLLKHMRHENVIGLLDVFTPDETLDDFTDFYLVMPFMGTDLGKLMKHEKLGEDRIQFLVYQMLKGLRYIHAAGIIHRDLKPGNLAVNEDCELKILDFGLARQADSEMTGYVVTRWYRAPEVILNWMRYTQTVDIWSVGCIMAEMITGKTLFKGSDHLDQLKEIMKVTGTPPAEFVQRLQSDEAKNYMKGLPELEKKDFASILTNASPLAVNLLEKMLVLDAEQRVTAGEALAHPYFESLHDTEDEPQVQKYDDSFDDVDRTLDEWKRVTYKEVLSFKPPRQLGARVSKETPL\n",
      "INFO:root:Predicting 1th chain in ./Davis/cut_seqs/p38-gamma.seq\n",
      "INFO:root:367 residues in this chain.\n",
      "INFO:root:Finished prediction in 8.85 seconds.\n",
      "INFO:root:Saving prediction to ./Davis/omega_2/p38-gamma.pdb\n",
      "INFO:root:Saved\n",
      "INFO:root:Done!\n"
     ]
    },
    {
     "name": "stderr",
     "output_type": "stream",
     "text": [
      " 32%|███▏      | 165/522 [1:23:04<1:34:36, 15.90s/it]"
     ]
    },
    {
     "name": "stdout",
     "output_type": "stream",
     "text": [
      "JNK2.seq\n",
      "INFO:root:Reading ./Davis/cut_seqs/JNK2.seq\n",
      "MSDSKCDSQFYSVQVADSTFTVLKRYQQLKPIGSGAQGIVCAAFDTVLGINVAVKKLSRPFQNQTHAKRAYRELVLLKCVNHKNIISLLNVFTPQKTLEEFQDVYLVMELMDANLCQVIHMELDHERMSYLLYQMLCGIKHLHSAGIIHRDLKPSNIVVKSDCTLKILDFGLARTACTNFMMTPYVVTRYYRAPEVILGMGYKENVDIWSVGCIMGELVKGCVIFQGTDHIDQWNKVIEQLGTPSAEFMKKLQPTVRNYVENRPKYPGIKFEELFPDWIFPSESERDKIKTSQARDLLSKMLVIDPDKRISVDEALRHPYITVWYDPAEAEAPPPQIYDAQLEEREHAIEEWKELIYKEVMDWEERSKNGVVKDQPSDAAVSSNATPSQSSSINDISSMSTEQTLASDTDSSLDASTGPLEGCR\n",
      "INFO:root:Predicting 1th chain in ./Davis/cut_seqs/JNK2.seq\n",
      "INFO:root:424 residues in this chain.\n",
      "INFO:root:Finished prediction in 12.16 seconds.\n",
      "INFO:root:Saving prediction to ./Davis/omega_2/JNK2.pdb\n",
      "INFO:root:Saved\n",
      "INFO:root:Done!\n"
     ]
    },
    {
     "name": "stderr",
     "output_type": "stream",
     "text": [
      " 32%|███▏      | 166/522 [1:23:17<1:28:21, 14.89s/it]"
     ]
    },
    {
     "name": "stdout",
     "output_type": "stream",
     "text": [
      "SYK.seq\n",
      "INFO:root:Reading ./Davis/cut_seqs/SYK.seq\n",
      "MASSGMADSANHLPFFFGNITREEAEDYLVQGGMSDGLYLLRQSRNYLGGFALSVAHGRKAHHYTIERELNGTYAIAGGRTHASPADLCHYHSQESDGLVCLLKKPFNRPQGVQPKTGPFEDLKENLIREYVKQTWNLQGQALEQAIISQKPQLEKLIATTAHEKMPWFHGKISREESEQIVLIGSKTNGKFLIRARDNNGSYALCLLHEGKVLHYRIDKDKTGKLSIPEGKKFDTLWQLVEHYSYKADGLLRVLTVPCQKIGTQGNVNFGGRPQLPGSHPATWSAGGIISRIKSYSFPKPGHRKSSPAQGNRQESTVSFNPYEPELAPWAADKGPQREALPMDTEVYESPYADPEEIRPKEVYLDRKLLTLEDKELGSGNFGTVKKGYYQMKKVVKTVAVKILKNEANDPALKDELLAEANVMQQLDNPYIVRMIGICEAESWMLVMEMAELGPLNKYLQQNRHVKDKNIIELVHQVSMGMKYLEESNFVHRDLAARNVLLVTQHYAKISDFGLSKALRADENYYKAQTHGKWPVKWYAPECINYYKFSSKSDVWSFGVLMWEAFSYGQKPYRGMKGSEVTAMLEKGERMGCPAGCPREMYDLMNLCWTYDVENRPGFAAVELRLRNYYYDVVN\n",
      "INFO:root:Predicting 1th chain in ./Davis/cut_seqs/SYK.seq\n",
      "INFO:root:635 residues in this chain.\n",
      "INFO:root:Finished prediction in 34.34 seconds.\n",
      "INFO:root:Saving prediction to ./Davis/omega_2/SYK.pdb\n",
      "INFO:root:Saved\n",
      "INFO:root:Done!\n"
     ]
    },
    {
     "name": "stderr",
     "output_type": "stream",
     "text": [
      " 32%|███▏      | 167/522 [1:23:52<2:04:07, 20.98s/it]"
     ]
    },
    {
     "name": "stdout",
     "output_type": "stream",
     "text": [
      "JAK2(JH1domain-catalytic)_0.seq\n",
      "INFO:root:Reading ./Davis/cut_seqs/JAK2(JH1domain-catalytic)_0.seq\n",
      "MGMACLTMTEMEGTSTSSIYQNGDISGNANSMKQIDPVLQVYLYHSLGKSEADYLTFPSGEYVAEEICIAASKACGITPVYHNMFALMSETERIWYPPNHVFHIDESTRHNVLYRIRFYFPRWYCSGSNRAYRHGISRGAEAPLLDDFVMSYLFAQWRHDFVHGWIKVPVTHETQEECLGMAVLDMMRIAKENDQTPLAIYNSISYKTFLPKCIRAKIQDYHILTRKRIRYRFRRFIQQFSQCKATARNLKLKYLINLETLQSAFYTEKFEVKEPGSGPSGEEIFATIIITGNGGIQWSRGKHKESETLTEQDLQLYCDFPNIIDVSIKQANQEGSNESRVVTIHKQDGKNLEIELSSLREALSFVSLIDGYYRLTADAHHYLCKEVAPPAVLENIQSNCHGPISMDFAISKLKKAGNQTGLYVLRCSPKDFNKYFLTFAVERENVIEYKHCLITKNENEEYNLSGTKKNFSSLKDLLNCYQMETVRSDNIIFQFTKCCPPKPKDKSNLLVFRTNGVSDVPTSPTLQRPTHMNQMVFHKIRNEDLIFNESLGQGTFTKIFKGVRREVGDYGQLHETEVLLKVLDKAHRNYSESFFEAASMMSKLSHKHLVLNYGVCVCGDENILVQEFVKFGSLDTYLKKNKNCINILWKLEVAKQLAWAMHFLEENTLIHGNVCAKNILLIREEDRKTGNPPFIKLSDPGISITVLPKDILQERIPWVPPECIENPKNLNLATDKWSFGTTLWEICSGGDKPLSALDSQRKLQFYEDRHQLPAPKWAELANLINNCMDYEPDFRPSFRA\n",
      "INFO:root:Predicting 1th chain in ./Davis/cut_seqs/JAK2(JH1domain-catalytic)_0.seq\n",
      "INFO:root:800 residues in this chain.\n",
      "INFO:root:Finished prediction in 57.40 seconds.\n",
      "INFO:root:Saving prediction to ./Davis/omega_2/JAK2(JH1domain-catalytic)_0.pdb\n",
      "INFO:root:Saved\n",
      "INFO:root:Done!\n"
     ]
    },
    {
     "name": "stderr",
     "output_type": "stream",
     "text": [
      " 32%|███▏      | 168/522 [1:24:50<3:10:13, 32.24s/it]"
     ]
    },
    {
     "name": "stdout",
     "output_type": "stream",
     "text": [
      "LIMK2.seq\n",
      "INFO:root:Reading ./Davis/cut_seqs/LIMK2.seq\n",
      "MSALAGEDVWRCPGCGDHIAPSQIWYRTVNETWHGSCFRCSECQDSLTNWYYEKDGKLYCPKDYWGKFGEFCHGCSLLMTGPFMVAGEFKYHPECFACMSCKVIIEDGDAYALVQHATLYCGKCHNEVVLAPMFERLSTESVQEQLPYSVTLISMPATTEGRRGFSVSVESACSNYATTVQVKEVNRMHISPNNRNAIHPGDRILEINGTPVRTLRVEEVEDAISQTSQTLQLLIEHDPVSQRLDQLRLEARLAPHMQNAGHPHALSTLDTKENLEGTLRRRSLRRSNSISKSPGPSSPKEPLLFSRDISRSESLRCSSSYSQQIFRPCDLIHGEVLGKGFFGQAIKVTHKATGKVMVMKELIRCDEETQKTFLTEVKVMRSLDHPNVLKFIGVLYKDKKLNLLTEYIEGGTLKDFLRSMDPFPWQQKVRFAKGIASGMAYLHSMCIIHRDLNSHNCLIKLDKTVVVADFGLSRLIVEERKRAPMEKATTKKRTLRKNDRKKRYTVVGNPYWMAPEMLNGKSYDETVDIFSFGIVLCEIIGQVYADPDCLPRTLDFGLNVKLFWEKFVPTDCPPAFFPLAAICCRLEPESRPAFSKLEDSFEALSLYLGELGIPLPAELEELDHTVSMQYGLTRDSPP\n",
      "INFO:root:Predicting 1th chain in ./Davis/cut_seqs/LIMK2.seq\n",
      "INFO:root:638 residues in this chain.\n",
      "INFO:root:Finished prediction in 34.64 seconds.\n",
      "INFO:root:Saving prediction to ./Davis/omega_2/LIMK2.pdb\n",
      "INFO:root:Saved\n",
      "INFO:root:Done!\n"
     ]
    },
    {
     "name": "stderr",
     "output_type": "stream",
     "text": [
      " 32%|███▏      | 169/522 [1:25:25<3:15:03, 33.15s/it]"
     ]
    },
    {
     "name": "stdout",
     "output_type": "stream",
     "text": [
      "RPS6KA5(KinDom.1-N-terminal)_0.seq\n",
      "INFO:root:Reading ./Davis/cut_seqs/RPS6KA5(KinDom.1-N-terminal)_0.seq\n",
      "MEEEGGSSGGAAGTSADGGDGGEQLLTVKHELRTANLTGHAEKVGIENFELLKVLGTGAYGKVFLVRKISGHDTGKLYAMKVLKKATIVQKAKTTEHTRTERQVLEHIRQSPFLVTLHYAFQTETKLHLILDYINGGELFTHLSQRERFTEHEVQIYVGEIVLALEHLHKLGIIYRDIKLENILLDSNGHVVLTDFGLSKEFVADETERAYSFCGTIEYMAPDIVRGGDSGHDKAVDWWSLGVLMYELLTGASPFTVDGEKNSQAEISRRILKSEPPYPQEMSALAKDLIQRLLMKDPKKRLGCGPRDADEIKEHLFFQKINWDDLAAKKVPAPFKPVIRDELDVSNFAEEFTEMDPTYSPAALPQSSEKLFQGYSFVAPSILFKRNAAVIDPLQFHMGVERPGVTNVARSAMMKDSPFYQHYDLDLKDKPLGEGSFSICRKCVHKKSNQAFAVKIISKRMEANTQKEITALKLCEGHPNIVKLHEVFHDQLHTFLVMELLNGGELFERIKKKKHFSETEASYIMRKLVSAVSHMHDVGVVHRDLKPENLLFTDENDNLEIKIIDFGFARLKPPDNQPLKTPCFTLHYAAPELLNQNGYDESCDLWSLGVILYTMLSGQVPFQSHDRSLTCTSAVEIMKKIKKGDFSFEGEAWKNVSQEAKDLIQGLLTVDPNKRLKMSGLRYNEWLQDGSQLSSNPLMTPDILGSSGAAVHTCVKATFHAFNKYKREGFCLQNVDKAPLAKRRKMKKTSTSTETRSSSSESSHSSSSHSHGKTTPTKTLQPSNPADSNNPETLFQFSDS\n",
      "INFO:root:Predicting 1th chain in ./Davis/cut_seqs/RPS6KA5(KinDom.1-N-terminal)_0.seq\n",
      "INFO:root:800 residues in this chain.\n",
      "INFO:root:Finished prediction in 57.09 seconds.\n",
      "INFO:root:Saving prediction to ./Davis/omega_2/RPS6KA5(KinDom.1-N-terminal)_0.pdb\n",
      "INFO:root:Saved\n",
      "INFO:root:Done!\n"
     ]
    },
    {
     "name": "stderr",
     "output_type": "stream",
     "text": [
      " 33%|███▎      | 170/522 [1:26:23<3:58:08, 40.59s/it]"
     ]
    },
    {
     "name": "stdout",
     "output_type": "stream",
     "text": [
      "DRAK2.seq\n",
      "INFO:root:Reading ./Davis/cut_seqs/DRAK2.seq\n",
      "MSRRRFDCRSISGLLTTTPQIPIKMENFNNFYILTSKELGRGKFAVVRQCISKSTGQEYAAKFLKKRRRGQDCRAEILHEIAVLELAKSCPRVINLHEVYENTSEIILILEYAAGGEIFSLCLPELAEMVSENDVIRLIKQILEGVYYLHQNNIVHLDLKPQNILLSSIYPLGDIKIVDFGMSRKIGHACELREIMGTPEYLAPEILNYDPITTATDMWNIGIIAYMLLTHTSPFVGEDNQETYLNISQVNVDYSEETFSSVSQLATDFIQSLLVKNPEKRPTAEICLSHSWLQQWDFENLFHPEETSSSSQTQDHSVRSSEDKTSKSSCNGTCGDREDKENIPEDSSMVSKRFRFDDSLPNPHELVSDLLC\n",
      "INFO:root:Predicting 1th chain in ./Davis/cut_seqs/DRAK2.seq\n",
      "INFO:root:372 residues in this chain.\n",
      "INFO:root:Finished prediction in 8.93 seconds.\n",
      "INFO:root:Saving prediction to ./Davis/omega_2/DRAK2.pdb\n",
      "INFO:root:Saved\n",
      "INFO:root:Done!\n"
     ]
    },
    {
     "name": "stderr",
     "output_type": "stream",
     "text": [
      " 33%|███▎      | 171/522 [1:26:33<3:02:27, 31.19s/it]"
     ]
    },
    {
     "name": "stdout",
     "output_type": "stream",
     "text": [
      "CAMKK1.seq\n",
      "INFO:root:Reading ./Davis/cut_seqs/CAMKK1.seq\n",
      "MEGGPAVCCQDPRAELVERVAAIDVTHLEEADGGPEPTRNGVDPPPRARAASVIPGSTSRLLPARPSLSARKLSLQERPAGSYLEAQAGPYATGPASHISPRAWRRPTIESHHVAISDAEDCVQLNQYKLQSEIGKGAYGVVRLAYNESEDRHYAMKVLSKKKLLKQYGFPRRPPPRGSQAAQGGPAKQLLPLERVYQEIAILKKLDHVNVVKLIEVLDDPAEDNLYLVFDLLRKGPVMEVPCDKPFSEEQARLYLRDVILGLEYLHCQKIVHRDIKPSNLLLGDDGHVKIADFGVSNQFEGNDAQLSSTAGTPAFMAPEAISDSGQSFSGKALDVWATGVTLYCFVYGKCPFIDDFILALHRKIKNEPVVFPEEPEISEELKDLILKMLDKNPETRIGVPDIKLHPWVTKNGEEPLPSEEEHCSVVEVTEEEVKNSVRLIPSWTTVILVKSMLRKRSFGNPFEPQARREERSMSAPGNLLVKEGFGEGGKSPELPGVQEDEAAS\n",
      "INFO:root:Predicting 1th chain in ./Davis/cut_seqs/CAMKK1.seq\n",
      "INFO:root:505 residues in this chain.\n",
      "INFO:root:Finished prediction in 19.16 seconds.\n",
      "INFO:root:Saving prediction to ./Davis/omega_2/CAMKK1.pdb\n",
      "INFO:root:Saved\n",
      "INFO:root:Done!\n"
     ]
    },
    {
     "name": "stderr",
     "output_type": "stream",
     "text": [
      " 33%|███▎      | 172/522 [1:26:52<2:41:45, 27.73s/it]"
     ]
    },
    {
     "name": "stdout",
     "output_type": "stream",
     "text": [
      "BMPR1B.seq\n",
      "INFO:root:Reading ./Davis/cut_seqs/BMPR1B.seq\n",
      "MLLRSAGKLNVGTKKEDGESTAPTPRPKVLRCKCHHHCPEDSVNNICSTDGYCFTMIEEDDSGLPVVTSGCLGLEGSDFQCRDTPIPHQRRSIECCTERNECNKDLHPTLPPLKNRDFVDGPIHHRALLISVTVCSLLLVLIILFCYFRYKRQETRPRYSIGLEQDETYIPPGESLRDLIEQSQSSGSGSGLPLLVQRTIAKQIQMVKQIGKGRYGEVWMGKWRGEKVAVKVFFTTEEASWFRETEIYQTVLMRHENILGFIAADIKGTGSWTQLYLITDYHENGSLYDYLKSTTLDAKSMLKLAYSSVSGLCHLHTEIFSTQGKPAIAHRDLKSKNILVKKNGTCCIADLGLAVKFISDTNEVDIPPNTRVGTKRYMPPEVLDESLNRNHFQSYIMADMYSFGLILWEVARRCVSGGIVEEYQLPYHDLVPSDPSYEDMREIVCIKKLRPSFPNRWSSDECLRQMGKLMTECWAHNPASRLTALRVKKTLAKMSESQDIKL\n",
      "INFO:root:Predicting 1th chain in ./Davis/cut_seqs/BMPR1B.seq\n",
      "INFO:root:502 residues in this chain.\n",
      "INFO:root:Finished prediction in 18.63 seconds.\n",
      "INFO:root:Saving prediction to ./Davis/omega_2/BMPR1B.pdb\n",
      "INFO:root:Saved\n",
      "INFO:root:Done!\n"
     ]
    },
    {
     "name": "stderr",
     "output_type": "stream",
     "text": [
      " 33%|███▎      | 173/522 [1:27:11<2:26:19, 25.16s/it]"
     ]
    },
    {
     "name": "stdout",
     "output_type": "stream",
     "text": [
      "ASK2_1.seq\n",
      "INFO:root:Reading ./Davis/cut_seqs/ASK2_1.seq\n",
      "TPCTETFTGTLQYMAPEIIDQGPRGYGKAADIWSLGCTVIEMATGRPPFHELGSPQAAMFQVGMYKVHPPMPSSLSAEAQAFLLRTFEPDPRLRASAQTLLGDPFLQPGKRSRSPSSPRHAPRPSDAPSASPTPSANSTTQSQTFPCPQAPSQHPPSPPKRCLSYGGTSQLRVPEEPAAEEPASPEESSGLSLLHQESKRRAMLAAVLEQELPALAENLHQEQKQEQGARLGRNHVEELLRCLGAHIHTPNRRQLAQELRALQGRLRAQGLGPALLHRPLFAFPDAVKQILRKRQIRPHWMFVLDSLLSRAVRAALGVLGPEVEKEAVSPRSEELSNEGDSQQSPGQQSPLPVEPEQGPAPLMVQLSLLRAETDRLREILAGKEREYQALVQRALQRLNEEARTYVLAPEPPTALSTDQGLVQWLQELNVDSGTIQMLLNHSFTLHTLLTYATRDDLIYTRIRGGMVCRIWRAILAQRAGSTPVTSGP\n",
      "INFO:root:Predicting 1th chain in ./Davis/cut_seqs/ASK2_1.seq\n",
      "INFO:root:488 residues in this chain.\n",
      "INFO:root:Finished prediction in 17.21 seconds.\n",
      "INFO:root:Saving prediction to ./Davis/omega_2/ASK2_1.pdb\n",
      "INFO:root:Saved\n",
      "INFO:root:Done!\n"
     ]
    },
    {
     "name": "stderr",
     "output_type": "stream",
     "text": [
      " 33%|███▎      | 174/522 [1:27:29<2:12:54, 22.92s/it]"
     ]
    },
    {
     "name": "stdout",
     "output_type": "stream",
     "text": [
      "ERN1_1.seq\n",
      "INFO:root:Reading ./Davis/cut_seqs/ERN1_1.seq\n",
      "EDVIARELIEKMIAMDPQKRPSAKHVLKHPFFWSLEKQLQFFQDVSDRIEKESLDGPIVKQLERGGRAVVKMDWRENITVPLQTDLRKFRTYKGGSVRDLLRAMRNKKHHYRELPAEVRETLGSLPDDFVCYFTSRFPHLLAHTYRAMELCSHERLFQPYYFHEPPEPQPPVTPDAL\n",
      "INFO:root:Predicting 1th chain in ./Davis/cut_seqs/ERN1_1.seq\n",
      "INFO:root:177 residues in this chain.\n",
      "INFO:root:Finished prediction in 1.77 seconds.\n",
      "INFO:root:Saving prediction to ./Davis/omega_2/ERN1_1.pdb\n",
      "INFO:root:Saved\n",
      "INFO:root:Done!\n"
     ]
    },
    {
     "name": "stderr",
     "output_type": "stream",
     "text": [
      " 34%|███▎      | 175/522 [1:27:31<1:36:13, 16.64s/it]"
     ]
    },
    {
     "name": "stdout",
     "output_type": "stream",
     "text": [
      "TYRO3_1.seq\n",
      "INFO:root:Reading ./Davis/cut_seqs/TYRO3_1.seq\n",
      "DPLYINIERAEEPTAGGSLELPGRDQPYSGAGDGSGMGAVGGTPSDCRYILTPGGLAEQPGQAEHQPESPLNETQRLLLLQQGLLPHSSC\n",
      "INFO:root:Predicting 1th chain in ./Davis/cut_seqs/TYRO3_1.seq\n",
      "INFO:root:90 residues in this chain.\n",
      "INFO:root:Finished prediction in 0.63 seconds.\n",
      "INFO:root:Saving prediction to ./Davis/omega_2/TYRO3_1.pdb\n",
      "INFO:root:Saved\n",
      "INFO:root:Done!\n"
     ]
    },
    {
     "name": "stderr",
     "output_type": "stream",
     "text": [
      " 34%|███▎      | 176/522 [1:27:32<1:08:32, 11.89s/it]"
     ]
    },
    {
     "name": "stdout",
     "output_type": "stream",
     "text": [
      "GAK_0.seq\n",
      "INFO:root:Reading ./Davis/cut_seqs/GAK_0.seq\n",
      "MSLLQSALDFLAGPGSLGGASGRDQSDFVGQTVELGELRLRVRRVLAEGGFAFVYEAQDVGSGREYALKRLLSNEEEKNRAIIQEVCFMKKLSGHPNIVQFCSAASIGKEESDTGQAEFLLLTELCKGQLVEFLKKMESRGPLSCDTVLKIFYQTCRAVQHMHRQKPPIIHRDLKVENLLLSNQGTIKLCDFGSATTISHYPDYSWSAQRRALVEEEITRNTTPMYRTPEIIDLYSNFPIGEKQDIWALGCILYLLCFRQHPFEDGAKLRIVNGKYSIPPHDTQYTVFHSLIRAMLQVNPEERLSIAEVVHQLQEIAAARNVNPKSPITELLEQNGGYGSATLSRGPPPPVGPAGSGYSGGLALAEYDQPYGGFLDILRGGTERLFTNLKDTSSKVIQSVANYAKGDLDISYITSRIAVMSFPAEGVESALKNNIEDVRLFLDSKHPGHYAVYNLSPRTYRPSRFHNRVSECGWAARRAPHLHTLYNICRNMHAWLRQDHKNVCVVHCMDGRAASAVAVCSFLCFCRLFSTAEAAVYMFSMKRCPPGIWPSHKRYIEYMCDMVAEEPITPHSKPILVRAVVMTPVPLFSKQRSGCRPFCEVYVGDERVASTSQEYDKMRDFKIEDGKAVIPLGVTVQGDVLIVIYHARSTLGGRLQAKMASMKMFQIQFHTGFVPRNATTVKFAKYDLDACDIQEKYPDLFQVNLEVEVEPRDRPSREAPPWENSSMRGLNPKILFSSREEQQDILSKFGKPELPRQPGSTAQYDAGAGSPEAEPTDSDSPPSSSADASRFLHTLDWQEE\n",
      "INFO:root:Predicting 1th chain in ./Davis/cut_seqs/GAK_0.seq\n",
      "INFO:root:800 residues in this chain.\n",
      "INFO:root:Finished prediction in 57.12 seconds.\n",
      "INFO:root:Saving prediction to ./Davis/omega_2/GAK_0.pdb\n",
      "INFO:root:Saved\n",
      "INFO:root:Done!\n"
     ]
    },
    {
     "name": "stderr",
     "output_type": "stream",
     "text": [
      " 34%|███▍      | 177/522 [1:28:30<2:28:02, 25.75s/it]"
     ]
    },
    {
     "name": "stdout",
     "output_type": "stream",
     "text": [
      "MEK1.seq\n",
      "INFO:root:Reading ./Davis/cut_seqs/MEK1.seq\n",
      "MPKKKPTPIQLNPAPDGSAVNGTSSAETNLEALQKKLEELELDEQQRKRLEAFLTQKQKVGELKDDDFEKISELGAGNGGVVFKVSHKPSGLVMARKLIHLEIKPAIRNQIIRELQVLHECNSPYIVGFYGAFYSDGEISICMEHMDGGSLDQVLKKAGRIPEQILGKVSIAVIKGLTYLREKHKIMHRDVKPSNILVNSRGEIKLCDFGVSGQLIDSMANSFVGTRSYMSPERLQGTHYSVQSDIWSMGLSLVEMAVGRYPIPPPDAKELELMFGCQVEGDAAETPPRPRTPGRPLSSYGMDSRPPMAIFELLDYIVNEPPPKLPSGVFSLEFQDFVNKCLIKNPAERADLKQLMVHAFIKRSDAEEVDFAGWLCSTIGLNQPSTPTHAAGV\n",
      "INFO:root:Predicting 1th chain in ./Davis/cut_seqs/MEK1.seq\n",
      "INFO:root:393 residues in this chain.\n",
      "INFO:root:Finished prediction in 10.50 seconds.\n",
      "INFO:root:Saving prediction to ./Davis/omega_2/MEK1.pdb\n",
      "INFO:root:Saved\n",
      "INFO:root:Done!\n"
     ]
    },
    {
     "name": "stderr",
     "output_type": "stream",
     "text": [
      " 34%|███▍      | 178/522 [1:28:41<2:02:03, 21.29s/it]"
     ]
    },
    {
     "name": "stdout",
     "output_type": "stream",
     "text": [
      "DAPK3.seq\n",
      "INFO:root:Reading ./Davis/cut_seqs/DAPK3.seq\n",
      "MSTFRQEDVEDHYEMGEELGSGQFAIVRKCRQKGTGKEYAAKFIKKRRLSSSRRGVSREEIEREVNILREIRHPNIITLHDIFENKTDVVLILELVSGGELFDFLAEKESLTEDEATQFLKQILDGVHYLHSKRIAHFDLKPENIMLLDKNVPNPRIKLIDFGIAHKIEAGNEFKNIFGTPEFVAPEIVNYEPLGLEADMWSIGVITYILLSGASPFLGETKQETLTNISAVNYDFDEEYFSNTSELAKDFIRRLLVKDPKRRMTIAQSLEHSWIKAIRRRNVRGEDSGRKPERRRLKTTRLKEYTIKSHSSLPPNNSYADFERFSKVLEEAAAAEEGLRELQRSRRLCHEDVEALAAIYEEKEAWYREESDSLGQDLRRLRQELLKTEALKRQAQEEAKGALLGTSGLKRRFSRLENRYEALAKQVASEMRFVQDLVRALEQEKLQGVECGLR\n",
      "INFO:root:Predicting 1th chain in ./Davis/cut_seqs/DAPK3.seq\n",
      "INFO:root:454 residues in this chain.\n",
      "INFO:root:Finished prediction in 14.83 seconds.\n",
      "INFO:root:Saving prediction to ./Davis/omega_2/DAPK3.pdb\n",
      "INFO:root:Saved\n",
      "INFO:root:Done!\n"
     ]
    },
    {
     "name": "stderr",
     "output_type": "stream",
     "text": [
      " 34%|███▍      | 179/522 [1:28:56<1:51:24, 19.49s/it]"
     ]
    },
    {
     "name": "stdout",
     "output_type": "stream",
     "text": [
      "MAP3K1_0.seq\n",
      "INFO:root:Reading ./Davis/cut_seqs/MAP3K1_0.seq\n",
      "MAAAAGNRASSSGFPGARATSPEAGGGGGALKASSAPAAAAGLLREAGSGGRERADWRRRQLRKVRSVELDQLPEQPLFLAASPPASSTSPSPEPADAAGSGTGFQPVAVPPPHGAASRGGAHLTESVAAPDSGASSPAAAEPGEKRAPAAEPSPAAAPAGREMENKETLKGLHKMDDRPEERMIREKLKATCMPAWKHEWLERRNRRGPVVVKPIPVKGDGSEMNHLAAESPGEVQASAASPASKGRRSPSPGNSPSGRTVKSESPGVRRKRVSPVPFQSGRITPPRRAPSPDGFSPYSPEETNRRVNKVMRARLYLLQQIGPNSFLIGGDSPDNKYRVFIGPQNCSCARGTFCIHLLFVMLRVFQLEPSDPMLWRKTLKNFEVESLFQKYHSRRSSRIKAPSRNTIQKFVSRMSNSHTLSSSSTSTSSSENSIKDEEEQMCPICLLGMLDEESLTVCEDGCRNKLHHHCMSIWAEECRRNREPLICPLCRSKWRSHDFYSHELSSPVDSPSSLRAAQQQTVQQQPLAGSRRNQESNFNLTHYGTQQIPPAYKDLAEPWIQVFGMELVGCLFSRNWNVREMALRRLSHDVSGALLLANGESTGNSGGSSGSSPSGGATSGSSQTSISGDVVEACCSVLSMVCADPVYKVYVAALKTLRAMLVYTPCHSLAERIKLQRLLQPVVDTILVKCADANSRTSQLSISTLLELCKGQAGELAVGREILKAGSIGIGGVDYVLNCILGNQTESNNWQELLGRLCLIDRLLLEFPAEFYPHIVSTDVSQAEPVEIRYKKLLSLLTF\n",
      "INFO:root:Predicting 1th chain in ./Davis/cut_seqs/MAP3K1_0.seq\n",
      "INFO:root:800 residues in this chain.\n",
      "INFO:root:Finished prediction in 57.05 seconds.\n",
      "INFO:root:Saving prediction to ./Davis/omega_2/MAP3K1_0.pdb\n",
      "INFO:root:Saved\n",
      "INFO:root:Done!\n"
     ]
    },
    {
     "name": "stderr",
     "output_type": "stream",
     "text": [
      " 34%|███▍      | 180/522 [1:29:55<2:57:48, 31.19s/it]"
     ]
    },
    {
     "name": "stdout",
     "output_type": "stream",
     "text": [
      "PHKG2.seq\n",
      "INFO:root:Reading ./Davis/cut_seqs/PHKG2.seq\n",
      "MTLDVGPEDELPDWAAAKEFYQKYDPKDVIGRGVSSVVRRCVHRATGHEFAVKIMEVTAERLSPEQLEEVREATRRETHILRQVAGHPHIITLIDSYESSSFMFLVFDLMRKGELFDYLTEKVALSEKETRSIMRSLLEAVSFLHANNIVHRDLKPENILLDDNMQIRLSDFGFSCHLEPGEKLRELCGTPGYLAPEILKCSMDETHPGYGKEVDLWACGVILFTLLAGSPPFWHRRQILMLRMIMEGQYQFSSPEWDDRSSTVKDLISRLLQVDPEARLTAEQALQHPFFERCEGSQPWNLTPRQRFRVAVWTVLAAGRVALSTHRVRPLTKNALLRDPYALRSVRHLIDNCAFRLYGHWVKKGEQQNRAALFQHRPPGPFPIMGPEEEGDSAAITEDEAVLVLG\n",
      "INFO:root:Predicting 1th chain in ./Davis/cut_seqs/PHKG2.seq\n",
      "INFO:root:406 residues in this chain.\n",
      "INFO:root:Finished prediction in 11.29 seconds.\n",
      "INFO:root:Saving prediction to ./Davis/omega_2/PHKG2.pdb\n",
      "INFO:root:Saved\n",
      "INFO:root:Done!\n"
     ]
    },
    {
     "name": "stderr",
     "output_type": "stream",
     "text": [
      " 35%|███▍      | 181/522 [1:30:08<2:26:13, 25.73s/it]"
     ]
    },
    {
     "name": "stdout",
     "output_type": "stream",
     "text": [
      "MYO3A_0.seq\n",
      "INFO:root:Reading ./Davis/cut_seqs/MYO3A_0.seq\n",
      "MFPLIGKTIIFDNFPDPSDTWEITETIGKGTYGKVFKVLNKKNGQKAAVKILDPIHDIDEEIEAEYNILKALSDHPNVVRFYGIYFKKDKVNGDKLWLVLELCSGGSVTDLVKGFLKRGERMSEPLIAYILHEALMGLQHLHNNKTIHRDVKGNNILLTTEGGVKLVDFGVSAQLTSTRHRRNTSVGTPFWMAPEVIACEQQLDTTYDARCDTWSLGITAIELGDGDPPLADLHPMRALFKIPRNPPPKLRQPELWSAEFNDFISKCLTKDYEKRPTVSELLQHKFITQIEGKDVMLQKQLTEFIGIHQCMGGTEKARRERIHTKKGNFNRPLISNLKDVDDLATLEILDENTVSEQLEKCYSRDQIYVYVGDILIALNPFQSLGLYSTKHSKLYIGSKRTASPPHIFAMADLGYQSMITYNSDQCIVISGESGAGKTENAHLLVQQLTVLGKANNRTLQEKILQVNNLVEAFGNACTIINDNSSRFGKYLEMKFTSSGAVVGAQISEYLLEKSRVIHQAIGEKNFHIFYYIYAGLAEKKKLAHYKLPENKPPRYLQNDHLRTVQDIMNNSFYKSQYELIEQCFKVIGFTMEQLGSIYSILAAILNVGNIEFSSVATEHQIDKSHISNHTALENCASLLCIRADELQEALTSHCVVTRGETIIRPNTVEKATDVRDAMAKTLYGRLFSWIVNCINSLLKHDSSPSGNGDELSIGILDIFGFENFKKNSFEQLCINIANEQIQYYYNQHVFAWEQNEYLNEDVDARVIEYEDNWPLLDMFLQKPMGLLSLLDEESRFPKAT\n",
      "INFO:root:Predicting 1th chain in ./Davis/cut_seqs/MYO3A_0.seq\n",
      "INFO:root:800 residues in this chain.\n",
      "INFO:root:Finished prediction in 57.08 seconds.\n",
      "INFO:root:Saving prediction to ./Davis/omega_2/MYO3A_0.pdb\n",
      "INFO:root:Saved\n",
      "INFO:root:Done!\n"
     ]
    },
    {
     "name": "stderr",
     "output_type": "stream",
     "text": [
      " 35%|███▍      | 182/522 [1:31:06<3:20:42, 35.42s/it]"
     ]
    },
    {
     "name": "stdout",
     "output_type": "stream",
     "text": [
      "ICK.seq\n",
      "INFO:root:Reading ./Davis/cut_seqs/ICK.seq\n",
      "MNRYTTIRQLGDGTYGSVLLGRSIESGELIAIKKMKRKFYSWEECMNLREVKSLKKLNHANVVKLKEVIRENDHLYFIFEYMKENLYQLIKERNKLFPESAIRNIMYQILQGLAFIHKHGFFHRDLKPENLLCMGPELVKIADFGLAREIRSKPPYTDYVSTRWYRAPEVLLRSTNYSSPIDVWAVGCIMAEVYTLRPLFPGASEIDTIFKICQVLGTPKKTDWPEGYQLSSAMNFRWPQCVPNNLKTLIPNASSEAVQLLRDMLQWDPKKRPTASQALRYPYFQVGHPLGSTTQNLQDSEKPQKGILEKAGPPPYIKPVPPAQPPAKPHTRISSRQHQASQPPLHLTYPYKAEVSRTDHPSHLQEDKPSPLLFPSLHNKHPQSKITAGLEHKNGEIKPKSRRRWGLISRSTKDSDDWADLDDLDFSPSLSRIDLKNKKRQSDDTLCRFESVLDLKPSEPVGTGNSAPTQTSYQRRDTPTLRSAAKQHYLKHSRYLPGISIRNGILSNPGKEFIPPNPWSSSGLSGKSSGTMSVISKVNSVGSSSTSSSGLTGNYVPSFLKKEIGSAMQRVHLAPIPDPSPGYSSLKAMRPHPGRPFFHTQPRSTPGLIPRPPAAQPVHGRTDWASKYASRR\n",
      "INFO:root:Predicting 1th chain in ./Davis/cut_seqs/ICK.seq\n",
      "INFO:root:632 residues in this chain.\n",
      "INFO:root:Finished prediction in 32.46 seconds.\n",
      "INFO:root:Saving prediction to ./Davis/omega_2/ICK.pdb\n",
      "INFO:root:Saved\n",
      "INFO:root:Done!\n"
     ]
    },
    {
     "name": "stderr",
     "output_type": "stream",
     "text": [
      " 35%|███▌      | 183/522 [1:31:39<3:16:10, 34.72s/it]"
     ]
    },
    {
     "name": "stdout",
     "output_type": "stream",
     "text": [
      "YANK3.seq\n",
      "INFO:root:Reading ./Davis/cut_seqs/YANK3.seq\n",
      "MRSGAERRGSSAAASPGSPPPGRARPAGSDAPSALPPPAAGQPRARDSGDVRSQPRPLFQWSKWKKRMGSSMSAATARRPVFDDKEDVNFDHFQILRAIGKGSFGKVCIVQKRDTEKMYAMKYMNKQQCIERDEVRNVFRELEILQEIEHVFLVNLWYSFQDEEDMFMVVDLLLGGDLRYHLQQNVQFSEDTVRLYICEMALALDYLRGQHIIHRDVKPDNILLDERGHAHLTDFNIATIIKDGERATALAGTKPYMAPEIFHSFVNGGTGYSFEVDWWSVGVMAYELLRGWRPYDIHSSNAVESLVQLFSTVSVQYVPTWSKEMVALLRKLLTVNPEHRLSSLQDVQAAPALAGVLWDHLSEKRVEPGFVPNKGRLHCDPTFELEEMILESRPLHKKKKRLAKNKSRDNSRDSSQSENDYLQDCLDAIQQDFVIFNREKLKRSQDLPREPLPAPESRDAAEPVEDEAERSALPMCGPICPSAGSG\n",
      "INFO:root:Predicting 1th chain in ./Davis/cut_seqs/YANK3.seq\n",
      "INFO:root:486 residues in this chain.\n",
      "INFO:root:Finished prediction in 17.40 seconds.\n",
      "INFO:root:Saving prediction to ./Davis/omega_2/YANK3.pdb\n",
      "INFO:root:Saved\n",
      "INFO:root:Done!\n"
     ]
    },
    {
     "name": "stderr",
     "output_type": "stream",
     "text": [
      " 35%|███▌      | 184/522 [1:31:57<2:47:17, 29.70s/it]"
     ]
    },
    {
     "name": "stdout",
     "output_type": "stream",
     "text": [
      "PIK3CG_0.seq\n",
      "INFO:root:Reading ./Davis/cut_seqs/PIK3CG_0.seq\n",
      "MELENYKQPVVLREDNCRRRRRMKPRSAAASLSSMELIPIEFVLPTSQRKCKSPETALLHVAGHGNVEQMKAQVWLRALETSVAADFYHRLGPHHFLLLYQKKGQWYEIYDKYQVVQTLDCLRYWKATHRSPGQIHLVQRHPPSEESQAFQRQLTALIGYDVTDVSNVHDDELEFTRRGLVTPRMAEVASRDPKLYAMHPWVTSKPLPEYLWKKIANNCIFIVIHRSTTSQTIKVSPDDTPGAILQSFFTKMAKKKSLMDIPESQSEQDFVLRVCGRDEYLVGETPIKNFQWVRHCLKNGEEIHVVLDTPPDPALDEVRKEEWPLVDDCTGVTGYHEQLTIHGKDHESVFTVSLWDCDRKFRVKIRGIDIPVLPRNTDLTVFVEANIQHGQQVLCQRRTSPKPFTEEVLWNVWLEFSIKIKDLPKGALLNLQIYCGKAPALSSKASAESPSSESKGKVQLLYYVNLLLIDHRFLLRRGEYVLHMWQISGKGEDQGSFNADKLTSATNPDKENSMSISILLDNYCHPIALPKHQPTPDPEGDRVRAEMPNQLRKQLEAIIATDPLNPLTAEDKELLWHFRYESLKHPKAYPKLFSSVKWGQQEIVAKTYQLLARREVWDQSALDVGLTMQLLDCNFSDENVRAIAVQKLESLEDDDVLHYLLQLVQAVKFEPYHDSALARFLLKRGLRNKRIGHFLFWFLRSEIAQSRHYQQRFAVILEAYLRGCGTAMLHDFTQQVQVIEMLQKVTLDIKSLSAEKYDVSSQVISQLKQKLENLQNSQLPESFRVPYDPGLKAGALAIEK\n",
      "INFO:root:Predicting 1th chain in ./Davis/cut_seqs/PIK3CG_0.seq\n",
      "INFO:root:800 residues in this chain.\n",
      "INFO:root:Finished prediction in 57.02 seconds.\n",
      "INFO:root:Saving prediction to ./Davis/omega_2/PIK3CG_0.pdb\n",
      "INFO:root:Saved\n",
      "INFO:root:Done!\n"
     ]
    },
    {
     "name": "stderr",
     "output_type": "stream",
     "text": [
      " 35%|███▌      | 185/522 [1:32:55<3:34:31, 38.19s/it]"
     ]
    },
    {
     "name": "stdout",
     "output_type": "stream",
     "text": [
      "PKN1_1.seq\n",
      "INFO:root:Reading ./Davis/cut_seqs/PKN1_1.seq\n",
      "LGVLLYEMLVGESPFPGDDEEEVFDSIVNDEVRYPRFLSAEAIGIMRRLLRRNPERRLGSSERDAEDVKKQPFFRTLGWEALLARRLPPPFVPTLSGRTDVSNFDEEFTGEAPTLSPPRDARPLTAAEQAAFLDFDFVAGGC\n",
      "INFO:root:Predicting 1th chain in ./Davis/cut_seqs/PKN1_1.seq\n",
      "INFO:root:142 residues in this chain.\n",
      "INFO:root:Finished prediction in 1.23 seconds.\n",
      "INFO:root:Saving prediction to ./Davis/omega_2/PKN1_1.pdb\n",
      "INFO:root:Saved\n",
      "INFO:root:Done!\n"
     ]
    },
    {
     "name": "stderr",
     "output_type": "stream",
     "text": [
      " 36%|███▌      | 186/522 [1:32:56<2:32:06, 27.16s/it]"
     ]
    },
    {
     "name": "stdout",
     "output_type": "stream",
     "text": [
      "ARK5.seq\n",
      "INFO:root:Reading ./Davis/cut_seqs/ARK5.seq\n",
      "MEGAAAPVAGDRPDLGLGAPGSPREAVAGATAALEPRKPHGVKRHHHKHNLKHRYELQETLGKGTYGKVKRATERFSGRVVAIKSIRKDKIKDEQDMVHIRREIEIMSSLNHPHIISIYEVFENKDKIVIIMEYASKGELYDYISERRRLSERETRHFFRQIVSAVHYCHKNGVVHRDLKLENILLDDNCNIKIADFGLSNLYQKDKFLQTFCGSPLYASPEIVNGRPYRGPEVDSWALGVLLYTLVYGTMPFDGFDHKNLIRQISSGEYREPTQPSDARGLIRWMLMVNPDRRATIEDIANHWWVNWGYKSSVCDCDALHDSESPLLARIIDWHHRSTGLQADTEAKMKGLAKPTTSEVMLERQRSLKKSKKENDFAQSGQDAVPESPSKLSSKRPKGILKKRSNSEHRSHSTGFIEGVVGPALPSTFKMEQDLCRTGVLLPSSPEAEVPGKLSPKQSATMPKKGILKKTQQRESGYYSSPERSESSELLDSNDVMGSSIPSPSPPDPARVTSHSLSCRRKGILKHSSKYSAGTMDPALVSPEMPTLESLSEPGVPAEGLSRSYSRPSSVISDDSVLSSDSFDLLDLQENRPARQRIRSCVSAENFLQIQDFEGLQNRPRPQYLKRYRNRLADSSFSLLTDMDDVTQVYKQALEICSKLN\n",
      "INFO:root:Predicting 1th chain in ./Davis/cut_seqs/ARK5.seq\n",
      "INFO:root:661 residues in this chain.\n",
      "INFO:root:Finished prediction in 37.40 seconds.\n",
      "INFO:root:Saving prediction to ./Davis/omega_2/ARK5.pdb\n",
      "INFO:root:Saved\n",
      "INFO:root:Done!\n"
     ]
    },
    {
     "name": "stderr",
     "output_type": "stream",
     "text": [
      " 36%|███▌      | 187/522 [1:33:34<2:50:06, 30.47s/it]"
     ]
    },
    {
     "name": "stdout",
     "output_type": "stream",
     "text": [
      "PIK4CB_1.seq\n",
      "INFO:root:Reading ./Davis/cut_seqs/PIK4CB_1.seq\n",
      "TTKLYDGFQYLTNGIM\n",
      "INFO:root:Predicting 1th chain in ./Davis/cut_seqs/PIK4CB_1.seq\n",
      "INFO:root:16 residues in this chain.\n",
      "INFO:root:Finished prediction in 0.50 seconds.\n",
      "INFO:root:Saving prediction to ./Davis/omega_2/PIK4CB_1.pdb\n",
      "INFO:root:Saved\n",
      "INFO:root:Done!\n"
     ]
    },
    {
     "name": "stderr",
     "output_type": "stream",
     "text": [
      " 36%|███▌      | 188/522 [1:33:35<1:59:48, 21.52s/it]"
     ]
    },
    {
     "name": "stdout",
     "output_type": "stream",
     "text": [
      "MYLK_1.seq\n",
      "INFO:root:Reading ./Davis/cut_seqs/MYLK_1.seq\n",
      "GECSCQVSLMLQNSSARALPRGREPASCEDLCGGGVGADGGGSDRYGSLRPGWPARGQGWLEEEDGEDVRGVLKRRVETRQHTEEAIRQQEVEQLDFRDLLGKKVSTKTLSEDDLKEIPAEQMDFRANLQRQVKPKTVSEEERKVHSPQQVDFRSVLAKKGTSKTPVPEKVPPPKPATPDFRSVLGGKKKLPAENGSSSAETLNAKAVESSKPLSNAQPSGPLKPVGNAKPAETLKPMGNAKPAETLKPMGNAKPDENLKSASKEELKKDVKNDVNCKRGHAGTTDNEKRSESQGTAPAFKQKLQDVHVAEGKKLLLQCQVSSDPPATIIWTLNGKTLKTTKFIILSQEGSLCSVSIEKALPEDRGLYKCVAKNDAGQAECSCQVTVDDAPASENTKAPEMKSRRPKSSLPPVLGTESDATVKKKPAPKTPPKAAMPPQIIQFPEDQKVRAGESVELFGKVTGTQPITCTWMKFRKQIQESEHMKVENSENGSKLTILAARQEHCGCYTLLVENKLGSRQAQVNLTVVDKPDPPAGTPCASDIRSSSLTLSWYGSSYDGGSAVQSYSIEIWDSANKTWKELATCRSTSFNVQDLLPDHEYKFRVRAINVYGTSEPSQESELTTVGEKPEEPKDEVEVSDDDEKEPEVDYRTVTINTEQKVSDFYDIEERLGSGKFGQVFRLVEKKTRKVWAGKFFKAYSAKEKENIRQEISIMNCLHHPKLVQCVDAFEEKANIVMVLEIVSGGELFERIIDEDFELTERECIKYMRQISEGVEYIHKQGIVHLDLKPENIMCVNKTGTR\n",
      "INFO:root:Predicting 1th chain in ./Davis/cut_seqs/MYLK_1.seq\n",
      "INFO:root:800 residues in this chain.\n",
      "INFO:root:Finished prediction in 57.03 seconds.\n",
      "INFO:root:Saving prediction to ./Davis/omega_2/MYLK_1.pdb\n",
      "INFO:root:Saved\n",
      "INFO:root:Done!\n"
     ]
    },
    {
     "name": "stderr",
     "output_type": "stream",
     "text": [
      " 36%|███▌      | 189/522 [1:34:33<3:00:00, 32.44s/it]"
     ]
    },
    {
     "name": "stdout",
     "output_type": "stream",
     "text": [
      "RIPK2.seq\n",
      "INFO:root:Reading ./Davis/cut_seqs/RIPK2.seq\n",
      "MNGEAICSALPTIPYHKLADLRYLSRGASGTVSSARHADWRVQVAVKHLHIHTPLLDSERKDVLREAEILHKARFSYILPILGICNEPEFLGIVTEYMPNGSLNELLHRKTEYPDVAWPLRFRILHEIALGVNYLHNMTPPLLHHDLKTQNILLDNEFHVKIADFGLSKWRMMSLSQSRSSKSAPEGGTIIYMPPENYEPGQKSRASIKHDIYSYAVITWEVLSRKQPFEDVTNPLQIMYSVSQGHRPVINEESLPYDIPHRARMISLIESGWAQNPDERPSFLKCLIELEPVLRTFEEITFLEAVIQLKKTKLQSVSSAIHLCDKKKMELSLNIPVNHGPQEESCGSSQLHENSGSPETSRSLPAPQDNDFLSRKAQDCYFMKLHHCPGNHSWDSTISGSQRAAFCDHKTTPCSSAIINPLSTAGNSERLQPGIAQQWIQSKREDIVNQMTEACLNQSLDALLSRDLIMKEDYELVSTKPTRTSKVRQLLDTTDIQGEEFAKVIVQKLKDNKQMGLQPYPEILVVSRSPSLNLLQNKSM\n",
      "INFO:root:Predicting 1th chain in ./Davis/cut_seqs/RIPK2.seq\n",
      "INFO:root:540 residues in this chain.\n",
      "INFO:root:Finished prediction in 22.35 seconds.\n",
      "INFO:root:Saving prediction to ./Davis/omega_2/RIPK2.pdb\n",
      "INFO:root:Saved\n",
      "INFO:root:Done!\n"
     ]
    },
    {
     "name": "stderr",
     "output_type": "stream",
     "text": [
      " 36%|███▋      | 190/522 [1:34:56<2:43:35, 29.57s/it]"
     ]
    },
    {
     "name": "stdout",
     "output_type": "stream",
     "text": [
      "PIK3C2B_0.seq\n",
      "INFO:root:Reading ./Davis/cut_seqs/PIK3C2B_0.seq\n",
      "MSSTQGNGEHWKSLESVGISRKELAMAEALQMEYDALSRLRHDKEENRAKQNADPSLISWDEPGVDFYSKPAGRRTDLKLLRGLSGSDPTLNYNSLSPQEGPPNHSTSQGPQPGSDPWPKGSLSGDYLYIFDGSDGGVSSSPGPGDIEGSCKKLSPPPLPPRASIWDTPPLPPRKGSPSSSKISQPSDINTFSLVEQLPGKLLEHRILEEEEVLGGGGQGRLLGSVDYDGINDAITRLNLKSTYDAEMLRDATRGWKEGRGPLDFSKDTSGKPVARSKTMPPQVPPRTYASRYGNRKNATPGKNRRISAAPVGSRPHTVANGHELFEVSEERDEEVAAFCHMLDILRSGSDIQDYFLTGYVWSAVTPSPEHLGDEVNLKVTVLCDRLQEALTFTCNCSSTVDLLIYQTLCYTHDDLRNVDVGDFVLKPCGLEEFLQNKHALGSHEYIQYCRKFDIDIRLQLMEQKVVRSDLARTVNDDQSPSTLNYLVHLQERPVKQTISRQALSLLFDTYHNEVDAFLLADGDFPLKADRVVQSVKAICNALAAVETPEITSALNQLPPCPSRMQPKIQKDPSVLAVRENREKVVEALTAAILDLVELYCNTFNADFQTAVPGSRKHDLVQEACHFARSLAFTVYATHRIPIIWATSYEDFYLSCSLSHGGKELCSPLQTRRAHFSKYLFHLIVWDQQICFPVQVNRLPRETLLCATLYALPIPPPGSSSEANKQRRVPEALGWVTTPLFNFRQVLTCGRKLLGLWPATQENPSARWSAPNFHQPDSVILQIDFPTSAFDIKFTSPPGD\n",
      "INFO:root:Predicting 1th chain in ./Davis/cut_seqs/PIK3C2B_0.seq\n",
      "INFO:root:800 residues in this chain.\n",
      "INFO:root:Finished prediction in 57.08 seconds.\n",
      "INFO:root:Saving prediction to ./Davis/omega_2/PIK3C2B_0.pdb\n",
      "INFO:root:Saved\n",
      "INFO:root:Done!\n"
     ]
    },
    {
     "name": "stderr",
     "output_type": "stream",
     "text": [
      " 37%|███▋      | 191/522 [1:35:54<3:30:00, 38.07s/it]"
     ]
    },
    {
     "name": "stdout",
     "output_type": "stream",
     "text": [
      "IRAK3.seq\n",
      "INFO:root:Reading ./Davis/cut_seqs/IRAK3.seq\n",
      "MAGNCGARGALSAHTLLFDLPPALLGELCAVLDSCDGALGWRGLAERLSSSWLDVRHIEKYVDQGKSGTRELLWSWAQKNKTIGDLLQVLQEMGHRRAIHLITNYGAVLSPSEKSYQEGGFPNILFKETANVTVDNVLIPEHNEKGILLKSSISFQNIIEGTRNFHKDFLIGEGEIFEVYRVEIQNLTYAVKLFKQEKKMQCKKHWKRFLSELEVLLLFHHPNILELAAYFTETEKFCLIYPYMRNGTLFDRLQCVGDTAPLPWHIRIGILIGISKAIHYLHNVQPCSVICGSISSANILLDDQFQPKLTDFAMAHFRSHLEHQSCTINMTSSSSKHLWYMPEEYIRQGKLSIKTDVYSFGIVIMEVLTGCRVVLDDPKHIQLRDLLRELMEKRGLDSCLSFLDKKVPPCPRNFSAKLFCLAGRCAATRAKLRPSMDEVLNTLESTQASLYFAEDPPTSLKSFRCPSPLFLENVPSIPVEDDESQNNNLLPSDEGLRIDRMTQKTPFECSQSEVMFLSLDKKPESKRNEEACNMPSSSCEESWFPKYIVPSQDLRPYKVNIDPSSEAPGHSCRSRPVESSCSSKFSWDEYEQYKKE\n",
      "INFO:root:Predicting 1th chain in ./Davis/cut_seqs/IRAK3.seq\n",
      "INFO:root:596 residues in this chain.\n",
      "INFO:root:Finished prediction in 28.27 seconds.\n",
      "INFO:root:Saving prediction to ./Davis/omega_2/IRAK3.pdb\n",
      "INFO:root:Saved\n",
      "INFO:root:Done!\n"
     ]
    },
    {
     "name": "stderr",
     "output_type": "stream",
     "text": [
      " 37%|███▋      | 192/522 [1:36:23<3:14:13, 35.31s/it]"
     ]
    },
    {
     "name": "stdout",
     "output_type": "stream",
     "text": [
      "CDKL2.seq\n",
      "INFO:root:Reading ./Davis/cut_seqs/CDKL2.seq\n",
      "MEKYENLGLVGEGSYGMVMKCRNKDTGRIVAIKKFLESDDDKMVKKIAMREIKLLKQLRHENLVNLLEVCKKKKRWYLVFEFVDHTILDDLELFPNGLDYQVVQKYLFQIINGIGFCHSHNIIHRDIKPENILVSQSGVVKLCDFGFARTLAAPGEVYTDYVATRWYRAPELLVGDVKYGKAVDVWAIGCLVTEMFMGEPLFPGDSDIDQLYHIMMCLGNLIPRHQELFNKNPVFAGVRLPEIKEREPLERRYPKLSEVVIDLAKKCLHIDPDKRPFCAELLHHDFFQMDGFAERFSQELQLKVQKDARNVSLSKKSQNRKKEKEKDDSLVEERKTLVVQDTNADPKIKDYKLFKIKGSKIDGEKAEKGNRASNASCLHDSRTSHNKIVPSTSLKDCSNVSVDHTRNPSVAIPPLTHNLSAVAPSINSGMGTETIPIQGYRVDEKTKKCSIPFVKPNRHSPSGIYNINVTTLVSGPPLSDDSGADLPQMEHQH\n",
      "INFO:root:Predicting 1th chain in ./Davis/cut_seqs/CDKL2.seq\n",
      "INFO:root:493 residues in this chain.\n",
      "INFO:root:Finished prediction in 18.49 seconds.\n",
      "INFO:root:Saving prediction to ./Davis/omega_2/CDKL2.pdb\n",
      "INFO:root:Saved\n",
      "INFO:root:Done!\n"
     ]
    },
    {
     "name": "stderr",
     "output_type": "stream",
     "text": [
      " 37%|███▋      | 193/522 [1:36:42<2:46:52, 30.43s/it]"
     ]
    },
    {
     "name": "stdout",
     "output_type": "stream",
     "text": [
      "WEE1.seq\n",
      "INFO:root:Reading ./Davis/cut_seqs/WEE1.seq\n",
      "MSFLSRQQPPPPRRAGAACTLRQKLIFSPCSDCEEEEEEEEEEGSGHSTGEDSAFQEPDSPLPPARSPTEPGPERRRSPGPAPGSPGELEEDLLLPGACPGADEAGGGAEGDSWEEEGFGSSSPVKSPAAPYFLGSSFSPVRCGGPGDASPRGCGARRAGEGRRSPRPDHPGTPPHKTFRKLRLFDTPHTPKSLLSKARGIDSSSVKLRGSSLFMDTEKSGKREFDVRQTPQVNINPFTPDSLLLHSSGQCRRRKRTYWNDSCGEDMEASDYELEDETRPAKRITITESNMKSRYTTEFHELEKIGSGEFGSVFKCVKRLDGCIYAIKRSKKPLAGSVDEQNALREVYAHAVLGQHSHVVRYFSAWAEDDHMLIQNEYRNGGSLADAISENYRIMSYFKEAELKDLLLQVGRGLRYIHSMSLVHMDIKPSNIFISRTSIPNAASEEGDEDDWASNKVMFKIGDLGHVTRISSPQVEEGDSRFLANEVLQENYTHLPKADIFALALTVVCAAGAEPLPRNGDQWHEIRQGRLPRIPQVLSQEFTELLKVMIHPDPERRPSAMALVKHSVLLSASRKSAEQLRIELNAEKFKNSLLQKELKKAQMAKAAAEERALFTDRMATRSTTQSNRTSRLIGKKMNRSVSLTIY\n",
      "INFO:root:Predicting 1th chain in ./Davis/cut_seqs/WEE1.seq\n",
      "INFO:root:646 residues in this chain.\n",
      "INFO:root:Finished prediction in 35.44 seconds.\n",
      "INFO:root:Saving prediction to ./Davis/omega_2/WEE1.pdb\n",
      "INFO:root:Saved\n",
      "INFO:root:Done!\n"
     ]
    },
    {
     "name": "stderr",
     "output_type": "stream",
     "text": [
      " 37%|███▋      | 194/522 [1:37:18<2:56:43, 32.33s/it]"
     ]
    },
    {
     "name": "stdout",
     "output_type": "stream",
     "text": [
      "CLK2.seq\n",
      "INFO:root:Reading ./Davis/cut_seqs/CLK2.seq\n",
      "MPHPRRYHSSERGSRGSYREHYRSRKHKRRRSRSWSSSSDRTRRRRREDSYHVRSRSSYDDRSSDRRVYDRRYCGSYRRNDYSRDRGDAYYDTDYRHSYEYQRENSSYRSQRSSRRKHRRRRRRSRTFSRSSSQHSSRRAKSVEDDAEGHLIYHVGDWLQERYEIVSTLGEGTFGRVVQCVDHRRGGARVALKIIKNVEKYKEAARLEINVLEKINEKDPDNKNLCVQMFDWFDYHGHMCISFELLGLSTFDFLKDNNYLPYPIHQVRHMAFQLCQAVKFLHDNKLTHTDLKPENILFVNSDYELTYNLEKKRDERSVKSTAVRVVDFGSATFDHEHHSTIVSTRHYRAPEVILELGWSQPCDVWSIGCIIFEYYVGFTLFQTHDNREHLAMMERILGPIPSRMIRKTRKQKYFYRGRLDWDENTSAGRYVRENCKPLRRYLTSEAEEHHQLFDLIESMLEYEPAKRLTLGEALQHPFFARLRAEPPNKLWDSSRDISR\n",
      "INFO:root:Predicting 1th chain in ./Davis/cut_seqs/CLK2.seq\n",
      "INFO:root:499 residues in this chain.\n",
      "INFO:root:Finished prediction in 18.85 seconds.\n",
      "INFO:root:Saving prediction to ./Davis/omega_2/CLK2.pdb\n",
      "INFO:root:Saved\n",
      "INFO:root:Done!\n"
     ]
    },
    {
     "name": "stderr",
     "output_type": "stream",
     "text": [
      " 37%|███▋      | 195/522 [1:37:38<2:35:04, 28.46s/it]"
     ]
    },
    {
     "name": "stdout",
     "output_type": "stream",
     "text": [
      "VRK2.seq\n",
      "INFO:root:Reading ./Davis/cut_seqs/VRK2.seq\n",
      "MPPKRNEKYKLPIPFPEGKVLDDMEGNQWVLGKKIGSGGFGLIYLAFPTNKPEKDARHVVKVEYQENGPLFSELKFYQRVAKKDCIKKWIERKQLDYLGIPLFYGSGLTEFKGRSYRFMVMERLGIDLQKISGQNGTFKKSTVLQLGIRMLDVLEYIHENEYVHGDIKAANLLLGYKNPDQVYLADYGLSYRYCPNGNHKQYQENPRKGHNGTIEFTSLDAHKGVALSRRSDVEILGYCMLRWLCGKLPWEQNLKDPVAVQTAKTNLLDELPQSVLKWAPSGSSCCEIAQFLVCAHSLAYDEKPNYQALKKILNPHGIPLGPLDFSTKGQSINVHTPNSQKVDSQKAATKQVNKAHNRLIEKKVHSERSAESCATWKVQKEEKLIGLMNNEAAQESTRRRQKYQESQEPLNEVNSFPQKISYTQFPNSFYEPHQDFTSPDIFKKSRSPSWYKYTSTVSTGITDLESSTGLWPTISQFTLSEETNADVYYYRIIIPVLLMLVFLALFFL\n",
      "INFO:root:Predicting 1th chain in ./Davis/cut_seqs/VRK2.seq\n",
      "INFO:root:508 residues in this chain.\n",
      "INFO:root:Finished prediction in 19.10 seconds.\n",
      "INFO:root:Saving prediction to ./Davis/omega_2/VRK2.pdb\n",
      "INFO:root:Saved\n",
      "INFO:root:Done!\n"
     ]
    },
    {
     "name": "stderr",
     "output_type": "stream",
     "text": [
      " 38%|███▊      | 196/522 [1:37:57<2:20:13, 25.81s/it]"
     ]
    },
    {
     "name": "stdout",
     "output_type": "stream",
     "text": [
      "NEK5.seq\n",
      "INFO:root:Reading ./Davis/cut_seqs/NEK5.seq\n",
      "MDKYDVIKAIGQGAFGKAYLAKGKSDSKHCVIKEINFEKMPIQEKEASKKEVILLEKMKHPNIVAFFNSFQENGRLFIVMEYCDGGDLMKRINRQRGVLFSEDQILGWFVQISLGLKHIHDRKILHRDIKAQNIFLSKNGMVAKLGDFGIARVLNNSMELARTCIGTPYYLSPEICQNKPYNNKTDIWSLGCVLYELCTLKHPFEGNNLQQLVLKICQAHFAPISPGFSRELHSLISQLFQVSPRDRPSINSILKRPFLENLIPKYLTPEVIQEEFSHMLICRAGAPASRHAGKVVQKCKIQKVRFQGKCPPRSRISVPIKRNAILHRNEWRPPAGAQKARSIKMIERPKIAAVCGHYDYYYAQLDMLRRRAHKPSYHPIPQENTGVEDYGQETRHGPSPSQWPAEYLQRKFEAQQYKLKVEKQLGLRPSSAEPNYNQRQELRSNGEEPRFQELPFRKNEMKEQEYWKQLEEIRQQYHNDMKEIRKKMGREPEENSKISHKTYLVKKSNLPVHQDASEGEAPVQMEFRSCCPGWSAMARSWLTATSASQDIEKDLKQMRLQNTKESKNPEQKYKAKKGVKFEINLDKCISDENILQEEEAMDIPNETLTFEDGMKFKEYECVKEHGDYTDKAFEKLHCPEAGFSTQTVAAVGNRRQWDGGAPQTLLQMMAVADITSTCPTGPDSESVLSVSRQEGKTKDPYSPVLILM\n",
      "INFO:root:Predicting 1th chain in ./Davis/cut_seqs/NEK5.seq\n",
      "INFO:root:708 residues in this chain.\n",
      "INFO:root:Finished prediction in 43.75 seconds.\n",
      "INFO:root:Saving prediction to ./Davis/omega_2/NEK5.pdb\n",
      "INFO:root:Saved\n",
      "INFO:root:Done!\n"
     ]
    },
    {
     "name": "stderr",
     "output_type": "stream",
     "text": [
      " 38%|███▊      | 197/522 [1:38:42<2:50:20, 31.45s/it]"
     ]
    },
    {
     "name": "stdout",
     "output_type": "stream",
     "text": [
      "VEGFR2_0.seq\n",
      "INFO:root:Reading ./Davis/cut_seqs/VEGFR2_0.seq\n",
      "MQSKVLLAVALWLCVETRAASVGLPSVSLDLPRLSIQKDILTIKANTTLQITCRGQRDLDWLWPNNQSGSEQRVEVTECSDGLFCKTLTIPKVIGNDTGAYKCFYRETDLASVIYVYVQDYRSPFIASVSDQHGVVYITENKNKTVVIPCLGSISNLNVSLCARYPEKRFVPDGNRISWDSKKGFTIPSYMISYAGMVFCEAKINDESYQSIMYIVVVVGYRIYDVVLSPSHGIELSVGEKLVLNCTARTELNVGIDFNWEYPSSKHQHKKLVNRDLKTQSGSEMKKFLSTLTIDGVTRSDQGLYTCAASSGLMTKKNSTFVRVHEKPFVAFGSGMESLVEATVGERVRIPAKYLGYPPPEIKWYKNGIPLESNHTIKAGHVLTIMEVSERDTGNYTVILTNPISKEKQSHVVSLVVYVPPQIGEKSLISPVDSYQYGTTQTLTCTVYAIPPPHHIHWYWQLEEECANEPSQAVSVTNPYPCEEWRSVEDFQGGNKIEVNKNQFALIEGKNKTVSTLVIQAANVSALYKCEAVNKVGRGERVISFHVTRGPEITLQPDMQPTEQESVSLWCTADRSTFENLTWYKLGPQPLPIHVGELPTPVCKNLDTLWKLNATMFSNSTNDILIMELKNASLQDQGDYVCLAQDRKTKKRHCVVRQLTVLERVAPTITGNLENQTTSIGESIEVSCTASGNPPPQIMWFKDNETLVEDSGIVLKDGNRNLTIRRVRKEDEGLYTCQACSVLGCAKVEAFFIIEGAQEKTNLEIIILVGTAVIAMFFWLLLVIILRTVKRANGGELKTG\n",
      "INFO:root:Predicting 1th chain in ./Davis/cut_seqs/VEGFR2_0.seq\n",
      "INFO:root:800 residues in this chain.\n",
      "INFO:root:Finished prediction in 57.05 seconds.\n",
      "INFO:root:Saving prediction to ./Davis/omega_2/VEGFR2_0.pdb\n",
      "INFO:root:Saved\n",
      "INFO:root:Done!\n"
     ]
    },
    {
     "name": "stderr",
     "output_type": "stream",
     "text": [
      " 38%|███▊      | 198/522 [1:39:40<3:32:47, 39.41s/it]"
     ]
    },
    {
     "name": "stdout",
     "output_type": "stream",
     "text": [
      "PIP5K1C.seq\n",
      "INFO:root:Reading ./Davis/cut_seqs/PIP5K1C.seq\n",
      "MELEVPDEAESAEAGAVPSEAAWAAESGAAAGLAQKKAAPTEVLSMTAQPGPGHGKKLGHRGVDASGETTYKKTTSSTLKGAIQLGIGYTVGHLSSKPERDVLMQDFYVVESIFFPSEGSNLTPAHHFQDFRFKTYAPVAFRYFRELFGIRPDDYLYSLCNEPLIELSNPGASGSLFYVTSDDEFIIKTVMHKEAEFLQKLLPGYYMNLNQNPRTLLPKFYGLYCVQSGGKNIRVVVMNNILPRVVKMHLKFDLKGSTYKRRASKKEKEKSFPTYKDLDFMQDMPEGLLLDADTFSALVKTLQRDCLVLESFKIMDYSLLLGVHNIDQHERERQAQGAQSTSDEKRPVGQKALYSTAMESIQGGAARGEAIESDDTMGGIPAVNGRGERLLLHIGIIDILQSYRFIKKLEHTWKALVHDGDTVSVHRPSFYAERFFKFMSNTVFRKNSSLKSSPSKKGRGGALLAVKPLGPTAAFSASQIPSEREEAQYDLRGARSYPTLEDEGRPDLLPCTPPSFEEATTASIATTLSSTSLSIPERSPSETSEQPRYRRRTQSSGQDGRPQEEPPAEEDLQQITVQVEPACSVEIVVPKEEDAGVEASPAGASAAVEVETASQASDEEGAPASQASDEEDAPATDIYFPTDERSWVYSPLHYSAQAPPASDGESDT\n",
      "INFO:root:Predicting 1th chain in ./Davis/cut_seqs/PIP5K1C.seq\n",
      "INFO:root:668 residues in this chain.\n",
      "INFO:root:Finished prediction in 37.39 seconds.\n",
      "INFO:root:Saving prediction to ./Davis/omega_2/PIP5K1C.pdb\n",
      "INFO:root:Saved\n",
      "INFO:root:Done!\n"
     ]
    },
    {
     "name": "stderr",
     "output_type": "stream",
     "text": [
      " 38%|███▊      | 199/522 [1:40:18<3:30:00, 39.01s/it]"
     ]
    },
    {
     "name": "stdout",
     "output_type": "stream",
     "text": [
      "ERK5_0.seq\n",
      "INFO:root:Reading ./Davis/cut_seqs/ERK5_0.seq\n",
      "MAEPLKEEDGEDGSAEPPGPVKAEPAHTAASVAAKNLALLKARSFDVTFDVGDEYEIIETIGNGAYGVVSSARRRLTGQQVAIKKIPNAFDVVTNAKRTLRELKILKHFKHDNIIAIKDILRPTVPYGEFKSVYVVLDLMESDLHQIIHSSQPLTLEHVRYFLYQLLRGLKYMHSAQVIHRDLKPSNLLVNENCELKIGDFGMARGLCTSPAEHQYFMTEYVATRWYRAPELMLSLHEYTQAIDLWSVGCIFGEMLARRQLFPGKNYVHQLQLIMMVLGTPSPAVIQAVGAERVRAYIQSLPPRQPVPWETVYPGADRQALSLLGRMLRFEPSARISAAAALRHPFLAKYHDPDDEPDCAPPFDFAFDREALTRERIKEAIVAEIEDFHARREGIRQQIRFQPSLQPVASEPGCPDVEMPSPWAPSGDCAMESPPPAPPPCPGPAPDTIDLTLQPPPPVSEPAPPKKDGAISDNTKAALKAALLKSLRSRLRDGPSAPLEAPEPRKPVTAQERQREREEKRRRRQERAKEREKRRQERERKERGAGASGGPSTDPLAGLVLSDNDRSLLERWTRMARPAAPALTSVPAPAPAPTPTPTPVQPTSPPPGPVAQPTGPQPQSAGSTSGPVPQPACPPPGPAPHPTGPPGPIPVPAPPQIATSTSLLAAQSLVPPPGLPGSSTPGVLPYFPPGLPPPDAGGAPQSSMSESPDVNLVTQQLSKSQVEDPLPPVFSGTPKGSGAGYGVGFDLEEFLNQSFDMGVADGPQDGQADSASLSASLLADWLEGHGMNPADIESLQREIQ\n",
      "INFO:root:Predicting 1th chain in ./Davis/cut_seqs/ERK5_0.seq\n",
      "INFO:root:800 residues in this chain.\n",
      "INFO:root:Finished prediction in 57.04 seconds.\n",
      "INFO:root:Saving prediction to ./Davis/omega_2/ERK5_0.pdb\n",
      "INFO:root:Saved\n",
      "INFO:root:Done!\n"
     ]
    },
    {
     "name": "stderr",
     "output_type": "stream",
     "text": [
      " 38%|███▊      | 200/522 [1:41:16<3:59:46, 44.68s/it]"
     ]
    },
    {
     "name": "stdout",
     "output_type": "stream",
     "text": [
      "LTK_1.seq\n",
      "INFO:root:Reading ./Davis/cut_seqs/LTK_1.seq\n",
      "EEGTSGLGNRSLECLRPPQPQELSPEKLKSWGGSPLGPWLSSGLKPLKSRGLQPQNLWNPTYRS\n",
      "INFO:root:Predicting 1th chain in ./Davis/cut_seqs/LTK_1.seq\n",
      "INFO:root:64 residues in this chain.\n",
      "INFO:root:Finished prediction in 0.57 seconds.\n",
      "INFO:root:Saving prediction to ./Davis/omega_2/LTK_1.pdb\n",
      "INFO:root:Saved\n",
      "INFO:root:Done!\n"
     ]
    },
    {
     "name": "stderr",
     "output_type": "stream",
     "text": [
      " 39%|███▊      | 201/522 [1:41:17<2:48:30, 31.50s/it]"
     ]
    },
    {
     "name": "stdout",
     "output_type": "stream",
     "text": [
      "PKAC-beta.seq\n",
      "INFO:root:Reading ./Davis/cut_seqs/PKAC-beta.seq\n",
      "MGNAATAKKGSEVESVKEFLAKAKEDFLKKWENPTQNNAGLEDFERKKTLGTGSFGRVMLVKHKATEQYYAMKILDKQKVVKLKQIEHTLNEKRILQAVNFPFLVRLEYAFKDNSNLYMVMEYVPGGEMFSHLRRIGRFSEPHARFYAAQIVLTFEYLHSLDLIYRDLKPENLLIDHQGYIQVTDFGFAKRVKGRTWTLCGTPEYLAPEIILSKGYNKAVDWWALGVLIYEMAAGYPPFFADQPIQIYEKIVSGKVRFPSHFSSDLKDLLRNLLQVDLTKRFGNLKNGVSDIKTHKWFATTDWIAIYQRKVEAPFIPKFRGSGDTSNFDDYEEEDIRVSITEKCAKEFGEF\n",
      "INFO:root:Predicting 1th chain in ./Davis/cut_seqs/PKAC-beta.seq\n",
      "INFO:root:351 residues in this chain.\n",
      "INFO:root:Finished prediction in 8.04 seconds.\n",
      "INFO:root:Saving prediction to ./Davis/omega_2/PKAC-beta.pdb\n",
      "INFO:root:Saved\n",
      "INFO:root:Done!\n"
     ]
    },
    {
     "name": "stderr",
     "output_type": "stream",
     "text": [
      " 39%|███▊      | 202/522 [1:41:25<2:10:58, 24.56s/it]"
     ]
    },
    {
     "name": "stdout",
     "output_type": "stream",
     "text": [
      "ERBB2_0.seq\n",
      "INFO:root:Reading ./Davis/cut_seqs/ERBB2_0.seq\n",
      "MELAALCRWGLLLALLPPGAASTQVCTGTDMKLRLPASPETHLDMLRHLYQGCQVVQGNLELTYLPTNASLSFLQDIQEVQGYVLIAHNQVRQVPLQRLRIVRGTQLFEDNYALAVLDNGDPLNNTTPVTGASPGGLRELQLRSLTEILKGGVLIQRNPQLCYQDTILWKDIFHKNNQLALTLIDTNRSRACHPCSPMCKGSRCWGESSEDCQSLTRTVCAGGCARCKGPLPTDCCHEQCAAGCTGPKHSDCLACLHFNHSGICELHCPALVTYNTDTFESMPNPEGRYTFGASCVTACPYNYLSTDVGSCTLVCPLHNQEVTAEDGTQRCEKCSKPCARVCYGLGMEHLREVRAVTSANIQEFAGCKKIFGSLAFLPESFDGDPASNTAPLQPEQLQVFETLEEITGYLYISAWPDSLPDLSVFQNLQVIRGRILHNGAYSLTLQGLGISWLGLRSLRELGSGLALIHHNTHLCFVHTVPWDQLFRNPHQALLHTANRPEDECVGEGLACHQLCARGHCWGPGPTQCVNCSQFLRGQECVEECRVLQGLPREYVNARHCLPCHPECQPQNGSVTCFGPEADQCVACAHYKDPPFCVARCPSGVKPDLSYMPIWKFPDEEGACQPCPINCTHSCVDLDDKGCPAEQRASPLTSIISAVVGILLVVVLGVVFGILIKRRQQKIRKYTMRRLLQETELVEPLTPSGAMPNQAQMRILKETELRKVKVLGSGAFGTVYKGIWIPDGENVKIPVAIKVLRENTSPKANKEILDEAYVMAGVGSPYVSRLLGICLTSTVQLVTQL\n",
      "INFO:root:Predicting 1th chain in ./Davis/cut_seqs/ERBB2_0.seq\n",
      "INFO:root:800 residues in this chain.\n",
      "INFO:root:Finished prediction in 57.03 seconds.\n",
      "INFO:root:Saving prediction to ./Davis/omega_2/ERBB2_0.pdb\n",
      "INFO:root:Saved\n",
      "INFO:root:Done!\n"
     ]
    },
    {
     "name": "stderr",
     "output_type": "stream",
     "text": [
      " 39%|███▉      | 203/522 [1:42:23<3:03:43, 34.56s/it]"
     ]
    },
    {
     "name": "stdout",
     "output_type": "stream",
     "text": [
      "PCTK1.seq\n",
      "INFO:root:Reading ./Davis/cut_seqs/PCTK1.seq\n",
      "MDRMKKIKRQLSMTLSSAPEIVHEDLKMGSDGESDQASATSSDEVQSPVRVRMRNHPPRKISTEDINKRLSLPADIRLPEGYLEKLTLNSPIFDKPLSRRLRRVSLSEIGFGKLETYIKLDKLGEGTYATVYKGKSKLTDNLVALKEIRLEHEEGAPCTAIREVSLLKDLKHANIVTLHDIIHTEKSLTLVFEYLDKDLKQYLDDCGNIINMHNVKLFLFQLLRGLAYCHRQKVLHRDLKPQNLLINERGELKLADFGLARAKSIPTKTYSNEVVTLWYRPPDILLGSTDYSTQIDMWGVGCIFYEMATGRPLFPGSTVEEQLHFIFRILGTPTEETWPGILSNEEFKTYNYPKYRAEALLSHAPRLDSDGADLLTKLLQFEGRNRISAEDAMKHPFFLSLGERIHKLPDTTSIFALKEIQLQKEASLRSSSMPDSGRPAFRVVDTEF\n",
      "INFO:root:Predicting 1th chain in ./Davis/cut_seqs/PCTK1.seq\n",
      "INFO:root:448 residues in this chain.\n",
      "INFO:root:Finished prediction in 13.80 seconds.\n",
      "INFO:root:Saving prediction to ./Davis/omega_2/PCTK1.pdb\n",
      "INFO:root:Saved\n",
      "INFO:root:Done!\n"
     ]
    },
    {
     "name": "stderr",
     "output_type": "stream",
     "text": [
      " 39%|███▉      | 204/522 [1:42:37<2:30:49, 28.46s/it]"
     ]
    },
    {
     "name": "stdout",
     "output_type": "stream",
     "text": [
      "DRAK1.seq\n",
      "INFO:root:Reading ./Davis/cut_seqs/DRAK1.seq\n",
      "MIPLEKPGSGGSSPGATSGSGRAGRGLSGPCRPPPPPQARGLLTEIRAVVRTEPFQDGYSLCPGRELGRGKFAVVRKCIKKDSGKEFAAKFMRKRRKGQDCRMEIIHEIAVLELAQDNPWVINLHEVYETASEMILVLEYAAGGEIFDQCVADREEAFKEKDVQRLMRQILEGVHFLHTRDVVHLDLKPQNILLTSESPLGDIKIVDFGLSRILKNSEELREIMGTPEYVAPEILSYDPISMATDMWSIGVLTYVMLTGISPFLGNDKQETFLNISQMNLSYSEEEFDVLSESAVDFIRTLLVKKPEDRATAEECLKHPWLTQSSIQEPSFRMEKALEEANALQEGHSVPEINSDTDKSETKESIVTEELIVVTSYTLGQCRQSEKEKMEQKAISKRFKFEEPLLQEIPGEFIY\n",
      "INFO:root:Predicting 1th chain in ./Davis/cut_seqs/DRAK1.seq\n",
      "INFO:root:414 residues in this chain.\n",
      "INFO:root:Finished prediction in 11.51 seconds.\n",
      "INFO:root:Saving prediction to ./Davis/omega_2/DRAK1.pdb\n",
      "INFO:root:Saved\n",
      "INFO:root:Done!\n"
     ]
    },
    {
     "name": "stderr",
     "output_type": "stream",
     "text": [
      " 39%|███▉      | 205/522 [1:42:49<2:04:05, 23.49s/it]"
     ]
    },
    {
     "name": "stdout",
     "output_type": "stream",
     "text": [
      "MRCKB_0.seq\n",
      "INFO:root:Reading ./Davis/cut_seqs/MRCKB_0.seq\n",
      "MSAKVRLKKLEQLLLDGPWRNESALSVETLLDVLVCLYTECSHSALRRDKYVAEFLEWAKPFTQLVKEMQLHREDFEIIKVIGRGAFGEVAVVKMKNTERIYAMKILNKWEMLKRAETACFREERDVLVNGDCQWITALHYAFQDENHLYLVMDYYVGGDLLTLLSKFEDKLPEDMARFYIGEMVLAIDSIHQLHYVHRDIKPDNVLLDVNGHIRLADFGSCLKMNDDGTVQSSVAVGTPDYISPEILQAMEDGMGKYGPECDWWSLGVCMYEMLYGETPFYAESLVETYGKIMNHEERFQFPSHVTDVSEEAKDLIQRLICSRERRLGQNGIEDFKKHAFFEGLNWENIRNLEAPYIPDVSSPSDTSNFDVDDDVLRNTEILPPGSHTGFSGLHLPFIGFTFTTESCFSDRGSLKSIMQSNTLTKDEDVQRDLEHSLQMEAYERRIRRLEQEKLELSRKLQESTQTVQSLHGSSRALSNSNRDKEIKKLNEEIERLKNKIADSNRLERQLEDTVALRQEREDSTQRLRGLEKQHRVVRQEKEELHKQLVEASERLKSQAKELKDAHQQRKLALQEFSELNERMAELRAQKQKVSRQLRDKEEEMEVATQKVDAMRQEMRRAEKLRKELEAQLDDAVAEASKERKLREHSENFCKQMESELEALKVKQGGRGAGATLEHQQEISKIKSELEKKVLFYEEELVRREASHVLEVKNVKKEVHDSESHQLALQKEILMLKDKLEKSKRERHNEMEEAVGTIKDKYERERAMLFDENKKLTAENEKLCSFVDKLTAQNRQLEDE\n",
      "INFO:root:Predicting 1th chain in ./Davis/cut_seqs/MRCKB_0.seq\n",
      "INFO:root:800 residues in this chain.\n",
      "INFO:root:Finished prediction in 57.04 seconds.\n",
      "INFO:root:Saving prediction to ./Davis/omega_2/MRCKB_0.pdb\n",
      "INFO:root:Saved\n",
      "INFO:root:Done!\n"
     ]
    },
    {
     "name": "stderr",
     "output_type": "stream",
     "text": [
      " 39%|███▉      | 206/522 [1:43:47<2:58:06, 33.82s/it]"
     ]
    },
    {
     "name": "stdout",
     "output_type": "stream",
     "text": [
      "TLK2.seq\n",
      "INFO:root:Reading ./Davis/cut_seqs/TLK2.seq\n",
      "MMEELHSLDPRRQELLEARFTGVGVSKGPLNSESSNQSLCSVGSLSDKEVETPEKKQNDQRNRKRKAEPYETSQGKGTPRGHKISDYFEFAGGSAPGTSPGRSVPPVARSSPQHSLSNPLPRRVEQPLYGLDGSAAKEATEEQSALPTLMSVMLAKPRLDTEQLAQRGAGLCFTFVSAQQNSPSSTGSGNTEHSCSSQKQISIQHRQTQSDLTIEKISALENSKNSDLEKKEGRIDDLLRANCDLRRQIDEQQKMLEKYKERLNRCVTMSKKLLIEKSKQEKMACRDKSMQDRLRLGHFTTVRHGASFTEQWTDGYAFQNLIKQQERINSQREEIERQRKMLAKRKPPAMGQAPPATNEQKQRKSKTNGAENETPSSGNTELKDTAPALGAHSLLRLTLAEYHEQEEIFKLRLGHLKKEEAEIQAELERLERVRNLHIRELKRIHNEDNSQFKDHPTLNDRYLLLHLLGRGGFSEVYKAFDLTEQRYVAVKIHQLNKNWRDEKKENYHKHACREYRIHKELDHPRIVKLYDYFSLDTDSFCTVLEYCEGNDLDFYLKQHKLMSEKEARSIIMQIVNALKYLNEIKPPIIHYDLKPGNILLVNGTACGEIKITDFGLSKIMDDDSYNSVDGMELTSQGAGTYWYLPPECFVVGKEPPKISNKVDVWSVGVIFYQCLYGRKPFGHNQSQQDILQENTILKATEVQFPPKPVVTPEAKAFIRRCLAYRKEDRIDVQQLACDPYLLPHIRKSVSTSSPAGAAIASTSGASNNSSSN\n",
      "INFO:root:Predicting 1th chain in ./Davis/cut_seqs/TLK2.seq\n",
      "INFO:root:772 residues in this chain.\n",
      "INFO:root:Finished prediction in 54.27 seconds.\n",
      "INFO:root:Saving prediction to ./Davis/omega_2/TLK2.pdb\n",
      "INFO:root:Saved\n",
      "INFO:root:Done!\n"
     ]
    },
    {
     "name": "stderr",
     "output_type": "stream",
     "text": [
      " 40%|███▉      | 207/522 [1:44:42<3:31:18, 40.25s/it]"
     ]
    },
    {
     "name": "stdout",
     "output_type": "stream",
     "text": [
      "FGFR2_1.seq\n",
      "INFO:root:Reading ./Davis/cut_seqs/FGFR2_1.seq\n",
      "DPMPYEPCLPQYPHINGSVKT\n",
      "INFO:root:Predicting 1th chain in ./Davis/cut_seqs/FGFR2_1.seq\n",
      "INFO:root:21 residues in this chain.\n",
      "INFO:root:Finished prediction in 0.50 seconds.\n",
      "INFO:root:Saving prediction to ./Davis/omega_2/FGFR2_1.pdb\n",
      "INFO:root:Saved\n",
      "INFO:root:Done!\n"
     ]
    },
    {
     "name": "stderr",
     "output_type": "stream",
     "text": [
      " 40%|███▉      | 208/522 [1:44:43<2:28:27, 28.37s/it]"
     ]
    },
    {
     "name": "stdout",
     "output_type": "stream",
     "text": [
      "ERBB4_1.seq\n",
      "INFO:root:Reading ./Davis/cut_seqs/ERBB4_1.seq\n",
      "HGCLLEYVHEHKDNIGSQLLLNWCVQIAKGMMYLEERRLVHRDLAARNVLVKSPNHVKITDFGLARLLEGDEKEYNADGGKMPIKWMALECIHYRKFTHQSDVWSYGVTIWELMTFGGKPYDGIPTREIPDLLEKGERLPQPPICTIDVYMVMVKCWMIDADSRPKFKELAAEFSRMARDPQRYLVIQGDDRMKLPSPNDSKFFQNLLDEEDLEDMMDAEEYLVPQAFNIPPPIYTSRARIDSNRSEIGHSPPPAYTPMSGNQFVYRDGGFAAEQGVSVPYRAPTSTIPEAPVAQGATAEIFDDSCCNGTLRKPVAPHVQEDSSTQRYSADPTVFAPERSPRGELDEEGYMTPMRDKPKQEYLNPVEENPFVSRRKNGDLQALDNPEYHNASNGPPKAEDEYVNEPLYLNTFANTLGKAEYLKNNILSMPEKAKKAFDNPDYWNHSLPPRSTLQHPDYLQEYSTKYFYKQNGRIRPIVAENPEYLSEFSLKPGTVLPPPPYRHRNTVV\n",
      "INFO:root:Predicting 1th chain in ./Davis/cut_seqs/ERBB4_1.seq\n",
      "INFO:root:508 residues in this chain.\n",
      "INFO:root:Finished prediction in 19.09 seconds.\n",
      "INFO:root:Saving prediction to ./Davis/omega_2/ERBB4_1.pdb\n",
      "INFO:root:Saved\n",
      "INFO:root:Done!\n"
     ]
    },
    {
     "name": "stderr",
     "output_type": "stream",
     "text": [
      " 40%|████      | 209/522 [1:45:03<2:14:18, 25.74s/it]"
     ]
    },
    {
     "name": "stdout",
     "output_type": "stream",
     "text": [
      "LOK_1.seq\n",
      "INFO:root:Reading ./Davis/cut_seqs/LOK_1.seq\n",
      "QEKARLPKIQRSEGKTRMAMYKKSLHINGGGSAAEQREKIKQFSQQEEKRQKSERLQQQQKHENQMRDMLAQCESNMSELQQLQNEKCHLLVEHETQKLKALDESHNQNLKEWRDKLRPRKKALEEDLNQKKREQEMFFKLSEEAECPNPSTPSKAAKFFPYSSADAS\n",
      "INFO:root:Predicting 1th chain in ./Davis/cut_seqs/LOK_1.seq\n",
      "INFO:root:168 residues in this chain.\n",
      "INFO:root:Finished prediction in 1.55 seconds.\n",
      "INFO:root:Saving prediction to ./Davis/omega_2/LOK_1.pdb\n",
      "INFO:root:Saved\n",
      "INFO:root:Done!\n"
     ]
    },
    {
     "name": "stderr",
     "output_type": "stream",
     "text": [
      " 40%|████      | 210/522 [1:45:04<1:36:28, 18.55s/it]"
     ]
    },
    {
     "name": "stdout",
     "output_type": "stream",
     "text": [
      "IRAK4.seq\n",
      "INFO:root:Reading ./Davis/cut_seqs/IRAK4.seq\n",
      "MNKPITPSTYVRCLNVGLIRKLSDFIDPQEGWKKLAVAIKKPSGDDRYNQFHIRRFEALLQTGKSPTSELLFDWGTTNCTVGDLVDLLIQNEFFAPASLLLPDAVPKTANTLPSKEAITVQQKQMPFCDKDRTLMTPVQNLEQSYMPPDSSSPENKSLEVSDTRFHSFSFYELKNVTNNFDERPISVGGNKMGEGGFGVVYKGYVNNTTVAVKKLAAMVDITTEELKQQFDQEIKVMAKCQHENLVELLGFSSDGDDLCLVYVYMPNGSLLDRLSCLDGTPPLSWHMRCKIAQGAANGINFLHENHHIHRDIKSANILLDEAFTAKISDFGLARASEKFAQTVMTSRIVGTTAYMAPEALRGEITPKSDIYSFGVVLLEIITGLPAVDEHREPQLLLDIKEEIEDEEKTIEDYIDKKMNDADSTSVEAMYSVASQCLHEKKNKRPDIKKVQQLLQEMTAS\n",
      "INFO:root:Predicting 1th chain in ./Davis/cut_seqs/IRAK4.seq\n",
      "INFO:root:460 residues in this chain.\n",
      "INFO:root:Finished prediction in 14.94 seconds.\n",
      "INFO:root:Saving prediction to ./Davis/omega_2/IRAK4.pdb\n",
      "INFO:root:Saved\n",
      "INFO:root:Done!\n"
     ]
    },
    {
     "name": "stderr",
     "output_type": "stream",
     "text": [
      " 40%|████      | 211/522 [1:45:20<1:31:12, 17.60s/it]"
     ]
    },
    {
     "name": "stdout",
     "output_type": "stream",
     "text": [
      "MAP3K15_1.seq\n",
      "INFO:root:Reading ./Davis/cut_seqs/MAP3K15_1.seq\n",
      "GVNPCTETFTGTLQYMAPEIIDQGPRGYGAPADIWSLGCTIIEMATSKPPFHELGEPQAAMFKVGMFKIHPEIPEALSAEARAFILSCFEPDPHKRATTAELLREGFLRQVNKGKKNRIAFKPSEGPRGVVLALPTQGEPMATSSSEHGSVSPDSDAQPDALFERTRAPRHHLGHLLSVPDESSALEDRGLASSPEDRDQGLFLLRKDSERRAILYKILWEEQNQVASNLQECVAQSSEELHLSVGHIKQIIGILRDFIRSPEHRVMATTISKLKVDLDFDSSSISQIHLVLFGFQDAVNKILRNHLIRPHWMFAMDNIIRRAVQAAVTILIPELRAHFEPTCETEGVDKDMDEAEEGYPPATGPGQEAQPHQQHLSLQLGELRQETNRLLEHLVEKEREYQNLLRQTLEQKTQELYHLQLKLKSNCITENPAGPYGQRTDKELIDWLRLQGADAKTIEKIVEEGYTLSDILNEITKEDLRYLRLRGGLLCRLWSAVSQYRRAQEASETKDKA\n",
      "INFO:root:Predicting 1th chain in ./Davis/cut_seqs/MAP3K15_1.seq\n",
      "INFO:root:513 residues in this chain.\n",
      "INFO:root:Finished prediction in 19.86 seconds.\n",
      "INFO:root:Saving prediction to ./Davis/omega_2/MAP3K15_1.pdb\n",
      "INFO:root:Saved\n",
      "INFO:root:Done!\n"
     ]
    },
    {
     "name": "stderr",
     "output_type": "stream",
     "text": [
      " 41%|████      | 212/522 [1:45:40<1:35:08, 18.42s/it]"
     ]
    },
    {
     "name": "stdout",
     "output_type": "stream",
     "text": [
      "MEK6.seq\n",
      "INFO:root:Reading ./Davis/cut_seqs/MEK6.seq\n",
      "MSQSKGKKRNPGLKIPKEAFEQPQTSSTPPRDLDSKACISIGNQNFEVKADDLEPIMELGRGAYGVVEKMRHVPSGQIMAVKRIRATVNSQEQKRLLMDLDISMRTVDCPFTVTFYGALFREGDVWICMELMDTSLDKFYKQVIDKGQTIPEDILGKIAVSIVKALEHLHSKLSVIHRDVKPSNVLINALGQVKMCDFGISGYLVDSVAKTIDAGCKPYMAPERINPELNQKGYSVKSDIWSLGITMIELAILRFPYDSWGTPFQQLKQVVEEPSPQLPADKFSAEFVDFTSQCLKKNSKERPTYPELMQHPFFTLHESKGTDVASFVKLILGD\n",
      "INFO:root:Predicting 1th chain in ./Davis/cut_seqs/MEK6.seq\n",
      "INFO:root:334 residues in this chain.\n",
      "INFO:root:Finished prediction in 7.08 seconds.\n",
      "INFO:root:Saving prediction to ./Davis/omega_2/MEK6.pdb\n",
      "INFO:root:Saved\n",
      "INFO:root:Done!\n"
     ]
    },
    {
     "name": "stderr",
     "output_type": "stream",
     "text": [
      " 41%|████      | 213/522 [1:45:47<1:17:50, 15.11s/it]"
     ]
    },
    {
     "name": "stdout",
     "output_type": "stream",
     "text": [
      "DLK_1.seq\n",
      "INFO:root:Reading ./Davis/cut_seqs/DLK_1.seq\n",
      "DPPPSEVIPGPEPSSLPIPHQELLRERGPPNSEDSDCDSTELDNSNSVDALRPPASLPP\n",
      "INFO:root:Predicting 1th chain in ./Davis/cut_seqs/DLK_1.seq\n",
      "INFO:root:59 residues in this chain.\n",
      "INFO:root:Finished prediction in 0.55 seconds.\n",
      "INFO:root:Saving prediction to ./Davis/omega_2/DLK_1.pdb\n",
      "INFO:root:Saved\n",
      "INFO:root:Done!\n"
     ]
    },
    {
     "name": "stderr",
     "output_type": "stream",
     "text": [
      " 41%|████      | 214/522 [1:45:48<55:23, 10.79s/it]  "
     ]
    },
    {
     "name": "stdout",
     "output_type": "stream",
     "text": [
      "PAK7.seq\n",
      "INFO:root:Reading ./Davis/cut_seqs/PAK7.seq\n",
      "MFGKKKKKIEISGPSNFEHRVHTGFDPQEQKFTGLPQQWHSLLADTANRPKPMVDPSCITPIQLAPMKTIVRGNKPCKETSINGLLEDFDNISVTRSNSLRKESPPTPDQGASSHGPGHAEENGFITFSQYSSESDTTADYTTEKYREKSLYGDDLDPYYRGSHAAKQNGHVMKMKHGEAYYSEVKPLKSDFARFSADYHSHLDSLSKPSEYSDLKWEYQRASSSSPLDYSFQFTPSRTAGTSGCSKESLAYSESEWGPSLDDYDRRPKSSYLNQTSPQPTMRQRSRSGSGLQEPMMPFGASAFKTHPQGHSYNSYTYPRLSEPTMCIPKVDYDRAQMVLSPPLSGSDTYPRGPAKLPQSQSKSGYSSSSHQYPSGYHKATLYHHPSLQSSSQYISTASYLSSLSLSSSTYPPPSWGSSSDQQPSRVSHEQFRAALQLVVSPGDPREYLANFIKIGEGSTGIVCIATEKHTGKQVAVKKMDLRKQQRRELLFNEVVIMRDYHHDNVVDMYSSYLVGDELWVVMEFLEGGALTDIVTHTRMNEEQIATVCLSVLRALSYLHNQGVIHRDIKSDSILLTSDGRIKLSDFGFCAQVSKEVPKRKSLVGTPYWMAPEVISRLPYGTEVDIWSLGIMVIEMIDGEPPYFNEPPLQAMRRIRDSLPPRVKDLHKVSSVLRGFLDLMLVREPSQRATAQELLGHPFLKLAGPPSCIVPLMRQYRHH\n",
      "INFO:root:Predicting 1th chain in ./Davis/cut_seqs/PAK7.seq\n",
      "INFO:root:719 residues in this chain.\n",
      "INFO:root:Finished prediction in 46.81 seconds.\n",
      "INFO:root:Saving prediction to ./Davis/omega_2/PAK7.pdb\n",
      "INFO:root:Saved\n",
      "INFO:root:Done!\n"
     ]
    },
    {
     "name": "stderr",
     "output_type": "stream",
     "text": [
      " 41%|████      | 215/522 [1:46:36<1:51:41, 21.83s/it]"
     ]
    },
    {
     "name": "stdout",
     "output_type": "stream",
     "text": [
      "TAOK1_1.seq\n",
      "INFO:root:Reading ./Davis/cut_seqs/TAOK1_1.seq\n",
      "LKMQLQQELELLNAYQSKIKMQAEAQHDRELRELEQRVSLRRALLEQKIEEEMLALQNERTERIRSLLERQAREIEAFDSESMRLGFSNMVLSNLSPEAFSHSYPGASGWSHNPTGGPGPHWGHPMGGPPQAWGHPMQGGPQPWGHPSGPMQGVPRGSSMGVRNSPQALRRTASGGRTEQGMSRSTSVTSQISNGSHMSYT\n",
      "INFO:root:Predicting 1th chain in ./Davis/cut_seqs/TAOK1_1.seq\n",
      "INFO:root:201 residues in this chain.\n",
      "INFO:root:Finished prediction in 2.23 seconds.\n",
      "INFO:root:Saving prediction to ./Davis/omega_2/TAOK1_1.pdb\n",
      "INFO:root:Saved\n",
      "INFO:root:Done!\n"
     ]
    },
    {
     "name": "stderr",
     "output_type": "stream",
     "text": [
      " 41%|████▏     | 216/522 [1:46:38<1:21:39, 16.01s/it]"
     ]
    },
    {
     "name": "stdout",
     "output_type": "stream",
     "text": [
      "MKNK1.seq\n",
      "INFO:root:Reading ./Davis/cut_seqs/MKNK1.seq\n",
      "MVSSQKLEKPIEMGSSEPLPIADGDRRRKKKRRGRATDSLPGKFEDMYKLTSELLGEGAYAKVQGAVSLQNGKEYAVKIIEKQAGHSRSRVFREVETLYQCQGNKNILELIEFFEDDTRFYLVFEKLQGGSILAHIQKQKHFNEREASRVVRDVAAALDFLHTKDKVSLCHLGWSAMAPSGLTAAPTSLGSSDPPTSASQVAGTTGIAHRDLKPENILCESPEKVSPVKICDFDLGSGMKLNNSCTPITTPELTTPCGSAEYMAPEVVEVFTDQATFYDKRCDLWSLGVVLYIMLSGYPPFVGHCGADCGWDRGEVCRVCQNKLFESIQEGKYEFPDKDWAHISSEAKDLISKLLVRDAKQRLSAAQVLQHPWVQGQAPEKGLPTPQVLQRNSSTMDLTLFAAEAIALNRQLSQHEENELAEEPEALADGLCSMKLSPPCKSRLARRRALAQAGRGEDRSPPTAL\n",
      "INFO:root:Predicting 1th chain in ./Davis/cut_seqs/MKNK1.seq\n",
      "INFO:root:465 residues in this chain.\n",
      "INFO:root:Finished prediction in 15.72 seconds.\n",
      "INFO:root:Saving prediction to ./Davis/omega_2/MKNK1.pdb\n",
      "INFO:root:Saved\n",
      "INFO:root:Done!\n"
     ]
    },
    {
     "name": "stderr",
     "output_type": "stream",
     "text": [
      " 42%|████▏     | 217/522 [1:46:54<1:21:38, 16.06s/it]"
     ]
    },
    {
     "name": "stdout",
     "output_type": "stream",
     "text": [
      "CDK4-cyclinD1.seq\n",
      "INFO:root:Reading ./Davis/cut_seqs/CDK4-cyclinD1.seq\n",
      "MATSRYEPVAEIGVGAYGTVYKARDPHSGHFVALKSVRVPNGGGGGGGLPISTVREVALLRRLEAFEHPNVVRLMDVCATSRTDREIKVTLVFEHVDQDLRTYLDKAPPPGLPAETIKDLMRQFLRGLDFLHANCIVHRDLKPENILVTSGGTVKLADFGLARIYSYQMALTPVVVTLWYRAPEVLLQSTYATPVDMWSVGCIFAEMFRRKPLFCGNSEADQLGKIFDLIGLPPEDDWPRDVSLPRGAFPPRGPRPVQSVVPEMEESGAQLLLEMLTFNPHKRISAFRALQHSYLHKDEGNPE\n",
      "INFO:root:Predicting 1th chain in ./Davis/cut_seqs/CDK4-cyclinD1.seq\n",
      "INFO:root:303 residues in this chain.\n",
      "INFO:root:Finished prediction in 5.60 seconds.\n",
      "INFO:root:Saving prediction to ./Davis/omega_2/CDK4-cyclinD1.pdb\n",
      "INFO:root:Saved\n",
      "INFO:root:Done!\n"
     ]
    },
    {
     "name": "stderr",
     "output_type": "stream",
     "text": [
      " 42%|████▏     | 218/522 [1:47:00<1:05:54, 13.01s/it]"
     ]
    },
    {
     "name": "stdout",
     "output_type": "stream",
     "text": [
      "PDGFRA_0.seq\n",
      "INFO:root:Reading ./Davis/cut_seqs/PDGFRA_0.seq\n",
      "MGTSHPAFLVLGCLLTGLSLILCQLSLPSILPNENEKVVQLNSSFSLRCFGESEVSWQYPMSEEESSDVEIRNEENNSGLFVTVLEVSSASAAHTGLYTCYYNHTQTEENELEGRHIYIYVPDPDVAFVPLGMTDYLVIVEDDDSAIIPCRTTDPETPVTLHNSEGVVPASYDSRQGFNGTFTVGPYICEATVKGKKFQTIPFNVYALKATSELDLEMEALKTVYKSGETIVVTCAVFNNEVVDLQWTYPGEVKGKGITMLEEIKVPSIKLVYTLTVPEATVKDSGDYECAARQATREVKEMKKVTISVHEKGFIEIKPTFSQLEAVNLHEVKHFVVEVRAYPPPRISWLKNNLTLIENLTEITTDVEKIQEIRYRSKLKLIRAKEEDSGHYTIVAQNEDAVKSYTFELLTQVPSSILDLVDDHHGSTGGQTVRCTAEGTPLPDIEWMICKDIKKCNNETSWTILANNVSNIITEIHSRDRSTVEGRVTFAKVEETIAVRCLAKNLLGAENRELKLVAPTLRSELTVAAAVLVLLVIVIISLIVLVVIWKQKPRYEIRWRVIESISPDGHEYIYVDPMQLPYDSRWEFPRDGLVLGRVLGSGAFGKVVEGTAYGLSRSQPVMKVAVKMLKPTARSSEKQALMSELKIMTHLGPHLNIVNLLGACTKSGPIYIITEYCFYGDLVNYLHKNRDSFLSHHPEKPKKELDIFGLNPADESTRSYVILSFENNGDYMDMKQADTTQYVPMLERKEVSKYSDIQRSLYDRPASYKKKSMLDSEVKNLLSDDNSEGLTLLDLLSFTY\n",
      "INFO:root:Predicting 1th chain in ./Davis/cut_seqs/PDGFRA_0.seq\n",
      "INFO:root:800 residues in this chain.\n",
      "INFO:root:Finished prediction in 57.04 seconds.\n",
      "INFO:root:Saving prediction to ./Davis/omega_2/PDGFRA_0.pdb\n",
      "INFO:root:Saved\n",
      "INFO:root:Done!\n"
     ]
    },
    {
     "name": "stderr",
     "output_type": "stream",
     "text": [
      " 42%|████▏     | 219/522 [1:47:58<2:13:50, 26.50s/it]"
     ]
    },
    {
     "name": "stdout",
     "output_type": "stream",
     "text": [
      "CDKL5_0.seq\n",
      "INFO:root:Reading ./Davis/cut_seqs/CDKL5_0.seq\n",
      "MKIPNIGNVMNKFEILGVVGEGAYGVVLKCRHKETHEIVAIKKFKDSEENEEVKETTLRELKMLRTLKQENIVELKEAFRRRGKLYLVFEYVEKNMLELLEEMPNGVPPEKVKSYIYQLIKAIHWCHKNDIVHRDIKPENLLISHNDVLKLCDFGFARNLSEGNNANYTEYVATRWYRSPELLLGAPYGKSVDMWSVGCILGELSDGQPLFPGESEIDQLFTIQKVLGPLPSEQMKLFYSNPRFHGLRFPAVNHPQSLERRYLGILNSVLLDLMKNLLKLDPADRYLTEQCLNHPTFQTQRLLDRSPSRSAKRKPYHVESSTLSNRNQAGKSTALQSHHRSNSKDIQNLSVGLPRADEGLPANESFLNGNLAGASLSPLHTKTYQASSQPGSTSKDLTNNNIPHLLSPKEAKSKTEFDFNIDPKPSEGPGTKYLKSNSRSQQNRHSFMESSQSKAGTLQPNEKQSRHSYIDTIPQSSRSPSYRTKAKSHGALSDSKSVSNLSEARAQIAEPSTSRYFPSSCLDLNSPTSPTPTRHSDTRTLLSPSGRNNRNEGTLDSRRTTTRHSKTMEELKLPEHMDSSHSHSLSAPHESFSYGLGYTSPFSSQQRPHRHSMYVTRDKVRAKGLDGSLSIGQGMAARANSLQLLSPQPGEQLPPEMTVARSSVKETSREGTSSFHTRQKSEGGVYHDPHSDDGTAPKENRHLYNDPVPRRVGSFYRVPSPRPDNSFHENNVSTRVSSLPSESSSGTNHSKRQPAFDPWKSPENISHSEQLKEKEKQGFFRSMKKKKKKSQTVPNSDSPD\n",
      "INFO:root:Predicting 1th chain in ./Davis/cut_seqs/CDKL5_0.seq\n",
      "INFO:root:800 residues in this chain.\n",
      "INFO:root:Finished prediction in 57.16 seconds.\n",
      "INFO:root:Saving prediction to ./Davis/omega_2/CDKL5_0.pdb\n",
      "INFO:root:Saved\n",
      "INFO:root:Done!\n"
     ]
    },
    {
     "name": "stderr",
     "output_type": "stream",
     "text": [
      " 42%|████▏     | 220/522 [1:48:56<3:01:02, 35.97s/it]"
     ]
    },
    {
     "name": "stdout",
     "output_type": "stream",
     "text": [
      "PIK3C2G_1.seq\n",
      "INFO:root:Reading ./Davis/cut_seqs/PIK3C2G_1.seq\n",
      "NEAYFKSWYQKLLAALQFCAGKALNDEFSKEQKLIKILGDIGERVKSASDHQRQEVLKKEIGRLEEFFQDVNTCHLPLNPALCIKGIDHDACSYFTSNALPLKITFINANPMGKNISIIFKAGDDLRQDMLVLQLIQVMDNIWLQEGLDMQMIIYRCLSTGKDQGLVQMVPDAVTLAKIHRHSGLIGPLKENTIKKWFSQHNHLKADYEKALRNFFYSCAGWCVVTFILGVCDRHNDNIMLTKSGHMFHIDFGKFLGHAQTFGGIKRDRAPFIFTSEMEYFITEGGKNPQHFQDFVELCCRAYNIIRKHSQLLLNLLEMMLYAGLPELSGIQDLKYVYNNLRPQDTDLEATSHFTKKIKESLECFPVKLNNLIHTLAQMSAISPAKSTSQTFPQESCLLSTTRSIERATILGFSKKSSNLYLIQVTHSNNETSLTEKSFEQFSKLHSQLQKQFASLTLPEFPHWWHLPFTNSDHRRFRDLNHYMEQILNVSHEVTNSDCVLSFFLSEAVQQTVEESSPVYLGEKFPDKKPKVQLVISYEDVKLTILVKHMKNIHLPDGSAPSAHVEFYLLPYPSEVRRRKTKSVPKCTDPTYNEIVVYDEVTELQGHVLMLIVKSKTVFVGAINIRLCSVPLDKEKWYPLGNSII\n",
      "INFO:root:Predicting 1th chain in ./Davis/cut_seqs/PIK3C2G_1.seq\n",
      "INFO:root:645 residues in this chain.\n",
      "INFO:root:Finished prediction in 35.33 seconds.\n",
      "INFO:root:Saving prediction to ./Davis/omega_2/PIK3C2G_1.pdb\n",
      "INFO:root:Saved\n",
      "INFO:root:Done!\n"
     ]
    },
    {
     "name": "stderr",
     "output_type": "stream",
     "text": [
      " 42%|████▏     | 221/522 [1:49:32<3:00:28, 35.98s/it]"
     ]
    },
    {
     "name": "stdout",
     "output_type": "stream",
     "text": [
      "PDGFRB.seq\n",
      "INFO:root:Reading ./Davis/cut_seqs/PDGFRB.seq\n",
      "AASEPDTAGSVRGLPTAHCPVVQDNRTLGDSSAGEIALSTRNVSETRYVSELTLVRVKVAEAGHYTMRAFHEDAEVQLSFQLQINVPVRVLELSESHPDSGEQTVRCRGRGMPQPNIIWSACRDLKRCPRELPPTLLGNSSEEESQLETNVTYWEEEQEFEVVSTLRLQHVDRPLSVRCTLRNAVGQDTQEVIVVPHSLPFKVVVISAILALVVLTIISLIILIMLWQKKPRYEIRWKVIESVSSDGHEYIYVDPMQLPYDSTWELPRDQLVLGRTLGSGAFGQVVEATAHGLSHSQATMKVAVKMLKSTARSSEKQALMSELKIMSHLGPHLNVVNLLGACTKGGPIYIITEYCRYGDLVDYLHRNKHTFLQHHSDKRRPPSAELYSNALPVGLPLPSHVSLTGESDGGYMDMSKDESVDYVPMLDMKGDVKYADIESSNYMAPYDNYVPSAPERTCRATLINESPVLSYMDLVGFSYQVANGMEFLASKNCVHRDLAARNVLICEGKLVKICDFGLARDIMRDSNYISKGSTFLPLKWMAPESIFNSLYTTLSDVWSFGILLWEIFTLGGTPYPELPMNEQFYNAIKRGYRMAQPAHASDEIYEIMQKCWEEKFEIRPPFSQLVLLLERLLGEGYKKKYQQVDEEFLRSDHPAILRSQARLPGFHGLRSPLDTSSVLYTAVQPNEGDNDYIIPLPDPKPEVADEGPLEGSPSLASSTLNEVNTSSTISCDSPLEPQDEPEPEPQLELQVEPEPELEQLPDSGCPAPRAEAEDSFL\n",
      "INFO:root:Predicting 1th chain in ./Davis/cut_seqs/PDGFRB.seq\n",
      "INFO:root:777 residues in this chain.\n",
      "INFO:root:Finished prediction in 56.30 seconds.\n",
      "INFO:root:Saving prediction to ./Davis/omega_2/PDGFRB.pdb\n",
      "INFO:root:Saved\n",
      "INFO:root:Done!\n"
     ]
    },
    {
     "name": "stderr",
     "output_type": "stream",
     "text": [
      " 43%|████▎     | 222/522 [1:50:29<3:31:36, 42.32s/it]"
     ]
    },
    {
     "name": "stdout",
     "output_type": "stream",
     "text": [
      "MAP4K2_0.seq\n",
      "INFO:root:Reading ./Davis/cut_seqs/MAP4K2_0.seq\n",
      "MALLRDVSLQDPRDRFELLQRVGAGTYGDVYKARDTVTSELAAVKIVKLDPGDDISSLQQEITILRECRHPNVVAYIGSYLRNDRLWICMEFCGGGSLQEIYHATGPLEERQIAYVCREALKGLHHLHSQGKIHRDIKGANLLLTLQGDVKLADFGVSGELTASVAKRRSFIGTPYWMAPEVAAVERKGGYNELCDVWALGITAIELGELQPPLFHLHPMRALMLMSKSSFQPPKLRDKTRWTQNFHHFLKLALTKNPKKRPTAEKLLQHPFTTQQLPRALLTQLLDKASDPHLGTPSPEDCELETYDMFPDTIHSRGQHGPAERTPSEIQFHQVKFGAPRRKETDPLNEPWEEEWTLLGKEELSGSLLQSVQEALEERSLTIRSASEFQELDSPDDTMGTIKRAPFLGPLPTDPPAEEPLSSPPGTLPPPPSGPNSSPLLPTAWATMKQREDPERSSCHGLPPTPKVHMGACFSKVFNGCPLRIHAAVTWIHPVTRDQFLVVGAEEGIYTLNLHELHEDTLEKLISHRCSWLYCVNNVLLSLSGKSTHIWAHDLPGLFEQRRLQQQVPLSIPTNRLTQRIIPRRFALSTKIPDTKGCLQCRVVRNPYTGATFLLAALPTSLLLLQWYEPLQKFLLLKNFSSPLPSPAGMLEPLVLDGKELPQVCVGAEGPEGPGCRVLFHVLPLEAGLTPDILIPPEGIPGSAQQVIQVDRDTILVSFERCVRIVNMQGEPTATLAPELTFDFPIETVVCLQDSVLAFWSHGMQGRSLDTNEVTQEITDETRIFRVLGAHRDIILESIP\n",
      "INFO:root:Predicting 1th chain in ./Davis/cut_seqs/MAP4K2_0.seq\n",
      "INFO:root:800 residues in this chain.\n",
      "INFO:root:Finished prediction in 57.05 seconds.\n",
      "INFO:root:Saving prediction to ./Davis/omega_2/MAP4K2_0.pdb\n",
      "INFO:root:Saved\n",
      "INFO:root:Done!\n"
     ]
    },
    {
     "name": "stderr",
     "output_type": "stream",
     "text": [
      " 43%|████▎     | 223/522 [1:51:27<3:54:12, 47.00s/it]"
     ]
    },
    {
     "name": "stdout",
     "output_type": "stream",
     "text": [
      "FES_1.seq\n",
      "INFO:root:Reading ./Davis/cut_seqs/FES_1.seq\n",
      "PGQRPSFSTIYQELQSIRKRHR\n",
      "INFO:root:Predicting 1th chain in ./Davis/cut_seqs/FES_1.seq\n",
      "INFO:root:22 residues in this chain.\n",
      "INFO:root:Finished prediction in 0.52 seconds.\n",
      "INFO:root:Saving prediction to ./Davis/omega_2/FES_1.pdb\n",
      "INFO:root:Saved\n",
      "INFO:root:Done!\n"
     ]
    },
    {
     "name": "stderr",
     "output_type": "stream",
     "text": [
      " 43%|████▎     | 224/522 [1:51:28<2:44:23, 33.10s/it]"
     ]
    },
    {
     "name": "stdout",
     "output_type": "stream",
     "text": [
      "FER_0.seq\n",
      "INFO:root:Reading ./Davis/cut_seqs/FER_0.seq\n",
      "MGFGSDLKNSHEAVLKLQDWELRLLETVKKFMALRIKSDKEYASTLQNLCNQVDKESTVQMNYVSNVSKSWLLMIQQTEQLSRIMKTHAEDLNSGPLHRLTMMIKDKQQVKKSYIGVHQQIEAEMIKVTKTELEKLKCSYRQLIKEMNSAKEKYKEALAKGKETEKAKERYDKATMKLHMLHNQYVLALKGAQLHQNQYYDITLPLLLDSLQKMQEEMIKALKGIFDEYSQITSLVTEEIVNVHKEIQMSVEQIDPSTEYNNFIDVHRTTAAKEQEIEFDTSLLEENENLQANEIMWNNLTAESLQVMLKTLAEELMQTQQMLLNKEEAVLELEKRIEESSETCEKKSDIVLLLSQKQALEELKQSVQQLRCTEAKFSAQKELLEQKVQENDGKEPPPVVNYEEDARSVTSMERKERLSKFESIRHSIAGIIRSPKSALGSSALSDMISISEKPLAEQDWYHGAIPRIEAQELLKKQGDFLVRESHGKPGEYVLSVYSDGQRRHFIIQYVDNMYRFEGTGFSNIPQLIDHHYTTKQVITKKSGVVLLNPIPKDKKWILSHEDVILGELLGKGNFGEVYKGTLKDKTSVAVKTCKEDLPQELKIKFLQEAKILKQYDHPNIVKLIGVCTQRQPVYIIMELVSGGDFLTFLRRKKDELKLKQLVKFSLDAAAGMLYLESKNCIHRDLAARNCLVGENNVLKISDFGMSRQEDGGVYSSSGLKQIPIKWTAPEALNYGRYSSESDVWSFGILLWETFSLGVCPYPGMTNQQAREQVERGYRMSAPQHCPEDISKIMMKCWDYK\n",
      "INFO:root:Predicting 1th chain in ./Davis/cut_seqs/FER_0.seq\n",
      "INFO:root:800 residues in this chain.\n",
      "INFO:root:Finished prediction in 57.15 seconds.\n",
      "INFO:root:Saving prediction to ./Davis/omega_2/FER_0.pdb\n",
      "INFO:root:Saved\n",
      "INFO:root:Done!\n"
     ]
    },
    {
     "name": "stderr",
     "output_type": "stream",
     "text": [
      " 43%|████▎     | 225/522 [1:52:26<3:20:51, 40.58s/it]"
     ]
    },
    {
     "name": "stdout",
     "output_type": "stream",
     "text": [
      "RIPK5_0.seq\n",
      "INFO:root:Reading ./Davis/cut_seqs/RIPK5_0.seq\n",
      "MEGDGVPWGSEPVSGPGPGGGGMIRELCRGFGRYRRYLGRLRQNLRETQKFFRDIKCSHNHTCLSSLTGGGGAERGPAGDVAETGLQAGQLSCISFPPKEEKYLQQIVDCLPCILILGQDCNVKCQLLNLLLGVQVLPTTKLGSEESCKLRRLRFTYGTQTRVSLALPGQYELVHTLVAHQGNWETIPEEDLEVQENNEDAAHVLAELEVTMHHALLQEVDVVVAPCQGLRPTVDVLGDLVNDFLPVITYALHKDELSERDEQELQEIRKYFSFPVFFFKVPKLGSEIIDSSTRRMESERSPLYRQLIDLGYLSSSHWNCGAPGQDTKAQSMLVEQSEKLRHLSTFSHQVLQTRLVDAAKALNLVHCHCLDIFINQAFDMQRDLQITPKRLEYTRKKENELYESLMNIANRKQEEMKDMIVETLNTMKEELLDDATNMEFKDVIVPENGEPVGTREIKCCIRQIQELIISRLNQAVANKLISSVDYLRESFVGTLERCLQSLEKSQDVSVHITSNYLKQILNAAYHVEVTFHSGSSVTRMLWEQIKQIIQRITWVSPPAITLEWKRKVAQEAIESLSASKLAKSICSQFRTRLNSSHEAFAASLRQLEAGHSGRLEKTEDLWLRVRKDHAPRLARLSLESCSLQDVLLHRKPKLGQELGRGQYGVVYLCDNWGGHFPCALKSVVPPDEKHWNDLALEFHYMRSLPKHERLVDLHGSVIDYNYGGGSSIAVLLIMERLHRDLYTGLKAGLTLETRLQIALDVVEGIRFLHSQGLVHRDIKLKNVLLDKQNRAKITDLGFCK\n",
      "INFO:root:Predicting 1th chain in ./Davis/cut_seqs/RIPK5_0.seq\n",
      "INFO:root:800 residues in this chain.\n",
      "INFO:root:Finished prediction in 57.07 seconds.\n",
      "INFO:root:Saving prediction to ./Davis/omega_2/RIPK5_0.pdb\n",
      "INFO:root:Saved\n",
      "INFO:root:Done!\n"
     ]
    },
    {
     "name": "stderr",
     "output_type": "stream",
     "text": [
      " 43%|████▎     | 226/522 [1:53:24<3:46:18, 45.87s/it]"
     ]
    },
    {
     "name": "stdout",
     "output_type": "stream",
     "text": [
      "MAP3K4_2.seq\n",
      "INFO:root:Reading ./Davis/cut_seqs/MAP3K4_2.seq\n",
      "VKVCTDEE\n",
      "INFO:root:Predicting 1th chain in ./Davis/cut_seqs/MAP3K4_2.seq\n",
      "INFO:root:8 residues in this chain.\n",
      "INFO:root:Finished prediction in 0.50 seconds.\n",
      "INFO:root:Saving prediction to ./Davis/omega_2/MAP3K4_2.pdb\n",
      "INFO:root:Saved\n",
      "INFO:root:Done!\n"
     ]
    },
    {
     "name": "stderr",
     "output_type": "stream",
     "text": [
      " 43%|████▎     | 227/522 [1:53:25<2:38:51, 32.31s/it]"
     ]
    },
    {
     "name": "stdout",
     "output_type": "stream",
     "text": [
      "DAPK1_1.seq\n",
      "INFO:root:Reading ./Davis/cut_seqs/DAPK1_1.seq\n",
      "AYLNGVGDFSVWEFSGNPVYFCCYDYFAANDPTSIHVVVFSLEEPYEIQLNQVIFWLSFLKSLVPVEEPIAFGGKLKNPLQVVLVATHADIMNVPRPAGGEFGYDKDTSLLKEIRNRFGNDLHISNKLFVLDAGASGSKDMKVLRNHLQEIRSQIVSVCPPMTHLCEKIISTLPSWRKLNGPNQLMSLQQFVYDVQDQLNPLASEEDLRRIAQQLHSTGEINIMQSETVQDVLLLDPRWLCTNVLGKLLSVETPRALHHYRGRYTVEDIQRLVPDSDVEELLQILDAMDICARDLSSGTMVDVPALIKTDNLHRSWADEEDEVMVYGGVRIVPVEHLTPFPCGIFHKVQVNLCRWIHQQSTEGDADIRLWVNGCKLANRGAELLVLLVNHGQGIEVQVRGLETEKIKCCLLLDSVCSTIENVMATTLPGLLTVKHYLSPQQLREHHEPVMIYQPRDFFRAQTLKETSLTNTMGGYKESFSSIMCFGCHDVYSQASLGMDIHASDLNLLTRRKLSRLLDPPDPLGKDWCLLAMNLGLPDLVAKYNTSNGAPKDFLPSPLHALLREWTTYPESTVGTLMSKLRELGRRDAADFLLKASSVFKINLDGNGQEAYASSCNSGTSYNSISSVVSR\n",
      "INFO:root:Predicting 1th chain in ./Davis/cut_seqs/DAPK1_1.seq\n",
      "INFO:root:630 residues in this chain.\n",
      "INFO:root:Finished prediction in 33.56 seconds.\n",
      "INFO:root:Saving prediction to ./Davis/omega_2/DAPK1_1.pdb\n",
      "INFO:root:Saved\n",
      "INFO:root:Done!\n"
     ]
    },
    {
     "name": "stderr",
     "output_type": "stream",
     "text": [
      " 44%|████▎     | 228/522 [1:53:59<2:41:16, 32.91s/it]"
     ]
    },
    {
     "name": "stdout",
     "output_type": "stream",
     "text": [
      "TAOK3_0.seq\n",
      "INFO:root:Reading ./Davis/cut_seqs/TAOK3_0.seq\n",
      "MRKGVLKDPEIADLFYKDDPEELFIGLHEIGHGSFGAVYFATNAHTSEVVAIKKMSYSGKQTHEKWQDILKEVKFLRQLKHPNTIEYKGCYLKEHTAWLVMEYCLGSASDLLEVHKKPLQEVEIAAITHGALHGLAYLHSHALIHRDIKAGNILLTEPGQVKLADFGSASMASPANSFVGTPYWMAPEVILAMDEGQYDGKVDIWSLGITCIELAERKPPLFNMNAMSALYHIAQNDSPTLQSNEWTDSFRRFVDYCLQKIPQERPTSAELLRHDFVRRDRPLRVLIDLIQRTKDAVRELDNLQYRKMKKILFQETRNGPLNESQEDEEDSEHGTSLNREMDSLGSNHSIPSMSVSTGSQSSSVNSMQEVMDESSSELVMMHDDESTINSSSSVVHKKDHVFIRDEAGHGDPRPEPRPTQSVQSQALHYRNRERFATIKSASLVTRQIHEHEQENELREQMSGYKRMRRQHQKQLIALENKLKAEMDEHRLKLQKEVETHANNSSIELEKLAKKQVAIIEKEAKVAAADEKKFQQQILAQQKKDLTTFLESQKKQYKICKEKIKEEMNEDHSTPKKEKQERISKHKENLQHTQAEEEAHLLTQQRLYYDKNCRFFKRKIMIKRHEVEQQNIREELNKKRTQKEMEHAMLIRHDESTRELEYRQLHTLQKLRMDLIRLQHQTELENQLEYNKRRERELHRKHVMELRQQPKNLKAMEMQIKKQFQDTCKVQTKQYKALKNHQLEVTPKNEHKTILKTLKDEQTRKLAILAEQYEQSINEMMASQALRLDEAQEAECQALRL\n",
      "INFO:root:Predicting 1th chain in ./Davis/cut_seqs/TAOK3_0.seq\n",
      "INFO:root:800 residues in this chain.\n",
      "INFO:root:Finished prediction in 57.07 seconds.\n",
      "INFO:root:Saving prediction to ./Davis/omega_2/TAOK3_0.pdb\n",
      "INFO:root:Saved\n",
      "INFO:root:Done!\n"
     ]
    },
    {
     "name": "stderr",
     "output_type": "stream",
     "text": [
      " 44%|████▍     | 229/522 [1:54:57<3:17:31, 40.45s/it]"
     ]
    },
    {
     "name": "stdout",
     "output_type": "stream",
     "text": [
      "BRSK1.seq\n",
      "INFO:root:Reading ./Davis/cut_seqs/BRSK1.seq\n",
      "MSSGAKEGGGGSPAYHLPHPHPHPPQHAQYVGPYRLEKTLGKGQTGLVKLGVHCITGQKVAIKIVNREKLSESVLMKVEREIAILKLIEHPHVLKLHDVYENKKYLYLVLEHVSGGELFDYLVKKGRLTPKEARKFFRQIVSALDFCHSYSICHRDLKPENLLLDEKNNIRIADFGMASLQVGDSLLETSCGSPHYACPEVIKGEKYDGRRADMWSCGVILFALLVGALPFDDDNLRQLLEKVKRGVFHMPHFIPPDCQSLLRGMIEVEPEKRLSLEQIQKHPWYLGGKHEPDPCLEPAPGRRVAMRSLPSNGELDPDVLESMASLGCFRDRERLHRELRSEEENQEKMIYYLLLDRKERYPSCEDQDLPPRNDVDPPRKRVDSPMLSRHGKRRPERKSMEVLSITDAGGGGSPVPTRRALEMAQHSQRSRSVSGASTGLSSSPLSSPRSPVFSFSPEPGAGDEARGGGSPTSKTQTLPSRGPRGGGAGEQPPPPSARSTPLPGPPGSPRSSGGTPLHSPLHTPRASPTGTPGTTPPPSPGGGVGGAAWRSRLNSIRNSFLGSPRFHRRKMQVPTAEEMSSLTPESSPELAKRSWFGNFISLDKEEQIFLVLKDKPLSSIKADIVHAFLSIPSLSHSVLSQTSFRAEYKASGGPSVFQKPVRFQVDISSSEGPEPSPRRDGSGGGGIYSVTFTLISGPSRRFKRVVETIQAQLLSTHDQPSVQALADEKNGAQTRPAGAPPRSLQPPPGRPDPELSSSPRRGPPKDKKLLATNGTPLP\n",
      "INFO:root:Predicting 1th chain in ./Davis/cut_seqs/BRSK1.seq\n",
      "INFO:root:778 residues in this chain.\n",
      "INFO:root:Finished prediction in 56.49 seconds.\n",
      "INFO:root:Saving prediction to ./Davis/omega_2/BRSK1.pdb\n",
      "INFO:root:Saved\n",
      "INFO:root:Done!\n"
     ]
    },
    {
     "name": "stderr",
     "output_type": "stream",
     "text": [
      " 44%|████▍     | 230/522 [1:55:55<3:41:29, 45.51s/it]"
     ]
    },
    {
     "name": "stdout",
     "output_type": "stream",
     "text": [
      "CIT_0.seq\n",
      "INFO:root:Reading ./Davis/cut_seqs/CIT_0.seq\n",
      "MLKFKYGARNPLDAGAAEPIASRASRLNLFFQGKPPFMTQQQMSPLSREGILDALFVLFEECSQPALMKIKHVSNFVRKYSDTIAELQELQPSAKDFEVRSLVGCGHFAEVQVVREKATGDIYAMKVMKKKALLAQEQVSFFEEERNILSRSTSPWIPQLQYAFQDKNHLYLVMEYQPGGDLLSLLNRYEDQLDENLIQFYLAELILAVHSVHLMGYVHRDIKPENILVDRTGHIKLVDFGSAAKMNSNKMVNAKLPIGTPDYMAPEVLTVMNGDGKGTYGLDCDWWSVGVIAYEMIYGRSPFAEGTSARTFNNIMNFQRFLKFPDDPKVSSDFLDLIQSLLCGQKERLKFEGLCCHPFFSKIDWNNIRNSPPPFVPTLKSDDDTSNFDEPEKNSWVSSSPCQLSPSGFSGEELPFVGFSYSKALGILGRSESVVSGLDSPAKTSSMEKKLLIKSKELQDSQDKCHKMEQEMTRLHRRVSEVEAVLSQKEVELKASETQRSLLEQDLATYITECSSLKRSLEQARMEVSQEDDKALQLLHDIREQSRKLQEIKEQEYQAQVEEMRLMMNQLEEDLVSARRRSDLYESELRESRLAAEEFKRKATECQHKLLKAKDQGKPEVGEYAKLEKINAEQQLKIQELQEKLEKAVKASTEATELLQNIRQAKERAERELEKLQNREDSSEGIRKKLVEAEELEEKHREAQVSAQHLEVHLKQKEQHYEEKIKVLDNQIKKDLADKETLENMMQRHEEEAHEKGKILSEQKAMINAMDSKIRSLEQRIVELSEANKLAANSSLFTQR\n",
      "INFO:root:Predicting 1th chain in ./Davis/cut_seqs/CIT_0.seq\n",
      "INFO:root:800 residues in this chain.\n",
      "INFO:root:Finished prediction in 57.14 seconds.\n",
      "INFO:root:Saving prediction to ./Davis/omega_2/CIT_0.pdb\n",
      "INFO:root:Saved\n",
      "INFO:root:Done!\n"
     ]
    },
    {
     "name": "stderr",
     "output_type": "stream",
     "text": [
      " 44%|████▍     | 231/522 [1:56:53<3:59:04, 49.29s/it]"
     ]
    },
    {
     "name": "stdout",
     "output_type": "stream",
     "text": [
      "HPK1_0.seq\n",
      "INFO:root:Reading ./Davis/cut_seqs/HPK1_0.seq\n",
      "MDVVDPDIFNRDPRDHYDLLQRLGGGTYGEVFKARDKVSGDLVALKMVKMEPDDDVSTLQKEILILKTCRHANIVAYHGSYLWLQKLWICMEFCGAGSLQDIYQVTGSLSELQISYVCREVLQGLAYLHSQKKIHRDIKGANILINDAGEVRLADFGISAQIGATLARRLSFIGTPYWMAPEVAAVALKGGYNELCDIWSLGITAIELAELQPPLFDVHPLRVLFLMTKSGYQPPRLKEKGKWSAAFHNFIKVTLTKSPKKRPSATKMLSHQLVSQPGLNRGLILDLLDKLKNPGKGPSIGDIEDEEPELPPAIPRRIRSTHRSSSLGIPDADCCRRHMEFRKLRGMETRPPANTARLQPPRDLRSSSPRKQLSESSDDDYDDVDIPTPAEDTPPPLPPKPKFRSPSDEGPGSMGDDGQLSPGVLVRCASGPPPNSPRPGPPPSTSSPHLTAHSEPSLWNPPSRELDKPPLLPPKKEKMKRKGCALLVKLFNGCPLRIHSTAAWTHPSTKDQHLLLGAEEGIFILNRNDQEATLEMLFPSRTTWVYSINNVLMSLSGKTPHLYSHSILGLLERKETRAGNPIAHISPHRLLARKNMVSTKIQDTKGCRACCVAEGASSGGPFLCGALETSVVLLQWYQPMNKFLLVRQVLFPLPTPLSVFALLTGPGSELPAVCIGVSPGRPGKSVLFHTVRFGALSCWLGEMSTEHRGPVQVTQVEEDMVMVLMDGSVKLVTPEGSPVRGLRTPEIPMTEAVEAVAMVGGQLQAFWKHGVQVWALGSDQLLQELRDPTLTFRLLGSPRL\n",
      "INFO:root:Predicting 1th chain in ./Davis/cut_seqs/HPK1_0.seq\n",
      "INFO:root:800 residues in this chain.\n",
      "INFO:root:Finished prediction in 57.08 seconds.\n",
      "INFO:root:Saving prediction to ./Davis/omega_2/HPK1_0.pdb\n",
      "INFO:root:Saved\n",
      "INFO:root:Done!\n"
     ]
    },
    {
     "name": "stderr",
     "output_type": "stream",
     "text": [
      " 44%|████▍     | 232/522 [1:57:51<4:10:48, 51.89s/it]"
     ]
    },
    {
     "name": "stdout",
     "output_type": "stream",
     "text": [
      "DCAMKL1.seq\n",
      "INFO:root:Reading ./Davis/cut_seqs/DCAMKL1.seq\n",
      "MSFGRDMELEHFDERDKAQRYSRGSRVNGLPSPTHSAHCSFYRTRTLQTLSSEKKAKKVRFYRNGDRYFKGIVYAISPDRFRSFEALLADLTRTLSDNVNLPQGVRTIYTIDGLKKISSLDQLVEGESYVCGSIEPFKKLEYTKNVNPNWSVNVKTTSASRAVSSLATAKGSPSEVRENKDFIRPKLVTIIRSGVKPRKAVRILLNKKTAHSFEQVLTDITDAIKLDSGVVKRLYTLDGKQVMCLQDFFGDDDIFIACGPEKFRYQDDFLLDESECRVVKSTSYTKIASSSRRSTTKSPGPSRRSKSPASTSSVNGTPGSQLSTPRSGKSPSPSPTSPGSLRKQRSSQHGGSSTSLASTKVCSSMDENDGPGEEVSEEGFQIPATITERYKVGRTIGDGNFAVVKECVERSTAREYALKIIKKSKCRGKEHMIQNEVSILRRVKHPNIVLLIEEMDVPTELYLVMELVKGGDLFDAITSTNKYTERDASGMLYNLASAIKYLHSLNIVHRDIKPENLLVYEHQDGSKSLKLGDFGLATIVDGPLYTVCGTPTYVAPEIIAETGYGLKVDIWAAGVITYILLCGFPPFRGSGDDQEVLFDQILMGQVDFPSPYWDNVSDSAKELITMMLLVDVDQRFSAVQVLEHPWVNDDGLPENEHQLSVAGKIKKHFNTGPKPNSTAAGVSVIATTALDKERQVFRRRRNQDVRSRYKAQPAPPELNSESEDYSPSSSETVRSPNSPF\n",
      "INFO:root:Predicting 1th chain in ./Davis/cut_seqs/DCAMKL1.seq\n",
      "INFO:root:740 residues in this chain.\n",
      "INFO:root:Finished prediction in 49.21 seconds.\n",
      "INFO:root:Saving prediction to ./Davis/omega_2/DCAMKL1.pdb\n",
      "INFO:root:Saved\n",
      "INFO:root:Done!\n"
     ]
    },
    {
     "name": "stderr",
     "output_type": "stream",
     "text": [
      " 45%|████▍     | 233/522 [1:58:41<4:07:12, 51.32s/it]"
     ]
    },
    {
     "name": "stdout",
     "output_type": "stream",
     "text": [
      "p38-alpha.seq\n",
      "INFO:root:Reading ./Davis/cut_seqs/p38-alpha.seq\n",
      "MSQERPTFYRQELNKTIWEVPERYQNLSPVGSGAYGSVCAAFDTKTGLRVAVKKLSRPFQSIIHAKRTYRELRLLKHMKHENVIGLLDVFTPARSLEEFNDVYLVTHLMGADLNNIVKCQKLTDDHVQFLIYQILRGLKYIHSADIIHRDLKPSNLAVNEDCELKILDFGLARHTDDEMTGYVATRWYRAPEIMLNWMHYNQTVDIWSVGCIMAELLTGRTLFPGTDHIDQLKLILRLVGTPGAELLKKISSESARNYIQSLTQMPKMNFANVFIGANPLAVDLLEKMLVLDSDKRITAAQALAHAYFAQYHDPDDEPVADPYDQSFESRDLLIDEWKSLTYDEVISFVPPPLDQEEMES\n",
      "INFO:root:Predicting 1th chain in ./Davis/cut_seqs/p38-alpha.seq\n",
      "INFO:root:360 residues in this chain.\n",
      "INFO:root:Finished prediction in 8.29 seconds.\n",
      "INFO:root:Saving prediction to ./Davis/omega_2/p38-alpha.pdb\n",
      "INFO:root:Saved\n",
      "INFO:root:Done!\n"
     ]
    },
    {
     "name": "stderr",
     "output_type": "stream",
     "text": [
      " 45%|████▍     | 234/522 [1:58:50<3:06:17, 38.81s/it]"
     ]
    },
    {
     "name": "stdout",
     "output_type": "stream",
     "text": [
      "MLK2_1.seq\n",
      "INFO:root:Reading ./Davis/cut_seqs/MLK2_1.seq\n",
      "SFKKDPRQSLTPTHVTAACAVSRGHRRTPSDGALGQRGPPEPAGHGPGPRDLLDFPRLPDPQALFPARRRPPEFPGRPTTLTFAPRPRPAASRPRLDPWKLVSFGRTLTISPPSRPDTPESPGPPSVQPTLLDMDMEGQNQDSTVPLCGAHGSH\n",
      "INFO:root:Predicting 1th chain in ./Davis/cut_seqs/MLK2_1.seq\n",
      "INFO:root:154 residues in this chain.\n",
      "INFO:root:Finished prediction in 1.40 seconds.\n",
      "INFO:root:Saving prediction to ./Davis/omega_2/MLK2_1.pdb\n",
      "INFO:root:Saved\n",
      "INFO:root:Done!\n"
     ]
    },
    {
     "name": "stderr",
     "output_type": "stream",
     "text": [
      " 45%|████▌     | 235/522 [1:58:52<2:12:15, 27.65s/it]"
     ]
    },
    {
     "name": "stdout",
     "output_type": "stream",
     "text": [
      "PIK3CA_1.seq\n",
      "INFO:root:Reading ./Davis/cut_seqs/PIK3CA_1.seq\n",
      "IFKNGDDLRQDMLTLQIIRIMENIWQNQGLDLRMLPYGCLSIGDCVGLIEVVRNSHTIMQIQCKGGLKGALQFNSHTLHQWLKDKNKGEIYDAAIDLFTRSCAGYCVATFILGIGDRHNSNIMVKDDGQLFHIDFGHFLDHKKKKFGYKRERVPFVLTQDFLIVISKGAQECTKTREFERFQEMCYKAYLAIRQHANLFINLFSMMLGSGMPELQSFDDIAYIRKTLALDKTEQEALEYFMKQMNDAHHGGWTTKMDWIFHTIKQHALN\n",
      "INFO:root:Predicting 1th chain in ./Davis/cut_seqs/PIK3CA_1.seq\n",
      "INFO:root:269 residues in this chain.\n",
      "INFO:root:Finished prediction in 4.17 seconds.\n",
      "INFO:root:Saving prediction to ./Davis/omega_2/PIK3CA_1.pdb\n",
      "INFO:root:Saved\n",
      "INFO:root:Done!\n"
     ]
    },
    {
     "name": "stderr",
     "output_type": "stream",
     "text": [
      " 45%|████▌     | 236/522 [1:58:56<1:38:38, 20.70s/it]"
     ]
    },
    {
     "name": "stdout",
     "output_type": "stream",
     "text": [
      "RIOK1.seq\n",
      "INFO:root:Reading ./Davis/cut_seqs/RIOK1.seq\n",
      "MDYRRLLMSRVVPGQFDDADSSDSENRDLKTVKEKDDILFEDLQDNVNENGEGEIEDEEEEGYDDDDDDWDWDEGVGKLAKGYVWNGGSNPQANRQTSDSSSAKMSTPADKVLRKFENKINLDKLNVTDSVINKVTEKSRQKEADMYRIKDKADRATVEQVLDPRTRMILFKMLTRGIITEINGCISTGKEANVYHASTANGESRAIKIYKTSILVFKDRDKYVSGEFRFRHGYCKGNPRKMVKTWAEKEMRNLIRLNTAEIPCPEPIMLRSHVLVMSFIGKDDMPAPLLKNVQLSESKARELYLQVIQYMRRMYQDARLVHADLSEFNMLYHGGGVYIIDVSQSVEHDHPHALEFLRKDCANVNDFFMRHSVAVMTVRELFEFVTDPSITHENMDAYLSKAMEIASQRTKEERSSQDHVDEEVFKRAYIPRTLNEVKNYERDMDIIMKLKEEDMAMNAQQDNILYQTVTGLKKDLSGVQKVPALLENQVEERTCSDSEDIGSSECSDTDSEEQGDHARPKKHTTDPDIDKKERKKMVKEAQREKRKNKIPKHVKKRKEKTAKTKKGK\n",
      "INFO:root:Predicting 1th chain in ./Davis/cut_seqs/RIOK1.seq\n",
      "INFO:root:568 residues in this chain.\n",
      "INFO:root:Finished prediction in 24.72 seconds.\n",
      "INFO:root:Saving prediction to ./Davis/omega_2/RIOK1.pdb\n",
      "INFO:root:Saved\n",
      "INFO:root:Done!\n"
     ]
    },
    {
     "name": "stderr",
     "output_type": "stream",
     "text": [
      " 45%|████▌     | 237/522 [1:59:22<1:45:15, 22.16s/it]"
     ]
    },
    {
     "name": "stdout",
     "output_type": "stream",
     "text": [
      "PRKD2_1.seq\n",
      "INFO:root:Reading ./Davis/cut_seqs/PRKD2_1.seq\n",
      "SLSHPWLQEYQTWLDLRELEGKMGERYITHESDDVRWEQFAAEHPLPGSGLPTDRDLGGACPPQDHDMQGLAERISVL\n",
      "INFO:root:Predicting 1th chain in ./Davis/cut_seqs/PRKD2_1.seq\n",
      "INFO:root:78 residues in this chain.\n",
      "INFO:root:Finished prediction in 0.61 seconds.\n",
      "INFO:root:Saving prediction to ./Davis/omega_2/PRKD2_1.pdb\n",
      "INFO:root:Saved\n",
      "INFO:root:Done!\n"
     ]
    },
    {
     "name": "stderr",
     "output_type": "stream",
     "text": [
      " 46%|████▌     | 238/522 [1:59:23<1:14:31, 15.75s/it]"
     ]
    },
    {
     "name": "stdout",
     "output_type": "stream",
     "text": [
      "STK39.seq\n",
      "INFO:root:Reading ./Davis/cut_seqs/STK39.seq\n",
      "MAEPSGSPVHVQLPQQAAPVTAAAAAAPAAATAAPAPAAPAAPAPAPAPAAQAVGWPICRDAYELQEVIGSGATAVVQAALCKPRQERVAIKRINLEKCQTSMDELLKEIQAMSQCSHPNVVTYYTSFVVKDELWLVMKLLSGGSMLDIIKYIVNRGEHKNGVLEEAIIATILKEVLEGLDYLHRNGQIHRDLKAGNILLGEDGSVQIADFGVSAFLATGGDVTRNKVRKTFVGTPCWMAPEVMEQVRGYDFKADMWSFGITAIELATGAAPYHKYPPMKVLMLTLQNDPPTLETGVEDKEMMKKYGKSFRKLLSLCLQKDPSKRPTAAELLKCKFFQKAKNREYLIEKLLTRTPDIAQRAKKVRRVPGSSGHLHKTEDGDWEWSDDEMDEKSEEGKAAFSQEKSRRVKEENPEIAVSASTIPEQIQSLSVHDSQGPPNANEDYREASSCAVNLVLRLRNSRKELNDIRFEFTPGRDTADGVSQELFSAGLVDGHDVVIVAANLQKIVDDPKALKTLTFKLASGCDGSEIPDEVKLIGFAQLSVS\n",
      "INFO:root:Predicting 1th chain in ./Davis/cut_seqs/STK39.seq\n",
      "INFO:root:545 residues in this chain.\n",
      "INFO:root:Finished prediction in 23.37 seconds.\n",
      "INFO:root:Saving prediction to ./Davis/omega_2/STK39.pdb\n",
      "INFO:root:Saved\n",
      "INFO:root:Done!\n"
     ]
    },
    {
     "name": "stderr",
     "output_type": "stream",
     "text": [
      " 46%|████▌     | 239/522 [1:59:47<1:25:47, 18.19s/it]"
     ]
    },
    {
     "name": "stdout",
     "output_type": "stream",
     "text": [
      "GSK3A.seq\n",
      "INFO:root:Reading ./Davis/cut_seqs/GSK3A.seq\n",
      "MSGGGPSGGGPGGSGRARTSSFAEPGGGGGGGGGGPGGSASGPGGTGGGKASVGAMGGGVGASSSGGGPGGSGGGGSGGPGAGTSFPPPGVKLGRDSGKVTTVVATLGQGPERSQEVAYTDIKVIGNGSFGVVYQARLAETRELVAIKKVLQDKRFKNRELQIMRKLDHCNIVRLRYFFYSSGEKKDELYLNLVLEYVPETVYRVARHFTKAKLTIPILYVKVYMYQLFRSLAYIHSQGVCHRDIKPQNLLVDPDTAVLKLCDFGSAKQLVRGEPNVSYICSRYYRAPELIFGATDYTSSIDVWSAGCVLAELLLGQPIFPGDSGVDQLVEIIKVLGTPTREQIREMNPNYTEFKFPQIKAHPWTKVFKSRTPPEAIALCSSLLEYTPSSRLSPLEACAHSFFDELRCLGTQLPNNRPLPPLFNFSAGELSIQPSLNAILIPPHLRSPAGTTTLTPSSQALTETPTSSDWQSTDATPTLTNSS\n",
      "INFO:root:Predicting 1th chain in ./Davis/cut_seqs/GSK3A.seq\n",
      "INFO:root:483 residues in this chain.\n",
      "INFO:root:Finished prediction in 17.45 seconds.\n",
      "INFO:root:Saving prediction to ./Davis/omega_2/GSK3A.pdb\n",
      "INFO:root:Saved\n",
      "INFO:root:Done!\n"
     ]
    },
    {
     "name": "stderr",
     "output_type": "stream",
     "text": [
      " 46%|████▌     | 240/522 [2:00:05<1:25:08, 18.12s/it]"
     ]
    },
    {
     "name": "stdout",
     "output_type": "stream",
     "text": [
      "CAMK1D.seq\n",
      "INFO:root:Reading ./Davis/cut_seqs/CAMK1D.seq\n",
      "MARENGESSSSWKKQAEDIKKIFEFKETLGTGAFSEVVLAEEKATGKLFAVKCIPKKALKGKESSIENEIAVLRKIKHENIVALEDIYESPNHLYLVMQLVSGGELFDRIVEKGFYTEKDASTLIRQVLDAVYYLHRMGIVHRDLKPENLLYYSQDEESKIMISDFGLSKMEGKGDVMSTACGTPGYVAPEVLAQKPYSKAVDCWSIGVIAYILLCGYPPFYDENDSKLFEQILKAEYEFDSPYWDDISDSAKDFIRNLMEKDPNKRYTCEQAARHPWIAGDTALNKNIHESVSAQIRKNFAKSKWRQAFNATAVVRHMRKLHLGSSLDSSNASVSSSLSLASQKDCLAPSTLCSFISSSSGVSGVGAERRPRPTTVTAVHSGSK\n",
      "INFO:root:Predicting 1th chain in ./Davis/cut_seqs/CAMK1D.seq\n",
      "INFO:root:385 residues in this chain.\n",
      "INFO:root:Finished prediction in 10.06 seconds.\n",
      "INFO:root:Saving prediction to ./Davis/omega_2/CAMK1D.pdb\n",
      "INFO:root:Saved\n",
      "INFO:root:Done!\n"
     ]
    },
    {
     "name": "stderr",
     "output_type": "stream",
     "text": [
      " 46%|████▌     | 241/522 [2:00:15<1:14:01, 15.80s/it]"
     ]
    },
    {
     "name": "stdout",
     "output_type": "stream",
     "text": [
      "MINK_0.seq\n",
      "INFO:root:Reading ./Davis/cut_seqs/MINK_0.seq\n",
      "MGDPAPARSLDDIDLSALRDPAGIFELVEVVGNGTYGQVYKGRHVKTGQLAAIKVMDVTEDEEEEIKQEINMLKKYSHHRNIATYYGAFIKKSPPGNDDQLWLVMEFCGAGSVTDLVKNTKGNALKEDCIAYICREILRGLAHLHAHKVIHRDIKGQNVLLTENAEVKLVDFGVSAQLDRTVGRRNTFIGTPYWMAPEVIACDENPDATYDYRSDIWSLGITAIEMAEGAPPLCDMHPMRALFLIPRNPPPRLKSKKWSKKFIDFIDTCLIKTYLSRPPTEQLLKFPFIRDQPTERQVRIQLKDHIDRSRKKRGEKEETEYEYSGSEEEDDSHGEEGEPSSIMNVPGESTLRREFLRLQQENKSNSEALKQQQQLQQQQQRDPEAHIKHLLHQRQRRIEEQKEERRRVEEQQRREREQRKLQEKEQQRRLEDMQALRREEERRQAEREQEYKRKQLEEQRQSERLQRQLQQEHAYLKSLQQQQQQQQLQKQQQQQLLPGDRKPLYHYGRGMNPADKPAWAREVEERTRMNKQQNSPLAKSKPGSTGPEPPIPQASPGPPGPLSQTPPMQRPVEPQEGPHKSLVAHRVPLKPYAAPVPRSQSLQDQPTRNLAAFPASHDPDPAIPAPTATPSARGAVIRQNSDPTSEGPGPSPNPPAWVRPDNEAPPKVPQRTSSIATALNTSGAGGSRPAQAVRARPRSNSAWQIYLQRRAERGTPKPPGPPAQPPGPPNASSNPDLRRSDPGWERSDSVLPASHGHLPQAGSLERNRVGVSSKPDSSPVLSPGNKAKPDDHRSRPGRPA\n",
      "INFO:root:Predicting 1th chain in ./Davis/cut_seqs/MINK_0.seq\n",
      "INFO:root:800 residues in this chain.\n",
      "INFO:root:Finished prediction in 57.06 seconds.\n",
      "INFO:root:Saving prediction to ./Davis/omega_2/MINK_0.pdb\n",
      "INFO:root:Saved\n",
      "INFO:root:Done!\n"
     ]
    },
    {
     "name": "stderr",
     "output_type": "stream",
     "text": [
      " 46%|████▋     | 242/522 [2:01:13<2:12:47, 28.45s/it]"
     ]
    },
    {
     "name": "stdout",
     "output_type": "stream",
     "text": [
      "CAMK2G.seq\n",
      "INFO:root:Reading ./Davis/cut_seqs/CAMK2G.seq\n",
      "MATTATCTRFTDDYQLFEELGKGAFSVVRRCVKKTSTQEYAAKIINTKKLSARDHQKLEREARICRLLKHPNIVRLHDSISEEGFHYLVFDLVTGGELFEDIVAREYYSEADASHCIHQILESVNHIHQHDIVHRDLKPENLLLASKCKGAAVKLADFGLAIEVQGEQQAWFGFAGTPGYLSPEVLRKDPYGKPVDIWACGVILYILLVGYPPFWDEDQHKLYQQIKAGAYDFPSPEWDTVTPEAKNLINQMLTINPAKRITADQALKHPWVCQRSTVASMMHRQETVECLRKFNARRKLKGAILTTMLVSRNFSAAKSLLNKKSDGGVKKRKSSSSVHLMPQSNNKNSLVSPAQEPAPLQTAMEPQTTVVHNATDGIKGSTESCNTTTEDEDLKARSPEGRSSRDRTAPSAGMQPQPSLCSSAMRKQEIIKITEQLIEAINNGDFEAYTKICDPGLTSFEPEALGNLVEGMDFHKFYFENLLSKNSKPIHTTILNPHVHVIGEDAACIAYIRLTQYIDGQGRPRTSQSEETRVWHRRDGKWLNVHYHCSGAPAAPLQ\n",
      "INFO:root:Predicting 1th chain in ./Davis/cut_seqs/CAMK2G.seq\n",
      "INFO:root:558 residues in this chain.\n",
      "INFO:root:Finished prediction in 24.53 seconds.\n",
      "INFO:root:Saving prediction to ./Davis/omega_2/CAMK2G.pdb\n",
      "INFO:root:Saved\n",
      "INFO:root:Done!\n"
     ]
    },
    {
     "name": "stderr",
     "output_type": "stream",
     "text": [
      " 47%|████▋     | 243/522 [2:01:38<2:07:35, 27.44s/it]"
     ]
    },
    {
     "name": "stdout",
     "output_type": "stream",
     "text": [
      "FGFR1_1.seq\n",
      "INFO:root:Reading ./Davis/cut_seqs/FGFR1_1.seq\n",
      "LPEEPCLPRHPAQLANGGLKRR\n",
      "INFO:root:Predicting 1th chain in ./Davis/cut_seqs/FGFR1_1.seq\n",
      "INFO:root:22 residues in this chain.\n",
      "INFO:root:Finished prediction in 0.49 seconds.\n",
      "INFO:root:Saving prediction to ./Davis/omega_2/FGFR1_1.pdb\n",
      "INFO:root:Saved\n",
      "INFO:root:Done!\n"
     ]
    },
    {
     "name": "stderr",
     "output_type": "stream",
     "text": [
      " 47%|████▋     | 244/522 [2:01:39<1:29:52, 19.40s/it]"
     ]
    },
    {
     "name": "stdout",
     "output_type": "stream",
     "text": [
      "ALK_0.seq\n",
      "INFO:root:Reading ./Davis/cut_seqs/ALK_0.seq\n",
      "MGAIGLLWLLPLLLSTAAVGSGMGTGQRAGSPAAGPPLQPREPLSYSRLQRKSLAVDFVVPSLFRVYARDLLLPPSSSELKAGRPEARGSLALDCAPLLRLLGPAPGVSWTAGSPAPAEARTLSRVLKGGSVRKLRRAKQLVLELGEEAILEGCVGPPGEAAVGLLQFNLSELFSWWIRQGEGRLRIRLMPEKKASEVGREGRLSAAIRASQPRLLFQIFGTGHSSLESPTNMPSPSPDYFTWNLTWIMKDSFPFLSHRSRYGLECSFDFPCELEYSPPLHDLRNQSWSWRRIPSEEASQMDLLDGPGAERSKEMPRGSFLLLNTSADSKHTILSPWMRSSSEHCTLAVSVHRHLQPSGRYIAQLLPHNEAAREILLMPTPGKHGWTVLQGRIGRPDNPFRVALEYISSGNRSLSAVDFFALKNCSEGTSPGSKMALQSSFTCWNGTVLQLGQACDFHQDCAQGEDESQMCRKLPVGFYCNFEDGFCGWTQGTLSPHTPQWQVRTLKDARFQDHQDHALLLSTTDVPASESATVTSATFPAPIKSSPCELRMSWLIRGVLRGNVSLVLVENKTGKEQGRMVWHVAAYEGLSLWQWMVLPLLDVSDRFWLQMVAWWGQGSRAIVAFDNISISLDCYLTISGEDKILQNTAPKSRNLFERNPNKELKPGENSPRQTPIFDPTVHWLFTTCGASGPHGPTQAQCNNAYQNSNLSVEVGSEGPLKGIQIWKVPATDTYSISGYGAAGGKGGKNTMMRSHGVSVLGIFNLEKDDMLYILVGQQGEDACPSTNQLIQKVCIGENNV\n",
      "INFO:root:Predicting 1th chain in ./Davis/cut_seqs/ALK_0.seq\n",
      "INFO:root:800 residues in this chain.\n",
      "INFO:root:Finished prediction in 57.17 seconds.\n",
      "INFO:root:Saving prediction to ./Davis/omega_2/ALK_0.pdb\n",
      "INFO:root:Saved\n",
      "INFO:root:Done!\n"
     ]
    },
    {
     "name": "stderr",
     "output_type": "stream",
     "text": [
      " 47%|████▋     | 245/522 [2:02:37<2:23:10, 31.01s/it]"
     ]
    },
    {
     "name": "stdout",
     "output_type": "stream",
     "text": [
      "MYLK2.seq\n",
      "INFO:root:Reading ./Davis/cut_seqs/MYLK2.seq\n",
      "MATENGAVELGIQNPSTDKAPKGPTGERPLAAGKDPGPPDPKKAPDPPTLKKDAKAPASEKGDGTLAQPSTSSQGPKGEGDRGGGPAEGSAGPPAALPQQTATPETSVKKPKAEQGASGSQDPGKPRVGKKAAEGQAAARRGSPAFLHSPSCPAIISSSEKLLAKKPPSEASELTFEGVPMTHSPTDPRPAKAEEGKNILAESQKEVGEKTPGQAGQAKMQGDTSRGIEFQAVPSEKSEVGQALCLTAREEDCFQILDDCPPPPAPFPHRMVELRTGNVSSEFSMNSKEALGGGKFGAVCTCMEKATGLKLAAKVIKKQTPKDKEMVLLEIEVMNQLNHRNLIQLYAAIETPHEIVLFMEYIEGGELFERIVDEDYHLTEVDTMVFVRQICDGILFMHKMRVLHLDLKPENILCVNTTGHLVKIIDFGLARRYNPNEKLKVNFGTPEFLSPEVVNYDQISDKTDMWSMGVITYMLLSGLSPFLGDDDTETLNNVLSGNWYFDEETFEAVSDEAKDFVSNLIVKDQRARMNAAQCLAHPWLNNLAEKAKRCNRRLKSQILLKKYLMKRRWKKNFIAVSAANRFKKISSSGALMALGV\n",
      "INFO:root:Predicting 1th chain in ./Davis/cut_seqs/MYLK2.seq\n",
      "INFO:root:596 residues in this chain.\n",
      "INFO:root:Finished prediction in 28.18 seconds.\n",
      "INFO:root:Saving prediction to ./Davis/omega_2/MYLK2.pdb\n",
      "INFO:root:Saved\n",
      "INFO:root:Done!\n"
     ]
    },
    {
     "name": "stderr",
     "output_type": "stream",
     "text": [
      " 47%|████▋     | 246/522 [2:03:06<2:19:55, 30.42s/it]"
     ]
    },
    {
     "name": "stdout",
     "output_type": "stream",
     "text": [
      "SIK.seq\n",
      "INFO:root:Reading ./Davis/cut_seqs/SIK.seq\n",
      "MVIMSEFSADPAGQGQGQQKPLRVGFYDIERTLGKGNFAVVKLARHRVTKTQVAIKIIDKTRLDSSNLEKIYREVQLMKLLNHPHIIKLYQVMETKDMLYIVTEFAKNGEMFDYLTSNGHLSENEARKKFWQILSAVEYCHDHHIVHRDLKTENLLLDGNMDIKLADFGFGNFYKSGEPLSTWCGSPPYAAPEVFEGKEYEGPQLDIWSLGVVLYVLVCGSLPFDGPNLPTLRQRVLEGRFRIPFFMSQDCESLIRRMLVVDPARRITIAQIRQHRWMRAEPCLPGPACPAFSAHSYTSNLGDYDEQALGIMQTLGVDRQRTVESLQNSSYNHFAAIYYLLLERLKEYRNAQCARPGPARQPRPRSSDLSGLEVPQEGLSTDPFRPALLCPQPQTLVQSVLQAEMDCELQSSLQWPLFFPVDASCSGVFRPRPVSPSSLLDTAISEEARQGPGLEEEQDTQESLPSSTGRRHTLAEVSTRLSPLTAPCIVVSPSTTASPAEGTSSDSCLTFSASKSPAGLSGTPATQGLLGACSPVRLASPFLGSQSATPVLQAQGGLGGAVLLPVSFQEGRRASDTSLTQGLKAFRQQLRKTTRTKGFLGLNKIKGLARQVCQAPASRASRGGLSPFHAPAQSPGLHGGAAGSREGWSLLEEVLEQQRLLQLQHHPAAAPGCSQAPQPAPAPFVIAPCDGPGAAPLPSTLLTSGLPLLPPPLLQTGASPVASAAQLLDTHLHIGTGPTALPAVPPPRLARLAPGCEPLGLLQGDCEMEDLMPCSLGTFVLVQ\n",
      "INFO:root:Predicting 1th chain in ./Davis/cut_seqs/SIK.seq\n",
      "INFO:root:783 residues in this chain.\n",
      "INFO:root:Finished prediction in 57.25 seconds.\n",
      "INFO:root:Saving prediction to ./Davis/omega_2/SIK.pdb\n",
      "INFO:root:Saved\n",
      "INFO:root:Done!\n"
     ]
    },
    {
     "name": "stderr",
     "output_type": "stream",
     "text": [
      " 47%|████▋     | 247/522 [2:04:04<2:57:31, 38.73s/it]"
     ]
    },
    {
     "name": "stdout",
     "output_type": "stream",
     "text": [
      "DYRK2.seq\n",
      "INFO:root:Reading ./Davis/cut_seqs/DYRK2.seq\n",
      "MLTRKPSAAAPAAYPTGRGGDSAVRQLQASPGLGAGATRSGVGTGPPSPIALPPLRASNAAAAAHTIGGSKHTMNDHLHVGSHAHGQIQVQQLFEDNSNKRTVLTTQPNGLTTVGKTGLPVVPERQLDSIHRRQGSSTSLKSMEGMGKVKATPMTPEQAMKQYMQKLTAFEHHEIFSYPEIYFLGLNAKKRQGMTGGPNNGGYDDDQGSYVQVPHDHVAYRYEVLKVIGKGSFGQVVKAYDHKVHQHVALKMVRNEKRFHRQAAEEIRILEHLRKQDKDNTMNVIHMLENFTFRNHICMTFELLSMNLYELIKKNKFQGFSLPLVRKFAHSILQCLDALHKNRIIHCDLKPENILLKQQGRSGIKVIDFGSSCYEHQRVYTYIQSRFYRAPEVILGARYGMPIDMWSLGCILAELLTGYPLLPGEDEGDQLACMIELLGMPSQKLLDASKRAKNFVSSKGYPRYCTVTTLSDGSVVLNGGRSRRGKLRGPPESREWGNALKGCDDPLFLDFLKQCLEWDPAVRMTPGQALRHPWLRRRLPKPPTGEKTSVKRITESTGAITSISKLPPPSSSASKLRTNLAQMTDANGNIQQRTVLPKLVS\n",
      "INFO:root:Predicting 1th chain in ./Davis/cut_seqs/DYRK2.seq\n",
      "INFO:root:601 residues in this chain.\n",
      "INFO:root:Finished prediction in 29.95 seconds.\n",
      "INFO:root:Saving prediction to ./Davis/omega_2/DYRK2.pdb\n",
      "INFO:root:Saved\n",
      "INFO:root:Done!\n"
     ]
    },
    {
     "name": "stderr",
     "output_type": "stream",
     "text": [
      " 48%|████▊     | 248/522 [2:04:35<2:45:43, 36.29s/it]"
     ]
    },
    {
     "name": "stdout",
     "output_type": "stream",
     "text": [
      "MUSK_1.seq\n",
      "INFO:root:Reading ./Davis/cut_seqs/MUSK_1.seq\n",
      "QPYYGMAHEEVIYYVRDGNILSCPENCPVELYNLMRLCWSKLPADRPSFTSIHRILERMCERAEGTVSV\n",
      "INFO:root:Predicting 1th chain in ./Davis/cut_seqs/MUSK_1.seq\n",
      "INFO:root:69 residues in this chain.\n",
      "INFO:root:Finished prediction in 0.57 seconds.\n",
      "INFO:root:Saving prediction to ./Davis/omega_2/MUSK_1.pdb\n",
      "INFO:root:Saved\n",
      "INFO:root:Done!\n"
     ]
    },
    {
     "name": "stderr",
     "output_type": "stream",
     "text": [
      " 48%|████▊     | 249/522 [2:04:35<1:56:36, 25.63s/it]"
     ]
    },
    {
     "name": "stdout",
     "output_type": "stream",
     "text": [
      "GSK3B.seq\n",
      "INFO:root:Reading ./Davis/cut_seqs/GSK3B.seq\n",
      "MSGRPRTTSFAESCKPVQQPSAFGSMKVSRDKDGSKVTTVVATPGQGPDRPQEVSYTDTKVIGNGSFGVVYQAKLCDSGELVAIKKVLQDKRFKNRELQIMRKLDHCNIVRLRYFFYSSGEKKDEVYLNLVLDYVPETVYRVARHYSRAKQTLPVIYVKLYMYQLFRSLAYIHSFGICHRDIKPQNLLLDPDTAVLKLCDFGSAKQLVRGEPNVSYICSRYYRAPELIFGATDYTSSIDVWSAGCVLAELLLGQPIFPGDSGVDQLVEIIKVLGTPTREQIREMNPNYTEFKFPQIKAHPWTKVFRPRTPPEAIALCSRLLEYTPTARLTPLEACAHSFFDELRDPNVKLPNGRDTPALFNFTTQELSSNPPLATILIPPHARIQAAASTPTNATAASDANTGDRGQTNNAASASASNST\n",
      "INFO:root:Predicting 1th chain in ./Davis/cut_seqs/GSK3B.seq\n",
      "INFO:root:420 residues in this chain.\n",
      "INFO:root:Finished prediction in 12.18 seconds.\n",
      "INFO:root:Saving prediction to ./Davis/omega_2/GSK3B.pdb\n",
      "INFO:root:Saved\n",
      "INFO:root:Done!\n"
     ]
    },
    {
     "name": "stderr",
     "output_type": "stream",
     "text": [
      " 48%|████▊     | 250/522 [2:04:48<1:38:22, 21.70s/it]"
     ]
    },
    {
     "name": "stdout",
     "output_type": "stream",
     "text": [
      "BMPR2_1.seq\n",
      "INFO:root:Reading ./Davis/cut_seqs/BMPR2_1.seq\n",
      "VVTVTMNGVAGRNHSVNSHAATTQYANGTVLSGQTTNIVTHRAQEMLQNQFIGEDTRLNINSSPDEHEPLLRREQQAGHDEGVLDRLVDRRERPLEGGRTNSNNNNSNPCSEQDVLAQGVPSTAADPGPSKPRRAQRPNSLDLSATNVLDGSSIQIGESTQDGKSGSGEKIKKRVKTPYSLKRWRPSTWVISTESLDCEVNNNGSNRAVHSKSSTAVYLAEGGTATTMVSKDIGMNCL\n",
      "INFO:root:Predicting 1th chain in ./Davis/cut_seqs/BMPR2_1.seq\n",
      "INFO:root:238 residues in this chain.\n",
      "INFO:root:Finished prediction in 3.17 seconds.\n",
      "INFO:root:Saving prediction to ./Davis/omega_2/BMPR2_1.pdb\n",
      "INFO:root:Saved\n",
      "INFO:root:Done!\n"
     ]
    },
    {
     "name": "stderr",
     "output_type": "stream",
     "text": [
      " 48%|████▊     | 251/522 [2:04:51<1:13:14, 16.22s/it]"
     ]
    },
    {
     "name": "stdout",
     "output_type": "stream",
     "text": [
      "CAMK1G.seq\n",
      "INFO:root:Reading ./Davis/cut_seqs/CAMK1G.seq\n",
      "MGRKEEDDCSSWKKQTTNIRKTFIFMEVLGSGAFSEVFLVKQRLTGKLFALKCIKKSPAFRDSSLENEIAVLKKIKHENIVTLEDIYESTTHYYLVMQLVSGGELFDRILERGVYTEKDASLVIQQVLSAVKYLHENGIVHRDLKPENLLYLTPEENSKIMITDFGLSKMEQNGIMSTACGTPGYVAPEVLAQKPYSKAVDCWSIGVITYILLCGYPPFYEETESKLFEKIKEGYYEFESPFWDDISESAKDFICHLLEKDPNERYTCEKALSHPWIDGNTALHRDIYPSVSLQIQKNFAKSKWRQAFNAAAVVHHMRKLHMNLHSPGVRPEVENRPPETQASETSRPSSPEITITEAPVLDHSVALPALTQLPCQHGRRPTAPGGRSLNCLVNGSLHISSSLVPMHQGSLAAGPCGCCSSCLNIGSKGKSSYCSEPTLLKKANKKQNFKSEVMVPVKASGSSHCRAGQTGVCLIM\n",
      "INFO:root:Predicting 1th chain in ./Davis/cut_seqs/CAMK1G.seq\n",
      "INFO:root:476 residues in this chain.\n",
      "INFO:root:Finished prediction in 16.54 seconds.\n",
      "INFO:root:Saving prediction to ./Davis/omega_2/CAMK1G.pdb\n",
      "INFO:root:Saved\n",
      "INFO:root:Done!\n"
     ]
    },
    {
     "name": "stderr",
     "output_type": "stream",
     "text": [
      " 48%|████▊     | 252/522 [2:05:08<1:14:01, 16.45s/it]"
     ]
    },
    {
     "name": "stdout",
     "output_type": "stream",
     "text": [
      "EGFR_0.seq\n",
      "INFO:root:Reading ./Davis/cut_seqs/EGFR_0.seq\n",
      "MRPSGTAGAALLALLAALCPASRALEEKKVCQGTSNKLTQLGTFEDHFLSLQRMFNNCEVVLGNLEITYVQRNYDLSFLKTIQEVAGYVLIALNTVERIPLENLQIIRGNMYYENSYALAVLSNYDANKTGLKELPMRNLQEILHGAVRFSNNPALCNVESIQWRDIVSSDFLSNMSMDFQNHLGSCQKCDPSCPNGSCWGAGEENCQKLTKIICAQQCSGRCRGKSPSDCCHNQCAAGCTGPRESDCLVCRKFRDEATCKDTCPPLMLYNPTTYQMDVNPEGKYSFGATCVKKCPRNYVVTDHGSCVRACGADSYEMEEDGVRKCKKCEGPCRKVCNGIGIGEFKDSLSINATNIKHFKNCTSISGDLHILPVAFRGDSFTHTPPLDPQELDILKTVKEITGFLLIQAWPENRTDLHAFENLEIIRGRTKQHGQFSLAVVSLNITSLGLRSLKEISDGDVIISGNKNLCYANTINWKKLFGTSGQKTKIISNRGENSCKATGQVCHALCSPEGCWGPEPRDCVSCRNVSRGRECVDKCNLLEGEPREFVENSECIQCHPECLPQAMNITCTGRGPDNCIQCAHYIDGPHCVKTCPAGVMGENNTLVWKYADAGHVCHLCHPNCTYGCTGPGLEGCPTNGPKIPSIATGMVGALLLLLVVALGIGLFMRRRHIVRKRTLRRLLQERELVEPLTPSGEAPNQALLRILKETEFKKIKVLGSGAFGTVYKGLWIPEGEKVKIPVAIKELREATSPKANKEILDEAYVMASVDNPHVCRLLGICLTSTVQLITQLMPFGCLLD\n",
      "INFO:root:Predicting 1th chain in ./Davis/cut_seqs/EGFR_0.seq\n",
      "INFO:root:800 residues in this chain.\n",
      "INFO:root:Finished prediction in 57.08 seconds.\n",
      "INFO:root:Saving prediction to ./Davis/omega_2/EGFR_0.pdb\n",
      "INFO:root:Saved\n",
      "INFO:root:Done!\n"
     ]
    },
    {
     "name": "stderr",
     "output_type": "stream",
     "text": [
      " 48%|████▊     | 253/522 [2:06:06<2:09:32, 28.89s/it]"
     ]
    },
    {
     "name": "stdout",
     "output_type": "stream",
     "text": [
      "TLK1.seq\n",
      "INFO:root:Reading ./Davis/cut_seqs/TLK1.seq\n",
      "MSVQSSSGSLEGPPSWSQLSTSPTPGSAAAARSLLNHTPPSGRPREGAMDELHSLDPRRQELLEARFTGVASGSTGSTGSCSVGAKASTNNESSNHSFGSLGSLSDKESETPEKKQSESSRGRKRKAENQNESSQGKSIGGRGHKISDYFEYQGGNGSSPVRGIPPAIRSPQNSHSHSTPSSSVRPNSPSPTALAFGDHPIVQPKQLSFKIIQTDLTMLKLAALESNKIQDLEKKEGRIDDLLRANCDLRRQIDEQQKLLEKYKERLNKCISMSKKLLIEKSTQEKLSSREKSMQDRLRLGHFTTVRHGASFTEQWTDGFAFQNLVKQQEWVNQQREDIERQRKLLAKRKPPTANNSQAPSTNSEPKQRKNKAVNGAENDPFVRPNLPQLLTLAEYHEQEEIFKLRLGHLKKEEAEIQAELERLERVRNLHIRELKRINNEDNSQFKDHPTLNERYLLLHLLGRGGFSEVYKAFDLYEQRYAAVKIHQLNKSWRDEKKENYHKHACREYRIHKELDHPRIVKLYDYFSLDTDTFCTVLEYCEGNDLDFYLKQHKLMSEKEARSIVMQIVNALRYLNEIKPPIIHYDLKPGNILLVDGTACGEIKITDFGLSKIMDDDSYGVDGMDLTSQGAGTYWYLPPECFVVGKEPPKISNKVDVWSVGVIFFQCLYGRKPFGHNQSQQDILQENTILKATEVQFPVKPVVSSEAKAFIRRCLAYRKEDRFDVHQLANDPYLLPHMRRSNSSGNLHMAGLTASPTPPSSSIITY\n",
      "INFO:root:Predicting 1th chain in ./Davis/cut_seqs/TLK1.seq\n",
      "INFO:root:766 residues in this chain.\n",
      "INFO:root:Finished prediction in 54.52 seconds.\n",
      "INFO:root:Saving prediction to ./Davis/omega_2/TLK1.pdb\n",
      "INFO:root:Saved\n",
      "INFO:root:Done!\n"
     ]
    },
    {
     "name": "stderr",
     "output_type": "stream",
     "text": [
      " 49%|████▊     | 254/522 [2:07:01<2:44:28, 36.82s/it]"
     ]
    },
    {
     "name": "stdout",
     "output_type": "stream",
     "text": [
      "BRSK2.seq\n",
      "INFO:root:Reading ./Davis/cut_seqs/BRSK2.seq\n",
      "MTSTGKDGGAQHAQYVGPYRLEKTLGKGQTGLVKLGVHCVTCQKVAIKIVNREKLSESVLMKVEREIAILKLIEHPHVLKLHDVYENKKYLYLVLEHVSGGELFDYLVKKGRLTPKEARKFFRQIISALDFCHSHSICHRDLKPENLLLDEKNNIRIADFGMASLQVGDSLLETSCGSPHYACPEVIRGEKYDGRKADVWSCGVILFALLVGALPFDDDNLRQLLEKVKRGVFHMPHFIPPDCQSLLRGMIEVDAARRLTLEHIQKHIWYIGGKNEPEPEQPIPRKVQIRSLPSLEDIDPDVLDSMHSLGCFRDRNKLLQDLLSEEENQEKMIYFLLLDRKERYPSQEDEDLPPRNEIDPPRKRVDSPMLNRHGKRRPERKSMEVLSVTDGGSPVPARRAIEMAQHGQRSRSISGASSGLSTSPLSSPRVTPHPSPRGSPLPTPKGTPVHTPKESPAGTPNPTPPSSPSVGGVPWRARLNSIKNSFLGSPRFHRRKLQVPTPEEMSNLTPESSPELAKKSWFGNFISLEKEEQIFVVIKDKPLSSIKADIVHAFLSIPSLSHSVISQTSFRAEYKATGGPAVFQKPVKFQVDITYTEGGEAQKENGIYSVTFTLLSGPSRRFKRVVETIQAQLLSTHDPPAAQHLSDTTNCMEMMTGRLSKCGSPLSNFFDVIKQLFSDEKNGQAAQAPSTPAKRSAHGPLGDSAAAGPGPGGDAEYPTGKDTAKMGPPTARREQP\n",
      "INFO:root:Predicting 1th chain in ./Davis/cut_seqs/BRSK2.seq\n",
      "INFO:root:736 residues in this chain.\n",
      "INFO:root:Finished prediction in 47.32 seconds.\n",
      "INFO:root:Saving prediction to ./Davis/omega_2/BRSK2.pdb\n",
      "INFO:root:Saved\n",
      "INFO:root:Done!\n"
     ]
    },
    {
     "name": "stderr",
     "output_type": "stream",
     "text": [
      " 49%|████▉     | 255/522 [2:07:50<2:59:45, 40.39s/it]"
     ]
    },
    {
     "name": "stdout",
     "output_type": "stream",
     "text": [
      "ERBB3_1.seq\n",
      "INFO:root:Reading ./Davis/cut_seqs/ERBB3_1.seq\n",
      "QHRGALGPQLLLNWGVQIAKGMYYLEEHGMVHRNLAARNVLLKSPSQVQVADFGVADLLPPDDKQLLYSEAKTPIKWMALESIHFGKYTHQSDVWSYGVTVWELMTFGAEPYAGLRLAEVPDLLEKGERLAQPQICTIDVYMVMVKCWMIDENIRPTFKELANEFTRMARDPPRYLVIKRESGPGIAPGPEPHGLTNKKLEEVELEPELDLDLDLEAEEDNLATTTLGSALSLPVGTLNRPRGSQSLLSPSSGYMPMNQGNLGESCQESAVSGSSERCPRPVSLHPMPRGCLASESSEGHVTGSEAELQEKVSMCRSRSRSRSPRPRGDSAYHSQRHSLLTPVTPLSPPGLEEEDVNGYVMPDTHLKGTPSSREGTLSSVGLSSVLGTEEEDEDEEYEYMNRRRRHSPPHPPRPSSLEELGYEYMDVGSDLSASLGSTQSCPLHPVPIMPTAGTTPDEDYEYMNRQRDGGGPGGDYAAMGACPASEQGYEEMRAFQGPGHQAPHVHYARLKTLRSLEATDSAFDNPDYWHSRLFPKANAQRT\n",
      "INFO:root:Predicting 1th chain in ./Davis/cut_seqs/ERBB3_1.seq\n",
      "INFO:root:542 residues in this chain.\n",
      "INFO:root:Finished prediction in 22.96 seconds.\n",
      "INFO:root:Saving prediction to ./Davis/omega_2/ERBB3_1.pdb\n",
      "INFO:root:Saved\n",
      "INFO:root:Done!\n"
     ]
    },
    {
     "name": "stderr",
     "output_type": "stream",
     "text": [
      " 49%|████▉     | 256/522 [2:08:14<2:36:39, 35.34s/it]"
     ]
    },
    {
     "name": "stdout",
     "output_type": "stream",
     "text": [
      "PAK3.seq\n",
      "INFO:root:Reading ./Davis/cut_seqs/PAK3.seq\n",
      "MSDGLDNEEKPPAPPLRMNSNNRDSSALNHSSKPLPMAPEEKNKKARLRSIFPGGGDKTNKKKEKERPEISLPSDFEHTIHVGFDAVTGEFTPDLYGSQMCPGKLPEGIPEQWARLLQTSNITKLEQKKNPQAVLDVLKFYDSKETVNNQKYMSFTSGDKSAHGYIAAHPSSTKTASEPPLAPPVSEEEDEEEEEEEDENEPPPVIAPRPEHTKSIYTRSVVESIASPAVPNKEVTPPSAENANSSTLYRNTDRQRKKSKMTDEEILEKLRSIVSVGDPKKKYTRFEKIGQGASGTVYTALDIATGQEVAIKQMNLQQQPKKELIINEILVMRENKNPNIVNYLDSYLVGDELWVVMEYLAGGSLTDVVTETCMDEGQIAAVCRECLQALDFLHSNQVIHRDIKSDNILLGMDGSVKLTDFGFCAQITPEQSKRSTMVGTPYWMAPEVVTRKAYGPKVDIWSLGIMAIEMVEGEPPYLNENPLRALYLIATNGTPELQNPERLSAVFRDFLNRCLEMDVDRRGSAKELLQHPFLKLAKPLSSLTPLIIAAKEAIKNSSR\n",
      "INFO:root:Predicting 1th chain in ./Davis/cut_seqs/PAK3.seq\n",
      "INFO:root:559 residues in this chain.\n",
      "INFO:root:Finished prediction in 24.85 seconds.\n",
      "INFO:root:Saving prediction to ./Davis/omega_2/PAK3.pdb\n",
      "INFO:root:Saved\n",
      "INFO:root:Done!\n"
     ]
    },
    {
     "name": "stderr",
     "output_type": "stream",
     "text": [
      " 49%|████▉     | 257/522 [2:08:39<2:22:59, 32.37s/it]"
     ]
    },
    {
     "name": "stdout",
     "output_type": "stream",
     "text": [
      "CDC2L2.seq\n",
      "INFO:root:Reading ./Davis/cut_seqs/CDC2L2.seq\n",
      "EESEEEEEEEEEEEEETGSNSEEASEQSAEEVSEEEMSEDEERENENHLLVVPESRFDRDSGESEEAEEEVGEGTPQSSALTEGDYVPDSPALLPIELKQELPKYLPALQGCRSVEEFQCLNRIEEGTYGVVYRAKDKKTDEIVALKRLKMEKEKEGFPITSLREINTILKAQHPNIVTVREIVVGSNMDKIYIVMNYVEHDLKSLMETMKQPFLPGEVKTLMIQLLRGVKHLHDNWILHRDLKTSNLLLSHAGILKVGDFGLAREYGSPLKAYTPVVVTQWYRAPELLLGAKEYSTAVDMWSVGCIFGELLTQKPLFPGNSEIDQINKVFKELGTPSEKIWPGYSELPVVKKMTFSEHPYNNLRKRFGALLSDQGFDLMNKFLTYFPGRRISAEDGLKHEYFRETPLPIDPSMFPTWPAKSEQQRVKRGTSPRPPEGGLGYSQLGDDDLKETGFHLTTTNQGASAAGPGFSLKF\n",
      "INFO:root:Predicting 1th chain in ./Davis/cut_seqs/CDC2L2.seq\n",
      "INFO:root:475 residues in this chain.\n",
      "INFO:root:Finished prediction in 16.78 seconds.\n",
      "INFO:root:Saving prediction to ./Davis/omega_2/CDC2L2.pdb\n",
      "INFO:root:Saved\n",
      "INFO:root:Done!\n"
     ]
    },
    {
     "name": "stderr",
     "output_type": "stream",
     "text": [
      " 49%|████▉     | 258/522 [2:08:56<2:02:28, 27.84s/it]"
     ]
    },
    {
     "name": "stdout",
     "output_type": "stream",
     "text": [
      "TESK1.seq\n",
      "INFO:root:Reading ./Davis/cut_seqs/TESK1.seq\n",
      "LKMNKLPSNRGNTLREVQLMNRLRHPNILRFMGVCVHQGQLHALTEYMNGGTLEXLLSSPEPLSWPVRLHLALDIARGLRYLHSKGVFHRDLTSKNCLVRREDRGFTAVVGDFGLAEKIPVYREGARKEPLAVVGSPYWMAPEVLRGELYDEKADVFAFGIVLCELIARVPADPDYLPRTEDFGLDVPAFRTLVGDDCPLPFLLLAIHCCNLEPSTRAPFTEITQHLEWILEQLPEPAPLTXTA\n",
      "INFO:root:Predicting 1th chain in ./Davis/cut_seqs/TESK1.seq\n",
      "INFO:root:244 residues in this chain.\n",
      "INFO:root:Finished prediction in 3.35 seconds.\n",
      "INFO:root:Saving prediction to ./Davis/omega_2/TESK1.pdb\n",
      "INFO:root:Saved\n",
      "INFO:root:Done!\n"
     ]
    },
    {
     "name": "stderr",
     "output_type": "stream",
     "text": [
      " 50%|████▉     | 259/522 [2:09:00<1:30:09, 20.57s/it]"
     ]
    },
    {
     "name": "stdout",
     "output_type": "stream",
     "text": [
      "FLT3_1.seq\n",
      "INFO:root:Reading ./Davis/cut_seqs/FLT3_1.seq\n",
      "FLEFKSCVHRDLAARNVLVTHGKVVKICDFGLARDIMSDSNYVVRGNARLPVKWMAPESLFEGIYTIKSDVWSYGILLWEIFSLGVNPYPGIPVDANFYKLIQNGFKMDQPFYATEEIYIIMQSCWAFDSRKRPSFPNLTSFLGCQLADAEEAMYQNVDGRVSECPHTYQNRRPFSREMDLGLLSPQAQVEDS\n",
      "INFO:root:Predicting 1th chain in ./Davis/cut_seqs/FLT3_1.seq\n",
      "INFO:root:193 residues in this chain.\n",
      "INFO:root:Finished prediction in 2.06 seconds.\n",
      "INFO:root:Saving prediction to ./Davis/omega_2/FLT3_1.pdb\n",
      "INFO:root:Saved\n",
      "INFO:root:Done!\n"
     ]
    },
    {
     "name": "stderr",
     "output_type": "stream",
     "text": [
      " 50%|████▉     | 260/522 [2:09:02<1:05:49, 15.08s/it]"
     ]
    },
    {
     "name": "stdout",
     "output_type": "stream",
     "text": [
      "NEK11.seq\n",
      "INFO:root:Reading ./Davis/cut_seqs/NEK11.seq\n",
      "MLKFQEAAKCVSGSTAISTYPKTLIARRYVLQQKLGSGSFGTVYLVSDKKAKRGEELKVLKEISVGELNPNETVQANLEAQLLSKLDHPAIVKFHASFVEQDNFCIITEYCEGRDLDDKIQEYKQAGKIFPENQIIEWFIQLLLGVDYMHERRILHRDLKSKNVFLKNNLLKIGDFGVSRLLMGSCDLATTLTGTPHYMSPEALKHQGYDTKSDIWSLACILYEMCCMNHAFAGSNFLSIVLKIVEGDTPSLPERYPKELNAIMESMLNKNPSLRPSAIEILKIPYLDEQLQNLMCRYSEMTLEDKNLDCQKEAAHIINAMQKRIHLQTLRALSEVQKMTPRERMRLRKLQAADEKARKLKKIVEEKYEENSKRMQELRSRNFQQLSVDVLHEKTHLKGMEEKEEQPEGRLSCSPQDEDEERWQGREEESDEPTLENLPESQPIPSMDLHELESIVEDATSDLGYHEIPEDPLVAEEYYADAFDSYCEESDEEEEEIALERPEKEIRNEGSQPAYRTNQQDSDIEALARCLENVLGCTSLDTKTITTMAEDMSPGPPIFNSVMARTKMKRMRESAMQKLGTEVFEEVYNYLKRARHQNASEAEIRECLEKVVPQASDCFEVDQLLYFEEQLLITMGKEPTLQNHL\n",
      "INFO:root:Predicting 1th chain in ./Davis/cut_seqs/NEK11.seq\n",
      "INFO:root:645 residues in this chain.\n",
      "INFO:root:Finished prediction in 35.29 seconds.\n",
      "INFO:root:Saving prediction to ./Davis/omega_2/NEK11.pdb\n",
      "INFO:root:Saved\n",
      "INFO:root:Done!\n"
     ]
    },
    {
     "name": "stderr",
     "output_type": "stream",
     "text": [
      " 50%|█████     | 261/522 [2:09:38<1:32:49, 21.34s/it]"
     ]
    },
    {
     "name": "stdout",
     "output_type": "stream",
     "text": [
      "TYK2(JH1domain-catalytic)_0.seq\n",
      "INFO:root:Reading ./Davis/cut_seqs/TYK2(JH1domain-catalytic)_0.seq\n",
      "MPLRHWGMARGSKPVGDGAQPMAAMGGLKVLLHWAGPGGGEPWVTFSESSLTAEEVCIHIAHKVGITPPCFNLFALFDAQAQVWLPPNHILEIPRDASLMLYFRIRFYFRNWHGMNPREPAVYRCGPPGTEASSDQTAQGMQLLDPASFEYLFEQGKHEFVNDVASLWELSTEEEIHHFKNESLGMAFLHLCHLALRHGIPLEEVAKKTSFKDCIPRSFRRHIRQHSALTRLRLRNVFRRFLRDFQPGRLSQQMVMVKYLATLERLAPRFGTERVPVCHLRLLAQAEGEPCYIRDSGVAPTDPGPESAAGPPTHEVLVTGTGGIQWWPVEEEVNKEEGSSGSSGRNPQASLFGKKAKAHKAVGQPADRPREPLWAYFCDFRDITHVVLKEHCVSIHRQDNKCLELSLPSRAAALSFVSLVDGYFRLTADSSHYLCHEVAPPRLVMSIRDGIHGPLLEPFVQAKLRPEDGLYLIHWSTSHPYRLILTVAQRSQAPDGMQSLRLRKFPIEQQDGAFVLEGWGRSFPSVRELGAALQGCLLRAGDDCFSLRRCCLPQPGETSNLIIMRGARASPRTLNLSQLSFHRVDQKEITQLSHLGQGTRTNVYEGRLRVEGSGDPEEGKMDDEDPLVPGRDRGQELRVVLKVLDPSHHDIALAFYETASLMSQVSHTHLAFVHGVCVRGPENIMVTEYVEHGPLDVWLRRERGHVPMAWKMVVAQQLASALSYLENKNLVHGNVCGRNILLARLGLAEGTSPFIKLSDPGVGLGALSREERVERIPWLAPECLPGGANSLSTAMDKWGF\n",
      "INFO:root:Predicting 1th chain in ./Davis/cut_seqs/TYK2(JH1domain-catalytic)_0.seq\n",
      "INFO:root:800 residues in this chain.\n",
      "INFO:root:Finished prediction in 57.07 seconds.\n",
      "INFO:root:Saving prediction to ./Davis/omega_2/TYK2(JH1domain-catalytic)_0.pdb\n",
      "INFO:root:Saved\n",
      "INFO:root:Done!\n"
     ]
    },
    {
     "name": "stderr",
     "output_type": "stream",
     "text": [
      " 50%|█████     | 262/522 [2:10:36<2:20:03, 32.32s/it]"
     ]
    },
    {
     "name": "stdout",
     "output_type": "stream",
     "text": [
      "FLT1_0.seq\n",
      "INFO:root:Reading ./Davis/cut_seqs/FLT1_0.seq\n",
      "MVSYWDTGVLLCALLSCLLLTGSSSGSKLKDPELSLKGTQHIMQAGQTLHLQCRGEAAHKWSLPEMVSKESERLSITKSACGRNGKQFCSTLTLNTAQANHTGFYSCKYLAVPTSKKKETESAIYIFISDTGRPFVEMYSEIPEIIHMTEGRELVIPCRVTSPNITVTLKKFPLDTLIPDGKRIIWDSRKGFIISNATYKEIGLLTCEATVNGHLYKTNYLTHRQTNTIIDVQISTPRPVKLLRGHTLVLNCTATTPLNTRVQMTWSYPDEKNKRASVRRRIDQSNSHANIFYSVLTIDKMQNKDKGLYTCRVRSGPSFKSVNTSVHIYDKAFITVKHRKQQVLETVAGKRSYRLSMKVKAFPSPEVVWLKDGLPATEKSARYLTRGYSLIIKDVTEEDAGNYTILLSIKQSNVFKNLTATLIVNVKPQIYEKAVSSFPDPALYPLGSRQILTCTAYGIPQPTIKWFWHPCNHNHSEARCDFCSNNEESFILDADSNMGNRIESITQRMAIIEGKNKMASTLVVADSRISGIYICIASNKVGTVGRNISFYITDVPNGFHVNLEKMPTEGEDLKLSCTVNKFLYRDVTWILLRTVNNRTMHYSISKQKMAITKEHSITLNLTIMNVSLQDSGTYACRARNVYTGEEILQKKEITIRDQEAPYLLRNLSDHTVAISSSTTLDCHANGVPEPQITWFKNNHKIQQEPGIILGPGSSTLFIERVTEEDEGVYHCKATNQKGSVESSAYLTVQGTSDKSNLELITLTCTCVAATLFWLLLTLFIRKMKRSSSEIKTDYLSIIMD\n",
      "INFO:root:Predicting 1th chain in ./Davis/cut_seqs/FLT1_0.seq\n",
      "INFO:root:800 residues in this chain.\n",
      "INFO:root:Finished prediction in 57.04 seconds.\n",
      "INFO:root:Saving prediction to ./Davis/omega_2/FLT1_0.pdb\n",
      "INFO:root:Saved\n",
      "INFO:root:Done!\n"
     ]
    },
    {
     "name": "stderr",
     "output_type": "stream",
     "text": [
      " 50%|█████     | 263/522 [2:11:34<2:52:37, 39.99s/it]"
     ]
    },
    {
     "name": "stdout",
     "output_type": "stream",
     "text": [
      "RAF1.seq\n",
      "INFO:root:Reading ./Davis/cut_seqs/RAF1.seq\n",
      "MEHIQGAWKTISNGFGFKDAVFDGSSCISPTIVQQFGYQRRASDDGKLTDPSKTSNTIRVFLPNKQRTVVNVRNGMSLHDCLMKALKVRGLQPECCAVFRLLHEHKGKKARLDWNTDAASLIGEELQVDFLDHVPLTTHNFARKTFLKLAFCDICQKFLLNGFRCQTCGYKFHEHCSTKVPTMCVDWSNIRQLLLFPNSTIGDSGVPALPSLTMRRMRESVSRMPVSSQHRYSTPHAFTFNTSSPSSEGSLSQRQRSTSTPNVHMVSTTLPVDSRMIEDAIRSHSESASPSALSSSPNNLSPTGWSQPKTPVPAQRERAPVSGTQEKNKIRPRGQRDSSYYWEIEASEVMLSTRIGSGSFGTVYKGKWHGDVAVKILKVVDPTPEQFQAFRNEVAVLRKTRHVNILLFMGYMTKDNLAIVTQWCEGSSLYKHLHVQETKFQMFQLIDIARQTAQGMDYLHAKNIIHRDMKSNNIFLHEGLTVKIGDFGLATVKSRWSGSQQVEQPTGSVLWMAPEVIRMQDNNPFSFQSDVYSYGIVLYELMTGELPYSHINNRDQIIFMVGRGYASPDLSKLYKNCPKAMKRLVADCVKKVKEERPLFPQILSSIELLQHSLPKINRSASEPSLHRAAHTEDINACTLTTSPRLPVF\n",
      "INFO:root:Predicting 1th chain in ./Davis/cut_seqs/RAF1.seq\n",
      "INFO:root:648 residues in this chain.\n",
      "INFO:root:Finished prediction in 34.29 seconds.\n",
      "INFO:root:Saving prediction to ./Davis/omega_2/RAF1.pdb\n",
      "INFO:root:Saved\n",
      "INFO:root:Done!\n"
     ]
    },
    {
     "name": "stderr",
     "output_type": "stream",
     "text": [
      " 51%|█████     | 264/522 [2:12:09<2:45:28, 38.48s/it]"
     ]
    },
    {
     "name": "stdout",
     "output_type": "stream",
     "text": [
      "LRRK2_2.seq\n",
      "INFO:root:Reading ./Davis/cut_seqs/LRRK2_2.seq\n",
      "KWLCKIMAQILTVKVEGCPKHPKGIISRRDVEKFLSKKRKFPKNYMSQYFKLLEKFQIALPIGEEYLLVPSSLSDHRPVIELPHCENSEIIIRLYEMPYFPMGFWSRLINRLLEISPYMLSGRERALRPNRMYWRQGIYLNWSPEAYCLVGSEVLDNHPESFLKITVPSCRKGCILLGQVVDHIDSLMEEWFPGLLEIDICGEGETLLKKWALYSFNDGEEHQKILLDDLMKKAEEGDLLVNPDQPRLTIPISQIAPDLILADLPRNIMLNNDELEFEQAPEFLLGDGSFGSVYRAAYEGEEVAVKIFNKHTSLRLLRQELVVLCHLHHPSLISLLAAGIRPRMLVMELASKGSLDRLLQQDKASLTRTLQHRIALHVADGLRYLHSAMIIYRDLKPHNVLLFTLYPNAAIIAKIADYGIAQYCCRMGIKTSEGTPGFRAPEVARGNVIYNQQADVYSFGLLLYDILTTGGRIVEGLKFPNEFDELEIQGKLPDPVKEYGCAPWPMVEKLIKQCLKENPQERPTSAQVFDILNSAELVCLTRRILLPKNVIVECMVATHHNSRNASIWLGCGHTDRGQLSFLDLNTEGYTSEEVADSRILCLALVHLPVEKESWIVSGTQSGTLLVINTEDGKKRHTLEKMTDSVTCLYCNSFSKQSKQKNFLLVGTADGKLAIFEDKTVKLKGAAPLKILNIGNVSTPLMCLSESTNSTERNVMWGGCGTKIFSFSNDFTIQKLIETRTSQLFSYAAFSDSNIITVVVDTALYIAKQNSPVVEVWDKKTEKLCGLIDCVHFLREVMVKE\n",
      "INFO:root:Predicting 1th chain in ./Davis/cut_seqs/LRRK2_2.seq\n",
      "INFO:root:800 residues in this chain.\n",
      "INFO:root:Finished prediction in 57.07 seconds.\n",
      "INFO:root:Saving prediction to ./Davis/omega_2/LRRK2_2.pdb\n",
      "INFO:root:Saved\n",
      "INFO:root:Done!\n"
     ]
    },
    {
     "name": "stderr",
     "output_type": "stream",
     "text": [
      " 51%|█████     | 265/522 [2:13:08<3:10:51, 44.56s/it]"
     ]
    },
    {
     "name": "stdout",
     "output_type": "stream",
     "text": [
      "YSK4_1.seq\n",
      "INFO:root:Reading ./Davis/cut_seqs/YSK4_1.seq\n",
      "FPPVSDLSIVEEVSMEESTGDRDISNNQILTTSLRDLQELEELHHQIPFIPSEDSWAVPSEKNSNKYVQQEKQNTASLSKVNASRILTNDLEFDSVSDHSKTLTNFSFQAKQESASSQTYQYWVHYLDHDSLANKSITYQMFGKTLSGTNSISQEIMDSVNNEELTDELLGCLAAELLALDEKDNNSCQKMANETDPENLNLVLRWRGSTPKEMGRETTKVKIQRHSSGLRIYDREEKFLISNEKKIFSENSLKSEEPILWTKGEILGKGAYGTVYCGLTSQGQLIAVKQVALDTSNKLAAEKEYRKLQEEVDLLKALKHVNIVAYLGTCLQENTVSIFMEFVPGGSISSIINRFGPLPEMVFCKYTKQILQGVAYLHENCVVHRDIKGNNVMLMPTGIIKLIDFGCARRLAWAGLNGTHSDMLKSMHGTPYWMAPEVINESGYGRKSDIWSIGCTVFEMATGKPPLASMDRMAAMFYIGAHRGLMPPLPDHFSENAADFVRMCLTRDQHERPSALQLLKHSFLERSH\n",
      "INFO:root:Predicting 1th chain in ./Davis/cut_seqs/YSK4_1.seq\n",
      "INFO:root:528 residues in this chain.\n",
      "INFO:root:Finished prediction in 20.84 seconds.\n",
      "INFO:root:Saving prediction to ./Davis/omega_2/YSK4_1.pdb\n",
      "INFO:root:Saved\n",
      "INFO:root:Done!\n"
     ]
    },
    {
     "name": "stderr",
     "output_type": "stream",
     "text": [
      " 51%|█████     | 266/522 [2:13:29<2:40:23, 37.59s/it]"
     ]
    },
    {
     "name": "stdout",
     "output_type": "stream",
     "text": [
      "EPHA5_1.seq\n",
      "INFO:root:Reading ./Davis/cut_seqs/EPHA5_1.seq\n",
      "GMKYLSDMGYVHRDLAARNILINSNLVCKVSDFGLSRVLEDDPEAAYTTRGGKIPIRWTAPEAIAFRKFTSASDVWSYGIVMWEVVSYGERPYWEMTNQDVIKAVEEGYRLPSPMDCPAALYQLMLDCWQKERNSRPKFDEIVNMLDKLIRNPSSLKTLVNASCRVSNLLAEHSPLGSGAYRSVGEWLEAIKMGRYTEIFMENGYSSMDAVAQVTLE\n",
      "INFO:root:Predicting 1th chain in ./Davis/cut_seqs/EPHA5_1.seq\n",
      "INFO:root:217 residues in this chain.\n",
      "INFO:root:Finished prediction in 2.60 seconds.\n",
      "INFO:root:Saving prediction to ./Davis/omega_2/EPHA5_1.pdb\n",
      "INFO:root:Saved\n",
      "INFO:root:Done!\n"
     ]
    },
    {
     "name": "stderr",
     "output_type": "stream",
     "text": [
      " 51%|█████     | 267/522 [2:13:32<1:55:27, 27.17s/it]"
     ]
    },
    {
     "name": "stdout",
     "output_type": "stream",
     "text": [
      "EPHB6_1.seq\n",
      "INFO:root:Reading ./Davis/cut_seqs/EPHB6_1.seq\n",
      "VLVNSHLVCKVARLGHSPQGPSCLLRWAAPEVIAHGKHTTSSDVWSFGILMWEVMSYGERPYWDMSEQEVLNAIEQEFRLPPPPGCPPGLHLLMLDTWQKDRARRPHFDQLVAAFDKMIRKPDTLQAGGDPGERPSQALLTPVALDFPCLDSPQAWLSAIGLECYQDNFSKFGLCTFSDVAQLSLEDLPALGITLAGHQKKLLHHIQLLQQHLRQQGSVEV\n",
      "INFO:root:Predicting 1th chain in ./Davis/cut_seqs/EPHB6_1.seq\n",
      "INFO:root:221 residues in this chain.\n",
      "INFO:root:Finished prediction in 2.72 seconds.\n",
      "INFO:root:Saving prediction to ./Davis/omega_2/EPHB6_1.pdb\n",
      "INFO:root:Saved\n",
      "INFO:root:Done!\n"
     ]
    },
    {
     "name": "stderr",
     "output_type": "stream",
     "text": [
      " 51%|█████▏    | 268/522 [2:13:35<1:24:15, 19.91s/it]"
     ]
    },
    {
     "name": "stdout",
     "output_type": "stream",
     "text": [
      "CDK3.seq\n",
      "INFO:root:Reading ./Davis/cut_seqs/CDK3.seq\n",
      "MDMFQKVEKIGEGTYGVVYKAKNRETGQLVALKKIRLDLEMEGVPSTAIREISLLKELKHPNIVRLLDVVHNERKLYLVFEFLSQDLKKYMDSTPGSELPLHLIKSYLFQLLQGVSFCHSHRVIHRDLKPQNLLINELGAIKLADFGLARAFGVPLRTYTHEVVTLWYRAPEILLGSKFYTTAVDIWSIGCIFAEMVTRKALFPGDSEIDQLFRIFRMLGTPSEDTWPGVTQLPDYKGSFPKWTRKGLEEIVPNLEPEGRDLLMQLLQYDPSQRITAKTALAHPYFSSPEPSPAARQYVLQRFRH\n",
      "INFO:root:Predicting 1th chain in ./Davis/cut_seqs/CDK3.seq\n",
      "INFO:root:305 residues in this chain.\n",
      "INFO:root:Finished prediction in 5.70 seconds.\n",
      "INFO:root:Saving prediction to ./Davis/omega_2/CDK3.pdb\n",
      "INFO:root:Saved\n",
      "INFO:root:Done!\n"
     ]
    },
    {
     "name": "stderr",
     "output_type": "stream",
     "text": [
      " 52%|█████▏    | 269/522 [2:13:41<1:06:18, 15.72s/it]"
     ]
    },
    {
     "name": "stdout",
     "output_type": "stream",
     "text": [
      "CDC2L5.seq\n",
      "INFO:root:Reading ./Davis/cut_seqs/CDC2L5.seq\n",
      "MLPEDKEADSLRGNISVKAVKKEVEKKLRCLLADLPLPPELPGGDDLSKSPEEKKTATQLHSKRRPKICGPRYGETKEKDIDWGKRCVDKFDIIGIIGEGTYGQVYKARDKDTGEMVALKKVRLDNEKEGFPITAIREIKILRQLTHQSIINMKEIVTDKEDALDFKKDKGAFYLVFEYMDHDLMGLLESGLVHFNENHIKSFMRQLMEGLDYCHKKNFLHRDIKCSNILLNNRGQIKLADFGLARLYSSEESRPYTNKVITLWYRPPELLLGEERYTPAIDVWSCGCILGELFTKKPIFQANQELAQLELIRHEENEVSDKQI\n",
      "INFO:root:Predicting 1th chain in ./Davis/cut_seqs/CDC2L5.seq\n",
      "INFO:root:324 residues in this chain.\n",
      "INFO:root:Finished prediction in 6.60 seconds.\n",
      "INFO:root:Saving prediction to ./Davis/omega_2/CDC2L5.pdb\n",
      "INFO:root:Saved\n",
      "INFO:root:Done!\n"
     ]
    },
    {
     "name": "stderr",
     "output_type": "stream",
     "text": [
      " 52%|█████▏    | 270/522 [2:13:48<54:56, 13.08s/it]  "
     ]
    },
    {
     "name": "stdout",
     "output_type": "stream",
     "text": [
      "CDK8.seq\n",
      "INFO:root:Reading ./Davis/cut_seqs/CDK8.seq\n",
      "MDYDFKVKLSSERERVEDLFEYEGCKVGRGTYGHVYKAKRKDGKDDKDYALKQIEGTGISMSACREIALLRELKHPNVISLQKVFLSHADRKVWLLFDYAEHDLWHIIKFHRASKANKKPVQLPRGMVKSLLYQILDGIHYLHANWVLHRDLKPANILVMGEGPERGRVKIADMGFARLFNSPLKPLADLDPVVVTFWYRAPELLLGARHYTKAIDIWAIGCIFAELLTSEPIFHCRQEDIKTSNPYHHDQLDRIFNVMGFPADKDWEDIKKMPEHSTLMKDFRRNTYTNCSLIKYMEKHKVKPDSKAFHLLQKLLTMDPIKRITSEQAMQDPYFLEDPLPTSDVFAGCQIPYPKREFLTEEEPDDKGDKKNQQQQQGNNHTNGTGHPGNQDSSHTQGPPLKKVRVVPPTTTSGGLIMTSDYQRSNPHAAYPNPGPSTSQPQSSMGYSATSQQPPQYSHQTHRY\n",
      "INFO:root:Predicting 1th chain in ./Davis/cut_seqs/CDK8.seq\n",
      "INFO:root:464 residues in this chain.\n",
      "INFO:root:Finished prediction in 15.25 seconds.\n",
      "INFO:root:Saving prediction to ./Davis/omega_2/CDK8.pdb\n",
      "INFO:root:Saved\n",
      "INFO:root:Done!\n"
     ]
    },
    {
     "name": "stderr",
     "output_type": "stream",
     "text": [
      " 52%|█████▏    | 271/522 [2:14:04<58:06, 13.89s/it]"
     ]
    },
    {
     "name": "stdout",
     "output_type": "stream",
     "text": [
      "JAK3(JH1domain-catalytic)_0.seq\n",
      "INFO:root:Reading ./Davis/cut_seqs/JAK3(JH1domain-catalytic)_0.seq\n",
      "MAPPSEETPLIPQRSCSLLSTEAGALHVLLPARGPGPPQRLSFSFGDHLAEDLCVQAAKASGILPVYHSLFALATEDLSCWFPPSHIFSVEDASTQVLLYRIRFYFPNWFGLEKCHRFGLRKDLASAILDLPVLEHLFAQHRSDLVSGRLPVGLSLKEQGECLSLAVLDLARMAREQAQRPGELLKTVSYKACLPPSLRDLIQGLSFVTRRRIRRTVRRALRRVAACQADRHSLMAKYIMDLERLDPAGAAETFHVGLPGALGGHDGLGLLRVAGDGGIAWTQGEQEVLQPFCDFPEIVDISIKQAPRVGPAGEHRLVTVTRTDNQILEAEFPGLPEALSFVALVDGYFRLTTDSQHFFCKEVAPPRLLEEVAEQCHGPITLDFAINKLKTGGSRPGSYVLRRSPQDFDSFLLTVCVQNPLGPDYKGCLIRRSPTGTFLLVGLSRPHSSLRELLATCWDGGLHVDGVAVTLTSCCIPRPKEKSNLIVVQRGHSPPTSSLVQPQSQYQLSQMTFHKIPADSLEWHENLGHGSFTKIYRGCRHEVVDGEARKTEVLLKVMDAKHKNCMESFLEAASLMSQVSYRHLVLLHGVCMAGDSTMVQEFVHLGAIDMYLRKRGHLVPASWKLQVVKQLAYALNYLEDKGLPHGNVSARKVLLAREGADGSPPFIKLSDPGVSPAVLSLEMLTDRIPWVAPECLREAQTLSLEADKWGFGATVWEVFSGVTMPISALDPAKKLQFYEDRQQLPAPKWTELALLIQQCMAYEPVQRPSFRAVIRDLNSLISSDYELLSDPTPGALAPRD\n",
      "INFO:root:Predicting 1th chain in ./Davis/cut_seqs/JAK3(JH1domain-catalytic)_0.seq\n",
      "INFO:root:800 residues in this chain.\n",
      "INFO:root:Finished prediction in 56.99 seconds.\n",
      "INFO:root:Saving prediction to ./Davis/omega_2/JAK3(JH1domain-catalytic)_0.pdb\n",
      "INFO:root:Saved\n",
      "INFO:root:Done!\n"
     ]
    },
    {
     "name": "stderr",
     "output_type": "stream",
     "text": [
      " 52%|█████▏    | 272/522 [2:15:02<1:52:54, 27.10s/it]"
     ]
    },
    {
     "name": "stdout",
     "output_type": "stream",
     "text": [
      "AMPK-alpha2.seq\n",
      "INFO:root:Reading ./Davis/cut_seqs/AMPK-alpha2.seq\n",
      "MAEKQKHDGRVKIGHYVLGDTLGVGTFGKVKIGEHQLTGHKVAVKILNRQKIRSLDVVGKIKREIQNLKLFRHPHIIKLYQVISTPTDFFMVMEYVSGGELFDYICKHGRVEEMEARRLFQQILSAVDYCHRHMVVHRDLKPENVLLDAHMNAKIADFGLSNMMSDGEFLRTSCGSPNYAAPEVISGRLYAGPEVDIWSCGVILYALLCGTLPFDDEHVPTLFKKIRGGVFYIPEYLNRSVATLLMHMLQVDPLKRATIKDIREHEWFKQDLPSYLFPEDPSYDANVIDDEAVKEVCEKFECTESEVMNSLYSGDPQDQLAVAYHLIIDNRRIMNQASEFYLASSPPSGSFMDDSAMHIPPGLKPHPERMPPLIADSPKARCPLDALNTTKPKSLAVKKAKWHLGIRSQSKPYDIMAEVYRAMKQLDFEWKVVNAYHLRVRRKNPVTGNYVKMSLQLYLVDNRSYLLDFKSIDDEVVEQRSGSSTPQRSCSAAGLHRPRSSFDSTTAESHSLSGSLTGSLTGSTLSSVSPRLGSHTMDFFEMCASLITTLAR\n",
      "INFO:root:Predicting 1th chain in ./Davis/cut_seqs/AMPK-alpha2.seq\n",
      "INFO:root:552 residues in this chain.\n",
      "INFO:root:Finished prediction in 23.15 seconds.\n",
      "INFO:root:Saving prediction to ./Davis/omega_2/AMPK-alpha2.pdb\n",
      "INFO:root:Saved\n",
      "INFO:root:Done!\n"
     ]
    },
    {
     "name": "stderr",
     "output_type": "stream",
     "text": [
      " 52%|█████▏    | 273/522 [2:15:25<1:48:16, 26.09s/it]"
     ]
    },
    {
     "name": "stdout",
     "output_type": "stream",
     "text": [
      "GRK1.seq\n",
      "INFO:root:Reading ./Davis/cut_seqs/GRK1.seq\n",
      "MDFGSLETVVANSAFIAARGSFDGSSSQPSRDKKYLAKLKLPPLSKCESLRDSLSLEFESVCLEQPIGKKLFQQFLQSAEKHLPALELWKDIEDYDTADNDLQPQKAQTILAQYLDPQAKLFCSFLDEGIVAKFKEGPVEIQDGLFQPLLQATLAHLGQAPFQEYLGSLYFLRFLQWKWLEAQPMGEDWFLDFRVLGKGGFGEVSACQMKATGKLYACKKLNKKRLKKRKGYQGAMVEKKILMKVHSRFIVSLAYAFETKADLCLVMTIMNGGDIRYHIYNVNEENPGFPEPRALFYTAQIICGLEHLHQRRIVYRDLKPENVLLDNDGNVRISDLGLAVELLDGQSKTKGYAGTPGFMAPELLQGEEYDFSVDYFALGVTLYEMIAARGPFRARGEKVENKELKHRIISEPVKYPDKFSQASKDFCEALLEKDPEKRLGFRDETCDKLRAHPLFKDLNWRQLEAGMLMPPFIPDSKTVYAKDIQDVGAFSTVKGVAFDKTDTEFFQEFATGNCPIPWQEEMIETGIFGELNVWRSDGQMPDDMKGISGGSSSSSKSGMCLVS\n",
      "INFO:root:Predicting 1th chain in ./Davis/cut_seqs/GRK1.seq\n",
      "INFO:root:563 residues in this chain.\n",
      "INFO:root:Finished prediction in 25.06 seconds.\n",
      "INFO:root:Saving prediction to ./Davis/omega_2/GRK1.pdb\n",
      "INFO:root:Saved\n",
      "INFO:root:Done!\n"
     ]
    },
    {
     "name": "stderr",
     "output_type": "stream",
     "text": [
      " 52%|█████▏    | 274/522 [2:15:51<1:47:15, 25.95s/it]"
     ]
    },
    {
     "name": "stdout",
     "output_type": "stream",
     "text": [
      "TSSK1B.seq\n",
      "INFO:root:Reading ./Davis/cut_seqs/TSSK1B.seq\n",
      "MDDAAVLKRRGYLLGINLGEGSYAKVKSAYSERLKFNVAIKIIDRKKAPADFLEKFLPREIEILAMLNHCSIIKTYEIFETSHGKVYIVMELAVQGDLLELIKTRGALHEDEARKKFHQLSLAIKYCHDLDVVHRDLKCDNLLLDKDFNIKLSDFSFSKRCLRDDSGRMALSKTFCGSPAYAAPEVLQGIPYQPKVYDIWSLGVILYIMVCGSMPYDDSNIKKMLRIQKEHRVNFPRSKHLTGECKDLIYHMLQPDVNRRLHIDEILSHCWMQPKARGSPSVAINKEGESSRGTEPLWTPEPGSDKKSATKLEPEGEAQPQAQPETKPEGTAMQMSRQSEILGFPSKPSTMETEEGPPQQPPETRAQ\n",
      "INFO:root:Predicting 1th chain in ./Davis/cut_seqs/TSSK1B.seq\n",
      "INFO:root:367 residues in this chain.\n",
      "INFO:root:Finished prediction in 8.86 seconds.\n",
      "INFO:root:Saving prediction to ./Davis/omega_2/TSSK1B.pdb\n",
      "INFO:root:Saved\n",
      "INFO:root:Done!\n"
     ]
    },
    {
     "name": "stderr",
     "output_type": "stream",
     "text": [
      " 53%|█████▎    | 275/522 [2:16:00<1:26:06, 20.92s/it]"
     ]
    },
    {
     "name": "stdout",
     "output_type": "stream",
     "text": [
      "PRKG2.seq\n",
      "INFO:root:Reading ./Davis/cut_seqs/PRKG2.seq\n",
      "MGNGSVKPKHSKHPDGHSGNLTTDALRNKVTELERELRRKDAEIQEREYHLKELREQLSKQTVAIAELTEELQNKCIQLNKLQDVVHMQGGSPLQASPDKVPLEVHRKTSGLVSLHSRRGAKAGVSAEPTTRTYDLNKPPEFSFEKARVRKDSSEKKLITDALNKNQFLKRLDPQQIKDMVECMYGRNYQQGSYIIKQGEPGNHIFVLAEGRLEVFQGEKLLSSIPMWTTFGELAILYNCTRTASVKAITNVKTWALDREVFQNIMRRTAQARDEQYRNFLRSVSLLKNLPEDKLTKIIDCLEVEYYDKGDYIIREGEEGSTFFILAKGKVKVTQSTEGHDQPQLIKTLQKGEYFGEKALISDDVRSANIIAEENDVACLVIDRETFNQTVGTFEELQKYLEGYVANLNRDDEKRHAKRSMSNWKLSKALSLEMIQLKEKVARFSSSSPFQNLEIIATLGVGGFGRVELVKVKNENVAFAMKCIRKKHIVDTKQQEHVYSEKRILEELCSPFIVKLYRTFKDNKYVYMLLEACLGGELWSILRDRGSFDEPTSKFCVACVTEAFDYLHRLGIIYRDLKPENLILDAEGYLKLVDFGFAKKIGSGQKTWTFCGTPEYVAPEVILNKGHDFSVDFWSLGILVYELLTGNPPFSGVDQMMTYNLILKGIEKMDFPRKITRRPEDLIRRLCRQNPTERLGNLKNGINDIKKHRWLNGFNWEGLKARSLPSPLQRELKGPIDHSYFDKYPPEKGMPPDELSGWDKDF\n",
      "INFO:root:Predicting 1th chain in ./Davis/cut_seqs/PRKG2.seq\n",
      "INFO:root:762 residues in this chain.\n",
      "INFO:root:Finished prediction in 53.75 seconds.\n",
      "INFO:root:Saving prediction to ./Davis/omega_2/PRKG2.pdb\n",
      "INFO:root:Saved\n",
      "INFO:root:Done!\n"
     ]
    },
    {
     "name": "stderr",
     "output_type": "stream",
     "text": [
      " 53%|█████▎    | 276/522 [2:16:55<2:07:06, 31.00s/it]"
     ]
    },
    {
     "name": "stdout",
     "output_type": "stream",
     "text": [
      "DAPK2.seq\n",
      "INFO:root:Reading ./Davis/cut_seqs/DAPK2.seq\n",
      "MFQASMRSPNMEPFKQQKVEDFYDIGEELGSGQFAIVKKCREKSTGLEYAAKFIKKRQSRASRRGVSREEIEREVSILRQVLHHNVITLHDVYENRTDVVLILELVSGGELFDFLAQKESLSEEEATSFIKQILDGVNYLHTKKIAHFDLKPENIMLLDKNIPIPHIKLIDFGLAHEIEDGVEFKNIFGTPEFVAPEIVNYEPLGLEADMWSIGVITYILLSGASPFLGDTKQETLANITAVSYDFDEEFFSQTSELAKDFIRKLLVKETRKRLTIQEALRHPWITPVDNQQAMVRRESVVNLENFRKQYVRRRWKLSFSIVSLCNHLTRSLMKKVHLRPDEDLRNCESDTEEDIARRKALHPRRRSSTS\n",
      "INFO:root:Predicting 1th chain in ./Davis/cut_seqs/DAPK2.seq\n",
      "INFO:root:370 residues in this chain.\n",
      "INFO:root:Finished prediction in 9.00 seconds.\n",
      "INFO:root:Saving prediction to ./Davis/omega_2/DAPK2.pdb\n",
      "INFO:root:Saved\n",
      "INFO:root:Done!\n"
     ]
    },
    {
     "name": "stderr",
     "output_type": "stream",
     "text": [
      " 53%|█████▎    | 277/522 [2:17:04<1:40:02, 24.50s/it]"
     ]
    },
    {
     "name": "stdout",
     "output_type": "stream",
     "text": [
      "TXK.seq\n",
      "INFO:root:Reading ./Davis/cut_seqs/TXK.seq\n",
      "MILSSYNTIQSVFCCCCCCSVQKRQMRTQISLSTDEELPEKYTQRRRPWLSQLSNKKQSNTGRVQPSKRKPLPPLPPSEVAEEKIQVKALYDFLPREPCNLALRRAEEYLILEKYNPHWWKARDRLGNEGLIPSNYVTENKITNLEIYEWYHRNITRNQAEHLLRQESKEGAFIVRDSRHLGSYTISVFMGARRSTEAAIKHYQIKKNDSGQWYVAERHAFQSIPELIWYHQHNAAGLMTRLRYPVGLMGSCLPATAGFSYEKWEIDPSELAFIKEIGSGQFGVVHLGEWRSHIQVAIKAINEGSMSEEDFIEEAKVMMKLSHSKLVQLYGVCIQRKPLYIVTEFMENGCLLNYLRENKGKLRKEMLLSVCQDICEGMEYLERNGYIHRDLAARNCLVSSTCIVKISDFGMTRYVLDDEYVSSFGAKFPIKWSPPEVFLFNKYSSKSDVWSFGVLMWEVFTEGKMPFENKSNLQVVEAISEGFRLYRPHLAPMSIYEVMYSCWHEKPEGRPTFAELLRAVTEIAETW\n",
      "INFO:root:Predicting 1th chain in ./Davis/cut_seqs/TXK.seq\n",
      "INFO:root:527 residues in this chain.\n",
      "INFO:root:Finished prediction in 21.77 seconds.\n",
      "INFO:root:Saving prediction to ./Davis/omega_2/TXK.pdb\n",
      "INFO:root:Saved\n",
      "INFO:root:Done!\n"
     ]
    },
    {
     "name": "stderr",
     "output_type": "stream",
     "text": [
      " 53%|█████▎    | 278/522 [2:17:26<1:36:57, 23.84s/it]"
     ]
    },
    {
     "name": "stdout",
     "output_type": "stream",
     "text": [
      "PFPK5(Pfalciparum).seq\n",
      "INFO:root:Reading ./Davis/cut_seqs/PFPK5(Pfalciparum).seq\n",
      "MEKYHGLEKIGEGTYGVVYKAQNNYGETFALKKIRLEKEDEGIPSTTIREISILKELKHSNIVKLYDVIHTKKRLVLVFEHLDQDLKKLLDVCEGGLESVTAKSFLLQLLNGIAYCHDRRVLHRDLKPQNLLINREGELKIADFGLARAFGIPVRKYTHEVVTLWYRAPDVLMGSKKYSTTIDIWSVGCIFAEMVNGTPLFPGVSEADQLMRIFRILGTPNSKNWPNVTELPKYDPNFTVYEPLPWESFLKGLDESGIDLLSKMLKLDPNQRITAKQALEHAYFKENN\n",
      "INFO:root:Predicting 1th chain in ./Davis/cut_seqs/PFPK5(Pfalciparum).seq\n",
      "INFO:root:288 residues in this chain.\n",
      "INFO:root:Finished prediction in 4.90 seconds.\n",
      "INFO:root:Saving prediction to ./Davis/omega_2/PFPK5(Pfalciparum).pdb\n",
      "INFO:root:Saved\n",
      "INFO:root:Done!\n"
     ]
    },
    {
     "name": "stderr",
     "output_type": "stream",
     "text": [
      " 53%|█████▎    | 279/522 [2:17:31<1:13:52, 18.24s/it]"
     ]
    },
    {
     "name": "stdout",
     "output_type": "stream",
     "text": [
      "EIF2AK1.seq\n",
      "INFO:root:Reading ./Davis/cut_seqs/EIF2AK1.seq\n",
      "MQGGNSGVRKREEEGDGAGAVAAPPAIDFPAEGPDPEYDESDVPAEIQVLKEPLQQPTFPFAVANQLLLVSLLEHLSHVHEPNPLRSRQVFKLLCQTFIKMGLLSSFTCSDEFSSLRLHHNRAITHLMRSAKERVRQDPCEDISRIQKIRSREVALEAQTSRYLNEFEELAILGKGGYGRVYKVRNKLDGQYYAIKKILIKGATKTVCMKVLREVKVLAGLQHPNIVGYHTAWIEHVHVIQPRADRAAIELPSLEVLSDQEEDREQCGVKNDESSSSSIIFAEPTPEKEKRFGESDTENQNNKSVKYTTNLVIRESGELESTLELQENGLAGLSASSIVEQQLPLRRNSHLEESFTSTEESSEENVNFLGQTEAQYHLMLHIQMQLCELSLWDWIVERNKRGREYVDESACPYVMANVATKIFQELVEGVFYIHNMGIVHRDLKPRNIFLHGPDQQVKIGDFGLACTDILQKNTDWTNRNGKRTPTHTSRVGTCLYASPEQLEGSEYDAKSDMYSLGVVLLELFQPFGTEMERAEVLTGLRTGQLPESLRKRCPVQAKYIQHLTRRNSSQRPSAIQLLQSELFQNSGNVNLTLQMKIIEQEKEIAELKKQLNLLSQDKGVRDDGKDGGVG\n",
      "INFO:root:Predicting 1th chain in ./Davis/cut_seqs/EIF2AK1.seq\n",
      "INFO:root:630 residues in this chain.\n",
      "INFO:root:Finished prediction in 33.52 seconds.\n",
      "INFO:root:Saving prediction to ./Davis/omega_2/EIF2AK1.pdb\n",
      "INFO:root:Saved\n",
      "INFO:root:Done!\n"
     ]
    },
    {
     "name": "stderr",
     "output_type": "stream",
     "text": [
      " 54%|█████▎    | 280/522 [2:18:06<1:32:51, 23.02s/it]"
     ]
    },
    {
     "name": "stdout",
     "output_type": "stream",
     "text": [
      "TIE1_1.seq\n",
      "INFO:root:Reading ./Davis/cut_seqs/TIE1_1.seq\n",
      "SGSGEETILQFSSGTLTLTRRPKLQPEPLSYPVLEWEDITFEDLIGEGNFGQVIRAMIKKDGLKMNAAIKMLKEYASENDHRDFAGELEVLCKLGHHPNIINLLGACKNRGYLYIAIEYAPYGNLLDFLRKSRVLETDPAFAREHGTASTLSSRQLLRFASDAANGMQYLSEKQFIHRDLAARNVLVGENLASKIADFGLSRGEEVYVKKTMGRLPVRWMAIESLNYSVYTTKSDVWSFGVLLWEIVSLGGTPYCGMTCAELYEKLPQGYRMEQPRNCDDEVYELMRQCWRDRPYERPPFAQIALQLGRMLEARKAYVNMSLFENFTYAGIDATAEEA\n",
      "INFO:root:Predicting 1th chain in ./Davis/cut_seqs/TIE1_1.seq\n",
      "INFO:root:338 residues in this chain.\n",
      "INFO:root:Finished prediction in 7.34 seconds.\n",
      "INFO:root:Saving prediction to ./Davis/omega_2/TIE1_1.pdb\n",
      "INFO:root:Saved\n",
      "INFO:root:Done!\n"
     ]
    },
    {
     "name": "stderr",
     "output_type": "stream",
     "text": [
      " 54%|█████▍    | 281/522 [2:18:13<1:13:58, 18.42s/it]"
     ]
    },
    {
     "name": "stdout",
     "output_type": "stream",
     "text": [
      "CDK7.seq\n",
      "INFO:root:Reading ./Davis/cut_seqs/CDK7.seq\n",
      "MALDVKSRAKRYEKLDFLGEGQFATVYKARDKNTNQIVAIKKIKLGHRSEAKDGINRTALREIKLLQELSHPNIIGLLDAFGHKSNISLVFDFMETDLEVIIKDNSLVLTPSHIKAYMLMTLQGLEYLHQHWILHRDLKPNNLLLDENGVLKLADFGLAKSFGSPNRAYTHQVVTRWYRAPELLFGARMYGVGVDMWAVGCILAELLLRVPFLPGDSDLDQLTRIFETLGTPTEEQWPDMCSLPDYVTFKSFPGIPLHHIFSAAGDDLLDLIQGLFLFNPCARITATQALKMKYFSNRPGPTPGCQLPRPNCPVETLKEQSNPALAIKRKRTEALEQGGLPKKLIF\n",
      "INFO:root:Predicting 1th chain in ./Davis/cut_seqs/CDK7.seq\n",
      "INFO:root:346 residues in this chain.\n",
      "INFO:root:Finished prediction in 7.63 seconds.\n",
      "INFO:root:Saving prediction to ./Davis/omega_2/CDK7.pdb\n",
      "INFO:root:Saved\n",
      "INFO:root:Done!\n"
     ]
    },
    {
     "name": "stderr",
     "output_type": "stream",
     "text": [
      " 54%|█████▍    | 282/522 [2:18:21<1:01:06, 15.28s/it]"
     ]
    },
    {
     "name": "stdout",
     "output_type": "stream",
     "text": [
      "YSK1.seq\n",
      "INFO:root:Reading ./Davis/cut_seqs/YSK1.seq\n",
      "MAHLRGFANQHSRVDPEELFTKLDRIGKGSFGEVYKGIDNHTKEVVAIKIIDLEEAEDEIEDIQQEITVLSQCDSPYITRYFGSYLKSTKLWIIMEYLGGGSALDLLKPGPLEETYIATILREILKGLDYLHSERKIHRDIKAANVLLSEQGDVKLADFGVAGQLTDTQIKRNTFVGTPFWMAPEVIKQSAYDFKADIWSLGITAIELAKGEPPNSDLHPMRVLFLIPKNSPPTLEGQHSKPFKEFVEACLNKDPRFRPTAKELLKHKFITRYTKKTSFLTELIDRYKRWKSEGHGEESSSEDSDIDGEAEDGEQGPIWTFPPTIRPSPHSKLHKGTALHSSQKPAEPVKRQPRSQCLSTLVRPVFGELKEKHKQSGGSVGALEELENAFSLAEESCPGISDKLMVHLVERVQRFSHNRNHLTSTR\n",
      "INFO:root:Predicting 1th chain in ./Davis/cut_seqs/YSK1.seq\n",
      "INFO:root:426 residues in this chain.\n",
      "INFO:root:Finished prediction in 12.71 seconds.\n",
      "INFO:root:Saving prediction to ./Davis/omega_2/YSK1.pdb\n",
      "INFO:root:Saved\n",
      "INFO:root:Done!\n"
     ]
    },
    {
     "name": "stderr",
     "output_type": "stream",
     "text": [
      " 54%|█████▍    | 283/522 [2:18:34<58:22, 14.66s/it]  "
     ]
    },
    {
     "name": "stdout",
     "output_type": "stream",
     "text": [
      "MST2.seq\n",
      "INFO:root:Reading ./Davis/cut_seqs/MST2.seq\n",
      "MEQPPAPKSKLKKLSEDSLTKQPEEVFDVLEKLGEGSYGSVFKAIHKESGQVVAIKQVPVESDLQEIIKEISIMQQCDSPYVVKYYGSYFKNTDLWIVMEYCGAGSVSDIIRLRNKTLIEDEIATILKSTLKGLEYLHFMRKIHRDIKAGNILLNTEGHAKLADFGVAGQLTDTMAKRNTVIGTPFWMAPEVIQEIGYNCVADIWSLGITSIEMAEGKPPYADIHPMRAIFMIPTNPPPTFRKPELWSDDFTDFVKKCLVKNPEQRATATQLLQHPFIKNAKPVSILRDLITEAMEIKAKRHEEQQRELEEEEENSDEDELDSHTMVKTSVESVGTMRATSTMSEGAQTMIEHNSTMLESDLGTMVINSEDEEEEDGTMKRNATSPQVQRPSFMDYFDKQDFKNKSHENCNQNMHEPFPMSKNVFPDNWKVPQDGDFDFLKNLSLEELQMRLKALDPMMEREIEELRQRYTAKRQPILDAMDAKKRRQQNF\n",
      "INFO:root:Predicting 1th chain in ./Davis/cut_seqs/MST2.seq\n",
      "INFO:root:491 residues in this chain.\n",
      "INFO:root:Finished prediction in 18.04 seconds.\n",
      "INFO:root:Saving prediction to ./Davis/omega_2/MST2.pdb\n",
      "INFO:root:Saved\n",
      "INFO:root:Done!\n"
     ]
    },
    {
     "name": "stderr",
     "output_type": "stream",
     "text": [
      " 54%|█████▍    | 284/522 [2:18:53<1:02:50, 15.84s/it]"
     ]
    },
    {
     "name": "stdout",
     "output_type": "stream",
     "text": [
      "EPHA3_0.seq\n",
      "INFO:root:Reading ./Davis/cut_seqs/EPHA3_0.seq\n",
      "MDCQLSILLLLSCSVLDSFGELIPQPSNEVNLLDSKTIQGELGWISYPSHGWEEISGVDEHYTPIRTYQVCNVMDHSQNNWLRTNWVPRNSAQKIYVELKFTLRDCNSIPLVLGTCKETFNLYYMESDDDHGVKFREHQFTKIDTIAADESFTQMDLGDRILKLNTEIREVGPVNKKGFYLAFQDVGACVALVSVRVYFKKCPFTVKNLAMFPDTVPMDSQSLVEVRGSCVNNSKEEDPPRMYCSTEGEWLVPIGKCSCNAGYEERGFMCQACRPGFYKALDGNMKCAKCPPHSSTQEDGSMNCRCENNYFRADKDPPSMACTRPPSSPRNVISNINETSVILDWSWPLDTGGRKDVTFNIICKKCGWNIKQCEPCSPNVRFLPRQFGLTNTTVTVTDLLAHTNYTFEIDAVNGVSELSSPPRQFAAVSITTNQAAPSPVLTIKKDRTSRNSISLSWQEPEHPNGIILDYEVKYYEKQEQETSYTILRARGTNVTISSLKPDTIYVFQIRARTAAGYGTNSRKFEFETSPDSFSISGESSQVVMIAISAAVAIILLTVVIYVLIGRFCGYKSKHGADEKRLHFGNGHLKLPGLRTYVDPHTYEDPTQTVHEFAKELDATNISIDKVVGAGEFGEVCSGRLKLPSKKEISVAIKTLKVGYTEKQRRDFLGEASIMGQFDHPNIIRLEGVVTKSKPVMIVTEYMENGSLDSFLRKHDAQFTVIQLVGMLRGIASGMKYLSDMGYVHRDLAARNILINSNLVCKVSDFGLSRVLEDDPEAAYTTRGGKIPIRWTSPEAIAYRK\n",
      "INFO:root:Predicting 1th chain in ./Davis/cut_seqs/EPHA3_0.seq\n",
      "INFO:root:800 residues in this chain.\n",
      "INFO:root:Finished prediction in 57.04 seconds.\n",
      "INFO:root:Saving prediction to ./Davis/omega_2/EPHA3_0.pdb\n",
      "INFO:root:Saved\n",
      "INFO:root:Done!\n"
     ]
    },
    {
     "name": "stderr",
     "output_type": "stream",
     "text": [
      " 55%|█████▍    | 285/522 [2:19:51<1:52:23, 28.45s/it]"
     ]
    },
    {
     "name": "stdout",
     "output_type": "stream",
     "text": [
      "AURKA.seq\n",
      "INFO:root:Reading ./Davis/cut_seqs/AURKA.seq\n",
      "MDRSKENCISGPVKATAPVGGPKRVLVTQQFPCQNPLPVNSGQAQRVLCPSNSSQRVPLQAQKLVSSHKPVQNQKQKQLQATSVPHPVSRPLNNTQKSKQPLPSAPENNPEEELASKQKNEESKKRQWALEDFEIGRPLGKGKFGNVYLAREKQSKFILALKVLFKAQLEKAGVEHQLRREVEIQSHLRHPNILRLYGYFHDATRVYLILEYAPLGTVYRELQKLSKFDEQRTATYITELANALSYCHSKRVIHRDIKPENLLLGSAGELKIADFGWSVHAPSSRRTTLCGTLDYLPPEMIEGRMHDEKVDLWSLGVLCYEFLVGKPPFEANTYQETYKRISRVEFTFPDFVTEGARDLISRLLKHNPSQRPMLREVLEHPWITANSSKPSNCQNKESASKQS\n",
      "INFO:root:Predicting 1th chain in ./Davis/cut_seqs/AURKA.seq\n",
      "INFO:root:403 residues in this chain.\n",
      "INFO:root:Finished prediction in 10.84 seconds.\n",
      "INFO:root:Saving prediction to ./Davis/omega_2/AURKA.pdb\n",
      "INFO:root:Saved\n",
      "INFO:root:Done!\n"
     ]
    },
    {
     "name": "stderr",
     "output_type": "stream",
     "text": [
      " 55%|█████▍    | 286/522 [2:20:02<1:31:54, 23.36s/it]"
     ]
    },
    {
     "name": "stdout",
     "output_type": "stream",
     "text": [
      "DDR2_0.seq\n",
      "INFO:root:Reading ./Davis/cut_seqs/DDR2_0.seq\n",
      "MILIPRMLLVLFLLLPILSSAKAQVNPAICRYPLGMSGGQIPDEDITASSQWSESTAAKYGRLDSEEGDGAWCPEIPVEPDDLKEFLQIDLHTLHFITLVGTQGRHAGGHGIEFAPMYKINYSRDGTRWISWRNRHGKQVLDGNSNPYDIFLKDLEPPIVARFVRFIPVTDHSMNVCMRVELYGCVWLDGLVSYNAPAGQQFVLPGGSIIYLNDSVYDGAVGYSMTEGLGQLTDGVSGLDDFTQTHEYHVWPGYDYVGWRNESATNGYIEIMFEFDRIRNFTTMKVHCNNMFAKGVKIFKEVQCYFRSEASEWEPNAISFPLVLDDVNPSARFVTVPLHHRMASAIKCQYHFADTWMMFSEITFQSDAAMYNNSEALPTSPMAPTTYDPMLKVDDSNTRILIGCLVAIIFILLAIIVIILWRQFWQKMLEKASRRMLDDEMTVSLSLPSDSSMFNNNRSSSPSEQGSNSTYDRIFPLRPDYQEPSRLIRKLPEFAPGEEESGCSGVVKPVQPSGPEGVPHYAEADIVNLQGVTGGNTYSVPAVTMDLLSGKDVAVEEFPRKLLTFKEKLGEGQFGEVHLCEVEGMEKFKDKDFALDVSANQPVLVAVKMLRADANKNARNDFLKEIKIMSRLKDPNIIHLLAVCITDDPLCMITEYMENGDLNQFLSRHEPPNSSSSDVRTVSYTNLKFMATQIASGMKYLSSLNFVHRDLATRNCLVGKNYTIKIADFGMSRNLYSGDYYRIQGRAVLPIRWMSWESILLGKFTTASDVWAFGVTLWETFTFCQEQPYSQLSDEQVIEN\n",
      "INFO:root:Predicting 1th chain in ./Davis/cut_seqs/DDR2_0.seq\n",
      "INFO:root:800 residues in this chain.\n",
      "INFO:root:Finished prediction in 57.04 seconds.\n",
      "INFO:root:Saving prediction to ./Davis/omega_2/DDR2_0.pdb\n",
      "INFO:root:Saved\n",
      "INFO:root:Done!\n"
     ]
    },
    {
     "name": "stderr",
     "output_type": "stream",
     "text": [
      " 55%|█████▍    | 287/522 [2:21:00<2:12:06, 33.73s/it]"
     ]
    },
    {
     "name": "stdout",
     "output_type": "stream",
     "text": [
      "AMPK-alpha1.seq\n",
      "INFO:root:Reading ./Davis/cut_seqs/AMPK-alpha1.seq\n",
      "MRRLSSWRKMATAEKQKHDGRVKIGHYILGDTLGVGTFGKVKVGKHELTGHKVAVKILNRQKIRSLDVVGKIRREIQNLKLFRHPHIIKLYQVISTPSDIFMVMEYVSGGELFDYICKNGRLDEKESRRLFQQILSGVDYCHRHMVVHRDLKPENVLLDAHMNAKIADFGLSNMMSDGEFLRTSCGSPNYAAPEVISGRLYAGPEVDIWSSGVILYALLCGTLPFDDDHVPTLFKKICDGIFYTPQYLNPSVISLLKHMLQVDPMKRATIKDIREHEWFKQDLPKYLFPEDPSYSSTMIDDEALKEVCEKFECSEEEVLSCLYNRNHQDPLAVAYHLIIDNRRIMNEAKDFYLATSPPDSFLDDHHLTRPHPERVPFLVAETPRARHTLDELNPQKSKHQGVRKAKWHLGIRSQSRPNDIMAEVCRAIKQLDYEWKVVNPYYLRVRRKNPVTSTYSKMSLQLYQVDSRTYLLDFRSIDDEITEAKSGTATPQRSGSVSNYRSCQRSDSDAEAQGKSSEVSLTSSVTSLDSSPVDLTPRPGSHTIEFFEMCANLIKILAQ\n",
      "INFO:root:Predicting 1th chain in ./Davis/cut_seqs/AMPK-alpha1.seq\n",
      "INFO:root:559 residues in this chain.\n",
      "INFO:root:Finished prediction in 24.84 seconds.\n",
      "INFO:root:Saving prediction to ./Davis/omega_2/AMPK-alpha1.pdb\n",
      "INFO:root:Saved\n",
      "INFO:root:Done!\n"
     ]
    },
    {
     "name": "stderr",
     "output_type": "stream",
     "text": [
      " 55%|█████▌    | 288/522 [2:21:26<2:01:49, 31.24s/it]"
     ]
    },
    {
     "name": "stdout",
     "output_type": "stream",
     "text": [
      "TNK2_0.seq\n",
      "INFO:root:Reading ./Davis/cut_seqs/TNK2_0.seq\n",
      "MQPEEGTGWLLELLSEVQLQQYFLRLRDDLNVTRLSHFEYVKNEDLEKIGMGRPGQRRLWEAVKRRKALCKRKSWMSKVFSGKRLEAEFPPHHSQSTFRKTSPAPGGPAGEGPLQSLTCLIGEKDLRLLEKLGDGSFGVVRRGEWDAPSGKTVSVAVKCLKPDVLSQPEAMDDFIREVNAMHSLDHRNLIRLYGVVLTPPMKMVTELAPLGSLLDRLRKHQGHFLLGTLSRYAVQVAEGMGYLESKRFIHRDLAARNLLLATRDLVKIGDFGLMRALPQNDDHYVMQEHRKVPFAWCAPESLKTRTFSHASDTWMFGVTLWEMFTYGQEPWIGLNGSQILHKIDKEGERLPRPEDCPQDIYNVMVQCWAHKPEDRPTFVALRDFLLEAQPTDMRALQDFEEPDKLHIQMNDVITVIEGRAENYWWRGQNTRTLCVGPFPRNVVTSVAGLSAQDISQPLQNSFIHTGHGDSDPRHCWGFPDRIDELYLGNPMDPPDLLSVELSTSRPPQHLGGVKKPTYDPVSEDQDPLSSDFKRLGLRKPGLPRGLWLAKPSARVPGTKASRGSGAEVTLIDFGEEPVVPALRPCAPSLAQLAMDACSLLDETPPQSPTRALPRPLHPTPVVDWDARPLPPPPAYDDVAQDEDDFEICSINSTLVGAGVPAGPSQGQTNYAFVPEQARPPPPLEDNLFLPPQGGGKPPSSAQTAEIFQALQQECMRQLQAPAGSPAPSPSPGGDDKPQVPPRVPIPPRPTRPHVQLSPAPPGEEETSQWPGPASPPRVPPREPLSPQGSRTPSPLVPPGS\n",
      "INFO:root:Predicting 1th chain in ./Davis/cut_seqs/TNK2_0.seq\n",
      "INFO:root:800 residues in this chain.\n",
      "INFO:root:Finished prediction in 57.04 seconds.\n",
      "INFO:root:Saving prediction to ./Davis/omega_2/TNK2_0.pdb\n",
      "INFO:root:Saved\n",
      "INFO:root:Done!\n"
     ]
    },
    {
     "name": "stderr",
     "output_type": "stream",
     "text": [
      " 55%|█████▌    | 289/522 [2:22:24<2:32:21, 39.23s/it]"
     ]
    },
    {
     "name": "stdout",
     "output_type": "stream",
     "text": [
      "PRKR.seq\n",
      "INFO:root:Reading ./Davis/cut_seqs/PRKR.seq\n",
      "MAGDLSAGFFMEELNTYRQKQGVVLKYQELPNSGPPHDRRFTFQVIIDGREFPEGEGRSKKEAKNAAAKLAVEILNKEKKAVSPLLLTTTNSSEGLSMGNYIGLINRIAQKKRLTVNYEQCASGVHGPEGFHYKCKMGQKEYSIGTGSTKQEAKQLAAKLAYLQILSEETSVKSDYLSSGSFATTCESQSNSLVTSTLASESSSEGDFSADTSEINSNSDSLNSSSLLMNGLRNNQRKAKRSLAPRFDLPDMKETKYTVDKRFGMDFKEIELIGSGGFGQVFKAKHRIDGKTYVIKRVKYNNEKAEREVKALAKLDHVNIVHYNGCWDGFDYDPETSDDSLESSDYDPENSKNSSRSKTKCLFIQMEFCDKGTLEQWIEKRRGEKLDKVLALELFEQITKGVDYIHSKKLIHRDLKPSNIFLVDTKQVKIGDFGLVTSLKNDGKRTRSKGTLRYMSPEQISSQDYGKEVDLYALGLILAELLHVCDTAFETSKFFTDLRDGIISDIFDKKKKK\n",
      "INFO:root:Predicting 1th chain in ./Davis/cut_seqs/PRKR.seq\n",
      "INFO:root:513 residues in this chain.\n",
      "INFO:root:Finished prediction in 19.94 seconds.\n",
      "INFO:root:Saving prediction to ./Davis/omega_2/PRKR.pdb\n",
      "INFO:root:Saved\n",
      "INFO:root:Done!\n"
     ]
    },
    {
     "name": "stderr",
     "output_type": "stream",
     "text": [
      " 56%|█████▌    | 290/522 [2:22:44<2:09:59, 33.62s/it]"
     ]
    },
    {
     "name": "stdout",
     "output_type": "stream",
     "text": [
      "EPHA4_0.seq\n",
      "INFO:root:Reading ./Davis/cut_seqs/EPHA4_0.seq\n",
      "MAGIFYFALFSCLFGICDAVTGSRVYPANEVTLLDSRSVQGELGWIASPLEGGWEEVSIMDEKNTPIRTYQVCNVMEPSQNNWLRTDWITREGAQRVYIEIKFTLRDCNSLPGVMGTCKETFNLYYYESDNDKERFIRENQFVKIDTIAADESFTQVDIGDRIMKLNTEIRDVGPLSKKGFYLAFQDVGACIALVSVRVFYKKCPLTVRNLAQFPDTITGADTSSLVEVRGSCVNNSEEKDVPKMYCGADGEWLVPIGNCLCNAGHEERSGECQACKIGYYKALSTDATCAKCPPHSYSVWEGATSCTCDRGFFRADNDAASMPCTRPPSAPLNLISNVNETSVNLEWSSPQNTGGRQDISYNVVCKKCGAGDPSKCRPCGSGVHYTPQQNGLKTTKVSITDLLAHTNYTFEIWAVNGVSKYNPNPDQSVSVTVTTNQAAPSSIALVQAKEVTRYSVALAWLEPDRPNGVILEYEVKYYEKDQNERSYRIVRTAARNTDIKGLNPLTSYVFHVRARTAAGYGDFSEPLEVTTNTVPSRIIGDGANSTVLLVSVSGSVVLVVILIAAFVISRRRSKYSKAKQEADEEKHLNQGVRTYVDPFTYEDPNQAVREFAKEIDASCIKIEKVIGVGEFGEVCSGRLKVPGKREICVAIKTLKAGYTDKQRRDFLSEASIMGQFDHPNIIHLEGVVTKCKPVMIITEYMENGSLDAFLRKNDGRFTVIQLVGMLRGIGSGMKYLSDMSYVHRDLAARNILVNSNLVCKVSDFGMSRVLEDDPEAAYTTRGGKIPIRWTAPEAIAYRK\n",
      "INFO:root:Predicting 1th chain in ./Davis/cut_seqs/EPHA4_0.seq\n",
      "INFO:root:800 residues in this chain.\n",
      "INFO:root:Finished prediction in 57.07 seconds.\n",
      "INFO:root:Saving prediction to ./Davis/omega_2/EPHA4_0.pdb\n",
      "INFO:root:Saved\n",
      "INFO:root:Done!\n"
     ]
    },
    {
     "name": "stderr",
     "output_type": "stream",
     "text": [
      " 56%|█████▌    | 291/522 [2:23:42<2:37:41, 40.96s/it]"
     ]
    },
    {
     "name": "stdout",
     "output_type": "stream",
     "text": [
      "MLCK_1.seq\n",
      "INFO:root:Reading ./Davis/cut_seqs/MLCK_1.seq\n",
      "KHFYVVTAANRLRKFPTSP\n",
      "INFO:root:Predicting 1th chain in ./Davis/cut_seqs/MLCK_1.seq\n",
      "INFO:root:19 residues in this chain.\n",
      "INFO:root:Finished prediction in 0.55 seconds.\n",
      "INFO:root:Saving prediction to ./Davis/omega_2/MLCK_1.pdb\n",
      "INFO:root:Saved\n",
      "INFO:root:Done!\n"
     ]
    },
    {
     "name": "stderr",
     "output_type": "stream",
     "text": [
      " 56%|█████▌    | 292/522 [2:23:43<1:50:42, 28.88s/it]"
     ]
    },
    {
     "name": "stdout",
     "output_type": "stream",
     "text": [
      "ULK2_0.seq\n",
      "INFO:root:Reading ./Davis/cut_seqs/ULK2_0.seq\n",
      "MEVVGDFEYSKRDLVGHGAFAVVFRGRHRQKTDWEVAIKSINKKNLSKSQILLGKEIKILKELQHENIVALYDVQELPNSVFLVMEYCNGGDLADYLQAKGTLSEDTIRVFLHQIAAAMRILHSKGIIHRDLKPQNILLSYANRRKSSVSGIRIKIADFGFARYLHSNMMAATLCGSPMYMAPEVIMSQHYDAKADLWSIGTVIYQCLVGKPPFQANSPQDLRMFYEKNRSLMPSIPRETSPYLANLLLGLLQRNQKDRMDFEAFFSHPFLEQGPVKKSCPVPVPMYSGSVSGSSCGSSPSCRFASPPSLPDMQHIQEENLSSPPLGPPNYLQVSKDSASTSSKNSSCDTDDFVLVPHNISSDHSCDMPVGTAGRRASNEFLVCGGQCQPTVSPHSETAPIPVPTQIRNYQRIEQNLTSTASSGTNVHGSPRSAVVRRSNTSPMGFLRPGSCSPVPADTAQTVGRRLSTGSSRPYSPSPLVGTIPEQFSQCCCGHPQGHDSRSRNSSGSPVPQAQSPQSLLSGARLQSAPTLTDIYQNKQKLRKQHSDPVCPSHTGAGYSYSPQPSRPGSLGTSPTKHLGSSPRSSDWFFKTPLPTIIGSPTKTTAPFKIPKTQASSNLLALVTRHGPAEEQSKDGNEPRECAHCLLVQGSERQRAEQQSKAVFGRSVSTGKLSDQQGKTPICRHQGSTDSLNTERPMDIAPAGACGGVLAPPAGTAASSKAVLFTVGSPPHSAAAPTCTHMFLRTRTTSVGPSNSGGSLCAMSGRVCVGSPPGPGFGSSPPGAEAAPSLRYVPYGASPP\n",
      "INFO:root:Predicting 1th chain in ./Davis/cut_seqs/ULK2_0.seq\n",
      "INFO:root:800 residues in this chain.\n",
      "INFO:root:Finished prediction in 57.01 seconds.\n",
      "INFO:root:Saving prediction to ./Davis/omega_2/ULK2_0.pdb\n",
      "INFO:root:Saved\n",
      "INFO:root:Done!\n"
     ]
    },
    {
     "name": "stderr",
     "output_type": "stream",
     "text": [
      " 56%|█████▌    | 293/522 [2:24:41<2:23:23, 37.57s/it]"
     ]
    },
    {
     "name": "stdout",
     "output_type": "stream",
     "text": [
      "PLK4_0.seq\n",
      "INFO:root:Reading ./Davis/cut_seqs/PLK4_0.seq\n",
      "MATCIGEKIEDFKVGNLLGKGSFAGVYRAESIHTGLEVAIKMIDKKAMYKAGMVQRVQNEVKIHCQLKHPSILELYNYFEDSNYVYLVLEMCHNGEMNRYLKNRVKPFSENEARHFMHQIITGMLYLHSHGILHRDLTLSNLLLTRNMNIKIADFGLATQLKMPHEKHYTLCGTPNYISPEIATRSAHGLESDVWSLGCMFYTLLIGRPPFDTDTVKNTLNKVVLADYEMPSFLSIEAKDLIHQLLRRNPADRLSLSSVLDHPFMSRNSSTKSKDLGTVEDSIDSGHATISTAITASSSTSISGSLFDKRRLLIGQPLPNKMTVFPKNKSSTDFSSSGDGNSFYTQWGNQETSNSGRGRVIQDAEERPHSRYLRRAYSSDRSGTSNSQSQAKTYTMERCHSAEMLSVSKRSGGGENEERYSPTDNNANIFNFFKEKTSSSSGSFERPDNNQALSNHLCPGKTPFPFADPTPQTETVQQWFGNLQINAHLRKTTEYDSISPNRDFQGHPDLQKDTSKNAWTDTKVKKNSDASDNAHSVKQQNTMKYMTALHSKPEIIQQECVFGSDPLSEQSKTRGMEPPWGYQNRTLRSITSPLVAHRLKPIRQKTKKAVVSILDSEEVCVELVKEYASQEYVKEVLQISSDGNTITIYYPNGGRGFPLADRPPSPTDNISRYSFDNLPEKYWRKYQYASRFVQLVRSKSPKITYFTRYAKCILMENSPGADFEVWFYDGVKIHKTEDFIQVIEKTGKSYTLKSESEVNSLKEEIKMYMDHANEGHRICLALESIISEEERKTRSAPFFP\n",
      "INFO:root:Predicting 1th chain in ./Davis/cut_seqs/PLK4_0.seq\n",
      "INFO:root:800 residues in this chain.\n",
      "INFO:root:Finished prediction in 57.09 seconds.\n",
      "INFO:root:Saving prediction to ./Davis/omega_2/PLK4_0.pdb\n",
      "INFO:root:Saved\n",
      "INFO:root:Done!\n"
     ]
    },
    {
     "name": "stderr",
     "output_type": "stream",
     "text": [
      " 56%|█████▋    | 294/522 [2:25:39<2:46:08, 43.72s/it]"
     ]
    },
    {
     "name": "stdout",
     "output_type": "stream",
     "text": [
      "PRKD3_1.seq\n",
      "INFO:root:Reading ./Davis/cut_seqs/PRKD3_1.seq\n",
      "ISGEAIDLINNLLQVKMRKRYSVDKSLSHPWLQDYQTWLDLREFETRIGERYITHESDDARWEIHAYTHNLVYPKHFIMAPNPDDMEEDP\n",
      "INFO:root:Predicting 1th chain in ./Davis/cut_seqs/PRKD3_1.seq\n",
      "INFO:root:90 residues in this chain.\n",
      "INFO:root:Finished prediction in 0.65 seconds.\n",
      "INFO:root:Saving prediction to ./Davis/omega_2/PRKD3_1.pdb\n",
      "INFO:root:Saved\n",
      "INFO:root:Done!\n"
     ]
    },
    {
     "name": "stderr",
     "output_type": "stream",
     "text": [
      " 57%|█████▋    | 295/522 [2:25:40<1:56:43, 30.85s/it]"
     ]
    },
    {
     "name": "stdout",
     "output_type": "stream",
     "text": [
      "SNRK.seq\n",
      "INFO:root:Reading ./Davis/cut_seqs/SNRK.seq\n",
      "MAGFKRGYDGKIAGLYDLDKTLGRGHFAVVKLARHVFTGEKVAVKVIDKTKLDTLATGHLFQEVRCMKLVQHPNIVRLYEVIDTQTKLYLILELGDGGDMFDYIMKHEEGLNEDLAKKYFAQIVHAISYCHKLHVVHRDLKPENVVFFEKQGLVKLTDFGFSNKFQPGKKLTTSCGSLAYSAPEILLGDEYDAPAVDIWSLGVILFMLVCGQPPFQEANDSETLTMIMDCKYTVPSHVSKECKDLITRMLQRDPKRRASLEEIENHPWLQGVDPSPATKYNIPLVSYKNLSEEEHNSIIQRMVLGDIADRDAIVEALETNRYNHITATYFLLAERILREKQEKEIQTRSASPSNIKAQFRQSWPTKIDVPQDLEDDLTATPLSHATVPQSPARAADSVLNGHRSKGLCDSAKKDDLPELAGPALSTVPPASLKPTASGRKCLFRVEEDEEEDEEDKKPMSLSTQVVLRRKPSVTNRLTSRKSAPVLNQIFEEGESDDEFDMDENLPPKLSRLKMNIASPGTVHKRYHRRKSQGRGSSCSSSETSDDDSESRRRLDKDSGFTYSWHRRDSSEGPPGSEGDGGGQSKPSNASGGVDKASPSENNAGGGSPSSGSGGNPTNTSGTTRRCAGPSNSMQLASRSAGELVESLKLMSLCLGSQLHGSTKYIIDPQNGLSFSSVKVQEKSTWKMCISSTGNAGQVPAVGGIKFFSDHMADTTTELERIKSKNLKNNVLQLPLCEKTISVNIQRNPKEGLLCASSPASCCHVI\n",
      "INFO:root:Predicting 1th chain in ./Davis/cut_seqs/SNRK.seq\n",
      "INFO:root:765 residues in this chain.\n",
      "INFO:root:Finished prediction in 55.03 seconds.\n",
      "INFO:root:Saving prediction to ./Davis/omega_2/SNRK.pdb\n",
      "INFO:root:Saved\n",
      "INFO:root:Done!\n"
     ]
    },
    {
     "name": "stderr",
     "output_type": "stream",
     "text": [
      " 57%|█████▋    | 296/522 [2:26:36<2:24:32, 38.37s/it]"
     ]
    },
    {
     "name": "stdout",
     "output_type": "stream",
     "text": [
      "HUNK.seq\n",
      "INFO:root:Reading ./Davis/cut_seqs/HUNK.seq\n",
      "MPAAAGDGLLGEPAAPGGGGGAEDAARPAAACEGSFLPAWVSGVPRERLRDFQHHKRVGNYLIGSRKLGEGSFAKVREGLHVLTGEKVAIKVIDKKRAKKDTYVTKNLRREGQIQQMIRHPNITQLLDILETENSYYLVMELCPGGNLMHKIYEKKRLEESEARRYIRQLISAVEHLHRAGVVHRDLKIENLLLDEDNNIKLIDFGLSNCAGILGYSDPFSTQCGSPAYAAPELLARKKYGPKIDVWSIGVNMYAMLTGTLPFTVEPFSLRALYQKMVDKEMNPLPTQLSTGAISFLRSLLEPDPVKRPNIQQALANRWLNENYTGKVPCNVTYPNRISLEDLSPSVVLHMTEKLGYKNSDVINTVLSNRACHILAIYFLLNKKLERYLSGKSDIQDSLCYKTRLYQIEKYRAPKESYEASLDTWTRDLEFHAVQDKKPKEQEKRGDFLHRPFSKKLDKNLPSHKQPSGSLMTQIQNTKALLKDRKASKSSFPDKDSFGCRNIFRKTSDSNCVASSSMEFIPVPPPRTPRIVKKPEPHQPGPGSTGIPHKEDPLMLDMVRSFESVDRDDHVEVLSPSHHYRILNSPVSLARRNSSERTLSPGLPSGSMSPLHTPLHPTLVSFAHEDKNSPPKEEGLCCPPPVPSNGPMQPLGSPNCVKSRGRFPMMGIGQMLRKRHQSLQPSADRPLEASLPPLQPLAPVNLAFDMADGVKTQC\n",
      "INFO:root:Predicting 1th chain in ./Davis/cut_seqs/HUNK.seq\n",
      "INFO:root:714 residues in this chain.\n",
      "INFO:root:Finished prediction in 45.47 seconds.\n",
      "INFO:root:Saving prediction to ./Davis/omega_2/HUNK.pdb\n",
      "INFO:root:Saved\n",
      "INFO:root:Done!\n"
     ]
    },
    {
     "name": "stderr",
     "output_type": "stream",
     "text": [
      " 57%|█████▋    | 297/522 [2:27:22<2:32:42, 40.72s/it]"
     ]
    },
    {
     "name": "stdout",
     "output_type": "stream",
     "text": [
      "AAK1_1.seq\n",
      "INFO:root:Reading ./Davis/cut_seqs/AAK1_1.seq\n",
      "SLLLPDLLPMTDPFGSTSDAVIEKADVAVESLIPGLEPPVPQRLPSQTESVTSNRTDSLTGEDSLLDCSLLSNPTTDLLEEFAPTAISAPVHKAAEDSNLISGFDVPEGSDKVAEDEFDPIPVLITKNPQGGHSRNSSGSSESSLPNLARSLLLVDQLIDL\n",
      "INFO:root:Predicting 1th chain in ./Davis/cut_seqs/AAK1_1.seq\n",
      "INFO:root:161 residues in this chain.\n",
      "INFO:root:Finished prediction in 1.51 seconds.\n",
      "INFO:root:Saving prediction to ./Davis/omega_2/AAK1_1.pdb\n",
      "INFO:root:Saved\n",
      "INFO:root:Done!\n"
     ]
    },
    {
     "name": "stderr",
     "output_type": "stream",
     "text": [
      " 57%|█████▋    | 298/522 [2:27:24<1:48:19, 29.02s/it]"
     ]
    },
    {
     "name": "stdout",
     "output_type": "stream",
     "text": [
      "ERK3.seq\n",
      "INFO:root:Reading ./Davis/cut_seqs/ERK3.seq\n",
      "MAEKFESLMNIHGFDLGSRYMDLKPLGCGGNGLVFSAVDNDCDKRVAIKKIVLTDPQSVKHALREIKIIRRLDHDNIVKVFEILGPSGSQLTDDVGSLTELNSVYIVQEYMETDLANVLEQGPLLEEHARLFMYQLLRGLKYIHSANVLHRDLKPANLFINTEDLVLKIGDFGLARIMDPHYSHKGHLSEGLVTKWYRSPRLLLSPNNYTKAIDMWAAGCIFAEMLTGKTLFAGAHELEQMQLILESIPVVHEEDRQELLSVIPVYIRNDMTEPHKPLTQLLPGISREALDFLEQILTFSPMDRLTAEEALSHPYMSIYSFPMDEPISSHPFHIEDEVDDILLMDETHSHIYNWERYHDCQFSEHDWPVHNNFDIDEVQLDPRALSDVTDEEEVQVDPRKYLDGDREKYLEDPAFDTNYSTEPCWQYSDHHENKYCDLECSHTCNYKTRSSSYLDNLVWRESEVNHYYEPKLIIDLSNWKEQSKEKSDKKGKSKCERNGLVKAQIALEEASQQLAGKEREKNQGFDFDSFIAGTIQLSSQHEPTDVVDKLNDLNSSVSQLELKSLISKSVSQEKQEKGMANLAQLEALYQSSWDSQFVSGGEDCFFINQFCEVRKDEQVEKENTYTSYLDKFFSRKEDTEMLETEPVEDGKLGERGHEEGFLNNSGEFLFNKQLESIGIPQFHSPVGSPLKSIQATLTPSAMKSSPQIPHQTYSSILKHLN\n",
      "INFO:root:Predicting 1th chain in ./Davis/cut_seqs/ERK3.seq\n",
      "INFO:root:721 residues in this chain.\n",
      "INFO:root:Finished prediction in 47.29 seconds.\n",
      "INFO:root:Saving prediction to ./Davis/omega_2/ERK3.pdb\n",
      "INFO:root:Saved\n",
      "INFO:root:Done!\n"
     ]
    },
    {
     "name": "stderr",
     "output_type": "stream",
     "text": [
      " 57%|█████▋    | 299/522 [2:28:12<2:09:05, 34.73s/it]"
     ]
    },
    {
     "name": "stdout",
     "output_type": "stream",
     "text": [
      "RPS6KA5(KinDom.1-N-terminal)_1.seq\n",
      "INFO:root:Reading ./Davis/cut_seqs/RPS6KA5(KinDom.1-N-terminal)_1.seq\n",
      "VA\n",
      "INFO:root:Predicting 1th chain in ./Davis/cut_seqs/RPS6KA5(KinDom.1-N-terminal)_1.seq\n",
      "INFO:root:2 residues in this chain.\n",
      "INFO:root:Finished prediction in 0.54 seconds.\n",
      "INFO:root:Saving prediction to ./Davis/omega_2/RPS6KA5(KinDom.1-N-terminal)_1.pdb\n",
      "INFO:root:Saved\n",
      "INFO:root:Done!\n"
     ]
    },
    {
     "name": "stderr",
     "output_type": "stream",
     "text": [
      " 57%|█████▋    | 300/522 [2:28:12<1:30:43, 24.52s/it]"
     ]
    },
    {
     "name": "stdout",
     "output_type": "stream",
     "text": [
      "PYK2_0.seq\n",
      "INFO:root:Reading ./Davis/cut_seqs/PYK2_0.seq\n",
      "MSGVSEPLSRVKLGTLRRPEGPAEPMVVVPVDVEKEDVRILKVCFYSNSFNPGKNFKLVKCTVQTEIREIITSILLSGRIGPNIRLAECYGLRLKHMKSDEIHWLHPQMTVGEVQDKYECLHVEAEWRYDLQIRYLPEDFMESLKEDRTTLLYFYQQLRNDYMQRYASKVSEGMALQLGCLELRRFFKDMPHNALDKKSNFELLEKEVGLDLFFPKQMQENLKPKQFRKMIQQTFQQYASLREEECVMKFFNTLAGFANIDQETYRCELIQGWNITVDLVIGPKGIRQLTSQDAKPTCLAEFKQIRSIRCLPLEEGQAVLQLGIEGAPQALSIKTSSLAEAENMADLIDGYCRLQGEHQGSLIIHPRKDGEKRNSLPQIPMLNLEARRSHLSESCSIESDIYAEIPDETLRRPGGPQYGIAREDVVLNRILGEGFFGEVYEGVYTNHKGEKINVAVKTCKKDCTLDNKEKFMSEAVIMKNLDHPHIVKLIGIIEEEPTWIIMELYPYGELGHYLERNKNSLKVLTLVLYSLQICKAMAYLESINCVHRDIAVRNILVASPECVKLGDFGLSRYIEDEDYYKASVTRLPIKWMSPESINFRRFTTASDVWMFAVCMWEILSFGKQPFFWLENKDVIGVLEKGDRLPKPDLCPPVLYTLMTRCWDYDPSDRPRFTELVCSLSDVYQMEKDIAMEQERNARYRTPKILEPTAFQEPPPKPSRPKYRPPPQTNLLAPKLQFQVPEGLCASSPTLTSPMEYPSPVNSLHTPPLHRHNVFKRHSMREEDFIQPSSREEAQQLWEAE\n",
      "INFO:root:Predicting 1th chain in ./Davis/cut_seqs/PYK2_0.seq\n",
      "INFO:root:800 residues in this chain.\n",
      "INFO:root:Finished prediction in 57.04 seconds.\n",
      "INFO:root:Saving prediction to ./Davis/omega_2/PYK2_0.pdb\n",
      "INFO:root:Saved\n",
      "INFO:root:Done!\n"
     ]
    },
    {
     "name": "stderr",
     "output_type": "stream",
     "text": [
      " 58%|█████▊    | 301/522 [2:29:10<2:07:12, 34.54s/it]"
     ]
    },
    {
     "name": "stdout",
     "output_type": "stream",
     "text": [
      "AKT2.seq\n",
      "INFO:root:Reading ./Davis/cut_seqs/AKT2.seq\n",
      "MNEVSVIKEGWLHKRGEYIKTWRPRYFLLKSDGSFIGYKERPEAPDQTLPPLNNFSVAECQLMKTERPRPNTFVIRCLQWTTVIERTFHVDSPDEREEWMRAIQMVANSLKQRAPGEDPMDYKCGSPSDSSTTEEMEVAVSKARAKVTMNDFDYLKLLGKGTFGKVILVREKATGRYYAMKILRKEVIIAKDEVAHTVTESRVLQNTRHPFLTALKYAFQTHDRLCFVMEYANGGELFFHLSRERVFTEERARFYGAEIVSALEYLHSRDVVYRDIKLENLMLDKDGHIKITDFGLCKEGISDGATMKTFCGTPEYLAPEVLEDNDYGRAVDWWGLGVVMYEMMCGRLPFYNQDHERLFELILMEEIRFPRTLSPEAKSLLAGLLKKDPKQRLGGGPSDAKEVMEHRFFLSINWQDVVQKKLLPPFKPQVTSEVDTRYFDDEFTAQSITITPPDRYDSLGLLELDQRTHFPQFSYSASIRE\n",
      "INFO:root:Predicting 1th chain in ./Davis/cut_seqs/AKT2.seq\n",
      "INFO:root:481 residues in this chain.\n",
      "INFO:root:Finished prediction in 17.30 seconds.\n",
      "INFO:root:Saving prediction to ./Davis/omega_2/AKT2.pdb\n",
      "INFO:root:Saved\n",
      "INFO:root:Done!\n"
     ]
    },
    {
     "name": "stderr",
     "output_type": "stream",
     "text": [
      " 58%|█████▊    | 302/522 [2:29:28<1:48:14, 29.52s/it]"
     ]
    },
    {
     "name": "stdout",
     "output_type": "stream",
     "text": [
      "PIM3.seq\n",
      "INFO:root:Reading ./Davis/cut_seqs/PIM3.seq\n",
      "MLLSKFGSLAHLCGPGGVDHLPVKILQPAKADKESFEKAYQVGAVLGSGGFGTVYAGSRIADGLPVAVKHVVKERVTEWGSLGGATVPLEVVLLRKVGAAGGARGVIRLLDWFERPDGFLLVLERPEPAQDLFDFITERGALDEPLARRFFAQVLAAVRHCHSCGVVHRDIKDENLLVDLRSGELKLIDFGSGALLKDTVYTDFDGTRVYSPPEWIRYHRYHGRSATVWSLGVLLYDMVCGDIPFEQDEEILRGRLLFRRRVSPECQQLIRWCLSLRPSERPSLDQIAAHPWMLGADGGVPESCDLRLCTLDPDDVASTTSSSESL\n",
      "INFO:root:Predicting 1th chain in ./Davis/cut_seqs/PIM3.seq\n",
      "INFO:root:326 residues in this chain.\n",
      "INFO:root:Finished prediction in 6.73 seconds.\n",
      "INFO:root:Saving prediction to ./Davis/omega_2/PIM3.pdb\n",
      "INFO:root:Saved\n",
      "INFO:root:Done!\n"
     ]
    },
    {
     "name": "stderr",
     "output_type": "stream",
     "text": [
      " 58%|█████▊    | 303/522 [2:29:36<1:23:55, 22.99s/it]"
     ]
    },
    {
     "name": "stdout",
     "output_type": "stream",
     "text": [
      "LATS1_0.seq\n",
      "INFO:root:Reading ./Davis/cut_seqs/LATS1_0.seq\n",
      "MKRSEKPEGYRQMRPKTFPASNYTVSSRQMLQEIRESLRNLSKPSDAAKAEHNMSKMSTEDPRQVRNPPKFGTHHKALQEIRNSLLPFANETNSSRSTSEVNPQMLQDLQAAGFDEDMVIQALQKTNNRSIEAAIEFISKMSYQDPRREQMAAAAARPINASMKPGNVQQSVNRKQSWKGSKESLVPQRHGPPLGESVAYHSESPNSQTDVGRPLSGSGISAFVQAHPSNGQRVNPPPPPQVRSVTPPPPPRGQTPPPRGTTPPPPSWEPNSQTKRYSGNMEYVISRISPVPPGAWQEGYPPPPLNTSPMNPPNQGQRGISSVPVGRQPIIMQSSSKFNFPSGRPGMQNGTGQTDFMIHQNVVPAGTVNRQPPPPYPLTAANGQSPSALQTGGSAAPSSYTNGSIPQSMMVPNRNSHNMELYNISVPGLQTNWPQSSSAPAQSSPSSGHEIPTWQPNIPVRSNSFNNPLGNRASHSANSQPSATTVTAITPAPIQQPVKSMRVLKPELQTALAPTHPSWIPQPIQTVQPSPFPEGTASNVTVMPPVAEAPNYQGPPPPYPKHLLHQNPSVPPYESISKPSKEDQPSLPKEDESEKSYENVDSGDKEKKQITTSPITVRKNKKDEERRESRIQSYSPQAFKFFMEQHVENVLKSHQQRLHRKKQLENEMMRVGLSQDAQDQMRKMLCQKESNYIRLKRAKMDKSMFVKIKTLGIGAFGEVCLARKVDTKALYATKTLRKKDVLLRNQVAHVKAERDILAEADNEWVVRLYYSFQDKDNLYFVMDYIPGGDMMSLLIRMGIF\n",
      "INFO:root:Predicting 1th chain in ./Davis/cut_seqs/LATS1_0.seq\n",
      "INFO:root:800 residues in this chain.\n",
      "INFO:root:Finished prediction in 57.01 seconds.\n",
      "INFO:root:Saving prediction to ./Davis/omega_2/LATS1_0.pdb\n",
      "INFO:root:Saved\n",
      "INFO:root:Done!\n"
     ]
    },
    {
     "name": "stderr",
     "output_type": "stream",
     "text": [
      " 58%|█████▊    | 304/522 [2:30:34<2:01:33, 33.46s/it]"
     ]
    },
    {
     "name": "stdout",
     "output_type": "stream",
     "text": [
      "AXL_1.seq\n",
      "INFO:root:Reading ./Davis/cut_seqs/AXL_1.seq\n",
      "EDLENTLKALPPAQEPDEILYVNMDEGGGYPEPPGAAGGADPPTQPDPKDSCSCLTAAEVHPAGRYVLCPSTTPSPAQPADRGSPAAPGQEDGA\n",
      "INFO:root:Predicting 1th chain in ./Davis/cut_seqs/AXL_1.seq\n",
      "INFO:root:94 residues in this chain.\n",
      "INFO:root:Finished prediction in 0.69 seconds.\n",
      "INFO:root:Saving prediction to ./Davis/omega_2/AXL_1.pdb\n",
      "INFO:root:Saved\n",
      "INFO:root:Done!\n"
     ]
    },
    {
     "name": "stderr",
     "output_type": "stream",
     "text": [
      " 58%|█████▊    | 305/522 [2:30:34<1:25:37, 23.67s/it]"
     ]
    },
    {
     "name": "stdout",
     "output_type": "stream",
     "text": [
      "MARK2.seq\n",
      "INFO:root:Reading ./Davis/cut_seqs/MARK2.seq\n",
      "MSSARTPLPTLNERDTEQPTLGHLDSKPSSKSNMIRGRNSATSADEQPHIGNYRLLKTIGKGNFAKVKLARHILTGKEVAVKIIDKTQLNSSSLQKLFREVRIMKVLNHPNIVKLFEVIETEKTLYLVMEYASGGEVFDYLVAHGRMKEKEARAKFRQIVSAVQYCHQKFIVHRDLKAENLLLDADMNIKIADFGFSNEFTFGNKLDTFCGSPPYAAPELFQGKKYDGPEVDVWSLGVILYTLVSGSLPFDGQNLKELRERVLRGKYRIPFYMSTDCENLLKKFLILNPSKRGTLEQIMKDRWMNVGHEDDELKPYVEPLPDYKDPRRTELMVSMGYTREEIQDSLVGQRYNEVMATYLLLGYKSSELEGDTITLKPRPSADLTNSSAPSPSHKVQRSVSANPKQRRFSDQAAGPAIPTSNSYSKKTQSNNAENKRPEEDRESGRKASSTAKVPASPLPGLERKKTTPTPSTNSVLSTSTNRSRNSPLLERASLGQASIQNGKDSLTMPGSRASTASASAAVSAARPRQHQKSMSASVHPNKASGLPPTESNCEVPRPSTAPQRVPVASPSAHNISSSGGAPDRTNFPRGVSSRSTFHAGQLRQVRDQQNLPYGVTPASPSGHSQGRRGASGSIFSKFTSKFVRRNLSFRFARRNLNEPESKDRVETLRPHVVGSGGNDKEKEEFREAKPRSLRFTWSMKTTSSMEPNEMMREIRKVLDANSCQSELHEKYMLLCMHGTPGHEDFVQWEMEVCKLPRLSLNGVRFKRISGTSMAFKNIASKIANELKL\n",
      "INFO:root:Predicting 1th chain in ./Davis/cut_seqs/MARK2.seq\n",
      "INFO:root:788 residues in this chain.\n",
      "INFO:root:Finished prediction in 56.71 seconds.\n",
      "INFO:root:Saving prediction to ./Davis/omega_2/MARK2.pdb\n",
      "INFO:root:Saved\n",
      "INFO:root:Done!\n"
     ]
    },
    {
     "name": "stderr",
     "output_type": "stream",
     "text": [
      " 59%|█████▊    | 306/522 [2:31:32<2:01:52, 33.85s/it]"
     ]
    },
    {
     "name": "stdout",
     "output_type": "stream",
     "text": [
      "MYO3A_1.seq\n",
      "INFO:root:Reading ./Davis/cut_seqs/MYO3A_1.seq\n",
      "DQTLVEKFEGNLKSQYFWRPKRMELSFGIHHYAGKVLYNASGFLAKNRDTLPTDIVLLLRSSDNSVIRQLVNHPLTKTGNLPHSKTKNVINYQMRTSEKLINLAKGDTGEATRHARETTNMKTQTVASYFRYSLMDLLSKMVVGQPHFVRCIKPNSERQARKYDKEKVLLQLRYTGILETARIRRLGFSHRILFANFIKRYYLLCYKSSEEPRMSPDTCATILEKAGLDNWALGKTKVFLKYYHVEQLNLMRKEAIDKLILIQACVRAFLCSRRYQKIQEKRKESAIIIQSAARGHLVRKQRKEIVDMKNTAVTTIQTSDQEFDYKKNFENTRESFVKKQAENAISANERFISAPNNKGSVSVVKTSTFKPEEETTNAVESNNRVYQTPKKMNNVYEEEVKQEFYLVGPEVSPKQKSVKDLEENSNLRKVEKEEAMIQSYYQRYTEERNCEESKAAYLERKAISERPSYPVPWLAENETSFKKTLEPTLSQRSIYQNANSMEKEKKTSVVTQRAPICSQEEGRGRLRHETVKERQVEPVTQAQEEEDKAAVFIQSKYRGYKRRQQLRKDKMSSFKHQRIVTTPTEVARNTHNLYSYPTKHEEINNIKKKDNKDSKATSEREACGLAIFSKQISKLSEEYFILQKKLNEMILSQQLKSLYLGVSHHKPINRRVSSQQCLSGVCKGEEPKILRPPRRPRKPKTLNNPEDSTYYYLLHKSIQEEKRRPRKDSQGKLLDLEDFYYKEFLPSRSGPKEHSPSLRERRPQQELQNQCIKANERCWAAESPEKEEEREPAANPYDFR\n",
      "INFO:root:Predicting 1th chain in ./Davis/cut_seqs/MYO3A_1.seq\n",
      "INFO:root:800 residues in this chain.\n",
      "INFO:root:Finished prediction in 57.06 seconds.\n",
      "INFO:root:Saving prediction to ./Davis/omega_2/MYO3A_1.pdb\n",
      "INFO:root:Saved\n",
      "INFO:root:Done!\n"
     ]
    },
    {
     "name": "stderr",
     "output_type": "stream",
     "text": [
      " 59%|█████▉    | 307/522 [2:32:30<2:27:17, 41.11s/it]"
     ]
    },
    {
     "name": "stdout",
     "output_type": "stream",
     "text": [
      "HCK.seq\n",
      "INFO:root:Reading ./Davis/cut_seqs/HCK.seq\n",
      "MGGRSSCEDPGCPRDEERAPRMGCMKSKFLQVGGNTFSKTETSASPHCPVYVPDPTSTIKPGPNSHNSNTPGIREAGSEDIIVVALYDYEAIHHEDLSFQKGDQMVVLEESGEWWKARSLATRKEGYIPSNYVARVDSLETEEWFFKGISRKDAERQLLAPGNMLGSFMIRDSETTKGSYSLSVRDYDPRQGDTVKHYKIRTLDNGGFYISPRSTFSTLQELVDHYKKGNDGLCQKLSVPCMSSKPQKPWEKDAWEIPRESLKLEKKLGAGQFGEVWMATYNKHTKVAVKTMKPGSMSVEAFLAEANVMKTLQHDKLVKLHAVVTKEPIYIITEFMAKGSLLDFLKSDEGSKQPLPKLIDFSAQIAEGMAFIEQRNYIHRDLRAANILVSASLVCKIADFGLARVIEDNEYTAREGAKFPIKWTAPEAINFGSFTIKSDVWSFGILLMEIVTYGRIPYPGMSNPEVIRALERGYRMPRPENCPEELYNIMMRCWKNRPEERPTFEYIQSVLDDFYTATESQYQQQP\n",
      "INFO:root:Predicting 1th chain in ./Davis/cut_seqs/HCK.seq\n",
      "INFO:root:526 residues in this chain.\n",
      "INFO:root:Finished prediction in 21.27 seconds.\n",
      "INFO:root:Saving prediction to ./Davis/omega_2/HCK.pdb\n",
      "INFO:root:Saved\n",
      "INFO:root:Done!\n"
     ]
    },
    {
     "name": "stderr",
     "output_type": "stream",
     "text": [
      " 59%|█████▉    | 308/522 [2:32:52<2:05:52, 35.29s/it]"
     ]
    },
    {
     "name": "stdout",
     "output_type": "stream",
     "text": [
      "TIE2_1.seq\n",
      "INFO:root:Reading ./Davis/cut_seqs/TIE2_1.seq\n",
      "IILQLKRANVQRRMAQAFQNVREEPAVQFNSGTLALNRKVKNNPDPTIYPVLDWNDIKFQDVIGEGNFGQVLKARIKKDGLRMDAAIKRMKEYASKDDHRDFAGELEVLCKLGHHPNIINLLGACEHRGYLYLAIEYAPHGNLLDFLRKSRVLETDPAFAIANSTASTLSSQQLLHFAADVARGMDYLSQKQFIHRDLAARNILVGENYVAKIADFGLSRGQEVYVKKTMGRLPVRWMAIESLNYSVYTTNSDVWSYGVLLWEIVSLGGTPYCGMTCAELYEKLPQGYRLEKPLNCDDEVYDLMRQCWREKPYERPSFAQILVSLNRMLEERKTYVNTTLYEKFTYAGIDCSAEEAA\n",
      "INFO:root:Predicting 1th chain in ./Davis/cut_seqs/TIE2_1.seq\n",
      "INFO:root:357 residues in this chain.\n",
      "INFO:root:Finished prediction in 8.36 seconds.\n",
      "INFO:root:Saving prediction to ./Davis/omega_2/TIE2_1.pdb\n",
      "INFO:root:Saved\n",
      "INFO:root:Done!\n"
     ]
    },
    {
     "name": "stderr",
     "output_type": "stream",
     "text": [
      " 59%|█████▉    | 309/522 [2:33:01<1:36:58, 27.32s/it]"
     ]
    },
    {
     "name": "stdout",
     "output_type": "stream",
     "text": [
      "ERK8.seq\n",
      "INFO:root:Reading ./Davis/cut_seqs/ERK8.seq\n",
      "MCTVVDPRIVRRYLLRRQLGQGAYGIVWKAVDRRTGEVVAIKKIFDAFRDKTDAQRTFREITLLQEFGDHPNIISLLDVIRAENDRDIYLVFEFMDTDLNAVIRKGGLLQDVHVRSIFYQLLRATRFLHSGHVVHRDQKPSNVLLDANCTVKLCDFGLARSLGDLPEGPEDQAVTEYVATRWYRAPEVLLSSHRYTLGVDMWSLGCILGEMLRGRPLFPGTSTLHQLELILETIPPPSEEDLLALGSGCRASVLHQLGSRPRQTLDALLPPDTSPEALDLLRRLLVFAPDKRLSATQALQHPYVQRFHCPSDEWAREADVRPRAHEGVQLSVPEYRSRVYQMILECGGSSGTSREKGPEGVSPSQAHLHKPRADPQLPSRTPVQGPRPRPQSSPGHDPAEHESPRAAKNVPRQNSAPLLQTALLGNGERPPGAKEAPPLTLSLVKPSGRGAAPSLTSQAAAQVANQALIRGDWNRGGGVRVASVQQVPPRLPPEARPGRRMFSTSALQGAQGGARALLGGYSQAYGTVCHSALGHLPLLEGHHV\n",
      "INFO:root:Predicting 1th chain in ./Davis/cut_seqs/ERK8.seq\n",
      "INFO:root:544 residues in this chain.\n",
      "INFO:root:Finished prediction in 22.34 seconds.\n",
      "INFO:root:Saving prediction to ./Davis/omega_2/ERK8.pdb\n",
      "INFO:root:Saved\n",
      "INFO:root:Done!\n"
     ]
    },
    {
     "name": "stderr",
     "output_type": "stream",
     "text": [
      " 59%|█████▉    | 310/522 [2:33:23<1:31:46, 25.98s/it]"
     ]
    },
    {
     "name": "stdout",
     "output_type": "stream",
     "text": [
      "OSR1.seq\n",
      "INFO:root:Reading ./Davis/cut_seqs/OSR1.seq\n",
      "MSEDSSALPWSINRDDYELQEVIGSGATAVVQAAYCAPKKEKVAIKRINLEKCQTSMDELLKEIQAMSQCHHPNIVSYYTSFVVKDELWLVMKLLSGGSVLDIIKHIVAKGEHKSGVLDESTIATILREVLEGLEYLHKNGQIHRDVKAGNILLGEDGSVQIADFGVSAFLATGGDITRNKVRKTFVGTPCWMAPEVMEQVRGYDFKADIWSFGITAIELATGAAPYHKYPPMKVLMLTLQNDPPSLETGVQDKEMLKKYGKSFRKMISLCLQKDPEKRPTAAELLRHKFFQKAKNKEFLQEKTLQRAPTISERAKKVRRVPGSSGRLHKTEDGGWEWSDDEFDEESEEGKAAISQLRSPRVKESISNSELFPTTDPVGTLLQVPEQISAHLPQPAGQIATQPTQVSLPPTAEPAKTAQALSSGSGSQETKIPISLVLRLRNSKKELNDIRFEFTPGRDTAEGVSQELISAGLVDGRDLVIVAANLQKIVEEPQSNRSVTFKLASGVEGSDIPDDGKLIGFAQLSIS\n",
      "INFO:root:Predicting 1th chain in ./Davis/cut_seqs/OSR1.seq\n",
      "INFO:root:527 residues in this chain.\n",
      "INFO:root:Finished prediction in 21.70 seconds.\n",
      "INFO:root:Saving prediction to ./Davis/omega_2/OSR1.pdb\n",
      "INFO:root:Saved\n",
      "INFO:root:Done!\n"
     ]
    },
    {
     "name": "stderr",
     "output_type": "stream",
     "text": [
      " 60%|█████▉    | 311/522 [2:33:46<1:27:28, 24.88s/it]"
     ]
    },
    {
     "name": "stdout",
     "output_type": "stream",
     "text": [
      "MYLK_0.seq\n",
      "INFO:root:Reading ./Davis/cut_seqs/MYLK_0.seq\n",
      "MGDVKLVASSHISKTSLSVDPSRVDSMPLTEAPAFILPPRNLCIKEGATAKFEGRVRGYPEPQVTWHRNGQPITSGGRFLLDCGIRGTFSLVIHAVHEEDRGKYTCEATNGSGARQVTVELTVEGSFAKQLGQPVVSKTLGDRFSAPAVETRPSIWGECPPKFATKLGRVVVKEGQMGRFSCKITGRPQPQVTWLKGNVPLQPSARVSVSEKNGMQVLEIHGVNQDDVGVYTCLVVNGSGKASMSAELSIQGLDSANRSFVRETKATNSDVRKEVTNVISKESKLDSLEAAAKSKNCSSPQRGGSPPWAANSQPQPPRESKLESCKDSPRTAPQTPVLQKTSSSITLQAARVQPEPRAPGLGVLSPSGEERKRPAPPRPATFPTRQPGLGSQDVVSKAANRRIPMEGQRDSAFPKFESKPQSQEVKENQTVKFRCEVSGIPKPEVAWFLEGTPVRRQEGSIEVYEDAGSHYLCLLKARTRDSGTYSCTASNAQGQLSCSWTLQVERLAVMEVAPSFSSVLKDCAVIEGQDFVLQCSVRGTPVPRITWLLNGQPIQYARSTCEAGVAELHIQDALPEDHGTYTCLAENALGQVSCSAWVTVHEKKSSRKSEYLLPVAPSKPTAPIFLQGLSDLKVMDGSQVTMTVQVSGNPPPEVIWLHNGNEIQESEDFHFEQRGTQHSLCIQEVFPEDTGTYTCEAWNSAGEVRTQAVLTVQEPHDGTQPWFISKPRSVTASLGQSVLISCAIAGDPFPTVHWLRDGKALCKDTGHFEVLQNEDVFTLVLKKVQPWHAGQYEILLKNRV\n",
      "INFO:root:Predicting 1th chain in ./Davis/cut_seqs/MYLK_0.seq\n",
      "INFO:root:800 residues in this chain.\n",
      "INFO:root:Finished prediction in 57.14 seconds.\n",
      "INFO:root:Saving prediction to ./Davis/omega_2/MYLK_0.pdb\n",
      "INFO:root:Saved\n",
      "INFO:root:Done!\n"
     ]
    },
    {
     "name": "stderr",
     "output_type": "stream",
     "text": [
      " 60%|█████▉    | 312/522 [2:34:44<2:01:49, 34.81s/it]"
     ]
    },
    {
     "name": "stdout",
     "output_type": "stream",
     "text": [
      "HIPK2_0.seq\n",
      "INFO:root:Reading ./Davis/cut_seqs/HIPK2_0.seq\n",
      "MAPVYEGMASHVQVFSPHTLQSSAFCSVKKLKIEPSSNWDMTGYGSHSKVYSQSKNIPLSQPATTTVSTSLPVPNPSLPYEQTIVFPGSTGHIVVTSASSTSVTGQVLGGPHNLMRRSTVSLLDTYQKCGLKRKSEEIENTSSVQIIEEHPPMIQNNASGATVATATTSTATSKNSGSNSEGDYQLVQHEVLCSMTNTYEVLEFLGRGTFGQVVKCWKRGTNEIVAIKILKNHPSYARQGQIEVSILARLSTESADDYNFVRAYECFQHKNHTCLVFEMLEQNLYDFLKQNKFSPLPLKYIRPVLQQVATALMKLKSLGLIHADLKPENIMLVDPSRQPYRVKVIDFGSASHVSKAVCSTYLQSRYYRAPEIILGLPFCEAIDMWSLGCVIAELFLGWPLYPGASEYDQIRYISQTQGLPAEYLLSAGTKTTRFFNRDTDSPYPLWRLKTPDDHEAETGIKSKEARKYIFNCLDDMAQVNMTTDLEGSDMLVEKADRREFIDLLKKMLTIDADKRITPIETLNHPFVTMTHLLDFPHSTHVKSCFQNMEICKRRVNMYDTVNQSKTPFITHVAPSTSTNLTMTFNNQLTTVHNQAPSSTSATISLANPEVSILNYPSTLYQPSAASMAAVAQRSMPLQTGTAQICARPDPFQQALIVCPPGFQGLQASPSKHAGYSVRMENAVPIVTQAPGAQPLQIQPGLLAQQAWPSGTQQILLPPAWQQLTGVATHTSVQHATVIPETMAGTQQLADWRNTHAHGSHYNPIMQQPALLTGHVTLPAAQPLNVGVAHVMRQQPTSTTS\n",
      "INFO:root:Predicting 1th chain in ./Davis/cut_seqs/HIPK2_0.seq\n",
      "INFO:root:800 residues in this chain.\n",
      "INFO:root:Finished prediction in 57.04 seconds.\n",
      "INFO:root:Saving prediction to ./Davis/omega_2/HIPK2_0.pdb\n",
      "INFO:root:Saved\n",
      "INFO:root:Done!\n"
     ]
    },
    {
     "name": "stderr",
     "output_type": "stream",
     "text": [
      " 60%|█████▉    | 313/522 [2:35:42<2:25:29, 41.77s/it]"
     ]
    },
    {
     "name": "stdout",
     "output_type": "stream",
     "text": [
      "JNK3.seq\n",
      "INFO:root:Reading ./Davis/cut_seqs/JNK3.seq\n",
      "MSLHFLYYCSEPTLDVKIAFCQGFDKQVDVSYIAKHYNMSKSKVDNQFYSVEVGDSTFTVLKRYQNLKPIGSGAQGIVCAAYDAVLDRNVAIKKLSRPFQNQTHAKRAYRELVLMKCVNHKNIISLLNVFTPQKTLEEFQDVYLVMELMDANLCQVIQMELDHERMSYLLYQMLCGIKHLHSAGIIHRDLKPSNIVVKSDCTLKILDFGLARTAGTSFMMTPYVVTRYYRAPEVILGMGYKENVDIWSVGCIMGEMVRHKILFPGRDYIDQWNKVIEQLGTPCPEFMKKLQPTVRNYVENRPKYAGLTFPKLFPDSLFPADSEHNKLKASQARDLLSKMLVIDPAKRISVDDALQHPYINVWYDPAEVEAPPPQIYDKQLDEREHTIEEWKELIYKEVMNSEEKTKNGVVKGQPSPSGAAVNSSESLPPSSSVNDISSMSTDQTLASDTDSSLEASAGPLGCCR\n",
      "INFO:root:Predicting 1th chain in ./Davis/cut_seqs/JNK3.seq\n",
      "INFO:root:464 residues in this chain.\n",
      "INFO:root:Finished prediction in 15.26 seconds.\n",
      "INFO:root:Saving prediction to ./Davis/omega_2/JNK3.pdb\n",
      "INFO:root:Saved\n",
      "INFO:root:Done!\n"
     ]
    },
    {
     "name": "stderr",
     "output_type": "stream",
     "text": [
      " 60%|██████    | 314/522 [2:35:57<1:57:47, 33.98s/it]"
     ]
    },
    {
     "name": "stdout",
     "output_type": "stream",
     "text": [
      "ERK4.seq\n",
      "INFO:root:Reading ./Davis/cut_seqs/ERK4.seq\n",
      "MAEKGDCIASVYGYDLGGRFVDFQPLGFGVNGLVLSAVDSRACRKVAVKKIALSDARSMKHALREIKIIRRLDHDNIVKVYEVLGPKGTDLQGELFKFSVAYIVQEYMETDLARLLEQGTLAEEHAKLFMYQLLRGLKYIHSANVLHRDLKPANIFISTEDLVLKIGDFGLARIVDQHYSHKGYLSEGLVTKWYRSPRLLLSPNNYTKAIDMWAAGCILAEMLTGRMLFAGAHELEQMQLILETIPVIREEDKDELLRVMPSFVSSTWEVKRPLRKLLPEVNSEAIDFLEKILTFNPMDRLTAEMGLQHPYMSPYSCPEDEPTSQHPFRIEDEIDDIVLMAANQSQLSNWDTCSSRYPVSLSSDLEWRPDRCQDASEVQRDPRAGSAPLAEDVQVDPRKDSHSSSERFLEQSHSSMERAFEADYGRSCDYKVGSPSYLDKLLWRDNKPHHYSEPKLILDLSHWKQAAGAPPTATGLADTGAREDEPASLFLEIAQWVKSTQGGPEHASPPADDPERRLSASPPGRPAPVDGGASPQFDLDVFISRALKLCTKPEDLPDNKLGDLNGACIPEHPGDLVQTEAFSKERW\n",
      "INFO:root:Predicting 1th chain in ./Davis/cut_seqs/ERK4.seq\n",
      "INFO:root:587 residues in this chain.\n",
      "INFO:root:Finished prediction in 28.05 seconds.\n",
      "INFO:root:Saving prediction to ./Davis/omega_2/ERK4.pdb\n",
      "INFO:root:Saved\n",
      "INFO:root:Done!\n"
     ]
    },
    {
     "name": "stderr",
     "output_type": "stream",
     "text": [
      " 60%|██████    | 315/522 [2:36:26<1:51:41, 32.37s/it]"
     ]
    },
    {
     "name": "stdout",
     "output_type": "stream",
     "text": [
      "HIPK3_1.seq\n",
      "INFO:root:Reading ./Davis/cut_seqs/HIPK3_1.seq\n",
      "HSAFISPKIINGKDVEEVSCIETQDNQNSEGEARNCCETSIRQDSDSSVSDKQRQTIIIADSPSPAVSVITISSDTDEEETSQRHSLRECKGSLDCEACQSTLNIDRMCSLSSPDSTLSTSSSGQSSPSPCKRPNSMSDEEQESSCDTVDGSPTSDSSGHDSPFAESTFVEDTHENTELVSSADTETKPAVCSVVVPPVELENGLNADEHMANTDSICQPLIKGRSAPGRLNQPSAVGTRQQKLTSAFQQQHLNFSQVQHFGSGHQEWNGNFGHRRQQAYIPTSVTSNPFTLSHGSPNHTAVHAHLAGNTHLGGQPTLLPYPSSATLSSAAPVAHLLASPCTSRPMLQHPTYNISHPSGIVHQVPVGLNPRLLPSPTIHQTQYKPIFPPHSYIAASPAYTGFPLSPTKLSQYPYM\n",
      "INFO:root:Predicting 1th chain in ./Davis/cut_seqs/HIPK3_1.seq\n",
      "INFO:root:415 residues in this chain.\n",
      "INFO:root:Finished prediction in 11.89 seconds.\n",
      "INFO:root:Saving prediction to ./Davis/omega_2/HIPK3_1.pdb\n",
      "INFO:root:Saved\n",
      "INFO:root:Done!\n"
     ]
    },
    {
     "name": "stderr",
     "output_type": "stream",
     "text": [
      " 61%|██████    | 316/522 [2:36:38<1:30:25, 26.34s/it]"
     ]
    },
    {
     "name": "stdout",
     "output_type": "stream",
     "text": [
      "FAK_0.seq\n",
      "INFO:root:Reading ./Davis/cut_seqs/FAK_0.seq\n",
      "MISADCNLCLPEYDRYLASSKIMAAAYLDPNLNHTPNSSTKTHLGTGMERSPGAMERVLKVFHYFESNSEPTTWASIIRHGDATDVRGIIQKIVDSHKVKHVACYGFRLSHLRSEEVHWLHVDMGVSSVREKYELAHPPEEWKYELRIRYLPKGFLNQFTEDKPTLNFFYQQVKSDYMLEIADQVDQEIALKLGCLEIRRSYWEMRGNALEKKSNYEVLEKDVGLKRFFPKSLLDSVKAKTLRKLIQQTFRQFANLNREESILKFFEILSPVYRFDKECFKCALGSSWIISVELAIGPEEGISYLTDKGCNPTHLADFTQVQTIQYSNSEDKDRKGMLQLKIAGAPEPLTVTAPSLTIAENMADLIDGYCRLVNGTSQSFIIRPQKEGERALPSIPKLANSEKQGMRTHAVSVSETDDYAEIIDEEDTYTMPSTRDYEIQRERIELGRCIGEGQFGDVHQGIYMSPENPALAVAIKTCKNCTSDSVREKFLQEALTMRQFDHPHIVKLIGVITENPVWIIMELCTLGELRSFLQVRKYSLDLASLILYAYQLSTALAYLESKRFVHRDIAARNVLVSSNDCVKLGDFGLSRYMEDSTYYKASKGKLPIKWMAPESINFRRFTSASDVWMFGVCMWEILMHGVKPFQGVKNNDVIGRIENGERLPMPPNCPPTLYSLMTKCWAYDPSRRPRFTELKAQLSTILEEEKAQQEERMRMESRRQATVSWDSGGSDEAPPKPSRPGYPSPRSSEGFYPSPQHMVQTNHYQVSGYPGSHGITAMAGSIYPGQASLLDQTDSWNHRP\n",
      "INFO:root:Predicting 1th chain in ./Davis/cut_seqs/FAK_0.seq\n",
      "INFO:root:800 residues in this chain.\n",
      "INFO:root:Finished prediction in 57.02 seconds.\n",
      "INFO:root:Saving prediction to ./Davis/omega_2/FAK_0.pdb\n",
      "INFO:root:Saved\n",
      "INFO:root:Done!\n"
     ]
    },
    {
     "name": "stderr",
     "output_type": "stream",
     "text": [
      " 61%|██████    | 317/522 [2:37:36<2:02:18, 35.80s/it]"
     ]
    },
    {
     "name": "stdout",
     "output_type": "stream",
     "text": [
      "CDC2L1.seq\n",
      "INFO:root:Reading ./Davis/cut_seqs/CDC2L1.seq\n",
      "ERFELGDGRKPVKEEKMEERDLLSDLQDISDSERKTSSAESSSAESGSGSEEEEEEEEEEEEEGSTSEESEEEEEEEEEEEEETGSNSEEASEQSAEEVSEEEMSEDEERENENHLLVVPESRFDRDSGESEEAEEEVGEGTPQSSALTEGDYVPDSPALSPIELKQELPKYLPALQGCRSVEEFQCLNRIEEGTYGVVYRAKDKKTDEIVALKRLKMEKEKEGFPITSLREINTILKAQHPNIVTVREIVVGSNMDKIYIVMNYVEHDLKSLMETMKQPFLPGEVKTLMIQLLRGVKHLHDNWILHRDLKTSNLLLSHAGILKVGDFGLAREYGSPLKAYTPVVVTLWYRAPELLLGAKEYSTAVDMWSVGCIFGELLTQKPLFPGKSEIDQINKVFKDLGTPSEKIWPGYSELPAVKKMTFSEHPYNNLRKRFGALLSDQGFDLMNKFLTYFPGRRISAEDGLKHEYFRETPLPIDPSMFPTWPAKSEQQRVKRGTSPRPPEGGLGYSQLGDDDLKETGFHLTTTNQGASAAGPGFSLKF\n",
      "INFO:root:Predicting 1th chain in ./Davis/cut_seqs/CDC2L1.seq\n",
      "INFO:root:542 residues in this chain.\n",
      "INFO:root:Finished prediction in 22.93 seconds.\n",
      "INFO:root:Saving prediction to ./Davis/omega_2/CDC2L1.pdb\n",
      "INFO:root:Saved\n",
      "INFO:root:Done!\n"
     ]
    },
    {
     "name": "stderr",
     "output_type": "stream",
     "text": [
      " 61%|██████    | 318/522 [2:38:00<1:49:09, 32.11s/it]"
     ]
    },
    {
     "name": "stdout",
     "output_type": "stream",
     "text": [
      "TRPM6_2.seq\n",
      "INFO:root:Reading ./Davis/cut_seqs/TRPM6_2.seq\n",
      "ACSQSDQLNPEPGENSISEEEYSKNWFTVSKFSHTGVEPYIHQKMKTKEIGQCAIQISDYLKQSQEDLSKNSLWNSRSTNLNRNSLLKSSIGVDKISASLKSPQEPHHHYSAIERNNLMRLSQTIPFTPVQLFAGEEITVYRLEESSPLNLDKSMSSWSQRGRAAMIQVLSREEMDGGLRKAMRVVSTWSEDDILKPGQVFIVKSFLPEVVRTWHKIFQESTVLHLCLREIQQQRAAQKLIYTFNQVKPQTIPYTPRFLEVFLIYCHSANQWLTIEKYMTGEFRKYNNNNGDEITPTNTLEELMLAFSHWTYEYTRGELLVLDLQGVGENLTDPSVIKPEVKQSRGMVFGPANLGEDAIRNFIAKHHCNSCCRKLKLPDLKRNDYSPERINSTFGLEIKIESAEEPPARETGRNSPEDDMQL\n",
      "INFO:root:Predicting 1th chain in ./Davis/cut_seqs/TRPM6_2.seq\n",
      "INFO:root:422 residues in this chain.\n",
      "INFO:root:Finished prediction in 12.23 seconds.\n",
      "INFO:root:Saving prediction to ./Davis/omega_2/TRPM6_2.pdb\n",
      "INFO:root:Saved\n",
      "INFO:root:Done!\n"
     ]
    },
    {
     "name": "stderr",
     "output_type": "stream",
     "text": [
      " 61%|██████    | 319/522 [2:38:12<1:28:49, 26.25s/it]"
     ]
    },
    {
     "name": "stdout",
     "output_type": "stream",
     "text": [
      "TRPM6_1.seq\n",
      "INFO:root:Reading ./Davis/cut_seqs/TRPM6_1.seq\n",
      "DLERGHDEKLDENQHFGLESGHQHLPWTRKVYEFYSAPIVKFWFYTMAYLAFLMLFTYTVLVEMQPQPSVQEWLVSIYIFTNAIEVVREICISEPGKFTQKVKVWISEYWNLTETVAIGLFSAGFVLRWGDPPFHTAGRLIYCIDIIFWFSRLLDFFAVNQHAGPYVTMIAKMTANMFYIVIIMAIVLLSFGVARKAILSPKEPPSWSLARDIVFEPYWMIYGEVYAGEIDVCSSQPSCPPGSFLTPFLQAVYLFVQYIIMVNLLIAFFNNVYLDMESISNNLWKYNRYRYIMTYHEKPWLPPPLILLSHVGLLLRRLCCHRAPHDQEEGDVGLKLYLSKEDLKKLHDFEEQCVEKYFHEKMEDVNCSCEERIRVTSERVTEMYFQLKEMNEKVSFIKDSLLSLDSQVGHLQDLSALTVDTLKVLSAVDTLQEDEALLAKRKHSTCKKLPHSWSNVICAEVLGSMEIAGEKKYQYYSMPSSLLRSLAGGRHPPRVQRGALLEITNSKREATNVRNDQERQETQSSIVVSGVSPNRQAHSKYGQFLLVPSNLKRVPFSAETVLPLSRPSVPDVLATEQDIQTEVLVHLTGQTPVVSDWASVDEPKEKHEPIAHLLDGQDKAEQVLPTLSCTPEPMTMSSPLSQAKIMQTGGGYVNWAFSEGDETGVFSIKKKWQTCLPSTCDSDSSRSEQHQKQAQDSSLSDNSTRSAQSSECSEVGPWLQPNTSFWINPLRRYRPFARSHSFRFHKEEKLMKICKIKNLSGSSEIGQGAWVKAKMLTKDRRLSKKKKNTQGLQVPIITVN\n",
      "INFO:root:Predicting 1th chain in ./Davis/cut_seqs/TRPM6_1.seq\n",
      "INFO:root:800 residues in this chain.\n",
      "INFO:root:Finished prediction in 57.18 seconds.\n",
      "INFO:root:Saving prediction to ./Davis/omega_2/TRPM6_1.pdb\n",
      "INFO:root:Saved\n",
      "INFO:root:Done!\n"
     ]
    },
    {
     "name": "stderr",
     "output_type": "stream",
     "text": [
      " 61%|██████▏   | 320/522 [2:39:11<2:00:42, 35.85s/it]"
     ]
    },
    {
     "name": "stdout",
     "output_type": "stream",
     "text": [
      "RSK4(KinDom.1-N-terminal).seq\n",
      "INFO:root:Reading ./Davis/cut_seqs/RSK4(KinDom.1-N-terminal).seq\n",
      "MLPFAPQDEPWDREMEVFSGGGASSGEVNGLKMVDEPMEEGEADSCHDEGVVKEIPITHHVKEGYEKADPAQFELLKVLGQGSFGKVFLVRKKTGPDAGQLYAMKVLKKASLKVRDRVRTKMERDILVEVNHPFIVKLHYAFQTEGKLYLILDFLRGGDVFTRLSKEVLFTEEDVKFYLAELALALDHLHQLGIVYRDLKPENILLDEIGHIKLTDFGLSKESVDQEKKAYSFCGTVEYMAPEVVNRRGHSQSADWWSYGVLMFEMLTGTLPFQGKDRNETMNMILKAKLGMPQFLSAEAQSLLRMLFKRNPANRLGSEGVEEIKRHLFFANIDWDKLYKREVQPPFKPASGKPDDTFCFDPEFTAKTPKDSPGLPASANAHQLFKGFSFVATSIAEEYKITPITSANVLPIVQINGNAAQFGEVYELKEDIGVGSYSVCKRCIHATTNMEFAVKIIDKSKRDPSEEIEILMRYGQHPNIITLKDVFDDGRYVYLVTDLMKGGELLDRILKQKCFSEREASDILYVISKTVDYLHCQGVVHRDLKPSNILYMDESASADSIRICDFGFAKQLRGENGLLLTPCYTANFVAPEVLMQQGYDAACDIWSLGVLFYTMLAGYTPFANGPNDTPEEILLRIGNGKFSLSGGNWDNISDGAKDLLSHMLHMDPHQRYTAEQILKHSWITHRDQLPNDQPKRNDVSHVVKGAMVATYSALTHKTFQPVLEPVAASSLAQRRSMKKRTSTGL\n",
      "INFO:root:Predicting 1th chain in ./Davis/cut_seqs/RSK4(KinDom.1-N-terminal).seq\n",
      "INFO:root:745 residues in this chain.\n",
      "INFO:root:Finished prediction in 51.48 seconds.\n",
      "INFO:root:Saving prediction to ./Davis/omega_2/RSK4(KinDom.1-N-terminal).pdb\n",
      "INFO:root:Saved\n",
      "INFO:root:Done!\n"
     ]
    },
    {
     "name": "stderr",
     "output_type": "stream",
     "text": [
      " 61%|██████▏   | 321/522 [2:40:03<2:16:43, 40.82s/it]"
     ]
    },
    {
     "name": "stdout",
     "output_type": "stream",
     "text": [
      "CAMK4.seq\n",
      "INFO:root:Reading ./Davis/cut_seqs/CAMK4.seq\n",
      "MLKVTVPSCSASSCSSVTASAAPGTASLVPDYWIDGSNRDALSDFFEVESELGRGATSIVYRCKQKGTQKPYALKVLKKTVDKKIVRTEIGVLLRLSHPNIIKLKEIFETPTEISLVLELVTGGELFDRIVEKGYYSERDAADAVKQILEAVAYLHENGIVHRDLKPENLLYATPAPDAPLKIADFGLSKIVEHQVLMKTVCGTPGYCAPEILRGCAYGPEVDMWSVGIITYILLCGFEPFYDERGDQFMFRRILNCEYYFISPWWDEVSLNAKDLVRKLIVLDPKKRLTTFQALQHPWVTGKAANFVHMDTAQKKLQEFNARRKLKAAVKAVVASSRLGSASSSHGSIQESHKASRDPSPIQDGNEDMKAIPEGEKIQGDGAQAAVKGAQAELMKVQALEKVKGADINAEEAPKMVPKAVEDGIKVADLELEEGLAEEKLKTVEEAAAPREGQGSSAVGFEVPQQDVILPEY\n",
      "INFO:root:Predicting 1th chain in ./Davis/cut_seqs/CAMK4.seq\n",
      "INFO:root:473 residues in this chain.\n",
      "INFO:root:Finished prediction in 16.47 seconds.\n",
      "INFO:root:Saving prediction to ./Davis/omega_2/CAMK4.pdb\n",
      "INFO:root:Saved\n",
      "INFO:root:Done!\n"
     ]
    },
    {
     "name": "stderr",
     "output_type": "stream",
     "text": [
      " 62%|██████▏   | 322/522 [2:40:20<1:52:07, 33.64s/it]"
     ]
    },
    {
     "name": "stdout",
     "output_type": "stream",
     "text": [
      "NEK4.seq\n",
      "INFO:root:Reading ./Davis/cut_seqs/NEK4.seq\n",
      "MPLAAYCYLRVVGKGSYGEVTLVKHRRDGKQYVIKKLNLRNASSRERRAAEQEAQLLSQLKHPNIVTYKESWEGGDGLLYIVMGFCEGGDLYRKLKEQKGQLLPENQVVEWFVQIAMALQYLHEKHILHRDLKTQNVFLTRTNIIKVGDLGIARVLENHCDMASTLIGTPYYMSPELFSNKPYNYKSDVWALGCCVYEMATLKHAFNAKDMNSLVYRIIEGKLPPMPRDYSPELAELIRTMLSKRPEERPSVRSILRQPYIKRQISFFLEATKIKTSKNNIKNGDSQSKPFATVVSGEAESNHEVIHPQPLSSEGSQTYIMGEGKCLSQEKPRASGLLKSPASLKAHTCKQDLSNTTELATISSVNIDILPAKGRDSVSDGFVQENQPRYLDASNELGGICSISQVEEEMLQDNTKSSAQPENLIPMWSSDIVTGEKNEPVKPLQPLKKKK\n",
      "INFO:root:Predicting 1th chain in ./Davis/cut_seqs/NEK4.seq\n",
      "INFO:root:451 residues in this chain.\n",
      "INFO:root:Finished prediction in 14.47 seconds.\n",
      "INFO:root:Saving prediction to ./Davis/omega_2/NEK4.pdb\n",
      "INFO:root:Saved\n",
      "INFO:root:Done!\n"
     ]
    },
    {
     "name": "stderr",
     "output_type": "stream",
     "text": [
      " 62%|██████▏   | 323/522 [2:40:35<1:32:57, 28.03s/it]"
     ]
    },
    {
     "name": "stdout",
     "output_type": "stream",
     "text": [
      "CASK_1.seq\n",
      "INFO:root:Reading ./Davis/cut_seqs/CASK_1.seq\n",
      "SNNEYLEYGSHEDAMYGTKLETIRKIHEQGLIAILDVEPQALKVLRTAEFAPFVVFIAAPTITPGLNEDESLQRLQKESDILQRTYAHYFDLTIINNEIDETIRHLEEAVELVCTAPQWVPVSWVY\n",
      "INFO:root:Predicting 1th chain in ./Davis/cut_seqs/CASK_1.seq\n",
      "INFO:root:126 residues in this chain.\n",
      "INFO:root:Finished prediction in 0.98 seconds.\n",
      "INFO:root:Saving prediction to ./Davis/omega_2/CASK_1.pdb\n",
      "INFO:root:Saved\n",
      "INFO:root:Done!\n"
     ]
    },
    {
     "name": "stderr",
     "output_type": "stream",
     "text": [
      " 62%|██████▏   | 324/522 [2:40:36<1:05:55, 19.98s/it]"
     ]
    },
    {
     "name": "stdout",
     "output_type": "stream",
     "text": [
      "MAST1_1.seq\n",
      "INFO:root:Reading ./Davis/cut_seqs/MAST1_1.seq\n",
      "LLEPSRFSAPQEDEDEARLRRPPRPSSDPAGSLDARAPKEETQGEGTSSAGDSEATDRPRPGDLCPPSKDGDASGPRATNDLVLRRARHQQMSGDVAVEKRPSRTGGKVIKSASATALSVMIPAVDPHGSSPLASPMSPRSLSSNPSSRDSSPSRDYSPAVSGLRSPITIQRSGKKYGFTLRAIRVYMGDTDVYSVHHIVWHVEEGGPAQEAGLCAGDLITHVNGEPVHGMVHPEVVELILKSGNKVAVTTTPFENTSIRIGPARRSSYKAKMARRNKRPSAKEGQESKKRSSLFRKITKQSNLLHTSRSLSSLNRSLSSSDSLPGSPTHGLPARSPTHSYRSTPDSAYLGASSQSSSPASSTPNSPASSASHHIRPSTLHGLSPKLHRQYRSARCKSAGNIPLSPLAHTPSPTQASPPPLPGHTVGSSHTTQSFPAKLHSSPPVVRPRPKSAEPPRSPLLKRVQSAEKLGASLSADKKGALRKHSLEVGHPDFRKDFHGELALHSLAESDGETPPVEGLGAPRQVAVRRLGRQESPLSLGADPLLPEGASRPPVSSKEKESPGGAEACTPPRATTPGGRTLERDVGCTRHQSVQTEDGTGGMARAVAKAALSPVQEHETGRRSSSGEAGTPLVPIVVEPARPGAKAVVPQPLGADSKGLQEPAPLAPSVPEAPRGRERWVLEVVEERTTLSGPRSKPASPKLSPEPQTPSLAPAKCSAPSSAVTPVPPASLLGSGTKPQVGLTSRCPAEAVPPAGLTKKGVSSPAPPGP\n",
      "INFO:root:Predicting 1th chain in ./Davis/cut_seqs/MAST1_1.seq\n",
      "INFO:root:770 residues in this chain.\n",
      "INFO:root:Finished prediction in 54.79 seconds.\n",
      "INFO:root:Saving prediction to ./Davis/omega_2/MAST1_1.pdb\n",
      "INFO:root:Saved\n",
      "INFO:root:Done!\n"
     ]
    },
    {
     "name": "stderr",
     "output_type": "stream",
     "text": [
      " 62%|██████▏   | 325/522 [2:41:32<1:40:47, 30.70s/it]"
     ]
    },
    {
     "name": "stdout",
     "output_type": "stream",
     "text": [
      "ULK1_0.seq\n",
      "INFO:root:Reading ./Davis/cut_seqs/ULK1_0.seq\n",
      "MEPGRGGTETVGKFEFSRKDLIGHGAFAVVFKGRHREKHDLEVAVKCINKKNLAKSQTLLGKEIKILKELKHENIVALYDFQEMANSVYLVMEYCNGGDLADYLHAMRTLSEDTIRLFLQQIAGAMRLLHSKGIIHRDLKPQNILLSNPAGRRANPNSIRVKIADFGFARYLQSNMMAATLCGSPMYMAPEVIMSQHYDGKADLWSIGTIVYQCLTGKAPFQASSPQDLRLFYEKNKTLVPTIPRETSAPLRQLLLALLQRNHKDRMDFDEFFHHPFLDASPSVRKSPPVPVPSYPSSGSGSSSSSSSTSHLASPPSLGEMQQLQKTLASPADTAGFLHSSRDSGGSKDSSCDTDDFVMVPAQFPGDLVAEAPSAKPPPDSLMCSGSSLVASAGLESHGRTPSPSPPCSSSPSPSGRAGPFSSSRCGASVPIPVPTQVQNYQRIERNLQSPTQFQTPRSSAIRRSGSTSPLGFARASPSPPAHAEHGGVLARKMSLGGGRPYTPSPQVGTIPERPGWSGTPSPQGAEMRGGRSPRPGSSAPEHSPRTSGLGCRLHSAPNLSDLHVVRPKLPKPPTDPLGAVFSPPQASPPQPSHGLQSCRNLRGSPKLPDFLQRNPLPPILGSPTKAVPSFDFPKTPSSQNLLALLARQGVVMTPPRNRTLPDLSEVGPFHGQPLGPGLRPGEDPKGPFGRSFSTSRLTDLLLKAAFGTQAPDPGSTESLQEKPMEIAPSAGFGGSLHPGARAGGTSSPSPVVFTVGSPPSGSTPPQGPRTRMFSAGPTGSASSSARHLVPGPCSEAPAP\n",
      "INFO:root:Predicting 1th chain in ./Davis/cut_seqs/ULK1_0.seq\n",
      "INFO:root:800 residues in this chain.\n",
      "INFO:root:Finished prediction in 57.06 seconds.\n",
      "INFO:root:Saving prediction to ./Davis/omega_2/ULK1_0.pdb\n",
      "INFO:root:Saved\n",
      "INFO:root:Done!\n"
     ]
    },
    {
     "name": "stderr",
     "output_type": "stream",
     "text": [
      " 62%|██████▏   | 326/522 [2:42:30<2:06:57, 38.86s/it]"
     ]
    },
    {
     "name": "stdout",
     "output_type": "stream",
     "text": [
      "ABL1_1.seq\n",
      "INFO:root:Reading ./Davis/cut_seqs/ABL1_1.seq\n",
      "RKRAGENRSDQVTRGTVTPPPRLVKKNEEAADEVFKDIMESSPGSSPPNLTPKPLRRQVTVAPASGLPHKEEAGKGSALGTPAAAEPVTPTSKAGSGAPGGTSKGPAEESRVRRHKHSSESPGRDKGKLSRLKPAPPPPPAASAGKAGGKPSQSPSQEAAGEAVLGAKTKATSLVDAVNSDAAKPSQPGEGLKKPVLPATPKPQSAKPSGTPISPAPVPSTLPSASSALAGDQPSSTAFIPLISTRVSLRKTRQPPERIASGAITKGVVLDSTEALCLAISRNSEQMASHSAVLEAGKNLYTFCVSYVDSIQQMRNKFAFREAINKLENNLRELQICPATAGSGPAATQDFSKLLSSVKEISDIVQR\n",
      "INFO:root:Predicting 1th chain in ./Davis/cut_seqs/ABL1_1.seq\n",
      "INFO:root:367 residues in this chain.\n",
      "INFO:root:Finished prediction in 8.90 seconds.\n",
      "INFO:root:Saving prediction to ./Davis/omega_2/ABL1_1.pdb\n",
      "INFO:root:Saved\n",
      "INFO:root:Done!\n"
     ]
    },
    {
     "name": "stderr",
     "output_type": "stream",
     "text": [
      " 63%|██████▎   | 327/522 [2:42:39<1:37:25, 29.98s/it]"
     ]
    },
    {
     "name": "stdout",
     "output_type": "stream",
     "text": [
      "LCK.seq\n",
      "INFO:root:Reading ./Davis/cut_seqs/LCK.seq\n",
      "MGCGCSSHPEDDWMENIDVCENCHYPIVPLDGKGTLLIRNGSEVRDPLVTYEGSNPPASPLQDNLVIALHSYEPSHDGDLGFEKGEQLRILEQSGEWWKAQSLTTGQEGFIPFNFVAKANSLEPEPWFFKNLSRKDAERQLLAPGNTHGSFLIRESESTAGSFSLSVRDFDQNQGEVVKHYKIRNLDNGGFYISPRITFPGLHELVRHYTNASDGLCTRLSRPCQTQKPQKPWWEDEWEVPRETLKLVERLGAGQFGEVWMGYYNGHTKVAVKSLKQGSMSPDAFLAEANLMKQLQHQRLVRLYAVVTQEPIYIITEYMENGSLVDFLKTPSGIKLTINKLLDMAAQIAEGMAFIEERNYIHRDLRAANILVSDTLSCKIADFGLARLIEDNEYTAREGAKFPIKWTAPEAINYGTFTIKSDVWSFGILLTEIVTHGRIPYPGMTNPEVIQNLERGYRMVRPDNCPEELYQLMRLCWKERPEDRPTFDYLRSVLEDFFTATEGQYQPQP\n",
      "INFO:root:Predicting 1th chain in ./Davis/cut_seqs/LCK.seq\n",
      "INFO:root:509 residues in this chain.\n",
      "INFO:root:Finished prediction in 19.80 seconds.\n",
      "INFO:root:Saving prediction to ./Davis/omega_2/LCK.pdb\n",
      "INFO:root:Saved\n",
      "INFO:root:Done!\n"
     ]
    },
    {
     "name": "stderr",
     "output_type": "stream",
     "text": [
      " 63%|██████▎   | 328/522 [2:42:59<1:27:31, 27.07s/it]"
     ]
    },
    {
     "name": "stdout",
     "output_type": "stream",
     "text": [
      "ABL2_1.seq\n",
      "INFO:root:Reading ./Davis/cut_seqs/ABL2_1.seq\n",
      "VSTSSQPEENVDRANDMLPKKSEESAAPSRERPKAKLLPRGATALPLRTPSGDLAITEKDPPGVGVAGVAAAPKGKEKNGGARLGMAGVPEDGEQPGWPSPAKAAPVLPTTHNHKVPVLISPTLKHTPADVQLIGTDSQGNKFKLLSEHQVTSSGDKDRPRRVKPKCAPPPPPVMRLLQHPSICSDPTEEPTALTAGQSTSETQEGGKKAALGAVPISGKAGRPVMPPPQVPLPTSSISPAKMANGTAGTKVALRKTKQAAEKISADKISKEALLECADLLSSALTEPVPNSQLVDTGHQLLDYCSGYVDCIPQTRNKFAFREAVSKLELSLQELQVSSAAAGVPGTNPVLNNLLSCVQEISDVVQR\n",
      "INFO:root:Predicting 1th chain in ./Davis/cut_seqs/ABL2_1.seq\n",
      "INFO:root:367 residues in this chain.\n",
      "INFO:root:Finished prediction in 8.85 seconds.\n",
      "INFO:root:Saving prediction to ./Davis/omega_2/ABL2_1.pdb\n",
      "INFO:root:Saved\n",
      "INFO:root:Done!\n"
     ]
    },
    {
     "name": "stderr",
     "output_type": "stream",
     "text": [
      " 63%|██████▎   | 329/522 [2:43:08<1:09:50, 21.71s/it]"
     ]
    },
    {
     "name": "stdout",
     "output_type": "stream",
     "text": [
      "TAK1.seq\n",
      "INFO:root:Reading ./Davis/cut_seqs/TAK1.seq\n",
      "MSTASAASSSSSSSAGEMIEAPSQVLNFEEIDYKEIEVEEVVGRGAFGVVCKAKWRAKDVAIKQIESESERKAFIVELRQLSRVNHPNIVKLYGACLNPVCLVMEYAEGGSLYNVLHGAEPLPYYTAAHAMSWCLQCSQGVAYLHSMQPKALIHRDLKPPNLLLVAGGTVLKICDFGTACDIQTHMTNNKGSAAWMAPEVFEGSNYSEKCDVFSWGIILWEVITRRKPFDEIGGPAFRIMWAVHNGTRPPLIKNLPKPIESLMTRCWSKDPSQRPSMEEIVKIMTHLMRYFPGADEPLQYPCQYSDEGQSNSATSTGSFMDIASTNTSNKSDTNMEQVPATNDTIKRLESKLLKNQAKQQSESGRLSLGASRGSSVESLPPTSEGKRMSADMSEIEARIAATTAYSKPKRGHRKTASFGNILDVPEIVISGNGQPRRRSIQDLTVTGTEPGQVSSRSSSPSVRMITTSGPTSEKPTRSHPWTPDDSTDTNGSDNSIPMAYLTLDHQLQPLAPCPNSKESMAVFEQHCKMAQEYMKVQTEIALLLQRKQELVAELDQDEKDQQNTSRLVQEHKKLLDENKSLSTYYQQCKKQLEVIRSQQQKRQGTS\n",
      "INFO:root:Predicting 1th chain in ./Davis/cut_seqs/TAK1.seq\n",
      "INFO:root:606 residues in this chain.\n",
      "INFO:root:Finished prediction in 30.14 seconds.\n",
      "INFO:root:Saving prediction to ./Davis/omega_2/TAK1.pdb\n",
      "INFO:root:Saved\n",
      "INFO:root:Done!\n"
     ]
    },
    {
     "name": "stderr",
     "output_type": "stream",
     "text": [
      " 63%|██████▎   | 330/522 [2:43:39<1:18:09, 24.42s/it]"
     ]
    },
    {
     "name": "stdout",
     "output_type": "stream",
     "text": [
      "HIPK1_0.seq\n",
      "INFO:root:Reading ./Davis/cut_seqs/HIPK1_0.seq\n",
      "MASQLQVFSPPSVSSSAFCSAKKLKIEPSGWDVSGQSSNDKYYTHSKTLPATQGQANSSHQVANFNIPAYDQGLLLPAPAVEHIVVTAADSSGSAATSTFQSSQTLTHRSNVSLLEPYQKCGLKRKSEEVDSNGSVQIIEEHPPLMLQNRTVVGAAATTTTVTTKSSSSSGEGDYQLVQHEILCSMTNSYEVLEFLGRGTFGQVAKCWKRSTKEIVAIKILKNHPSYARQGQIEVSILSRLSSENADEYNFVRSYECFQHKNHTCLVFEMLEQNLYDFLKQNKFSPLPLKYIRPILQQVATALMKLKSLGLIHADLKPENIMLVDPVRQPYRVKVIDFGSASHVSKAVCSTYLQSRYYRAPEIILGLPFCEAIDMWSLGCVIAELFLGWPLYPGASEYDQIRYISQTQGLPAEYLLSAGTKTTRFFNRDPNLGYPLWRLKTPEEHELETGIKSKEARKYIFNCLDDMAQVNMSTDLEGTDMLAEKADRREYIDLLKKMLTIDADKRITPLKTLNHQFVTMTHLLDFPHSNHVKSCFQNMEICKRRVHMYDTVSQIKSPFTTHVAPNTSTNLTMSFSNQLNTVHNQASVLASSSTAAAATLSLANSDVSLLNYQSALYPSSAAPVPGVAQQGVSLQPGTTQICTQTDPFQQTFIVCPPAFQTGLQATTKHSGFPVRMDNAVPIVPQAPAAQPLQIQSGVLTQGSCTPLMVATLHPQVATITPQYAVPFTLSCAAGRPALVEQTAAVLQAWPGGTQQILLPSTWQQLPGVALHNSVQPTAMIPEAMGSGQQLADWRNAHSHG\n",
      "INFO:root:Predicting 1th chain in ./Davis/cut_seqs/HIPK1_0.seq\n",
      "INFO:root:800 residues in this chain.\n",
      "INFO:root:Finished prediction in 57.00 seconds.\n",
      "INFO:root:Saving prediction to ./Davis/omega_2/HIPK1_0.pdb\n",
      "INFO:root:Saved\n",
      "INFO:root:Done!\n"
     ]
    },
    {
     "name": "stderr",
     "output_type": "stream",
     "text": [
      " 63%|██████▎   | 331/522 [2:44:37<1:49:43, 34.47s/it]"
     ]
    },
    {
     "name": "stdout",
     "output_type": "stream",
     "text": [
      "ERK5_1.seq\n",
      "INFO:root:Reading ./Davis/cut_seqs/ERK5_1.seq\n",
      "MDSPMLLADLPDLQDP\n",
      "INFO:root:Predicting 1th chain in ./Davis/cut_seqs/ERK5_1.seq\n",
      "INFO:root:16 residues in this chain.\n",
      "INFO:root:Finished prediction in 0.53 seconds.\n",
      "INFO:root:Saving prediction to ./Davis/omega_2/ERK5_1.pdb\n",
      "INFO:root:Saved\n",
      "INFO:root:Done!\n"
     ]
    },
    {
     "name": "stderr",
     "output_type": "stream",
     "text": [
      " 64%|██████▎   | 332/522 [2:44:38<1:17:02, 24.33s/it]"
     ]
    },
    {
     "name": "stdout",
     "output_type": "stream",
     "text": [
      "EPHB3_0.seq\n",
      "INFO:root:Reading ./Davis/cut_seqs/EPHB3_0.seq\n",
      "MARARPPPPPSPPPGLLPLLPPLLLLPLLLLPAGCRALEETLMDTKWVTSELAWTSHPESGWEEVSGYDEAMNPIRTYQVCNVRESSQNNWLRTGFIWRRDVQRVYVELKFTVRDCNSIPNIPGSCKETFNLFYYEADSDVASASSPFWMENPYVKVDTIAPDESFSRLDAGRVNTKVRSFGPLSKAGFYLAFQDQGACMSLISVRAFYKKCASTTAGFALFPETLTGAEPTSLVIAPGTCIPNAVEVSVPLKLYCNGDGEWMVPVGACTCATGHEPAAKESQCRPCPPGSYKAKQGEGPCLPCPPNSRTTSPAASICTCHNNFYRADSDSADSACTTVPSPPRGVISNVNETSLILEWSEPRDLGGRDDLLYNVICKKCHGAGGASACSRCDDNVEFVPRQLGLTERRVHISHLLAHTRYTFEVQAVNGVSGKSPLPPRYAAVNITTNQAAPSEVPTLRLHSSSGSSLTLSWAPPERPNGVILDYEMKYFEKSEGIASTVTSQMNSVQLDGLRPDARYVVQVRARTVAGYGQYSRPAEFETTSERGSGAQQLQEQLPLIVGSATAGLVFVVAVVVIAIVCLRKQRHGSDSEYTEKLQQYIAPGMKVYIDPFTYEDPNEAVREFAKEIDVSCVKIEEVIGAGEFGEVCRGRLKQPGRREVFVAIKTLKVGYTERQRRDFLSEASIMGQFDHPNIIRLEGVVTKSRPVMILTEFMENCALDSFLRLNDGQFTVIQLVGMLRGIAAGMKYLSEMNYVHRDLAARNILVNSNLVCKVSDFGLSRFLEDDPSDPTYTSSLGGKI\n",
      "INFO:root:Predicting 1th chain in ./Davis/cut_seqs/EPHB3_0.seq\n",
      "INFO:root:800 residues in this chain.\n",
      "INFO:root:Finished prediction in 57.01 seconds.\n",
      "INFO:root:Saving prediction to ./Davis/omega_2/EPHB3_0.pdb\n",
      "INFO:root:Saved\n",
      "INFO:root:Done!\n"
     ]
    },
    {
     "name": "stderr",
     "output_type": "stream",
     "text": [
      " 64%|██████▍   | 333/522 [2:45:36<1:48:30, 34.45s/it]"
     ]
    },
    {
     "name": "stdout",
     "output_type": "stream",
     "text": [
      "MST1.seq\n",
      "INFO:root:Reading ./Davis/cut_seqs/MST1.seq\n",
      "METVQLRNPPRRQLKKLDEDSLTKQPEEVFDVLEKLGEGSYGSVYKAIHKETGQIVAIKQVPVESDLQEIIKEISIMQQCDSPHVVKYYGSYFKNTDLWIVMEYCGAGSVSDIIRLRNKTLTEDEIATILQSTLKGLEYLHFMRKIHRDIKAGNILLNTEGHAKLADFGVAGQLTDTMAKRNTVIGTPFWMAPEVIQEIGYNCVADIWSLGITAIEMAEGKPPYADIHPMRAIFMIPTNPPPTFRKPELWSDNFTDFVKQCLVKSPEQRATATQLLQHPFVRSAKGVSILRDLINEAMDVKLKRQESQQREVDQDDEENSEEDEMDSGTMVRAVGDEMGTVRVASTMTDGANTMIEHDDTLPSQLGTMVINAEDEEEEGTMKRRDETMQPAKPSFLEYFEQKEKENQINSFGKSVPGPLKNSSDWKIPQDGDYEFLKSWTVEDLQKRLLALDPMMEQEIEEIRQKYQSKRQPILDAIEAKKRRQQNF\n",
      "INFO:root:Predicting 1th chain in ./Davis/cut_seqs/MST1.seq\n",
      "INFO:root:487 residues in this chain.\n",
      "INFO:root:Finished prediction in 17.86 seconds.\n",
      "INFO:root:Saving prediction to ./Davis/omega_2/MST1.pdb\n",
      "INFO:root:Saved\n",
      "INFO:root:Done!\n"
     ]
    },
    {
     "name": "stderr",
     "output_type": "stream",
     "text": [
      " 64%|██████▍   | 334/522 [2:45:54<1:32:46, 29.61s/it]"
     ]
    },
    {
     "name": "stdout",
     "output_type": "stream",
     "text": [
      "STK33.seq\n",
      "INFO:root:Reading ./Davis/cut_seqs/STK33.seq\n",
      "MADSGLDKKSTKCPDCSSASQKDVLCVCSSKTRVPPVLVVEMSQTSSIGSAESLISLERKKEKNINRDITSRKDLPSRTSNVERKASQQQWGRGNFTEGKVPHIRIENGAAIEEIYTFGRILGKGSFGIVIEATDKETETKWAIKKVNKEKAGSSAVKLLEREVNILKSVKHEHIIHLEQVFETPKKMYLVMELCEDGELKEILDRKGHFSENETRWIIQSLASAIAYLHNNDIVHRDLKLENIMVKSSLIDDNNEINLNIKVTDFGLAVKKQSRSEAMLQATCGTPIYMAPEVISAHDYSQQCDIWSIGVVMYMLLRGEPPFLASSEEKLFELIRKGELHFENAVWNSISDCAKSVLKQLMKVDPAHRITAKELLDNQWLTGNKLSSVRPTNVLEMMKEWKNNPESVEENTTEEKNKPSTEEKLKSYQPWGNVPDANYTSDEEEEKQSTAYEKQFPATSKDNFDMCSSSFTSSKLLPAEIKGEMEKTPVTPSQGTATKYPAKSGALSRTKKKL\n",
      "INFO:root:Predicting 1th chain in ./Davis/cut_seqs/STK33.seq\n",
      "INFO:root:514 residues in this chain.\n",
      "INFO:root:Finished prediction in 19.72 seconds.\n",
      "INFO:root:Saving prediction to ./Davis/omega_2/STK33.pdb\n",
      "INFO:root:Saved\n",
      "INFO:root:Done!\n"
     ]
    },
    {
     "name": "stderr",
     "output_type": "stream",
     "text": [
      " 64%|██████▍   | 335/522 [2:46:15<1:23:42, 26.86s/it]"
     ]
    },
    {
     "name": "stdout",
     "output_type": "stream",
     "text": [
      "SIK2_0.seq\n",
      "INFO:root:Reading ./Davis/cut_seqs/SIK2_0.seq\n",
      "MVMADGPRHLQRGPVRVGFYDIEGTLGKGNFAVVKLGRHRITKTEVAIKIIDKSQLDAVNLEKIYREVQIMKMLDHPHIIKLYQVMETKSMLYLVTEYAKNGEIFDYLANHGRLNESEARRKFWQILSAVDYCHGRKIVHRDLKAENLLLDNNMNIKIADFGFGNFFKSGELLATWCGSPPYAAPEVFEGQQYEGPQLDIWSMGVVLYVLVCGALPFDGPTLPILRQRVLEGRFRIPYFMSEDCEHLIRRMLVLDPSKRLTIAQIKEHKWMLIEVPVQRPVLYPQEQENEPSIGEFNEQVLRLMHSLGIDQQKTIESLQNKSYNHFAAIYFLLVERLKSHRSSFPVEQRLDGRQRRPSTIAEQTVAKAQTVGLPVTMHSPNMRLLRSALLPQASNVEAFSFPASGCQAEAAFMEEECVDTPKVNGCLLDPVPPVLVRKGCQSLPSNMMETSIDEGLETEGEAEEDPAHAFEAFQSTRSGQRRHTLSEVTNQLVVMPGAGKIFSMNDSPSLDSVDSEYDMGSVQRDLNFLEDNPSLKDIMLANQPSPRMTSPFISLRPTNPAMQALSSQKREVHNRSPVSFREGRRASDTSLTQGIVAFRQHLQNLARTKGILELNKVQLLYEQIGPEADPNLAPAAPQLQDLASSCPQEEVSQQQESVSTLPASVHPQLSPRQSLETQYLQHRLQKPSLLSKAQNTCQLYCKEPPRSLEQQLQEHRLQQKRLFLQKQSQLQAYFNQMQIAESSYPQPSQQLPLPRQETPPPSQQAPPFSLTQPLSPVLEPSSEQMQYSPFLSQYQEMQLQ\n",
      "INFO:root:Predicting 1th chain in ./Davis/cut_seqs/SIK2_0.seq\n",
      "INFO:root:800 residues in this chain.\n",
      "INFO:root:Finished prediction in 57.01 seconds.\n",
      "INFO:root:Saving prediction to ./Davis/omega_2/SIK2_0.pdb\n",
      "INFO:root:Saved\n",
      "INFO:root:Done!\n"
     ]
    },
    {
     "name": "stderr",
     "output_type": "stream",
     "text": [
      " 64%|██████▍   | 336/522 [2:47:12<1:52:05, 36.16s/it]"
     ]
    },
    {
     "name": "stdout",
     "output_type": "stream",
     "text": [
      "CDKL3.seq\n",
      "INFO:root:Reading ./Davis/cut_seqs/CDKL3.seq\n",
      "MEMYETLGKVGEGSYGTVMKCKHKNTGQIVAIKIFYERPEQSVNKIAMREIKFLKQFHHENLVNLIEVFRQKKKIHLVFEFIDHTVLDELQHYCHGLESKRLRKYLFQILRAIDYLHSNNIIHRDIKPENILVSQSGITKLCDFGFARTLAAPGDIYTDYVATRWYRAPELVLKDTSYGKPVDIWALGCMIIEMATGNPYLPSSSDLDLLHKIVLKVGNLSPHLQNIFSKSPIFAGVVLPQVQHPKNARKKYPKLNGLLADIVHACLQIDPADRISSSDLLHHEYFTRDGFIEKFMPELKAKLLQEAKVNSLIKPKESSKENELRKDERKTVYTNTLLSSSVLGKEIEKEKKPKEIKVRVIKVKGGRGDISEPKKKEYEGGLGQQDANENVHPMSPDTKLVTIEPPNPINPSTNCNGLKENPHCGGSVTMPPINLTNSNLMAANLSSNLFHPSVRLTERAKKRRTSSQSIGQVMPNSRQEDPGPIQSQMEKGIFNERTGHSDQMANENKRKLNFSRSDRKEFHFPELPVTIQSKDTKGMEVKQIKMLKRESKKTESSKIPTLLNVDQNQEKQEGGDGHCEGKNLKRNRFFFW\n",
      "INFO:root:Predicting 1th chain in ./Davis/cut_seqs/CDKL3.seq\n",
      "INFO:root:592 residues in this chain.\n",
      "INFO:root:Finished prediction in 27.28 seconds.\n",
      "INFO:root:Saving prediction to ./Davis/omega_2/CDKL3.pdb\n",
      "INFO:root:Saved\n",
      "INFO:root:Done!\n"
     ]
    },
    {
     "name": "stderr",
     "output_type": "stream",
     "text": [
      " 65%|██████▍   | 337/522 [2:47:40<1:43:46, 33.66s/it]"
     ]
    },
    {
     "name": "stdout",
     "output_type": "stream",
     "text": [
      "BIKE_1.seq\n",
      "INFO:root:Reading ./Davis/cut_seqs/BIKE_1.seq\n",
      "SSDSDYEQAKAKYSDMSSVYRDRSGSGPTQDLNTILLTSAQLSSDVAVETPKQEFDVFGAVPFFAVRAQQPQQEKNEKNLPQHRFPAAGLEQEEFDVFTKAPFSKKVNVQECHAVGPEAHTIPGYPKSVDVFGSTPFQPFLTSTSKSESNEDLFGLVPFDEITGSQQQKVKQRSLQKLSSRQRRTKQDMSKSNGKRHHGTPTSTKKTLKPTYRTPERARRHKKVGRRDSQSSNEFLTISDSKENISVALTDGKDRGNVLQPEESLLDPFGAKPFHSPDLSWHPPHQGLSDIRADHNTVLPGRPRQNSLHGSFHSADVLKMDDFGAVPFTELVVQSITPHQSQQSQPVELDPFGAAPFPSKQ\n",
      "INFO:root:Predicting 1th chain in ./Davis/cut_seqs/BIKE_1.seq\n",
      "INFO:root:361 residues in this chain.\n",
      "INFO:root:Finished prediction in 8.65 seconds.\n",
      "INFO:root:Saving prediction to ./Davis/omega_2/BIKE_1.pdb\n",
      "INFO:root:Saved\n",
      "INFO:root:Done!\n"
     ]
    },
    {
     "name": "stderr",
     "output_type": "stream",
     "text": [
      " 65%|██████▍   | 338/522 [2:47:49<1:20:33, 26.27s/it]"
     ]
    },
    {
     "name": "stdout",
     "output_type": "stream",
     "text": [
      "FLT4_1.seq\n",
      "INFO:root:Reading ./Davis/cut_seqs/FLT4_1.seq\n",
      "RRPAHADIKTGYLSIIMDPGEVPLEEQCEYLSYDASQWEFPRERLHLGRVLGYGAFGKVVEASAFGIHKGSSCDTVAVKMLKEGATASEHRALMSELKILIHIGNHLNVVNLLGACTKPQGPLMVIVEFCKYGNLSNFLRAKRDAFSPCAEKSPEQRGRFRAMVELARLDRRRPGSSDRVLFARFSKTEGGARRASPDQEAEDLWLSPLTMEDLVCYSFQVARGMEFLASRKCIHRDLAARNILLSESDVVKICDFGLARDIYKDPDYVRKGSARLPLKWMAPESIFDKVYTTQSDVWSFGVLLWEIFSLGASPYPGVQINEEFCQRLRDGTRMRAPELATPAIRRIMLNCWSGDPKARPAFSELVEILGDLLQGRGLQEEEEVCMAPRSSQSSEEGSFSQVSTMALHIAQADAEDSPPSLQRHSLAARYYNWVSFPGCLARGAETRGSSRMKTFEEFPMTPTTYKGSVDNQTDSGMVLASEEFEQIESRHRQESGFSCKGPGQNVAVTRAHPDSQGRRRRPERGARGGQVFYNSEYGELSEPSEEDHCSPSARVTFFTDNSY\n",
      "INFO:root:Predicting 1th chain in ./Davis/cut_seqs/FLT4_1.seq\n",
      "INFO:root:563 residues in this chain.\n",
      "INFO:root:Finished prediction in 25.10 seconds.\n",
      "INFO:root:Saving prediction to ./Davis/omega_2/FLT4_1.pdb\n",
      "INFO:root:Saved\n",
      "INFO:root:Done!\n"
     ]
    },
    {
     "name": "stderr",
     "output_type": "stream",
     "text": [
      " 65%|██████▍   | 339/522 [2:48:15<1:19:38, 26.11s/it]"
     ]
    },
    {
     "name": "stdout",
     "output_type": "stream",
     "text": [
      "EPHA1_1.seq\n",
      "INFO:root:Reading ./Davis/cut_seqs/EPHA1_1.seq\n",
      "RIFTTASDVWSFGIVMWEVLSFGDKPYGEMSNQEVMKSIEDGYRLPPPVDCPAPLYELMKNCWAYDRARRPHFQKLQAHLEQLLANPHSLRTIANFDPRMTLRLPSLSGSDGIPYRTVSEWLESIRMKRYILHFHSAGLDTMECVLELTAEDLTQMGITLPGHQKRILCSIQGFKD\n",
      "INFO:root:Predicting 1th chain in ./Davis/cut_seqs/EPHA1_1.seq\n",
      "INFO:root:176 residues in this chain.\n",
      "INFO:root:Finished prediction in 1.70 seconds.\n",
      "INFO:root:Saving prediction to ./Davis/omega_2/EPHA1_1.pdb\n",
      "INFO:root:Saved\n",
      "INFO:root:Done!\n"
     ]
    },
    {
     "name": "stderr",
     "output_type": "stream",
     "text": [
      " 65%|██████▌   | 340/522 [2:48:17<57:12, 18.86s/it]  "
     ]
    },
    {
     "name": "stdout",
     "output_type": "stream",
     "text": [
      "AURKB.seq\n",
      "INFO:root:Reading ./Davis/cut_seqs/AURKB.seq\n",
      "MAQKENSYPWPYGRQTAPSGLSTLPQRVLRKEPVTPSALVLMSRSNVQPTAAPGQKVMENSSGTPDILTRHFTIDDFEIGRPLGKGKFGNVYLAREKKSHFIVALKVLFKSQIEKEGVEHQLRREIEIQAHLHHPNILRLYNYFYDRRRIYLILEYAPRGELYKELQKSCTFDEQRTATIMEELADALMYCHGKKVIHRDIKPENLLLGLKGELKIADFGWSVHAPSLRRKTMCGTLDYLPPEMIEGRMHNEKVDLWCIGVLCYELLVGNPPFESASHNETYRRIVKVDLKFPASVPMGAQDLISKLLRHNPSERLPLAQVSAHPWVRANSRRVLPPSALQSVA\n",
      "INFO:root:Predicting 1th chain in ./Davis/cut_seqs/AURKB.seq\n",
      "INFO:root:344 residues in this chain.\n",
      "INFO:root:Finished prediction in 7.32 seconds.\n",
      "INFO:root:Saving prediction to ./Davis/omega_2/AURKB.pdb\n",
      "INFO:root:Saved\n",
      "INFO:root:Done!\n"
     ]
    },
    {
     "name": "stderr",
     "output_type": "stream",
     "text": [
      " 65%|██████▌   | 341/522 [2:48:25<46:43, 15.49s/it]"
     ]
    },
    {
     "name": "stdout",
     "output_type": "stream",
     "text": [
      "LKB1.seq\n",
      "INFO:root:Reading ./Davis/cut_seqs/LKB1.seq\n",
      "MEVVDPQQLGMFTEGELMSVGMDTFIHRIDSTEVIYQPRRKRAKLIGKYLMGDLLGEGSYGKVKEVLDSETLCRRAVKILKKKKLRRIPNGEANVKKEIQLLRRLRHKNVIQLVDVLYNEEKQKMYMVMEYCVCGMQEMLDSVPEKRFPVCQAHGYFCQLIDGLEYLHSQGIVHKDIKPGNLLLTTGGTLKISDLGVAEALHPFAADDTCRTSQGSPAFQPPEIANGLDTFSGFKVDIWSAGVTLYNITTGLYPFEGDNIYKLFENIGKGSYAIPGDCGPPLSDLLKGMLEYEPAKRFSIRQIRQHSWFRKKHPPAEAPVPIPPSPDTKDRWRSMTVVPYLEDLHGADEDEDLFDIEDDIIYTQDFTVPGQVPEEEASHNGQRRGLPKAVCMNGTEAAQLSTKSRAEGRAPNPARKACSASSKIRRLSACKQQ\n",
      "INFO:root:Predicting 1th chain in ./Davis/cut_seqs/LKB1.seq\n",
      "INFO:root:433 residues in this chain.\n",
      "INFO:root:Finished prediction in 13.16 seconds.\n",
      "INFO:root:Saving prediction to ./Davis/omega_2/LKB1.pdb\n",
      "INFO:root:Saved\n",
      "INFO:root:Done!\n"
     ]
    },
    {
     "name": "stderr",
     "output_type": "stream",
     "text": [
      " 66%|██████▌   | 342/522 [2:48:38<44:46, 14.93s/it]"
     ]
    },
    {
     "name": "stdout",
     "output_type": "stream",
     "text": [
      "DDR1_0.seq\n",
      "INFO:root:Reading ./Davis/cut_seqs/DDR1_0.seq\n",
      "MGPEALSSLLLLLLVASGDADMKGHFDPAKCRYALGMQDRTIPDSDISASSSWSDSTAARHSRLESSDGDGAWCPAGSVFPKEEEYLQVDLQRLHLVALVGTQGRHAGGLGKEFSRSYRLRYSRDGRRWMGWKDRWGQEVISGNEDPEGVVLKDLGPPMVARLVRFYPRADRVMSVCLRVELYGCLWRDGLLSYTAPVGQTMYLSEAVYLNDSTYDGHTVGGLQYGGLGQLADGVVGLDDFRKSQELRVWPGYDYVGWSNHSFSSGYVEMEFEFDRLRAFQAMQVHCNNMHTLGARLPGGVECRFRRGPAMAWEGEPMRHNLGGNLGDPRARAVSVPLGGRVARFLQCRFLFAGPWLLFSEISFISDVVNNSSPALGGTFPPAPWWPPGPPPTNFSSLELEPRGQQPVAKAEGSPTAILIGCLVAIILLLLLIIALMLWRLHWRRLLSKAERRVLEEELTVHLSVPGDTILINNRPGPREPPPYQEPRPRGNPPHSAPCVPNGSALLLSNPAYRLLLATYARPPRGPGPPTPAWAKPTNTQAYSGDYMEPEKPGAPLLPPPPQNSVPHYAEADIVTLQGVTGGNTYAVPALPPGAVGDGPPRVDFPRSRLRFKEKLGEGQFGEVHLCEVDSPQDLVSLDFPLNVRKGHPLLVAVKILRPDATKNARNDFLKEVKIMSRLKDPNIIRLLGVCVQDDPLCMITDYMENGDLNQFLSAHQLEDKAAEGAPGDGQAAQGPTISYPMLLHVAAQIASGMRYLATLNFVHRDLATRNCLVGENFTIKIADFGMSRNLYAGDYYRVQ\n",
      "INFO:root:Predicting 1th chain in ./Davis/cut_seqs/DDR1_0.seq\n",
      "INFO:root:800 residues in this chain.\n",
      "INFO:root:Finished prediction in 57.05 seconds.\n",
      "INFO:root:Saving prediction to ./Davis/omega_2/DDR1_0.pdb\n",
      "INFO:root:Saved\n",
      "INFO:root:Done!\n"
     ]
    },
    {
     "name": "stderr",
     "output_type": "stream",
     "text": [
      " 66%|██████▌   | 343/522 [2:49:36<1:22:59, 27.82s/it]"
     ]
    },
    {
     "name": "stdout",
     "output_type": "stream",
     "text": [
      "ROCK2.seq\n",
      "INFO:root:Reading ./Davis/cut_seqs/ROCK2.seq\n",
      "MEIDMTYQLKVIQQSLEQEEAEHKATKARLADKNKIYESIEEAKSEAMKEMEKKLLEERTLKQKVENLLLEAEKRCSLLDCDLKQSQQKINELLKQKDVLNEDVRNLTLKIEQETQKRCLTQNDLKMQTQQVNTLKMSEKQLKQENNHLMEMKMNLEKQNAELRKERQDADGQMKELQDQLEAEQYFSTLYKTQVRELKEECEEKTKLGKELQQKKQELQDERDSLAAQLEITLTKADSEQLARSIAEEQYSDLEKEKIMKELEIKEMMARHKQELTEKDATIASLEETNRTLTSDVANLANEKEELNNKLKDVQEQLSRLKDEEISAAAIKAQFEKQLLTERTLKTQAVNKLAEIMNRKEPVKRGNDTDVRRKEKENRKLHMELKSEREKLTQQMIKYQKELNEMQAQIAEESQIRIELQMTLDSKDSDIEQLRSQLQALHIGLDSSSIGSGPGDAEADDGFPESRLEGWLSLPVRNNTKKFGWVKKYVIVSSKKILFYDSEQDKEQSNPYMVLDIDKLFHVRPVTQTDVYRADAKEIPRIFQILYANEGESKKEQEFPVEPVGEKSNYICHKGHEFIPTLYHFPTNCEACMKPLWHMFKPPPALECRRCHIKCHKDHMDKKEEIIAPCKVYYDISTAKNLLLLANSTEEQQKWVSRLVKKIPKKPPAPDPFARSSPRTSMKIQQNQSIRRPSRQLAPNKPS\n",
      "INFO:root:Predicting 1th chain in ./Davis/cut_seqs/ROCK2.seq\n",
      "INFO:root:703 residues in this chain.\n",
      "INFO:root:Finished prediction in 43.97 seconds.\n",
      "INFO:root:Saving prediction to ./Davis/omega_2/ROCK2.pdb\n",
      "INFO:root:Saved\n",
      "INFO:root:Done!\n"
     ]
    },
    {
     "name": "stderr",
     "output_type": "stream",
     "text": [
      " 66%|██████▌   | 344/522 [2:50:21<1:37:45, 32.95s/it]"
     ]
    },
    {
     "name": "stdout",
     "output_type": "stream",
     "text": [
      "DYRK1A.seq\n",
      "INFO:root:Reading ./Davis/cut_seqs/DYRK1A.seq\n",
      "MHTGGETSACKPSSVRLAPSFSFHAAGLQMAGQMPHSHQYSDRRQPNISDQQVSALSYSDQIQQPLTNQVMPDIVMLQRRMPQTFRDPATAPLRKLSVDLIKTYKHINEVYYAKKKRRHQQGQGDDSSHKKERKVYNDGYDDDNYDYIVKNGEKWMDRYEIDSLIGKGSFGQVVKAYDRVEQEWVAIKIIKNKKAFLNQAQIEVRLLELMNKHDTEMKYYIVHLKRHFMFRNHLCLVFEMLSYNLYDLLRNTNFRGVSLNLTRKFAQQMCTALLFLATPELSIIHCDLKPENILLCNPKRSAIKIVDFGSSCQLGQRIYQYIQSRFYRSPEVLLGMPYDLAIDMWSLGCILVEMHTGEPLFSGANEVDQMNKIVEVLGIPPAHILDQAPKARKFFEKLPDGTWNLKKTKDGKREYKPPGTRKLHNILGVETGGPGGRRAGESGHTVADYLKFKDLILRMLDYDPKTRIQPYYALQHSFFKKTADEGTNTSNSVSTSPAMEQSQSSGTTSSTSSSSGGSSGTSNSGRARSDPTHQHRHSGGHFTAAVQAMDCETHSPQVRQQFPAPLGWSGTEAPTQVTVETHPVQETTFHVAPQQNALHHHHGNSSHHHHHHHHHHHHHGQQALGNRTRPRVYNSPTNSSSTQDSMEVGHSHHSMTSLSSSTTSSSTSSSSTGNQGNQAYQNRPVAANTLDFGQNGAMDVNLTVYSNPRQETGIAGHPTYQFSANTGPAHYMTEGHLTMRQGADREESPMTGVCVQQSPVASS\n",
      "INFO:root:Predicting 1th chain in ./Davis/cut_seqs/DYRK1A.seq\n",
      "INFO:root:763 residues in this chain.\n",
      "INFO:root:Finished prediction in 54.46 seconds.\n",
      "INFO:root:Saving prediction to ./Davis/omega_2/DYRK1A.pdb\n",
      "INFO:root:Saved\n",
      "INFO:root:Done!\n"
     ]
    },
    {
     "name": "stderr",
     "output_type": "stream",
     "text": [
      " 66%|██████▌   | 345/522 [2:51:16<1:57:01, 39.67s/it]"
     ]
    },
    {
     "name": "stdout",
     "output_type": "stream",
     "text": [
      "MET_0.seq\n",
      "INFO:root:Reading ./Davis/cut_seqs/MET_0.seq\n",
      "MKAPAVLAPGILVLLFTLVQRSNGECKEALAKSEMNVNMKYQLPNFTAETPIQNVILHEHHIFLGATNYIYVLNEEDLQKVAEYKTGPVLEHPDCFPCQDCSSKANLSGGVWKDNINMALVVDTYYDDQLISCGSVNRGTCQRHVFPHNHTADIQSEVHCIFSPQIEEPSQCPDCVVSALGAKVLSSVKDRFINFFVGNTINSSYFPDHPLHSISVRRLKETKDGFMFLTDQSYIDVLPEFRDSYPIKYVHAFESNNFIYFLTVQRETLDAQTFHTRIIRFCSINSGLHSYMEMPLECILTEKRKKRSTKKEVFNILQAAYVSKPGAQLARQIGASLNDDILFGVFAQSKPDSAEPMDRSAMCAFPIKYVNDFFNKIVNKNNVRCLQHFYGPNHEHCFNRTLLRNSSGCEARRDEYRTEFTTALQRVDLFMGQFSEVLLTSISTFIKGDLTIANLGTSEGRFMQVVVSRSGPSTPHVNFLLDSHPVSPEVIVEHTLNQNGYTLVITGKKITKIPLNGLGCRHFQSCSQCLSAPPFVQCGWCHDKCVRSEECLSGTWTQQICLPAIYKVFPNSAPLEGGTRLTICGWDFGFRRNNKFDLKKTRVLLGNESCTLTLSESTMNTLKCTVGPAMNKHFNMSIIISNGHGTTQYSTFSYVDPVITSISPKYGPMAGGTLLTLTGNYLNSGNSRHISIGGKTCTLKSVSNSILECYTPAQTISTEFAVKLKIDLANRETSIFSYREDPIVYEIHPTKSFISGGSTITGVGKNLNSVSVPRMVINVHEAGRNFTVACQHRSNSEIIC\n",
      "INFO:root:Predicting 1th chain in ./Davis/cut_seqs/MET_0.seq\n",
      "INFO:root:800 residues in this chain.\n",
      "INFO:root:Finished prediction in 57.09 seconds.\n",
      "INFO:root:Saving prediction to ./Davis/omega_2/MET_0.pdb\n",
      "INFO:root:Saved\n",
      "INFO:root:Done!\n"
     ]
    },
    {
     "name": "stderr",
     "output_type": "stream",
     "text": [
      " 66%|██████▋   | 346/522 [2:52:14<2:12:36, 45.21s/it]"
     ]
    },
    {
     "name": "stdout",
     "output_type": "stream",
     "text": [
      "EPHB1_1.seq\n",
      "INFO:root:Reading ./Davis/cut_seqs/EPHB1_1.seq\n",
      "FTSASDVWSYGIVMWEVMSFGERPYWDMSNQDVINAIEQDYRLPPPMDCPAALHQLMLDCWQKDRNSRPRFAEIVNTLDKMIRNPASLKTVATITAVPSQPLLDRSIPDFTAFTTVDDWLSAIKMVQYRDSFLTAGFTSLQLVTQMTSEDLLRIGITLAGHQKKILNSIHSMRVQISQSPTAMA\n",
      "INFO:root:Predicting 1th chain in ./Davis/cut_seqs/EPHB1_1.seq\n",
      "INFO:root:184 residues in this chain.\n",
      "INFO:root:Finished prediction in 1.87 seconds.\n",
      "INFO:root:Saving prediction to ./Davis/omega_2/EPHB1_1.pdb\n",
      "INFO:root:Saved\n",
      "INFO:root:Done!\n"
     ]
    },
    {
     "name": "stderr",
     "output_type": "stream",
     "text": [
      " 66%|██████▋   | 347/522 [2:52:17<1:34:06, 32.27s/it]"
     ]
    },
    {
     "name": "stdout",
     "output_type": "stream",
     "text": [
      "MERTK_1.seq\n",
      "INFO:root:Reading ./Davis/cut_seqs/MERTK_1.seq\n",
      "YPGVQNHEMYDYLLHGHRLKQPEDCLDELYEIMYSCWRTDPLDRPTFSVLRLQLEKLLESLPDVRNQADVIYVNTQLLESSEGLAQGSTLAPLDLNIDPDSIIASCTPRAAISVVTAEVHDSKPHEGRYILNGGSEEWEDLTSAPSAAVTAEKNSVLPGERLVRNGVSWSHSSMLPLGSSLPDELLFADDSSEGSEVLM\n",
      "INFO:root:Predicting 1th chain in ./Davis/cut_seqs/MERTK_1.seq\n",
      "INFO:root:199 residues in this chain.\n",
      "INFO:root:Finished prediction in 2.15 seconds.\n",
      "INFO:root:Saving prediction to ./Davis/omega_2/MERTK_1.pdb\n",
      "INFO:root:Saved\n",
      "INFO:root:Done!\n"
     ]
    },
    {
     "name": "stderr",
     "output_type": "stream",
     "text": [
      " 67%|██████▋   | 348/522 [2:52:19<1:07:33, 23.29s/it]"
     ]
    },
    {
     "name": "stdout",
     "output_type": "stream",
     "text": [
      "DLK_0.seq\n",
      "INFO:root:Reading ./Davis/cut_seqs/DLK_0.seq\n",
      "MACLHETRTPSPSFGGFVSTLSEASMRKLDPDTSDCTPEKDLTPTHVLQLHEQDAGGPGGAAGSPESRASRVRADEVRLQCQSGSGFLEGLFGCLRPVWTMIGKAYSTEHKQQQEDLWEVPFEEILDLQWVGSGAQGAVFLGRFHGEEVAVKKVRDLKETDIKHLRKLKHPNIITFKGVCTQAPCYCILMEFCAQGQLYEVLRAGRPVTPSLLVDWSMGIAGGMNYLHLHKIIHRDLKSPNMLITYDDVVKISDFGTSKELSDKSTKMSFAGTVAWMAPEVIRNEPVSEKVDIWSFGVVLWELLTGEIPYKDVDSSAIIWGVGSNSLHLPVPSSCPDGFKILLRQCWNSKPRNRPSFRQILLHLDIASADVLSTPQETYFKSQAEWREEVKLHFEKIKSEGTCLHRLEEELVMRRREELRHALDIREHYERKLERANNLYMELNALMLQLELKERELLRREQALERRCPGLLKPHPSRGLLHGNTMEKLIKKRNVPQKLSPHSKRPDILKTESLLPKLDAALSGVGLPGCPKGPPSPGRSRRGKTRHRKASAKGSCGDLPGLRTAVPPHEPGGPGSPGGLGGGPSAWEACPPALRGLHHDLLLRKMSSSSPDLLSAALGSRGRGATGGAGDPGSPPPARGDTPPSEGSAPGSTSPDSPGGAKGEPPPPVGPGEGVGLLGTGREGTSGRGGSRAGSQHLTPAALLYRAAVTRSQKRGISSEEEEGEVDSEVELTSSQRWPQSLNMRQSLSTFSSENPSDGEEGTASEPSPSGTPEVGSTNTDERPDERSDDMCSQGSEIPL\n",
      "INFO:root:Predicting 1th chain in ./Davis/cut_seqs/DLK_0.seq\n",
      "INFO:root:800 residues in this chain.\n",
      "INFO:root:Finished prediction in 57.03 seconds.\n",
      "INFO:root:Saving prediction to ./Davis/omega_2/DLK_0.pdb\n",
      "INFO:root:Saved\n",
      "INFO:root:Done!\n"
     ]
    },
    {
     "name": "stderr",
     "output_type": "stream",
     "text": [
      " 67%|██████▋   | 349/522 [2:53:17<1:37:05, 33.67s/it]"
     ]
    },
    {
     "name": "stdout",
     "output_type": "stream",
     "text": [
      "PIP5K2B.seq\n",
      "INFO:root:Reading ./Davis/cut_seqs/PIP5K2B.seq\n",
      "MSSNCTSTTAVAVAPLSASKTKTKKKHFVCQKVKLFRASEPILSVLMWGVNHTINELSNVPVPVMLMPDDFKAYSKIKVDNHLFNKENLPSRFKFKEYCPMVFRNLRERFGIDDQDYQNSVTRSAPINSDSQGRCGTRFLTTYDRRFVIKTVSSEDVAEMHNILKKYHQFIVECHGNTLLPQFLGMYRLTVDGVETYMVVTRNVFSHRLTVHRKYDLKGSTVAREASDKEKAKDLPTFKDNDFLNEGQKLHVGEESKKNFLEKLKRDVEFLAQLKIMDYSLLVGIHDVDRAEQEEMEVEERAEDEECENDGVGGNLLCSYGTPPDSPGNLLSFPRFFGPGEFDPSVDVYAMKSHESSPKKEVYFMAIIDILTPYDTKKKAAHAAKTVKHGAGAEISTVNPEQYSKRFNEFMSNILT\n",
      "INFO:root:Predicting 1th chain in ./Davis/cut_seqs/PIP5K2B.seq\n",
      "INFO:root:416 residues in this chain.\n",
      "INFO:root:Finished prediction in 11.63 seconds.\n",
      "INFO:root:Saving prediction to ./Davis/omega_2/PIP5K2B.pdb\n",
      "INFO:root:Saved\n",
      "INFO:root:Done!\n"
     ]
    },
    {
     "name": "stderr",
     "output_type": "stream",
     "text": [
      " 67%|██████▋   | 350/522 [2:53:29<1:17:56, 27.19s/it]"
     ]
    },
    {
     "name": "stdout",
     "output_type": "stream",
     "text": [
      "DMPK2_0.seq\n",
      "INFO:root:Reading ./Davis/cut_seqs/DMPK2_0.seq\n",
      "MERRLRALEQLARGEAGGCPGLDGLLDLLLALHHELSSGPLRRERSVAQFLSWASPFVSKVKELRLQRDDFEILKVIGRGAFGEVTVVRQRDTGQIFAMKMLHKWEMLKRAETACFREERDVLVKGDSRWVTTLHYAFQDEEYLYLVMDYYAGGDLLTLLSRFEDRLPPELAQFYLAEMVLAIHSLHQLGYVHRDVKPDNVLLDVNGHIRLADFGSCLRLNTNGMVDSSVAVGTPDYISPEILQAMEEGKGHYGPQCDWWSLGVCAYELLFGETPFYAESLVETYGKIMNHEDHLQFPPDVPDVPASAQDLIRQLLCRQEERLGRGGLDDFRNHPFFEGVDWERLASSTAPYIPELRGPMDTSNFDVDDDTLNHPGTLPPPSHGAFSGHHLPFVGFTYTSGSHSPESSSEAWAALERKLQCLEQEKVELSRKHQEALHAPTDHRELEQLRKEVQTLRDRLPEMLRDKASLSQTDGPPAGSPGQDSDLRQELDRLHRELAEGRAGLQAQEQELCRAQGQQEELLQRLQEAQEREAATASQTRALSSQLEEARAAQRELEAQVSSLSRQVTQLQGQWEQRLEESSQAKTIHTASETNGMGPPEGGPQEAQLRKEVAALREQLEQAHSHRPSGKEEALCQLQEENRRLSREQERLEAELAQEQESKQRLEGERRETESNWEAQLADILSWVNDEKVSRGYLQALATKMAEELESLRNVGTQTLPARPLDHQWKARRLQKMEASARLELQSALEAEIRAKQGLQERLTQVQEAQLQAERRLQEAEKQSQALQQELAMLREELRA\n",
      "INFO:root:Predicting 1th chain in ./Davis/cut_seqs/DMPK2_0.seq\n",
      "INFO:root:800 residues in this chain.\n",
      "INFO:root:Finished prediction in 56.99 seconds.\n",
      "INFO:root:Saving prediction to ./Davis/omega_2/DMPK2_0.pdb\n",
      "INFO:root:Saved\n",
      "INFO:root:Done!\n"
     ]
    },
    {
     "name": "stderr",
     "output_type": "stream",
     "text": [
      " 67%|██████▋   | 351/522 [2:54:27<1:43:50, 36.43s/it]"
     ]
    },
    {
     "name": "stdout",
     "output_type": "stream",
     "text": [
      "TAOK1_0.seq\n",
      "INFO:root:Reading ./Davis/cut_seqs/TAOK1_0.seq\n",
      "MPSTNRAGSLKDPEIAELFFKEDPEKLFTDLREIGHGSFGAVYFARDVRTNEVVAIKKMSYSGKQSTEKWQDIIKEVKFLQRIKHPNSIEYKGCYLREHTAWLVMEYCLGSASDLLEVHKKPLQEVEIAAITHGALQGLAYLHSHTMIHRDIKAGNILLTEPGQVKLADFGSASMASPANSFVGTPYWMAPEVILAMDEGQYDGKVDVWSLGITCIELAERKPPLFNMNAMSALYHIAQNESPTLQSNEWSDYFRNFVDSCLQKIPQDRPTSEELLKHIFVLRERPETVLIDLIQRTKDAVRELDNLQYRKMKKLLFQEAHNGPAVEAQEEEEEQDHGVGRTGTVNSVGSNQSIPSMSISASSQSSSVNSLPDVSDDKSELDMMEGDHTVMSNSSVIHLKPEEENYREEGDPRTRASDPQSPPQVSRHKSHYRNREHFATIRTASLVTRQMQEHEQDSELREQMSGYKRMRRQHQKQLMTLENKLKAEMDEHRLRLDKDLETQRNNFAAEMEKLIKKHQAAMEKEAKVMSNEEKKFQQHIQAQQKKELNSFLESQKREYKLRKEQLKEELNENQSTPKKEKQEWLSKQKENIQHFQAEEEANLLRRQRQYLELECRRFKRRMLLGRHNLEQDLVREELNKRQTQKDLEHAMLLRQHESMQELEFRHLNTIQKMRCELIRLQHQTELTNQLEYNKRRERELRRKHVMEVRQQPKSLKSKELQIKKQFQDTCKIQTRQYKALRNHLLETTPKSEHKAVLKRLKEEQTRKLAILAEQYDHSINEMLSTQALRLDEAQEAECQV\n",
      "INFO:root:Predicting 1th chain in ./Davis/cut_seqs/TAOK1_0.seq\n",
      "INFO:root:800 residues in this chain.\n",
      "INFO:root:Finished prediction in 57.08 seconds.\n",
      "INFO:root:Saving prediction to ./Davis/omega_2/TAOK1_0.pdb\n",
      "INFO:root:Saved\n",
      "INFO:root:Done!\n"
     ]
    },
    {
     "name": "stderr",
     "output_type": "stream",
     "text": [
      " 67%|██████▋   | 352/522 [2:55:25<2:01:31, 42.89s/it]"
     ]
    },
    {
     "name": "stdout",
     "output_type": "stream",
     "text": [
      "SRMS.seq\n",
      "INFO:root:Reading ./Davis/cut_seqs/SRMS.seq\n",
      "MEPFLRRRLAFLSFFWDKIWPAGGEPDHGTPGSLDPNTDPVPTLPAEPCSPFPQLFLALYDFTARCGGELSVRRGDRLCALEEGGGYIFARRLSGQPSAGLVPITHVAKASPETLSDQPWYFSGVSRTQAQQLLLSPPNEPGAFLIRPSESSLGGYSLSVRAQAKVCHYRVSMAADGSLYLQKGRLFPGLEELLTYYKANWKLIQNPLLQPCMPQKAPRQDVWERPHSEFALGRKLGEGYFGEVWEGLWLGSLPVAIKVIKSANMKLTDLAKEIQTLKGLRHERLIRLHAVCSGGEPVYIVTELMRKGNLQAFLGTPEGRALRLPPLLGFACQVAEGMSYLEEQRVVHRDLAARNVLVDDGLACKVADFGLARLLKDDIYSPSSSSKIPVKWTAPEAANYRVFSQKSDVWSFGVLLHEVFTYGQCPYEGMTNHETLQQIMRGYRLPRPAACPAEVYVLMLECWRSSPEERPSFATLREKLHAIHRCHP\n",
      "INFO:root:Predicting 1th chain in ./Davis/cut_seqs/SRMS.seq\n",
      "INFO:root:488 residues in this chain.\n",
      "INFO:root:Finished prediction in 17.19 seconds.\n",
      "INFO:root:Saving prediction to ./Davis/omega_2/SRMS.pdb\n",
      "INFO:root:Saved\n",
      "INFO:root:Done!\n"
     ]
    },
    {
     "name": "stderr",
     "output_type": "stream",
     "text": [
      " 68%|██████▊   | 353/522 [2:55:43<1:39:33, 35.35s/it]"
     ]
    },
    {
     "name": "stdout",
     "output_type": "stream",
     "text": [
      "PRKCI.seq\n",
      "INFO:root:Reading ./Davis/cut_seqs/PRKCI.seq\n",
      "MPTQRDSSTMSHTVAGGGSGDHSHQVRVKAYYRGDIMITHFEPSISFEGLCNEVRDMCSFDNEQLFTMKWIDEEGDPCTVSSQLELEEAFRLYELNKDSELLIHVFPCVPERPGMPCPGEDKSIYRRGARRWRKLYCANGHTFQAKRFNRRAHCAICTDRIWGLGRQGYKCINCKLLVHKKCHKLVTIECGRHSLPQEPVMPMDQSSMHSDHAQTVIPYNPSSHESLDQVGEEKEAMNTRESGKASSSLGLQDFDLLRVIGRGSYAKVLLVRLKKTDRIYAMKVVKKELVNDDEDIDWVQTEKHVFEQASNHPFLVGLHSCFQTESRLFFVIEYVNGGDLMFHMQRQRKLPEEHARFYSAEISLALNYLHERGIIYRDLKLDNVLLDSEGHIKLTDYGMCKEGLRPGDTTSTFCGTPNYIAPEILRGEDYGFSVDWWALGVLMFEMMAGRSPFDIVGSSDNPDQNTEDYLFQVILEKQIRIPRSLSVKAASVLKSFLNKDPKERLGCHPQTGFADIQGHPFFRNVDWDMMEQKQVVPPFKPNISGEFGLDNFDSQFTNEPVQLTPDDDDIVRKIDQSEFEGFEYINPLLMSAEECV\n",
      "INFO:root:Predicting 1th chain in ./Davis/cut_seqs/PRKCI.seq\n",
      "INFO:root:596 residues in this chain.\n",
      "INFO:root:Finished prediction in 28.16 seconds.\n",
      "INFO:root:Saving prediction to ./Davis/omega_2/PRKCI.pdb\n",
      "INFO:root:Saved\n",
      "INFO:root:Done!\n"
     ]
    },
    {
     "name": "stderr",
     "output_type": "stream",
     "text": [
      " 68%|██████▊   | 354/522 [2:56:11<1:33:28, 33.38s/it]"
     ]
    },
    {
     "name": "stdout",
     "output_type": "stream",
     "text": [
      "CTK.seq\n",
      "INFO:root:Reading ./Davis/cut_seqs/CTK.seq\n",
      "MAGRGSLVSWRAFHGCDSAEELPRVSPRFLRAWHPPPVSARMPTRRWAPGTQCITKCEHTRPKPGELAFRKGDVVTILEACENKSWYRVKHHTSGQEGLLAAGALREREALSADPKLSLMPWFHGKISGQEAVQQLQPPEDGLFLVRESARHPGDYVLCVSFGRDVIHYRVLHRDGHLTIDEAVFFCNLMDMVEHYSKDKGAICTKLVRPKRKHGTKSAEEELARAGWLLNLQHLTLGAQIGEGEFGAVLQGEYLGQKVAVKNIKCDVTAQAFLDETAVMTKMQHENLVRLLGVILHQGLYIVMEHVSKGNLVNFLRTRGRALVNTAQLLQFSLHVAEGMEYLESKKLVHRDLAARNILVSEDLVAKVSDFGLAKAERKGLDSSRLPVKWTAPEALKHGKFTSKSDVWSFGVLLWEVFSYGRAPYPKMSLKEVSEAVEKGYRMEPPEGCPGPVHVLMSSCWEAEPARRPPFRKLAEKLARELRSAGAPASVSGQDADGSTSPRSQEP\n",
      "INFO:root:Predicting 1th chain in ./Davis/cut_seqs/CTK.seq\n",
      "INFO:root:507 residues in this chain.\n",
      "INFO:root:Finished prediction in 19.30 seconds.\n",
      "INFO:root:Saving prediction to ./Davis/omega_2/CTK.pdb\n",
      "INFO:root:Saved\n",
      "INFO:root:Done!\n"
     ]
    },
    {
     "name": "stderr",
     "output_type": "stream",
     "text": [
      " 68%|██████▊   | 355/522 [2:56:31<1:21:34, 29.31s/it]"
     ]
    },
    {
     "name": "stdout",
     "output_type": "stream",
     "text": [
      "TNIK_0.seq\n",
      "INFO:root:Reading ./Davis/cut_seqs/TNIK_0.seq\n",
      "MASDSPARSLDEIDLSALRDPAGIFELVELVGNGTYGQVYKGRHVKTGQLAAIKVMDVTGDEEEEIKQEINMLKKYSHHRNIATYYGAFIKKNPPGMDDQLWLVMEFCGAGSVTDLIKNTKGNTLKEEWIAYICREILRGLSHLHQHKVIHRDIKGQNVLLTENAEVKLVDFGVSAQLDRTVGRRNTFIGTPYWMAPEVIACDENPDATYDFKSDLWSLGITAIEMAEGAPPLCDMHPMRALFLIPRNPAPRLKSKKWSKKFQSFIESCLVKNHSQRPATEQLMKHPFIRDQPNERQVRIQLKDHIDRTKKKRGEKDETEYEYSGSEEEEEENDSGEPSSILNLPGESTLRRDFLRLQLANKERSEALRRQQLEQQQRENEEHKRQLLAERQKRIEEQKEQRRRLEEQQRREKELRKQQEREQRRHYEEQMRREEERRRAEHEQEYIRRQLEEEQRQLEILQQQLLHEQALLLEYKRKQLEEQRQAERLQRQLKQERDYLVSLQHQRQEQRPVEKKPLYHYKEGMSPSEKPAWAKEVEERSRLNRQSSPAMPHKVANRISDPNLPPRSESFSISGVQPARTPPMLRPVDPQIPHLVAVKSQGPALTASQSVHEQPTKGLSGFQEALNVTSHRVEMPRQNSDPTSENPPLPTRIEKFDRSSWLRQEEDIPPKVPQRTTSISPALARKNSPGNGSALGPRLGSQPIRASNPDLRRTEPILESPLQRTSSGSSSSSSTPSSQPSSQGGSQPGSQAGSSERTRVRANSKSEGSPVLPHEPAKVKPEESRDITRPSRPASYKKAI\n",
      "INFO:root:Predicting 1th chain in ./Davis/cut_seqs/TNIK_0.seq\n",
      "INFO:root:800 residues in this chain.\n",
      "INFO:root:Finished prediction in 57.21 seconds.\n",
      "INFO:root:Saving prediction to ./Davis/omega_2/TNIK_0.pdb\n",
      "INFO:root:Saved\n",
      "INFO:root:Done!\n"
     ]
    },
    {
     "name": "stderr",
     "output_type": "stream",
     "text": [
      " 68%|██████▊   | 356/522 [2:57:29<1:45:01, 37.96s/it]"
     ]
    },
    {
     "name": "stdout",
     "output_type": "stream",
     "text": [
      "FES_0.seq\n",
      "INFO:root:Reading ./Davis/cut_seqs/FES_0.seq\n",
      "MGFSSELCSPQGHGVLQQMQEAELRLLEGMRKWMAQRVKSDREYAGLLHHMSLQDSGGQSRAISPDSPISQSWAEITSQTEGLSRLLRQHAEDLNSGPLSKLSLLIRERQQLRKTYSEQWQQLQQELTKTHSQDIEKLKSQYRALARDSAQAKRKYQEASKDKDRDKAKDKYVRSLWKLFAHHNRYVLGVRAAQLHHQHHHQLLLPGLLRSLQDLHEEMACILKEILQEYLEISSLVQDEVVAIHREMAAAAARIQPEAEYQGFLRQYGSAPDVPPCVTFDESLLEEGEPLEPGELQLNELTVESVQHTLTSVTDELAVATEMVFRRQEMVTQLQQELRNEEENTHPRERVQLLGKRQVLQEALQGLQVALCSQAKLQAQQELLQTKLEHLGPGEPPPVLLLQDDRHSTSSSEQEREGGRTPTLEILKSHISGIFRPKFSLPPPLQLIPEVQKPLHEQLWYHGAIPRAEVAELLVHSGDFLVRESQGKQEYVLSVLWDGLPRHFIIQSLDNLYRLEGEGFPSIPLLIDHLLSTQQPLTKKSGVVLHRAVPKDKWVLNHEDLVLGEQIGRGNFGEVFSGRLRADNTLVAVKSCRETLPPDLKAKFLQEARILKQYSHPNIVRLIGVCTQKQPIYIVMELVQGGDFLTFLRTEGARLRVKTLLQMVGDAAAGMEYLESKCCIHRDLAARNCLVTEKNVLKISDFGMSREEADGVYAASGGLRQVPVKWTAPEALNYGRYSSESDVWSFGILLWETFSLGASPYPNLSNQQTREFVEKGGRLPCPELCPDAVFRLMEQCWAYE\n",
      "INFO:root:Predicting 1th chain in ./Davis/cut_seqs/FES_0.seq\n",
      "INFO:root:800 residues in this chain.\n",
      "INFO:root:Finished prediction in 57.10 seconds.\n",
      "INFO:root:Saving prediction to ./Davis/omega_2/FES_0.pdb\n",
      "INFO:root:Saved\n",
      "INFO:root:Done!\n"
     ]
    },
    {
     "name": "stderr",
     "output_type": "stream",
     "text": [
      " 68%|██████▊   | 357/522 [2:58:27<2:00:59, 44.00s/it]"
     ]
    },
    {
     "name": "stdout",
     "output_type": "stream",
     "text": [
      "INSR_1.seq\n",
      "INFO:root:Reading ./Davis/cut_seqs/INSR_1.seq\n",
      "VVNKESLVISGLRHFTGYRIELQACNQDTPEERCSVAAYVSARTMPEAKADDIVGPVTHEIFENNVVHLMWQEPKEPNGLIVLYEVSYRRYGDEELHLCVSRKHFALERGCRLRGLSPGNYSVRIRATSLAGNGSWTEPTYFYVTDYLDVPSNIAKIIIGPLIFVFLFSVVIGSIYLFLRKRQPDGPLGPLYASSNPEYLSASDVFPCSVYVPDEWEVSREKITLLRELGQGSFGMVYEGNARDIIKGEAETRVAVKTVNESASLRERIEFLNEASVMKGFTCHHVVRLLGVVSKGQPTLVVMELMAHGDLKSYLRSLRPEAENNPGRPPPTLQEMIQMAAEIADGMAYLNAKKFVHRDLAARNCMVAHDFTVKIGDFGMTRDIYETDYYRKGGKGLLPVRWMAPESLKDGVFTTSSDMWSFGVVLWEITSLAEQPYQGLSNEQVLKFVMDGGYLDQPDNCPERVTDLMRMCWQFNPKMRPTFLEIVNLLKDDLHPSFPEVSFFHSEENKAPESEELEMEFEDMENVPLDRSSHCQREEAGGRDGGSSLGFKRSYEEHIPYTHMNGGKKNGRILTLPRSNPS\n",
      "INFO:root:Predicting 1th chain in ./Davis/cut_seqs/INSR_1.seq\n",
      "INFO:root:582 residues in this chain.\n",
      "INFO:root:Finished prediction in 27.22 seconds.\n",
      "INFO:root:Saving prediction to ./Davis/omega_2/INSR_1.pdb\n",
      "INFO:root:Saved\n",
      "INFO:root:Done!\n"
     ]
    },
    {
     "name": "stderr",
     "output_type": "stream",
     "text": [
      " 69%|██████▊   | 358/522 [2:58:55<1:47:05, 39.18s/it]"
     ]
    },
    {
     "name": "stdout",
     "output_type": "stream",
     "text": [
      "CSNK1G3.seq\n",
      "INFO:root:Reading ./Davis/cut_seqs/CSNK1G3.seq\n",
      "MENKKKDKDKSDDRMARPSGRSGHNTRGTGSSSSGVLMVGPNFRVGKKIGCGNFGELRLGKNLYTNEYVAIKLEPMKSRAPQLHLEYRFYKQLGSGDGIPQVYYFGPCGKYNAMVLELLGPSLEDLFDLCDRTFSLKTVLMIAIQLISRMEYVHSKNLIYRDVKPENFLIGRPGNKTQQVIHIIDFGLAKEYIDPETKKHIPYREHKSLTGTARYMSINTHLGKEQSRRDDLEALGHMFMYFLRGSLPWQGLKADTLKERYQKIGDTKRATPIEVLCENFPEMATYLRYVRRLDFFEKPDYDYLRKLFTDLFDRKGYMFDYEYDWIGKQLPTPVGAVQQDPALSSNREAHQHRDKMQQSKNQSADHRAAWDSQQANPHHLRAHLAADRHGGSVQVVSSTNGELNTDDPTAGRSNAPITAPTEVEVMDETKCCCFFKRRKRKTIQRHK\n",
      "INFO:root:Predicting 1th chain in ./Davis/cut_seqs/CSNK1G3.seq\n",
      "INFO:root:447 residues in this chain.\n",
      "INFO:root:Finished prediction in 14.11 seconds.\n",
      "INFO:root:Saving prediction to ./Davis/omega_2/CSNK1G3.pdb\n",
      "INFO:root:Saved\n",
      "INFO:root:Done!\n"
     ]
    },
    {
     "name": "stderr",
     "output_type": "stream",
     "text": [
      " 69%|██████▉   | 359/522 [2:59:10<1:26:21, 31.79s/it]"
     ]
    },
    {
     "name": "stdout",
     "output_type": "stream",
     "text": [
      "EPHA8_0.seq\n",
      "INFO:root:Reading ./Davis/cut_seqs/EPHA8_0.seq\n",
      "MAPARGRLPPALWVVTAAAAAATCVSAARGEVNLLDTSTIHGDWGWLTYPAHGWDSINEVDESFQPIHTYQVCNVMSPNQNNWLRTSWVPRDGARRVYAEIKFTLRDCNSMPGVLGTCKETFNLYYLESDRDLGASTQESQFLKIDTIAADESFTGADLGVRRLKLNTEVRSVGPLSKRGFYLAFQDIGACLAILSLRIYYKKCPAMVRNLAAFSEAVTGADSSSLVEVRGQCVRHSEERDTPKMYCSAEGEWLVPIGKCVCSAGYEERRDACVACELGFYKSAPGDQLCARCPPHSHSAAPAAQACHCDLSYYRAALDPPSSACTRPPSAPVNLISSVNGTSVTLEWAPPLDPGGRSDITYNAVCRRCPWALSRCEACGSGTRFVPQQTSLVQASLLVANLLAHMNYSFWIEAVNGVSDLSPEPRRAAVVNITTNQAAPSQVVVIRQERAGQTSVSLLWQEPEQPNGIILEYEIKYYEKDKEMQSYSTLKAVTTRATVSGLKPGTRYVFQVRARTSAGCGRFSQAMEVETGKPRPRYDTRTIVWICLTLITGLVVLLLLLICKKRHCGYSKAFQDSDEEKMHYQNGQAPPPVFLPLHHPPGKLPEPQFYAEPHTYEEPGRAGRSFTREIEASRIHIEKIIGSGDSGEVCYGRLRVPGQRDVPVAIKALKAGYTERQRRDFLSEASIMGQFDHPNIIRLEGVVTRGRLAMIVTEYMENGSLDTFLRTHDGQFTIMQLVGMLRGVGAGMRYLSDLGYVHRDLAARNVLVDSNLVCKVSDFGLSRVLEDDPDAAYTTTGGKI\n",
      "INFO:root:Predicting 1th chain in ./Davis/cut_seqs/EPHA8_0.seq\n",
      "INFO:root:800 residues in this chain.\n",
      "INFO:root:Finished prediction in 57.03 seconds.\n",
      "INFO:root:Saving prediction to ./Davis/omega_2/EPHA8_0.pdb\n",
      "INFO:root:Saved\n",
      "INFO:root:Done!\n"
     ]
    },
    {
     "name": "stderr",
     "output_type": "stream",
     "text": [
      " 69%|██████▉   | 360/522 [3:00:08<1:46:58, 39.62s/it]"
     ]
    },
    {
     "name": "stdout",
     "output_type": "stream",
     "text": [
      "PRKG1.seq\n",
      "INFO:root:Reading ./Davis/cut_seqs/PRKG1.seq\n",
      "MSELEEDFAKILMLKEERIKELEKRLSEKEEEIQELKRKLHKCQSVLPVPSTHIGPRTTRAQGISAEPQTYRSFHDLRQAFRKFTKSERSKDLIKEAILDNDFMKNLELSQIQEIVDCMYPVEYGKDSCIIKEGDVGSLVYVMEDGKVEVTKEGVKLCTMGPGKVFGELAILYNCTRTATVKTLVNVKLWAIDRQCFQTIMMRTGLIKHTEYMEFLKSVPTFQSLPEEILSKLADVLEETHYENGEYIIRQGARGDTFFIISKGTVNVTREDSPSEDPVFLRTLGKGDWFGEKALQGEDVRTANVIAAEAVTCLVIDRDSFKHLIGGLDDVSNKAYEDAEAKAKYEAEAAFFANLKLSDFNIIDTLGVGGFGRVELVQLKSEESKTFAMKILKKRHIVDTRQQEHIRSEKQIMQGAHSDFIVRLYRTFKDSKYLYMLMEACLGGELWTILRDRGSFEDSTTRFYTACVVEAFAYLHSKGIIYRDLKPENLILDHRGYAKLVDFGFAKKIGFGKKTWTFCGTPEYVAPEIILNKGHDISADYWSLGILMYELLTGSPPFSGPDPMKTYNIILRGIDMIEFPKKIAKNAANLIKKLCRDNPSERLGNLKNGVKDIQKHKWFEGFNWEGLRKGTLTPPIIPSVASPTDTSNFDSFPEDNDEPPPDDNSGWDIDF\n",
      "INFO:root:Predicting 1th chain in ./Davis/cut_seqs/PRKG1.seq\n",
      "INFO:root:671 residues in this chain.\n",
      "INFO:root:Finished prediction in 38.87 seconds.\n",
      "INFO:root:Saving prediction to ./Davis/omega_2/PRKG1.pdb\n",
      "INFO:root:Saved\n",
      "INFO:root:Done!\n"
     ]
    },
    {
     "name": "stderr",
     "output_type": "stream",
     "text": [
      " 69%|██████▉   | 361/522 [3:00:47<1:46:20, 39.63s/it]"
     ]
    },
    {
     "name": "stdout",
     "output_type": "stream",
     "text": [
      "CLK3.seq\n",
      "INFO:root:Reading ./Davis/cut_seqs/CLK3.seq\n",
      "MPVLSARRRELADHAGSGRRSGPSPTARSGPHLSALRAQPARAAHLSGRGTYVRRDTAGGGPGQARPLGPPGTSLLGRGARRSGEGWCPGAFESGARAARPPSRVEPRLATAASREGAGLPRAEVAAGSGRGARSGEWGLAAAGAWETMHHCKRYRSPEPDPYLSYRWKRRRSYSREHEGRLRYPSRREPPPRRSRSRSHDRLPYQRRYRERRDSDTYRCEERSPSFGEDYYGPSRSRHRRRSRERGPYRTRKHAHHCHKRRTRSCSSASSRSQQSSKRSSRSVEDDKEGHLVCRIGDWLQERYEIVGNLGEGTFGKVVECLDHARGKSQVALKIIRNVGKYREAARLEINVLKKIKEKDKENKFLCVLMSDWFNFHGHMCIAFELLGKNTFEFLKENNFQPYPLPHVRHMAYQLCHALRFLHENQLTHTDLKPENILFVNSEFETLYNEHKSCEEKSVKNTSIRVADFGSATFDHEHHTTIVATRHYRPPEVILELGWAQPCDVWSIGCILFEYYRGFTLFQTHENREHLVMMEKILGPIPSHMIHRTRKQKYFYKGGLVWDENSSDGRYVKENCKPLKSYMLQDSLEHVQLFDLMRRMLEFDPAQRITLAEALLHPFFAGLTPEERSFHTSRNPSR\n",
      "INFO:root:Predicting 1th chain in ./Davis/cut_seqs/CLK3.seq\n",
      "INFO:root:638 residues in this chain.\n",
      "INFO:root:Finished prediction in 34.70 seconds.\n",
      "INFO:root:Saving prediction to ./Davis/omega_2/CLK3.pdb\n",
      "INFO:root:Saved\n",
      "INFO:root:Done!\n"
     ]
    },
    {
     "name": "stderr",
     "output_type": "stream",
     "text": [
      " 69%|██████▉   | 362/522 [3:01:23<1:42:29, 38.44s/it]"
     ]
    },
    {
     "name": "stdout",
     "output_type": "stream",
     "text": [
      "ROS1_0.seq\n",
      "INFO:root:Reading ./Davis/cut_seqs/ROS1_0.seq\n",
      "MKNIYCLIPKLVNFATLGCLWISVVQCTVLNSCLKSCVTNLGQQLDLGTPHNLSEPCIQGCHFWNSVDQKNCALKCRESCEVGCSSAEGAYEEEVLENADLPTAPFASSIGSHNMTLRWKSANFSGVKYIIQWKYAQLLGSWTYTKTVSRPSYVVKPLHPFTEYIFRVVWIFTAQLQLYSPPSPSYRTHPHGVPETAPLIRNIESSSPDTVEVSWDPPQFPGGPILGYNLRLISKNQKLDAGTQRTSFQFYSTLPNTIYRFSIAAVNEVGEGPEAESSITTSSSAVQQEEQWLFLSRKTSLRKRSLKHLVDEAHCLRLDAIYHNITGISVDVHQQIVYFSEGTLIWAKKAANMSDVSDLRIFYRGSGLISSISIDWLYQRMYFIMDELVCVCDLENCSNIEEITPPSISAPQKIVADSYNGYVFYLLRDGIYRADLPVPSGRCAEAVRIVESCTLKDFAIKPQAKRIIYFNDTAQVFMSTFLDGSASHLILPRIPFADVKSFACENNDFLVTDGKVIFQQDALSFNEFIVGCDLSHIEEFGFGNLVIFGSSSQLHPLPGRPQELSVLFGSHQALVQWKPPALAIGANVILISDIIELFELGPSAWQNWTYEVKVSTQDPPEVTHIFLNISGTMLNVPELQSAMKYKVSVRASSPKRPGPWSEPSVGTTLVPASEPPFIMAVKEDGLWSKPLNSFGPGEFLSSDIGNVSDMDWYNNSLYYSDTKGDVFVWLLNGTDISENYHLPSIAGAGALAFEWLGHFLYWAGKTYVIQRQSVLTGHTDIVTHVKLLVNDMVVDSVGGY\n",
      "INFO:root:Predicting 1th chain in ./Davis/cut_seqs/ROS1_0.seq\n",
      "INFO:root:800 residues in this chain.\n",
      "INFO:root:Finished prediction in 57.08 seconds.\n",
      "INFO:root:Saving prediction to ./Davis/omega_2/ROS1_0.pdb\n",
      "INFO:root:Saved\n",
      "INFO:root:Done!\n"
     ]
    },
    {
     "name": "stderr",
     "output_type": "stream",
     "text": [
      " 70%|██████▉   | 363/522 [3:02:21<1:57:20, 44.28s/it]"
     ]
    },
    {
     "name": "stdout",
     "output_type": "stream",
     "text": [
      "HPK1_1.seq\n",
      "INFO:root:Reading ./Davis/cut_seqs/HPK1_1.seq\n",
      "ECSGTISPHCNLLLPGSSNSPASASRVAGITGL\n",
      "INFO:root:Predicting 1th chain in ./Davis/cut_seqs/HPK1_1.seq\n",
      "INFO:root:33 residues in this chain.\n",
      "INFO:root:Finished prediction in 0.49 seconds.\n",
      "INFO:root:Saving prediction to ./Davis/omega_2/HPK1_1.pdb\n",
      "INFO:root:Saved\n",
      "INFO:root:Done!\n"
     ]
    },
    {
     "name": "stderr",
     "output_type": "stream",
     "text": [
      " 70%|██████▉   | 364/522 [3:02:22<1:22:09, 31.20s/it]"
     ]
    },
    {
     "name": "stdout",
     "output_type": "stream",
     "text": [
      "PIK3CA_0.seq\n",
      "INFO:root:Reading ./Davis/cut_seqs/PIK3CA_0.seq\n",
      "TMPPRPSSGELWGIHLMPPRILVECLLPNGMIVTLECLREATLITIKHELFKEARKYPLHQLLQDESSYIFVSVTQEAEREEFFDETRRLCDLRLFQPFLKVIEPVGNREEKILNREIGFAIGMPVCEFDMVKDPEVQDFRRNILNVCKEAVDLRDLNSPHSRAMYVYPPNVESSPELPKHIYNKLDKGQIIVVIWVIVSPNNDKQKYTLKINHDCVPEQVIAEAIRKKTRSMLLSSEQLKLCVLEYQGKYILKVCGCDEYFLEKYPLSQYKYIRSCIMLGRMPNLMLMAKESLYSQLPMDCFTMPSYSRRISTATPYMNGETSTKSLWVINSALRIKILCATYVNVNIRDIDKIYVRTGIYHGGEPLCDNVNTQRVPCSNPRWNEWLNYDIYIPDLPRAARLCLSICSVKGRKGAKEEHCPLAWGNINLFDYTDTLVSGKMALNLWPVPHGLEDLLNPIGVTGSNPNKETPCLELEFDWFSSVVKFPDMSVIEEHANWSVSREAGFSYSHAGLSNRLARDNELRENDKEQLKAISTRDPLSEITEQEKDFLWSHRHYCVTIPEILPKLLLSVKWNSRDEVAQMYCLVKDWPPIKPEQAMELLDCNYPDPMVRGFAVRCLEKYLTDDKLSQYLIQLVQVLKYEQYLDNLLVRFLLKKALTNQRIGHFFFWHLKSEMHNKTVSQRFGLLLESYCRACGMYLKHLNRQVEAMEKLINLTDILKQEKKDETQKVQMKFLVEQMRRPDFMDALQGFLSPLNPAHQLGNLRLEECRIMSSAKRPLWLNWENPDIMSELLFQNNEI\n",
      "INFO:root:Predicting 1th chain in ./Davis/cut_seqs/PIK3CA_0.seq\n",
      "INFO:root:800 residues in this chain.\n",
      "INFO:root:Finished prediction in 57.04 seconds.\n",
      "INFO:root:Saving prediction to ./Davis/omega_2/PIK3CA_0.pdb\n",
      "INFO:root:Saved\n",
      "INFO:root:Done!\n"
     ]
    },
    {
     "name": "stderr",
     "output_type": "stream",
     "text": [
      " 70%|██████▉   | 365/522 [3:03:20<1:42:38, 39.23s/it]"
     ]
    },
    {
     "name": "stdout",
     "output_type": "stream",
     "text": [
      "TRKB.seq\n",
      "INFO:root:Reading ./Davis/cut_seqs/TRKB.seq\n",
      "MSSWIRWHGPAMARLWGFCWLVVGFWRAAFACPTSCKCSASRIWCSDPSPGIVAFPRLEPNSVDPENITEIFIANQKRLEIINEDDVEAYVGLRNLTIVDSGLKFVAHKAFLKNSNLQHINFTRNKLTSLSRKHFRHLDLSELILVGNPFTCSCDIMWIKTLQEAKSSPDTQDLYCLNESSKNIPLANLQIPNCGLPSANLAAPNLTVEEGKSITLSCSVAGDPVPNMYWDVGNLVSKHMNETSHTQGSLRITNISSDDSGKQISCVAENLVGEDQDSVNLTVHFAPTITFLESPTSDHHWCIPFTVKGNPKPALQWFYNGAILNESKYICTKIHVTNHTEYHGCLQLDNPTHMNNGDYTLIAKNEYGKDEKQISAHFMGWPGIDDGANPNYPDVIYEDYGTAANDIGDTTNRSNEIPSTDVTDKTGREHLSVYAVVVIASVVGFCLLVMLFLLKLARHSKFGMKGFVLFHKIPLDG\n",
      "INFO:root:Predicting 1th chain in ./Davis/cut_seqs/TRKB.seq\n",
      "INFO:root:477 residues in this chain.\n",
      "INFO:root:Finished prediction in 17.09 seconds.\n",
      "INFO:root:Saving prediction to ./Davis/omega_2/TRKB.pdb\n",
      "INFO:root:Saved\n",
      "INFO:root:Done!\n"
     ]
    },
    {
     "name": "stderr",
     "output_type": "stream",
     "text": [
      " 70%|███████   | 366/522 [3:03:37<1:25:05, 32.73s/it]"
     ]
    },
    {
     "name": "stdout",
     "output_type": "stream",
     "text": [
      "MST1R_1.seq\n",
      "INFO:root:Reading ./Davis/cut_seqs/MST1R_1.seq\n",
      "LSFHDGLRAVESRCERQLPEQQLCRLPEYVVRDPQGWVAGNLSARGDGAAGFTLPGFRFLPPPHPPSANLVPLKPEEHAIKFEYIGLGAVADCVGINVTVGGESCQHEFRGDMVVCPLPPSLQLGQDGAPLQVCVDGECHILGRVVRPGPDGVPQSTLLGILLPLLLLVAALATALVFSYWWRRKQLVLPPNLNDLASLDQTAGATPLPILYSGSDYRSGLALPAIDGLDSTTCVHGASFSDSEDESCVPLLRKESIQLRDLDSALLAEVKDVLIPHERVVTHSDRVIGKGHFGVVYHGEYIDQAQNRIQCAIKSLSRITEMQQVEAFLREGLLMRGLNHPNVLALIGIMLPPEGLPHVLLPYMCHGDLLQFIRSPQRNPTVKDLISFGLQVARSMEYLAEQKFVHRDLAARNCMLDESFTVKVADFGLARDILDREYYSVQQHRHARLPVKWMALESLQTYRFTTKSDVWSFGVLLWELLTRGAPPYRHIDPFDLTHFLAQGRRLPQPEYCPDSLYQVMQQCWEADPAVRPTFRVLVGEVEQIVSALLGDHYVQLPATYMNLGPSTSHEMNVRPEQPQFSPMPGNVRRPRPLSEPPRPT\n",
      "INFO:root:Predicting 1th chain in ./Davis/cut_seqs/MST1R_1.seq\n",
      "INFO:root:600 residues in this chain.\n",
      "INFO:root:Finished prediction in 28.53 seconds.\n",
      "INFO:root:Saving prediction to ./Davis/omega_2/MST1R_1.pdb\n",
      "INFO:root:Saved\n",
      "INFO:root:Done!\n"
     ]
    },
    {
     "name": "stderr",
     "output_type": "stream",
     "text": [
      " 70%|███████   | 367/522 [3:04:06<1:21:47, 31.66s/it]"
     ]
    },
    {
     "name": "stdout",
     "output_type": "stream",
     "text": [
      "p38-beta.seq\n",
      "INFO:root:Reading ./Davis/cut_seqs/p38-beta.seq\n",
      "MSGPRAGFYRQELNKTVWEVPQRLQGLRPVGSGAYGSVCSAYDARLRQKVAVKKLSRPFQSLIHARRTYRELRLLKHLKHENVIGLLDVFTPATSIEDFSEVYLVTTLMGADLNNIVKCQALSDEHVQFLVYQLLRGLKYIHSAGIIHRDLKPSNVAVNEDCELRILDFGLARQADEEMTGYVATRWYRAPEIMLNWMHYNQTVDIWSVGCIMAELLQGKALFPGSDYIDQLKRIMEVVGTPSPEVLAKISSEHARTYIQSLPPMPQKDLSSIFRGANPLAIDLLGRMLVLDSDQRVSAAEALAHAYFSQYHDPEDEPEAEPYDESVEAKERTLEEWKELTYQEVLSFKPPEPPKPPGSLEIEQ\n",
      "INFO:root:Predicting 1th chain in ./Davis/cut_seqs/p38-beta.seq\n",
      "INFO:root:364 residues in this chain.\n",
      "INFO:root:Finished prediction in 8.41 seconds.\n",
      "INFO:root:Saving prediction to ./Davis/omega_2/p38-beta.pdb\n",
      "INFO:root:Saved\n",
      "INFO:root:Done!\n"
     ]
    },
    {
     "name": "stderr",
     "output_type": "stream",
     "text": [
      " 70%|███████   | 368/522 [3:04:15<1:03:36, 24.78s/it]"
     ]
    },
    {
     "name": "stdout",
     "output_type": "stream",
     "text": [
      "CHEK2.seq\n",
      "INFO:root:Reading ./Davis/cut_seqs/CHEK2.seq\n",
      "MSRESDVEAQQSHGSSACSQPHGSVTQSQGSSSQSQGISSSSTSTMPNSSQSSHSSSGTLSSLETVSTQELYSIPEDQEPEDQEPEEPTPAPWARLWALQDGFANLECVNDNYWFGRDKSCEYCFDEPLLKRTDKYRTYSKKHFRIFREVGPKNSYIAYIEDHSGNGTFVNTELVGKGKRRPLNNNSEIALSLSRNKVFVFFDLTVDDQSVYPKALRDEYIMSKTLGSGACGEVKLAFERKTCKKVAIKIISKRKFAIGSAREADPALNVETEIEILKKLNHPCIIKIKNFFDAEDYYIVLELMEGGELFDKVVGNKRLKEATCKLYFYQMLLAVQYLHENGIIHRDLKPENVLLSSQEEDCLIKITDFGHSKILGETSLMRTLCGTPTYLAPEVLVSVGTAGYNRAVDCWSLGVILFICLSGYPPFSEHRTQVSLKDQITSGKYNFIPEVWAEVSEKALDLVKKLLVVDPKARFTTEEALRHPWLQDEDMKRKFQDLLSEENESTALPQVLAQPSTSRKRPREGEAEGAETTKRPAVCAAVL\n",
      "INFO:root:Predicting 1th chain in ./Davis/cut_seqs/CHEK2.seq\n",
      "INFO:root:543 residues in this chain.\n",
      "INFO:root:Finished prediction in 23.21 seconds.\n",
      "INFO:root:Saving prediction to ./Davis/omega_2/CHEK2.pdb\n",
      "INFO:root:Saved\n",
      "INFO:root:Done!\n"
     ]
    },
    {
     "name": "stderr",
     "output_type": "stream",
     "text": [
      " 71%|███████   | 369/522 [3:04:39<1:02:24, 24.47s/it]"
     ]
    },
    {
     "name": "stdout",
     "output_type": "stream",
     "text": [
      "TBK1.seq\n",
      "INFO:root:Reading ./Davis/cut_seqs/TBK1.seq\n",
      "MQSTSNHLWLLSDILGQGATANVFRGRHKKTGDLFAIKVFNNISFLRPVDVQMREFEVLKKLNHKNIVKLFAIEEETTTRHKVLIMEFCPCGSLYTVLEEPSNAYGLPESEFLIVLRDVVGGMNHLRENGIVHRDIKPGNIMRVIGEDGQSVYKLTDFGAARELEDDEQFVSLYGTEEYLHPDMYERAVLRKDHQKKYGATVDLWSIGVTFYHAATGSLPFRPFEGPRRNKEVMYKIITGKPSGAISGVQKAENGPIDWSGDMPVSCSLSRGLQVLLTPVLANILEADQEKCWGFDQFFAETSDILHRMVIHVFSLQQMTAHKIYIHSYNTATIFHELVYKQTKIISSNQELIYEGRRLVLEPGRLAQHFPKTTEENPIFVVSREPLNTIGLIYEKISLPKVHPRYDLDGDASMAKAITGVVCYACRIASTLLLYQELMRKGIRWLIELIKDDYNETVHKKTEVVITLDFCIRNIEKTVKVYEKLMKINLEAAELGEISDIHTKLLRLSSSQGTIETSLQDIDSRLSPGGSLADAWAHQEGTHPKDRNVEKLQVLLNCMTEIYYQFKKDKAERRLAYNEEQIHKFDKQKLYYHATKAMTHFTDECVKKYEAFLNKSEEWIRKMLHLRKQLLSLTNQCFDIEEEVSKYQEYTNELQETLPQKMFTASSGIKHTMTPIYPSSNTLVEMTLGMKKLKEEMEGVVKELAENNHILERFGSLTMDGGLRNVDCL\n",
      "INFO:root:Predicting 1th chain in ./Davis/cut_seqs/TBK1.seq\n",
      "INFO:root:729 residues in this chain.\n",
      "INFO:root:Finished prediction in 48.60 seconds.\n",
      "INFO:root:Saving prediction to ./Davis/omega_2/TBK1.pdb\n",
      "INFO:root:Saved\n",
      "INFO:root:Done!\n"
     ]
    },
    {
     "name": "stderr",
     "output_type": "stream",
     "text": [
      " 71%|███████   | 370/522 [3:05:29<1:21:54, 32.33s/it]"
     ]
    },
    {
     "name": "stdout",
     "output_type": "stream",
     "text": [
      "TRKA.seq\n",
      "INFO:root:Reading ./Davis/cut_seqs/TRKA.seq\n",
      "MLRGGRRGQLGWHSWAAGPGSLLAWLILASAGAAPCPDACCPHGSSGLRCTRDGALDSLHHLPGAENLTELYIENQQHLQHLELRDLRGLGELRNLTIVKSGLRFVAPDAFHFTPRLSRLNLSFNALESLSWKTVQGLSLQELVLSGNPLHCSCALRWLQRWEEEGLGGVPEQKLQCHGQGPLAHMPNASCGVPTLKVQVPNASVDVGDDVLLRCQVEGRGLEQAGWILTELEQSATVMKSGGLPSLGLTLANVTSDLNRKNVTCWAENDVGRAEVSVQVNVSFPASVQLHTAVEMHHWCIPFSVDGQPAPSLRWLFNGSVLNETSFIFTEFLEPAANETVRHGCLRLNQPTHVNNGNYTLLAANPFGQASASIMAAFMDNPFEFNPEDPIPDTNSTSGDPVEKKDETPFGVSVAVGLAVFACLFLSTLLLVLNKCGRRNKFGINRPAVLAPEDGLAMSLHFMTLGGSSLSPTEGKGSGLQGHIIENPQYFSDACVHHIKRRDIVLKWELGEGAFGKVFLAECHNLLPEQDKMLVAVKALKEASESARQDFQREAELLTMLQHQHIVRFFGVCTEGRPLLMVFEYMRHGDLNRFLRSHGPDAKLLAGGEDVAPGPLGLGQLLAVASQVAAGMVYLAGLHFVHRDLATRNCLVGQGLVVKIGDFGMSRDIYSTDYYRVGGRTMLPIRWMPPESILYRKFTTESDVWSFGVVLWEIFTYGKQPWYQLSNTEAIDCITQGRELERPRACPPEVYAIMRGCWQREPQQRHSIKDVHARLQALAQAPPVYLDVLG\n",
      "INFO:root:Predicting 1th chain in ./Davis/cut_seqs/TRKA.seq\n",
      "INFO:root:790 residues in this chain.\n",
      "INFO:root:Finished prediction in 58.09 seconds.\n",
      "INFO:root:Saving prediction to ./Davis/omega_2/TRKA.pdb\n",
      "INFO:root:Saved\n",
      "INFO:root:Done!\n"
     ]
    },
    {
     "name": "stderr",
     "output_type": "stream",
     "text": [
      " 71%|███████   | 371/522 [3:06:29<1:41:34, 40.36s/it]"
     ]
    },
    {
     "name": "stdout",
     "output_type": "stream",
     "text": [
      "PRKD2_0.seq\n",
      "INFO:root:Reading ./Davis/cut_seqs/PRKD2_0.seq\n",
      "MATAPSYPAGLPGSPGPGSPPPPGGLELQSPPPLLPQIPAPGSGVSFHIQIGLTREFVLLPAASELAHVKQLACSIVDQKFPECGFYGLYDKILLFKHDPTSANLLQLVRSSGDIQEGDLVEVVLSASATFEDFQIRPHALTVHSYRAPAFCDHCGEMLFGLVRQGLKCDGCGLNYHKRCAFSIPNNCSGARKRRLSSTSLASGHSVRLGTSESLPCTAEELSRSTTELLPRRPPSSSSSSSASSYTGRPIELDKMLLSKVKVPHTFLIHSYTRPTVCQACKKLLKGLFRQGLQCKDCKFNCHKRCATRVPNDCLGEALINGDVPMEEATDFSEADKSALMDESEDSGVIPGSHSENALHASEEEEGEGGKAQSSLGYIPLMRVVQSVRHTTRKSSTTLREGWVVHYSNKDTLRKRHYWRLDCKCITLFQNNTTNRYYKEIPLSEILTVESAQNFSLVPPGTNPHCFEIVTANATYFVGEMPGGTPGGPSGQGAEAARGWETAIRQALMPVILQDAPSAPGHAPHRQASLSISVSNSQIQENVDIATVYQIFPDEVLGSGQFGVVYGGKHRKTGRDVAVKVIDKLRFPTKQESQLRNEVAILQSLRHPGIVNLECMFETPEKVFVVMEKLHGDMLEMILSSEKGRLPERLTKFLITQILVALRHLHFKNIVHCDLKPENVLLASADPFPQVKLCDFGFARIIGEKSFRRSVVGTPAYLAPEVLLNQGYNRSLDMWSVGVIMYVSLSGTFPFNEDEDINDQIQNAAFMYPASPWSHISAGAIDLINNLLQVKMRKRYSVDK\n",
      "INFO:root:Predicting 1th chain in ./Davis/cut_seqs/PRKD2_0.seq\n",
      "INFO:root:800 residues in this chain.\n",
      "INFO:root:Finished prediction in 57.08 seconds.\n",
      "INFO:root:Saving prediction to ./Davis/omega_2/PRKD2_0.pdb\n",
      "INFO:root:Saved\n",
      "INFO:root:Done!\n"
     ]
    },
    {
     "name": "stderr",
     "output_type": "stream",
     "text": [
      " 71%|███████▏  | 372/522 [3:07:27<1:54:05, 45.64s/it]"
     ]
    },
    {
     "name": "stdout",
     "output_type": "stream",
     "text": [
      "RET.seq\n",
      "INFO:root:Reading ./Davis/cut_seqs/RET.seq\n",
      "MAKATSGAAGLRLLLLLLLPLLGKVALGLYFSRDAYWEKLYVDQAAGTPLLYVHALRDAPEEVPSFRLGQHLYGTYRTRLHENNWICIQEDTGLLYLNRSLDHSSWEKLSVRNRGFPLLTVYLKVFLSPTSLREGECQWPGCARVYFSFFNTSFPACSSLKPRELCFPETRPSFRIRENRPPGTFHQFRLLPVQFLCPNISVAYRLLEGEGLPFRCAPDSLEVSTRWALDREQREKYELVAVCTVHAGAREEVVMVPFPVTVYDEDDSAPTFPAGVDTASAVVEFKRKEDTVVATLRVFDADVVPASGELVRRYTSTLLPGDTWAQQTFRVEHWPNETSVQANGSFVRATVHDYRLVLNRNLSISENRTMQLAVLVNDSDFQGPGAGVLLLHFNVSVLPVSLHLPSTYSLSVSRRARRFAQIGKVCVENCLADLTGDAVSGRDEARSSGLGSQKHPGS\n",
      "INFO:root:Predicting 1th chain in ./Davis/cut_seqs/RET.seq\n",
      "INFO:root:458 residues in this chain.\n",
      "INFO:root:Finished prediction in 15.05 seconds.\n",
      "INFO:root:Saving prediction to ./Davis/omega_2/RET.pdb\n",
      "INFO:root:Saved\n",
      "INFO:root:Done!\n"
     ]
    },
    {
     "name": "stderr",
     "output_type": "stream",
     "text": [
      " 71%|███████▏  | 373/522 [3:07:42<1:30:51, 36.59s/it]"
     ]
    },
    {
     "name": "stdout",
     "output_type": "stream",
     "text": [
      "LYN.seq\n",
      "INFO:root:Reading ./Davis/cut_seqs/LYN.seq\n",
      "VPLPPRRAALPLAPRPWRLRARRAAASSPRQAGRPRHPRPRASSPSPRVQRSRPAASPYAGPAGPPRRAPHSELKSPWSSAAPKLSPRAGNMGCIKSKGKDSLSDDGVDLKTQPVPESQLLPGQRFQTKDPEEQGDIVVALYPYDGIHPDDLSFKKGEKMKVLEEHGEWWKAKSLLTKKEGFIPSNYVAKLNTLETEEWFFKDITRKDAERQLLAPGNSAGAFLIRESETLKGSFSLSVRDFDPVHGDVIKHYKIRSLDNGGYYISPRITFPCISDMIKHYQKQADGLCRRLEKACISPKPQKPWDKDAWEIPRESIKLVKRLGAGQFGEVWMGYYNNSTKVAVKTLKPGTMSVQAFLEEANLMKTLQHDKLVRLYAVVTREEPIYIITEYMAKGSLLDFLKSDEGGKVLLPKLIDFSAQIAEGMAYIERKNYIHRDLRAANVLVSESLMCKIADFGLARVIEDNEYTAREGAKFPIKWTAPEAINFGCFTIKSDVWSFGILLYEIVTYGKIPYPGRTNADVMTALSQGYRMPRVENCPDELYDIMKMCWKEKAEERPTFDYLQSVLDDFYTATEGQYQQQP\n",
      "INFO:root:Predicting 1th chain in ./Davis/cut_seqs/LYN.seq\n",
      "INFO:root:582 residues in this chain.\n",
      "INFO:root:Finished prediction in 27.20 seconds.\n",
      "INFO:root:Saving prediction to ./Davis/omega_2/LYN.pdb\n",
      "INFO:root:Saved\n",
      "INFO:root:Done!\n"
     ]
    },
    {
     "name": "stderr",
     "output_type": "stream",
     "text": [
      " 72%|███████▏  | 374/522 [3:08:10<1:23:43, 33.94s/it]"
     ]
    },
    {
     "name": "stdout",
     "output_type": "stream",
     "text": [
      "ZAP70.seq\n",
      "INFO:root:Reading ./Davis/cut_seqs/ZAP70.seq\n",
      "MPDPAAHLPFFYGSISRAEAEEHLKLAGMADGLFLLRQCLRSLGGYVLSLVHDVRFHHFPIERQLNGTYAIAGGKAHCGPAELCEFYSRDPDGLPCNLRKPCNRPSGLEPQPGVFDCLRDAMVRDYVRQTWKLEGEALEQAIISQAPQVEKLIATTAHERMPWYHSSLTREEAERKLYSGAQTDGKFLLRPRKEQGTYALSLIYGKTVYHYLISQDKAGKYCIPEGTKFDTLWQLVEYLKLKADGLIYCLKEACPNSSASNASGAAAPTLPAHPSTLTHPQRRIDTLNSDGYTPEPARITSPDKPRPMPMDTSVYESPYSDPEELKDKKLFLKRDNLLIADIELGCGNFGSVRQGVYRMRKKQIDVAIKVLKQGTEKADTEEMMREAQIMHQLDNPYIVRLIGVCQAEALMLVMEMAGGGPLHKFLVGKREEIPVSNVAELLHQVSMGMKYLEEKNFVHRDLAARNVLLVNRHYAKISDFGLSKALGADDSYYTARSAGKWPLKWYAPECINFRKFSSRSDVWSYGVTMWEALSYGQKPYKKMKGPEVMAFIEQGKRMECPPECPPELYALMSDCWIYKWEDRPDFLTVEQRMRACYYSLASKVEGPPGSTQKAEAACA\n",
      "INFO:root:Predicting 1th chain in ./Davis/cut_seqs/ZAP70.seq\n",
      "INFO:root:619 residues in this chain.\n",
      "INFO:root:Finished prediction in 31.91 seconds.\n",
      "INFO:root:Saving prediction to ./Davis/omega_2/ZAP70.pdb\n",
      "INFO:root:Saved\n",
      "INFO:root:Done!\n"
     ]
    },
    {
     "name": "stderr",
     "output_type": "stream",
     "text": [
      " 72%|███████▏  | 375/522 [3:08:42<1:22:07, 33.52s/it]"
     ]
    },
    {
     "name": "stdout",
     "output_type": "stream",
     "text": [
      "MINK_1.seq\n",
      "INFO:root:Reading ./Davis/cut_seqs/MINK_1.seq\n",
      "DFVLLKERTLDEAPRPPKKAMDYSSSSEEVESSEDDEEEGEGGPAEGSRDTPGGRSDGDTDSVSTMVVHDVEEITGTQPPYGGGTMVVQRTPEEERNLLHADSNGYTNLPDVVQPSHSPTENSKGQSPPSKDGSGDYQSRGLVKAPGKSSFTMFVDLGIYQPGGSGDSIPITALVGGEGTRLDQLQYDVRKGSVVNVNPTNTRAHSETPEIRKYKKRFNSEILCAALWGVNLLVGTENGLMLLDRSGQGKVYGLIGRRRFQQMDVLEGLNLLITISGKRNKLRVYYLSWLRNKILHNDPEVEKKQGWTTVGDMEGCGHYRVVKYERIKFLVIALKSSVEVYAWAPKPYHKFMAFKSFADLPHRPLLVDLTVEEGQRLKVIYGSSAGFHAVDVDSGNSYDIYIPVHIQSQITPHAIIFLPNTDGMEMLLCYEDEGVYVNTYGRIIKDVVLQWGEMPTSVAYICSNQIMGWGEKAIEIRSVETGHLDGVFMHKRAQRLKFLCERNDKVFFASVRSGGSSQVYFMTLNRNCIMNW\n",
      "INFO:root:Predicting 1th chain in ./Davis/cut_seqs/MINK_1.seq\n",
      "INFO:root:532 residues in this chain.\n",
      "INFO:root:Finished prediction in 21.38 seconds.\n",
      "INFO:root:Saving prediction to ./Davis/omega_2/MINK_1.pdb\n",
      "INFO:root:Saved\n",
      "INFO:root:Done!\n"
     ]
    },
    {
     "name": "stderr",
     "output_type": "stream",
     "text": [
      " 72%|███████▏  | 376/522 [3:09:04<1:13:06, 30.04s/it]"
     ]
    },
    {
     "name": "stdout",
     "output_type": "stream",
     "text": [
      "MTOR_3.seq\n",
      "INFO:root:Reading ./Davis/cut_seqs/MTOR_3.seq\n",
      "HTVMEVLREHKDSVMAVLEAFVYDPLLNWRLMDTNTKGNKRSRTRTDSYSAGQSVEILDGVELGEPAHKKTGTTVPESIHSFIGDGLVKPEALNKKAIQIINRVRDKLTGRDFSHDDTLDVPTQVELLIKQATSHENLCQCYIGWCPFW\n",
      "INFO:root:Predicting 1th chain in ./Davis/cut_seqs/MTOR_3.seq\n",
      "INFO:root:149 residues in this chain.\n",
      "INFO:root:Finished prediction in 1.31 seconds.\n",
      "INFO:root:Saving prediction to ./Davis/omega_2/MTOR_3.pdb\n",
      "INFO:root:Saved\n",
      "INFO:root:Done!\n"
     ]
    },
    {
     "name": "stderr",
     "output_type": "stream",
     "text": [
      " 72%|███████▏  | 377/522 [3:09:06<51:54, 21.48s/it]  "
     ]
    },
    {
     "name": "stdout",
     "output_type": "stream",
     "text": [
      "MTOR_0.seq\n",
      "INFO:root:Reading ./Davis/cut_seqs/MTOR_0.seq\n",
      "MLGTGPAAATTAATTSSNVSVLQQFASGLKSRNEETRAKAAKELQHYVTMELREMSQEESTRFYDQLNHHIFELVSSSDANERKGGILAIASLIGVEGGNATRIGRFANYLRNLLPSNDPVVMEMASKAIGRLAMAGDTFTAEYVEFEVKRALEWLGADRNEGRRHAAVLVLRELAISVPTFFFQQVQPFFDNIFVAVWDPKQAIREGAVAALRACLILTTQREPKEMQKPQWYRHTFEEAEKGFDETLAKEKGMNRDDRIHGALLILNELVRISSMEGERLREEMEEITQQQLVHDKYCKDLMGFGTKPRHITPFTSFQAVQPQQSNALVGLLGYSSHQGLMGFGTSPSPAKSTLVESRCCRDLMEEKFDQVCQWVLKCRNSKNSLIQMTILNLLPRLAAFRPSAFTDTQYLQDTMNHVLSCVKKEKERTAAFQALGLLSVAVRSEFKVYLPRVLDIIRAALPPKDFAHKRQKAMQVDATVFTCISMLARAMGPGIQQDIKELLEPMLAVGLSPALTAVLYDLSRQIPQLKKDIQDGLLKMLSLVLMHKPLRHPGMPKGLAHQLASPGLTTLPEASDVGSITLALRTLGSFEFEGHSLTQFVRHCADHFLNSEHKEIRMEAARTCSRLLTPSIHLISGHAHVVSQTAVQVVADVLSKLLVVGITDPDPDIRYCVLASLDERFDAHLAQAENLQALFVALNDQVFEIRELAICTVGRLSSMNPAFVMPFLRKMLIQILTELEHSGIGRIKEQSARMLGHLVSNAPRLIRPYMEPILKALILKLKDPDPDPNPGVINNVLA\n",
      "INFO:root:Predicting 1th chain in ./Davis/cut_seqs/MTOR_0.seq\n",
      "INFO:root:800 residues in this chain.\n",
      "INFO:root:Finished prediction in 56.99 seconds.\n",
      "INFO:root:Saving prediction to ./Davis/omega_2/MTOR_0.pdb\n",
      "INFO:root:Saved\n",
      "INFO:root:Done!\n"
     ]
    },
    {
     "name": "stderr",
     "output_type": "stream",
     "text": [
      " 72%|███████▏  | 378/522 [3:10:04<1:17:44, 32.40s/it]"
     ]
    },
    {
     "name": "stdout",
     "output_type": "stream",
     "text": [
      "STK36_1.seq\n",
      "INFO:root:Reading ./Davis/cut_seqs/STK36_1.seq\n",
      "SAAACLLGQLGQQGVTFDLQPMEWMAAATHALSAPAEVRLTPPGSCGFYDGLLILLLQLLTEQGKASLIRDMSSSEMWTVLWHRFSMVLRLPEEASAQEGELSLSSPPSPEPDWTLISPQGMAALLSLAMATFTQEPQLCLSCLSQHGSILMSILKHLLCPSFLNQLRQAPHGSEFLPVVVLSVCQLLCFPFALDMDADLLIGVLADLRDSEVAAHLLQVCCYHLPLMQVELPISLLTRLALMDPTSLNQFVNTVSASPRTIVSFLSVALLSDQPLLTSDLLSLLAHTARVLSPSHLSFIQELLAGSDESYRPLRSLLGHPENSVRAHTYRLLGHLLQHSMALRGALQSQSGLLSLLLLGLGDKDPVVRCSASFAVGNAAYQAGPLGPALAAAVPSMTQLLGDPQAGIRRNVASALGNLGPEGLGEELLQCEVPQRLLEMACGDPQPNVKEAALIALRSLQQEPGIHQVLVSLGASEKLSLLSLGNQSLPHSSPRPASAKHCRKLIHLLRPAHSM\n",
      "INFO:root:Predicting 1th chain in ./Davis/cut_seqs/STK36_1.seq\n",
      "INFO:root:515 residues in this chain.\n",
      "INFO:root:Finished prediction in 20.22 seconds.\n",
      "INFO:root:Saving prediction to ./Davis/omega_2/STK36_1.pdb\n",
      "INFO:root:Saved\n",
      "INFO:root:Done!\n"
     ]
    },
    {
     "name": "stderr",
     "output_type": "stream",
     "text": [
      " 73%|███████▎  | 379/522 [3:10:24<1:08:50, 28.88s/it]"
     ]
    },
    {
     "name": "stdout",
     "output_type": "stream",
     "text": [
      "TNNI3K_1.seq\n",
      "INFO:root:Reading ./Davis/cut_seqs/TNNI3K_1.seq\n",
      "SLQYTPIDKYGYVSDPMSSMHFHSCRNSSSFEDSS\n",
      "INFO:root:Predicting 1th chain in ./Davis/cut_seqs/TNNI3K_1.seq\n",
      "INFO:root:35 residues in this chain.\n",
      "INFO:root:Finished prediction in 0.51 seconds.\n",
      "INFO:root:Saving prediction to ./Davis/omega_2/TNNI3K_1.pdb\n",
      "INFO:root:Saved\n",
      "INFO:root:Done!\n"
     ]
    },
    {
     "name": "stderr",
     "output_type": "stream",
     "text": [
      " 73%|███████▎  | 380/522 [3:10:25<48:18, 20.41s/it]  "
     ]
    },
    {
     "name": "stdout",
     "output_type": "stream",
     "text": [
      "IKK-alpha.seq\n",
      "INFO:root:Reading ./Davis/cut_seqs/IKK-alpha.seq\n",
      "MERPPGLRPGAGGPWEMRERLGTGGFGNVCLYQHRELDLKIAIKSCRLELSTKNRERWCHEIQIMKKLNHANVVKACDVPEELNILIHDVPLLAMEYCSGGDLRKLLNKPENCCGLKESQILSLLSDIGSGIRYLHENKIIHRDLKPENIVLQDVGGKIIHKIIDLGYAKDVDQGSLCTSFVGTLQYLAPELFENKPYTATVDYWSFGTMVFECIAGYRPFLHHLQPFTWHEKIKKKDPKCIFACEEMSGEVRFSSHLPQPNSLCSLVVEPMENWLQLMLNWDPQQRGGPVDLTLKQPRCFVLMDHILNLKIVHILNMTSAKIISFLLPPDESLHSLQSRIERETGINTGSQELLSETGISLDPRKPASQCVLDGVRGCDSYMVYLFDKSKTVYEGPFASRSLSDCVNYIVQDSKIQLPIIQLRKVWAEAVHYVSGLKEDYSRLFQGQRAAMLSLLRYNANLTKMKNTLISASQQLKAKLEFFHKSIQLDLERYSEQMTYGISSEKMLKAWKEMEEKAIHYAEVGVIGYLEDQIMSLHAEIMELQKSPYGRRQGDLMESLEQRAIDLYKQLKHRPSDHSYSDSTEMVKIIVHTVQSQDRVLKELFGHLSKLLGCKQKIIDLLPKVEVALSNIKEADNTVMFMQGKRQKEIWHLLKIACTQSSARSLVGSSLEGAVTPQTSAWLPPTSAEHDHSLSCVVTPQDGETSAQMIEENLNCLGHLSTIIHEANEEQGNSMMNLDWSWLTE\n",
      "INFO:root:Predicting 1th chain in ./Davis/cut_seqs/IKK-alpha.seq\n",
      "INFO:root:745 residues in this chain.\n",
      "INFO:root:Finished prediction in 51.38 seconds.\n",
      "INFO:root:Saving prediction to ./Davis/omega_2/IKK-alpha.pdb\n",
      "INFO:root:Saved\n",
      "INFO:root:Done!\n"
     ]
    },
    {
     "name": "stderr",
     "output_type": "stream",
     "text": [
      " 73%|███████▎  | 381/522 [3:11:17<1:10:21, 29.94s/it]"
     ]
    },
    {
     "name": "stdout",
     "output_type": "stream",
     "text": [
      "BMPR2_0.seq\n",
      "INFO:root:Reading ./Davis/cut_seqs/BMPR2_0.seq\n",
      "MTSSLQRPWRVPWLPWTILLVSTAAASQNQERLCAFKDPYQQDLGIGESRISHENGTILCSKGSTCYGLWEKSKGDINLVKQGCWSHIGDPQECHYEECVVTTTPPSIQNGTYRFCCCSTDLCNVNFTENFPPPDTTPLSPPHSFNRDETIIIALASVSVLAVLIVALCFGYRMLTGDRKQGLHSMNMMEAAASEPSLDLDNLKLLELIGRGRYGAVYKGSLDERPVAVKVFSFANRQNFINEKNIYRVPLMEHDNIARFIVGDERVTADGRMEYLLVMEYYPNGSLCKYLSLHTSDWVSSCRLAHSVTRGLAYLHTELPRGDHYKPAISHRDLNSRNVLVKNDGTCVISDFGLSMRLTGNRLVRPGEEDNAAISEVGTIRYMAPEVLEGAVNLRDCESALKQVDMYALGLIYWEIFMRCTDLFPGESVPEYQMAFQTEVGNHPTFEDMQVLVSREKQRPKFPEAWKENSLAVRSLKETIEDCWDQDAEARLTAQCAEERMAELMMIWERNKSVSPTVNPMSTAMQNERNLSHNRRVPKIGPYPDYSSSSYIEDSIHHTDSIVKNISSEHSMSSTPLTIGEKNRNSINYERQQAQARIPSPETSVTSLSTNTTTTNTTGLTPSTGMTTISEMPYPDETNLHTTNVAQSIGPTPVCLQLTEEDLETNKLDPKEVDKNLKESSDENLMEHSLKQFSGPDPLSSTSSSLLYPLIKLAVEATGQQDFTQTANGQACLIPDVLPTQIYPLPKQQNLPKRPTSLPLNTKNSTKEPRLKFGSKHKSNLKQVETGVAKMNTINAAEPH\n",
      "INFO:root:Predicting 1th chain in ./Davis/cut_seqs/BMPR2_0.seq\n",
      "INFO:root:800 residues in this chain.\n",
      "INFO:root:Finished prediction in 57.09 seconds.\n",
      "INFO:root:Saving prediction to ./Davis/omega_2/BMPR2_0.pdb\n",
      "INFO:root:Saved\n",
      "INFO:root:Done!\n"
     ]
    },
    {
     "name": "stderr",
     "output_type": "stream",
     "text": [
      " 73%|███████▎  | 382/522 [3:12:15<1:29:26, 38.34s/it]"
     ]
    },
    {
     "name": "stdout",
     "output_type": "stream",
     "text": [
      "GCN2(KinDom2S808G)_2.seq\n",
      "INFO:root:Reading ./Davis/cut_seqs/GCN2(KinDom2S808G)_2.seq\n",
      "TTVKQLLSRLPKQRYLKLVCDEIYNIKVEKKVSVLFLYSYRDDYYRILF\n",
      "INFO:root:Predicting 1th chain in ./Davis/cut_seqs/GCN2(KinDom2S808G)_2.seq\n",
      "INFO:root:49 residues in this chain.\n",
      "INFO:root:Finished prediction in 0.53 seconds.\n",
      "INFO:root:Saving prediction to ./Davis/omega_2/GCN2(KinDom2S808G)_2.pdb\n",
      "INFO:root:Saved\n",
      "INFO:root:Done!\n"
     ]
    },
    {
     "name": "stderr",
     "output_type": "stream",
     "text": [
      " 73%|███████▎  | 383/522 [3:12:16<1:02:41, 27.06s/it]"
     ]
    },
    {
     "name": "stdout",
     "output_type": "stream",
     "text": [
      "GCN2(KinDom2S808G)_1.seq\n",
      "INFO:root:Reading ./Davis/cut_seqs/GCN2(KinDom2S808G)_1.seq\n",
      "QMEYCEKSTLRDTIDQGLYRDTVRLWRLFREILDGLAYIHEKGMIHRDLKPVNIFLDSDDHVKIGDFGLATDHLAFSADSKQDDQTGDLIKSDPSGHLTGMVGTALYVSPEVQGSTKSAYNQKVDLFSLGIIFFEMSYHPMVTASERIFVLNQLRDPTSPKFPEDFDDGEHAKQKSVISWLLNHDPAKRPTATELLKSELLPPPQMEESELHEVLHHTLTNVDGKAYRTMMAQIFSQRISPAIDYTYDSDILKGNFSIRTAKMQQHVCETIIRIFKRHGAVQLCTPLLLPRNRQIYEHNEAALFMDHSGMLVMLPFDLRIPFARYVARNNILNLKRYCIERVFRPRKLDRFHPKELLECAFDIVTSTTNSFLPTAEIIYTIYEIIQEFPALQERNYSIYLNHTMLLKAILLHCGIPEDKLSQVYIILYDAVTEKLTRREVEAKFCNLSLSSNSLCRLYKFIEQKGDLQDLMPTINSLIKQKTGIAQLVKYGLKDLEEVVGLLKKLGIKLQVLINLGLVYKVQQHNGIIFQFVAFIKRRQRAVPEILAAGGRYDLLIPQFRGPQALGPVPTAIGVSIAIDKISAAVLNMEESVTISSCDLLVVSVGQMSMSRAINLTQKLWTAGITAEIMYDWSQSQEELQEYCRHHEITYVALVSDKEGSHVKVKSFEKERQTEKRVLETELVDHVLQKLRTKVTDERNGREASDNLAVQNLKGSFSNASGLFEIHGATVVPIVSVLAPEKLSASTRRRYETQVQTRLQTSLANLHQKSSEIEILAVDLPKETILQFLSLEWDADEQAFN\n",
      "INFO:root:Predicting 1th chain in ./Davis/cut_seqs/GCN2(KinDom2S808G)_1.seq\n",
      "INFO:root:800 residues in this chain.\n",
      "INFO:root:Finished prediction in 56.99 seconds.\n",
      "INFO:root:Saving prediction to ./Davis/omega_2/GCN2(KinDom2S808G)_1.pdb\n",
      "INFO:root:Saved\n",
      "INFO:root:Done!\n"
     ]
    },
    {
     "name": "stderr",
     "output_type": "stream",
     "text": [
      " 74%|███████▎  | 384/522 [3:13:14<1:23:28, 36.30s/it]"
     ]
    },
    {
     "name": "stdout",
     "output_type": "stream",
     "text": [
      "AKT1.seq\n",
      "INFO:root:Reading ./Davis/cut_seqs/AKT1.seq\n",
      "MSDVAIVKEGWLHKRGEYIKTWRPRYFLLKNDGTFIGYKERPQDVDQREAPLNNFSVAQCQLMKTERPRPNTFIIRCLQWTTVIERTFHVETPEEREEWTTAIQTVADGLKKQEEEEMDFRSGSPSDNSGAEEMEVSLAKPKHRVTMNEFEYLKLLGKGTFGKVILVKEKATGRYYAMKILKKEVIVAKDEVAHTLTENRVLQNSRHPFLTALKYSFQTHDRLCFVMEYANGGELFFHLSRERVFSEDRARFYGAEIVSALDYLHSEKNVVYRDLKLENLMLDKDGHIKITDFGLCKEGIKDGATMKTFCGTPEYLAPEVLEDNDYGRAVDWWGLGVVMYEMMCGRLPFYNQDHEKLFELILMEEIRFPRTLGPEAKSLLSGLLKKDPKQRLGGGSEDAKEIMQHRFFAGIVWQHVYEKKLSPPFKPQVTSETDTRYFDEEFTAQMITITPPDQDDSMECVDSERRPHFPQFSYSASGTA\n",
      "INFO:root:Predicting 1th chain in ./Davis/cut_seqs/AKT1.seq\n",
      "INFO:root:480 residues in this chain.\n",
      "INFO:root:Finished prediction in 16.73 seconds.\n",
      "INFO:root:Saving prediction to ./Davis/omega_2/AKT1.pdb\n",
      "INFO:root:Saved\n",
      "INFO:root:Done!\n"
     ]
    },
    {
     "name": "stderr",
     "output_type": "stream",
     "text": [
      " 74%|███████▍  | 385/522 [3:13:31<1:09:49, 30.58s/it]"
     ]
    },
    {
     "name": "stdout",
     "output_type": "stream",
     "text": [
      "PRP4_1.seq\n",
      "INFO:root:Reading ./Davis/cut_seqs/PRP4_1.seq\n",
      "LALKLLKRCNILHADIKPDNILVNESKTILKLCDFGSASHVADNDITPYLVSRFYRAPEIIIGKSYDYGIDMWSVGCTLYELYTGKILFPGKTNNHMLKLAMDLKGKMPNKMIRKGVFKDQHFDQNLNFMYIEVDKVTEREKVTVMSTINPTKDLLADLIGCQRLPEDQRKKVHQLKDLLDQILMLDPAKRISINQALQHAFIQEKI\n",
      "INFO:root:Predicting 1th chain in ./Davis/cut_seqs/PRP4_1.seq\n",
      "INFO:root:207 residues in this chain.\n",
      "INFO:root:Finished prediction in 2.38 seconds.\n",
      "INFO:root:Saving prediction to ./Davis/omega_2/PRP4_1.pdb\n",
      "INFO:root:Saved\n",
      "INFO:root:Done!\n"
     ]
    },
    {
     "name": "stderr",
     "output_type": "stream",
     "text": [
      " 74%|███████▍  | 386/522 [3:13:33<50:16, 22.18s/it]  "
     ]
    },
    {
     "name": "stdout",
     "output_type": "stream",
     "text": [
      "MELK.seq\n",
      "INFO:root:Reading ./Davis/cut_seqs/MELK.seq\n",
      "MKDYDELLKYYELHETIGTGGFAKVKLACHILTGEMVAIKIMDKNTLGSDLPRIKTEIEALKNLRHQHICQLYHVLETANKIFMVLEYCPGGELFDYIISQDRLSEEETRVVFRQIVSAVAYVHSQGYAHRDLKPENLLFDEYHKLKLIDFGLCAKPKGNKDYHLQTCCGSLAYAAPELIQGKSYLGSEADVWSMGILLYVLMCGFLPFDDDNVMALYKKIMRGKYDVPKWLSPSSILLLQQMLQVDPKKRISMKNLLNHPWIMQDYNYPVEWQSKNPFIHLDDDCVTELSVHHRNNRQTMEDLISLWQYDHLTATYLLLLAKKARGKPVRLRLSSFSCGQASATPFTDIKSNNWSLEDVTASDKNYVAGLIDYDWCEDDLSTGAATPRTSQFTKYWTESNGVESKSLTPALCRTPANKLKNKENVYTPKSAVKNEEYFMFPEPKTPVNKNQHKREILTTPNRYTTPSKARNQCLKETPIKIPVNSTGTDKLMTGVISPERRCRSVELDLNQAHMEETPKRKGAKVFGSLERGLDKVITVLTRSKRKGSARDGPRRLKLHYNVTTTRLVNPDQLLNEIMSILPKKHVDFVQKGYTLKCQTQSDFGKVTMQFELEVCQLQKPDVVGIRRQRLKGDAWVYKRLVEDILSSCKV\n",
      "INFO:root:Predicting 1th chain in ./Davis/cut_seqs/MELK.seq\n",
      "INFO:root:651 residues in this chain.\n",
      "INFO:root:Finished prediction in 36.14 seconds.\n",
      "INFO:root:Saving prediction to ./Davis/omega_2/MELK.pdb\n",
      "INFO:root:Saved\n",
      "INFO:root:Done!\n"
     ]
    },
    {
     "name": "stderr",
     "output_type": "stream",
     "text": [
      " 74%|███████▍  | 387/522 [3:14:10<59:49, 26.59s/it]"
     ]
    },
    {
     "name": "stdout",
     "output_type": "stream",
     "text": [
      "DYRK1B.seq\n",
      "INFO:root:Reading ./Davis/cut_seqs/DYRK1B.seq\n",
      "MAVPPGHGPFSGFPGPQEHTQVLPDVRLLPRRLPLAFRDATSAPLRKLSVDLIKTYKHINEVYYAKKKRRAQQAPPQDSSNKKEKKVLNHGYDDDNHDYIVRSGERWLERYEIDSLIGKGSFGQVVKAYDHQTQELVAIKIIKNKKAFLNQAQIELRLLELMNQHDTEMKYYIVHLKRHFMFRNHLCLVFELLSYNLYDLLRNTHFRGVSLNLTRKLAQQLCTALLFLATPELSIIHCDLKPENILLCNPKRSAIKIVDFGSSCQLGQRIYQYIQSRFYRSPEVLLGTPYDLAIDMWSLGCILVEMHTGEPLFSGSNEVDQMNRIVEVLGIPPAAMLDQAPKARKYFERLPGGGWTLRRTKELRKDYQGPGTRRLQEVLGVQTGGPGGRRAGEPGHSPADYLRFQDLVLRMLEYEPAARISPLGALQHGFFRRTADEATNTGPAGSSASTSPAPLDTCPSSSTASSISSSGGSSGSSSDNRTYRYSNRYCGGPGPPITDCEMNSPQVPPSQPLRPWAGGDVPHKTHQAPASASSLPGTGAQLPPQPRYLGRPPSPTSPPPPELMDVSLVGGPADCSPPHPAPAPQHPAASALRTRMTGGRPPLPPPDDPATLGPHLGLRGVPQSTAASS\n",
      "INFO:root:Predicting 1th chain in ./Davis/cut_seqs/DYRK1B.seq\n",
      "INFO:root:629 residues in this chain.\n",
      "INFO:root:Finished prediction in 33.82 seconds.\n",
      "INFO:root:Saving prediction to ./Davis/omega_2/DYRK1B.pdb\n",
      "INFO:root:Saved\n",
      "INFO:root:Done!\n"
     ]
    },
    {
     "name": "stderr",
     "output_type": "stream",
     "text": [
      " 74%|███████▍  | 388/522 [3:14:45<1:04:38, 28.94s/it]"
     ]
    },
    {
     "name": "stdout",
     "output_type": "stream",
     "text": [
      "EPHA2_1.seq\n",
      "INFO:root:Reading ./Davis/cut_seqs/EPHA2_1.seq\n",
      "WSFGIVMWEVMTYGERPYWELSNHEVMKAINDGFRLPTPMDCPSAIYQLMMQCWQQERARRPKFADIVSILDKLIRAPDSLKTLADFDPRVSIRLPSTSGSEGVPFRTVSEWLESIKMQQYTEHFMAAGYTAIEKVVQMTNDDIKRIGVRLPGHQKRIAYSLLGLKDQVNTVGIPI\n",
      "INFO:root:Predicting 1th chain in ./Davis/cut_seqs/EPHA2_1.seq\n",
      "INFO:root:176 residues in this chain.\n",
      "INFO:root:Finished prediction in 1.70 seconds.\n",
      "INFO:root:Saving prediction to ./Davis/omega_2/EPHA2_1.pdb\n",
      "INFO:root:Saved\n",
      "INFO:root:Done!\n"
     ]
    },
    {
     "name": "stderr",
     "output_type": "stream",
     "text": [
      " 75%|███████▍  | 389/522 [3:14:47<46:10, 20.83s/it]  "
     ]
    },
    {
     "name": "stdout",
     "output_type": "stream",
     "text": [
      "QSK_1.seq\n",
      "INFO:root:Reading ./Davis/cut_seqs/QSK_1.seq\n",
      "RPLSKQLSADSAEAHSLNVNRFSPANYDQAHLHPHLFSDQSRGSPSSYSPSTGVGFSPTQALKVPPLDQFPTFPPSAHQQPPHYTTSALQQALLSPTPPDYTRHQQVPHILQGLLSPRHSLTGHSDIRLPPTEFAQLIKRQQQQRQQQQQQQQQQEYQELFRHMNQGDAGSLAPSLGGQSMTERQALSYQNADSYHHHTSPQHLLQIRAQECVSQASSPTPPHGYAHQPALMHSESMEEDCSCEGAKDGFQDSKSSSTLTKGCHDSPLLLSTGGPGDPESLLGTVSHAQELGIHPYGHQPTAAFSKNKVPSREPVIGNCMDRSSPGQAVELPDHNGLGYPARPSVHEHHRPRALQRHHTIQNSDDAYVQLDNLPGMSLVAGKALSSARMSDAVLSQSSLMGSQQFQDGENEECGASLGGHEHPDLSDGSQHLNSSCYPSTCITDILLSYKHPEVSFSMEQAGV\n",
      "INFO:root:Predicting 1th chain in ./Davis/cut_seqs/QSK_1.seq\n",
      "INFO:root:463 residues in this chain.\n",
      "INFO:root:Finished prediction in 15.54 seconds.\n",
      "INFO:root:Saving prediction to ./Davis/omega_2/QSK_1.pdb\n",
      "INFO:root:Saved\n",
      "INFO:root:Done!\n"
     ]
    },
    {
     "name": "stderr",
     "output_type": "stream",
     "text": [
      " 75%|███████▍  | 390/522 [3:15:03<42:37, 19.37s/it]"
     ]
    },
    {
     "name": "stdout",
     "output_type": "stream",
     "text": [
      "ERBB3_0.seq\n",
      "INFO:root:Reading ./Davis/cut_seqs/ERBB3_0.seq\n",
      "MRANDALQVLGLLFSLARGSEVGNSQAVCPGTLNGLSVTGDAENQYQTLYKLYERCEVVMGNLEIVLTGHNADLSFLQWIREVTGYVLVAMNEFSTLPLPNLRVVRGTQVYDGKFAIFVMLNYNTNSSHALRQLRLTQLTEILSGGVYIEKNDKLCHMDTIDWRDIVRDRDAEIVVKDNGRSCPPCHEVCKGRCWGPGSEDCQTLTKTICAPQCNGHCFGPNPNQCCHDECAGGCSGPQDTDCFACRHFNDSGACVPRCPQPLVYNKLTFQLEPNPHTKYQYGGVCVASCPHNFVVDQTSCVRACPPDKMEVDKNGLKMCEPCGGLCPKACEGTGSGSRFQTVDSSNIDGFVNCTKILGNLDFLITGLNGDPWHKIPALDPEKLNVFRTVREITGYLNIQSWPPHMHNFSVFSNLTTIGGRSLYNRGFSLLIMKNLNVTSLGFRSLKEISAGRIYISANRQLCYHHSLNWTKVLRGPTEERLDIKHNRPRRDCVAEGKVCDPLCSSGGCWGPGPGQCLSCRNYSRGGVCVTHCNFLNGEPREFAHEAECFSCHPECQPMEGTATCNGSGSDTCAQCAHFRDGPHCVSSCPHGVLGAKGPIYKYPDVQNECRPCHENCTQGCKGPELQDCLGQTLVLIGKTHLTMALTVIAGLVVIFMMLGGTFLYWRGRRIQNKRAMRRYLERGESIEPLDPSEKANKVLARIFKETELRKLKVLGSGVFGTVHKGVWIPEGESIKIPVCIKVIEDKSGRQSFQAVTDHMLAIGSLDHAHIVRLLGLCPGSSLQLVTQYLPLGSLLDHVR\n",
      "INFO:root:Predicting 1th chain in ./Davis/cut_seqs/ERBB3_0.seq\n",
      "INFO:root:800 residues in this chain.\n",
      "INFO:root:Finished prediction in 57.01 seconds.\n",
      "INFO:root:Saving prediction to ./Davis/omega_2/ERBB3_0.pdb\n",
      "INFO:root:Saved\n",
      "INFO:root:Done!\n"
     ]
    },
    {
     "name": "stderr",
     "output_type": "stream",
     "text": [
      " 75%|███████▍  | 391/522 [3:16:01<1:07:33, 30.95s/it]"
     ]
    },
    {
     "name": "stdout",
     "output_type": "stream",
     "text": [
      "ACVRL1.seq\n",
      "INFO:root:Reading ./Davis/cut_seqs/ACVRL1.seq\n",
      "MTLGSPRKGLLMLLMALVTQGDPVKPSRGPLVTCTCESPHCKGPTCRGAWCTVVLVREEGRHPQEHRGCGNLHRELCRGRPTEFVNHYCCDSHLCNHNVSLVLEATQPPSEQPGTDGQLALILGPVLALLALVALGVLGLWHVRRRQEKQRGLHSELGESSLILKASEQGDSMLGDLLDSDCTTGSGSGLPFLVQRTVARQVALVECVGKGRYGEVWRGLWHGESVAVKIFSSRDEQSWFRETEIYNTVLLRHDNILGFIASDMTSRNSSTQLWLITHYHEHGSLYDFLQRQTLEPHLALRLAVSAACGLAHLHVEIFGTQGKPAIAHRDFKSRNVLVKSNLQCCIADLGLAVMHSQGSDYLDIGNNPRVGTKRYMAPEVLDEQIRTDCFESYKWTDIWAFGLVLWEIARRTIVNGIVEDYRPPFYDVVPNDPSFEDMKKVVCVDQQTPTIPNRLAADPVLSGLAQMMRECWYPNPSARLTALRIKKTLQKISNSPEKPKVIQ\n",
      "INFO:root:Predicting 1th chain in ./Davis/cut_seqs/ACVRL1.seq\n",
      "INFO:root:503 residues in this chain.\n",
      "INFO:root:Finished prediction in 19.28 seconds.\n",
      "INFO:root:Saving prediction to ./Davis/omega_2/ACVRL1.pdb\n",
      "INFO:root:Saved\n",
      "INFO:root:Done!\n"
     ]
    },
    {
     "name": "stderr",
     "output_type": "stream",
     "text": [
      " 75%|███████▌  | 392/522 [3:16:20<59:50, 27.62s/it]  "
     ]
    },
    {
     "name": "stdout",
     "output_type": "stream",
     "text": [
      "LATS2_0.seq\n",
      "INFO:root:Reading ./Davis/cut_seqs/LATS2_0.seq\n",
      "MRPKTFPATTYSGNSRQRLQEIREGLKQPSKSSVQGLPAGPNSDTSLDAKVLGSKDATRQQQQMRATPKFGPYQKALREIRYSLLPFANESGTSAAAEVNRQMLQELVNAGCDQEMAGRALKQTGSRSIEAALEYISKMGYLDPRNEQIVRVIKQTSPGKGLMPTPVTRRPSFEGTGDSFASYHQLSGTPYEGPSFGADGPTALEEMPRPYVDYLFPGVGPHGPGHQHQHPPKGYGASVEAAGAHFPLQGAHYGRPHLLVPGEPLGYGVQRSPSFQSKTPPETGGYASLPTKGQGGPPGAGLAFPPPAAGLYVPHPHHKQAGPAAHQLHVLGSRSQVFASDSPPQSLLTPSRNSLNVDLYELGSTSVQQWPAATLARRDSLQKPGLEAPPRAHVAFRPDCPVPSRTNSFNSHQPRPGPPGKAEPSLPAPNTVTAVTAAHILHPVKSVRVLRPEPQTAVGPSHPAWVPAPAPAPAPAPAPAAEGLDAKEEHALALGGAGAFPLDVEYGGPDRRCPPPPYPKHLLLRSKSEQYDLDSLCAGMEQSLRAGPNEPEGGDKSRKSAKGDKGGKDKKQIQTSPVPVRKNSRDEEKRESRIKSYSPYAFKFFMEQHVENVIKTYQQKVNRRLQLEQEMAKAGLCEAEQEQMRKILYQKESNYNRLKRAKMDKSMFVKIKTLGIGAFGEVCLACKVDTHALYAMKTLRKKDVLNRNQVAHVKAERDILAEADNEWVVKLYYSFQDKDSLYFVMDYIPGGDMMSLLIRMEVFPEHLARFYIAELTLAIESVHKMGFIHRDIKPDNILID\n",
      "INFO:root:Predicting 1th chain in ./Davis/cut_seqs/LATS2_0.seq\n",
      "INFO:root:800 residues in this chain.\n",
      "INFO:root:Finished prediction in 57.15 seconds.\n",
      "INFO:root:Saving prediction to ./Davis/omega_2/LATS2_0.pdb\n",
      "INFO:root:Saved\n",
      "INFO:root:Done!\n"
     ]
    },
    {
     "name": "stderr",
     "output_type": "stream",
     "text": [
      " 75%|███████▌  | 393/522 [3:17:18<1:18:59, 36.74s/it]"
     ]
    },
    {
     "name": "stdout",
     "output_type": "stream",
     "text": [
      "CSF1R_1.seq\n",
      "INFO:root:Reading ./Davis/cut_seqs/CSF1R_1.seq\n",
      "RDIMNDSNYIVKGNARLPVKWMAPESIFDCVYTVQSDVWSYGILLWEIFSLGLNPYPGILVNSKFYKLVKDGYQMAQPAFAPKNIYSIMQACWALEPTHRPTFQQICSFLQEQAQEDRRERDYTNLPSSSRSGGSGSSSSELEEESSSEHLTCCEQGDIAQPLLQPNNYQFC\n",
      "INFO:root:Predicting 1th chain in ./Davis/cut_seqs/CSF1R_1.seq\n",
      "INFO:root:172 residues in this chain.\n",
      "INFO:root:Finished prediction in 1.64 seconds.\n",
      "INFO:root:Saving prediction to ./Davis/omega_2/CSF1R_1.pdb\n",
      "INFO:root:Saved\n",
      "INFO:root:Done!\n"
     ]
    },
    {
     "name": "stderr",
     "output_type": "stream",
     "text": [
      " 75%|███████▌  | 394/522 [3:17:20<56:02, 26.27s/it]  "
     ]
    },
    {
     "name": "stdout",
     "output_type": "stream",
     "text": [
      "TRKC_1.seq\n",
      "INFO:root:Reading ./Davis/cut_seqs/TRKC_1.seq\n",
      "DVMLGCWQREPQQRLNIKEIYKILHALGKATPIYLDILG\n",
      "INFO:root:Predicting 1th chain in ./Davis/cut_seqs/TRKC_1.seq\n",
      "INFO:root:39 residues in this chain.\n",
      "INFO:root:Finished prediction in 0.49 seconds.\n",
      "INFO:root:Saving prediction to ./Davis/omega_2/TRKC_1.pdb\n",
      "INFO:root:Saved\n",
      "INFO:root:Done!\n"
     ]
    },
    {
     "name": "stderr",
     "output_type": "stream",
     "text": [
      " 76%|███████▌  | 395/522 [3:17:21<39:18, 18.57s/it]"
     ]
    },
    {
     "name": "stdout",
     "output_type": "stream",
     "text": [
      "MAPKAPK2.seq\n",
      "INFO:root:Reading ./Davis/cut_seqs/MAPKAPK2.seq\n",
      "MLSNSQGQSPPVPFPAPAPPPQPPTPALPHPPAQPPPPPPQQFPQFHVKSGLQIKKNAIIDDYKVTSQVLGLGINGKVLQIFNKRTQEKFALKMLQDCPKARREVELHWRASQCPHIVRIVDVYENLYAGRKCLLIVMECLDGGELFSRIQDRGDQAFTEREASEIMKSIGEAIQYLHSINIAHRDVKPENLLYTSKRPNAILKLTDFGFAKETTSHNSLTTPCYTPYYVAPEVLGPEKYDKSCDMWSLGVIMYILLCGYPPFYSNHGLAISPGMKTRIRMGQYEFPNPEWSEVSEEVKMLIRNLLKTEPTQRMTITEFMNHPWIMQSTKVPQTPLHTSRVLKEDKERWEDVKEEMTSALATMRVDYEQIKIKKIEDASNPLLLKRRKKARALEAAALAH\n",
      "INFO:root:Predicting 1th chain in ./Davis/cut_seqs/MAPKAPK2.seq\n",
      "INFO:root:400 residues in this chain.\n",
      "INFO:root:Finished prediction in 10.80 seconds.\n",
      "INFO:root:Saving prediction to ./Davis/omega_2/MAPKAPK2.pdb\n",
      "INFO:root:Saved\n",
      "INFO:root:Done!\n"
     ]
    },
    {
     "name": "stderr",
     "output_type": "stream",
     "text": [
      " 76%|███████▌  | 396/522 [3:17:32<34:19, 16.34s/it]"
     ]
    },
    {
     "name": "stdout",
     "output_type": "stream",
     "text": [
      "LRRK2_1.seq\n",
      "INFO:root:Reading ./Davis/cut_seqs/LRRK2_1.seq\n",
      "NSICLGGFCIGKVEPSWLGPLFPDKTSNLRKQTNIASTLARMVIRYQMKSAVEEGTASGSDGNFSEDVLSKFDEWTFIPDSSMDSVFAQSDDLDSEGSEGSFLVKKKSNSISVGEFYRDAVLQRCSPNLQRHSNSLGPIFDHEDLLKRKRKILSSDDSLRSSKLQSHMRHSDSISSLASEREYITSLDLSANELRDIDALSQKCCISVHLEHLEKLELHQNALTSFPQQLCETLKSLTHLDLHSNKFTSFPSYLLKMSCIANLDVSRNDIGPSVVLDPTVKCPTLKQFNLSYNQLSFVPENLTDVVEKLEQLILEGNKISGICSPLRLKELKILNLSKNHISSLSENFLEACPKVESFSARMNFLAAMPFLPPSMTILKLSQNKFSCIPEAILNLPHLRSLDMSSNDIQYLPGPAHWKSLNLRELLFSHNQISILDLSEKAYLWSRVEKLHLSHNKLKEIPPEIGCLENLTSLDVSYNLELRSFPNEMGKLSKIWDLPLDELHLNFDFKHIGCKAKDIIRFLQQRLKKAVPYNRMKLMIVGNTGSGKTTLLQQLMKTKKSDLGMQSATVGIDVKDWPIQIRDKRKRDLVLNVWDFAGREEFYSTHPHFMTQRALYLAVYDLSKGQAEVDAMKPWLFNIKARASSSPVILVGTHLDVSDEKQRKACMSKITKELLNKRGFPAIRDYHFVNATEESDALAKLRKTIINESLNFKIRDQLVVGQLIPDCYVELEKIILSERKNVPIEFPVIDRKRLLQLVRENQLQLDENELPHAVHFLNESGVLLHFQDPALQLSDLYFVEP\n",
      "INFO:root:Predicting 1th chain in ./Davis/cut_seqs/LRRK2_1.seq\n",
      "INFO:root:800 residues in this chain.\n",
      "INFO:root:Finished prediction in 57.05 seconds.\n",
      "INFO:root:Saving prediction to ./Davis/omega_2/LRRK2_1.pdb\n",
      "INFO:root:Saved\n",
      "INFO:root:Done!\n"
     ]
    },
    {
     "name": "stderr",
     "output_type": "stream",
     "text": [
      " 76%|███████▌  | 397/522 [3:18:30<1:00:01, 28.81s/it]"
     ]
    },
    {
     "name": "stdout",
     "output_type": "stream",
     "text": [
      "MARK1.seq\n",
      "INFO:root:Reading ./Davis/cut_seqs/MARK1.seq\n",
      "MSARTPLPTVNERDTENHTSVDGYTEPHIQPTKSSSRQNIPRCRNSITSATDEQPHIGNYRLQKTIGKGNFAKVKLARHVLTGREVAVKIIDKTQLNPTSLQKLFREVRIMKILNHPNIVKLFEVIETEKTLYLVMEYASGGEVFDYLVAHGRMKEKEARAKFRQIVSAVQYCHQKYIVHRDLKAENLLLDGDMNIKIADFGFSNEFTVGNKLDTFCGSPPYAAPELFQGKKYDGPEVDVWSLGVILYTLVSGSLPFDGQNLKELRERVLRGKYRIPFYMSTDCENLLKKLLVLNPIKRGSLEQIMKDRWMNVGHEEEELKPYTEPDPDFNDTKRIDIMVTMGFARDEINDALINQKYDEVMATYILLGRKPPEFEGGESLSSGNLCQRSRPSSDLNNSTLQSPAHLKVQRSISANQKQRRFSDHAGPSIPPAVSYTKRPQANSVESEQKEEWDKDVARKLGSTTVGSKSEMTASPLVGPERKKSSTIPSNNVYSGGSMARRNTYVCERTTDRYVALQNGKDSSLTEMSVSSISSAGSSVASAVPSARPRHQKSMSTSGHPIKVTLPTIKDGSEAYRPGTTQRVPAASPSAHSISTATPDRTRFPRGSSSRSTFHGEQLRERRSVAYNGPPASPSHETGAFAHARRGTSTGIISKITSKFVRRDPSEGEASGRTDTSRSTSGEPKERDKEEGKDSKPRSLRFTWSMKTTSSMDPNDMMREIRKVLDANNCDYEQKERFLLFCVHGDARQDSLVQWEMEVCKLPRLSLNGVRFKRISGTSIAFKNIASKIANELKL\n",
      "INFO:root:Predicting 1th chain in ./Davis/cut_seqs/MARK1.seq\n",
      "INFO:root:795 residues in this chain.\n",
      "INFO:root:Finished prediction in 59.81 seconds.\n",
      "INFO:root:Saving prediction to ./Davis/omega_2/MARK1.pdb\n",
      "INFO:root:Saved\n",
      "INFO:root:Done!\n"
     ]
    },
    {
     "name": "stderr",
     "output_type": "stream",
     "text": [
      " 76%|███████▌  | 398/522 [3:19:31<1:19:24, 38.42s/it]"
     ]
    },
    {
     "name": "stdout",
     "output_type": "stream",
     "text": [
      "NEK9_1.seq\n",
      "INFO:root:Reading ./Davis/cut_seqs/NEK9_1.seq\n",
      "SNGASSSCPGWLRKELENAEFIPMPDSPSPLSAAFSESEKDTLPYEELQGLKVASEAPLEHKPQVEASSPRLNPAVTCAGKGTPLTPPACACSSLQVEVERLQGLVLKCLAEQQKLQQENLQIFTQLQKLNKKLEGGQQVGMHSKGTQTAKEEMEMDPKPDLDSDSWCLLGTDSCRPSL\n",
      "INFO:root:Predicting 1th chain in ./Davis/cut_seqs/NEK9_1.seq\n",
      "INFO:root:179 residues in this chain.\n",
      "INFO:root:Finished prediction in 1.81 seconds.\n",
      "INFO:root:Saving prediction to ./Davis/omega_2/NEK9_1.pdb\n",
      "INFO:root:Saved\n",
      "INFO:root:Done!\n"
     ]
    },
    {
     "name": "stderr",
     "output_type": "stream",
     "text": [
      " 76%|███████▋  | 399/522 [3:19:33<56:22, 27.50s/it]  "
     ]
    },
    {
     "name": "stdout",
     "output_type": "stream",
     "text": [
      "PKN2_0.seq\n",
      "INFO:root:Reading ./Davis/cut_seqs/PKN2_0.seq\n",
      "MASNPERGEILLTELQGDSRSLPFSENVSAVQKLDFSDTMVQQKLDDIKDRIKREIRKELKIKEGAENLRKVTTDKKSLAYVDNILKKSNKKLEELHHKLQELNAHIVVSDPEDITDCPRTPDTPNNDPRCSTSNNRLKALQKQLDIELKVKQGAENMIQMYSNGSSKDRKLHGTAQQLLQDSKTKIEVIRMQILQAVQTNELAFDNAKPVISPLELRMEELRHHFRIEFAVAEGAKNVMKLLGSGKVTDRKALSEAQARFNESSQKLDLLKYSLEQRLNEVPKNHPKSRIIIEELSLVAASPTLSPRQSMISTQNQYSTLSKPAALTGTLEVRLMGCQDILENVPGRSKATSVALPGWSPSETRSSFMSRTSKSKSGSSRNLLKTDDLSNDVCAVLKLDNTVVGQTSWKPISNQSWDQKFTLELDRSRELEISVYWRDWRSLCAVKFLRLEDFLDNQRHGMCLYLEPQGTLFAEVTFFNPVIERRPKLQRQKKIFSKQQGKTFLRAPQMNINIATWGRLVRRAIPTVNHSGTFSPQAPVPTTVPVVDVRIPQLAPPASDSTVTKLDFDLEPEPPPAPPRASSLGEIDESSELRVLDIPGQDSETVFDIQNDRNSILPKSQSEYKPDTPQSGLEYSGIQELEDRRSQQRFQFNLQDFRCCAVLGRGHFGKVLLAEYKNTNEMFAIKALKKGDIVARDEVDSLMCEKRIFETVNSVRHPFLVNLFACFQTKEHVCFVMEYAAGGDLMMHIHTDVFSEPRAVFYAACVVLGLQYLHEHKIVYRDLKLDNLLLDTEGFVKIAD\n",
      "INFO:root:Predicting 1th chain in ./Davis/cut_seqs/PKN2_0.seq\n",
      "INFO:root:800 residues in this chain.\n",
      "INFO:root:Finished prediction in 57.00 seconds.\n",
      "INFO:root:Saving prediction to ./Davis/omega_2/PKN2_0.pdb\n",
      "INFO:root:Saved\n",
      "INFO:root:Done!\n"
     ]
    },
    {
     "name": "stderr",
     "output_type": "stream",
     "text": [
      " 77%|███████▋  | 400/522 [3:20:31<1:14:27, 36.62s/it]"
     ]
    },
    {
     "name": "stdout",
     "output_type": "stream",
     "text": [
      "BRK.seq\n",
      "INFO:root:Reading ./Davis/cut_seqs/BRK.seq\n",
      "MVSRDQAHLGPKYVGLWDFKSRTDEELSFRAGDVFHVARKEEQWWWATLLDEAGGAVAQGYVPHNYLAERETVESEPWFFGCISRSEAVRRLQAEGNATGAFLIRVSEKPSADYVLSVRDTQAVRHYKIWRRAGGRLHLNEAVSFLSLPELVNYHRAQSLSHGLRLAAPCRKHEPEPLPHWDDWERPREEFTLCRKLGSGYFGEVFEGLWKDRVQVAIKVISRDNLLHQQMLQSEIQAMKKLRHKHILALYAVVSVGDPVYIITELMAKGSLLELLRDSDEKVLPVSELLDIAWQVAEGMCYLESQNYIHRDLAARNILVGENTLCKVGDFGLARLIKEDVYLSHDHNIPYKWTAPEALSRGHYSTKSDVWSFGILLHEMFSRGQVPYPGMSNHEAFLRVDAGYRMPCPLECPPSVHKLMLTCWCRDPEQRPCFKALRERLSSFTSYENPT\n",
      "INFO:root:Predicting 1th chain in ./Davis/cut_seqs/BRK.seq\n",
      "INFO:root:451 residues in this chain.\n",
      "INFO:root:Finished prediction in 14.50 seconds.\n",
      "INFO:root:Saving prediction to ./Davis/omega_2/BRK.pdb\n",
      "INFO:root:Saved\n",
      "INFO:root:Done!\n"
     ]
    },
    {
     "name": "stderr",
     "output_type": "stream",
     "text": [
      " 77%|███████▋  | 401/522 [3:20:46<1:00:42, 30.11s/it]"
     ]
    },
    {
     "name": "stdout",
     "output_type": "stream",
     "text": [
      "MRCKA_2.seq\n",
      "INFO:root:Reading ./Davis/cut_seqs/MRCKA_2.seq\n",
      "PQESRTVFSGSVSIPSITKSRPEPGRSMSASSGLSARSSAQNGSALKREFSGGSYSAKRQPMPSPSEGSLSSGGMDQGSDAPARDFDGEDSDSPRHSTASNSSNLSSPPSPASPRKTKSLSLESTDRGSWDP\n",
      "INFO:root:Predicting 1th chain in ./Davis/cut_seqs/MRCKA_2.seq\n",
      "INFO:root:132 residues in this chain.\n",
      "INFO:root:Finished prediction in 1.09 seconds.\n",
      "INFO:root:Saving prediction to ./Davis/omega_2/MRCKA_2.pdb\n",
      "INFO:root:Saved\n",
      "INFO:root:Done!\n"
     ]
    },
    {
     "name": "stderr",
     "output_type": "stream",
     "text": [
      " 77%|███████▋  | 402/522 [3:20:47<42:54, 21.46s/it]  "
     ]
    },
    {
     "name": "stdout",
     "output_type": "stream",
     "text": [
      "EPHA7_0.seq\n",
      "INFO:root:Reading ./Davis/cut_seqs/EPHA7_0.seq\n",
      "MVFQTRYPSWIILCYIWLLRFAHTGEAQAAKEVLLLDSKAQQTELEWISSPPNGWEEISGLDENYTPIRTYQVCQVMEPNQNNWLRTNWISKGNAQRIFVELKFTLRDCNSLPGVLGTCKETFNLYYYETDYDTGRNIRENLYVKIDTIAADESFTQGDLGERKMKLNTEVREIGPLSKKGFYLAFQDVGACIALVSVKVYYKKCWSIIENLAIFPDTVTGSEFSSLVEVRGTCVSSAEEEAENAPRMHCSAEGEWLVPIGKCICKAGYQQKGDTCEPCGRGFYKSSSQDLQCSRCPTHSFSDKEGSSRCECEDGYYRAPSDPPYVACTRPPSAPQNLIFNINQTTVSLEWSPPADNGGRNDVTYRILCKRCSWEQGECVPCGSNIGYMPQQTGLEDNYVTVMDLLAHANYTFEVEAVNGVSDLSRSQRLFAAVSITTGQAAPSQVSGVMKERVLQRSVELSWQEPEHPNGVITEYEIKYYEKDQRERTYSTVKTKSTSASINNLKPGTVYVFQIRAFTAAGYGNYSPRLDVATLEEATGKMFEATAVSSEQNPVIIIAVVAVAGTIILVFMVFGFIIGRRHCGYSKADQEGDEELYFHFKFPGTKTYIDPETYEDPNRAVHQFAKELDASCIKIERVIGAGEFGEVCSGRLKLPGKRDVAVAIKTLKVGYTEKQRRDFLCEASIMGQFDHPNVVHLEGVVTRGKPVMIVIEFMENGALDAFLRKHDGQFTVIQLVGMLRGIAAGMRYLADMGYVHRDLAARNILVNSNLVCKVSDFGLSRVIEDDPEAVYTTTGGKIPV\n",
      "INFO:root:Predicting 1th chain in ./Davis/cut_seqs/EPHA7_0.seq\n",
      "INFO:root:800 residues in this chain.\n",
      "INFO:root:Finished prediction in 57.11 seconds.\n",
      "INFO:root:Saving prediction to ./Davis/omega_2/EPHA7_0.pdb\n",
      "INFO:root:Saved\n",
      "INFO:root:Done!\n"
     ]
    },
    {
     "name": "stderr",
     "output_type": "stream",
     "text": [
      " 77%|███████▋  | 403/522 [3:21:45<1:04:31, 32.54s/it]"
     ]
    },
    {
     "name": "stdout",
     "output_type": "stream",
     "text": [
      "CAMK2B.seq\n",
      "INFO:root:Reading ./Davis/cut_seqs/CAMK2B.seq\n",
      "MATTVTCTRFTDEYQLYEDIGKGAFSVVRRCVKLCTGHEYAAKIINTKKLSARDHQKLEREARICRLLKHSNIVRLHDSISEEGFHYLVFDLVTGGELFEDIVAREYYSEADASHCIQQILEAVLHCHQMGVVHRDLKPENLLLASKCKGAAVKLADFGLAIEVQGDQQAWFGFAGTPGYLSPEVLRKEAYGKPVDIWACGVILYILLVGYPPFWDEDQHKLYQQIKAGAYDFPSPEWDTVTPEAKNLINQMLTINPAKRITAHEALKHPWVCQRSTVASMMHRQETVECLKKFNARRKLKGAILTTMLATRNFSVGRQTTAPATMSTAASGTTMGLVEQAKSLLNKKADGVKPQTNSTKNSAAATSPKGTLPPAALEPQTTVIHNPVDGIKESSDSANTTIEDEDAKAPRVPDILSSVRRGSGAPEAEGPLPCPSPAPFSPLPAPSPRISDILNSVRRGSGTPEAEGPLSAGPPPCLSPALLGPLSSPSPRISDILNSVRRGSGTPEAEGPSPVGPPPCPSPTIPGPLPTPSRKQEIIKTTEQLIEAVNNGDFEAYAKICDPGLTSFEPEALGNLVEGMDFHRFYFENLLAKNSKPIHTTILNPHVHVIGEDAACIAYIRLTQYIDGQGRPRTSQSEETRVWHRRDGKWQNVHFHCSGAPVAPLQ\n",
      "INFO:root:Predicting 1th chain in ./Davis/cut_seqs/CAMK2B.seq\n",
      "INFO:root:666 residues in this chain.\n",
      "INFO:root:Finished prediction in 37.72 seconds.\n",
      "INFO:root:Saving prediction to ./Davis/omega_2/CAMK2B.pdb\n",
      "INFO:root:Saved\n",
      "INFO:root:Done!\n"
     ]
    },
    {
     "name": "stderr",
     "output_type": "stream",
     "text": [
      " 77%|███████▋  | 404/522 [3:22:24<1:07:38, 34.39s/it]"
     ]
    },
    {
     "name": "stdout",
     "output_type": "stream",
     "text": [
      "MRCKB_1.seq\n",
      "INFO:root:Reading ./Davis/cut_seqs/MRCKB_1.seq\n",
      "LQDLAAKKESVAHWEAQIAEIIQWVSDEKDARGYLQALASKMTEELEALRSSSLGSRTLDPLWKVRRSQKLDMSARLELQSALEAEIRAKQLVQEELRKVKDANLTLESKLKDSEAKNRELLEEMEILKKKMEEKFRADTGLKLPDFQDSIFEYFNTAPLAHDLTFRTSSASEQETQAPKPEASPSMSVAASEQQEDMARPPQRPSAVPLPTTQALALAGPKPKAHQFSIKSFSSPTQCSHCTSLMVGLIRQGYACEVCSFACHVSCKDGAPQVCPIPPEQSKRPLGVDVQRGIGTAYKGHVKVPKPTGVKKGWQRAYAVVCDCKLFLYDLPEGKSTQPGVIASQVLDLRDDEFSVSSVLASDVIHATRRDIPCIFRVTASLLGAPSKTSSLLILTENENEKRKWVGILEGLQSILHKNRLRNQVVHVPLEAYDSSLPLIKAILTAAIVDADRIAVGLEEGLYVIEVTRDVIVRAADCKKVHQIELAPREKIVILLCGRNHHVHLYPWSSLDGAEGSFDIKLPETKGCQLMATATLKRNSGTCLFVAVKRLILCYEIQRTKPFHRKFNEIVAPGSVQCLAVLRDRLCVGYPSGFCLLSIQGDGQPLNLVNPNDPSLAFLSQQSFDALCAVELESEEYLLCFSHMGLYVDPQGRRARAQELMWPAAPVACSCSPTHVTVYSEYGVDVFDVRTMEWVQTIGLRRIRPLNSEGTLNLLNCEPPRLIYFKSKFSGAVLNVPDTSDNSKKQMLRTRSKRRFVFKVPEEERLQQRREMLRDPELRSKMISNPTNFNHVAHMGPGDG\n",
      "INFO:root:Predicting 1th chain in ./Davis/cut_seqs/MRCKB_1.seq\n",
      "INFO:root:800 residues in this chain.\n",
      "INFO:root:Finished prediction in 57.19 seconds.\n",
      "INFO:root:Saving prediction to ./Davis/omega_2/MRCKB_1.pdb\n",
      "INFO:root:Saved\n",
      "INFO:root:Done!\n"
     ]
    },
    {
     "name": "stderr",
     "output_type": "stream",
     "text": [
      " 78%|███████▊  | 405/522 [3:23:22<1:20:54, 41.49s/it]"
     ]
    },
    {
     "name": "stdout",
     "output_type": "stream",
     "text": [
      "NEK3.seq\n",
      "INFO:root:Reading ./Davis/cut_seqs/NEK3.seq\n",
      "MDDYMVLRMIGEGSFGRALLVQHESSNQMFAMKEIRLPKSFSNTQNSRKEAVLLAKMKHPNIVAFKESFEAEGHLYIVMEYCDGGDLMQKIKQQKGKLFPEDMILNWFTQMCLGVNHIHKKRVLHRDIKSKNIFLTQNGKVKLGDFGSARLLSNPMAFACTYVGTPYYVPPEIWENLPYNNKSDIWSLGCILYELCTLKHPFQANSWKNLILKVCQGCISPLPSHYSYELQFLVKQMFKRNPSHRPSATTLLSRGIVARLVQKCLPPEIIMEYGEEVLEEIKNSKHNTPRKKTNPSRIRIALGNEASTVQEEEQDRKGSHTDLESINENLVESALRRVNREEKGNKSVHLRKASSPNLHRRQWEKNVPNTALTALENASILTSSLTAEDDRGGSVIKYSKNTTRKQWLKETPDTLLNILKNADLSLAFQTYTIYRPGSEGFLKGPLSEETEASDSVDGGHDSVILDPERLEPGLDEEDTDFEEEDDNPDWVSELKKRAGWQGLCDR\n",
      "INFO:root:Predicting 1th chain in ./Davis/cut_seqs/NEK3.seq\n",
      "INFO:root:506 residues in this chain.\n",
      "INFO:root:Finished prediction in 18.88 seconds.\n",
      "INFO:root:Saving prediction to ./Davis/omega_2/NEK3.pdb\n",
      "INFO:root:Saved\n",
      "INFO:root:Done!\n"
     ]
    },
    {
     "name": "stderr",
     "output_type": "stream",
     "text": [
      " 78%|███████▊  | 406/522 [3:23:42<1:07:26, 34.88s/it]"
     ]
    },
    {
     "name": "stdout",
     "output_type": "stream",
     "text": [
      "ERBB4_0.seq\n",
      "INFO:root:Reading ./Davis/cut_seqs/ERBB4_0.seq\n",
      "MKPATGLWVWVSLLVAAGTVQPSDSQSVCAGTENKLSSLSDLEQQYRALRKYYENCEVVMGNLEITSIEHNRDLSFLRSVREVTGYVLVALNQFRYLPLENLRIIRGTKLYEDRYALAIFLNYRKDGNFGLQELGLKNLTEILNGGVYVDQNKFLCYADTIHWQDIVRNPWPSNLTLVSTNGSSGCGRCHKSCTGRCWGPTENHCQTLTRTVCAEQCDGRCYGPYVSDCCHRECAGGCSGPKDTDCFACMNFNDSGACVTQCPQTFVYNPTTFQLEHNFNAKYTYGAFCVKKCPHNFVVDSSSCVRACPSSKMEVEENGIKMCKPCTDICPKACDGIGTGSLMSAQTVDSSNIDKFINCTKINGNLIFLVTGIHGDPYNAIEAIDPEKLNVFRTVREITGFLNIQSWPPNMTDFSVFSNLVTIGGRVLYSGLSLLILKQQGITSLQFQSLKEISAGNIYITDNSNLCYYHTINWTTLFSTINQRIVIRDNRKAENCTAEGMVCNHLCSSDGCWGPGPDQCLSCRRFSRGRICIESCNLYDGEFREFENGSICVECDPQCEKMEDGLLTCHGPGPDNCTKCSHFKDGPNCVEKCPDGLQGANSFIFKYADPDRECHPCHPNCTQGCNGPTSHDCIYYPWTGHSTLPQHARTPLIAAGVIGGLFILVIVGLTFAVYVRRKSIKKKRALRRFLETELVEPLTPSGTAPNQAQLRILKETELKRVKVLGSGAFGTVYKGIWVPEGETVKIPVAIKILNETTGPKANVEFMDEALIMASMDHPHLVRLLGVCLSPTIQLVTQLMP\n",
      "INFO:root:Predicting 1th chain in ./Davis/cut_seqs/ERBB4_0.seq\n",
      "INFO:root:800 residues in this chain.\n",
      "INFO:root:Finished prediction in 57.04 seconds.\n",
      "INFO:root:Saving prediction to ./Davis/omega_2/ERBB4_0.pdb\n",
      "INFO:root:Saved\n",
      "INFO:root:Done!\n"
     ]
    },
    {
     "name": "stderr",
     "output_type": "stream",
     "text": [
      " 78%|███████▊  | 407/522 [3:24:39<1:20:07, 41.80s/it]"
     ]
    },
    {
     "name": "stdout",
     "output_type": "stream",
     "text": [
      "CAMK2A.seq\n",
      "INFO:root:Reading ./Davis/cut_seqs/CAMK2A.seq\n",
      "MATITCTRFTEEYQLFEELGKGAFSVVRRCVKVLAGQEYAAKIINTKKLSARDHQKLEREARICRLLKHPNIVRLHDSISEEGHHYLIFDLVTGGELFEDIVAREYYSEADASHCIQQILEAVLHCHQMGVVHRDLKPENLLLASKLKGAAVKLADFGLAIEVEGEQQAWFGFAGTPGYLSPEVLRKDPYGKPVDLWACGVILYILLVGYPPFWDEDQHRLYQQIKAGAYDFPSPEWDTVTPEAKDLINKMLTINPSKRITAAEALKHPWISHRSTVASCMHRQETVDCLKKFNARRKLKGAILTTMLATRNFSGGKSGGNKKSDGVKESSESTNTTIEDEDTKVRKQEIIKVTEQLIEAISNGDFESYTKMCDPGMTAFEPEALGNLVEGLDFHRFYFENLWSRNSKPVHTTILNPHIHLMGDESACIAYIRITQYLDAGGIPRTAQSEETRVWHRRDGKWQIVHFHRSGAPSVLPH\n",
      "INFO:root:Predicting 1th chain in ./Davis/cut_seqs/CAMK2A.seq\n",
      "INFO:root:478 residues in this chain.\n",
      "INFO:root:Finished prediction in 16.76 seconds.\n",
      "INFO:root:Saving prediction to ./Davis/omega_2/CAMK2A.pdb\n",
      "INFO:root:Saved\n",
      "INFO:root:Done!\n"
     ]
    },
    {
     "name": "stderr",
     "output_type": "stream",
     "text": [
      " 78%|███████▊  | 408/522 [3:24:58<1:05:56, 34.70s/it]"
     ]
    },
    {
     "name": "stdout",
     "output_type": "stream",
     "text": [
      "MLK3_1.seq\n",
      "INFO:root:Reading ./Davis/cut_seqs/MLK3_1.seq\n",
      "APWTLFPDSDPFWDSPPANPFQGGPQDCRAQTKDMGAQAPWVPEAGP\n",
      "INFO:root:Predicting 1th chain in ./Davis/cut_seqs/MLK3_1.seq\n",
      "INFO:root:47 residues in this chain.\n",
      "INFO:root:Finished prediction in 0.53 seconds.\n",
      "INFO:root:Saving prediction to ./Davis/omega_2/MLK3_1.pdb\n",
      "INFO:root:Saved\n",
      "INFO:root:Done!\n"
     ]
    },
    {
     "name": "stderr",
     "output_type": "stream",
     "text": [
      " 78%|███████▊  | 409/522 [3:24:58<46:07, 24.49s/it]  "
     ]
    },
    {
     "name": "stdout",
     "output_type": "stream",
     "text": [
      "SRPK1.seq\n",
      "INFO:root:Reading ./Davis/cut_seqs/SRPK1.seq\n",
      "MERKVLALQARKKRTKAKKDKAQRKSETQHRGSAPHSESDLPEQEEEILGSDDDEQEDPNDYCKGGYHLVKIGDLFNGRYHVIRKLGWGHFSTVWLSWDIQGKKFVAMKVVKSAEHYTETALDEIRLLKSVRNSDPNDPNREMVVQLLDDFKISGVNGTHICMVFEVLGHHLLKWIIKSNYQGLPLPCVKKIIQQVLQGLDYLHTKCRIIHTDIKPENILLSVNEQYIRRLAAEATEWQRSGAPPPSGSAVSTAPQPKPADKMSKNKKKKLKKKQKRQAELLEKRMQEIEEMEKESGPGQKRPNKQEESESPVERPLKENPPNKMTQEKLEESSTIGQDQTLMERDTEGGAAEINCNGVIEVINYTQNSNNETLRHKEDLHNANDCDVQNLNQESSFLSSQNGDSSTSQETDSCTPITSEVSDTMVCQSSSTVGQSFSEQHISQLQESIRAEIPCEDEQEQEHNGPLDNKGKSTAGNFLVNPLEPKNAEKLKVKIADLGNACWVHKHFTEDIQTRQYRSLEVLIGSGYNTPADIWSTACMAFELATGDYLFEPHSGEEYTRDEDHIALIIELLGKVPRKLIVAGKYSKEFFTKKGDLKHITKLKPWGLFEVLVEKYEWSQEEAAGFTDFLLPMLELIPEKRATAAECLRHPWLNS\n",
      "INFO:root:Predicting 1th chain in ./Davis/cut_seqs/SRPK1.seq\n",
      "INFO:root:655 residues in this chain.\n",
      "INFO:root:Finished prediction in 36.58 seconds.\n",
      "INFO:root:Saving prediction to ./Davis/omega_2/SRPK1.pdb\n",
      "INFO:root:Saved\n",
      "INFO:root:Done!\n"
     ]
    },
    {
     "name": "stderr",
     "output_type": "stream",
     "text": [
      " 79%|███████▊  | 410/522 [3:25:36<52:53, 28.34s/it]"
     ]
    },
    {
     "name": "stdout",
     "output_type": "stream",
     "text": [
      "PRKCE.seq\n",
      "INFO:root:Reading ./Davis/cut_seqs/PRKCE.seq\n",
      "MVVFNGLLKIKICEAVSLKPTAWSLRHAVGPRPQTFLLDPYIALNVDDSRIGQTATKQKTNSPAWHDEFVTDVCNGRKIELAVFHDAPIGYDDFVANCTIQFEELLQNGSRHFEDWIDLEPEGRVYVIIDLSGSSGEAPKDNEERVFRERMRPRKRQGAVRRRVHQVNGHKFMATYLRQPTYCSHCRDFIWGVIGKQGYQCQVCTCVVHKRCHELIITKCAGLKKQETPDQVGSQRFSVNMPHKFGIHNYKVPTFCDHCGSLLWGLLRQGLQCKVCKMNVHRRCETNVAPNCGVDARGIAKVLADLGVTPDKITNSGQRRKKLIAGAESPQPASGSSPSEEDRSKSAPTSPCDQEIKELENNIRKALSFDNRGEEHRAASSPDGQLMSPGENGEVRQGQAKRLGLDEFNFIKVLGKGSFGKVMLAELKGKDEVYAVKVLKKDVILQDDDVDCTMTEKRILALARKHPYLTQLYCCFQTKDRLFFVMEYVNGGDLMFQIQRSRKFDEPRSRFYAAEVTSALMFLHQHGVIYRDLKLDNILLDAEGHCKLADFGMCKEGILNGVTTTTFCGTPDYIAPEILQELEYGPSVDWWALGVLMYEMMAGQPPFEADNEDDLFESILHDDVLYPVWLSKEAVSILKAFMTKNPHKRLGCVASQNGEDAIKQHPFFKEIDWVLLEQKKIKPPFKPRIKTKRDVNNFDQDFTREEPVLTLVDEAIVKQINQEEFKGFSYFGEDLMP\n",
      "INFO:root:Predicting 1th chain in ./Davis/cut_seqs/PRKCE.seq\n",
      "INFO:root:737 residues in this chain.\n",
      "INFO:root:Finished prediction in 49.81 seconds.\n",
      "INFO:root:Saving prediction to ./Davis/omega_2/PRKCE.pdb\n",
      "INFO:root:Saved\n",
      "INFO:root:Done!\n"
     ]
    },
    {
     "name": "stderr",
     "output_type": "stream",
     "text": [
      " 79%|███████▊  | 411/522 [3:26:26<1:04:48, 35.03s/it]"
     ]
    },
    {
     "name": "stdout",
     "output_type": "stream",
     "text": [
      "PFTK1.seq\n",
      "INFO:root:Reading ./Davis/cut_seqs/PFTK1.seq\n",
      "MCDLIEPQPAEKIGKMKKLRRTLSESFSRIALKKDDTTFDEICVTKMSTRNCQGMDSVIKPLDTIPEDKKVRVQRTQSTFDPFEKPANQVKRVHSENNACINFKTSSTGKESPKVRRHSSPSSPTSPKFGKADSYEKLEKLGEGSYATVYKGKSKVNGKLVALKVIRLQEEEGTPFTAIREASLLKGLKHANIVLLHDIIHTKETLTLVFEYVHTDLCQYMDKHPGGLHPDNVKLFLFQLLRGLSYIHQRYILHRDLKPQNLLISDTGELKLADFGLARAKSVPSHTYSNEVVTLWYRPPDVLLGSTEYSTCLDMWGVGCIFVEMIQGVAAFPGMKDIQDQLERIFLVLGTPNEDTWPGVHSLPHFKPERFTLYSSKNLRQAWNKLSYVNHAEDLASKLLQCSPKNRLSAQAALSHEYFSDLPPRLWELTDMSSIFTVPNVRLQPEAGESMRAFGKNNSYGKSLSNSKH\n",
      "INFO:root:Predicting 1th chain in ./Davis/cut_seqs/PFTK1.seq\n",
      "INFO:root:469 residues in this chain.\n",
      "INFO:root:Finished prediction in 16.32 seconds.\n",
      "INFO:root:Saving prediction to ./Davis/omega_2/PFTK1.pdb\n",
      "INFO:root:Saved\n",
      "INFO:root:Done!\n"
     ]
    },
    {
     "name": "stderr",
     "output_type": "stream",
     "text": [
      " 79%|███████▉  | 412/522 [3:26:43<54:13, 29.58s/it]  "
     ]
    },
    {
     "name": "stdout",
     "output_type": "stream",
     "text": [
      "PIK3CD_1.seq\n",
      "INFO:root:Reading ./Davis/cut_seqs/PIK3CD_1.seq\n",
      "WKQEGLDLRMTPYGCLPTGDRTGLIEVVLRSDTIANIQLNKSNMAATAAFNKDALLNWLKSKNPGEALDRAIEEFTLSCAGYCVATYVLGIGDRHSDNIMIRESGQLFHIDFGHFLGNFKTKFGINRERVPFILTYDFVHVIQQGKTNNSEKFERFRGYCERAYTILRRHGLLFLHLFALMRAAGLPELSCSKDIQYLKDSLALGKTEEEALKHFRVKFNEALRESWKTKVNWLAHNVSKDNRQ\n",
      "INFO:root:Predicting 1th chain in ./Davis/cut_seqs/PIK3CD_1.seq\n",
      "INFO:root:244 residues in this chain.\n",
      "INFO:root:Finished prediction in 3.30 seconds.\n",
      "INFO:root:Saving prediction to ./Davis/omega_2/PIK3CD_1.pdb\n",
      "INFO:root:Saved\n",
      "INFO:root:Done!\n"
     ]
    },
    {
     "name": "stderr",
     "output_type": "stream",
     "text": [
      " 79%|███████▉  | 413/522 [3:26:47<39:31, 21.76s/it]"
     ]
    },
    {
     "name": "stdout",
     "output_type": "stream",
     "text": [
      "ASK1_0.seq\n",
      "INFO:root:Reading ./Davis/cut_seqs/ASK1_0.seq\n",
      "MSTEADEGITFSVPPFAPSGFCTIPEGGICRRGGAAAVGEGEEHQLPPPPPGSFWNVESAAAPGIGCPAATSSSSATRGRGSSVGGGSRRTTVAYVINEASQGQLVVAESEALQSLREACETVGATLETLHFGKLDFGETTVLDRFYNADIAVVEMSDAFRQPSLFYHLGVRESFSMANNIILYCDTNSDSLQSLKEIICQKNTMCTGNYTFVPYMITPHNKVYCCDSSFMKGLTELMQPNFELLLGPICLPLVDRFIQLLKVAQASSSQYFRESILNDIRKARNLYTGKELAAELARIRQRVDNIEVLTADIVINLLLSYRDIQDYDSIVKLVETLEKLPTFDLASHHHVKFHYAFALNRRNLPGDRAKALDIMIPMVQSEGQVASDMYCLVGRIYKDMFLDSNFTDTESRDHGASWFKKAFESEPTLQSGINYAVLLLAAGHQFESSFELRKVGVKLSSLLGKKGNLEKLQSYWEVGFFLGASVLANDHMRVIQASEKLFKLKTPAWYLKSIVETILIYKHFVKLTTEQPVAKQELVDFWMDFLVEATKTDVTVVRFPVLILEPTKIYQPSYLSINNEVEEKTISIWHVLPDDKKGIHEWNFSASSVRGVSISKFEERCCFLYVLHNSDDFQIYFCTELHCKKFFEMVNTITEEKGRSTEEGDCESDLLEYDYEYDENGDRVVLGKGTYGIVYAGRDLSNQVRIAIKEIPERDSRYSQPLHEEIALHKHLKHKNIVQYLGSFSENGFIKIFMEQVPGGSLSALLRSKWGPLKDNEQTIGFYTKQILEGLKYLHDNQIV\n",
      "INFO:root:Predicting 1th chain in ./Davis/cut_seqs/ASK1_0.seq\n",
      "INFO:root:800 residues in this chain.\n",
      "INFO:root:Finished prediction in 57.02 seconds.\n",
      "INFO:root:Saving prediction to ./Davis/omega_2/ASK1_0.pdb\n",
      "INFO:root:Saved\n",
      "INFO:root:Done!\n"
     ]
    },
    {
     "name": "stderr",
     "output_type": "stream",
     "text": [
      " 79%|███████▉  | 414/522 [3:27:45<58:41, 32.60s/it]"
     ]
    },
    {
     "name": "stdout",
     "output_type": "stream",
     "text": [
      "MAP4K5_1.seq\n",
      "INFO:root:Reading ./Davis/cut_seqs/MAP4K5_1.seq\n",
      "TQEISDETRVFRLLGSDRVVVLESRPTENPTAHSNLYILAGHENSY\n",
      "INFO:root:Predicting 1th chain in ./Davis/cut_seqs/MAP4K5_1.seq\n",
      "INFO:root:46 residues in this chain.\n",
      "INFO:root:Finished prediction in 0.56 seconds.\n",
      "INFO:root:Saving prediction to ./Davis/omega_2/MAP4K5_1.pdb\n",
      "INFO:root:Saved\n",
      "INFO:root:Done!\n"
     ]
    },
    {
     "name": "stderr",
     "output_type": "stream",
     "text": [
      " 80%|███████▉  | 415/522 [3:27:45<41:06, 23.05s/it]"
     ]
    },
    {
     "name": "stdout",
     "output_type": "stream",
     "text": [
      "S6K1.seq\n",
      "INFO:root:Reading ./Davis/cut_seqs/S6K1.seq\n",
      "MRRRRRRDGFYPAPDFRDREAEDMAGVFDIDLDQPEDAGSEDELEEGGQLNESMDHGGVGPYELGMEHCEKFEISETSVNRGPEKIRPECFELLRVLGKGGYGKVFQVRKVTGANTGKIFAMKVLKKAMIVRNAKDTAHTKAERNILEEVKHPFIVDLIYAFQTGGKLYLILEYLSGGELFMQLEREGIFMEDTACFYLAEISMALGHLHQKGIIYRDLKPENIMLNHQGHVKLTDFGLCKESIHDGTVTHTFCGTIEYMAPEILMRSGHNRAVDWWSLGALMYDMLTGAPPFTGENRKKTIDKILKCKLNLPPYLTQEARDLLKKLLKRNAASRLGAGPGDAGEVQAHPFFRHINWEELLARKVEPPFKPLLQSEEDVSQFDSKFTRQTPVDSPDDSTLSESANQVFLGFTYVAPSVLESVKEKFSFEPKIRSPRRFIGSPRTPVSPVKFSPGDFWGRGASASTANPQTPVEYPMETSGIEQMDVTMSGEASAPLPIRQPNSGPYKKQAFPMISKRPEHLRMNL\n",
      "INFO:root:Predicting 1th chain in ./Davis/cut_seqs/S6K1.seq\n",
      "INFO:root:525 residues in this chain.\n",
      "INFO:root:Finished prediction in 21.25 seconds.\n",
      "INFO:root:Saving prediction to ./Davis/omega_2/S6K1.pdb\n",
      "INFO:root:Saved\n",
      "INFO:root:Done!\n"
     ]
    },
    {
     "name": "stderr",
     "output_type": "stream",
     "text": [
      " 80%|███████▉  | 416/522 [3:28:07<40:01, 22.66s/it]"
     ]
    },
    {
     "name": "stdout",
     "output_type": "stream",
     "text": [
      "CDKL5_1.seq\n",
      "INFO:root:Reading ./Davis/cut_seqs/CDKL5_1.seq\n",
      "LLTLQKSIHSASTPSSRPKEWRPEKISDLQTQSQPLKSLRKLLHLSSASNHPASSDPRFQPLTAQQTKNSFSEIRIHPLSQASGGSSNIRQEPAPKGRPALQLPDGGCDGRRQRHHSGPQDRRFMLRTTEQQGEYFCCGDPKKPHTPCVPNRALHRPISSPAPYPVLQVRGTSMCPTLQVRGTDAFSCPTQQSGFSFFVRHVMREALIHRAQVNQAALLTYHENAALTGK\n",
      "INFO:root:Predicting 1th chain in ./Davis/cut_seqs/CDKL5_1.seq\n",
      "INFO:root:230 residues in this chain.\n",
      "INFO:root:Finished prediction in 2.99 seconds.\n",
      "INFO:root:Saving prediction to ./Davis/omega_2/CDKL5_1.pdb\n",
      "INFO:root:Saved\n",
      "INFO:root:Done!\n"
     ]
    },
    {
     "name": "stderr",
     "output_type": "stream",
     "text": [
      " 80%|███████▉  | 417/522 [3:28:10<29:26, 16.83s/it]"
     ]
    },
    {
     "name": "stdout",
     "output_type": "stream",
     "text": [
      "PIK3C2G_0.seq\n",
      "INFO:root:Reading ./Davis/cut_seqs/PIK3C2G_0.seq\n",
      "MAYSWQTDPNPNESHEKQYEHQEFLFVNQPHSSSQVSLGFDQIVDEISGKIPHYESEIDENTFFVPTAPKWDSTGHSLNEAHQISLNEFTSKSRELSWHQVSKAPAIGFSPSVLPKPQNTNKECSWGSPIGKHHGADDSRFSILAPSFTSLDKINLEKELENENHNYHIGFESSIPPTNSSFSSDFMPKEENKRSGHVNIVEPSLMLLKGSLQPGMWESTWQKNIESIGCSIQLVEVPQSSNTSLASFCNKVKKIRERYHAADVNFNSGKIWSTTTAFPYQLFSKTKFNIHIFIDNSTQPLHFMPCANYLVKDLIAEILHFCTNDQLLPKDHILSVCGSEEFLQNDHCLGSHKMFQKDKSVIQLHLQKSREAPGKLSRKHEEDHSQFYLNQLLEFMHIWKVSRQCLLTLIRKYDFHLKYLLKTQENVYNIIEEVKKICSVLGCVETKQITDAVNELSLILQRKGENFYQSSETSAKGLIEKVTTELSTSIYQLINVYCNSFYADFQPVNVPRCTSYLNPGLPSHLSFTVYAAHNIPETWVHRINFPLEIKSLPRESMLTVKLFGIACATNNANLLAWTCLPLFPKEKSILGSMLFSMTLQSEPPVEMITPGVWDVSQPSPVTLQIDFPATGWEYMKPDSEENRSNLEEPLKECIKHIARLSQKQTPLLLSEEKKRYLWFYRFYCNNENCSLPLVLGSAPGWDERTVSEMHTILRRWTFSQPLEALGLLTSSFPDQEIRKVAVQQLDNLLNDELLEYLPQLVQAVKFEWNLESPLVQLLLHRSLQSIQVAHRLYWLLKNAE\n",
      "INFO:root:Predicting 1th chain in ./Davis/cut_seqs/PIK3C2G_0.seq\n",
      "INFO:root:800 residues in this chain.\n",
      "INFO:root:Finished prediction in 57.00 seconds.\n",
      "INFO:root:Saving prediction to ./Davis/omega_2/PIK3C2G_0.pdb\n",
      "INFO:root:Saved\n",
      "INFO:root:Done!\n"
     ]
    },
    {
     "name": "stderr",
     "output_type": "stream",
     "text": [
      " 80%|████████  | 418/522 [3:29:08<50:36, 29.20s/it]"
     ]
    },
    {
     "name": "stdout",
     "output_type": "stream",
     "text": [
      "CSK.seq\n",
      "INFO:root:Reading ./Davis/cut_seqs/CSK.seq\n",
      "MSAIQAAWPSGTECIAKYNFHGTAEQDLPFCKGDVLTIVAVTKDPNWYKAKNKVGREGIIPANYVQKREGVKAGTKLSLMPWFHGKITREQAERLLYPPETGLFLVRESTNYPGDYTLCVSCDGKVEHYRIMYHASKLSIDEEVYFENLMQLVEHYTSDADGLCTRLIKPKVMEGTVAAQDEFYRSGWALNMKELKLLQTIGKGEFGDVMLGDYRGNKVAVKCIKNDATAQAFLAEASVMTQLRHSNLVQLLGVIVEEKGGLYIVTEYMAKGSLVDYLRSRGRSVLGGDCLLKFSLDVCEAMEYLEGNNFVHRDLAARNVLVSEDNVAKVSDFGLTKEASSTQDTGKLPVKWTAPEALREKKFSTKSDVWSFGILLWEIYSFGRVPYPRIPLKDVVPRVEKGYKMDAPDGCPPAVYEVMKNCWHLDAAMRPSFLQLREQLEHIKTHELHL\n",
      "INFO:root:Predicting 1th chain in ./Davis/cut_seqs/CSK.seq\n",
      "INFO:root:450 residues in this chain.\n",
      "INFO:root:Finished prediction in 14.47 seconds.\n",
      "INFO:root:Saving prediction to ./Davis/omega_2/CSK.pdb\n",
      "INFO:root:Saved\n",
      "INFO:root:Done!\n"
     ]
    },
    {
     "name": "stderr",
     "output_type": "stream",
     "text": [
      " 80%|████████  | 419/522 [3:29:23<42:45, 24.91s/it]"
     ]
    },
    {
     "name": "stdout",
     "output_type": "stream",
     "text": [
      "FGR.seq\n",
      "INFO:root:Reading ./Davis/cut_seqs/FGR.seq\n",
      "MGCVFCKKLEPVATAKEDAGLEGDFRSYGAADHYGPDPTKARPASSFAHIPNYSNFSSQAINPGFLDSGTIRGVSGIGVTLFIALYDYEARTEDDLTFTKGEKFHILNNTEGDWWEARSLSSGKTGCIPSNYVAPVDSIQAEEWYFGKIGRKDAERQLLSPGNPQGAFLIRESETTKGAYSLSIRDWDQTRGDHVKHYKIRKLDMGGYYITTRVQFNSVQELVQHYMEVNDGLCNLLIAPCTIMKPQTLGLAKDAWEISRSSITLERRLGTGCFGDVWLGTWNGSTKVAVKTLKPGTMSPKAFLEEAQVMKLLRHDKLVQLYAVVSEEPIYIVTEFMCHGSLLDFLKNPEGQDLRLPQLVDMAAQVAEGMAYMERMNYIHRDLRAANILVGERLACKIADFGLARLIKDDEYNPCQGSKFPIKWTAPEAALFGRFTIKSDVWSFGILLTELITKGRIPYPGMNKREVLEQVEQGYHMPCPPGCPASLYEAMEQTWRLDPEERPTFEYLQSFLEDYFTSAEPQYQPGDQT\n",
      "INFO:root:Predicting 1th chain in ./Davis/cut_seqs/FGR.seq\n",
      "INFO:root:529 residues in this chain.\n",
      "INFO:root:Finished prediction in 21.52 seconds.\n",
      "INFO:root:Saving prediction to ./Davis/omega_2/FGR.pdb\n",
      "INFO:root:Saved\n",
      "INFO:root:Done!\n"
     ]
    },
    {
     "name": "stderr",
     "output_type": "stream",
     "text": [
      " 80%|████████  | 420/522 [3:29:45<40:53, 24.05s/it]"
     ]
    },
    {
     "name": "stdout",
     "output_type": "stream",
     "text": [
      "RIPK5_1.seq\n",
      "INFO:root:Reading ./Davis/cut_seqs/RIPK5_1.seq\n",
      "PEAMMSGSIVGTPIHMAPELFTGKYDNSVDVYAFGILFWYICSGSVKLPEAFERCASKDHLWNNVRRGARPERLPVFDEECWQLMEACWDGDPLKRPLLGIVQPMLQGIMNRLCKSNSEQPNRGLDDST\n",
      "INFO:root:Predicting 1th chain in ./Davis/cut_seqs/RIPK5_1.seq\n",
      "INFO:root:129 residues in this chain.\n",
      "INFO:root:Finished prediction in 1.06 seconds.\n",
      "INFO:root:Saving prediction to ./Davis/omega_2/RIPK5_1.pdb\n",
      "INFO:root:Saved\n",
      "INFO:root:Done!\n"
     ]
    },
    {
     "name": "stderr",
     "output_type": "stream",
     "text": [
      " 81%|████████  | 421/522 [3:29:47<28:59, 17.22s/it]"
     ]
    },
    {
     "name": "stdout",
     "output_type": "stream",
     "text": [
      "PKNB(Mtuberculosis).seq\n",
      "INFO:root:Reading ./Davis/cut_seqs/PKNB(Mtuberculosis).seq\n",
      "MTTPSHLSDRYELGEILGFGGMSEVHLARDLRLHRDVAVKVLRADLARDPSFYLRFRREAQNAAALNHPAIVAVYDTGEAETPAGPLPYIVMEYVDGVTLRDIVHTEGPMTPKRAIEVIADACQALNFSHQNGIIHRDVKPANIMISATNAVKVMDFGIARAIADSGNSVTQTAAVIGTAQYLSPEQARGDSVDARSDVYSLGCVLYEVLTGEPPFTGDSPVSVAYQHVREDPIPPSARHEGLSADLDAVVLKALAKNPENRYQTAAEMRADLVRVHNGEPPEAPKVLTDAERTSLLSSAAGNLSGPRTDPLPRQDLDDTDRDRSIGSVGRWVAVVAVLAVLTVVVTIAINTFGGITRDVQVPDVRGQSSADAIATLQNRGFKIRTLQKPDSTIPPDHVIGTDPAANTSVSAGDEITVNVSTGPEQREIPDVSTLTYAEAVKKLTAAGFGRFKQANSPSTPELVGKVIGTNPPANQTSAITNVVIIIVGSGPATKDIPDVAGQTVDVAQKNLNVYGFTKFSQASVDSPRPAGEVTGTNPPAGTTVPVDSVIELQVSKGNQFVMPDLSGMFWVDAEPRLRALGWTGMLDKGADVDAGGSQHNRVVYQNPPAGTGVNRDGIITLRFGQ\n",
      "INFO:root:Predicting 1th chain in ./Davis/cut_seqs/PKNB(Mtuberculosis).seq\n",
      "INFO:root:626 residues in this chain.\n",
      "INFO:root:Finished prediction in 33.03 seconds.\n",
      "INFO:root:Saving prediction to ./Davis/omega_2/PKNB(Mtuberculosis).pdb\n",
      "INFO:root:Saved\n",
      "INFO:root:Done!\n"
     ]
    },
    {
     "name": "stderr",
     "output_type": "stream",
     "text": [
      " 81%|████████  | 422/522 [3:30:20<36:54, 22.15s/it]"
     ]
    },
    {
     "name": "stdout",
     "output_type": "stream",
     "text": [
      "DAPK1_0.seq\n",
      "INFO:root:Reading ./Davis/cut_seqs/DAPK1_0.seq\n",
      "MTVFRQENVDDYYDTGEELGSGQFAVVKKCREKSTGLQYAAKFIKKRRTKSSRRGVSREDIEREVSILKEIQHPNVITLHEVYENKTDVILILELVAGGELFDFLAEKESLTEEEATEFLKQILNGVYYLHSLQIAHFDLKPENIMLLDRNVPKPRIKIIDFGLAHKIDFGNEFKNIFGTPEFVAPEIVNYEPLGLEADMWSIGVITYILLSGASPFLGDTKQETLANVSAVNYEFEDEYFSNTSALAKDFIRRLLVKDPKKRMTIQDSLQHPWIKPKDTQQALSRKASAVNMEKFKKFAARKKWKQSVRLISLCQRLSRSFLSRSNMSVARSDDTLDEEDSFVMKAIIHAINDDNVPGLQHLLGSLSNYDVNQPNKHGTPPLLIAAGCGNIQILQLLIKRGSRIDVQDKGGSNAVYWAARHGHVDTLKFLSENKCPLDVKDKSGEMALHVAARYGHADVAQLLCSFGSNPNIQDKEEETPLHCAAWHGYYSVAKALCEAGCNVNIKNREGETPLLTASARGYHDIVECLAEHGADLNACDKDGHIALHLAVRRCQMEVIKTLLSQGCFVDYQDRHGNTPLHVACKDGNMPIVVALCEANCNLDISNKYGRTPLHLAANNGILDVVRYLCLMGASVEALTTDGKTAEDLARSEQHEHVAGLLARLRKDTHRGLFIQQLRPTQNLQPRIKLKLFGHSGSGKTTLVESLKCGLLRSFFRRRRPRLSSTNSSRFPPSPLASKPTVSVSINNLYPGCENVSVRSRSMMFEPGLTKGMLEVFVAPTHHPHCSADDQSTKAIDIQN\n",
      "INFO:root:Predicting 1th chain in ./Davis/cut_seqs/DAPK1_0.seq\n",
      "INFO:root:800 residues in this chain.\n",
      "INFO:root:Finished prediction in 57.08 seconds.\n",
      "INFO:root:Saving prediction to ./Davis/omega_2/DAPK1_0.pdb\n",
      "INFO:root:Saved\n",
      "INFO:root:Done!\n"
     ]
    },
    {
     "name": "stderr",
     "output_type": "stream",
     "text": [
      " 81%|████████  | 423/522 [3:31:18<54:15, 32.89s/it]"
     ]
    },
    {
     "name": "stdout",
     "output_type": "stream",
     "text": [
      "PAK6.seq\n",
      "INFO:root:Reading ./Davis/cut_seqs/PAK6.seq\n",
      "MFRKKKKKRPEISAPQNFQHRVHTSFDPKEGKFVGLPPQWQNILDTLRRPKPVVDPSRITRVQLQPMKTVVRGSAMPVDGYISGLLNDIQKLSVISSNTLRGRSPTSRRRAQSLGLLGDEHWATDPDMYLQSPQSERTDPHGLYLSCNGGTPAGHKQMPWPEPQSPRVLPNGLAAKAQSLGPAEFQGASQRCLQLGACLQSSPPGASPPTGTNRHGMKAAKHGSEEARPQSCLVGSATGRPGGEGSPSPKTRESSLKRRLFRSMFLSTAATAPPSSSKPGPPPQSKPNSSFRPPQKDNPPSLVAKAQSLPSDQPVGTFSPLTTSDTSSPQKSLRTAPATGQLPGRSSPAGSPRTWHAQISTSNLYLPQDPTVAKGALAGEDTGVVTHEQFKAALRMVVDQGDPRLLLDSYVKIGEGSTGIVCLAREKHSGRQVAVKMMDLRKQQRRELLFNEVVIMRDYQHFNVVEMYKSYLVGEELWVLMEFLQGGALTDIVSQVRLNEEQIATVCEAVLQALAYLHAQGVIHRDIKSDSILLTLDGRVKLSDFGFCAQISKDVPKRKSLVGTPYWMAPEVISRSLYATEVDIWSLGIMVIEMVDGEPPYFSDSPVQAMKRLRDSPPPKLKNSHKVSPVLRDFLERMLVRDPQERATAQELLDHPFLLQTGLPECLVPLIQLYRKQTSTC\n",
      "INFO:root:Predicting 1th chain in ./Davis/cut_seqs/PAK6.seq\n",
      "INFO:root:681 residues in this chain.\n",
      "INFO:root:Finished prediction in 40.17 seconds.\n",
      "INFO:root:Saving prediction to ./Davis/omega_2/PAK6.pdb\n",
      "INFO:root:Saved\n",
      "INFO:root:Done!\n"
     ]
    },
    {
     "name": "stderr",
     "output_type": "stream",
     "text": [
      " 81%|████████  | 424/522 [3:31:59<57:38, 35.29s/it]"
     ]
    },
    {
     "name": "stdout",
     "output_type": "stream",
     "text": [
      "SLK_0.seq\n",
      "INFO:root:Reading ./Davis/cut_seqs/SLK_0.seq\n",
      "MSFFNFRKIFKLGSEKKKKQYEHVKRDLNPEDFWEIIGELGDGAFGKVYKAQNKETSVLAAAKVIDTKSEEELEDYMVEIDILASCDHPNIVKLLDAFYYENNLWILIEFCAGGAVDAVMLELERPLTESQIQVVCKQTLDALNYLHDNKIIHRDLKAGNILFTLDGDIKLADFGVSAKNTRTIQRRDSFIGTPYWMAPEVVMCETSKDRPYDYKADVWSLGITLIEMAEIEPPHHELNPMRVLLKIAKSEPPTLAQPSRWSSNFKDFLKKCLEKNVDARWTTSQLLQHPFVTVDSNKPIRELIAEAKAEVTEEVEDGKEEDEEEETENSLPIPASKRASSDLSIASSEEDKLSQNACILESVSEKTERSNSEDKLNSKILNEKPTTDEPEKAVEDINEHITDAQLEAMTELHDRTAVIKENEREKRPKLENLPDTEDQETVDINSVSEGKENNIMITLETNIEHNLKSEEEKDQEKQQMFENKLIKSEEIKDTILQTVDLVSQETGEKEANIQAVDSEVGLTKEDTQEKLGEDDKTQKDVISNTSDVIGTCEAADVAQKVDEDSAEDTQSNDGKEVVEVGQKLINKPMVGPEAGGTKEVPIKEIVEMNEIEEGKNKEQAINSSENIMDINEEPGTTEGEEITESSSTEEMEVRSVVADTDQKALGSEVQDASKVTTQIDKEKKEIPVSIKKEPEVTVVSQPTEPQPVLIPSININSDSGENKEEIGSLSKTETILPPESENPKENDNDSGTGSTADTSSIDLNLSISSFLSKTKDSGSISLQETRRQKKTLKKTRKFIV\n",
      "INFO:root:Predicting 1th chain in ./Davis/cut_seqs/SLK_0.seq\n",
      "INFO:root:800 residues in this chain.\n",
      "INFO:root:Finished prediction in 57.06 seconds.\n",
      "INFO:root:Saving prediction to ./Davis/omega_2/SLK_0.pdb\n",
      "INFO:root:Saved\n",
      "INFO:root:Done!\n"
     ]
    },
    {
     "name": "stderr",
     "output_type": "stream",
     "text": [
      " 81%|████████▏ | 425/522 [3:32:57<1:08:01, 42.08s/it]"
     ]
    },
    {
     "name": "stdout",
     "output_type": "stream",
     "text": [
      "CSNK1D.seq\n",
      "INFO:root:Reading ./Davis/cut_seqs/CSNK1D.seq\n",
      "MELRVGNRYRLGRKIGSGSFGDIYLGTDIAAGEEVAIKLECVKTKHPQLHIESKIYKMMQGGVGIPTIRWCGAEGDYNVMVMELLGPSLEDLFNFCSRKFSLKTVLLLADQMISRIEYIHSKNFIHRDVKPDNFLMGLGKKGNLVYIIDFGLAKKYRDARTHQHIPYRENKNLTGTARYASINTHLGIEQSRRDDLESLGYVLMYFNLGSLPWQGLKAATKRQKYERISEKKMSTPIEVLCKGYPSEFATYLNFCRSLRFDDKPDYSYLRQLFRNLFHRQGFSYDYVFDWNMLKFGASRAADDAERERRDREERLRHSRNPATRGLPSTASGRLRGTQEVAPPTPLTPTSHTANTSPRPVSGMERERKVSMRLHRGAPVNISSSDLTGRQDTSRMSTSQIPGRVASSGLQSVVHR\n",
      "INFO:root:Predicting 1th chain in ./Davis/cut_seqs/CSNK1D.seq\n",
      "INFO:root:415 residues in this chain.\n",
      "INFO:root:Finished prediction in 11.95 seconds.\n",
      "INFO:root:Saving prediction to ./Davis/omega_2/CSNK1D.pdb\n",
      "INFO:root:Saved\n",
      "INFO:root:Done!\n"
     ]
    },
    {
     "name": "stderr",
     "output_type": "stream",
     "text": [
      " 82%|████████▏ | 426/522 [3:33:10<53:11, 33.25s/it]  "
     ]
    },
    {
     "name": "stdout",
     "output_type": "stream",
     "text": [
      "CLK4.seq\n",
      "INFO:root:Reading ./Davis/cut_seqs/CLK4.seq\n",
      "MRHSKRTHCPDWDSRESWGHESYRGSHKRKRRSHSSTQENRHCKPHHQFKESDCHYLEARSLNERDYRDRRYVDEYRNDYCEGYVPRHYHRDIESGYRIHCSKSSVRSRRSSPKRKRNRHCSSHQSRSKSHRRKRSRSIEDDEEGHLICQSGDVLRARYEIVDTLGEGAFGKVVECIDHGMDGMHVAVKIVKNVGRYREAARSEIQVLEHLNSTDPNSVFRCVQMLEWFDHHGHVCIVFELLGLSTYDFIKENSFLPFQIDHIRQMAYQICQSINFLHHNKLTHTDLKPENILFVKSDYVVKYNSKMKRDERTLKNTDIKVVDFGSATYDDEHHSTLVSTRHYRAPEVILALGWSQPCDVWSIGCILIEYYLGFTVFQTHDSKEHLAMMERILGPIPQHMIQKTRKRKYFHHNQLDWDEHSSAGRYVRRRCKPLKEFMLCHDEEHEKLFDLVRRMLEYDPTQRITLDEALQHPFFDLLKKK\n",
      "INFO:root:Predicting 1th chain in ./Davis/cut_seqs/CLK4.seq\n",
      "INFO:root:481 residues in this chain.\n",
      "INFO:root:Finished prediction in 17.37 seconds.\n",
      "INFO:root:Saving prediction to ./Davis/omega_2/CLK4.pdb\n",
      "INFO:root:Saved\n",
      "INFO:root:Done!\n"
     ]
    },
    {
     "name": "stderr",
     "output_type": "stream",
     "text": [
      " 82%|████████▏ | 427/522 [3:33:27<45:19, 28.63s/it]"
     ]
    },
    {
     "name": "stdout",
     "output_type": "stream",
     "text": [
      "STK16.seq\n",
      "INFO:root:Reading ./Davis/cut_seqs/STK16.seq\n",
      "MGHALCVCSRGTVIIDNKRYLFIQKLGEGGFSYVDLVEGLHDGHFYALKRILCHEQQDREEAQREADMHRLFNHPNILRLVAYCLRERGAKHEAWLLLPFFKRGTLWNEIERLKDKGNFLTEDQILWLLLGICRGLEAIHAKGYAHRDLKPTNILLGDEGQPVLMDLGSMNQACIHVEGSRQALTLQDWAAQRCTISYRAPELFSVQSHCVIDERTDVWSLGCVLYAMMFGEGPYDMVFQKGDSVALAVQNQLSIPQSPRHSSALRQLLNSMMTVDPHQRPHIPLLLSQLEALQPPAPGQHTTQI\n",
      "INFO:root:Predicting 1th chain in ./Davis/cut_seqs/STK16.seq\n",
      "INFO:root:305 residues in this chain.\n",
      "INFO:root:Finished prediction in 5.69 seconds.\n",
      "INFO:root:Saving prediction to ./Davis/omega_2/STK16.pdb\n",
      "INFO:root:Saved\n",
      "INFO:root:Done!\n"
     ]
    },
    {
     "name": "stderr",
     "output_type": "stream",
     "text": [
      " 82%|████████▏ | 428/522 [3:33:33<34:12, 21.84s/it]"
     ]
    },
    {
     "name": "stdout",
     "output_type": "stream",
     "text": [
      "MLK2_0.seq\n",
      "INFO:root:Reading ./Davis/cut_seqs/MLK2_0.seq\n",
      "MEEEEGAVAKEWGTTPAGPVWTAVFDYEAAGDEELTLRRGDRVQVLSQDCAVSGDEGWWTGQLPSGRVGVFPSNYVAPGAPAAPAGLQLPQEIPFHELQLEEIIGVGGFGKVYRALWRGEEVAVKAARLDPEKDPAVTAEQVCQEARLFGALQHPNIIALRGACLNPPHLCLVMEYARGGALSRVLAGRRVPPHVLVNWAVQVARGMNYLHNDAPVPIIHRDLKSINILILEAIENHNLADTVLKITDFGLAREWHKTTKMSAAGTYAWMAPEVIRLSLFSKSSDVWSFGVLLWELLTGEVPYREIDALAVAYGVAMNKLTLPIPSTCPEPFARLLEECWDPDPHGRPDFGSILKRLEVIEQSALFQMPLESFHSLQEDWKLEIQHMFDDLRTKEKELRSREEELLRAAQEQRFQEEQLRRREQELAEREMDIVERELHLLMCQLSQEKPRVRKRKGNFKRSRLLKLREGGSHISLPSGFEHKITVQASPTLDKRKGSDGASPPASPSIIPRLRAIRLTPVDCGGSSSGSSSGGSGTWSRGGPPKKEELVGGKKKGRTWGPSSTLQKERVGGEERLKGLGEGSKQWSSSAPNLGKSPKHTPIAPGFASLNEMEEFAEAEDGGSSVPPSPYSTPSYLSVPLPAEPSPGARAPWEPTPSAPPARWGHGARRRCDLALLGCATLLGAVGLGADVAEARAADGEEQRRWLDGLFFPRAGRFPRGLSPPARPHGRREDVGPGLGLAPSATLVSLSSVSDCNSTRSLLRSDSDEAAPAAPSPPPSPPAPTPTPSPSTNPLVDLELE\n",
      "INFO:root:Predicting 1th chain in ./Davis/cut_seqs/MLK2_0.seq\n",
      "INFO:root:800 residues in this chain.\n",
      "INFO:root:Finished prediction in 57.02 seconds.\n",
      "INFO:root:Saving prediction to ./Davis/omega_2/MLK2_0.pdb\n",
      "INFO:root:Saved\n",
      "INFO:root:Done!\n"
     ]
    },
    {
     "name": "stderr",
     "output_type": "stream",
     "text": [
      " 82%|████████▏ | 429/522 [3:34:31<50:35, 32.64s/it]"
     ]
    },
    {
     "name": "stdout",
     "output_type": "stream",
     "text": [
      "ROCK1_0.seq\n",
      "INFO:root:Reading ./Davis/cut_seqs/ROCK1_0.seq\n",
      "MSTGDSFETRFEKMDNLLRDPKSEVNSDCLLDGLDALVYDLDFPALRKNKNIDNFLSRYKDTINKIRDLRMKAEDYEVVKVIGRGAFGEVQLVRHKSTRKVYAMKLLSKFEMIKRSDSAFFWEERDIMAFANSPWVVQLFYAFQDDRYLYMVMEYMPGGDLVNLMSNYDVPEKWARFYTAEVVLALDAIHSMGFIHRDVKPDNMLLDKSGHLKLADFGTCMKMNKEGMVRCDTAVGTPDYISPEVLKSQGGDGYYGRECDWWSVGVFLYEMLVGDTPFYADSLVGTYSKIMNHKNSLTFPDDNDISKEAKNLICAFLTDREVRLGRNGVEEIKRHLFFKNDQWAWETLRDTVAPVVPDLSSDIDTSNFDDLEEDKGEEETFPIPKAFVGNQLPFVGFTYYSNRRYLSSANPNDNRTSSNADKSLQESLQKTIYKLEEQLHNEMQLKDEMEQKCRTSNIKLDKIMKELDEEGNQRRNLESTVSQIEKEKMLLQHRINEYQRKAEQENEKRRNVENEVSTLKDQLEDLKKVSQNSQLANEKLSQLQKQLEEANDLLRTESDTAVRLRKSHTEMSKSISQLESLNRELQERNRILENSKSQTDKDYYQLQAILEAERRDRGHDSEMIGDLQARITSLQEEVKHLKHNLEKVEGERKEAQDMLNHSEKEKNNLEIDLNYKLKSLQQRLEQEVNEHKVTKARLTDKHQSIEEAKSVAMCEMEKKLKEEREAREKAENRVVQIEKQCSMLDVDLKQSQQKLEHLTGNKERMEDEVKNLTLQLEQESNKRLLLQNELKTQAFEADNL\n",
      "INFO:root:Predicting 1th chain in ./Davis/cut_seqs/ROCK1_0.seq\n",
      "INFO:root:800 residues in this chain.\n",
      "INFO:root:Finished prediction in 57.09 seconds.\n",
      "INFO:root:Saving prediction to ./Davis/omega_2/ROCK1_0.pdb\n",
      "INFO:root:Saved\n",
      "INFO:root:Done!\n"
     ]
    },
    {
     "name": "stderr",
     "output_type": "stream",
     "text": [
      " 82%|████████▏ | 430/522 [3:35:29<1:01:42, 40.24s/it]"
     ]
    },
    {
     "name": "stdout",
     "output_type": "stream",
     "text": [
      "TGFBR2.seq\n",
      "INFO:root:Reading ./Davis/cut_seqs/TGFBR2.seq\n",
      "MGRGLLRGLWPLHIVLWTRIASTIPPHVQKSVNNDMIVTDNNGAVKFPQLCKFCDVRFSTCDNQKSCMSNCSITSICEKPQEVCVAVWRKNDENITLETVCHDPKLPYHDFILEDAASPKCIMKEKKKPGETFFMCSCSSDECNDNIIFSEEYNTSNPDLLLVIFQVTGISLLPPLGVAISVIIIFYCYRVNRQQKLSSTWETGKTRKLMEFSEHCAIILEDDRSDISSTCANNINHNTELLPIELDTLVGKGRFAEVYKAKLKQNTSEQFETVAVKIFPYEEYASWKTEKDIFSDINLKHENILQFLTAEERKTELGKQYWLITAFHAKGNLQEYLTRHVISWEDLRKLGSSLARGIAHLHSDHTPCGRPKMPIVHRDLKSSNILVKNDLTCCLCDFGLSLRLDPTLSVDDLANSGQVGTARYMAPEVLESRMNLENVESFKQTDVYSMALVLWEMTSRCNAVGEVKDYEPPFGSKVREHPCVESMKDNVLRDRGRPEIPSFWLNHQGIQMVCETLTECWDHDPEARLTAQCVAERFSELEHLDRLSGRSCSEEKIPEDGSLNTTK\n",
      "INFO:root:Predicting 1th chain in ./Davis/cut_seqs/TGFBR2.seq\n",
      "INFO:root:567 residues in this chain.\n",
      "INFO:root:Finished prediction in 25.54 seconds.\n",
      "INFO:root:Saving prediction to ./Davis/omega_2/TGFBR2.pdb\n",
      "INFO:root:Saved\n",
      "INFO:root:Done!\n"
     ]
    },
    {
     "name": "stderr",
     "output_type": "stream",
     "text": [
      " 83%|████████▎ | 431/522 [3:35:55<54:35, 36.00s/it]  "
     ]
    },
    {
     "name": "stdout",
     "output_type": "stream",
     "text": [
      "JAK2(JH1domain-catalytic)_1.seq\n",
      "INFO:root:Reading ./Davis/cut_seqs/JAK2(JH1domain-catalytic)_1.seq\n",
      "IIRDLNSLFTPDYELLTENDMLPNMRIGALGFSGAFEDRDPTQFEERHLKFLQQLGKGNFGSVEMCRYDPLQDNTGEVVAVKKLQHSTEEHLRDFEREIEILKSLQHDNIVKYKGVCYSAGRRNLKLIMEYLPYGSLRDYLQKHKERIDHIKLLQYTSQICKGMEYLGTKRYIHRDLATRNILVENENRVKIGDFGLTKVLPQDKEYYKVKEPGESPIFWYAPESLTESKFSVASDVWSFGVVLYELFTYIEKSKSPPAEFMRMIGNDKQGQMIVFHLIELLKNNGRLPRPDGCPDEIYMIMTECWNNNVNQRPSFRDLALRVDQIRDNMAG\n",
      "INFO:root:Predicting 1th chain in ./Davis/cut_seqs/JAK2(JH1domain-catalytic)_1.seq\n",
      "INFO:root:332 residues in this chain.\n",
      "INFO:root:Finished prediction in 6.84 seconds.\n",
      "INFO:root:Saving prediction to ./Davis/omega_2/JAK2(JH1domain-catalytic)_1.pdb\n",
      "INFO:root:Saved\n",
      "INFO:root:Done!\n"
     ]
    },
    {
     "name": "stderr",
     "output_type": "stream",
     "text": [
      " 83%|████████▎ | 432/522 [3:36:02<41:00, 27.34s/it]"
     ]
    },
    {
     "name": "stdout",
     "output_type": "stream",
     "text": [
      "ZAK.seq\n",
      "INFO:root:Reading ./Davis/cut_seqs/ZAK.seq\n",
      "MSSLGASFVQIKFDDLQFFENCGGGSFGSVYRAKWISQDKEVAVKKLLKIEKEAEILSVLSHRNIIQFYGVILEPPNYGIVTEYASLGSLYDYINSNRSEEMDMDHIMTWATDVAKGMHYLHMEAPVKVIHRDLKSRNVVIAADGVLKICDFGASRFHNHTTHMSLVGTFPWMAPEVIQSLPVSETCDTYSYGVVLWEMLTREVPFKGLEGLQVAWLVVEKNERLTIPSSCPRSFAELLHQCWEADAKKRPSFKQIISILESMSNDTSLPDKCNSFLHNKAEWRCEIEATLERLKKLERDLSFKEQELKERERRLKMWEQKLTEQSNTPLLPSFEIGAWTEDDVYCWVQQLVRKGDSSAEMSVYASLFKENNITGKRLLLLEEEDLKDMGIVSKGHIIHFKSAIEKLTHDYINLFHFPPLIKDSGGEPEENEEKIVNLELVFGFHLKPGTGPQDCKWKMYMEMDGDEIAITYIKDVTFNTNLPDAEILKMTKPPFVMEKWIVGIAKSQTVECTVTYESDVRTPKSTKHVHSIQWSRTKPQDEVKAVQLAIQTLFTNSDGNPGSRSDSSADCQWLDTLRMRQIASNTSLQRSQSNPILGSPFFSHFDGQDSYAAAVRRPQVPIKYQQITPVNQSRSSSPTQYGLTKNFSSLHLNSRDSGFSSGNTDTSSERGRYSDRSRNKYGRGSISLNSSPRGRYSGKSQHSTPSRGRYPGKFYRVSQSALNPHQSPDFKRSPRDLHQPNTIPGMPLHPETDSRASEEDSKVSEGGWTKVEYRKKPHRPSPAKTNKERARGDHRGWRNF\n",
      "INFO:root:Predicting 1th chain in ./Davis/cut_seqs/ZAK.seq\n",
      "INFO:root:800 residues in this chain.\n",
      "INFO:root:Finished prediction in 57.06 seconds.\n",
      "INFO:root:Saving prediction to ./Davis/omega_2/ZAK.pdb\n",
      "INFO:root:Saved\n",
      "INFO:root:Done!\n"
     ]
    },
    {
     "name": "stderr",
     "output_type": "stream",
     "text": [
      " 83%|████████▎ | 433/522 [3:37:01<54:12, 36.55s/it]"
     ]
    },
    {
     "name": "stdout",
     "output_type": "stream",
     "text": [
      "TGFBR1.seq\n",
      "INFO:root:Reading ./Davis/cut_seqs/TGFBR1.seq\n",
      "MEAAVAAPRPRLLLLVLAAAAAAAAALLPGATALQCFCHLCTKDNFTCVTDGLCFVSVTETTDKVIHNSMCIAEIDLIPRDRPFVCAPSSKTGSVTTTYCCNQDHCNKIELPTTVKSSPGLGPVELAAVIAGPVCFVCISLMLMVYICHNRTVIHHRVPNEEDPSLDRPFISEGTTLKDLIYDMTTSGSGSGLPLLVQRTIARTIVLQESIGKGRFGEVWRGKWRGEEVAVKIFSSREERSWFREAEIYQTVMLRHENILGFIAADNKDNGTWTQLWLVSDYHEHGSLFDYLNRYTVTVEGMIKLALSTASGLAHLHMEIVGTQGKPAIAHRDLKSKNILVKKNGTCCIADLGLAVRHDSATDTIDIAPNHRVGTKRYMAPEVLDDSINMKHFESFKRADIYAMGLVFWEIARRCSIGGIHEDYQLPYYDLVPSDPSVEEMRKVVCEQKLRPNIPNRWQSCEALRVMAKIMRECWYANGAARLTALRIKKTLSQLSQQEGIKM\n",
      "INFO:root:Predicting 1th chain in ./Davis/cut_seqs/TGFBR1.seq\n",
      "INFO:root:503 residues in this chain.\n",
      "INFO:root:Finished prediction in 19.21 seconds.\n",
      "INFO:root:Saving prediction to ./Davis/omega_2/TGFBR1.pdb\n",
      "INFO:root:Saved\n",
      "INFO:root:Done!\n"
     ]
    },
    {
     "name": "stderr",
     "output_type": "stream",
     "text": [
      " 83%|████████▎ | 434/522 [3:37:20<46:12, 31.50s/it]"
     ]
    },
    {
     "name": "stdout",
     "output_type": "stream",
     "text": [
      "SGK3.seq\n",
      "INFO:root:Reading ./Davis/cut_seqs/SGK3.seq\n",
      "MQRDHTMDYKESCPSVSIPSSDEHREKKKRFTVYKVLVSVGRSEWFVFRRYAEFDKLYNTLKKQFPAMALKIPAKRIFGDNFDPDFIKQRRAGLNEFIQNLVRYPELYNHPDVRAFLQMDSPKHQSDPSEDEDERSSQKLHSTSQNINLGPSGNPHAKPTDFDFLKVIGKGSFGKVLLAKRKLDGKFYAVKVLQKKIVLNRKEQKHIMAERNVLLKNVKHPFLVGLHYSFQTTEKLYFVLDFVNGGELFFHLQRERSFPEHRARFYAAEIASALGYLHSIKIVYRDLKPENILLDSVGHVVLTDFGLCKEGIAISDTTTTFCGTPEYLAPEVIRKQPYDNTVDWWCLGAVLYEMLYGLPPFYCRDVAEMYDNILHKPLSLRPGVSLTAWSILEELLEKDRQNRLGAKEDFLEIQNHPFFESLSWADLVQKKIPPPFNPNVAGPDDIRNFDTAFTEETVPYSVCVSSDYSIVNASVLEADDAFVGFSYAPPSEDLFL\n",
      "INFO:root:Predicting 1th chain in ./Davis/cut_seqs/SGK3.seq\n",
      "INFO:root:496 residues in this chain.\n",
      "INFO:root:Finished prediction in 17.93 seconds.\n",
      "INFO:root:Saving prediction to ./Davis/omega_2/SGK3.pdb\n",
      "INFO:root:Saved\n",
      "INFO:root:Done!\n"
     ]
    },
    {
     "name": "stderr",
     "output_type": "stream",
     "text": [
      " 83%|████████▎ | 435/522 [3:37:39<39:59, 27.58s/it]"
     ]
    },
    {
     "name": "stdout",
     "output_type": "stream",
     "text": [
      "YANK2.seq\n",
      "INFO:root:Reading ./Davis/cut_seqs/YANK2.seq\n",
      "MGGNHSHKPPVFDENEEVNFDHFQILRAIGKGSFGKVCIVQKRDTKKMYAMKYMNKQKCIERDEVRNVFRELQIMQGLEHPFLVNLWYSFQDEEDMFMVVDLLLGGDLRYHLQQNVHFTEGTVKLYICELALALEYLQRYHIIHRDIKPDNILLDEHGHVHITDFNIATVVKGAERASSMAGTKPYMAPEVFQVYMDRGPGYSYPVDWWSLGITAYELLRGWRPYEIHSVTPIDEILNMFKVERVHYSSTWCKGMVALLRKLLTKDPESRVSSLHDIQSVPYLADMNWDAVFKKALMPGFVPNKGRLNCDPTFELEEMILESKPLHKKKKRLAKNRSRDGTKDSCPLNGHLQHCLETVREEFIIFNREKLRRQQGQGSQLLDTDSRGGGQAQSKLQDGCNNNLLTHTCTRGCSS\n",
      "INFO:root:Predicting 1th chain in ./Davis/cut_seqs/YANK2.seq\n",
      "INFO:root:414 residues in this chain.\n",
      "INFO:root:Finished prediction in 11.49 seconds.\n",
      "INFO:root:Saving prediction to ./Davis/omega_2/YANK2.pdb\n",
      "INFO:root:Saved\n",
      "INFO:root:Done!\n"
     ]
    },
    {
     "name": "stderr",
     "output_type": "stream",
     "text": [
      " 84%|████████▎ | 436/522 [3:37:51<32:47, 22.88s/it]"
     ]
    },
    {
     "name": "stdout",
     "output_type": "stream",
     "text": [
      "PLK3.seq\n",
      "INFO:root:Reading ./Davis/cut_seqs/PLK3.seq\n",
      "MEPAAGFLSPRPFQRAAAAPAPPAGPGPPPSALRGPELEMLAGLPTSDPGRLITDPRSGRTYLKGRLLGKGGFARCYEATDTETGSAYAVKVIPQSRVAKPHQREKILNEIELHRDLQHRHIVRFSHHFEDADNIYIFLELCSRKSLAHIWKARHTLLEPEVRYYLRQILSGLKYLHQRGILHRDLKLGNFFITENMELKVGDFGLAARLEPPEQRKKTICGTPNYVAPEVLLRQGHGPEADVWSLGCVMYTLLCGSPPFETADLKETYRCIKQVHYTLPASLSLPARQLLAAILRASPRDRPSIDQILRHDFFTKGYTPDRLPISSCVTVPDLTPPNPARSLFAKVTKSLFGRKKKSKNHAQERDEVSGLVSGLMRTSVGHQDARPEAPAASGPAPVSLVETAPEDSSPRGTLASSGDGFEEGLTVATVVESALCALRNCIAFMPPAEQNPAPLAQPEPLVWVSKWVDYSNKFGFGYQLSSRRVAVLFNDGTHMALSANRKTVHYNPTSTKHFSFSVGAVPRALQPQLGILRYFASYMEQHLMKGGDLPSVEEVEVPAPPLLLQWVKTDQALLMLFSDGTVQVNFYGDHTKLILSGWEPLLVTFVARNRSACTYLASHLRQLGCSPDLRQRLRYALRLLRDRSPA\n",
      "INFO:root:Predicting 1th chain in ./Davis/cut_seqs/PLK3.seq\n",
      "INFO:root:646 residues in this chain.\n",
      "INFO:root:Finished prediction in 35.31 seconds.\n",
      "INFO:root:Saving prediction to ./Davis/omega_2/PLK3.pdb\n",
      "INFO:root:Saved\n",
      "INFO:root:Done!\n"
     ]
    },
    {
     "name": "stderr",
     "output_type": "stream",
     "text": [
      " 84%|████████▎ | 437/522 [3:38:27<37:58, 26.81s/it]"
     ]
    },
    {
     "name": "stdout",
     "output_type": "stream",
     "text": [
      "RSK3(KinDom.1-N-terminal).seq\n",
      "INFO:root:Reading ./Davis/cut_seqs/RSK3(KinDom.1-N-terminal).seq\n",
      "MDLSMKKFAVRRFFSVYLRRKSRSKSSSLSRLEEEGVVKEIDISHHVKEGFEKADPSQFELLKVLGQGSYGKVFLVRKVKGSDAGQLYAMKVLKKATLKVRDRVRSKMERDILAEVNHPFIVKLHYAFQTEGKLYLILDFLRGGDLFTRLSKEVMFTEEDVKFYLAELALALDHLHSLGIIYRDLKPENILLDEEGHIKITDFGLSKEAIDHDKRAYSFCGTIEYMAPEVVNRRGHTQSADWWSFGVLMFEMLTGSLPFQGKDRKETMALILKAKLGMPQFLSGEAQSLLRALFKRNPCNRLGAGIDGVEEIKRHPFFVTIDWNTLYRKEIKPPFKPAVGRPEDTFHFDPEFTARTPTDSPGVPPSANAHHLFRGFSFVASSLIQEPSQQDLHKVPVHPIVQQLHGNNIHFTDGYEIKEDIGVGSYSVCKRCVHKATDTEYAVKIIDKSKRDPSEEIEILLRYGQHPNIITLKDVYDDGKFVYLVMELMRGGELLDRILRQRYFSEREASDVLCTITKTMDYLHSQGVVHRDLKPSNILYRDESGSPESIRVCDFGFAKQLRAGNGLLMTPCYTANFVAPEVLKRQGYDAACDIWSLGILLYTMLAGFTPFANGPDDTPEEILARIGSGKYALSGGNWDSISDAAKDVVSKMLHVDPHQRLTAMQVLKHPWVVNREYLSPNQLSRQDVHLVKGAMAATYFALNRTPQAPRLEPVLSSNLAQRRGMKRLTSTRL\n",
      "INFO:root:Predicting 1th chain in ./Davis/cut_seqs/RSK3(KinDom.1-N-terminal).seq\n",
      "INFO:root:733 residues in this chain.\n",
      "INFO:root:Finished prediction in 49.35 seconds.\n",
      "INFO:root:Saving prediction to ./Davis/omega_2/RSK3(KinDom.1-N-terminal).pdb\n",
      "INFO:root:Saved\n",
      "INFO:root:Done!\n"
     ]
    },
    {
     "name": "stderr",
     "output_type": "stream",
     "text": [
      " 84%|████████▍ | 438/522 [3:39:17<47:18, 33.80s/it]"
     ]
    },
    {
     "name": "stdout",
     "output_type": "stream",
     "text": [
      "ALK_1.seq\n",
      "INFO:root:Reading ./Davis/cut_seqs/ALK_1.seq\n",
      "IEEEIRVNRSVHEWAGGGGGGGGATYVFKMKDGVPVPLIIAAGGGGRAYGAKTDTFHPERLENNSSVLGLNGNSGAAGGGGGWNDNTSLLWAGKSLQEGATGGHSCPQAMKKWGWETRGGFGGGGGGCSSGGGGGGYIGGNAASNNDPEMDGEDGVSFISPLGILYTPALKVMEGHGEVNIKHYLNCSHCEVDECHMDPESHKVICFCDHGTVLAEDGVSCIVSPTPEPHLPLSLILSVVTSALVAALVLAFSGIMIVYRRKHQELQAMQMELQSPEYKLSKLRTSTIMTDYNPNYCFAGKTSSISDLKEVPRKNITLIRGLGHGAFGEVYEGQVSGMPNDPSPLQVAVKTLPEVCSEQDELDFLMEALIISKFNHQNIVRCIGVSLQSLPRFILLELMAGGDLKSFLRETRPRPSQPSSLAMLDLLHVARDIACGCQYLEENHFIHRDIAARNCLLTCPGPGRVAKIGDFGMARDIYRASYYRKGGCAMLPVKWMPPEAFMEGIFTSKTDTWSFGVLLWEIFSLGYMPYPSKSNQEVLEFVTSGGRMDPPKNCPGPVYRIMTQCWQHQPEDRPNFAIILERIEYCTQDPDVINTALPIEYGPLVEEEEKVPVRPKDPEGVPPLLVSQQAKREEERSPAAPPPLPTTSSGKAAKKPTAAEISVRVPRGPAVEGGHVNMAFSQSNPPSELHKVHGSRNKPTSLWNPTYGSWFTEKPTKKNNPIAKKEPHDRGNLGLEGSCTVPPNVATGRLPGASLLLEPSSLTANMKEVPLFRLRHFPCGNVNYGYQQQGLPLEAATAPG\n",
      "INFO:root:Predicting 1th chain in ./Davis/cut_seqs/ALK_1.seq\n",
      "INFO:root:800 residues in this chain.\n",
      "INFO:root:Finished prediction in 57.02 seconds.\n",
      "INFO:root:Saving prediction to ./Davis/omega_2/ALK_1.pdb\n",
      "INFO:root:Saved\n",
      "INFO:root:Done!\n"
     ]
    },
    {
     "name": "stderr",
     "output_type": "stream",
     "text": [
      " 84%|████████▍ | 439/522 [3:40:15<56:49, 41.08s/it]"
     ]
    },
    {
     "name": "stdout",
     "output_type": "stream",
     "text": [
      "YANK1.seq\n",
      "INFO:root:Reading ./Davis/cut_seqs/YANK1.seq\n",
      "MGANTSRKPPVFDENEDVNFDHFEILRAIGKGSFGKVCIVQKNDTKKMYAMKYMNKQKCVERNEVRNVFKELQIMQGLEHPFLVNLWYSFQDEEDMFMVVDLLLGGDLRYHLQQNVHFKEETVKLFICELVMALDYLQNQRIIHRDMKPDNILLDEHGHVHITDFNIAAMLPRETQITTMAGTKPYMAPEMFSSRKGAGYSFAVDWWSLGVTAYELLRGRRPYHIRSSTSSKEIVHTFETTVVTYPSAWSQEMVSLLKKLLEPNPDQRFSQLSDVQNFPYMNDINWDAVFQKRLIPGFIPNKGRLNCDPTFELEEMILESKPLHKKKKRLAKKEKDMRKCDSSQTCLLQEHLDSVQKEFIIFNREKVNRDFNKRQPNLALEQTKDPQGEDGQNNNL\n",
      "INFO:root:Predicting 1th chain in ./Davis/cut_seqs/YANK1.seq\n",
      "INFO:root:396 residues in this chain.\n",
      "INFO:root:Finished prediction in 10.46 seconds.\n",
      "INFO:root:Saving prediction to ./Davis/omega_2/YANK1.pdb\n",
      "INFO:root:Saved\n",
      "INFO:root:Done!\n"
     ]
    },
    {
     "name": "stderr",
     "output_type": "stream",
     "text": [
      " 84%|████████▍ | 440/522 [3:40:26<43:44, 32.00s/it]"
     ]
    },
    {
     "name": "stdout",
     "output_type": "stream",
     "text": [
      "ASK2_0.seq\n",
      "INFO:root:Reading ./Davis/cut_seqs/ASK2_0.seq\n",
      "MAGPCPRSGAERAGSCWQDPLAVALSRGRQLAAPPGRGCARSRPLSVVYVLTREPQPGLEPREGTEAEPLPLRCLREACAQVPRPRPPPQLRSLPFGTLELGDTAALDAFYNADVVVLEVSSSLVQPSLFYHLGVRESFSMTNNVLLCSQADLPDLQALREDVFQKNSDCVGSYTLIPYVVTATGRVLCGDAGLLRGLADGLVQAGVGTEALLTPLVGRLARLLEATPTDSCGYFRETIRRDIRQARERFSGPQLRQELARLQRRLDSVELLSPDIIMNLLLSYRDVQDYSAIIELVETLQALPTCDVAEQHNVCFHYTFALNRRNRPGDRAKALSVLLPLVQLEGSVAPDLYCMCGRIYKDMFFSSGFQDAGHREQAYHWYRKAFDVEPSLHSGINAAVLLIAAGQHFEDSKELRLIGMKLGCLLARKGCVEKMQYYWDVGFYLGAQILANDPTQVVLAAEQLYKLNAPIWYLVSVMETFLLYQHFRPTPEPPGGPPRRAHFWLHFLLQSCQPFKTACAQGDQCLVLVLEMNKVLLPAKLEVRGTDPVSTVTLSLLEPETQDIPSSWTFPVASICGVSASKRDERCCFLYALPPAQDVQLCFPSVGHCQWFCGLIQAWVTNPDSTAPAEEAEGAGEMLEFDYEYTETGERLVLGKGTYGVVYAGRDRHTRVRIAIKEIPERDSRFSQPLHEEIALHRRLRHKNIVRYLGSASQGGYLKIFMEEVPGGSLSSLLRSVWGPLKDNESTISFYTRQILQGLGYLHDNHIVHRDIKGDNVLINTFSGLLKISDFGTSKRLAGI\n",
      "INFO:root:Predicting 1th chain in ./Davis/cut_seqs/ASK2_0.seq\n",
      "INFO:root:800 residues in this chain.\n",
      "INFO:root:Finished prediction in 57.03 seconds.\n",
      "INFO:root:Saving prediction to ./Davis/omega_2/ASK2_0.pdb\n",
      "INFO:root:Saved\n",
      "INFO:root:Done!\n"
     ]
    },
    {
     "name": "stderr",
     "output_type": "stream",
     "text": [
      " 84%|████████▍ | 441/522 [3:41:23<53:40, 39.76s/it]"
     ]
    },
    {
     "name": "stdout",
     "output_type": "stream",
     "text": [
      "PRKCQ.seq\n",
      "INFO:root:Reading ./Davis/cut_seqs/PRKCQ.seq\n",
      "MSPFLRIGLSNFDCGSCQSCQGEAVNPYCAVLVKEYVESENGQMYIQKKPTMYPPWDSTFDAHINKGRVMQIIVKGKNVDLISETTVELYSLAERCRKNNGKTEIWLELKPQGRMLMNARYFLEMSDTKDMNEFETEGFFALHQRRGAIKQAKVHHVKCHEFTATFFPQPTFCSVCHEFVWGLNKQGYQCRQCNAAIHKKCIDKVIAKCTGSAINSRETMFHKERFKIDMPHRFKVYNYKSPTFCEHCGTLLWGLARQGLKCDACGMNVHHRCQTKVANLCGINQKLMAEALAMIESTQQARCLRDTEQIFREGPVEIGLPCSIKNEARPPCLPTPGKREPQGISWESPLDEVDKMCHLPEPELNKERPSLQIKLKIEDFILHKMLGKGSFGKVFLAEFKKTNQFFAIKALKKDVVLMDDDVECTMVEKRVLSLAWEHPFLTHMFCTFQTKENLFFVMEYLNGGDLMYHIQSCHKFDLSRATFYAAEIILGLQFLHSKGIVYRDLKLDNILLDKDGHIKIADFGMCKENMLGDAKTNTFCGTPDYIAPEILLGQKYNHSVDWWSFGVLLYEMLIGQSPFHGQDEEELFHSIRMDNPFYPRWLEKEAKDLLVKLFVREPEKRLGVRGDIRQHPLFREINWEELERKEIDPPFRPKVKSPFDCSNFDKEFLNEKPRLSFADRALINSMDQNMFRNFSFMNPGMERLIS\n",
      "INFO:root:Predicting 1th chain in ./Davis/cut_seqs/PRKCQ.seq\n",
      "INFO:root:706 residues in this chain.\n",
      "INFO:root:Finished prediction in 44.51 seconds.\n",
      "INFO:root:Saving prediction to ./Davis/omega_2/PRKCQ.pdb\n",
      "INFO:root:Saved\n",
      "INFO:root:Done!\n"
     ]
    },
    {
     "name": "stderr",
     "output_type": "stream",
     "text": [
      " 85%|████████▍ | 442/522 [3:42:09<55:15, 41.44s/it]"
     ]
    },
    {
     "name": "stdout",
     "output_type": "stream",
     "text": [
      "GAK_1.seq\n",
      "INFO:root:Reading ./Davis/cut_seqs/GAK_1.seq\n",
      "KEAETGAENASSKESESALMEDRDESEVSDEGGSPISSEGQEPRADPEPPGLAAGLVQQDLVFEVETPAVLPEPVPQEDGVDLLGLHSEVGAGPAVPPQACKAPSSNTDLLSCLLGPPEAASQGPPEDLLSEDPLLLASPAPPLSVQSTPRGGPPAAADPFGPLLPSSGNNSQPCSNPDLFGEFLNSDSVTVPPSFPSAHSAPPPSCSADFLHLGDLPGEPSKMTASSSNPDLLGGWAAWTETAASAVAPTPATEGPLFSPGGQPAPCGSQASWTKSQNPDPFADLGDLSSGLQGSPAGFPPGGFIPKTATTPKGSSSWQTSRPPAQGASWPPQAKPPPKACTQPRPNYASNFSVIGAREERGVRAPSFAQKPKVSENDFEDLLSNQGFSSRSDKKGPKTIAEMRKQDLAKDTDPLKLKLLDWIEGKERNIRALLSTLHTVLWDGESRWTPVGMADLVAPEQVKKHYRRAVLAVHPDKAAGQPYEQHAKMIFMELNDAWSEFENQGSRPLF\n",
      "INFO:root:Predicting 1th chain in ./Davis/cut_seqs/GAK_1.seq\n",
      "INFO:root:511 residues in this chain.\n",
      "INFO:root:Finished prediction in 19.86 seconds.\n",
      "INFO:root:Saving prediction to ./Davis/omega_2/GAK_1.pdb\n",
      "INFO:root:Saved\n",
      "INFO:root:Done!\n"
     ]
    },
    {
     "name": "stderr",
     "output_type": "stream",
     "text": [
      " 85%|████████▍ | 443/522 [3:42:29<46:14, 35.11s/it]"
     ]
    },
    {
     "name": "stdout",
     "output_type": "stream",
     "text": [
      "MAP3K1_1.seq\n",
      "INFO:root:Reading ./Davis/cut_seqs/MAP3K1_1.seq\n",
      "ALQSIDNSHSMVGKLSRRIYLSSARMVTTVPHVFSKLLEMLSVSSSTHFTRMRRRLMAIADEVEIAEAIQLGVEDTLDGQQDSFLQASVPNNYLETTENSSPECTVHLEKTGKGLCATKLSASSEDISERLASISVGPSSSTTTTTTTTEQPKPMVQTKGRPHSQCLNSSPLSHHSQLMFPALSTPSSSTPSVPAGTATDVSKHRLQGFIPCRIPSASPQTQRKFSLQFHRNCPENKDSDKLSPVFTQSRPLPSSNIHRPKPSRPTPGNTSKQGDPSKNSMTLDLNSSSKCDDSFGCSSNSSNAVIPSDETVFTPVEEKCRLDVNTELNSSIEDLLEASMPSSDTTVTFKSEVAVLSPEKAENDDTYKDDVNHNQKCKEKMEAEEEEALAIAMAMSASQDALPIVPQLQVENGEDIIIIQQDTPETLPGHTKAKQPYREDTEWLKGQQIGLGAFSSCYQAQDVGTGTLMAVKQVTYVRNTSSEQEEVVEALREEIRMMSHLNHPNIIRMLGATCEKSNYNLFIEWMAGGSVAHLLSKYGAFKESVVINYTEQLLRGLSYLHENQIIHRDVKGANLLIDSTGQRLRIADFGAAARLASKGTGAGEFQGQLLGTIAFMAPEVLRGQQYGRSCDVWSVGCAIIEMACAKPPWNAEKHSNHLALIFKIASATTAPSIPSHLSPGLRDVALRCLELQPQDRPPSRELLKHPVFRTTW\n",
      "INFO:root:Predicting 1th chain in ./Davis/cut_seqs/MAP3K1_1.seq\n",
      "INFO:root:712 residues in this chain.\n",
      "INFO:root:Finished prediction in 43.27 seconds.\n",
      "INFO:root:Saving prediction to ./Davis/omega_2/MAP3K1_1.pdb\n",
      "INFO:root:Saved\n",
      "INFO:root:Done!\n"
     ]
    },
    {
     "name": "stderr",
     "output_type": "stream",
     "text": [
      " 85%|████████▌ | 444/522 [3:43:13<49:07, 37.79s/it]"
     ]
    },
    {
     "name": "stdout",
     "output_type": "stream",
     "text": [
      "MYO3A_2.seq\n",
      "INFO:root:Reading ./Davis/cut_seqs/MYO3A_2.seq\n",
      "RLLRKTSQRRRLVQQS\n",
      "INFO:root:Predicting 1th chain in ./Davis/cut_seqs/MYO3A_2.seq\n",
      "INFO:root:16 residues in this chain.\n",
      "INFO:root:Finished prediction in 0.51 seconds.\n",
      "INFO:root:Saving prediction to ./Davis/omega_2/MYO3A_2.pdb\n",
      "INFO:root:Saved\n",
      "INFO:root:Done!\n"
     ]
    },
    {
     "name": "stderr",
     "output_type": "stream",
     "text": [
      " 85%|████████▌ | 445/522 [3:43:14<34:12, 26.65s/it]"
     ]
    },
    {
     "name": "stdout",
     "output_type": "stream",
     "text": [
      "MEK3.seq\n",
      "INFO:root:Reading ./Davis/cut_seqs/MEK3.seq\n",
      "MESPASSQPASMPQSKGKSKRKKDLRISCMSKPPAPNPTPPRNLDSRTFITIGDRNFEVEADDLVTISELGRGAYGVVEKVRHAQSGTIMAVKRIRATVNSQEQKRLLMDLDINMRTVDCFYTVTFYGALFREGDVWICMELMDTSLDKFYRKVLDKNMTIPEDILGEIAVSIVRALEHLHSKLSVIHRDVKPSNVLINKEGHVKMCDFGISGYLVDSVAKTMDAGCKPYMAPERINPELNQKGYNVKSDVWSLGITMIEMAILRFPYESWGTPFQQLKQVVEEPSPQLPADRFSPEFVDFTAQCLRKNPAERMSYLELMEHPFFTLHKTKKTDIAAFVKEILGEDS\n",
      "INFO:root:Predicting 1th chain in ./Davis/cut_seqs/MEK3.seq\n",
      "INFO:root:347 residues in this chain.\n",
      "INFO:root:Finished prediction in 7.63 seconds.\n",
      "INFO:root:Saving prediction to ./Davis/omega_2/MEK3.pdb\n",
      "INFO:root:Saved\n",
      "INFO:root:Done!\n"
     ]
    },
    {
     "name": "stderr",
     "output_type": "stream",
     "text": [
      " 85%|████████▌ | 446/522 [3:43:22<26:39, 21.05s/it]"
     ]
    },
    {
     "name": "stdout",
     "output_type": "stream",
     "text": [
      "SRPK2.seq\n",
      "INFO:root:Reading ./Davis/cut_seqs/SRPK2.seq\n",
      "MSVNSEKSSSSERPEPQQKAPLVPPPPPPPPPPPPPLPDPTPPEPEEEILGSDDEEQEDPADYCKGGYHPVKIGDLFNGRYHVIRKLGWGHFSTVWLCWDMQGKRFVAMKVVKSAQHYTETALDEIKLLKCVRESDPSDPNKDMVVQLIDDFKISGMNGIHVCMVFEVLGHHLLKWIIKSNYQGLPVRCVKSIIRQVLQGLDYLHSKCKIIHTDIKPENILMCVDDAYVRRMAAEATEWQKAGAPPPSGSAVSTAPQQKPIGKISKNKKKKLKKKQKRQAELLEKRLQEIEELEREAERKIIEENITSAAPSNDQDGEYCPEVKLKTTGLEEAAEAETAKDNGEAEDQEEKEDAEKENIEKDEDDVDQELANIDPTWIESPKTNGHIENGPFSLEQQLDDEDDDEEDCPNPEEYNLDEPNAESDYTYSSSYEQFNGELPNGRHKIPESQFPEFSTSLFSGSLEPVACGSVLSEGSPLTEQEESSPSHDRSRTVSASSTGDLPKAKTRAADLLVNPLDPRNADKIRVKIADLGNACWVHKHFTEDIQTRQYRSIEVLIGAGYSTPADIWSTACMAFELATGDYLFEPHSGEDYSRDEDHIAHIIELLGSIPRHFALSGKYSREFFNRRGELRHITKLKPWSLFDVLVEKYGWPHEDAAQFTDFLIPMLEMVPEKRASAGECLRHPWLNS\n",
      "INFO:root:Predicting 1th chain in ./Davis/cut_seqs/SRPK2.seq\n",
      "INFO:root:688 residues in this chain.\n",
      "INFO:root:Finished prediction in 38.81 seconds.\n",
      "INFO:root:Saving prediction to ./Davis/omega_2/SRPK2.pdb\n",
      "INFO:root:Saved\n",
      "INFO:root:Done!\n"
     ]
    },
    {
     "name": "stderr",
     "output_type": "stream",
     "text": [
      " 86%|████████▌ | 447/522 [3:44:01<33:14, 26.60s/it]"
     ]
    },
    {
     "name": "stdout",
     "output_type": "stream",
     "text": [
      "MYO3B_1.seq\n",
      "INFO:root:Reading ./Davis/cut_seqs/MYO3B_1.seq\n",
      "FPQATDQTLVDKFEDNLRCKYFWRPKGVELCFGIQHYAGKVLYDASGVLEKNRDTLPADVVVVLRTSENKLLQQLFSIPLTKTGNLAQTRARITVASSSLPPHFSAGKAKVDTLEVIRHPEETTNMKRQTVASYFRYSLMDLLSKMVVGQPHFVRCIKPNDDREALQFSRERVLAQLRSTGILETVSIRRQGYSHRILFEEFVKRYYYLAFTAHQTPLASKESCVAILEKSRLDHWVLGKTKVFLKYYHVEQLNLLLREVIGRVVVLQAYTKGWLGARRYKRVREKREKGAIAIQSAWRGYDARRKFKKISNRRNESAAHNQAGDTSNQSSGPHSPVAAGTRGSAEVQDCSEPGDHKVLRGSVHRRSHSQAESNNGRTQTSSNSPAVTEKNGHSQAQSSPKGCDIFAGHANKHSVSGTDLLSSRICHPAPDQQGLSLWGAPQKPGSENGLAQKHRTPRRRCQQPKMLSSPEDTMYYNQLNGTLEYQGSKRKPRKLGQIKVLDGEDEYYKSLSPVDCIPEENNSAHPSFFSSSSKGDSFAQH\n",
      "INFO:root:Predicting 1th chain in ./Davis/cut_seqs/MYO3B_1.seq\n",
      "INFO:root:541 residues in this chain.\n",
      "INFO:root:Finished prediction in 23.11 seconds.\n",
      "INFO:root:Saving prediction to ./Davis/omega_2/MYO3B_1.pdb\n",
      "INFO:root:Saved\n",
      "INFO:root:Done!\n"
     ]
    },
    {
     "name": "stderr",
     "output_type": "stream",
     "text": [
      " 86%|████████▌ | 448/522 [3:44:25<31:44, 25.73s/it]"
     ]
    },
    {
     "name": "stdout",
     "output_type": "stream",
     "text": [
      "EPHB4_0.seq\n",
      "INFO:root:Reading ./Davis/cut_seqs/EPHB4_0.seq\n",
      "MELRVLLCWASLAAALEETLLNTKLETADLKWVTFPQVDGQWEELSGLDEEQHSVRTYEVCDVQRAPGQAHWLRTGWVPRRGAVHVYATLRFTMLECLSLPRAGRSCKETFTVFYYESDADTATALTPAWMENPYIKVDTVAAEHLTRKRPGAEATGKVNVKTLRLGPLSKAGFYLAFQDQGACMALLSLHLFYKKCAQLTVNLTRFPETVPRELVVPVAGSCVVDAVPAPGPSPSLYCREDGQWAEQPVTGCSCAPGFEAAEGNTKCRACAQGTFKPLSGEGSCQPCPANSHSNTIGSAVCQCRVGYFRARTDPRGAPCTTPPSAPRSVVSRLNGSSLHLEWSAPLESGGREDLTYALRCRECRPGGSCAPCGGDLTFDPGPRDLVEPWVVVRGLRPDFTYTFEVTALNGVSSLATGPVPFEPVNVTTDREVPPAVSDIRVTRSSPSSLSLAWAVPRAPSGAVLDYEVKYHEKGAEGPSSVRFLKTSENRAELRGLKRGASYLVQVRARSEAGYGPFGQEHHSQTQLDESEGWREQLALIAGTAVVGVVLVLVVIVVAVLCLRKQSNGREAEYSDKHGQYLIGHGTKVYIDPFTYEDPNEAVREFAKEIDVSYVKIEEVIGAGEFGEVCRGRLKAPGKKESCVAIKTLKGGYTERQRREFLSEASIMGQFEHPNIIRLEGVVTNSMPVMILTEFMENGALDSFLRLNDGQFTVIQLVGMLRGIASGMRYLAEMSYVHRDLAARNILVNSNLVCKVSDFGLSRFLEENSSDPTYTSSLGGKIPIRWTAPEAIAFRKFTSA\n",
      "INFO:root:Predicting 1th chain in ./Davis/cut_seqs/EPHB4_0.seq\n",
      "INFO:root:800 residues in this chain.\n",
      "INFO:root:Finished prediction in 57.04 seconds.\n",
      "INFO:root:Saving prediction to ./Davis/omega_2/EPHB4_0.pdb\n",
      "INFO:root:Saved\n",
      "INFO:root:Done!\n"
     ]
    },
    {
     "name": "stderr",
     "output_type": "stream",
     "text": [
      " 86%|████████▌ | 449/522 [3:45:24<43:23, 35.67s/it]"
     ]
    },
    {
     "name": "stdout",
     "output_type": "stream",
     "text": [
      "MLK1.seq\n",
      "INFO:root:Reading ./Davis/cut_seqs/MLK1.seq\n",
      "QLTPTNSLKRGGAHHRRCEVALLGCGAVLAATGLGFDLLEAGKCQLLPLEEPEPPAREEKKRREGLFQRSSRPRRSTSPPSRKLFKKEEPMLLLGDPSASLTLLSLSSISECNSTRSLLRSDSDEIVVYEMPVSPVEAPPLSPCTHNPLVNVRVERFKRDPNQSLTPTHVTLTTPSQPSSHRRTPSDGALKPETLLASRSPSSNGLSPSPGAGMLKTPSPSRDPGEFPRLPDPNVVFPPTPRRWNTQQDSTLERPKTLEFLPRPRPSANRQRLDPWWFVSPSHARSTSPANSSSTETPSNLDSCFASSSSTVEERPGLPALLPFQAGPLPPTERTLLDLDAEGQSQDSTVPLCRAELNTHRPAPYEIQQEFWS\n",
      "INFO:root:Predicting 1th chain in ./Davis/cut_seqs/MLK1.seq\n",
      "INFO:root:373 residues in this chain.\n",
      "INFO:root:Finished prediction in 9.11 seconds.\n",
      "INFO:root:Saving prediction to ./Davis/omega_2/MLK1.pdb\n",
      "INFO:root:Saved\n",
      "INFO:root:Done!\n"
     ]
    },
    {
     "name": "stderr",
     "output_type": "stream",
     "text": [
      " 86%|████████▌ | 450/522 [3:45:33<33:22, 27.81s/it]"
     ]
    },
    {
     "name": "stdout",
     "output_type": "stream",
     "text": [
      "PIK3CG_1.seq\n",
      "INFO:root:Reading ./Davis/cut_seqs/PIK3CG_1.seq\n",
      "CKVMASKKKPLWLEFKCADPTALSNETIGIIFKHGDDLRQDMLILQILRIMESIWETESLDLCLLPYGCISTGDKIGMIEIVKDATTIAKIQQSTVGNTGAFKDEVLNHWLKEKSPTEEKFQAAVERFVYSCAGYCVATFVLGIGDRHNDNIMITETGNLFHIDFGHILGNYKSFLGINKERVPFVLTPDFLFVMGTSGKKTSPHFQKFQDICVKAYLALRHHTNLLIILFSMMLMTGMPQLTSKEDIEYIRDALTVGKNEEDAKKYFLDQIEVCRDKGWTVQFNWFLHLVLGIKQGEKHSA\n",
      "INFO:root:Predicting 1th chain in ./Davis/cut_seqs/PIK3CG_1.seq\n",
      "INFO:root:302 residues in this chain.\n",
      "INFO:root:Finished prediction in 5.43 seconds.\n",
      "INFO:root:Saving prediction to ./Davis/omega_2/PIK3CG_1.pdb\n",
      "INFO:root:Saved\n",
      "INFO:root:Done!\n"
     ]
    },
    {
     "name": "stderr",
     "output_type": "stream",
     "text": [
      " 86%|████████▋ | 451/522 [3:45:39<25:03, 21.18s/it]"
     ]
    },
    {
     "name": "stdout",
     "output_type": "stream",
     "text": [
      "PKN1_0.seq\n",
      "INFO:root:Reading ./Davis/cut_seqs/PKN1_0.seq\n",
      "MASDAVQSEPRSWSLLEQLGLAGADLAAPGVQQQLELERERLRREIRKELKLKEGAENLRRATTDLGRSLGPVELLLRGSSRRLDLLHQQLQELHAHVVLPDPAATHDGPQSPGAGGPTCSATNLSRVAGLEKQLAIELKVKQGAENMIQTYSNGSTKDRKLLLTAQQMLQDSKTKIDIIRMQLRRALQAGQLENQAAPDDTQGSPDLGAVELRIEELRHHFRVEHAVAEGAKNVLRLLSAAKAPDRKAVSEAQEKLTESNQKLGLLREALERRLGELPADHPKGRLLREELAAASSAAFSTRLAGPFPATHYSTLCKPAPLTGTLEVRVVGCRDLPETIPWNPTPSMGGPGTPDSRPPFLSRPARGLYSRSGSLSGRSSLKAEAENTSEVSTVLKLDNTVVGQTSWKPCGPNAWDQSFTLELERARELELAVFWRDQRGLCALKFLKLEDFLDNERHEVQLDMEPQGCLVAEVTFRNPVIERIPRLRRQKKIFSKQQGKAFQRARQMNIDVATWVRLLRRLIPNATGTGTFSPGASPGSEARTTGDISVEKLNLGTDSDSSPQKSSRDPPSSPSSLSSPIQESTAPELPSETQETPGPALCSPLRKSPLTLEDFKFLAVLGRGHFGKVLLSEFRPSGELFAIKALKKGDIVARDEVESLMCEKRILAAVTSAGHPFLVNLFGCFQTPEHVCFVMEYSAGGDLMLHIHSDVFSEPRAIFYSACVVLGLQFLHEHKIVYRDLKLDNLLLDTEGYVKIADFGLCKEGMGYGDRTSTFCGTPEFLAPEVLTDTSYTRAVDWWG\n",
      "INFO:root:Predicting 1th chain in ./Davis/cut_seqs/PKN1_0.seq\n",
      "INFO:root:800 residues in this chain.\n",
      "INFO:root:Finished prediction in 57.00 seconds.\n",
      "INFO:root:Saving prediction to ./Davis/omega_2/PKN1_0.pdb\n",
      "INFO:root:Saved\n",
      "INFO:root:Done!\n"
     ]
    },
    {
     "name": "stderr",
     "output_type": "stream",
     "text": [
      " 87%|████████▋ | 452/522 [3:46:37<37:34, 32.21s/it]"
     ]
    },
    {
     "name": "stdout",
     "output_type": "stream",
     "text": [
      "CSNK2A1.seq\n",
      "INFO:root:Reading ./Davis/cut_seqs/CSNK2A1.seq\n",
      "MSGPVPSRARVYTDVNTHRPREYWDYESHVVEWGNQDDYQLVRKLGRGKYSEVFEAINITNNEKVVVKILKPVKKKKIKREIKILENLRGGPNIITLADIVKDPVSRTPALVFEHVNNTDFKQLYQTLTDYDIRFYMYEILKALDYCHSMGIMHRDVKPHNVMIDHEHRKLRLIDWGLAEFYHPGQEYNVRVASRYFKGPELLVDYQMYDYSLDMWSLGCMLASMIFRKEPFFHGHDNYDQLVRIAKVLGTEDLYDYIDKYNIELDPRFNDILGRHSRKRWERFVHSENQHLVSPEALDFLDKLLRYDHQSRLTAREAMEHPYFYTVVKDQARMGSSSMPGGSTPVSSANMMSGISSVPTPSPLGPLAGSPVIAAANPLGMPVPAAAGAQQ\n",
      "INFO:root:Predicting 1th chain in ./Davis/cut_seqs/CSNK2A1.seq\n",
      "INFO:root:391 residues in this chain.\n",
      "INFO:root:Finished prediction in 10.35 seconds.\n",
      "INFO:root:Saving prediction to ./Davis/omega_2/CSNK2A1.pdb\n",
      "INFO:root:Saved\n",
      "INFO:root:Done!\n"
     ]
    },
    {
     "name": "stderr",
     "output_type": "stream",
     "text": [
      " 87%|████████▋ | 453/522 [3:46:48<29:36, 25.75s/it]"
     ]
    },
    {
     "name": "stdout",
     "output_type": "stream",
     "text": [
      "TNK1.seq\n",
      "INFO:root:Reading ./Davis/cut_seqs/TNK1.seq\n",
      "MLPEAGSLWLLKLLRDIQLAQFYWPILEELNVTRPEHFDFVKPEDLDGIGMGRPAQRRLSEALKRLRSGPKSKNWVYKILGGFAPEHKEPTLPSDSPRHLPEPEGGLKCLIPEGAVCRGELLGSGCFGVVHRGLWTLPSGKSVPVAVKSLRVGPEGPMGTELGDFLREVSVMMNLEHPHVLRLHGLVLGQPLQMVMELAPLGSLHARLTAPAPTPPLLVALLCLFLRQLAGAMAYLGARGLVHRDLATRNLLLASPRTIKVADFGLVRPLGGARGRYVMGGPRPIPYAWCAPESLRHGAFSSASDVWMFGVTLWEMFSGGEEPWAGVPPYLILQRLEDRARLPRPPLCSRALYSLALRCWAPHPADRPSFSHLEGLLQEAGPSEACCVRDVTEPGALRMETGDPITVIEGSSSFHSPDSTIWKGQNGRTFKVGSFPASAVTLADAGGLPATRPVHRGTPARGDQHPGSIDGDRKKANLWDAPPARGQRRNMPLERMKGISRSLESVLSLGPRPTGGGSSPPEIRQARAVPQGPPGLPPRPPLSSSSPQPSQPSRERLPWPKRKPPHNHPMGMPGARKAAALSGGLLSDPELQRKIMEVELSVHGVTHQECQTALGATGGDVVSAIRNLKVDQLFHLSSRSRADCWRILEHYQWDLSAASRYVLARP\n",
      "INFO:root:Predicting 1th chain in ./Davis/cut_seqs/TNK1.seq\n",
      "INFO:root:666 residues in this chain.\n",
      "INFO:root:Finished prediction in 37.63 seconds.\n",
      "INFO:root:Saving prediction to ./Davis/omega_2/TNK1.pdb\n",
      "INFO:root:Saved\n",
      "INFO:root:Done!\n"
     ]
    },
    {
     "name": "stderr",
     "output_type": "stream",
     "text": [
      " 87%|████████▋ | 454/522 [3:47:26<33:28, 29.53s/it]"
     ]
    },
    {
     "name": "stdout",
     "output_type": "stream",
     "text": [
      "PIK3C2B_1.seq\n",
      "INFO:root:Reading ./Davis/cut_seqs/PIK3C2B_1.seq\n",
      "KFSPRYEFGSLREEDQRKLKDIMQKESLYWLTDADKKRLWEKRYYCHSEVSSLPLVLASAPSWEWACLPDIYVLLKQWTHMNHQDALGLLHATFPDQEVRRMAVQWIGSLSDAELLDYLPQLVQALKYECYLDSPLVRFLLKRAVSDLRVTHYFFWLLKDGLKDSQFSIRYQYLLAALLCCCGKGLREEFNRQCWLVNALAKLAQQVREAAPSARQGILRTGLEEVKQFFALNGSCRLPLSPSLLVKGIVPRDCSYFNSNAVPLKLSFQNVDPLGENIRVIFKCGDDLRQDMLTLQMIRIMSKIWVQEGLDMRMVIFRCFSTGRGRGMVEMIPNAETLRKIQVEHGVTGSFKDRPLADWLQKHNPGEDEYEKAVENFIYSCAGCCVATYVLGICDRHNDNIMLKTTGHMFHIDFGRFLGHAQMFGNIKRDRAPFVFTSDMAYVINGGDKPSSRFHDFVDLCCQAYNLIRKHTHLFLNLLGLMLSCGIPELSDLEDLKYVYDALRPQDTEANATTYFTRLIESSLGSVATKLNFFIHNLAQMKFTGSDDRLTLSFASRTHTLKSSGRISDVFLCRHEKIFHPNKGYIYVVKVMRENTHEATYIQRTFEEFQELHNKLRLLFPSSHLPSFPSRFVIGRSRGEAVAERRREELNGYIWHLIHAPPEVAECDLVYTFFHPLPRDEKAMGTSPAPKSSDGTWARPVGKVGGEVKLSISYKNNKLFIMVMHIRGLQLLQDGNDPDPYVKIYLLPDPQKTTKRKTKVARKTCNPTYNEMLVYDGIPKGDLQQRELQLSVLSEQGFWE\n",
      "INFO:root:Predicting 1th chain in ./Davis/cut_seqs/PIK3C2B_1.seq\n",
      "INFO:root:800 residues in this chain.\n",
      "INFO:root:Finished prediction in 57.07 seconds.\n",
      "INFO:root:Saving prediction to ./Davis/omega_2/PIK3C2B_1.pdb\n",
      "INFO:root:Saved\n",
      "INFO:root:Done!\n"
     ]
    },
    {
     "name": "stderr",
     "output_type": "stream",
     "text": [
      " 87%|████████▋ | 455/522 [3:48:24<42:29, 38.05s/it]"
     ]
    },
    {
     "name": "stdout",
     "output_type": "stream",
     "text": [
      "RPS6KA4(KinDom.1-N-terminal).seq\n",
      "INFO:root:Reading ./Davis/cut_seqs/RPS6KA4(KinDom.1-N-terminal).seq\n",
      "MGDEDDDESCAVELRITEANLTGHEEKVSVENFELLKVLGTGAYGKVFLVRKAGGHDAGKLYAMKVLRKAALVQRAKTQEHTRTERSVLELVRQAPFLVTLHYAFQTDAKLHLILDYVSGGEMFTHLYQRQYFKEAEVRVYGGEIVLALEHLHKLGIIYRDLKLENVLLDSEGHIVLTDFGLSKEFLTEEKERTFSFCGTIEYMAPEIIRSKTGHGKAVDWWSLGILLFELLTGASPFTLEGERNTQAEVSRRILKCSPPFPPRIGPVAQDLLQRLLCKDPKKRLGAGPQGAQEVRNHPFFQGLDWVALAARKIPAPFRPQIRSELDVGNFAEEFTRLEPVYSPPGSPPPGDPRIFQGYSFVAPSILFDHNNAVMTDGLEAPGAGDRPGRAAVARSAMMQDSPFFQQYELDLREPALGQGSFSVCRRCRQRQSGQEFAVKILSRRLEANTQREVAALRLCQSHPNVVNLHEVHHDQLHTYLVLELLRGGELLEHIRKKRHFSESEASQILRSLVSAVSFMHEEAGVVHRDLKPENILYADDTPGAPVKIIDFGFARLRPQSPGVPMQTPCFTLQYAAPELLAQQGYDESCDLWSLGVILYMMLSGQVPFQGASGQGGQSQAAEIMCKIREGRFSLDGEAWQGVSEEAKELVRGLLTVDPAKRLKLEGLRGSSWLQDGSARSSPPLRTPDVLESSGPAVRSGLNATFMAFNRGKREGFFLKSVENAPLAKRRKQKLRSATASRRGSPAPANPGRAPVASKGAPRRANGPLPPS\n",
      "INFO:root:Predicting 1th chain in ./Davis/cut_seqs/RPS6KA4(KinDom.1-N-terminal).seq\n",
      "INFO:root:772 residues in this chain.\n",
      "INFO:root:Finished prediction in 54.41 seconds.\n",
      "INFO:root:Saving prediction to ./Davis/omega_2/RPS6KA4(KinDom.1-N-terminal).pdb\n",
      "INFO:root:Saved\n",
      "INFO:root:Done!\n"
     ]
    },
    {
     "name": "stderr",
     "output_type": "stream",
     "text": [
      " 87%|████████▋ | 456/522 [3:49:19<47:32, 43.21s/it]"
     ]
    },
    {
     "name": "stdout",
     "output_type": "stream",
     "text": [
      "BMX.seq\n",
      "INFO:root:Reading ./Davis/cut_seqs/BMX.seq\n",
      "MDTKSILEELLLKRSQQKKKMSPNNYKERLFVLTKTNLSYYEYDKMKRGSRKGSIEIKKIRCVEKVNLEEQTPVERQYPFQIVYKDGLLYVYASNEESRSQWLKALQKEIRGNPHLLVKYHSGFFVDGKFLCCQQSCKAAPGCTLWEAYANLHTAVNEEKHRVPTFPDRVLKIPRAVPVLKMDAPSSSTTLAQYDNESKKNYGSQPPSSSTSLAQYDSNSKKIYGSQPNFNMQYIPREDFPDWWQVRKLKSSSSSEDVASSNQKERNVNHTTSKISWEFPESSSSEEEENLDDYDWFAGNISRSQSEQLLRQKGKEGAFMVRNSSQVGMYTVSLFSKAVNDKKGTVKHYHVHTNAENKLYLAENYCFDSIPKLIHYHQHNSAGMITRLRHPVSTKANKVPDSVSLGNGIWELKREEITLLKELGSGQFGVVQLGKWKGQYDVAVKMIKEGSMSEDEFFQEAQTMMKLSHPKLVKFYGVCSKEYPIYIVTEYISNGCLLNYLRSHGKGLEPSQLLEMCYDVCEGMAFLESHQFIHRDLAARNCLVDRDLCVKVSDFGMTRYVLDDQYVSSVGTKFPVKWSAPEVFHYFKYSSKSDVWAFGILMWEVFSLGKQPYDLYDNSQVVLKVSQGHRLYRPHLASDTIYQIMYSCWHELPEKRPTFQQLLSSIEPLREKDKH\n",
      "INFO:root:Predicting 1th chain in ./Davis/cut_seqs/BMX.seq\n",
      "INFO:root:675 residues in this chain.\n",
      "INFO:root:Finished prediction in 39.11 seconds.\n",
      "INFO:root:Saving prediction to ./Davis/omega_2/BMX.pdb\n",
      "INFO:root:Saved\n",
      "INFO:root:Done!\n"
     ]
    },
    {
     "name": "stderr",
     "output_type": "stream",
     "text": [
      " 88%|████████▊ | 457/522 [3:49:59<45:43, 42.21s/it]"
     ]
    },
    {
     "name": "stdout",
     "output_type": "stream",
     "text": [
      "PCTK3.seq\n",
      "INFO:root:Reading ./Davis/cut_seqs/PCTK3.seq\n",
      "RLSLLDLQLGPLGRDPPQECSTFSPTDSGEEPGQLSPGVQFQRRQNQRRFSMEDVSKRLSLPMDIRLPQEFLQKLQMESPDLPKPLSRMSRRASLSDIGFGKLETYVKLDKLGEGTYATVFKGRSKLTENLVALKEIRLEHEEGAPCTAIREVSLLKNLKHANIVTLHDLIHTDRSLTLVFEYLDSDLKQYLDHCGNLMSMHNVKIFMFQLLRGLAYCHHRKILHRDLKPQNLLINERGELKLADFGLARAKSVPTKTYSNEVVTLWYRPPDVLLGSTEYSTPIDMWGVGCIHYEMATGRPLFPGSTVKEELHLIFRLLGTPTEETWPGVTAFSEFRTYSFPCYLPQPLINHAPRLDTDGIHLLSSLLLYESKSRMSAEAALSHSYFRSLGERVHQLEDTASIFSLKEIQLQKDPGYRGLAFQQPGRGKNRRQSIF\n",
      "INFO:root:Predicting 1th chain in ./Davis/cut_seqs/PCTK3.seq\n",
      "INFO:root:436 residues in this chain.\n",
      "INFO:root:Finished prediction in 13.18 seconds.\n",
      "INFO:root:Saving prediction to ./Davis/omega_2/PCTK3.pdb\n",
      "INFO:root:Saved\n",
      "INFO:root:Done!\n"
     ]
    },
    {
     "name": "stderr",
     "output_type": "stream",
     "text": [
      " 88%|████████▊ | 458/522 [3:50:13<35:56, 33.70s/it]"
     ]
    },
    {
     "name": "stdout",
     "output_type": "stream",
     "text": [
      "PAK2.seq\n",
      "INFO:root:Reading ./Davis/cut_seqs/PAK2.seq\n",
      "MSDNGELEDKPPAPPVRMSSTIFSTGGKDPLSANHSLKPLPSVPEEKKPRHKIISIFSGTEKGSKKKEKERPEISPPSDFEHTIHVGFDAVTGEFTGMPEQWARLLQTSNITKLEQKKNPQAVLDVLKFYDSNTVKQKYLSFTPPEKDGFPSGTPALNAKGTEAPAVVTEEEDDDEETAPPVIAPRPDHTKSIYTRSVIDPVPAPVGDSHVDGAAKSLDKQKKKTKMTDEEIMEKLRTIVSIGDPKKKYTRYEKIGQGASGTVFTATDVALGQEVAIKQINLQKQPKKELIINEILVMKELKNPNIVNFLDSYLVGDELFVVMEYLAGGSLTDVVTETCMDEAQIAAVCRECLQALEFLHANQVIHRDIKSDNVLLGMEGSVKLTDFGFCAQITPEQSKRSTMVGTPYWMAPEVVTRKAYGPKVDIWSLGIMAIEMVEGEPPYLNENPLRALYLIATNGTPELQNPEKLSPIFRDFLNRCLEMDVEKRGSAKELLQHPFLKLAKPLSSLTPLIMAAKEAMKSNR\n",
      "INFO:root:Predicting 1th chain in ./Davis/cut_seqs/PAK2.seq\n",
      "INFO:root:524 residues in this chain.\n",
      "INFO:root:Finished prediction in 20.46 seconds.\n",
      "INFO:root:Saving prediction to ./Davis/omega_2/PAK2.pdb\n",
      "INFO:root:Saved\n",
      "INFO:root:Done!\n"
     ]
    },
    {
     "name": "stderr",
     "output_type": "stream",
     "text": [
      " 88%|████████▊ | 459/522 [3:50:34<31:22, 29.88s/it]"
     ]
    },
    {
     "name": "stdout",
     "output_type": "stream",
     "text": [
      "NIM1.seq\n",
      "INFO:root:Reading ./Davis/cut_seqs/NIM1.seq\n",
      "MTAVYMNGGGLVNPHYARWDRRDSVESGCQTESSKEGEEGQPRQLTPFEKLTQDMSQDEKVVREITLGKRIGFYRIRGEIGSGNFSQVKLGIHSLTKEKVAIKILDKTKLDQKTQRLLSREISSMEKLHHPNIIRLYEVVETLSKLHLVMEYAGGGELFGKISTEGKLSEPESKLIFSQIVSAVKHMHENQIIHRDLKAENVFYTSNTCVKVGDFGFSTVSKKGEMLNTFCGSPPYAAPELFRDEHYIGIYVDIWALGVLLYFMVTGTMPFRAETVAKLKKSILEGTYSVPPHVSEPCHRLIRGVLQQIPTERYGIDCIMNDEWMQGVPYPTPLEPFQLDPKHLSETSTLKEEENEVKSTLEHLGITEEHIRNNQGRDARSSITGVYRIILHRVQRKKALESVPVMMLPDPKERDLKKGSRVYRGIRHTSKFCSIL\n",
      "INFO:root:Predicting 1th chain in ./Davis/cut_seqs/NIM1.seq\n",
      "INFO:root:436 residues in this chain.\n",
      "INFO:root:Finished prediction in 13.16 seconds.\n",
      "INFO:root:Saving prediction to ./Davis/omega_2/NIM1.pdb\n",
      "INFO:root:Saved\n",
      "INFO:root:Done!\n"
     ]
    },
    {
     "name": "stderr",
     "output_type": "stream",
     "text": [
      " 88%|████████▊ | 460/522 [3:50:48<26:04, 25.23s/it]"
     ]
    },
    {
     "name": "stdout",
     "output_type": "stream",
     "text": [
      "MAP4K3_0.seq\n",
      "INFO:root:Reading ./Davis/cut_seqs/MAP4K3_0.seq\n",
      "MNPGFDLSRRNPQEDFELIQRIGSGTYGDVYKARNVNTGELAAIKVIKLEPGEDFAVVQQEIIMMKDCKHPNIVAYFGSYLRRDKLWICMEFCGGGSLQDIYHVTGPLSELQIAYVSRETLQGLYYLHSKGKMHRDIKGANILLTDNGHVKLADFGVSAQITATIAKRKSFIGTPYWMAPEVAAVERKGGYNQLCDLWAVGITAIELAELQPPMFDLHPMRALFLMTKSNFQPPKLKDKMKWSNSFHHFVKMALTKNPKKRPTAEKLLQHPFVTQHLTRSLAIELLDKVNNPDHSTYHDFDDDDPEPLVAVPHRIHSTSRNVREEKTRSEITFGQVKFDPPLRKETEPHHELPDSDGFLDSSEEIYYTARSNLDLQLEYGQGHQGGYFLGANKSLLKSVEEELHQRGHVAHLEDDEGDDDESKHSTLKAKIPPPLPPKPKSIFIPQEMHSTEDENQGTIKRCPMSGSPAKPSQVPPRPPPPRLPPHKPVALGNGMSSFQLNGERDGSLCQQQNEHRGTNLSRKEKKDVPKPISNGLPPTPKVHMGACFSKVFNGCPLKIHCASSWINPDTRDQYLIFGAEEGIYTLNLNELHETSMEQLFPRRCTWLYVMNNCLLSISGKASQLYSHNLPGLFDYARQMQKLPVAIPAHKLPDRILPRKFSVSAKIPETKWCQKCCVVRNPYTGHKYLCGALQTSIVLLEWVEPMQKFMLIKHIDFPIPCPLRMFEMLVVPEQEYPLVCVGVSRGRDFNQVVRFETVNPNSTSSWFTESDTPQTNVTHVTQLERDTILVCLDCCIKIVNL\n",
      "INFO:root:Predicting 1th chain in ./Davis/cut_seqs/MAP4K3_0.seq\n",
      "INFO:root:800 residues in this chain.\n",
      "INFO:root:Finished prediction in 57.08 seconds.\n",
      "INFO:root:Saving prediction to ./Davis/omega_2/MAP4K3_0.pdb\n",
      "INFO:root:Saved\n",
      "INFO:root:Done!\n"
     ]
    },
    {
     "name": "stderr",
     "output_type": "stream",
     "text": [
      " 88%|████████▊ | 461/522 [3:51:46<35:38, 35.06s/it]"
     ]
    },
    {
     "name": "stdout",
     "output_type": "stream",
     "text": [
      "MRCKA_1.seq\n",
      "INFO:root:Reading ./Davis/cut_seqs/MRCKA_1.seq\n",
      "EEEVKDLADKKESVAHWEAQITEIIQWVSDEKDARGYLQALASKMTEELEALRNSSLGTRATDMPWKMRRFAKLDMSARLELQSALDAEIRAKQAIQEELNKVKASNIITECKLKDSEKKNLELLSEIEQLIKDTEELRSEKGIEHQDSQHSFLAFLNTPTDALDQFERSPSCTPASKGRRTVDSTPLSVHTPTLRKKGCPGSTGFPPKRKTHQFFVKSFTTPTKCHQCTSLMVGLIRQGCSCEVCGFSCHITCVNKAPTTCPVPPEQTKGPLGIDPQKGIGTAYEGHVRIPKPAGVKKGWQRALAIVCDFKLFLYDIAEGKASQPSVVISQVIDMRDEEFSVSSVLASDVIHASRKDIPCIFRVTASQLSASNNKCSILMLADTENEKNKWVGVLSELHKILKKNKFRDRSVYVPKEAYDSTLPLIKTTQAAAIIDHERIALGNEEGLFVVHVTKDEIIRVGDNKKIHQIELIPNDQLVAVISGRNRHVRLFPMSALDGRETDFYKLSETKGCQTVTSGKVRHGALTCLCVAMKRQVLCYELFQSKTRHRKFKEIQVPYNVQWMAIFSEQLCVGFQSGFLRYPLNGEGNPYSMLHSNDHTLSFIAHQPMDAICAVEISSKEYLLCFNSIGIYTDCQGRRSRQQELMWPANPSSCCYNAPYLSVYSENAVDIFDVNSMEWIQTLPLKKVRPLNNEGSLNLLGLETIRLIYFKNKMAEGDELVVPETSDNSRKQMVRNINNKRRYSFRVPEEERMQQRREMLRDPEMRNKLISNPTNFNHIAHMGPGDGIQILKDLPMNPR\n",
      "INFO:root:Predicting 1th chain in ./Davis/cut_seqs/MRCKA_1.seq\n",
      "INFO:root:800 residues in this chain.\n",
      "INFO:root:Finished prediction in 57.06 seconds.\n",
      "INFO:root:Saving prediction to ./Davis/omega_2/MRCKA_1.pdb\n",
      "INFO:root:Saved\n",
      "INFO:root:Done!\n"
     ]
    },
    {
     "name": "stderr",
     "output_type": "stream",
     "text": [
      " 89%|████████▊ | 462/522 [3:52:44<41:54, 41.92s/it]"
     ]
    },
    {
     "name": "stdout",
     "output_type": "stream",
     "text": [
      "VEGFR2_1.seq\n",
      "INFO:root:Reading ./Davis/cut_seqs/VEGFR2_1.seq\n",
      "YLSIVMDPDELPLDEHCERLPYDASKWEFPRDRLKLGKPLGRGAFGQVIEADAFGIDKTATCRTVAVKMLKEGATHSEHRALMSELKILIHIGHHLNVVNLLGACTKPGGPLMVIVEFCKFGNLSTYLRSKRNEFVPYKTKGARFRQGKDYVGAIPVDLKRRLDSITSSQSSASSGFVEEKSLSDVEEEEAPEDLYKDFLTLEHLICYSFQVAKGMEFLASRKCIHRDLAARNILLSEKNVVKICDFGLARDIYKDPDYVRKGDARLPLKWMAPETIFDRVYTIQSDVWSFGVLLWEIFSLGASPYPGVKIDEEFCRRLKEGTRMRAPDYTTPEMYQTMLDCWHGEPSQRPTFSELVEHLGNLLQANAQQDGKDYIVLPISETLSMEEDSGLSLPTSPVSCMEEEEVCDPKFHYDNTAGISQYLQNSKRKSRPVSVKTFEDIPLEEPEVKVIPDDNQTDSGMVLASEELKTLEDRTKLSPSFGGMVPSKSRESVASEGSNQTSGYQSGYHSDDTDTTVYSSEEAELLKLIEIGVQTGSTAQILQPDSGTTLSSPPV\n",
      "INFO:root:Predicting 1th chain in ./Davis/cut_seqs/VEGFR2_1.seq\n",
      "INFO:root:556 residues in this chain.\n",
      "INFO:root:Finished prediction in 23.89 seconds.\n",
      "INFO:root:Saving prediction to ./Davis/omega_2/VEGFR2_1.pdb\n",
      "INFO:root:Saved\n",
      "INFO:root:Done!\n"
     ]
    },
    {
     "name": "stderr",
     "output_type": "stream",
     "text": [
      " 89%|████████▊ | 463/522 [3:53:09<36:03, 36.67s/it]"
     ]
    },
    {
     "name": "stdout",
     "output_type": "stream",
     "text": [
      "LZK_1.seq\n",
      "INFO:root:Reading ./Davis/cut_seqs/LZK_1.seq\n",
      "LPRKTRPLQKSGDDSSEEEEGEVDSEVEFPRRQRPHRCISSCQSYSTFSSENFSVSDGEEGNTSDHSNSPDELADKLEDRLAEKLDDLLSQTPEIPIDISSHSDGLSDKECAVRRVKTQMSLGKLCVEERGYENPMQFEESDCDSSDGECSDATVRTNKHYSSATW\n",
      "INFO:root:Predicting 1th chain in ./Davis/cut_seqs/LZK_1.seq\n",
      "INFO:root:166 residues in this chain.\n",
      "INFO:root:Finished prediction in 1.57 seconds.\n",
      "INFO:root:Saving prediction to ./Davis/omega_2/LZK_1.pdb\n",
      "INFO:root:Saved\n",
      "INFO:root:Done!\n"
     ]
    },
    {
     "name": "stderr",
     "output_type": "stream",
     "text": [
      " 89%|████████▉ | 464/522 [3:53:10<25:19, 26.20s/it]"
     ]
    },
    {
     "name": "stdout",
     "output_type": "stream",
     "text": [
      "LTK_0.seq\n",
      "INFO:root:Reading ./Davis/cut_seqs/LTK_0.seq\n",
      "MGCWGQLLVWFGAAGAILCSSPGSQETFLRSSPLPLASPSPRDPKVSAPPSILEPASPLNSPGTEGSWLFSTCGASGRHGPTQTQCDGAYAGTSVVVTVGAAGQLRGVQLWRVPGPGQYLISAYGAAGGKGAKNHLSRAHGVFVSAIFSLGLGESLYILVGQQGEDACPGGSPESQLVCLGESRAVEEHAAMDGSEGVPGSRRWAGGGGGGGGATYVFRVRAGELEPLLVAAGGGGRAYLRPRDRGRTQASPEKLENRSEAPGSGGRGGAAGGGGGWTSRAPSPQAGRSLQEGAEGGQGCSEAWATLGWAAAGGFGGGGGACTAGGGGGGYRGGDASETDNLWADGEDGVSFIHPSSELFLQPLAVTENHGEVEIRRHLNCSHCPLRDCQWQAELQLAECLCPEGMELAVDNVTCMDLHKPPGPLVLMVAVVATSTLSLLMVCGVLILVKQKKWQGLQEMRLPSPELELSKLRTSAIRTAPNPYYCQVGLGPAQSWPLPPGVTEVSPANVTLLRALGHGAFGEVYEGLVIGLPGDSSPLQVAIKTLPELCSPQDELDFLMEALIISKFRHQNIVRCVGLSLRATPRLILLELMSGGDMKSFLRHSRPHLGQPSPLVMRDLLQLAQDIAQGCHYLEENHFIHRDIAARNCLLSCAGPSRVAKIGDFGMARDIYRASYYRRGDRALLPVKWMPPEAFLEGIFTSKTDSWSFGVLLWEIFSLGYMPYPGRTNQEVLDFVVGGGRMDPPRGCPGPVYRIMTQCWQHEPELRPSFASILERLQYCTQDPDVLNSLLPMELGPTPE\n",
      "INFO:root:Predicting 1th chain in ./Davis/cut_seqs/LTK_0.seq\n",
      "INFO:root:800 residues in this chain.\n",
      "INFO:root:Finished prediction in 57.12 seconds.\n",
      "INFO:root:Saving prediction to ./Davis/omega_2/LTK_0.pdb\n",
      "INFO:root:Saved\n",
      "INFO:root:Done!\n"
     ]
    },
    {
     "name": "stderr",
     "output_type": "stream",
     "text": [
      " 89%|████████▉ | 465/522 [3:54:08<33:57, 35.74s/it]"
     ]
    },
    {
     "name": "stdout",
     "output_type": "stream",
     "text": [
      "NEK7.seq\n",
      "INFO:root:Reading ./Davis/cut_seqs/NEK7.seq\n",
      "MDEQSQGMQGPPVPQFQPQKALRPDMGYNTLANFRIEKKIGRGQFSEVYRAACLLDGVPVALKKVQIFDLMDAKARADCIKEIDLLKQLNHPNVIKYYASFIEDNELNIVLELADAGDLSRMIKHFKKQKRLIPERTVWKYFVQLCSALEHMHSRRVMHRDIKPANVFITATGVVKLGDLGLGRFFSSKTTAAHSLVGTPYYMSPERIHENGYNFKSDIWSLGCLLYEMAALQSPFYGDKMNLYSLCKKIEQCDYPPLPSDHYSEELRQLVNMCINPDPEKRPDVTYVYDVAKRMHACTASS\n",
      "INFO:root:Predicting 1th chain in ./Davis/cut_seqs/NEK7.seq\n",
      "INFO:root:302 residues in this chain.\n",
      "INFO:root:Finished prediction in 5.48 seconds.\n",
      "INFO:root:Saving prediction to ./Davis/omega_2/NEK7.pdb\n",
      "INFO:root:Saved\n",
      "INFO:root:Done!\n"
     ]
    },
    {
     "name": "stderr",
     "output_type": "stream",
     "text": [
      " 89%|████████▉ | 466/522 [3:54:14<24:58, 26.75s/it]"
     ]
    },
    {
     "name": "stdout",
     "output_type": "stream",
     "text": [
      "PIK3CB_0.seq\n",
      "INFO:root:Reading ./Davis/cut_seqs/PIK3CB_0.seq\n",
      "MCFSFIMPPAMADILDIWAVDSQIASDGSIPVDFLLPTGIYIQLEVPREATISYIKQMLWKQVHNYPMFNLLMDIDSYMFACVNQTAVYEELEDETRRLCDVRPFLPVLKLVTRSCDPGEKLDSKIGVLIGKGLHEFDSLKDPEVNEFRRKMRKFSEEKILSLVGLSWMDWLKQTYPPEHEPSIPENLEDKLYGGKLIVAVHFENCQDVFSFQVSPNMNPIKVNELAIQKRLTIHGKEDEVSPYDYVLQVSGRVEYVFGDHPLIQFQYIRNCVMNRALPHFILVECCKIKKMYEQEMIAIEAAINRNSSNLPLPLPPKKTRIISHVWENNNPFQIVLVKGNKLNTEETVKVHVRAGLFHGTELLCKTIVSSEVSGKNDHIWNEPLEFDINICDLPRMARLCFAVYAVLDKVKTKKSTKTINPSKYQTIRKAGKVHYPVAWVNTMVFDFKGQLRTGDIILHSWSSFPDELEEMLNPMGTVQTNPYTENATALHVKFPENKKQPYYYPPFDKIIEKAAEIASSDSANVSSRGGKKFLPVLKEILDRDPLSQLCENEMDLIWTLRQDCREIFPQSLPKLLLSIKWNKLEDVAQLQALLQIWPKLPPREALELLDFNYPDQYVREYAVGCLRQMSDEELSQYLLQLVQVLKYEPFLDCALSRFLLERALGNRRIGQFLFWHLRSEVHIPAVSVQFGVILEAYCRGSVGHMKVLSKQVEALNKLKTLNSLIKLNAVKLNRAKGKEAMHTCLKQSAYREALSDLQSPLNPCVILSELYVEKCKYMDSKMKPLWLVYNNKVFGEDSV\n",
      "INFO:root:Predicting 1th chain in ./Davis/cut_seqs/PIK3CB_0.seq\n",
      "INFO:root:800 residues in this chain.\n",
      "INFO:root:Finished prediction in 56.99 seconds.\n",
      "INFO:root:Saving prediction to ./Davis/omega_2/PIK3CB_0.pdb\n",
      "INFO:root:Saved\n",
      "INFO:root:Done!\n"
     ]
    },
    {
     "name": "stderr",
     "output_type": "stream",
     "text": [
      " 89%|████████▉ | 467/522 [3:55:12<33:04, 36.09s/it]"
     ]
    },
    {
     "name": "stdout",
     "output_type": "stream",
     "text": [
      "ERBB2_1.seq\n",
      "INFO:root:Reading ./Davis/cut_seqs/ERBB2_1.seq\n",
      "MPYGCLLDHVRENRGRLGSQDLLNWCMQIAKGMSYLEDVRLVHRDLAARNVLVKSPNHVKITDFGLARLLDIDETEYHADGGKVPIKWMALESILRRRFTHQSDVWSYGVTVWELMTFGAKPYDGIPAREIPDLLEKGERLPQPPICTIDVYMIMVKCWMIDSECRPRFRELVSEFSRMARDPQRFVVIQNEDLGPASPLDSTFYRSLLEDDDMGDLVDAEEYLVPQQGFFCPDPAPGAGGMVHHRHRSSSTRSGGGDLTLGLEPSEEEAPRSPLAPSEGAGSDVFDGDLGMGAAKGLQSLPTHDPSPLQRYSEDPTVPLPSETDGYVAPLTCSPQPEYVNQPDVRPQPPSPREGPLPAARPAGATLERPKTLSPGKNGVVKDVFAFGGAVENPEYLTPQGGAAPQPHPPPAFSPAFDNLYYWDQDPPERGAPPSTFKGTPTAENPEYLGLDVPV\n",
      "INFO:root:Predicting 1th chain in ./Davis/cut_seqs/ERBB2_1.seq\n",
      "INFO:root:455 residues in this chain.\n",
      "INFO:root:Finished prediction in 14.94 seconds.\n",
      "INFO:root:Saving prediction to ./Davis/omega_2/ERBB2_1.pdb\n",
      "INFO:root:Saved\n",
      "INFO:root:Done!\n"
     ]
    },
    {
     "name": "stderr",
     "output_type": "stream",
     "text": [
      " 90%|████████▉ | 468/522 [3:55:28<26:54, 29.89s/it]"
     ]
    },
    {
     "name": "stdout",
     "output_type": "stream",
     "text": [
      "DCAMKL3.seq\n",
      "INFO:root:Reading ./Davis/cut_seqs/DCAMKL3.seq\n",
      "MGKEPLTLKSIQVAVEELYPNKARALTLAQHSRAPSPRLRSRLFSKALKGDHRCGETETPKSCSEVAGCKAAMRHQGKIPEELSLDDRARTQKKWGRGKWEPEPSSKPPREATLEERHARGEKHLGVEIEKTSGEIIRCEKCKRERELQQSLERERLSLGTSELDMGKGPMYDVEKLVRTRSCRRSPEANPASGEEGWKGDSHRSSPRNPTQELRRPSKSMDKKEDRGPEDQESHAQGAAKAKKDLVEVLPVTEEGLREVKKDTRPMSRSKHGGWLLREHQAGFEKLRRTRGEEKEAEKEKKPCMSGGRRMTLRDDQPAKLEKEPKTRPEENKPERPSGRKPRPMGIIAANVEKHYETGRVIGDGNFAVVKECRHRETRQAYAMKIIDKSRLKGKEDMVDSEILIIQSLSHPNIVKLHEVYETDMEIYLILEYVQGGDLFDAIIESVKFPEPDAALMIMDLCKALVHMHDKSIVHRDLKPENLLVQRNEDKSTTLKLADFGLAKHVVRPIFTVCGTPTYVAPEILSEKGYGLEVDMWAAGVILYILLCGFPPFRSPERDQDELFNIIQLGHFEFLPPYWDNISDAAKDLVSRLLVVDPKKRYTAHQVLQHPWIETAGKTNTVKRQKQVSPSSEGHFRSQHKRVVEQVS\n",
      "INFO:root:Predicting 1th chain in ./Davis/cut_seqs/DCAMKL3.seq\n",
      "INFO:root:648 residues in this chain.\n",
      "INFO:root:Finished prediction in 34.30 seconds.\n",
      "INFO:root:Saving prediction to ./Davis/omega_2/DCAMKL3.pdb\n",
      "INFO:root:Saved\n",
      "INFO:root:Done!\n"
     ]
    },
    {
     "name": "stderr",
     "output_type": "stream",
     "text": [
      " 90%|████████▉ | 469/522 [3:56:03<27:47, 31.46s/it]"
     ]
    },
    {
     "name": "stdout",
     "output_type": "stream",
     "text": [
      "PFCDPK1(Pfalciparum).seq\n",
      "INFO:root:Reading ./Davis/cut_seqs/PFCDPK1(Pfalciparum).seq\n",
      "MGCSQSSNVKDFKTRRSKFTNGNNYGKSGNNKNSEDLAINPGMYVRKKEGKIGESYFKVRKLGSGAYGEVLLCREKHGHGEKAIKVIKKSQFDKMKYSITNKIECDDKIHEEIYNEISLLKSLDHPNIIKLFDVFEDKKYFYLVTEFYEGGELFEQIINRHKFDECDAANIMKQILSGICYLHKHNIVHRDIKPENILLENKHSLLNIKIVDFGLSSFFSKDNKLRDRLGTAYYIAPEVLRKKYNEKCDVWSCGVILYILLCGYPPFGGQNDQDIIKKVEKGKYYFDFNDWKNISEEAKELIKLMLTYDYNKRITAKEALNSKWIKKYANNINKSDQKTLCGALSNMRKFEGSQKLAQAAILFIGSKLTTLEERKELTDIFKKLDKNGDGQLDKKELIEGYNILRSFKNELGELKNVEEEVDNILKEVDFDKNGYIEYSEFISVCMDKQILFSEERLRDAFNLFDTDKSGKITKEELANLFGLTSISEQMWNEVLGEADKNKDNMIDFDEFVNMMHKICDNKSS\n",
      "INFO:root:Predicting 1th chain in ./Davis/cut_seqs/PFCDPK1(Pfalciparum).seq\n",
      "INFO:root:524 residues in this chain.\n",
      "INFO:root:Finished prediction in 20.53 seconds.\n",
      "INFO:root:Saving prediction to ./Davis/omega_2/PFCDPK1(Pfalciparum).pdb\n",
      "INFO:root:Saved\n",
      "INFO:root:Done!\n"
     ]
    },
    {
     "name": "stderr",
     "output_type": "stream",
     "text": [
      " 90%|█████████ | 470/522 [3:56:24<24:33, 28.33s/it]"
     ]
    },
    {
     "name": "stdout",
     "output_type": "stream",
     "text": [
      "MAP4K4_0.seq\n",
      "INFO:root:Reading ./Davis/cut_seqs/MAP4K4_0.seq\n",
      "MANDSPAKSLVDIDLSSLRDPAGIFELVEVVGNGTYGQVYKGRHVKTGQLAAIKVMDVTEDEEEEIKLEINMLKKYSHHRNIATYYGAFIKKSPPGHDDQLWLVMEFCGAGSITDLVKNTKGNTLKEDWIAYISREILRGLAHLHIHHVIHRDIKGQNVLLTENAEVKLVDFGVSAQLDRTVGRRNTFIGTPYWMAPEVIACDENPDATYDYRSDLWSCGITAIEMAEGAPPLCDMHPMRALFLIPRNPPPRLKSKKWSKKFFSFIEGCLVKNYMQRPSTEQLLKHPFIRDQPNERQVRIQLKDHIDRTRKKRGEKDETEYEYSGSEEEEEEVPEQEGEPSSIVNVPGESTLRRDFLRLQQENKERSEALRRQQLLQEQQLREQEEYKRQLLAERQKRIEQQKEQRRRLEEQQRREREARRQQEREQRRREQEEKRRLEELERRRKEEEERRRAEEEKRRVEREQEYIRRQLEEEQRHLEVLQQQLLQEQAMLLHDHRRPHPQHSQQPPPPQQERSKPSFHAPEPKAHYEPADRAREVEDRFRKTNHSSPEAQSKQTGRVLEPPVPSRSESFSNGNSESVHPALQRPAEPQVPVRTTSRSPVLSRRDSPLQGSGQQNSQAGQRNSTSSIEPRLLWERVEKLVPRPGSGSSSGSSNSGSQPGSHPGSQSGSGERFRVRSSSKSEGSPSQRLENAVKKPEDKKEVFRPLKPADLTALAKELRAVEDVRPPHKVTDYSSSSEESGTTDEEDDDVEQEGADESTSGPEDTRAASSLNLSNGETESVKTMIVHDDVESEPAMTPS\n",
      "INFO:root:Predicting 1th chain in ./Davis/cut_seqs/MAP4K4_0.seq\n",
      "INFO:root:800 residues in this chain.\n",
      "INFO:root:Finished prediction in 57.01 seconds.\n",
      "INFO:root:Saving prediction to ./Davis/omega_2/MAP4K4_0.pdb\n",
      "INFO:root:Saved\n",
      "INFO:root:Done!\n"
     ]
    },
    {
     "name": "stderr",
     "output_type": "stream",
     "text": [
      " 90%|█████████ | 471/522 [3:57:22<31:38, 37.23s/it]"
     ]
    },
    {
     "name": "stdout",
     "output_type": "stream",
     "text": [
      "MRCKB_2.seq\n",
      "INFO:root:Reading ./Davis/cut_seqs/MRCKB_2.seq\n",
      "MQVLMDLPLSAVPPSQEERPGPAPTNLARQPPSRNKPYISWPSSGGSEPSVTVPLRSMSDPDQDFDKEPDSDSTKHSTPSNSSNPSGPPSPNSPHRSQLPLEGLEQPACDT\n",
      "INFO:root:Predicting 1th chain in ./Davis/cut_seqs/MRCKB_2.seq\n",
      "INFO:root:111 residues in this chain.\n",
      "INFO:root:Finished prediction in 0.85 seconds.\n",
      "INFO:root:Saving prediction to ./Davis/omega_2/MRCKB_2.pdb\n",
      "INFO:root:Saved\n",
      "INFO:root:Done!\n"
     ]
    },
    {
     "name": "stderr",
     "output_type": "stream",
     "text": [
      " 90%|█████████ | 472/522 [3:57:23<21:58, 26.37s/it]"
     ]
    },
    {
     "name": "stdout",
     "output_type": "stream",
     "text": [
      "CHEK1.seq\n",
      "INFO:root:Reading ./Davis/cut_seqs/CHEK1.seq\n",
      "MAVPFVEDWDLVQTLGEGAYGEVQLAVNRVTEEAVAVKIVDMKRAVDCPENIKKEICINKMLNHENVVKFYGHRREGNIQYLFLEYCSGGELFDRIEPDIGMPEPDAQRFFHQLMAGVVYLHGIGITHRDIKPENLLLDERDNLKISDFGLATVFRYNNRERLLNKMCGTLPYVAPELLKRREFHAEPVDVWSCGIVLTAMLAGELPWDQPSDSCQEYSDWKEKKTYLNPWKKIDSAPLALLHKILVENPSARITIPDIKKDRWYNKPLKKGAKRPRVTSGGVSESPSGFSKHIQSNLDFSPVNSASSEENVKYSSSQPEPRTGLSLWDTSPSYIDKLVQGISFSQPTCPDHMLLNSQLLGTPGSSQNPWQRLVKRMTRFFTKLDADKSYQCLKETCEKLGYQWKKSCMNQVTISTTDRRNNKLIFKVNLLEMDDKILVDFRLSKGDGLEFKRHFLKIKGKLIDIVSSQKIWLPAT\n",
      "INFO:root:Predicting 1th chain in ./Davis/cut_seqs/CHEK1.seq\n",
      "INFO:root:476 residues in this chain.\n",
      "INFO:root:Finished prediction in 16.55 seconds.\n",
      "INFO:root:Saving prediction to ./Davis/omega_2/CHEK1.pdb\n",
      "INFO:root:Saved\n",
      "INFO:root:Done!\n"
     ]
    },
    {
     "name": "stderr",
     "output_type": "stream",
     "text": [
      " 91%|█████████ | 473/522 [3:57:40<19:14, 23.56s/it]"
     ]
    },
    {
     "name": "stdout",
     "output_type": "stream",
     "text": [
      "JAK1(JH1domain-catalytic)_1.seq\n",
      "INFO:root:Reading ./Davis/cut_seqs/JAK1(JH1domain-catalytic)_1.seq\n",
      "EKERFYESRCRPVTPSCKELADLMTRCMNYDPNQRPFFRAIMRDINKLEEQNPDIVSEKKPATEVDPTHFEKRFLKRIRDLGEGHFGKVELCRYDPEGDNTGEQVAVKSLKPESGGNHIADLKKEIEILRNLYHENIVKYKGICTEDGGNGIKLIMEFLPSGSLKEYLPKNKNKINLKQQLKYAVQICKGMDYLGSRQYVHRDLAARNVLVESEHQVKIGDFGLTKAIETDKEYYTVKDDRDSPVFWYAPECLMQSKFYIASDVWSFGVTLHELLTYCDSDSSPMALFLKMIGPTHGQMTVTRLVNTLKEGKRLPCPPNCPDEVYQLMRKCWEFQPSNRTSFQNLIEGFEALLK\n",
      "INFO:root:Predicting 1th chain in ./Davis/cut_seqs/JAK1(JH1domain-catalytic)_1.seq\n",
      "INFO:root:354 residues in this chain.\n",
      "INFO:root:Finished prediction in 8.05 seconds.\n",
      "INFO:root:Saving prediction to ./Davis/omega_2/JAK1(JH1domain-catalytic)_1.pdb\n",
      "INFO:root:Saved\n",
      "INFO:root:Done!\n"
     ]
    },
    {
     "name": "stderr",
     "output_type": "stream",
     "text": [
      " 91%|█████████ | 474/522 [3:57:48<15:12, 19.02s/it]"
     ]
    },
    {
     "name": "stdout",
     "output_type": "stream",
     "text": [
      "FGFR2_0.seq\n",
      "INFO:root:Reading ./Davis/cut_seqs/FGFR2_0.seq\n",
      "MVSWGRFICLVVVTMATLSLARPSFSLVEDTTLEPEEPPTKYQISQPEVYVAAPGESLEVRCLLKDAAVISWTKDGVHLGPNNRTVLIGEYLQIKGATPRDSGLYACTASRTVDSETWYFMVNVTDAISSGDDEDDTDGAEDFVSENSNNKRAPYWTNTEKMEKRLHAVPAANTVKFRCPAGGNPMPTMRWLKNGKEFKQEHRIGGYKVRNQHWSLIMESVVPSDKGNYTCVVENEYGSINHTYHLDVVERSPHRPILQAGLPANASTVVGGDVEFVCKVYSDAQPHIQWIKHVEKNGSKYGPDGLPYLKVLKAAGVNTTDKEIEVLYIRNVTFEDAGEYTCLAGNSIGISFHSAWLTVLPAPGREKEITASPDYLEIAIYCIGVFLIACMVVTVILCRMKNTTKKPDFSSQPAVHKLTKRIPLRRQVTVSAESSSSMNSNTPLVRITTRLSSTADTPMLAGVSEYELPEDPKWEFPRDKLTLGKPLGEGCFGQVVMAEAVGIDKDKPKEAVTVAVKMLKDDATEKDLSDLVSEMEMMKMIGKHKNIINLLGACTQDGPLYVIVEYASKGNLREYLRARRPPGMEYSYDINRVPEEQMTFKDLVSCTYQLARGMEYLASQKCIHRDLAARNVLVTENNVMKIADFGLARDINNIDYYKKTTNGRLPVKWMAPEALFDRVYTHQSDVWSFGVLMWEIFTLGGSPYPGIPVEELFKLLKEGHRMDKPANCTNELYMMMRDCWHAVPSQRPTFKQLVEDLDRILTLTTNEEYLDLSQPLEQYSPSYPDTRSSCSSGDDSVFSP\n",
      "INFO:root:Predicting 1th chain in ./Davis/cut_seqs/FGFR2_0.seq\n",
      "INFO:root:800 residues in this chain.\n",
      "INFO:root:Finished prediction in 57.00 seconds.\n",
      "INFO:root:Saving prediction to ./Davis/omega_2/FGFR2_0.pdb\n",
      "INFO:root:Saved\n",
      "INFO:root:Done!\n"
     ]
    },
    {
     "name": "stderr",
     "output_type": "stream",
     "text": [
      " 91%|█████████ | 475/522 [3:58:46<24:04, 30.74s/it]"
     ]
    },
    {
     "name": "stdout",
     "output_type": "stream",
     "text": [
      "NEK1_1.seq\n",
      "INFO:root:Reading ./Davis/cut_seqs/NEK1_1.seq\n",
      "RAWGKSPTDSVLKILGEAELQLQTELLENTTIRSEISPEGEKYKPLITGEKKVQCISHEINPSAIVDSPVETKSPEFSEASPQMSLKLEGNLEEPDDLETEILQEPSGTNKDESLPCTITDVWISEEKETKETQSADRITIQENEVSEDGVSSTVDQLSDIHIEPGTNDSQHSKCDVDKSVQPEPFFHKVVHSEHLNLVPQVQSVQCSPEESFAFRSHSHLPPKNKNKNSLLIGLSTGLFDANNPKMLRTCSLPDLSKLFRTLMDVPTVGDVRQDNLEIDEIEDENIKEGPSDSEDIVFEETDTDLQELQASMEQLLREQPGEEYSEEEESVLKNSDVEPTANGTDVADEDDNPSSESALNEEWHSDNSDGEIASECECDSVFNHLEELRLHLEQEMGFEKFFEVYEKIKAIHEDEDENIEICSKIVQNILGNEHQHLYAKILHLVMADGAYQEDNDE\n",
      "INFO:root:Predicting 1th chain in ./Davis/cut_seqs/NEK1_1.seq\n",
      "INFO:root:458 residues in this chain.\n",
      "INFO:root:Finished prediction in 15.08 seconds.\n",
      "INFO:root:Saving prediction to ./Davis/omega_2/NEK1_1.pdb\n",
      "INFO:root:Saved\n",
      "INFO:root:Done!\n"
     ]
    },
    {
     "name": "stderr",
     "output_type": "stream",
     "text": [
      " 91%|█████████ | 476/522 [3:59:02<20:12, 26.35s/it]"
     ]
    },
    {
     "name": "stdout",
     "output_type": "stream",
     "text": [
      "LOK_0.seq\n",
      "INFO:root:Reading ./Davis/cut_seqs/LOK_0.seq\n",
      "MAFANFRRILRLSTFEKRKSREYEHVRRDLDPNEVWEIVGELGDGAFGKVYKAKNKETGALAAAKVIETKSEEELEDYIVEIEILATCDHPYIVKLLGAYYHDGKLWIMIEFCPGGAVDAIMLELDRGLTEPQIQVVCRQMLEALNFLHSKRIIHRDLKAGNVLMTLEGDIRLADFGVSAKNLKTLQKRDSFIGTPYWMAPEVVMCETMKDTPYDYKADIWSLGITLIEMAQIEPPHHELNPMRVLLKIAKSDPPTLLTPSKWSVEFRDFLKIALDKNPETRPSAAQLLEHPFVSSITSNKALRELVAEAKAEVMEEIEDGRDEGEEEDAVDAASTLENHTQNSSEVSPPSLNADKPLEESPSTPLAPSQSQDSVNEPCSQPSGDRSLQTTSPPVVAPGNENGLAVPVPLRKSRPVSMDARIQVAQEKQVAEQGGDLSPAANRSQKASQSRPNSSALETLGGEKLANGSLEPPAQAAPGPSKRDSDCSSLCTSESMDYGTNLSTDLSLNKEMGSLSIKDPKLYKKTLKRTRKFVVDGVEVSITTSKIISEDEKKDEEMRFLRRQELRELRLLQKEEHRNQTQLSNKHELQLEQMHKRFEQEINAKKKFFDTELENLERQQKQQVEKMEQDHAVRRREEARRIRLEQDRDYTRFQEQLKLMKKEVKNEVEKLPRQQRKESMKQKMEEHTQKKQLLDRDFVAKQKEDLELAMKRLTTDNRREICDKERECLMKKQELLRDREAALWEMEEHQLQERHQLVKQQLKDQYFLQRHELLRKHEKEREQMQRYNQRMIEQLKVRQQ\n",
      "INFO:root:Predicting 1th chain in ./Davis/cut_seqs/LOK_0.seq\n",
      "INFO:root:800 residues in this chain.\n",
      "INFO:root:Finished prediction in 57.05 seconds.\n",
      "INFO:root:Saving prediction to ./Davis/omega_2/LOK_0.pdb\n",
      "INFO:root:Saved\n",
      "INFO:root:Done!\n"
     ]
    },
    {
     "name": "stderr",
     "output_type": "stream",
     "text": [
      " 91%|█████████▏| 477/522 [4:00:00<26:52, 35.84s/it]"
     ]
    },
    {
     "name": "stdout",
     "output_type": "stream",
     "text": [
      "MAP3K15_0.seq\n",
      "INFO:root:Reading ./Davis/cut_seqs/MAP3K15_0.seq\n",
      "MESGGGNAPAGALGAASESPQCPPPPGVEGAAGPAEPDGAAEGAAGGSGEGESGGGPRRALRAVYVRSESSQGGAAGGPEAGARQCLLRACEAEGAHLTSVPFGELDFGETAVLDAFYDADVAVVDMSDVSRQPSLFYHLGVRESFDMANNVILYHDTDADTALSLKDMVTQKNTASSGNYYFIPYIVTPCADYFCCESDAQRRASEYMQPNWDNILGPLCMPLVDRFISLLKDIHVTSCVYYKETLLNDIRKAREKYQGEELAKELARIKLRMDNTEVLTSDIIINLLLSYRDIQDYDAMVKLVETLEMLPTCDLADQHNIKFHYAFALNRRNSTGDREKALQIMLQVLQSCDHPGPDMFCLCGRIYKDIFLDSDCKDDTSRDSAIEWYRKGFELQSSLYSGINLAVLLIVAGQQFETSLELRKIGVRLNSLLGRKGSLEKMNNYWDVGQFFSVSMLAHDVGKAVQAAERLFKLKPPVWYLRSLVQNLLLIRRFKKTIIEHSPRQERLNFWLDIIFEATNEVTNGLRFPVLVIEPTKVYQPSYVSINNEAEERTVSLWHVSPTEMKQMHEWNFTASSIKGISLSKFDERCCFLYVHDNSDDFQIYFSTEEQCSRFFSLVKEMITNTAGSTVELEGETDGDTLEYEYDHDANGERVVLGKGTYGIVYAGRDLSNQVRIAIKEIPERDSRYSQPLHEEIALHKYLKHRNIVQYLGSVSENGYIKIFMEQVPGGSLSALLRSKWGPMKEPTIKFYTKQILEGLKYLHENQIVHRDIKGDNVLVNTYSGVVKISDFGTSKRLA\n",
      "INFO:root:Predicting 1th chain in ./Davis/cut_seqs/MAP3K15_0.seq\n",
      "INFO:root:800 residues in this chain.\n",
      "INFO:root:Finished prediction in 57.10 seconds.\n",
      "INFO:root:Saving prediction to ./Davis/omega_2/MAP3K15_0.pdb\n",
      "INFO:root:Saved\n",
      "INFO:root:Done!\n"
     ]
    },
    {
     "name": "stderr",
     "output_type": "stream",
     "text": [
      " 92%|█████████▏| 478/522 [4:00:58<31:08, 42.47s/it]"
     ]
    },
    {
     "name": "stdout",
     "output_type": "stream",
     "text": [
      "PAK1.seq\n",
      "INFO:root:Reading ./Davis/cut_seqs/PAK1.seq\n",
      "MSNNGLDIQDKPPAPPMRNTSTMIGAGSKDAGTLNHGSKPLPPNPEEKKKKDRFYRSILPGDKTNKKKEKERPEISLPSDFEHTIHVGFDAVTGEFTGMPEQWARLLQTSNITKSEQKKNPQAVLDVLEFYNSKKTSNSQKYMSFTDKSAEDYNSSNALNVKAVSETPAVPPVSEDEDDDDDDATPPPVIAPRPEHTKSVYTRSVIEPLPVTPTRDVATSPISPTENNTTPPDALTRNTEKQKKKPKMSDEEILEKLRSIVSVGDPKKKYTRFEKIGQGASGTVYTAMDVATGQEVAIKQMNLQQQPKKELIINEILVMRENKNPNIVNYLDSYLVGDELWVVMEYLAGGSLTDVVTETCMDEGQIAAVCRECLQALEFLHSNQVIHRDIKSDNILLGMDGSVKLTDFGFCAQITPEQSKRSTMVGTPYWMAPEVVTRKAYGPKVDIWSLGIMAIEMIEGEPPYLNENPLRALYLIATNGTPELQNPEKLSAIFRDFLNRCLEMDVEKRGSAKELLQHQFLKIAKPLSSLTPLIAAAKEATKNNH\n",
      "INFO:root:Predicting 1th chain in ./Davis/cut_seqs/PAK1.seq\n",
      "INFO:root:545 residues in this chain.\n",
      "INFO:root:Finished prediction in 23.49 seconds.\n",
      "INFO:root:Saving prediction to ./Davis/omega_2/PAK1.pdb\n",
      "INFO:root:Saved\n",
      "INFO:root:Done!\n"
     ]
    },
    {
     "name": "stderr",
     "output_type": "stream",
     "text": [
      " 92%|█████████▏| 479/522 [4:01:22<26:28, 36.94s/it]"
     ]
    },
    {
     "name": "stdout",
     "output_type": "stream",
     "text": [
      "IRAK1.seq\n",
      "INFO:root:Reading ./Davis/cut_seqs/IRAK1.seq\n",
      "MAGGPGPGEPAAPGAQHFLYEVPPWVMCRFYKVMDALEPADWCQFAALIVRDQTELRLCERSGQRTASVLWPWINRNARVADLVHILTHLQLLRARDIITAWHPPAPLPSPGTTAPRPSSIPAPAEAEAWSPRKLPSSASTFLSPAFPGSQTHSGPELGLVPSPASLWPPPPSPAPSSTKPGPESSVSLLQGARPFPFCWPLCEISRGTHNFSEELKIGEGGFGCVYRAVMRNTVYAVKRLKENADLEWTAVKQSFLTEVEQLSRFRHPNIVDFAGYCAQNGFYCLVYGFLPNGSLEDRLHCQTQACPPLSWPQRLDILLGTARAIQFLHQDSPSLIHGDIKSSNVLLDERLTPKLGDFGLARFSRFAGSSPSQSSMVARTQTVRGTLAYLPEEYIKTGRLAVDTDTFSFGVVVLETLAGQRAVKTHGARTKYLKDLVEEEAEEAGVALRSTQSTLQAGLAADAWAAPIAMQIYKKHLDPRPGPCPPELGLGLGQLACCCLHRRAKRRPPMTQVYERLEKLQAVVAGVPGHSEAASCIPPSPQENSYVSSTGRAHSGAAPWQPLAAPSGASAQAAEQLQRGPNQPVESDESLGGLSAALRSWHLTPSCPLDPAPLREAGCPQGDTAGESSWGSGPGSRPTAVEGLALGSSASSSSEPPQIIINPARQKMVQKLALYEDGALDSLQLLSSSSLPGLGLEQDRQGPEESDEFQS\n",
      "INFO:root:Predicting 1th chain in ./Davis/cut_seqs/IRAK1.seq\n",
      "INFO:root:712 residues in this chain.\n",
      "INFO:root:Finished prediction in 43.28 seconds.\n",
      "INFO:root:Saving prediction to ./Davis/omega_2/IRAK1.pdb\n",
      "INFO:root:Saved\n",
      "INFO:root:Done!\n"
     ]
    },
    {
     "name": "stderr",
     "output_type": "stream",
     "text": [
      " 92%|█████████▏| 480/522 [4:02:06<27:21, 39.09s/it]"
     ]
    },
    {
     "name": "stdout",
     "output_type": "stream",
     "text": [
      "TTK_0.seq\n",
      "INFO:root:Reading ./Davis/cut_seqs/TTK_0.seq\n",
      "MESEDLSGRELTIDSIMNKVRDIKNKFKNEDLTDELSLNKISADTTDNSGTVNQIMMMANNPEDWLSLLLKLEKNSVPLSDALLNKLIGRYSQAIEALPPDKYGQNESFARIQVRFAELKAIQEPDDARDYFQMARANCKKFAFVHISFAQFELSQGNVKKSKQLLQKAVERGAVPLEMLEIALRNLNLQKKQLLSEEEKKNLSASTVLTAQESFSGSLGHLQNRNNSCDSRGQTTKARFLYGENMPPQDAEIGYRNSLRQTNKTKQSCPFGRVPVNLLNSPDCDVKTDDSVVPCFMKRQTSRSECRDLVVPGSKPSGNDSCELRNLKSVQNSHFKEPLVSDEKSSELIITDSITLKNKTESSLLAKLEETKEYQEPEVPESNQKQWQSKRKSECINQNPAASSNHWQIPELARKVNTEQKHTTFEQPVFSVSKQSPPISTSKWFDPKSICKTPSSNTLDDYMSCFRTPVVKNDFPPACQLSTPYGQPACFQQQQHQILATPLQNLQVLASSSANECISVKGRIYSILKQIGSGGSSKVFQVLNEKKQIYAIKYVNLEEADNQTLDSYRNEIAYLNKLQQHSDKIIRLYDYEITDQYIYMVMECGNIDLNSWLKKKKSIDPWERKSYWKNMLEAVHTIHQHGIVHSDLKPANFLIVDGMLKLIDFGIANQMQPDTTSVVKDSQVGTVNYMPPEAIKDMSSSRENGKSKSKISPKSDVWSLGCILYYMTYGKTPFQQIINQISKLHAIIDPNHEIEFPDIPEKDLQDVLKCCLKRDPKQRISIPELLAHPYVQIQTHPVNQ\n",
      "INFO:root:Predicting 1th chain in ./Davis/cut_seqs/TTK_0.seq\n",
      "INFO:root:800 residues in this chain.\n",
      "INFO:root:Finished prediction in 57.04 seconds.\n",
      "INFO:root:Saving prediction to ./Davis/omega_2/TTK_0.pdb\n",
      "INFO:root:Saved\n",
      "INFO:root:Done!\n"
     ]
    },
    {
     "name": "stderr",
     "output_type": "stream",
     "text": [
      " 92%|█████████▏| 481/522 [4:03:04<30:34, 44.74s/it]"
     ]
    },
    {
     "name": "stdout",
     "output_type": "stream",
     "text": [
      "PKAC-alpha.seq\n",
      "INFO:root:Reading ./Davis/cut_seqs/PKAC-alpha.seq\n",
      "MGNAAAAKKGSEQESVKEFLAKAKEDFLKKWESPAQNTAHLDQFERIKTLGTGSFGRVMLVKHKETGNHYAMKILDKQKVVKLKQIEHTLNEKRILQAVNFPFLVKLEFSFKDNSNLYMVMEYVPGGEMFSHLRRIGRFSEPHARFYAAQIVLTFEYLHSLDLIYRDLKPENLLIDQQGYIQVTDFGFAKRVKGRTWTLCGTPEYLAPEIILSKGYNKAVDWWALGVLIYEMAAGYPPFFADQPIQIYEKIVSGKVRFPSHFSSDLKDLLRNLLQVDLTKRFGNLKNGVNDIKNHKWFATTDWIAIYQRKVEAPFIPKFKGPGDTSNFDDYEEEEIRVSINEKCGKEFSEF\n",
      "INFO:root:Predicting 1th chain in ./Davis/cut_seqs/PKAC-alpha.seq\n",
      "INFO:root:351 residues in this chain.\n",
      "INFO:root:Finished prediction in 8.06 seconds.\n",
      "INFO:root:Saving prediction to ./Davis/omega_2/PKAC-alpha.pdb\n",
      "INFO:root:Saved\n",
      "INFO:root:Done!\n"
     ]
    },
    {
     "name": "stderr",
     "output_type": "stream",
     "text": [
      " 92%|█████████▏| 482/522 [4:03:13<22:33, 33.83s/it]"
     ]
    },
    {
     "name": "stdout",
     "output_type": "stream",
     "text": [
      "PDGFRA_1.seq\n",
      "INFO:root:Reading ./Davis/cut_seqs/PDGFRA_1.seq\n",
      "QVARGMEFLASKNCVHRDLAARNVLLAQGKIVKICDFGLARDIMHDSNYVSKGSTFLPVKWMAPESIFDNLYTTLSDVWSYGILLWEIFSLGGTPYPGMMVDSTFYNKIKSGYRMAKPDHATSEVYEIMVKCWNSEPEKRPSFYHLSEIVENLLPGQYKKSYEKIHLDFLKSDHPAVARMRVDSDNAYIGVTYKNEEDKLKDWEGGLDEQRLSADSGYIIPLPDIDPVPEEEDLGKRNRHSSQTSEESAIETGSSSSTFIKREDETIEDIDMMDDIGIDSSDLVEDSFL\n",
      "INFO:root:Predicting 1th chain in ./Davis/cut_seqs/PDGFRA_1.seq\n",
      "INFO:root:289 residues in this chain.\n",
      "INFO:root:Finished prediction in 5.00 seconds.\n",
      "INFO:root:Saving prediction to ./Davis/omega_2/PDGFRA_1.pdb\n",
      "INFO:root:Saved\n",
      "INFO:root:Done!\n"
     ]
    },
    {
     "name": "stderr",
     "output_type": "stream",
     "text": [
      " 93%|█████████▎| 483/522 [4:03:18<16:25, 25.27s/it]"
     ]
    },
    {
     "name": "stdout",
     "output_type": "stream",
     "text": [
      "IGF1R_0.seq\n",
      "INFO:root:Reading ./Davis/cut_seqs/IGF1R_0.seq\n",
      "MKSGSGGGSPTSLWGLLFLSAALSLWPTSGEICGPGIDIRNDYQQLKRLENCTVIEGYLHILLISKAEDYRSYRFPKLTVITEYLLLFRVAGLESLGDLFPNLTVIRGWKLFYNYALVIFEMTNLKDIGLYNLRNITRGAIRIEKNADLCYLSTVDWSLILDAVSNNYIVGNKPPKECGDLCPGTMEEKPMCEKTTINNEYNYRCWTTNRCQKMCPSTCGKRACTENNECCHPECLGSCSAPDNDTACVACRHYYYAGVCVPACPPNTYRFEGWRCVDRDFCANILSAESSDSEGFVIHDGECMQECPSGFIRNGSQSMYCIPCEGPCPKVCEEEKKTKTIDSVTSAQMLQGCTIFKGNLLINIRRGNNIASELENFMGLIEVVTGYVKIRHSHALVSLSFLKNLRLILGEEQLEGNYSFYVLDNQNLQQLWDWDHRNLTIKAGKMYFAFNPKLCVSEIYRMEEVTGTKGRQSKGDINTRNNGERASCESDVLHFTSTTTSKNRIIITWHRYRPPDYRDLISFTVYYKEAPFKNVTEYDGQDACGSNSWNMVDVDLPPNKDVEPGILLHGLKPWTQYAVYVKAVTLTMVENDHIRGAKSEILYIRTNASVPSIPLDVLSASNSSSQLIVKWNPPSLPNGNLSYYIVRWQRQPQDGYLYRHNYCSKDKIPIRKYADGTIDIEEVTENPKTEVCGGEKGPCCACPKTEAEKQAEKEEAEYRKVFENFLHNSIFVPRPERKRRDVMQVANTTMSSRSRNTTAADTYNITDPEELETEYPFFESRVDNKERTVISNLRPFTLYR\n",
      "INFO:root:Predicting 1th chain in ./Davis/cut_seqs/IGF1R_0.seq\n",
      "INFO:root:800 residues in this chain.\n",
      "INFO:root:Finished prediction in 57.02 seconds.\n",
      "INFO:root:Saving prediction to ./Davis/omega_2/IGF1R_0.pdb\n",
      "INFO:root:Saved\n",
      "INFO:root:Done!\n"
     ]
    },
    {
     "name": "stderr",
     "output_type": "stream",
     "text": [
      " 93%|█████████▎| 484/522 [4:04:16<22:14, 35.12s/it]"
     ]
    },
    {
     "name": "stdout",
     "output_type": "stream",
     "text": [
      "MAP4K2_1.seq\n",
      "INFO:root:Reading ./Davis/cut_seqs/MAP4K2_1.seq\n",
      "TDNPEAHSNLYILTGHQSTY\n",
      "INFO:root:Predicting 1th chain in ./Davis/cut_seqs/MAP4K2_1.seq\n",
      "INFO:root:20 residues in this chain.\n",
      "INFO:root:Finished prediction in 0.56 seconds.\n",
      "INFO:root:Saving prediction to ./Davis/omega_2/MAP4K2_1.pdb\n",
      "INFO:root:Saved\n",
      "INFO:root:Done!\n"
     ]
    },
    {
     "name": "stderr",
     "output_type": "stream",
     "text": [
      " 93%|█████████▎| 485/522 [4:04:17<15:17, 24.80s/it]"
     ]
    },
    {
     "name": "stdout",
     "output_type": "stream",
     "text": [
      "SBK1.seq\n",
      "INFO:root:Reading ./Davis/cut_seqs/SBK1.seq\n",
      "MSVGCPEPEPPRSLTCCGPGTAPGPGAGVPLLTEDMQALTLRTLAASDVTKHYELVRELGKGTYGKVDLVVYKGTGTKMALKFVNKSKTKLKNFLREVSITNSLSSSPFIIKVFDVVFETEDCYVFAQEYAPAGDLFDIIPPQVGLPEDTVKRCVQQLGLALDFMHGRQLVHRDIKPENVLLFDRECRRVKLADFGMTRRVGCRVKRVSGTIPYTAPEVCQAGRADGLAVDTGVDVWAFGVLIFCVLTGNFPWEAASGADAFFEEFVRWQRGRLPGLPSQWRRFTEPALRMFQRLLALEPERRGPAKEVFRFLKHELTSELRRRPSHRARKPPGDRPPAAGPLRLEAPGPLKRTVLTESGSGSRPAPPAVGSVPLPVPVPVPVPVPVPVPEPGLAPQGPPGRTDGRADKSKGQVVLATAIEICV\n",
      "INFO:root:Predicting 1th chain in ./Davis/cut_seqs/SBK1.seq\n",
      "INFO:root:424 residues in this chain.\n",
      "INFO:root:Finished prediction in 12.11 seconds.\n",
      "INFO:root:Saving prediction to ./Davis/omega_2/SBK1.pdb\n",
      "INFO:root:Saved\n",
      "INFO:root:Done!\n"
     ]
    },
    {
     "name": "stderr",
     "output_type": "stream",
     "text": [
      " 93%|█████████▎| 486/522 [4:04:29<12:40, 21.12s/it]"
     ]
    },
    {
     "name": "stdout",
     "output_type": "stream",
     "text": [
      "FGFR4_1.seq\n",
      "INFO:root:Reading ./Davis/cut_seqs/FGFR4_1.seq\n",
      "QT\n",
      "INFO:root:Predicting 1th chain in ./Davis/cut_seqs/FGFR4_1.seq\n",
      "INFO:root:2 residues in this chain.\n",
      "INFO:root:Finished prediction in 0.50 seconds.\n",
      "INFO:root:Saving prediction to ./Davis/omega_2/FGFR4_1.pdb\n",
      "INFO:root:Saved\n",
      "INFO:root:Done!\n"
     ]
    },
    {
     "name": "stderr",
     "output_type": "stream",
     "text": [
      " 93%|█████████▎| 487/522 [4:04:30<08:44, 14.98s/it]"
     ]
    },
    {
     "name": "stdout",
     "output_type": "stream",
     "text": [
      "CSNK1A1L.seq\n",
      "INFO:root:Reading ./Davis/cut_seqs/CSNK1A1L.seq\n",
      "MTNNSGSKAELVVGGKYKLVRKIGSGSFGDVYLGITTTNGEDVAVKLESQKVKHPQLLYESKLYTILQGGVGIPHMHWYGQEKDNNVLVMDLLGPSLEDLFNFCSRRFTMKTVLMLADQMISRIEYVHTKNFLHRDIKPDNFLMGTGRHCNKLFLIDFGLAKKYRDNRTRQHIPYREDKHLIGTVRYASINAHLGIEQSRRDDMESLGYVFMYFNRTSLPWQGLRAMTKKQKYEKISEKKMSTPVEVLCKGFPAEFAMYLNYCRGLRFEEVPDYMYLRQLFRILFRTLNHQYDYTFDWTMLKQKAAQQAASSSGQGQQAQTQTGKQTEKNKNNVKDN\n",
      "INFO:root:Predicting 1th chain in ./Davis/cut_seqs/CSNK1A1L.seq\n",
      "INFO:root:337 residues in this chain.\n",
      "INFO:root:Finished prediction in 7.12 seconds.\n",
      "INFO:root:Saving prediction to ./Davis/omega_2/CSNK1A1L.pdb\n",
      "INFO:root:Saved\n",
      "INFO:root:Done!\n"
     ]
    },
    {
     "name": "stderr",
     "output_type": "stream",
     "text": [
      " 93%|█████████▎| 488/522 [4:04:37<07:12, 12.72s/it]"
     ]
    },
    {
     "name": "stdout",
     "output_type": "stream",
     "text": [
      "FER_1.seq\n",
      "INFO:root:Reading ./Davis/cut_seqs/FER_1.seq\n",
      "PENRPKFSELQKELTIIKRKLT\n",
      "INFO:root:Predicting 1th chain in ./Davis/cut_seqs/FER_1.seq\n",
      "INFO:root:22 residues in this chain.\n",
      "INFO:root:Finished prediction in 0.50 seconds.\n",
      "INFO:root:Saving prediction to ./Davis/omega_2/FER_1.pdb\n",
      "INFO:root:Saved\n",
      "INFO:root:Done!\n"
     ]
    },
    {
     "name": "stderr",
     "output_type": "stream",
     "text": [
      " 94%|█████████▎| 489/522 [4:04:38<05:00,  9.09s/it]"
     ]
    },
    {
     "name": "stdout",
     "output_type": "stream",
     "text": [
      "MAP3K4_0.seq\n",
      "INFO:root:Reading ./Davis/cut_seqs/MAP3K4_0.seq\n",
      "MREAAAALVPPPAFAVTPAAAMEEPPPPPPPPPPPPEPETESEPECCLAARQEGTLGDSACKSPESDLEDFSDETNTENLYGTSPPSTPRQMKRMSTKHQRNNVGRPASRSNLKEKMNAPNQPPHKDTGKTVENVEEYSYKQEKKIRAALRTTERDRKKNVQCSFMLDSVGGSLPKKSIPDVDLNKPYLSLGCSNAKLPVSVPMPIARPARQTSRTDCPADRLKFFETLRLLLKLTSVSKKKDREQRGQENTSGFWLNRSNELIWLELQAWHAGRTINDQDFFLYTARQAIPDIINEILTFKVDYGSFAFVRDRAGFNGTSVEGQCKATPGTKIVGYSTHHEHLQRQRVSFEQVKRIMELLEYIEALYPSLQALQKDYEKYAAKDFQDRVQALCLWLNITKDLNQKLRIMGTVLGIKNLSDIGWPVFEIPSPRPSKGNEPEYEGDDTEGELKELESSTDESEEEQISDPRVPEIRQPIDNSFDIQSRDCISKKLERLESEDDSLGWGAPDWSTEAGFSRHCLTSIYRPFVDKALKQMGLRKLILRLHKLMDGSLQRARIALVKNDRPVEFSEFPDPMWGSDYVQLSRTPPSSEEKCSAVSWEELKAMDLPSFEPAFLVLCRVLLNVIHECLKLRLEQRPAGEPSLLSIKQLVRECKEVLKGGLLMKQYYQFMLQEVLEDLEKPDCNIDAFEEDLHKMLMVYFDYMRSWIQMLQQLPQASHSLKNLLEEEWNFTKEITHYIRGGEAQAGKLFCDIAGMLLKSTGSFLEFGLQESCAEFWTSADDSSASDEIRRSVIEISRA\n",
      "INFO:root:Predicting 1th chain in ./Davis/cut_seqs/MAP3K4_0.seq\n",
      "INFO:root:800 residues in this chain.\n",
      "INFO:root:Finished prediction in 56.98 seconds.\n",
      "INFO:root:Saving prediction to ./Davis/omega_2/MAP3K4_0.pdb\n",
      "INFO:root:Saved\n",
      "INFO:root:Done!\n"
     ]
    },
    {
     "name": "stderr",
     "output_type": "stream",
     "text": [
      " 94%|█████████▍| 490/522 [4:05:36<12:39, 23.74s/it]"
     ]
    },
    {
     "name": "stdout",
     "output_type": "stream",
     "text": [
      "TAOK3_1.seq\n",
      "INFO:root:Reading ./Davis/cut_seqs/TAOK3_1.seq\n",
      "QLQQEMELLNAYQSKIKMQTEAQHERELQKLEQRVSLRRAHLEQKIEEELAALQKERSERIKNLLERQEREIETFDMESLRMGFGNLVTLDFPKEDYR\n",
      "INFO:root:Predicting 1th chain in ./Davis/cut_seqs/TAOK3_1.seq\n",
      "INFO:root:98 residues in this chain.\n",
      "INFO:root:Finished prediction in 0.75 seconds.\n",
      "INFO:root:Saving prediction to ./Davis/omega_2/TAOK3_1.pdb\n",
      "INFO:root:Saved\n",
      "INFO:root:Done!\n"
     ]
    },
    {
     "name": "stderr",
     "output_type": "stream",
     "text": [
      " 94%|█████████▍| 491/522 [4:05:37<08:43, 16.89s/it]"
     ]
    },
    {
     "name": "stdout",
     "output_type": "stream",
     "text": [
      "CDK11.seq\n",
      "INFO:root:Reading ./Davis/cut_seqs/CDK11.seq\n",
      "MDYDFKAKLAAERERVEDLFEYEGCKVGRGTYGHVYKARRKDGKDEKEYALKQIEGTGISMSACREIALLRELKHPNVIALQKVFLSHSDRKVWLLFDYAEHDLWHIIKFHRASKANKKPMQLPRSMVKSLLYQILDGIHYLHANWVLHRDLKPANILVMGEGPERGRVKIADMGFARLFNSPLKPLADLDPVVVTFWYRAPELLLGARHYTKAIDIWAIGCIFAELLTSEPIFHCRQEDIKTSNPFHHDQLDRIFSVMGFPADKDWEDIRKMPEYPTLQKDFRRTTYANSSLIKYMEKHKVKPDSKVFLLLQKLLTMDPTKRITSEQALQDPYFQEDPLPTLDVFAGCQIPYPKREFLNEDDPEEKGDKNQQQQQNQHQQPTAPPQQAAAPPQAPPPQQNSTQTNGTAGGAGAGVGGTGAGLQHSQDSSLNQVPPNKKPRLGPSGANSGGPVMPSDYQHSSSRLNYQSSVQGSSQSQSTLGYSSSSQQSSQYHPSHQAHRY\n",
      "INFO:root:Predicting 1th chain in ./Davis/cut_seqs/CDK11.seq\n",
      "INFO:root:502 residues in this chain.\n",
      "INFO:root:Finished prediction in 18.59 seconds.\n",
      "INFO:root:Saving prediction to ./Davis/omega_2/CDK11.pdb\n",
      "INFO:root:Saved\n",
      "INFO:root:Done!\n"
     ]
    },
    {
     "name": "stderr",
     "output_type": "stream",
     "text": [
      " 94%|█████████▍| 492/522 [4:05:56<08:47, 17.58s/it]"
     ]
    },
    {
     "name": "stdout",
     "output_type": "stream",
     "text": [
      "CIT_2.seq\n",
      "INFO:root:Reading ./Davis/cut_seqs/CIT_2.seq\n",
      "SDQVVLVGTEEGLYALNVLKNSLTHVPGIGAVFQIYIIKDLEKLLMIAGEERALCLVDVKKVKQSLAQSHLPAQPDISPNIFEAVKGCHLFGAGKIENGLCICAAMPSKVVILRYNENLSKYCIRKEIETSEPCSCIHFTNYSILIGTNKFYEIDMKQYTLEEFLDKNDHSLAPAVFAASSNSFPVSIVQVNSAGQREEYLLCFHEFGVFVDSYGRRSRTDDLKWSRLPLAFAYREPYLFVTHFNSLEVIEIQARSSAGTPARAYLDIPNPRYLGPAISSGAIYLASSYQDKLRVICCKGNLVKESGTEHHRGPSTSRSSPNKRGPPTYNEHITKRVASSPAPPEGPSHPREPSTPHRYREGRTELRRDKSPGRPLEREKSPGRMLSTRRERSPGRLFEDSSRGRLPAGAVRTPLSQVNKVWDQSSV\n",
      "INFO:root:Predicting 1th chain in ./Davis/cut_seqs/CIT_2.seq\n",
      "INFO:root:427 residues in this chain.\n",
      "INFO:root:Finished prediction in 12.77 seconds.\n",
      "INFO:root:Saving prediction to ./Davis/omega_2/CIT_2.pdb\n",
      "INFO:root:Saved\n",
      "INFO:root:Done!\n"
     ]
    },
    {
     "name": "stderr",
     "output_type": "stream",
     "text": [
      " 94%|█████████▍| 493/522 [4:06:09<07:51, 16.26s/it]"
     ]
    },
    {
     "name": "stdout",
     "output_type": "stream",
     "text": [
      "CIT_1.seq\n",
      "INFO:root:Reading ./Davis/cut_seqs/CIT_1.seq\n",
      "NMKAQEEMISELRQQKFYLETQAGKLEAQNRKLEEQLEKISHQDHSDKNRLLELETRLREVSLEHEEQKLELKRQLTELQLSLQERESQLTALQAARAALESQLRQAKTELEETTAEAEEEIQALTAHRDEIQRKFDALRNSCTVITDLEEQLNQLTEDNAELNNQNFYLSKQLDEASGANDEIVQLRSEVDHLRREITEREMQLTSQKQTMEALKTTCTMLEEQVMDLEALNDELLEKERQWEAWRSVLGDEKSQFECRVRELQRMLDTEKQSRARADQRITESRQVVELAVKEHKAEILALQQALKEQKLKAESLSDKLNDLEKKHAMLEMNARSLQQKLETERELKQRLLEEQAKLQQQMDLQKNHIFRLTQGLQEALDRADLLKTERSDLEYQLENIQVLYSHEKVKMEGTISQQTKLIDFLQAKMDQPAKKKKGLFSRRKEDPALPTQVPLQYNELKLALEKEKARCAELEEALQKTRIELRSAREEAAHRKATDHPHPSTPATARQQIAMSAIVRSPEHQPSAMSLLAPPSSRRKESSTPEEFSRRLKERMHHNIPHRFNVGLNMRATKCAVCLDTVHFGRQASKCLECQVMCHPKCSTCLPATCGLPAEYATHFTEAFCRDKMNSPGLQTKEPSSSLHLEGWMKVPRNNKRGQQGWDRKYIVLEGSKVLIYDNEAREAGQRPVEEFELCLPDGDVSIHGAVGASELANTAKADVPYILKMESHPHTTCWPGRTLYLLAPSFPDKQRWVTALESVVAGGRVSREKAEADAKLLGNSLLKLEGDDRLDMNCTLPF\n",
      "INFO:root:Predicting 1th chain in ./Davis/cut_seqs/CIT_1.seq\n",
      "INFO:root:800 residues in this chain.\n",
      "INFO:root:Finished prediction in 56.99 seconds.\n",
      "INFO:root:Saving prediction to ./Davis/omega_2/CIT_1.pdb\n",
      "INFO:root:Saved\n",
      "INFO:root:Done!\n"
     ]
    },
    {
     "name": "stderr",
     "output_type": "stream",
     "text": [
      " 95%|█████████▍| 494/522 [4:07:07<13:24, 28.74s/it]"
     ]
    },
    {
     "name": "stdout",
     "output_type": "stream",
     "text": [
      "PRKD1_0.seq\n",
      "INFO:root:Reading ./Davis/cut_seqs/PRKD1_0.seq\n",
      "MSAPPVLRPPSPLLPVAAAAAAAAAALVPGSGPGPAPFLAPVAAPVGGISFHLQIGLSREPVLLLQDSSGDYSLAHVREMACSIVDQKFPECGFYGMYDKILLFRHDPTSENILQLVKAASDIQEGDLIEVVLSASATFEDFQIRPHALFVHSYRAPAFCDHCGEMLWGLVRQGLKCEGCGLNYHKRCAFKIPNNCSGVRRRRLSNVSLTGVSTIRTSSAELSTSAPDEPLLQKSPSESFIGREKRSNSQSYIGRPIHLDKILMSKVKVPHTFVIHSYTRPTVCQYCKKLLKGLFRQGLQCKDCRFNCHKRCAPKVPNNCLGEVTINGDLLSPGAESDVVMEEGSDDNDSERNSGLMDDMEEAMVQDAEMAMAECQNDSGEMQDPDPDHEDANRTISPSTSNNIPLMRVVQSVKHTKRKSSTVMKEGWMVHYTSKDTLRKRHYWRLDSKCITLFQNDTGSRYYKEIPLSEILSLEPVKTSALIPNGANPHCFEITTANVVYYVGENVVNPSSPSPNNSVLTSGVGADVARMWEIAIQHALMPVIPKGSSVGTGTNLHRDISVSISVSNCQIQENVDISTVYQIFPDEVLGSGQFGIVYGGKHRKTGRDVAIKIIDKLRFPTKQESQLRNEVAILQNLHHPGVVNLECMFETPERVFVVMEKLHGDMLEMILSSEKGRLPEHITKFLITQILVALRHLHFKNIVHCDLKPENVLLASADPFPQVKLCDFGFARIIGEKSFRRSVVGTPAYLAPEVLRNKGYNRSLDMWSVGVIIYVSLSGTFPFNEDEDIHDQIQNAAFMY\n",
      "INFO:root:Predicting 1th chain in ./Davis/cut_seqs/PRKD1_0.seq\n",
      "INFO:root:800 residues in this chain.\n",
      "INFO:root:Finished prediction in 57.07 seconds.\n",
      "INFO:root:Saving prediction to ./Davis/omega_2/PRKD1_0.pdb\n",
      "INFO:root:Saved\n",
      "INFO:root:Done!\n"
     ]
    },
    {
     "name": "stderr",
     "output_type": "stream",
     "text": [
      " 95%|█████████▍| 495/522 [4:08:05<16:52, 37.49s/it]"
     ]
    },
    {
     "name": "stdout",
     "output_type": "stream",
     "text": [
      "INSRR_0.seq\n",
      "INFO:root:Reading ./Davis/cut_seqs/INSRR_0.seq\n",
      "MAVPSLWPWGACLPVIFLSLGFGLDTVEVCPSLDIRSEVAELRQLENCSVVEGHLQILLMFTATGEDFRGLSFPRLTQVTDYLLLFRVYGLESLRDLFPNLAVIRGTRLFLGYALVIFEMPHLRDVALPALGAVLRGAVRVEKNQELCHLSTIDWGLLQPAPGANHIVGNKLGEECADVCPGVLGAAGEPCAKTTFSGHTDYRCWTSSHCQRVCPCPHGMACTARGECCHTECLGGCSQPEDPRACVACRHLYFQGACLWACPPGTYQYESWRCVTAERCASLHSVPGRASTFGIHQGSCLAQCPSGFTRNSSSIFCHKCEGLCPKECKVGTKTIDSIQAAQDLVGCTHVEGSLILNLRQGYNLEPQLQHSLGLVETITGFLKIKHSFALVSLGFFKNLKLIRGDAMVDGNYTLYVLDNQNLQQLGSWVAAGLTIPVGKIYFAFNPRLCLEHIYRLEEVTGTRGRQNKAEINPRTNGDRAACQTRTLRFVSNVTEADRILLRWERYEPLEARDLLSFIVYYKESPFQNATEHVGPDACGTQSWNLLDVELPLSRTQEPGVTLASLKPWTQYAVFVRAITLTTEEDSPHQGAQSPIVYLRTLPAAPTVPQDVISTSNSSSHLLVRWKPPTQRNGNLTYYLVLWQRLAEDGDLYLNDYCHRGLRLPTSNNDPRFDGEDGDPEAEMESDCCPCQHPPPGQVLPPLEAQEASFQKKFENFLHNAITIPISPWKVTSINKSPQRDSGRHRRAAGPLRLGGNSSDFEIQEDKVPRERAVLSGLRHFTEYRIDIHACNHAAHTVGCS\n",
      "INFO:root:Predicting 1th chain in ./Davis/cut_seqs/INSRR_0.seq\n",
      "INFO:root:800 residues in this chain.\n",
      "INFO:root:Finished prediction in 57.06 seconds.\n",
      "INFO:root:Saving prediction to ./Davis/omega_2/INSRR_0.pdb\n",
      "INFO:root:Saved\n",
      "INFO:root:Done!\n"
     ]
    },
    {
     "name": "stderr",
     "output_type": "stream",
     "text": [
      " 95%|█████████▌| 496/522 [4:09:03<18:54, 43.64s/it]"
     ]
    },
    {
     "name": "stdout",
     "output_type": "stream",
     "text": [
      "FRK.seq\n",
      "INFO:root:Reading ./Davis/cut_seqs/FRK.seq\n",
      "MSNICQRLWEYLEPYLPCLSTEADKSTVIENPGALCSPQSQRHGHYFVALFDYQARTAEDLSFRAGDKLQVLDTLHEGWWFARHLEKRRDGSSQQLQGYIPSNYVAEDRSLQAEPWFFGAIGRSDAEKQLLYSENKTGSFLIRESESQKGEFSLSVLDGAVVKHYRIKRLDEGGFFLTRRRIFSTLNEFVSHYTKTSDGLCVKLGKPCLKIQVPAPFDLSYKTVDQWEIDRNSIQLLKRLGSGQFGEVWEGLWNNTTPVAVKTLKPGSMDPNDFLREAQIMKNLRHPKLIQLYAVCTLEDPIYIITELMRHGSLQEYLQNDTGSKIHLTQQVDMAAQVASGMAYLESRNYIHRDLAARNVLVGEHNIYKVADFGLARVFKVDNEDIYESRHEIKLPVKWTAPEAIRSNKFSIKSDVWSFGILLYEIITYGKMPYSGMTGAQVIQMLAQNYRLPQPSNCPQQFYNIMLECWNAEPKERPTFETLRWKLEDYFETDSSYSDANNFIR\n",
      "INFO:root:Predicting 1th chain in ./Davis/cut_seqs/FRK.seq\n",
      "INFO:root:505 residues in this chain.\n",
      "INFO:root:Finished prediction in 19.19 seconds.\n",
      "INFO:root:Saving prediction to ./Davis/omega_2/FRK.pdb\n",
      "INFO:root:Saved\n",
      "INFO:root:Done!\n"
     ]
    },
    {
     "name": "stderr",
     "output_type": "stream",
     "text": [
      " 95%|█████████▌| 497/522 [4:09:23<15:11, 36.47s/it]"
     ]
    },
    {
     "name": "stdout",
     "output_type": "stream",
     "text": [
      "PIP5K1A.seq\n",
      "INFO:root:Reading ./Davis/cut_seqs/PIP5K1A.seq\n",
      "MASASSGPSSSVGFSSFDPAVPSCTLSSAASGIKRPMASEVLEARQDSYISLVPYASGMPIKKIGHRSVDSSGETTYKKTTSSALKGAIQLGITHTVGSLSTKPERDVLMQDFYVVESIFFPSEGSNLTPAHHYNDFRFKTYAPVAFRYFRELFGIRPDDYLYSLCSEPLIELCSSGASGSLFYVSSDDEFIIKTVQHKEAEFLQKLLPGYYMNLNQNPRTLLPKFYGLYCVQAGGKNIRIVVMNNLLPRSVKMHIKYDLKGSTYKRRASQKEREKPLPTFKDLDFLQDIPDGLFLDADMYNALCKTLQRDCLVLQSFKIMDYSLLMSIHNIDHAQREPLSSETQYSVDTRRPAPQKALYSTAMESIQGEARRGGTMETDDHMGGIPARNSKGERLLLYIGIIDILQSYRFVKKLEHSWKALVHDGDTVSVHRPGFYAERFQRFMCNTVFKKIPLKPSPSKKFRSGSSFSRRAGSSGNSCITYQPSVSGEHKAQVTTKAEVEPGVHLGRPDVLPQTPPLEEISEGSPIPDPSFSPLVGETLQMLTTSTTLEKLEVAESEFTH\n",
      "INFO:root:Predicting 1th chain in ./Davis/cut_seqs/PIP5K1A.seq\n",
      "INFO:root:562 residues in this chain.\n",
      "INFO:root:Finished prediction in 24.89 seconds.\n",
      "INFO:root:Saving prediction to ./Davis/omega_2/PIP5K1A.pdb\n",
      "INFO:root:Saved\n",
      "INFO:root:Done!\n"
     ]
    },
    {
     "name": "stderr",
     "output_type": "stream",
     "text": [
      " 95%|█████████▌| 498/522 [4:09:48<13:15, 33.16s/it]"
     ]
    },
    {
     "name": "stdout",
     "output_type": "stream",
     "text": [
      "PFTAIRE2.seq\n",
      "INFO:root:Reading ./Davis/cut_seqs/PFTAIRE2.seq\n",
      "MGQELCAKTVQPGCSCYHCSEGGEAHSCRRSQPETTEAAFKLTDLKEASCSMTSFHPRGLQAARAQKFKSKRPRSNSDCFQEEDLRQGFQWRKSLPFGAASSYLNLEKLGEGSYATVYKGISRINGQLVALKVISMNAEEGVPFTAIREASLLKGLKHANIVLLHDIIHTKETLTFVFEYMHTDLAQYMSQHPGGLHPHNVRLFMFQLLRGLAYIHHQHVLHRDLKPQNLLISHLGELKLADFGLARAKSIPSQTYSSEVVTLWYRPPDALLGATEYSSELDIWGAGCIFIEMFQGQPLFPGVSNILEQLEKIWEVLGVPTEDTWPGVSKLPNYNPEWFPLPTPRSLHVVWNRLGRVPEAEDLASQMLKGFPRDRVSAQEALVHDYFSALPSQLYQLPDEESLFTVSGVRLKPEMCDLLASYQKGHHPAQFSKCW\n",
      "INFO:root:Predicting 1th chain in ./Davis/cut_seqs/PFTAIRE2.seq\n",
      "INFO:root:435 residues in this chain.\n",
      "INFO:root:Finished prediction in 13.40 seconds.\n",
      "INFO:root:Saving prediction to ./Davis/omega_2/PFTAIRE2.pdb\n",
      "INFO:root:Saved\n",
      "INFO:root:Done!\n"
     ]
    },
    {
     "name": "stderr",
     "output_type": "stream",
     "text": [
      " 96%|█████████▌| 499/522 [4:10:02<10:29, 27.36s/it]"
     ]
    },
    {
     "name": "stdout",
     "output_type": "stream",
     "text": [
      "MAP3K3.seq\n",
      "INFO:root:Reading ./Davis/cut_seqs/MAP3K3.seq\n",
      "MDEQEALNSIMNDLVALQMNRRHRMPGYETMKNKDTGHSNRQSDVRIKFEHNGERRIIAFSRPVKYEDVEHKVTTVFGQPLDLHYMNNELSILLKNQDDLDKAIDILDRSSSMKSLRILLLSQDRNHNSSSPHSGVSRQVRIKASQSAGDINTIYQPPEPRSRHLSVSSQNPGRSSPPPGYVPERQQHIARQGSYTSINSEGEFIPETSEQCMLDPLSSAENSLSGSCQSLDRSADSPSFRKSRMSRAQSFPDNRQEYSDRETQLYDKGVKGGTYPRRYHVSVHHKDYSDGRRTFPRIRRHQGNLFTLVPSSRSLSTNGENMGLAVQYLDPRGRLRSADSENALSVQERNVPTKSPSAPINWRRGKLLGQGAFGRVYLCYDVDTGRELASKQVQFDPDSPETSKEVSALECEIQLLKNLQHERIVQYYGCLRDRAEKTLTIFMEYMPGGSVKDQLKAYGALTESVTRKYTRQILEGMSYLHSNMIVHRDIKGANILRDSAGNVKLGDFGASKRLQTICMSGTGMRSVTGTPYWMSPEVISGEGYGRKADVWSLGCTVVEMLTEKPPWAEYEAMAAIFKIATQPTNPQLPSHISEHGRDFLRRIFVEARQRPSAEELLTHHFAQLMY\n",
      "INFO:root:Predicting 1th chain in ./Davis/cut_seqs/MAP3K3.seq\n",
      "INFO:root:626 residues in this chain.\n",
      "INFO:root:Finished prediction in 33.07 seconds.\n",
      "INFO:root:Saving prediction to ./Davis/omega_2/MAP3K3.pdb\n",
      "INFO:root:Saved\n",
      "INFO:root:Done!\n"
     ]
    },
    {
     "name": "stderr",
     "output_type": "stream",
     "text": [
      " 96%|█████████▌| 500/522 [4:10:36<10:43, 29.27s/it]"
     ]
    },
    {
     "name": "stdout",
     "output_type": "stream",
     "text": [
      "YES.seq\n",
      "INFO:root:Reading ./Davis/cut_seqs/YES.seq\n",
      "MGCIKSKENKSPAIKYRPENTPEPVSTSVSHYGAEPTTVSPCPSSSAKGTAVNFSSLSMTPFGGSSGVTPFGGASSSFSVVPSSYPAGLTGGVTIFVALYDYEARTTEDLSFKKGERFQIINNTEGDWWEARSIATGKNGYIPSNYVAPADSIQAEEWYFGKMGRKDAERLLLNPGNQRGIFLVRESETTKGAYSLSIRDWDEIRGDNVKHYKIRKLDNGGYYITTRAQFDTLQKLVKHYTEHADGLCHKLTTVCPTVKPQTQGLAKDAWEIPRESLRLEVKLGQGCFGEVWMGTWNGTTKVAIKTLKPGTMMPEAFLQEAQIMKKLRHDKLVPLYAVVSEEPIYIVTEFMSKGSLLDFLKEGDGKYLKLPQLVDMAAQIADGMAYIERMNYIHRDLRAANILVGENLVCKIADFGLARLIEDNEYTARQGAKFPIKWTAPEAALYGRFTIKSDVWSFGILQTELVTKGRVPYPGMVNREVLEQVERGYRMPCPQGCPESLHELMNLCWKKDPDERPTFEYIQSFLEDYFTATEPQYQPGENL\n",
      "INFO:root:Predicting 1th chain in ./Davis/cut_seqs/YES.seq\n",
      "INFO:root:543 residues in this chain.\n",
      "INFO:root:Finished prediction in 23.21 seconds.\n",
      "INFO:root:Saving prediction to ./Davis/omega_2/YES.pdb\n",
      "INFO:root:Saved\n",
      "INFO:root:Done!\n"
     ]
    },
    {
     "name": "stderr",
     "output_type": "stream",
     "text": [
      " 96%|█████████▌| 501/522 [4:10:59<09:40, 27.62s/it]"
     ]
    },
    {
     "name": "stdout",
     "output_type": "stream",
     "text": [
      "FGFR1_0.seq\n",
      "INFO:root:Reading ./Davis/cut_seqs/FGFR1_0.seq\n",
      "MWSWKCLLFWAVLVTATLCTARPSPTLPEQAQPWGAPVEVESFLVHPGDLLQLRCRLRDDVQSINWLRDGVQLAESNRTRITGEEVEVQDSVPADSGLYACVTSSPSGSDTTYFSVNVSDALPSSEDDDDDDDSSSEEKETDNTKPNRMPVAPYWTSPEKMEKKLHAVPAAKTVKFKCPSSGTPNPTLRWLKNGKEFKPDHRIGGYKVRYATWSIIMDSVVPSDKGNYTCIVENEYGSINHTYQLDVVERSPHRPILQAGLPANKTVALGSNVEFMCKVYSDPQPHIQWLKHIEVNGSKIGPDNLPYVQILKTAGVNTTDKEMEVLHLRNVSFEDAGEYTCLAGNSIGLSHHSAWLTVLEALEERPAVMTSPLYLEIIIYCTGAFLISCMVGSVIVYKMKSGTKKSDFHSQMAVHKLAKSIPLRRQVTVSADSSASMNSGVLLVRPSRLSSSGTPMLAGVSEYELPEDPRWELPRDRLVLGKPLGEGCFGQVVLAEAIGLDKDKPNRVTKVAVKMLKSDATEKDLSDLISEMEMMKMIGKHKNIINLLGACTQDGPLYVIVEYASKGNLREYLQARRPPGLEYCYNPSHNPEEQLSSKDLVSCAYQVARGMEYLASKKCIHRDLAARNVLVTEDNVMKIADFGLARDIHHIDYYKKTTNGRLPVKWMAPEALFDRIYTHQSDVWSFGVLLWEIFTLGGSPYPGVPVEELFKLLKEGHRMDKPSNCTNELYMMMRDCWHAVPSQRPTFKQLVEDLDRIVALTSNQEYLDLSMPLDQYSPSFPDTRSSTCSSGEDSVFSHEP\n",
      "INFO:root:Predicting 1th chain in ./Davis/cut_seqs/FGFR1_0.seq\n",
      "INFO:root:800 residues in this chain.\n",
      "INFO:root:Finished prediction in 57.05 seconds.\n",
      "INFO:root:Saving prediction to ./Davis/omega_2/FGFR1_0.pdb\n",
      "INFO:root:Saved\n",
      "INFO:root:Done!\n"
     ]
    },
    {
     "name": "stderr",
     "output_type": "stream",
     "text": [
      " 96%|█████████▌| 502/522 [4:11:57<12:14, 36.73s/it]"
     ]
    },
    {
     "name": "stdout",
     "output_type": "stream",
     "text": [
      "ALK_2.seq\n",
      "INFO:root:Reading ./Davis/cut_seqs/ALK_2.seq\n",
      "AGHYEDTILKSKNSMNQPGP\n",
      "INFO:root:Predicting 1th chain in ./Davis/cut_seqs/ALK_2.seq\n",
      "INFO:root:20 residues in this chain.\n",
      "INFO:root:Finished prediction in 0.49 seconds.\n",
      "INFO:root:Saving prediction to ./Davis/omega_2/ALK_2.pdb\n",
      "INFO:root:Saved\n",
      "INFO:root:Done!\n"
     ]
    },
    {
     "name": "stderr",
     "output_type": "stream",
     "text": [
      " 96%|█████████▋| 503/522 [4:11:58<08:12, 25.90s/it]"
     ]
    },
    {
     "name": "stdout",
     "output_type": "stream",
     "text": [
      "ACVR1.seq\n",
      "INFO:root:Reading ./Davis/cut_seqs/ACVR1.seq\n",
      "MVDGVMILPVLIMIALPSPSMEDEKPKVNPKLYMCVCEGLSCGNEDHCEGQQCFSSLSINDGFHVYQKGCFQVYEQGKMTCKTPPSPGQAVECCQGDWCNRNITAQLPTKGKSFPGTQNFHLEVGLIILSVVFAVCLLACLLGVALRKFKRRNQERLNPRDVEYGTIEGLITTNVGDSTLADLLDHSCTSGSGSGLPFLVQRTVARQITLLECVGKGRYGEVWRGSWQGENVAVKIFSSRDEKSWFRETELYNTVMLRHENILGFIASDMTSRHSSTQLWLITHYHEMGSLYDYLQLTTLDTVSCLRIVLSIASGLAHLHIEIFGTQGKPAIAHRDLKSKNILVKKNGQCCIADLGLAVMHSQSTNQLDVGNNPRVGTKRYMAPEVLDETIQVDCFDSYKRVDIWAFGLVLWEVARRMVSNGIVEDYKPPFYDVVPNDPSFEDMRKVVCVDQQRPNIPNRWFSDPTLTSLAKLMKECWYQNPSARLTALRIKKTLTKIDNSLDKLKTDC\n",
      "INFO:root:Predicting 1th chain in ./Davis/cut_seqs/ACVR1.seq\n",
      "INFO:root:509 residues in this chain.\n",
      "INFO:root:Finished prediction in 19.80 seconds.\n",
      "INFO:root:Saving prediction to ./Davis/omega_2/ACVR1.pdb\n",
      "INFO:root:Saved\n",
      "INFO:root:Done!\n"
     ]
    },
    {
     "name": "stderr",
     "output_type": "stream",
     "text": [
      " 97%|█████████▋| 504/522 [4:12:18<07:16, 24.25s/it]"
     ]
    },
    {
     "name": "stdout",
     "output_type": "stream",
     "text": [
      "SgK110.seq\n",
      "INFO:root:Reading ./Davis/cut_seqs/SgK110.seq\n",
      "MERRASETPEDGDPEEDTATALQRLVELTTSRVTPVRSLRDQYHLIRKLGSGSYGRVLLAQPHQGGPAVALKLLRRDLVLRSTFLREFCVGRCVSAHPGLLQTLAGPLQTPRYFAFAQEYAPCGDLSGMLQERGLPELLVKRVVAQLAGALDFLHSRGLVHADVKPDNVLVFDPVCSRVALGDLGLTRPEGSPTPAPPVPLPTAPPELCLLLPPDTLPLRPAVDSWGLGVLLFCAATACFPWDVALAPNPEFEAFAGWVTTKPQPPQPPPPWDQFAPPALALLQGLLDLDPETRSPPLAVLDFLGDDWGLQGNREGPGVLGSAVSYEDREEGGSSLEEWTDEGDDSKSGGRTGTDGGAP\n",
      "INFO:root:Predicting 1th chain in ./Davis/cut_seqs/SgK110.seq\n",
      "INFO:root:359 residues in this chain.\n",
      "INFO:root:Finished prediction in 8.32 seconds.\n",
      "INFO:root:Saving prediction to ./Davis/omega_2/SgK110.pdb\n",
      "INFO:root:Saved\n",
      "INFO:root:Done!\n"
     ]
    },
    {
     "name": "stderr",
     "output_type": "stream",
     "text": [
      " 97%|█████████▋| 505/522 [4:12:27<05:32, 19.57s/it]"
     ]
    },
    {
     "name": "stdout",
     "output_type": "stream",
     "text": [
      "ERN1_0.seq\n",
      "INFO:root:Reading ./Davis/cut_seqs/ERN1_0.seq\n",
      "MPARRLLLLLTLLLPGLGIFGSTSTVTLPETLLFVSTLDGSLHAVSKRTGSIKWTLKEDPVLQVPTHVEEPAFLPDPNDGSLYTLGSKNNEGLTKLPFTIPELVQASPCRSSDGILYMGKKQDIWYVIDLLTGEKQQTLSSAFADSLCPSTSLLYLGRTEYTITMYDTKTRELRWNATYFDYAASLPEDDVDYKMSHFVSNGDGLVVTVDSESGDVLWIQNYASPVVAFYVWQREGLRKVMHINVAVETLRYLTFMSGEVGRITKWKYPFPKETEAKSKLTPTLYVGKYSTSLYASPSMVHEGVAVVPRGSTLPLLEGPQTDGVTIGDKGECVITPSTDVKFDPGLKSKNKLNYLRNYWLLIGHHETPLSASTKMLERFPNNLPKHRENVIPADSEKKSFEEVINLVDQTSENAPTTVSRDVEEKPAHAPARPEAPVDSMLKDMATIILSTFLLIGWVAFIITYPLSMHQQQQLQHQQFQKELEKIQLLQQQQQQLPFHPPGDTAQDGELLDTSGPYSESSGTSSPSTSPRASNHSLCSGSSASKAGSSPSLEQDDGDEETSVVIVGKISFCPKDVLGHGAEGTIVYRGMFDNRDVAVKRILPECFSFADREVQLLRESDEHPNVIRYFCTEKDRQFQYIAIELCAATLQEYVEQKDFAHLGLEPITLLQQTTSGLAHLHSLNIVHRDLKPHNILISMPNAHGKIKAMISDFGLCKKLAVGRHSFSRRSGVPGTEGWIAPEMLSEDCKENPTYTVDIFSAGCVFYYVISEGSHPFGKSLQRQANILLGACSLDCLHPEKH\n",
      "INFO:root:Predicting 1th chain in ./Davis/cut_seqs/ERN1_0.seq\n",
      "INFO:root:800 residues in this chain.\n",
      "INFO:root:Finished prediction in 56.99 seconds.\n",
      "INFO:root:Saving prediction to ./Davis/omega_2/ERN1_0.pdb\n",
      "INFO:root:Saved\n",
      "INFO:root:Done!\n"
     ]
    },
    {
     "name": "stderr",
     "output_type": "stream",
     "text": [
      " 97%|█████████▋| 506/522 [4:13:25<08:16, 31.05s/it]"
     ]
    },
    {
     "name": "stdout",
     "output_type": "stream",
     "text": [
      "CSNK2A2.seq\n",
      "INFO:root:Reading ./Davis/cut_seqs/CSNK2A2.seq\n",
      "MPGPAAGSRARVYAEVNSLRSREYWDYEAHVPSWGNQDDYQLVRKLGRGKYSEVFEAINITNNERVVVKILKPVKKKKIKREVKILENLRGGTNIIKLIDTVKDPVSKTPALVFEYINNTDFKQLYQILTDFDIRFYMYELLKALDYCHSKGIMHRDVKPHNVMIDHQQKKLRLIDWGLAEFYHPAQEYNVRVASRYFKGPELLVDYQMYDYSLDMWSLGCMLASMIFRREPFFHGQDNYDQLVRIAKVLGTEELYGYLKKYHIDLDPHFNDILGQHSRKRWENFIHSENRHLVSPEALDLLDKLLRYDHQQRLTAKEAMEHPYFYPVVKEQSQPCADNAVLSSGLTAAR\n",
      "INFO:root:Predicting 1th chain in ./Davis/cut_seqs/CSNK2A2.seq\n",
      "INFO:root:350 residues in this chain.\n",
      "INFO:root:Finished prediction in 7.81 seconds.\n",
      "INFO:root:Saving prediction to ./Davis/omega_2/CSNK2A2.pdb\n",
      "INFO:root:Saved\n",
      "INFO:root:Done!\n"
     ]
    },
    {
     "name": "stderr",
     "output_type": "stream",
     "text": [
      " 97%|█████████▋| 507/522 [4:13:33<06:02, 24.17s/it]"
     ]
    },
    {
     "name": "stdout",
     "output_type": "stream",
     "text": [
      "TYRO3_0.seq\n",
      "INFO:root:Reading ./Davis/cut_seqs/TYRO3_0.seq\n",
      "MALRRSMGRPGLPPLPLPPPPRLGLLLAALASLLLPESAAAGLKLMGAPVKLTVSQGQPVKLNCSVEGMEEPDIQWVKDGAVVQNLDQLYIPVSEQHWIGFLSLKSVERSDAGRYWCQVEDGGETEISQPVWLTVEGVPFFTVEPKDLAVPPNAPFQLSCEAVGPPEPVTIVWWRGTTKIGGPAPSPSVLNVTGVTQSTMFSCEAHNLKGLASSRTATVHLQALPAAPFNITVTKLSSSNASVAWMPGADGRALLQSCTVQVTQAPGGWEVLAVVVPVPPFTCLLRDLVPATNYSLRVRCANALGPSPYADWVPFQTKGLAPASAPQNLHAIRTDSGLILEWEEVIPEAPLEGPLGPYKLSWVQDNGTQDELTVEGTRANLTGWDPQKDLIVRVCVSNAVGCGPWSQPLVVSSHDRAGQQGPPHSRTSWVPVVLGVLTALVTAAALALILLRKRRKETRFGQAFDSVMARGEPAVHFRAARSFNRERPERIEATLDSLGISDELKEKLEDVLIPEQQFTLGRMLGKGEFGSVREAQLKQEDGSFVKVAVKMLKADIIASSDIEEFLREAACMKEFDHPHVAKLVGVSLRSRAKGRLPIPMVILPFMKHGDLHAFLLASRIGENPFNLPLQTLIRFMVDIACGMEYLSSRNFIHRDLAARNCMLAEDMTVCVADFGLSRKIYSGDYYRQGCASKLPVKWLALESLADNLYTVQSDVWAFGVTMWEIMTRGQTPYAGIENAEIYNYLIGGNRLKQPPECMEDVYDLMYQCWSADPKQRPSFTCLRMELENILGQLSVLSASQ\n",
      "INFO:root:Predicting 1th chain in ./Davis/cut_seqs/TYRO3_0.seq\n",
      "INFO:root:800 residues in this chain.\n",
      "INFO:root:Finished prediction in 57.10 seconds.\n",
      "INFO:root:Saving prediction to ./Davis/omega_2/TYRO3_0.pdb\n",
      "INFO:root:Saved\n",
      "INFO:root:Done!\n"
     ]
    },
    {
     "name": "stderr",
     "output_type": "stream",
     "text": [
      " 97%|█████████▋| 508/522 [4:14:31<08:00, 34.33s/it]"
     ]
    },
    {
     "name": "stdout",
     "output_type": "stream",
     "text": [
      "MEK4.seq\n",
      "INFO:root:Reading ./Davis/cut_seqs/MEK4.seq\n",
      "MAAPSPSGGGGSGGGSGSGTPGPVGSPAPGHPAVSSMQGKRKALKLNFANPPFKSTARFTLNPNPTGVQNPHIERLRTHSIESSGKLKISPEQHWDFTAEDLKDLGEIGRGAYGSVNKMVHKPSGQIMAVKRIRSTVDEKEQKQLLMDLDVVMRSSDCPYIVQFYGALFREGDCWICMELMSTSFDKFYKYVYSVLDDVIPEEILGKITLATVKALNHLKENLKIIHRDIKPSNILLDRSGNIKLCDFGISGQLVDSIAKTRDAGCRPYMAPERIDPSASRQGYDVRSDVWSLGITLYELATGRFPYPKWNSVFDQLTQVVKGDPPQLSNSEEREFSPSFINFVNLCLTKDESKRPKYKELLKHPFILMYEERAVEVACYVCKILDQMPATPSSPMYVD\n",
      "INFO:root:Predicting 1th chain in ./Davis/cut_seqs/MEK4.seq\n",
      "INFO:root:399 residues in this chain.\n",
      "INFO:root:Finished prediction in 10.95 seconds.\n",
      "INFO:root:Saving prediction to ./Davis/omega_2/MEK4.pdb\n",
      "INFO:root:Saved\n",
      "INFO:root:Done!\n"
     ]
    },
    {
     "name": "stderr",
     "output_type": "stream",
     "text": [
      " 98%|█████████▊| 509/522 [4:14:42<05:56, 27.42s/it]"
     ]
    },
    {
     "name": "stdout",
     "output_type": "stream",
     "text": [
      "MAK.seq\n",
      "INFO:root:Reading ./Davis/cut_seqs/MAK.seq\n",
      "MNRYTTMRQLGDGTYGSVLMGKSNESGELVAIKRMKRKFYSWDECMNLREVKSLKKLNHANVIKLKEVIRENDHLYFIFEYMKENLYQLMKDRNKLFPESVIRNIMYQILQGLAFIHKHGFFHRDMKPENLLCMGPELVKIADFGLARELRSQPPYTDYVSTRWYRAPEVLLRSSVYSSPIDVWAVGSIMAELYMLRPLFPGTSEVDEIFKICQVLGTPKKSDWPEGYQLASSMNFRFPQCVPINLKTLIPNASNEAIQLMTEMLNWDPKKRPTASQALKHPYFQVGQVLGPSSNHLESKQSLNKQLQPLESKPSLVEVEPKPLPDIIDQVVGQPQPKTSQQPLQPIQPPQNLSVQQPPKQQSQEKPPQTLFPSIVKNMPTKPNGTLSHKSGRRRWGQTIFKSGDSWEELEDYDFGASHSKKPSMGVFKEKRKKDSPFRLPEPVPSGSNHSTGENKSLPAVTSLKSDSELSTAPTSKQYYLKQSRYLPGVNPKKVSLIASGKEINPHTWSNQLFPKSLGPVGAELAFKRSNAGNLGSYATYNQSGYIPSFLKKEVQSAGQRIHLAPLNATASEYTWNTKTGRGQFSGRTYNPTAKNLNIVNRAQPIPSVHGRTDWVAKYGGHR\n",
      "INFO:root:Predicting 1th chain in ./Davis/cut_seqs/MAK.seq\n",
      "INFO:root:623 residues in this chain.\n",
      "INFO:root:Finished prediction in 32.70 seconds.\n",
      "INFO:root:Saving prediction to ./Davis/omega_2/MAK.pdb\n",
      "INFO:root:Saved\n",
      "INFO:root:Done!\n"
     ]
    },
    {
     "name": "stderr",
     "output_type": "stream",
     "text": [
      " 98%|█████████▊| 510/522 [4:15:16<05:50, 29.21s/it]"
     ]
    },
    {
     "name": "stdout",
     "output_type": "stream",
     "text": [
      "RIPK4.seq\n",
      "INFO:root:Reading ./Davis/cut_seqs/RIPK4.seq\n",
      "MEGDGGTPWALALLRTFDAGEFTGWEKVGSGGFGQVYKVRHVHWKTWLAIKCSPSLHVDDRERMELLEEAKKMEMAKFRYILPVYGICREPVGLVMEYMETGSLEKLLASEPLPWDLRFRIIHETAVGMNFLHCMAPPLLHLDLKPANILLDAHYHVKISDFGLAKCNGLSHSHDLSMDGLFGTIAYLPPERIREKSRLFDTKHDVYSFAIVIWGVLTQKKPFADEKNILHIMVKVVKGHRPELPPVCRARPRACSHLIRLMQRCWQGDPRVRPTFQEITSETEDLCEKPDDEVKETAHDLDVKSPPEPRSEVVPARLKRASAPTFDNDYSLSELLSQLDSGVSQAVEGPEELSRSSSESKLPSSGSGKRLSGVSSVDSAFSSRGSLSLSFEREPSTSDLGTTDVQKKKLVDAIVSGDTSKLMKILQPQDVDLALDSGASLLHLAVEAGQEECAKWLLLNNANPNLSNRRGSTPLHMAVERRVRGVVELLLARKISVNAKDEDQWTALHFAAQNGDESSTRLLLEKNASVNEVDFEGRTPMHVACQHGQENIVRILLRRGVDVSLQGKDAWLPLHYAAWQGHLPIVKLLAKQPGVSVNAQTLDGRTPLHLAAQRGHYRVARILIDLCSDVNVCSLLAQTPLHVAAETGHTSTARLLLHRGAGKKAVTSDGYTALHLAARNGHLATVKLLVEEKADVLARGPLNQTALHLAAAHGHSEVVEELVSADVIDLFDEQGLSALHLAAQGRHAQTVETLLRHGAHINLQSLKFQGGHGPAATLLRRSKT\n",
      "INFO:root:Predicting 1th chain in ./Davis/cut_seqs/RIPK4.seq\n",
      "INFO:root:784 residues in this chain.\n",
      "INFO:root:Finished prediction in 54.98 seconds.\n",
      "INFO:root:Saving prediction to ./Davis/omega_2/RIPK4.pdb\n",
      "INFO:root:Saved\n",
      "INFO:root:Done!\n"
     ]
    },
    {
     "name": "stderr",
     "output_type": "stream",
     "text": [
      " 98%|█████████▊| 511/522 [4:16:12<06:49, 37.20s/it]"
     ]
    },
    {
     "name": "stdout",
     "output_type": "stream",
     "text": [
      "MUSK_0.seq\n",
      "INFO:root:Reading ./Davis/cut_seqs/MUSK_0.seq\n",
      "MRELVNIPLVHILTLVAFSGTEKLPKAPVITTPLETVDALVEEVATFMCAVESYPQPEISWTRNKILIKLFDTRYSIRENGQLLTILSVEDSDDGIYCCTANNGVGGAVESCGALQVKMKPKITRPPINVKIIEGLKAVLPCTTMGNPKPSVSWIKGDSPLRENSRIAVLESGSLRIHNVQKEDAGQYRCVAKNSLGTAYSKVVKLEVEVFARILRAPESHNVTFGSFVTLHCTATGIPVPTITWIENGNAVSSGSIQESVKDRVIDSRLQLFITKPGLYTCIATNKHGEKFSTAKAAATISIAEWSKPQKDNKGYCAQYRGEVCNAVLAKDALVFLNTSYADPEEAQELLVHTAWNELKVVSPVCRPAAEALLCNHIFQECSPGVVPTPIPICREYCLAVKELFCAKEWLVMEEKTHRGLYRSEMHLLSVPECSKLPSMHWDPTACARLPHLDYNKENLKTFPPMTSSKPSVDIPNLPSSSSSSFSVSPTYSMTVIISIMSSFAIFVLLTITTLYCCRRRKQWKNKKRESAAVTLTTLPSELLLDRLHPNPMYQRMPLLLNPKLLSLEYPRNNIEYVRDIGEGAFGRVFQARAPGLLPYEPFTMVAVKMLKEEASADMQADFQREAALMAEFDNPNIVKLLGVCAVGKPMCLLFEYMAYGDLNEFLRSMSPHTVCSLSHSDLSMRAQVSSPGPPPLSCAEQLCIARQVAAGMAYLSERKFVHRDLATRNCLVGENMVVKIADFGLSRNIYSADYYKANENDAIPIRWMPPESIFYNRYTTESDVWAYGVVLWEIFSYGL\n",
      "INFO:root:Predicting 1th chain in ./Davis/cut_seqs/MUSK_0.seq\n",
      "INFO:root:800 residues in this chain.\n",
      "INFO:root:Finished prediction in 57.19 seconds.\n",
      "INFO:root:Saving prediction to ./Davis/omega_2/MUSK_0.pdb\n",
      "INFO:root:Saved\n",
      "INFO:root:Done!\n"
     ]
    },
    {
     "name": "stderr",
     "output_type": "stream",
     "text": [
      " 98%|█████████▊| 512/522 [4:17:11<07:17, 43.76s/it]"
     ]
    },
    {
     "name": "stdout",
     "output_type": "stream",
     "text": [
      "EGFR_1.seq\n",
      "INFO:root:Reading ./Davis/cut_seqs/EGFR_1.seq\n",
      "YVREHKDNIGSQYLLNWCVQIAKGMNYLEDRRLVHRDLAARNVLVKTPQHVKITDFGLAKLLGAEEKEYHAEGGKVPIKWMALESILHRIYTHQSDVWSYGVTVWELMTFGSKPYDGIPASEISSILEKGERLPQPPICTIDVYMIMVKCWMIDADSRPKFRELIIEFSKMARDPQRYLVIQGDERMHLPSPTDSNFYRALMDEEDMDDVVDADEYLIPQQGFFSSPSTSRTPLLSSLSATSNNSTVACIDRNGLQSCPIKEDSFLQRYSSDPTGALTEDSIDDTFLPVPEYINQSVPKRPAGSVQNPVYHNQPLNPAPSRDPHYQDPHSTAVGNPEYLNTVQPTCVNSTFDSPAHWAQKGSHQISLDNPDYQQDFFPKEAKPNGIFKGSTAENAEYLRVAPQSSEFIGA\n",
      "INFO:root:Predicting 1th chain in ./Davis/cut_seqs/EGFR_1.seq\n",
      "INFO:root:410 residues in this chain.\n",
      "INFO:root:Finished prediction in 11.43 seconds.\n",
      "INFO:root:Saving prediction to ./Davis/omega_2/EGFR_1.pdb\n",
      "INFO:root:Saved\n",
      "INFO:root:Done!\n"
     ]
    },
    {
     "name": "stderr",
     "output_type": "stream",
     "text": [
      " 98%|█████████▊| 513/522 [4:17:23<05:07, 34.20s/it]"
     ]
    },
    {
     "name": "stdout",
     "output_type": "stream",
     "text": [
      "CSNK1A1.seq\n",
      "INFO:root:Reading ./Davis/cut_seqs/CSNK1A1.seq\n",
      "MASSSGSKAEFIVGGKYKLVRKIGSGSFGDIYLAINITNGEEVAVKLESQKARHPQLLYESKLYKILQGGVGIPHIRWYGQEKDYNVLVMDLLGPSLEDLFNFCSRRFTMKTVLMLADQMISRIEYVHTKNFIHRDIKPDNFLMGIGRHCNKLFLIDFGLAKKYRDNRTRQHIPYREDKNLTGTARYASINAHLGIEQSRRDDMESLGYVLMYFNRTSLPWQGLKAATKKQKYEKISEKKMSTPVEVLCKGFPAEFAMYLNYCRGLRFEEAPDYMYLRQLFRILFRTLNHQYDYTFDWTMLKQKAAQQAASSSGQGQQAQTPTGKQTDKTKSNMKGF\n",
      "INFO:root:Predicting 1th chain in ./Davis/cut_seqs/CSNK1A1.seq\n",
      "INFO:root:337 residues in this chain.\n",
      "INFO:root:Finished prediction in 7.18 seconds.\n",
      "INFO:root:Saving prediction to ./Davis/omega_2/CSNK1A1.pdb\n",
      "INFO:root:Saved\n",
      "INFO:root:Done!\n"
     ]
    },
    {
     "name": "stderr",
     "output_type": "stream",
     "text": [
      " 98%|█████████▊| 514/522 [4:17:30<03:29, 26.18s/it]"
     ]
    },
    {
     "name": "stdout",
     "output_type": "stream",
     "text": [
      "KIT_1.seq\n",
      "INFO:root:Reading ./Davis/cut_seqs/KIT_1.seq\n",
      "THGRITKICDFGLARDIKNDSNYVVKGNARLPVKWMAPESIFNCVYTFESDVWSYGIFLWELFSLGSSPYPGMPVDSKFYKMIKEGFRMLSPEHAPAEMYDIMKTCWDADPLKRPTFKQIVQLIEKQISESTNHIYSNLANCSPNRQKPVVDHSVRINSVGSTASSSQPLLVHDDV\n",
      "INFO:root:Predicting 1th chain in ./Davis/cut_seqs/KIT_1.seq\n",
      "INFO:root:176 residues in this chain.\n",
      "INFO:root:Finished prediction in 1.69 seconds.\n",
      "INFO:root:Saving prediction to ./Davis/omega_2/KIT_1.pdb\n",
      "INFO:root:Saved\n",
      "INFO:root:Done!\n"
     ]
    },
    {
     "name": "stderr",
     "output_type": "stream",
     "text": [
      " 99%|█████████▊| 515/522 [4:17:32<02:12, 18.91s/it]"
     ]
    },
    {
     "name": "stdout",
     "output_type": "stream",
     "text": [
      "MYLK4.seq\n",
      "INFO:root:Reading ./Davis/cut_seqs/MYLK4.seq\n",
      "MLKVKRLEEFNTCYNSNQLEKMAFFQCREEVEKVKCFLEKNSGDQDSRSGHNEAKEVWSNADLTERMPVKSKRTSALAVDIPAPPAPFDHRIVTAKQGAVNSFYTVSKTEILGGGRFGQVHKCEETATGLKLAAKIIKTRGMKDKEEVKNEISVMNQLDHANLIQLYDAFESKNDIVLVMEYVDGGELFDRIIDESYNLTELDTILFMKQICEGIRHMHQMYILHLDLKPENILCVNRDAKQIKIIDFGLARRYKPREKLKVNFGTPEFLAPEVVNYDFVSFPTDMWSVGVIAYMLLSGLSPFLGDNDAETLNNILACRWDLEDEEFQDISEEAKEFISKLLIKEKSWRISASEALKHPWLSDHKLHSRLNAQKKKNRGSDAQDFVTK\n",
      "INFO:root:Predicting 1th chain in ./Davis/cut_seqs/MYLK4.seq\n",
      "INFO:root:388 residues in this chain.\n",
      "INFO:root:Finished prediction in 10.08 seconds.\n",
      "INFO:root:Saving prediction to ./Davis/omega_2/MYLK4.pdb\n",
      "INFO:root:Saved\n",
      "INFO:root:Done!\n"
     ]
    },
    {
     "name": "stderr",
     "output_type": "stream",
     "text": [
      " 99%|█████████▉| 516/522 [4:17:43<01:38, 16.41s/it]"
     ]
    },
    {
     "name": "stdout",
     "output_type": "stream",
     "text": [
      "RIOK3.seq\n",
      "INFO:root:Reading ./Davis/cut_seqs/RIOK3.seq\n",
      "MDLVGVASPEPGTAAAWGPSKCPWAIPQNTISCSLADVMSEQLAKELQLEEEAAVFPEVAVAEGPFITGENIDTSSDLMLAQMLQMEYDREYDAQLRREEKKFNGDSKVSISFENYRKVHPYEDSDSSEDEVDWQDTRDDPYRPAKPVPTPKKGFIGKGKDITTKHDEVVCGRKNTARMENFAPEFQVGDGIGMDLKLSNHVFNALKQHAYSEERRSARLHEKKEHSTAEKAVDPKTRLLMYKMVNSGMLETITGCISTGKESVVFHAYGGSMEDEKEDSKVIPTECAIKVFKTTLNEFKNRDKYIKDDFRFKDRFSKLNPRKIIRMWAEKEMHNLARMQRAGIPCPTVVLLKKHILVMSFIGHDQVPAPKLKEVKLNSEEMKEAYYQTLHLMRQLYHECTLVHADLSEYNMLWHAGKVWLIDVSQSVEPTHPHGLEFLFRDCRNVSQFFQKGGVKEALSERELFNAVSGLNITADNEADFLAEIEALEKMNEDHVQKNGRKAASFLKDDGDPPLLYDE\n",
      "INFO:root:Predicting 1th chain in ./Davis/cut_seqs/RIOK3.seq\n",
      "INFO:root:519 residues in this chain.\n",
      "INFO:root:Finished prediction in 20.47 seconds.\n",
      "INFO:root:Saving prediction to ./Davis/omega_2/RIOK3.pdb\n",
      "INFO:root:Saved\n",
      "INFO:root:Done!\n"
     ]
    },
    {
     "name": "stderr",
     "output_type": "stream",
     "text": [
      " 99%|█████████▉| 517/522 [4:18:04<01:28, 17.77s/it]"
     ]
    },
    {
     "name": "stdout",
     "output_type": "stream",
     "text": [
      "TAOK2_0.seq\n",
      "INFO:root:Reading ./Davis/cut_seqs/TAOK2_0.seq\n",
      "MPAGGRAGSLKDPDVAELFFKDDPEKLFSDLREIGHGSFGAVYFARDVRNSEVVAIKKMSYSGKQSNEKWQDIIKEVRFLQKLRHPNTIQYRGCYLREHTAWLVMEYCLGSASDLLEVHKKPLQEVEIAAVTHGALQGLAYLHSHNMIHRDVKAGNILLSEPGLVKLGDFGSASIMAPANSFVGTPYWMAPEVILAMDEGQYDGKVDVWSLGITCIELAERKPPLFNMNAMSALYHIAQNESPVLQSGHWSEYFRNFVDSCLQKIPQDRPTSEVLLKHRFVLRERPPTVIMDLIQRTKDAVRELDNLQYRKMKKILFQEAPNGPGAEAPEEEEEAEPYMHRAGTLTSLESSHSVPSMSISASSQSSSVNSLADASDNEEEEEEEEEEEEEEEGPEAREMAMMQEGEHTVTSHSSIIHRLPGSDNLYDDPYQPEITPSPLQPPAAPAPTSTTSSARRRAYCRNRDHFATIRTASLVSRQIQEHEQDSALREQLSGYKRMRRQHQKQLLALESRLRGEREEHSARLQRELEAQRAGFGAEAEKLARRHQAIGEKEARAAQAEERKFQQHILGQQKKELAALLEAQKRTYKLRKEQLKEELQENPSTPKREKAEWLLRQKEQLQQCQAEEEAGLLRRQRQYFELQCRQYKRKMLLARHSLDQDLLREDLNKKQTQKDLECALLLRQHEATRELELRQLQAVQRTRAELTRLQHQTELGNQLEYNKRREQELRQKHAAQVRQQPKSLKVRAGQRPPGLPLPIPGALGPPNTGTPIEQQPCSPGQEAVLDQRMLGEEEEAVGERR\n",
      "INFO:root:Predicting 1th chain in ./Davis/cut_seqs/TAOK2_0.seq\n",
      "INFO:root:800 residues in this chain.\n",
      "INFO:root:Finished prediction in 57.09 seconds.\n",
      "INFO:root:Saving prediction to ./Davis/omega_2/TAOK2_0.pdb\n",
      "INFO:root:Saved\n",
      "INFO:root:Done!\n"
     ]
    },
    {
     "name": "stderr",
     "output_type": "stream",
     "text": [
      " 99%|█████████▉| 518/522 [4:19:02<01:59, 29.83s/it]"
     ]
    },
    {
     "name": "stdout",
     "output_type": "stream",
     "text": [
      "MAPKAPK5.seq\n",
      "INFO:root:Reading ./Davis/cut_seqs/MAPKAPK5.seq\n",
      "MSEESDMDKAIKETSILEEYSINWTQKLGAGISGPVRVCVKKSTQERFALKILLDRPKARNEVRLHMMCATHPNIVQIIEVFANSVQFPHESSPRARLLIVMEMMEGGELFHRISQHRHFTEKQASQVTKQIALALRHCHLLNIAHRDLKPENLLFKDNSLDAPVKLCDFGFAKIDQGDLMTPQFTPYYVAPQVLEAQRRHQKEKSGIIPTSPTPYTYNKSCDLWSLGVIIYVMLCGYPPFYSKHHSRTIPKDMRRKIMTGSFEFPEEEWSQISEMAKDVVRKLLKVKPEERLTIEGVLDHPWLNSTEALDNVLPSAQLMMDKAVVAGIQQAHAEQLANMRIQDLKVSLKPLHSVNNPILRKRKLLGTKPKDSVYIHDHENGAEDSNVALEKLRDVIAQCILPQAGKGENEDEKLNEVMQEAWKYNRECKLLRDTLQSFSWNGRGFTDKVDRLKLAEIVKQVIEEQTTSHESQ\n",
      "INFO:root:Predicting 1th chain in ./Davis/cut_seqs/MAPKAPK5.seq\n",
      "INFO:root:473 residues in this chain.\n",
      "INFO:root:Finished prediction in 16.44 seconds.\n",
      "INFO:root:Saving prediction to ./Davis/omega_2/MAPKAPK5.pdb\n",
      "INFO:root:Saved\n",
      "INFO:root:Done!\n"
     ]
    },
    {
     "name": "stderr",
     "output_type": "stream",
     "text": [
      " 99%|█████████▉| 519/522 [4:19:18<01:17, 25.95s/it]"
     ]
    },
    {
     "name": "stdout",
     "output_type": "stream",
     "text": [
      "BRAF.seq\n",
      "INFO:root:Reading ./Davis/cut_seqs/BRAF.seq\n",
      "MAALSGGGGGGAEPGQALFNGDMEPEAGAGAGAAASSAADPAIPEEVWNIKQMIKLTQEHIEALLDKFGGEHNPPSIYLEAYEEYTSKLDALQQREQQLLESLGNGTDFSVSSSASMDTVTSSSSSSLSVLPSSLSVFQNPTDVARSNPKSPQKPIVRVFLPNKQRTVVPARCGVTVRDSLKKALMMRGLIPECCAVYRIQDGEKKPIGWDTDISWLTGEELHVEVLENVPLTTHNFVRKTFFTLAFCDFCRKLLFQGFRCQTCGYKFHQRCSTEVPLMCVNYDQLDLLFVSKFFEHHPIPQEEASLAETALTSGSSPSAPASDSIGPQILTSPSPSKSIPIPQPFRPADEDHRNQFGQRDRSSSAPNVHINTIEPVNIDDLIRDQGFRGDGGSTTGLSATPPASLPGSLTNVKALQKSPGPQRERKSSSSSEDRNRMKTLGRRDSSDDWEIPDGQITVGQRIGSGSFGTVYKGKWHGDVAVKMLNVTAPTPQQLQAFKNEVGVLRKTRHVNILLFMGYSTKPQLAIVTQWCEGSSLYHHLHIIETKFEMIKLIDIARQTAQGMDYLHAKSIIHRDLKSNNIFLHEDLTVKIGDFGLATVKSRWSGSHQFEQLSGSILWMAPEVIRMQDKNPYSFQSDVYAFGIVLYELMTGQLPYSNINNRDQIIFMVGRGYLSPDLSKVRSNCPKAMKRLMAECLKKKRDERPLFPQILASIELLARSLPKIHRSASEPSLNRAGFQTEDFSLYACASPKTPIQAGGYGAFPVH\n",
      "INFO:root:Predicting 1th chain in ./Davis/cut_seqs/BRAF.seq\n",
      "INFO:root:766 residues in this chain.\n",
      "INFO:root:Finished prediction in 54.46 seconds.\n",
      "INFO:root:Saving prediction to ./Davis/omega_2/BRAF.pdb\n",
      "INFO:root:Saved\n",
      "INFO:root:Done!\n"
     ]
    },
    {
     "name": "stderr",
     "output_type": "stream",
     "text": [
      "100%|█████████▉| 520/522 [4:20:14<01:09, 34.77s/it]"
     ]
    },
    {
     "name": "stdout",
     "output_type": "stream",
     "text": [
      "PIK4CB_0.seq\n",
      "INFO:root:Reading ./Davis/cut_seqs/PIK4CB_0.seq\n",
      "MGDTVVEPAPLKPTSEPTSGPPGNNGGSLLSVITEGVGELSVIDPEVAQKACQEVLEKVKLLHGGVAVSSRGTPLELVNGDGVDSEIRCLDDPPAQIREEEDEMGAAVASGTAKGARRRRQNNSAKQSWLLRLFESKLFDISMAISYLYNSKEPGVQAYIGNRLFCFRNEDVDFYLPQLLNMYIHMDEDVGDAIKPYIVHRCRQSINFSLQCALLLGAYSSDMHISTQRHSRGTKLRKLILSDELKPAHRKRELPSLSPAPDTGLSPSKRTHQRSKSDATASISLSSNLKRTASNPKVENEDEELSSSTESIDNSFSSPVRLAPEREFIKSLMAIGKRLATLPTKEQKTQRLISELSLLNHKLPARVWLPTAGFDHHVVRVPHTQAVVLNSKDKAPYLIYVEVLECENFDTTSVPARIPENRIRSTRSVENLPECGITHEQRAGSFSTVPNYDNDDEAWSVDDIGELQVELPEVHTNSCDNISQFSVDSITSQESKEPVFIAAGDIRRRLSEQLAHTPTAFKRDPEDPSAVALKEPWQEKVRRIREGSPYGHLPNWRLLSVIVKCGDDLRQELLAFQVLKQLQSIWEQERVPLWIKPYKILVISADSGMIEPVVNAVSIHQVKKQSQLSLLDYFLQEHGSYTTEAFLSAQRNFVQSCAGYCLVCYLLQVKDRHNGNILLDAEGHIIHIDFGFILSSSPRNLGFETSAFKLTTEFVDVMGGLDGDMFNYYKMLMLQGLIAARKHMDKVVQIVEIMQQGSQLPCFHGSSTIRNLKERFHMSMTEEQLQLLVEQMVDGSMRSI\n",
      "INFO:root:Predicting 1th chain in ./Davis/cut_seqs/PIK4CB_0.seq\n",
      "INFO:root:800 residues in this chain.\n",
      "INFO:root:Finished prediction in 57.04 seconds.\n",
      "INFO:root:Saving prediction to ./Davis/omega_2/PIK4CB_0.pdb\n",
      "INFO:root:Saved\n",
      "INFO:root:Done!\n"
     ]
    },
    {
     "name": "stderr",
     "output_type": "stream",
     "text": [
      "100%|█████████▉| 521/522 [4:21:12<00:41, 41.71s/it]"
     ]
    },
    {
     "name": "stdout",
     "output_type": "stream",
     "text": [
      "PIK3C2B_2.seq\n",
      "INFO:root:Reading ./Davis/cut_seqs/PIK3C2B_2.seq\n",
      "NVLLGEVNIRLRELDLAQEKTGWFALGSRSHGTL\n",
      "INFO:root:Predicting 1th chain in ./Davis/cut_seqs/PIK3C2B_2.seq\n",
      "INFO:root:34 residues in this chain.\n",
      "INFO:root:Finished prediction in 0.48 seconds.\n",
      "INFO:root:Saving prediction to ./Davis/omega_2/PIK3C2B_2.pdb\n",
      "INFO:root:Saved\n",
      "INFO:root:Done!\n"
     ]
    },
    {
     "name": "stderr",
     "output_type": "stream",
     "text": [
      "100%|██████████| 522/522 [4:21:12<00:00, 30.02s/it]\n"
     ]
    }
   ],
   "source": [
    "input_dir = './Davis/cut_seqs'\n",
    "output_dir = './Davis/omega_2'\n",
    "model = None\n",
    "already = os.listdir(output_dir)\n",
    "already = [key.split('.')[0] for key in already]\n",
    "### 如果输入是目录下的所有序列\n",
    "if os.path.isdir(input_dir):\n",
    "    if not os.path.exists(output_dir):\n",
    "        os.system('mkdir '+output_dir)\n",
    "    for f in tqdm(os.listdir(input_dir)):\n",
    "        print(f)\n",
    "        # if f.split('.')[0] in already:\n",
    "        #     continue\n",
    "        if f[-3:] != 'seq':continue\n",
    "        if model == None:\n",
    "            model, args, state_dict, forward_config = getTrainedModel(input_dir+'/'+f, output_dir)\n",
    "            model = model.to('cuda:0')\n",
    "#         try:\n",
    "#             main(model, input_dir+'/'+f, output_dir, args, state_dict, forward_config)\n",
    "#         except Exception as e:\n",
    "#             print('failed:', f, e)\n",
    "            \n",
    "        args.input_file = input_dir+'/'+f\n",
    "        main(model, input_dir+'/'+f, output_dir, args, state_dict, forward_config)\n",
    "else:\n",
    "    args.input_file = input_dir+'/'+input_dir\n",
    "    main(model, input_dir+'/'+input_dir, output_dir, args, state_dict, forward_config)"
   ]
  },
  {
   "cell_type": "code",
   "execution_count": 3,
   "id": "cbbb95a2-26ca-40cc-9319-08317570e7b8",
   "metadata": {},
   "outputs": [
    {
     "data": {
      "text/plain": [
       "dict_keys(['struct_node', 'struct_edge'])"
      ]
     },
     "execution_count": 3,
     "metadata": {},
     "output_type": "execute_result"
    }
   ],
   "source": [
    "with open('./results/demo_feature/2ahm 6m0j_w_gly|Folding@home-2ahm|Folding@home-6m0j_w_gly.pdb.pkl','rb') as f:\n",
    "    demo_re = pkl.load(f)\n",
    "demo_re.keys()"
   ]
  },
  {
   "cell_type": "code",
   "execution_count": 4,
   "id": "13a5671c-fe48-481c-9dbb-c68fc1df7049",
   "metadata": {},
   "outputs": [
    {
     "data": {
      "text/plain": [
       "((194, 384), (194, 194, 128))"
      ]
     },
     "execution_count": 4,
     "metadata": {},
     "output_type": "execute_result"
    }
   ],
   "source": [
    "demo_re['struct_node'].shape, demo_re['struct_edge'].shape"
   ]
  },
  {
   "cell_type": "code",
   "execution_count": 6,
   "id": "1312bd01-6cff-4cc0-a98e-27896c2e4d1c",
   "metadata": {},
   "outputs": [
    {
     "data": {
      "text/plain": [
       "array([[ 3.7012e+00,  1.7529e+00,  1.7559e+00, ..., -1.4660e+03,\n",
       "        -2.5109e+01, -4.1938e+01],\n",
       "       [ 7.3320e+00, -2.5469e+01, -1.6980e-01, ..., -1.4570e+03,\n",
       "         3.8062e+01, -5.0719e+01],\n",
       "       [-2.9727e+00,  3.5344e+01,  1.3516e+01, ..., -1.7870e+03,\n",
       "         6.1781e+01, -4.8828e+00],\n",
       "       ...,\n",
       "       [-1.1211e+01,  2.7859e+01, -1.1260e+00, ..., -1.4540e+03,\n",
       "         2.5969e+01, -9.0156e+00],\n",
       "       [-4.7594e+01, -3.1781e+01,  5.4188e+01, ..., -1.1640e+03,\n",
       "        -4.7266e+00, -1.6969e+01],\n",
       "       [-1.6469e+01, -1.5492e+01,  2.3469e+01, ..., -1.6540e+03,\n",
       "        -1.4320e+01, -1.5922e+01]], dtype=float16)"
      ]
     },
     "execution_count": 6,
     "metadata": {},
     "output_type": "execute_result"
    }
   ],
   "source": [
    "demo_re['struct_node']"
   ]
  }
 ],
 "metadata": {
  "kernelspec": {
   "display_name": "paddle2",
   "language": "python",
   "name": "paddle2"
  },
  "language_info": {
   "codemirror_mode": {
    "name": "ipython",
    "version": 3
   },
   "file_extension": ".py",
   "mimetype": "text/x-python",
   "name": "python",
   "nbconvert_exporter": "python",
   "pygments_lexer": "ipython3",
   "version": "3.8.17"
  }
 },
 "nbformat": 4,
 "nbformat_minor": 5
}
